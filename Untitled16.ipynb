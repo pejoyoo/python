{
 "cells": [
  {
   "cell_type": "code",
   "execution_count": 1,
   "metadata": {},
   "outputs": [],
   "source": [
    "import numpy as np # Data science computing tools\n",
    "import matplotlib.pyplot as plt # Numerical tools\n",
    "import pandas as pd # Visualization\n",
    "import seaborn as sns # Advanced API of Matplotlib\n",
    "from sklearn.model_selection import train_test_split,GridSearchCV # Divide data test and train set/Automatic parameter adjustment\n",
    "from sklearn.preprocessing import StandardScaler # De mean and variance normalization\n",
    "from sklearn.metrics import confusion_matrix,classification_report,roc_curve,accuracy_score,auc\n",
    " # Confusion matrix/Show main classification indicators/Receiver operating characteristic/Classification accuracy score/Area Under Curve\n",
    "from sklearn.linear_model import LogisticRegression # Logistic regression classification\n",
    "from sklearn.svm import SVC #svm.SVC classification\n",
    "from sklearn.neighbors import KNeighborsClassifier #KNN classification\n",
    "from sklearn.ensemble import RandomForestClassifier,AdaBoostClassifier #Randomforest classification\n",
    "from keras.utils import np_utils # Be similar to tf.one_ hot()\n",
    "from keras.models import Sequential,load_model # sequential model/load model\n",
    "from keras.layers import Dense,Dropout,Activation,Conv2D,MaxPooling2D,Flatten \n",
    " # Fully connected neural network layer/Dropout layer to prevent over fitting/Convolution neural network/MaxPooling layer/Flatten layer\n",
    "import pickle # ackaging Model\n",
    "%matplotlib inline \n",
    " # Drawing plot in notebook\n"
   ]
  },
  {
   "cell_type": "code",
   "execution_count": 2,
   "metadata": {},
   "outputs": [],
   "source": [
    "df=pd.read_csv('data\\diabetes1.csv') # Loading the dataset"
   ]
  },
  {
   "cell_type": "code",
   "execution_count": 3,
   "metadata": {},
   "outputs": [
    {
     "data": {
      "text/html": [
       "<div>\n",
       "<style scoped>\n",
       "    .dataframe tbody tr th:only-of-type {\n",
       "        vertical-align: middle;\n",
       "    }\n",
       "\n",
       "    .dataframe tbody tr th {\n",
       "        vertical-align: top;\n",
       "    }\n",
       "\n",
       "    .dataframe thead th {\n",
       "        text-align: right;\n",
       "    }\n",
       "</style>\n",
       "<table border=\"1\" class=\"dataframe\">\n",
       "  <thead>\n",
       "    <tr style=\"text-align: right;\">\n",
       "      <th></th>\n",
       "      <th>Pregnancies</th>\n",
       "      <th>Glucose</th>\n",
       "      <th>BloodPressure</th>\n",
       "      <th>SkinThickness</th>\n",
       "      <th>Insulin</th>\n",
       "      <th>BMI</th>\n",
       "      <th>DiabetesPedigreeFunction</th>\n",
       "      <th>Age</th>\n",
       "      <th>Outcome</th>\n",
       "    </tr>\n",
       "  </thead>\n",
       "  <tbody>\n",
       "    <tr>\n",
       "      <th>0</th>\n",
       "      <td>6</td>\n",
       "      <td>148</td>\n",
       "      <td>72</td>\n",
       "      <td>35</td>\n",
       "      <td>0</td>\n",
       "      <td>33.6</td>\n",
       "      <td>0.627</td>\n",
       "      <td>50</td>\n",
       "      <td>1</td>\n",
       "    </tr>\n",
       "    <tr>\n",
       "      <th>1</th>\n",
       "      <td>1</td>\n",
       "      <td>85</td>\n",
       "      <td>66</td>\n",
       "      <td>29</td>\n",
       "      <td>0</td>\n",
       "      <td>26.6</td>\n",
       "      <td>0.351</td>\n",
       "      <td>31</td>\n",
       "      <td>0</td>\n",
       "    </tr>\n",
       "    <tr>\n",
       "      <th>2</th>\n",
       "      <td>8</td>\n",
       "      <td>183</td>\n",
       "      <td>64</td>\n",
       "      <td>0</td>\n",
       "      <td>0</td>\n",
       "      <td>23.3</td>\n",
       "      <td>0.672</td>\n",
       "      <td>32</td>\n",
       "      <td>1</td>\n",
       "    </tr>\n",
       "    <tr>\n",
       "      <th>3</th>\n",
       "      <td>1</td>\n",
       "      <td>89</td>\n",
       "      <td>66</td>\n",
       "      <td>23</td>\n",
       "      <td>94</td>\n",
       "      <td>28.1</td>\n",
       "      <td>0.167</td>\n",
       "      <td>21</td>\n",
       "      <td>0</td>\n",
       "    </tr>\n",
       "    <tr>\n",
       "      <th>4</th>\n",
       "      <td>0</td>\n",
       "      <td>137</td>\n",
       "      <td>40</td>\n",
       "      <td>35</td>\n",
       "      <td>168</td>\n",
       "      <td>43.1</td>\n",
       "      <td>2.288</td>\n",
       "      <td>33</td>\n",
       "      <td>1</td>\n",
       "    </tr>\n",
       "    <tr>\n",
       "      <th>...</th>\n",
       "      <td>...</td>\n",
       "      <td>...</td>\n",
       "      <td>...</td>\n",
       "      <td>...</td>\n",
       "      <td>...</td>\n",
       "      <td>...</td>\n",
       "      <td>...</td>\n",
       "      <td>...</td>\n",
       "      <td>...</td>\n",
       "    </tr>\n",
       "    <tr>\n",
       "      <th>763</th>\n",
       "      <td>10</td>\n",
       "      <td>101</td>\n",
       "      <td>76</td>\n",
       "      <td>48</td>\n",
       "      <td>180</td>\n",
       "      <td>32.9</td>\n",
       "      <td>0.171</td>\n",
       "      <td>63</td>\n",
       "      <td>0</td>\n",
       "    </tr>\n",
       "    <tr>\n",
       "      <th>764</th>\n",
       "      <td>2</td>\n",
       "      <td>122</td>\n",
       "      <td>70</td>\n",
       "      <td>27</td>\n",
       "      <td>0</td>\n",
       "      <td>36.8</td>\n",
       "      <td>0.340</td>\n",
       "      <td>27</td>\n",
       "      <td>0</td>\n",
       "    </tr>\n",
       "    <tr>\n",
       "      <th>765</th>\n",
       "      <td>5</td>\n",
       "      <td>121</td>\n",
       "      <td>72</td>\n",
       "      <td>23</td>\n",
       "      <td>112</td>\n",
       "      <td>26.2</td>\n",
       "      <td>0.245</td>\n",
       "      <td>30</td>\n",
       "      <td>0</td>\n",
       "    </tr>\n",
       "    <tr>\n",
       "      <th>766</th>\n",
       "      <td>1</td>\n",
       "      <td>126</td>\n",
       "      <td>60</td>\n",
       "      <td>0</td>\n",
       "      <td>0</td>\n",
       "      <td>30.1</td>\n",
       "      <td>0.349</td>\n",
       "      <td>47</td>\n",
       "      <td>1</td>\n",
       "    </tr>\n",
       "    <tr>\n",
       "      <th>767</th>\n",
       "      <td>1</td>\n",
       "      <td>93</td>\n",
       "      <td>70</td>\n",
       "      <td>31</td>\n",
       "      <td>0</td>\n",
       "      <td>30.4</td>\n",
       "      <td>0.315</td>\n",
       "      <td>23</td>\n",
       "      <td>0</td>\n",
       "    </tr>\n",
       "  </tbody>\n",
       "</table>\n",
       "<p>768 rows × 9 columns</p>\n",
       "</div>"
      ],
      "text/plain": [
       "     Pregnancies  Glucose  BloodPressure  SkinThickness  Insulin   BMI  \\\n",
       "0              6      148             72             35        0  33.6   \n",
       "1              1       85             66             29        0  26.6   \n",
       "2              8      183             64              0        0  23.3   \n",
       "3              1       89             66             23       94  28.1   \n",
       "4              0      137             40             35      168  43.1   \n",
       "..           ...      ...            ...            ...      ...   ...   \n",
       "763           10      101             76             48      180  32.9   \n",
       "764            2      122             70             27        0  36.8   \n",
       "765            5      121             72             23      112  26.2   \n",
       "766            1      126             60              0        0  30.1   \n",
       "767            1       93             70             31        0  30.4   \n",
       "\n",
       "     DiabetesPedigreeFunction  Age  Outcome  \n",
       "0                       0.627   50        1  \n",
       "1                       0.351   31        0  \n",
       "2                       0.672   32        1  \n",
       "3                       0.167   21        0  \n",
       "4                       2.288   33        1  \n",
       "..                        ...  ...      ...  \n",
       "763                     0.171   63        0  \n",
       "764                     0.340   27        0  \n",
       "765                     0.245   30        0  \n",
       "766                     0.349   47        1  \n",
       "767                     0.315   23        0  \n",
       "\n",
       "[768 rows x 9 columns]"
      ]
     },
     "execution_count": 3,
     "metadata": {},
     "output_type": "execute_result"
    }
   ],
   "source": [
    "df.describe() # basic statistic details about the data\n",
    "df"
   ]
  },
  {
   "cell_type": "code",
   "execution_count": 4,
   "metadata": {
    "scrolled": true
   },
   "outputs": [
    {
     "data": {
      "image/png": "[encoded data removed]",
      "text/plain": [
       "<Figure size 720x288 with 1 Axes>"
      ]
     },
     "metadata": {
      "needs_background": "light"
     },
     "output_type": "display_data"
    }
   ],
   "source": [
    "#View and visualize missing values in the sample\n",
    "z=(df==0).sum(axis=0)\n",
    "z=pd.DataFrame(z)\n",
    "z.columns=['Zeros Count']\n",
    "z.drop('Outcome',inplace=True)\n",
    "z.plot(kind='bar',stacked=True,figsize=(10,4),grid=False)\n",
    "plt.show()"
   ]
  },
  {
   "cell_type": "code",
   "execution_count": 5,
   "metadata": {},
   "outputs": [
    {
     "name": "stdout",
     "output_type": "stream",
     "text": [
      "Pregnancies                   0\n",
      "Glucose                       5\n",
      "BloodPressure                35\n",
      "SkinThickness               227\n",
      "Insulin                     374\n",
      "BMI                          11\n",
      "DiabetesPedigreeFunction      0\n",
      "Age                           0\n",
      "Outcome                       0\n",
      "dtype: int64\n"
     ]
    }
   ],
   "source": [
    "df_copy = df.copy(deep = True) # Create a copy to avoid affecting the original data\n",
    "df_copy[['Glucose','BloodPressure','SkinThickness','Insulin','BMI']] =\\\n",
    "df_copy[['Glucose','BloodPressure','SkinThickness','Insulin','BMI']].replace(0,np.NaN)\n",
    "# Replace the 0 value with a null value\n",
    "print(df_copy.isnull().sum()) # showing the count of NaNs"
   ]
  },
  {
   "cell_type": "code",
   "execution_count": 6,
   "metadata": {},
   "outputs": [
    {
     "data": {
      "image/png": "[encoded data removed]",
      "text/plain": [
       "<Figure size 576x576 with 2 Axes>"
      ]
     },
     "metadata": {
      "needs_background": "light"
     },
     "output_type": "display_data"
    }
   ],
   "source": [
    "datacor=np.corrcoef(df,rowvar=0)# Pairwise calculation of Pearson product\n",
    "datacor=pd.DataFrame(data=datacor,columns=df.columns,index=df.columns)\n",
    "plt.figure(figsize=(8,8))# Set the size of the image\n",
    "ax=sns.heatmap(datacor,square=True,annot=True,\n",
    "              linewidth=0.5,cmap='YlGnBu',\n",
    "              cbar_kws={'fraction':0.046,'pad':0.03}) # Heat mapping\n",
    "ax.set_title('correlation')\n",
    "plt.show()"
   ]
  },
  {
   "cell_type": "code",
   "execution_count": 7,
   "metadata": {},
   "outputs": [],
   "source": [
    "#Fill in the null value with the median according to the property and the outcome\n",
    "df_copy.loc[(df_copy['Outcome']==0)&(df_copy['Glucose'].isnull()),'Glucose']=107.0\n",
    "df_copy.loc[(df_copy['Outcome']==1)&(df_copy['Glucose'].isnull()),'Glucose']=140.0\n",
    "df_copy.loc[(df_copy['Outcome']==0)&(df_copy['BloodPressure'].isnull()),'BloodPressure']=70.0\n",
    "df_copy.loc[(df_copy['Outcome']==1)&(df_copy['BloodPressure'].isnull()),'BloodPressure']=74.5\n",
    "df_copy.loc[(df_copy['Outcome']==0)&(df_copy['Insulin'].isnull()),'Insulin']=102.5\n",
    "df_copy.loc[(df_copy['Outcome']==1)&(df_copy['Insulin'].isnull()),'Insulin']=169.5\n",
    "df_copy.loc[(df_copy['Outcome']==0)&(df_copy['BMI'].isnull()),'BMI']=30.1\n",
    "df_copy.loc[(df_copy['Outcome']==1)&(df_copy['BMI'].isnull()),'BMI']=34.3\n",
    "df_copy.loc[(df_copy['Outcome']==0)&(df_copy['SkinThickness'].isnull()),'SkinThickness']=27.0\n",
    "df_copy.loc[(df_copy['Outcome']==1)&(df_copy['SkinThickness'].isnull()),'SkinThickness']=32.0"
   ]
  },
  {
   "cell_type": "code",
   "execution_count": 8,
   "metadata": {},
   "outputs": [
    {
     "data": {
      "text/html": [
       "<div>\n",
       "<style scoped>\n",
       "    .dataframe tbody tr th:only-of-type {\n",
       "        vertical-align: middle;\n",
       "    }\n",
       "\n",
       "    .dataframe tbody tr th {\n",
       "        vertical-align: top;\n",
       "    }\n",
       "\n",
       "    .dataframe thead th {\n",
       "        text-align: right;\n",
       "    }\n",
       "</style>\n",
       "<table border=\"1\" class=\"dataframe\">\n",
       "  <thead>\n",
       "    <tr style=\"text-align: right;\">\n",
       "      <th></th>\n",
       "      <th>Pregnancies</th>\n",
       "      <th>Glucose</th>\n",
       "      <th>BloodPressure</th>\n",
       "      <th>SkinThickness</th>\n",
       "      <th>Insulin</th>\n",
       "      <th>BMI</th>\n",
       "      <th>DiabetesPedigreeFunction</th>\n",
       "      <th>Age</th>\n",
       "      <th>Outcome</th>\n",
       "    </tr>\n",
       "  </thead>\n",
       "  <tbody>\n",
       "    <tr>\n",
       "      <th>count</th>\n",
       "      <td>768.000000</td>\n",
       "      <td>768.000000</td>\n",
       "      <td>768.000000</td>\n",
       "      <td>768.000000</td>\n",
       "      <td>768.000000</td>\n",
       "      <td>768.000000</td>\n",
       "      <td>768.000000</td>\n",
       "      <td>768.000000</td>\n",
       "      <td>768.000000</td>\n",
       "    </tr>\n",
       "    <tr>\n",
       "      <th>mean</th>\n",
       "      <td>3.845052</td>\n",
       "      <td>121.677083</td>\n",
       "      <td>72.389323</td>\n",
       "      <td>29.089844</td>\n",
       "      <td>141.753906</td>\n",
       "      <td>32.434635</td>\n",
       "      <td>0.471876</td>\n",
       "      <td>33.240885</td>\n",
       "      <td>0.348958</td>\n",
       "    </tr>\n",
       "    <tr>\n",
       "      <th>std</th>\n",
       "      <td>3.369578</td>\n",
       "      <td>30.464161</td>\n",
       "      <td>12.106039</td>\n",
       "      <td>8.890820</td>\n",
       "      <td>89.100847</td>\n",
       "      <td>6.880498</td>\n",
       "      <td>0.331329</td>\n",
       "      <td>11.760232</td>\n",
       "      <td>0.476951</td>\n",
       "    </tr>\n",
       "    <tr>\n",
       "      <th>min</th>\n",
       "      <td>0.000000</td>\n",
       "      <td>44.000000</td>\n",
       "      <td>24.000000</td>\n",
       "      <td>7.000000</td>\n",
       "      <td>14.000000</td>\n",
       "      <td>18.200000</td>\n",
       "      <td>0.078000</td>\n",
       "      <td>21.000000</td>\n",
       "      <td>0.000000</td>\n",
       "    </tr>\n",
       "    <tr>\n",
       "      <th>25%</th>\n",
       "      <td>1.000000</td>\n",
       "      <td>99.750000</td>\n",
       "      <td>64.000000</td>\n",
       "      <td>25.000000</td>\n",
       "      <td>102.500000</td>\n",
       "      <td>27.500000</td>\n",
       "      <td>0.243750</td>\n",
       "      <td>24.000000</td>\n",
       "      <td>0.000000</td>\n",
       "    </tr>\n",
       "    <tr>\n",
       "      <th>50%</th>\n",
       "      <td>3.000000</td>\n",
       "      <td>117.000000</td>\n",
       "      <td>72.000000</td>\n",
       "      <td>28.000000</td>\n",
       "      <td>102.500000</td>\n",
       "      <td>32.050000</td>\n",
       "      <td>0.372500</td>\n",
       "      <td>29.000000</td>\n",
       "      <td>0.000000</td>\n",
       "    </tr>\n",
       "    <tr>\n",
       "      <th>75%</th>\n",
       "      <td>6.000000</td>\n",
       "      <td>140.250000</td>\n",
       "      <td>80.000000</td>\n",
       "      <td>32.000000</td>\n",
       "      <td>169.500000</td>\n",
       "      <td>36.600000</td>\n",
       "      <td>0.626250</td>\n",
       "      <td>41.000000</td>\n",
       "      <td>1.000000</td>\n",
       "    </tr>\n",
       "    <tr>\n",
       "      <th>max</th>\n",
       "      <td>17.000000</td>\n",
       "      <td>199.000000</td>\n",
       "      <td>122.000000</td>\n",
       "      <td>99.000000</td>\n",
       "      <td>846.000000</td>\n",
       "      <td>67.100000</td>\n",
       "      <td>2.420000</td>\n",
       "      <td>81.000000</td>\n",
       "      <td>1.000000</td>\n",
       "    </tr>\n",
       "  </tbody>\n",
       "</table>\n",
       "</div>"
      ],
      "text/plain": [
       "       Pregnancies     Glucose  BloodPressure  SkinThickness     Insulin  \\\n",
       "count   768.000000  768.000000     768.000000     768.000000  768.000000   \n",
       "mean      3.845052  121.677083      72.389323      29.089844  141.753906   \n",
       "std       3.369578   30.464161      12.106039       8.890820   89.100847   \n",
       "min       0.000000   44.000000      24.000000       7.000000   14.000000   \n",
       "25%       1.000000   99.750000      64.000000      25.000000  102.500000   \n",
       "50%       3.000000  117.000000      72.000000      28.000000  102.500000   \n",
       "75%       6.000000  140.250000      80.000000      32.000000  169.500000   \n",
       "max      17.000000  199.000000     122.000000      99.000000  846.000000   \n",
       "\n",
       "              BMI  DiabetesPedigreeFunction         Age     Outcome  \n",
       "count  768.000000                768.000000  768.000000  768.000000  \n",
       "mean    32.434635                  0.471876   33.240885    0.348958  \n",
       "std      6.880498                  0.331329   11.760232    0.476951  \n",
       "min     18.200000                  0.078000   21.000000    0.000000  \n",
       "25%     27.500000                  0.243750   24.000000    0.000000  \n",
       "50%     32.050000                  0.372500   29.000000    0.000000  \n",
       "75%     36.600000                  0.626250   41.000000    1.000000  \n",
       "max     67.100000                  2.420000   81.000000    1.000000  "
      ]
     },
     "execution_count": 8,
     "metadata": {},
     "output_type": "execute_result"
    }
   ],
   "source": [
    "df_copy.describe()"
   ]
  },
  {
   "cell_type": "code",
   "execution_count": 9,
   "metadata": {},
   "outputs": [
    {
     "data": {
      "text/plain": [
       "<matplotlib.axes._subplots.AxesSubplot at 0x1971c622a08>"
      ]
     },
     "execution_count": 9,
     "metadata": {},
     "output_type": "execute_result"
    },
    {
     "data": {
      "image/png": "[encoded data removed]",
      "text/plain": [
       "<Figure size 432x288 with 1 Axes>"
      ]
     },
     "metadata": {
      "needs_background": "light"
     },
     "output_type": "display_data"
    }
   ],
   "source": [
    "sns.boxplot(data=df_copy,orient='h',palette='Set3')"
   ]
  },
  {
   "cell_type": "code",
   "execution_count": 10,
   "metadata": {},
   "outputs": [
    {
     "data": {
      "text/plain": [
       "<matplotlib.axes._subplots.AxesSubplot at 0x1971b456848>"
      ]
     },
     "execution_count": 10,
     "metadata": {},
     "output_type": "execute_result"
    },
    {
     "data": {
      "image/png": "[encoded data removed]",
      "text/plain": [
       "<Figure size 432x288 with 1 Axes>"
      ]
     },
     "metadata": {
      "needs_background": "light"
     },
     "output_type": "display_data"
    }
   ],
   "source": [
    "sns.boxplot(data=df_copy.Pregnancies)"
   ]
  },
  {
   "cell_type": "code",
   "execution_count": 11,
   "metadata": {},
   "outputs": [
    {
     "data": {
      "text/plain": [
       "<matplotlib.axes._subplots.AxesSubplot at 0x1971d7d6d88>"
      ]
     },
     "execution_count": 11,
     "metadata": {},
     "output_type": "execute_result"
    },
    {
     "data": {
      "image/png": "[encoded data removed]",
      "text/plain": [
       "<Figure size 432x288 with 1 Axes>"
      ]
     },
     "metadata": {
      "needs_background": "light"
     },
     "output_type": "display_data"
    }
   ],
   "source": [
    "sns.boxplot(data=df_copy.Glucose)"
   ]
  },
  {
   "cell_type": "code",
   "execution_count": 12,
   "metadata": {},
   "outputs": [
    {
     "data": {
      "text/plain": [
       "<matplotlib.axes._subplots.AxesSubplot at 0x1971b43c4c8>"
      ]
     },
     "execution_count": 12,
     "metadata": {},
     "output_type": "execute_result"
    },
    {
     "data": {
      "image/png": "[encoded data removed]",
      "text/plain": [
       "<Figure size 432x288 with 1 Axes>"
      ]
     },
     "metadata": {
      "needs_background": "light"
     },
     "output_type": "display_data"
    }
   ],
   "source": [
    "sns.boxplot(data=df_copy.BMI)"
   ]
  },
  {
   "cell_type": "code",
   "execution_count": 13,
   "metadata": {},
   "outputs": [
    {
     "data": {
      "text/plain": [
       "<matplotlib.axes._subplots.AxesSubplot at 0x1971d893208>"
      ]
     },
     "execution_count": 13,
     "metadata": {},
     "output_type": "execute_result"
    },
    {
     "data": {
      "image/png": "[encoded data removed]",
      "text/plain": [
       "<Figure size 432x288 with 1 Axes>"
      ]
     },
     "metadata": {
      "needs_background": "light"
     },
     "output_type": "display_data"
    }
   ],
   "source": [
    "sns.boxplot(data=df_copy.Insulin)"
   ]
  },
  {
   "cell_type": "code",
   "execution_count": 14,
   "metadata": {},
   "outputs": [
    {
     "data": {
      "text/plain": [
       "102.5    236\n",
       "169.5    138\n",
       "105.0     11\n",
       "140.0      9\n",
       "130.0      9\n",
       "        ... \n",
       "41.0       1\n",
       "25.0       1\n",
       "600.0      1\n",
       "166.0      1\n",
       "59.0       1\n",
       "Name: Insulin, Length: 187, dtype: int64"
      ]
     },
     "execution_count": 14,
     "metadata": {},
     "output_type": "execute_result"
    }
   ],
   "source": [
    "df_copy['Insulin'].value_counts()"
   ]
  },
  {
   "cell_type": "code",
   "execution_count": 15,
   "metadata": {},
   "outputs": [
    {
     "data": {
      "text/plain": [
       "<matplotlib.axes._subplots.AxesSubplot at 0x1971d7cf048>"
      ]
     },
     "execution_count": 15,
     "metadata": {},
     "output_type": "execute_result"
    },
    {
     "data": {
      "image/png": "[encoded data removed]",
      "text/plain": [
       "<Figure size 432x288 with 1 Axes>"
      ]
     },
     "metadata": {
      "needs_background": "light"
     },
     "output_type": "display_data"
    }
   ],
   "source": [
    "sns.boxplot(data=df_copy.BloodPressure)"
   ]
  },
  {
   "cell_type": "code",
   "execution_count": 16,
   "metadata": {},
   "outputs": [
    {
     "data": {
      "text/plain": [
       "<matplotlib.axes._subplots.AxesSubplot at 0x1971d966888>"
      ]
     },
     "execution_count": 16,
     "metadata": {},
     "output_type": "execute_result"
    },
    {
     "data": {
      "image/png": "[encoded data removed]",
      "text/plain": [
       "<Figure size 432x288 with 1 Axes>"
      ]
     },
     "metadata": {
      "needs_background": "light"
     },
     "output_type": "display_data"
    }
   ],
   "source": [
    "sns.boxplot(data=df_copy.SkinThickness)"
   ]
  },
  {
   "cell_type": "code",
   "execution_count": 17,
   "metadata": {},
   "outputs": [
    {
     "data": {
      "text/plain": [
       "<matplotlib.axes._subplots.AxesSubplot at 0x1971d9d7dc8>"
      ]
     },
     "execution_count": 17,
     "metadata": {},
     "output_type": "execute_result"
    },
    {
     "data": {
      "image/png": "[encoded data removed]",
      "text/plain": [
       "<Figure size 432x288 with 1 Axes>"
      ]
     },
     "metadata": {
      "needs_background": "light"
     },
     "output_type": "display_data"
    }
   ],
   "source": [
    "sns.boxplot(data=df_copy.DiabetesPedigreeFunction)"
   ]
  },
  {
   "cell_type": "code",
   "execution_count": 18,
   "metadata": {},
   "outputs": [
    {
     "data": {
      "text/plain": [
       "<matplotlib.axes._subplots.AxesSubplot at 0x1971da3bdc8>"
      ]
     },
     "execution_count": 18,
     "metadata": {},
     "output_type": "execute_result"
    },
    {
     "data": {
      "image/png": "[encoded data removed]",
      "text/plain": [
       "<Figure size 432x288 with 1 Axes>"
      ]
     },
     "metadata": {
      "needs_background": "light"
     },
     "output_type": "display_data"
    }
   ],
   "source": [
    "sns.boxplot(data=df_copy.Age)"
   ]
  },
  {
   "cell_type": "code",
   "execution_count": 19,
   "metadata": {},
   "outputs": [],
   "source": [
    "df_copy.loc[(df_copy['Outcome']==0)&(df_copy['Pregnancies']>13),'Pregnancies']=2\n",
    "df_copy.loc[(df_copy['Outcome']==1)&(df_copy['Pregnancies']>13),'Pregnancies']=4\n",
    "df_copy.loc[(df_copy['Outcome']==0)&(df_copy['BloodPressure']<40),'BloodPressure']=70\n",
    "df_copy.loc[(df_copy['Outcome']==0)&(df_copy['BloodPressure']>103),'BloodPressure']=70\n",
    "df_copy.loc[(df_copy['Outcome']==1)&(df_copy['BloodPressure']<40),'BloodPressure']=74.5\n",
    "df_copy.loc[(df_copy['Outcome']==1)&(df_copy['BloodPressure']>103),'BloodPressure']=74.5\n",
    "df_copy.loc[(df_copy['Outcome']==0)&(df_copy['SkinThickness']>39),'SkinThickness']=27\n",
    "df_copy.loc[(df_copy['Outcome']==0)&(df_copy['SkinThickness']<20),'SkinThickness']=27\n",
    "df_copy.loc[(df_copy['Outcome']==1)&(df_copy['SkinThickness']>39),'SkinThickness']=32\n",
    "df_copy.loc[(df_copy['Outcome']==1)&(df_copy['SkinThickness']<20),'SkinThickness']=32\n",
    "df_copy.loc[(df_copy['Outcome']==0)&(df_copy['Insulin']>270),'Insulin']=102.5\n",
    "df_copy.loc[(df_copy['Outcome']==1)&(df_copy['Insulin']>270),'Insulin']=169.5\n",
    "df_copy.loc[(df_copy['Outcome']==0)&(df_copy['BMI']>48),'BMI']=30.1\n",
    "df_copy.loc[(df_copy['Outcome']==1)&(df_copy['BMI']>48),'BMI']=34.3\n",
    "df_copy.loc[(df_copy['Outcome']==0)&(df_copy['DiabetesPedigreeFunction']>1),'DiabetesPedigreeFunction']=0.336\n",
    "df_copy.loc[(df_copy['Outcome']==1)&(df_copy['DiabetesPedigreeFunction']>1),'DiabetesPedigreeFunction']=0.449\n",
    "df_copy.loc[(df_copy['Outcome']==0)&(df_copy['Age']>61),'Age']=27\n",
    "df_copy.loc[(df_copy['Outcome']==1)&(df_copy['Age']>61),'Age']=36"
   ]
  },
  {
   "cell_type": "code",
   "execution_count": 20,
   "metadata": {},
   "outputs": [
    {
     "data": {
      "text/plain": [
       "<matplotlib.axes._subplots.AxesSubplot at 0x1971dacabc8>"
      ]
     },
     "execution_count": 20,
     "metadata": {},
     "output_type": "execute_result"
    },
    {
     "data": {
      "image/png": "[encoded data removed]",
      "text/plain": [
       "<Figure size 432x288 with 1 Axes>"
      ]
     },
     "metadata": {
      "needs_background": "light"
     },
     "output_type": "display_data"
    }
   ],
   "source": [
    "sns.boxplot(data=df_copy.Pregnancies)"
   ]
  },
  {
   "cell_type": "code",
   "execution_count": 21,
   "metadata": {},
   "outputs": [
    {
     "data": {
      "text/plain": [
       "<matplotlib.axes._subplots.AxesSubplot at 0x1971db09888>"
      ]
     },
     "execution_count": 21,
     "metadata": {},
     "output_type": "execute_result"
    },
    {
     "data": {
      "image/png": "[encoded data removed]",
      "text/plain": [
       "<Figure size 432x288 with 1 Axes>"
      ]
     },
     "metadata": {
      "needs_background": "light"
     },
     "output_type": "display_data"
    }
   ],
   "source": [
    "sns.boxplot(data=df_copy.BloodPressure)"
   ]
  },
  {
   "cell_type": "code",
   "execution_count": 22,
   "metadata": {},
   "outputs": [
    {
     "data": {
      "text/plain": [
       "<matplotlib.axes._subplots.AxesSubplot at 0x1971da27a08>"
      ]
     },
     "execution_count": 22,
     "metadata": {},
     "output_type": "execute_result"
    },
    {
     "data": {
      "image/png": "[encoded data removed]",
      "text/plain": [
       "<Figure size 432x288 with 1 Axes>"
      ]
     },
     "metadata": {
      "needs_background": "light"
     },
     "output_type": "display_data"
    }
   ],
   "source": [
    "sns.boxplot(data=df_copy.SkinThickness)"
   ]
  },
  {
   "cell_type": "code",
   "execution_count": 23,
   "metadata": {},
   "outputs": [
    {
     "data": {
      "text/plain": [
       "<matplotlib.axes._subplots.AxesSubplot at 0x1971dbdb548>"
      ]
     },
     "execution_count": 23,
     "metadata": {},
     "output_type": "execute_result"
    },
    {
     "data": {
      "image/png": "[encoded data removed]",
      "text/plain": [
       "<Figure size 432x288 with 1 Axes>"
      ]
     },
     "metadata": {
      "needs_background": "light"
     },
     "output_type": "display_data"
    }
   ],
   "source": [
    "sns.boxplot(data=df_copy.BMI)"
   ]
  },
  {
   "cell_type": "code",
   "execution_count": 24,
   "metadata": {},
   "outputs": [
    {
     "data": {
      "text/plain": [
       "<matplotlib.axes._subplots.AxesSubplot at 0x1971dbf0bc8>"
      ]
     },
     "execution_count": 24,
     "metadata": {},
     "output_type": "execute_result"
    },
    {
     "data": {
      "image/png": "[encoded data removed]",
      "text/plain": [
       "<Figure size 432x288 with 1 Axes>"
      ]
     },
     "metadata": {
      "needs_background": "light"
     },
     "output_type": "display_data"
    }
   ],
   "source": [
    "sns.boxplot(data=df_copy.DiabetesPedigreeFunction)"
   ]
  },
  {
   "cell_type": "code",
   "execution_count": 25,
   "metadata": {},
   "outputs": [
    {
     "data": {
      "text/plain": [
       "<matplotlib.axes._subplots.AxesSubplot at 0x1971dc98f88>"
      ]
     },
     "execution_count": 25,
     "metadata": {},
     "output_type": "execute_result"
    },
    {
     "data": {
      "image/png": "[encoded data removed]",
      "text/plain": [
       "<Figure size 432x288 with 1 Axes>"
      ]
     },
     "metadata": {
      "needs_background": "light"
     },
     "output_type": "display_data"
    }
   ],
   "source": [
    "sns.boxplot(data=df_copy.Age)"
   ]
  },
  {
   "cell_type": "code",
   "execution_count": 26,
   "metadata": {},
   "outputs": [],
   "source": [
    "#Define the method of finding the median of each feature\n",
    "def median_target(var):\n",
    "    temp=df_copy[df_copy[var].notnull()]\n",
    "    temp=temp[[var,'Outcome']].groupby(['Outcome'])[[var]].median().reset_index()\n",
    "    return temp"
   ]
  },
  {
   "cell_type": "code",
   "execution_count": 27,
   "metadata": {},
   "outputs": [
    {
     "data": {
      "text/html": [
       "<div>\n",
       "<style scoped>\n",
       "    .dataframe tbody tr th:only-of-type {\n",
       "        vertical-align: middle;\n",
       "    }\n",
       "\n",
       "    .dataframe tbody tr th {\n",
       "        vertical-align: top;\n",
       "    }\n",
       "\n",
       "    .dataframe thead th {\n",
       "        text-align: right;\n",
       "    }\n",
       "</style>\n",
       "<table border=\"1\" class=\"dataframe\">\n",
       "  <thead>\n",
       "    <tr style=\"text-align: right;\">\n",
       "      <th></th>\n",
       "      <th>Outcome</th>\n",
       "      <th>Insulin</th>\n",
       "    </tr>\n",
       "  </thead>\n",
       "  <tbody>\n",
       "    <tr>\n",
       "      <th>0</th>\n",
       "      <td>0</td>\n",
       "      <td>102.5</td>\n",
       "    </tr>\n",
       "    <tr>\n",
       "      <th>1</th>\n",
       "      <td>1</td>\n",
       "      <td>169.5</td>\n",
       "    </tr>\n",
       "  </tbody>\n",
       "</table>\n",
       "</div>"
      ],
      "text/plain": [
       "   Outcome  Insulin\n",
       "0        0    102.5\n",
       "1        1    169.5"
      ]
     },
     "execution_count": 27,
     "metadata": {},
     "output_type": "execute_result"
    }
   ],
   "source": [
    "median_target('Insulin')"
   ]
  },
  {
   "cell_type": "code",
   "execution_count": 28,
   "metadata": {},
   "outputs": [
    {
     "data": {
      "text/html": [
       "<div>\n",
       "<style scoped>\n",
       "    .dataframe tbody tr th:only-of-type {\n",
       "        vertical-align: middle;\n",
       "    }\n",
       "\n",
       "    .dataframe tbody tr th {\n",
       "        vertical-align: top;\n",
       "    }\n",
       "\n",
       "    .dataframe thead th {\n",
       "        text-align: right;\n",
       "    }\n",
       "</style>\n",
       "<table border=\"1\" class=\"dataframe\">\n",
       "  <thead>\n",
       "    <tr style=\"text-align: right;\">\n",
       "      <th></th>\n",
       "      <th>Outcome</th>\n",
       "      <th>Glucose</th>\n",
       "    </tr>\n",
       "  </thead>\n",
       "  <tbody>\n",
       "    <tr>\n",
       "      <th>0</th>\n",
       "      <td>0</td>\n",
       "      <td>107.0</td>\n",
       "    </tr>\n",
       "    <tr>\n",
       "      <th>1</th>\n",
       "      <td>1</td>\n",
       "      <td>140.0</td>\n",
       "    </tr>\n",
       "  </tbody>\n",
       "</table>\n",
       "</div>"
      ],
      "text/plain": [
       "   Outcome  Glucose\n",
       "0        0    107.0\n",
       "1        1    140.0"
      ]
     },
     "execution_count": 28,
     "metadata": {},
     "output_type": "execute_result"
    }
   ],
   "source": [
    "median_target('Glucose')"
   ]
  },
  {
   "cell_type": "code",
   "execution_count": 29,
   "metadata": {},
   "outputs": [
    {
     "data": {
      "text/plain": [
       "<matplotlib.axes._subplots.AxesSubplot at 0x1971dd288c8>"
      ]
     },
     "execution_count": 29,
     "metadata": {},
     "output_type": "execute_result"
    },
    {
     "data": {
      "image/png": "[encoded data removed]",
      "text/plain": [
       "<Figure size 432x288 with 1 Axes>"
      ]
     },
     "metadata": {
      "needs_background": "light"
     },
     "output_type": "display_data"
    }
   ],
   "source": [
    "sns.boxplot(data=df_copy.Insulin)"
   ]
  },
  {
   "cell_type": "code",
   "execution_count": 30,
   "metadata": {},
   "outputs": [
    {
     "data": {
      "text/plain": [
       "<matplotlib.axes._subplots.AxesSubplot at 0x1971b01e2c8>"
      ]
     },
     "execution_count": 30,
     "metadata": {},
     "output_type": "execute_result"
    },
    {
     "data": {
      "image/png": "[encoded data removed]",
      "text/plain": [
       "<Figure size 432x288 with 1 Axes>"
      ]
     },
     "metadata": {
      "needs_background": "light"
     },
     "output_type": "display_data"
    }
   ],
   "source": [
    "sns.boxplot(data=df_copy,orient='h',palette='Set3')"
   ]
  },
  {
   "cell_type": "code",
   "execution_count": 31,
   "metadata": {},
   "outputs": [
    {
     "data": {
      "text/plain": [
       "<matplotlib.axes._subplots.AxesSubplot at 0x1971ddd8648>"
      ]
     },
     "execution_count": 31,
     "metadata": {},
     "output_type": "execute_result"
    },
    {
     "data": {
      "image/png": "[encoded data removed]",
      "text/plain": [
       "<Figure size 432x288 with 1 Axes>"
      ]
     },
     "metadata": {
      "needs_background": "light"
     },
     "output_type": "display_data"
    }
   ],
   "source": [
    "sns.boxplot(data=df_copy.Insulin)"
   ]
  },
  {
   "cell_type": "code",
   "execution_count": 32,
   "metadata": {},
   "outputs": [
    {
     "data": {
      "text/plain": [
       "102.5    259\n",
       "169.5    166\n",
       "105.0     11\n",
       "140.0      9\n",
       "130.0      9\n",
       "        ... \n",
       "14.0       1\n",
       "250.0      1\n",
       "86.0       1\n",
       "188.0      1\n",
       "42.0       1\n",
       "Name: Insulin, Length: 142, dtype: int64"
      ]
     },
     "execution_count": 32,
     "metadata": {},
     "output_type": "execute_result"
    }
   ],
   "source": [
    "df_copy['Insulin'].value_counts()"
   ]
  },
  {
   "cell_type": "code",
   "execution_count": 33,
   "metadata": {},
   "outputs": [
    {
     "data": {
      "text/plain": [
       "99.0     17\n",
       "100.0    17\n",
       "129.0    14\n",
       "106.0    14\n",
       "111.0    14\n",
       "         ..\n",
       "182.0     1\n",
       "169.0     1\n",
       "160.0     1\n",
       "62.0      1\n",
       "149.0     1\n",
       "Name: Glucose, Length: 135, dtype: int64"
      ]
     },
     "execution_count": 33,
     "metadata": {},
     "output_type": "execute_result"
    }
   ],
   "source": [
    "df_copy['Glucose'].value_counts()"
   ]
  },
  {
   "cell_type": "code",
   "execution_count": 34,
   "metadata": {},
   "outputs": [
    {
     "data": {
      "text/plain": [
       "<matplotlib.axes._subplots.AxesSubplot at 0x1971de46ac8>"
      ]
     },
     "execution_count": 34,
     "metadata": {},
     "output_type": "execute_result"
    },
    {
     "data": {
      "image/png": "[encoded data removed]",
      "text/plain": [
       "<Figure size 432x288 with 1 Axes>"
      ]
     },
     "metadata": {
      "needs_background": "light"
     },
     "output_type": "display_data"
    }
   ],
   "source": [
    "sns.boxplot(data=df_copy.Glucose)"
   ]
  },
  {
   "cell_type": "code",
   "execution_count": 35,
   "metadata": {},
   "outputs": [],
   "source": [
    "std=StandardScaler()"
   ]
  },
  {
   "cell_type": "code",
   "execution_count": 36,
   "metadata": {},
   "outputs": [],
   "source": [
    "X=df_copy.drop(['Outcome'],1)\n",
    "Y=df_copy['Outcome']"
   ]
  },
  {
   "cell_type": "code",
   "execution_count": 37,
   "metadata": {},
   "outputs": [],
   "source": [
    "X_std=std.fit_transform(X)\n",
    "X_new=pd.DataFrame(data=X_std,columns=X.columns)"
   ]
  },
  {
   "cell_type": "code",
   "execution_count": 38,
   "metadata": {},
   "outputs": [
    {
     "data": {
      "text/html": [
       "<div>\n",
       "<style scoped>\n",
       "    .dataframe tbody tr th:only-of-type {\n",
       "        vertical-align: middle;\n",
       "    }\n",
       "\n",
       "    .dataframe tbody tr th {\n",
       "        vertical-align: top;\n",
       "    }\n",
       "\n",
       "    .dataframe thead th {\n",
       "        text-align: right;\n",
       "    }\n",
       "</style>\n",
       "<table border=\"1\" class=\"dataframe\">\n",
       "  <thead>\n",
       "    <tr style=\"text-align: right;\">\n",
       "      <th></th>\n",
       "      <th>Pregnancies</th>\n",
       "      <th>Glucose</th>\n",
       "      <th>BloodPressure</th>\n",
       "      <th>SkinThickness</th>\n",
       "      <th>Insulin</th>\n",
       "      <th>BMI</th>\n",
       "      <th>DiabetesPedigreeFunction</th>\n",
       "      <th>Age</th>\n",
       "    </tr>\n",
       "  </thead>\n",
       "  <tbody>\n",
       "    <tr>\n",
       "      <th>0</th>\n",
       "      <td>0.676928</td>\n",
       "      <td>0.864625</td>\n",
       "      <td>-0.003025</td>\n",
       "      <td>1.506738</td>\n",
       "      <td>0.977036</td>\n",
       "      <td>0.243965</td>\n",
       "      <td>1.015903</td>\n",
       "      <td>1.778732</td>\n",
       "    </tr>\n",
       "    <tr>\n",
       "      <th>1</th>\n",
       "      <td>-0.853032</td>\n",
       "      <td>-1.204727</td>\n",
       "      <td>-0.560656</td>\n",
       "      <td>-0.008881</td>\n",
       "      <td>-0.474617</td>\n",
       "      <td>-0.878559</td>\n",
       "      <td>-0.266472</td>\n",
       "      <td>-0.102765</td>\n",
       "    </tr>\n",
       "    <tr>\n",
       "      <th>2</th>\n",
       "      <td>1.288911</td>\n",
       "      <td>2.014265</td>\n",
       "      <td>-0.746532</td>\n",
       "      <td>0.748929</td>\n",
       "      <td>0.977036</td>\n",
       "      <td>-1.407749</td>\n",
       "      <td>1.224986</td>\n",
       "      <td>-0.003739</td>\n",
       "    </tr>\n",
       "    <tr>\n",
       "      <th>3</th>\n",
       "      <td>-0.853032</td>\n",
       "      <td>-1.073339</td>\n",
       "      <td>-0.560656</td>\n",
       "      <td>-1.524499</td>\n",
       "      <td>-0.658782</td>\n",
       "      <td>-0.638018</td>\n",
       "      <td>-1.121388</td>\n",
       "      <td>-1.093027</td>\n",
       "    </tr>\n",
       "    <tr>\n",
       "      <th>4</th>\n",
       "      <td>-1.159024</td>\n",
       "      <td>0.503310</td>\n",
       "      <td>-2.977053</td>\n",
       "      <td>1.506738</td>\n",
       "      <td>0.944537</td>\n",
       "      <td>1.767392</td>\n",
       "      <td>0.188864</td>\n",
       "      <td>0.095287</td>\n",
       "    </tr>\n",
       "    <tr>\n",
       "      <th>...</th>\n",
       "      <td>...</td>\n",
       "      <td>...</td>\n",
       "      <td>...</td>\n",
       "      <td>...</td>\n",
       "      <td>...</td>\n",
       "      <td>...</td>\n",
       "      <td>...</td>\n",
       "      <td>...</td>\n",
       "    </tr>\n",
       "    <tr>\n",
       "      <th>763</th>\n",
       "      <td>1.900895</td>\n",
       "      <td>-0.679177</td>\n",
       "      <td>0.368728</td>\n",
       "      <td>-0.514087</td>\n",
       "      <td>1.204534</td>\n",
       "      <td>0.131713</td>\n",
       "      <td>-1.102803</td>\n",
       "      <td>-0.498870</td>\n",
       "    </tr>\n",
       "    <tr>\n",
       "      <th>764</th>\n",
       "      <td>-0.547040</td>\n",
       "      <td>0.010607</td>\n",
       "      <td>-0.188902</td>\n",
       "      <td>-0.514087</td>\n",
       "      <td>-0.474617</td>\n",
       "      <td>0.757119</td>\n",
       "      <td>-0.317581</td>\n",
       "      <td>-0.498870</td>\n",
       "    </tr>\n",
       "    <tr>\n",
       "      <th>765</th>\n",
       "      <td>0.370936</td>\n",
       "      <td>-0.022240</td>\n",
       "      <td>-0.003025</td>\n",
       "      <td>-1.524499</td>\n",
       "      <td>-0.268785</td>\n",
       "      <td>-0.942704</td>\n",
       "      <td>-0.758978</td>\n",
       "      <td>-0.201792</td>\n",
       "    </tr>\n",
       "    <tr>\n",
       "      <th>766</th>\n",
       "      <td>-0.853032</td>\n",
       "      <td>0.141994</td>\n",
       "      <td>-1.118286</td>\n",
       "      <td>0.748929</td>\n",
       "      <td>0.977036</td>\n",
       "      <td>-0.317297</td>\n",
       "      <td>-0.275764</td>\n",
       "      <td>1.481654</td>\n",
       "    </tr>\n",
       "    <tr>\n",
       "      <th>767</th>\n",
       "      <td>-0.853032</td>\n",
       "      <td>-0.941952</td>\n",
       "      <td>-0.188902</td>\n",
       "      <td>0.496326</td>\n",
       "      <td>-0.474617</td>\n",
       "      <td>-0.269189</td>\n",
       "      <td>-0.433738</td>\n",
       "      <td>-0.894975</td>\n",
       "    </tr>\n",
       "  </tbody>\n",
       "</table>\n",
       "<p>768 rows × 8 columns</p>\n",
       "</div>"
      ],
      "text/plain": [
       "     Pregnancies   Glucose  BloodPressure  SkinThickness   Insulin       BMI  \\\n",
       "0       0.676928  0.864625      -0.003025       1.506738  0.977036  0.243965   \n",
       "1      -0.853032 -1.204727      -0.560656      -0.008881 -0.474617 -0.878559   \n",
       "2       1.288911  2.014265      -0.746532       0.748929  0.977036 -1.407749   \n",
       "3      -0.853032 -1.073339      -0.560656      -1.524499 -0.658782 -0.638018   \n",
       "4      -1.159024  0.503310      -2.977053       1.506738  0.944537  1.767392   \n",
       "..           ...       ...            ...            ...       ...       ...   \n",
       "763     1.900895 -0.679177       0.368728      -0.514087  1.204534  0.131713   \n",
       "764    -0.547040  0.010607      -0.188902      -0.514087 -0.474617  0.757119   \n",
       "765     0.370936 -0.022240      -0.003025      -1.524499 -0.268785 -0.942704   \n",
       "766    -0.853032  0.141994      -1.118286       0.748929  0.977036 -0.317297   \n",
       "767    -0.853032 -0.941952      -0.188902       0.496326 -0.474617 -0.269189   \n",
       "\n",
       "     DiabetesPedigreeFunction       Age  \n",
       "0                    1.015903  1.778732  \n",
       "1                   -0.266472 -0.102765  \n",
       "2                    1.224986 -0.003739  \n",
       "3                   -1.121388 -1.093027  \n",
       "4                    0.188864  0.095287  \n",
       "..                        ...       ...  \n",
       "763                 -1.102803 -0.498870  \n",
       "764                 -0.317581 -0.498870  \n",
       "765                 -0.758978 -0.201792  \n",
       "766                 -0.275764  1.481654  \n",
       "767                 -0.433738 -0.894975  \n",
       "\n",
       "[768 rows x 8 columns]"
      ]
     },
     "execution_count": 38,
     "metadata": {},
     "output_type": "execute_result"
    }
   ],
   "source": [
    "X_new"
   ]
  },
  {
   "cell_type": "code",
   "execution_count": 39,
   "metadata": {},
   "outputs": [],
   "source": [
    "from sklearn.model_selection import KFold\n",
    "from sklearn.model_selection import cross_val_score\n",
    "from sklearn.linear_model import LogisticRegression\n",
    "from sklearn.naive_bayes import GaussianNB\n",
    "from sklearn.neighbors import KNeighborsClassifier\n",
    "from sklearn.tree import DecisionTreeClassifier\n",
    "from sklearn.svm import SVC\n",
    "from sklearn.model_selection import train_test_split\n",
    "\n",
    "# 切分数据集为：特征训练集、特征测试集、目标训练集、目标测试集\n",
    "X_train, X_test, Y_train, Y_test = train_test_split(\n",
    "    X_new, Y, random_state=2008, test_size=0.2)"
   ]
  },
  {
   "cell_type": "code",
   "execution_count": 40,
   "metadata": {},
   "outputs": [
    {
     "data": {
      "text/html": [
       "<div>\n",
       "<style scoped>\n",
       "    .dataframe tbody tr th:only-of-type {\n",
       "        vertical-align: middle;\n",
       "    }\n",
       "\n",
       "    .dataframe tbody tr th {\n",
       "        vertical-align: top;\n",
       "    }\n",
       "\n",
       "    .dataframe thead th {\n",
       "        text-align: right;\n",
       "    }\n",
       "</style>\n",
       "<table border=\"1\" class=\"dataframe\">\n",
       "  <thead>\n",
       "    <tr style=\"text-align: right;\">\n",
       "      <th></th>\n",
       "      <th>Pregnancies</th>\n",
       "      <th>Glucose</th>\n",
       "      <th>BloodPressure</th>\n",
       "      <th>SkinThickness</th>\n",
       "      <th>Insulin</th>\n",
       "      <th>BMI</th>\n",
       "      <th>DiabetesPedigreeFunction</th>\n",
       "      <th>Age</th>\n",
       "    </tr>\n",
       "  </thead>\n",
       "  <tbody>\n",
       "    <tr>\n",
       "      <th>147</th>\n",
       "      <td>-0.547040</td>\n",
       "      <td>-0.514943</td>\n",
       "      <td>-0.746532</td>\n",
       "      <td>1.506738</td>\n",
       "      <td>-0.117120</td>\n",
       "      <td>-0.253153</td>\n",
       "      <td>-0.336166</td>\n",
       "      <td>0.194313</td>\n",
       "    </tr>\n",
       "    <tr>\n",
       "      <th>119</th>\n",
       "      <td>0.064944</td>\n",
       "      <td>-0.744871</td>\n",
       "      <td>0.368728</td>\n",
       "      <td>-0.514087</td>\n",
       "      <td>-1.590440</td>\n",
       "      <td>-1.423785</td>\n",
       "      <td>-0.861196</td>\n",
       "      <td>-1.093027</td>\n",
       "    </tr>\n",
       "    <tr>\n",
       "      <th>284</th>\n",
       "      <td>-0.547040</td>\n",
       "      <td>-0.449249</td>\n",
       "      <td>0.740482</td>\n",
       "      <td>0.748929</td>\n",
       "      <td>0.977036</td>\n",
       "      <td>-0.814415</td>\n",
       "      <td>-0.693930</td>\n",
       "      <td>1.976785</td>\n",
       "    </tr>\n",
       "    <tr>\n",
       "      <th>20</th>\n",
       "      <td>-0.241048</td>\n",
       "      <td>0.141994</td>\n",
       "      <td>1.483989</td>\n",
       "      <td>-0.514087</td>\n",
       "      <td>2.396190</td>\n",
       "      <td>1.158021</td>\n",
       "      <td>1.373667</td>\n",
       "      <td>-0.498870</td>\n",
       "    </tr>\n",
       "    <tr>\n",
       "      <th>680</th>\n",
       "      <td>-0.547040</td>\n",
       "      <td>-2.157285</td>\n",
       "      <td>-1.490039</td>\n",
       "      <td>-0.261484</td>\n",
       "      <td>-1.720439</td>\n",
       "      <td>-1.263425</td>\n",
       "      <td>-0.354751</td>\n",
       "      <td>-0.994001</td>\n",
       "    </tr>\n",
       "    <tr>\n",
       "      <th>...</th>\n",
       "      <td>...</td>\n",
       "      <td>...</td>\n",
       "      <td>...</td>\n",
       "      <td>...</td>\n",
       "      <td>...</td>\n",
       "      <td>...</td>\n",
       "      <td>...</td>\n",
       "      <td>...</td>\n",
       "    </tr>\n",
       "    <tr>\n",
       "      <th>230</th>\n",
       "      <td>0.064944</td>\n",
       "      <td>0.667544</td>\n",
       "      <td>1.298112</td>\n",
       "      <td>0.748929</td>\n",
       "      <td>0.977036</td>\n",
       "      <td>1.911716</td>\n",
       "      <td>1.099536</td>\n",
       "      <td>-0.994001</td>\n",
       "    </tr>\n",
       "    <tr>\n",
       "      <th>4</th>\n",
       "      <td>-1.159024</td>\n",
       "      <td>0.503310</td>\n",
       "      <td>-2.977053</td>\n",
       "      <td>1.506738</td>\n",
       "      <td>0.944537</td>\n",
       "      <td>1.767392</td>\n",
       "      <td>0.188864</td>\n",
       "      <td>0.095287</td>\n",
       "    </tr>\n",
       "    <tr>\n",
       "      <th>710</th>\n",
       "      <td>-0.241048</td>\n",
       "      <td>1.193093</td>\n",
       "      <td>-0.746532</td>\n",
       "      <td>-0.514087</td>\n",
       "      <td>-0.474617</td>\n",
       "      <td>-0.140900</td>\n",
       "      <td>-0.526664</td>\n",
       "      <td>-0.795949</td>\n",
       "    </tr>\n",
       "    <tr>\n",
       "      <th>699</th>\n",
       "      <td>0.064944</td>\n",
       "      <td>-0.120781</td>\n",
       "      <td>-0.188902</td>\n",
       "      <td>-0.514087</td>\n",
       "      <td>-0.474617</td>\n",
       "      <td>1.991897</td>\n",
       "      <td>2.302924</td>\n",
       "      <td>-0.597896</td>\n",
       "    </tr>\n",
       "    <tr>\n",
       "      <th>651</th>\n",
       "      <td>-0.853032</td>\n",
       "      <td>-0.153627</td>\n",
       "      <td>-1.118286</td>\n",
       "      <td>-1.524499</td>\n",
       "      <td>-0.398784</td>\n",
       "      <td>0.276037</td>\n",
       "      <td>0.267851</td>\n",
       "      <td>-0.498870</td>\n",
       "    </tr>\n",
       "  </tbody>\n",
       "</table>\n",
       "<p>614 rows × 8 columns</p>\n",
       "</div>"
      ],
      "text/plain": [
       "     Pregnancies   Glucose  BloodPressure  SkinThickness   Insulin       BMI  \\\n",
       "147    -0.547040 -0.514943      -0.746532       1.506738 -0.117120 -0.253153   \n",
       "119     0.064944 -0.744871       0.368728      -0.514087 -1.590440 -1.423785   \n",
       "284    -0.547040 -0.449249       0.740482       0.748929  0.977036 -0.814415   \n",
       "20     -0.241048  0.141994       1.483989      -0.514087  2.396190  1.158021   \n",
       "680    -0.547040 -2.157285      -1.490039      -0.261484 -1.720439 -1.263425   \n",
       "..           ...       ...            ...            ...       ...       ...   \n",
       "230     0.064944  0.667544       1.298112       0.748929  0.977036  1.911716   \n",
       "4      -1.159024  0.503310      -2.977053       1.506738  0.944537  1.767392   \n",
       "710    -0.241048  1.193093      -0.746532      -0.514087 -0.474617 -0.140900   \n",
       "699     0.064944 -0.120781      -0.188902      -0.514087 -0.474617  1.991897   \n",
       "651    -0.853032 -0.153627      -1.118286      -1.524499 -0.398784  0.276037   \n",
       "\n",
       "     DiabetesPedigreeFunction       Age  \n",
       "147                 -0.336166  0.194313  \n",
       "119                 -0.861196 -1.093027  \n",
       "284                 -0.693930  1.976785  \n",
       "20                   1.373667 -0.498870  \n",
       "680                 -0.354751 -0.994001  \n",
       "..                        ...       ...  \n",
       "230                  1.099536 -0.994001  \n",
       "4                    0.188864  0.095287  \n",
       "710                 -0.526664 -0.795949  \n",
       "699                  2.302924 -0.597896  \n",
       "651                  0.267851 -0.498870  \n",
       "\n",
       "[614 rows x 8 columns]"
      ]
     },
     "execution_count": 40,
     "metadata": {},
     "output_type": "execute_result"
    }
   ],
   "source": [
    "X_train"
   ]
  },
  {
   "cell_type": "code",
   "execution_count": 41,
   "metadata": {},
   "outputs": [],
   "source": [
    "models = []\n",
    "models.append((\"LR\", LogisticRegression()))  #逻辑回归\n",
    "models.append((\"NB\", GaussianNB()))  # 高斯朴素贝叶斯\n",
    "models.append((\"KNN\", KNeighborsClassifier()))  #K近邻分类\n",
    "models.append((\"DT\", DecisionTreeClassifier()))  #决策树分类\n",
    "models.append((\"SVM\", SVC()))  # 支持向量机分类"
   ]
  },
  {
   "cell_type": "code",
   "execution_count": 42,
   "metadata": {},
   "outputs": [
    {
     "name": "stdout",
     "output_type": "stream",
     "text": [
      "[array([0.77419355, 0.79032258, 0.90322581, 0.79032258, 0.81967213,\n",
      "       0.85245902, 0.8852459 , 0.91803279, 0.83606557, 0.90163934]), array([0.77419355, 0.70967742, 0.90322581, 0.80645161, 0.81967213,\n",
      "       0.83606557, 0.85245902, 0.8852459 , 0.85245902, 0.8852459 ]), array([0.83870968, 0.82258065, 0.91935484, 0.87096774, 0.85245902,\n",
      "       0.8852459 , 0.90163934, 0.91803279, 0.8852459 , 0.91803279]), array([0.82258065, 0.77419355, 0.90322581, 0.91935484, 0.83606557,\n",
      "       0.86885246, 0.80327869, 0.86885246, 0.90163934, 0.91803279]), array([0.82258065, 0.85483871, 0.88709677, 0.87096774, 0.83606557,\n",
      "       0.86885246, 0.8852459 , 0.93442623, 0.90163934, 0.93442623])] ['LR', 'NB', 'KNN', 'DT', 'SVM']\n",
      "++++++++++++++++++++++++++++++++++++++++++++++++++++++++++++++\n",
      "LR [0.77419355 0.79032258 0.90322581 0.79032258 0.81967213 0.85245902\n",
      " 0.8852459  0.91803279 0.83606557 0.90163934]\n",
      "NB [0.77419355 0.70967742 0.90322581 0.80645161 0.81967213 0.83606557\n",
      " 0.85245902 0.8852459  0.85245902 0.8852459 ]\n",
      "KNN [0.83870968 0.82258065 0.91935484 0.87096774 0.85245902 0.8852459\n",
      " 0.90163934 0.91803279 0.8852459  0.91803279]\n",
      "DT [0.82258065 0.77419355 0.90322581 0.91935484 0.83606557 0.86885246\n",
      " 0.80327869 0.86885246 0.90163934 0.91803279]\n",
      "SVM [0.82258065 0.85483871 0.88709677 0.87096774 0.83606557 0.86885246\n",
      " 0.8852459  0.93442623 0.90163934 0.93442623]\n"
     ]
    }
   ],
   "source": [
    "import warnings\n",
    "warnings.filterwarnings('ignore')  #消除警告\n",
    "\n",
    "results = []\n",
    "names = []\n",
    "for name, model in models:\n",
    "    kflod = KFold(n_splits=10, random_state=2019)\n",
    "    cv_result = cross_val_score(\n",
    "        model, X_train, Y_train, cv=kflod, scoring='accuracy')\n",
    "    names.append(name)\n",
    "    results.append(cv_result)\n",
    "print(results,names)\n",
    "\n",
    "print('++++++++++++++++++++++++++++++++++++++++++++++++++++++++++++++')\n",
    "for i in range(len(names)):\n",
    "    print(names[i], results[i])"
   ]
  },
  {
   "cell_type": "code",
   "execution_count": 43,
   "metadata": {},
   "outputs": [],
   "source": [
    "from sklearn.decomposition import KernelPCA\n",
    "\n",
    "kpca = KernelPCA(n_components=2, kernel='rbf')\n",
    "X_train_pca = kpca.fit_transform(X_train)\n",
    "X_test_pca = kpca.transform(X_test)"
   ]
  },
  {
   "cell_type": "code",
   "execution_count": 44,
   "metadata": {},
   "outputs": [
    {
     "data": {
      "text/plain": [
       "((614, 8), (154, 8), (614, 2), (154, 2), (614,))"
      ]
     },
     "execution_count": 44,
     "metadata": {},
     "output_type": "execute_result"
    }
   ],
   "source": [
    "X_train.shape,X_test.shape,X_train_pca.shape,X_test_pca.shape,Y_train.shape"
   ]
  },
  {
   "cell_type": "code",
   "execution_count": 45,
   "metadata": {},
   "outputs": [
    {
     "data": {
      "text/plain": [
       "Text(0, 0.5, 'Second principal component')"
      ]
     },
     "execution_count": 45,
     "metadata": {},
     "output_type": "execute_result"
    },
    {
     "data": {
      "image/png": "[encoded data removed]",
      "text/plain": [
       "<Figure size 720x576 with 1 Axes>"
      ]
     },
     "metadata": {
      "needs_background": "light"
     },
     "output_type": "display_data"
    }
   ],
   "source": [
    "plt.figure(figsize=(10,8))\n",
    "plt.scatter(X_train_pca[:,0], X_train_pca[:,1],c=Y_train,cmap='plasma')\n",
    "plt.xlabel(\"First principal component\")\n",
    "plt.ylabel(\"Second principal component\")"
   ]
  },
  {
   "cell_type": "code",
   "execution_count": 46,
   "metadata": {},
   "outputs": [
    {
     "data": {
      "text/plain": [
       "SVC(kernel='linear')"
      ]
     },
     "execution_count": 46,
     "metadata": {},
     "output_type": "execute_result"
    }
   ],
   "source": [
    "model=SVC(kernel='linear')\n",
    "model.fit(X_train_pca,Y_train)"
   ]
  },
  {
   "cell_type": "code",
   "execution_count": 47,
   "metadata": {},
   "outputs": [
    {
     "name": "stdout",
     "output_type": "stream",
     "text": [
      "[[91  9]\n",
      " [ 3 51]]\n",
      "++++++++++++++++++++++++++++++++\n",
      "              precision    recall  f1-score   support\n",
      "\n",
      "           0       0.97      0.91      0.94       100\n",
      "           1       0.85      0.94      0.89        54\n",
      "\n",
      "    accuracy                           0.92       154\n",
      "   macro avg       0.91      0.93      0.92       154\n",
      "weighted avg       0.93      0.92      0.92       154\n",
      "\n"
     ]
    }
   ],
   "source": [
    "y_pred = model.predict(X_test_pca)\n",
    "cm = confusion_matrix(Y_test, y_pred)\n",
    "print(cm)#预测真确和错误的个数\n",
    "print('++++++++++++++++++++++++++++++++')\n",
    "print(classification_report(Y_test, y_pred))"
   ]
  },
  {
   "cell_type": "code",
   "execution_count": 84,
   "metadata": {},
   "outputs": [
    {
     "name": "stdout",
     "output_type": "stream",
     "text": [
      "Fitting 5 folds for each of 16 candidates, totalling 80 fits\n",
      "[CV] C=0.1, gamma=1 ..................................................\n",
      "[CV] ................................... C=0.1, gamma=1, total=   0.0s\n",
      "[CV] C=0.1, gamma=1 ..................................................\n",
      "[CV] ................................... C=0.1, gamma=1, total=   0.0s\n",
      "[CV] C=0.1, gamma=1 ..................................................\n",
      "[CV] ................................... C=0.1, gamma=1, total=   0.0s\n",
      "[CV] C=0.1, gamma=1 ..................................................\n",
      "[CV] ................................... C=0.1, gamma=1, total=   0.0s\n",
      "[CV] C=0.1, gamma=1 ..................................................\n",
      "[CV] ................................... C=0.1, gamma=1, total=   0.0s\n",
      "[CV] C=0.1, gamma=0.1 ................................................\n",
      "[CV] ................................. C=0.1, gamma=0.1, total=   0.0s\n",
      "[CV] C=0.1, gamma=0.1 ................................................\n",
      "[CV] ................................. C=0.1, gamma=0.1, total=   0.0s\n",
      "[CV] C=0.1, gamma=0.1 ................................................\n",
      "[CV] ................................. C=0.1, gamma=0.1, total=   0.0s\n",
      "[CV] C=0.1, gamma=0.1 ................................................\n",
      "[CV] ................................. C=0.1, gamma=0.1, total=   0.0s\n",
      "[CV] C=0.1, gamma=0.1 ................................................\n",
      "[CV] ................................. C=0.1, gamma=0.1, total=   0.0s\n",
      "[CV] C=0.1, gamma=0.01 ...............................................\n",
      "[CV] ................................ C=0.1, gamma=0.01, total=   0.0s\n",
      "[CV] C=0.1, gamma=0.01 ...............................................\n",
      "[CV] ................................ C=0.1, gamma=0.01, total=   0.0s\n",
      "[CV] C=0.1, gamma=0.01 ...............................................\n",
      "[CV] ................................ C=0.1, gamma=0.01, total=   0.0s\n",
      "[CV] C=0.1, gamma=0.01 ...............................................\n",
      "[CV] ................................ C=0.1, gamma=0.01, total=   0.0s\n",
      "[CV] C=0.1, gamma=0.01 ...............................................\n",
      "[CV] ................................ C=0.1, gamma=0.01, total=   0.0s\n",
      "[CV] C=0.1, gamma=0.001 ..............................................\n",
      "[CV] ............................... C=0.1, gamma=0.001, total=   0.0s\n",
      "[CV] C=0.1, gamma=0.001 ..............................................\n",
      "[CV] ............................... C=0.1, gamma=0.001, total=   0.0s\n",
      "[CV] C=0.1, gamma=0.001 ..............................................\n",
      "[CV] ............................... C=0.1, gamma=0.001, total=   0.0s\n",
      "[CV] C=0.1, gamma=0.001 ..............................................\n",
      "[CV] ............................... C=0.1, gamma=0.001, total=   0.0s\n",
      "[CV] C=0.1, gamma=0.001 ..............................................\n",
      "[CV] ............................... C=0.1, gamma=0.001, total=   0.0s\n",
      "[CV] C=1, gamma=1 ....................................................\n",
      "[CV] ..................................... C=1, gamma=1, total=   0.0s\n",
      "[CV] C=1, gamma=1 ....................................................\n",
      "[CV] ..................................... C=1, gamma=1, total=   0.0s\n",
      "[CV] C=1, gamma=1 ....................................................\n",
      "[CV] ..................................... C=1, gamma=1, total=   0.0s\n",
      "[CV] C=1, gamma=1 ....................................................\n",
      "[CV] ..................................... C=1, gamma=1, total=   0.0s\n",
      "[CV] C=1, gamma=1 ....................................................\n",
      "[CV] ..................................... C=1, gamma=1, total=   0.0s\n",
      "[CV] C=1, gamma=0.1 ..................................................\n",
      "[CV] ................................... C=1, gamma=0.1, total=   0.0s\n",
      "[CV] C=1, gamma=0.1 ..................................................\n",
      "[CV] ................................... C=1, gamma=0.1, total=   0.0s\n",
      "[CV] C=1, gamma=0.1 ..................................................\n",
      "[CV] ................................... C=1, gamma=0.1, total=   0.0s\n",
      "[CV] C=1, gamma=0.1 ..................................................\n",
      "[CV] ................................... C=1, gamma=0.1, total=   0.0s\n",
      "[CV] C=1, gamma=0.1 ..................................................\n",
      "[CV] ................................... C=1, gamma=0.1, total=   0.0s\n",
      "[CV] C=1, gamma=0.01 .................................................\n",
      "[CV] .................................. C=1, gamma=0.01, total=   0.0s\n",
      "[CV] C=1, gamma=0.01 .................................................\n",
      "[CV] .................................. C=1, gamma=0.01, total=   0.0s\n",
      "[CV] C=1, gamma=0.01 .................................................\n",
      "[CV] .................................. C=1, gamma=0.01, total=   0.0s\n",
      "[CV] C=1, gamma=0.01 .................................................\n",
      "[CV] .................................. C=1, gamma=0.01, total=   0.0s\n",
      "[CV] C=1, gamma=0.01 .................................................\n",
      "[CV] .................................. C=1, gamma=0.01, total=   0.0s\n",
      "[CV] C=1, gamma=0.001 ................................................\n",
      "[CV] ................................. C=1, gamma=0.001, total=   0.0s\n",
      "[CV] C=1, gamma=0.001 ................................................\n",
      "[CV] ................................. C=1, gamma=0.001, total=   0.0s\n",
      "[CV] C=1, gamma=0.001 ................................................\n",
      "[CV] ................................. C=1, gamma=0.001, total=   0.0s\n",
      "[CV] C=1, gamma=0.001 ................................................\n",
      "[CV] ................................. C=1, gamma=0.001, total=   0.0s\n",
      "[CV] C=1, gamma=0.001 ................................................\n",
      "[CV] ................................. C=1, gamma=0.001, total=   0.0s\n",
      "[CV] C=10, gamma=1 ...................................................\n",
      "[CV] .................................... C=10, gamma=1, total=   0.0s\n",
      "[CV] C=10, gamma=1 ...................................................\n",
      "[CV] .................................... C=10, gamma=1, total=   0.0s\n",
      "[CV] C=10, gamma=1 ...................................................\n",
      "[CV] .................................... C=10, gamma=1, total=   0.0s\n",
      "[CV] C=10, gamma=1 ...................................................\n",
      "[CV] .................................... C=10, gamma=1, total=   0.0s\n",
      "[CV] C=10, gamma=1 ...................................................\n",
      "[CV] .................................... C=10, gamma=1, total=   0.0s\n",
      "[CV] C=10, gamma=0.1 .................................................\n",
      "[CV] .................................. C=10, gamma=0.1, total=   0.0s\n",
      "[CV] C=10, gamma=0.1 .................................................\n",
      "[CV] .................................. C=10, gamma=0.1, total=   0.0s\n",
      "[CV] C=10, gamma=0.1 .................................................\n",
      "[CV] .................................. C=10, gamma=0.1, total=   0.0s\n",
      "[CV] C=10, gamma=0.1 .................................................\n",
      "[CV] .................................. C=10, gamma=0.1, total=   0.0s\n",
      "[CV] C=10, gamma=0.1 .................................................\n",
      "[CV] .................................. C=10, gamma=0.1, total=   0.0s\n",
      "[CV] C=10, gamma=0.01 ................................................\n",
      "[CV] ................................. C=10, gamma=0.01, total=   0.0s\n",
      "[CV] C=10, gamma=0.01 ................................................\n",
      "[CV] ................................. C=10, gamma=0.01, total=   0.0s\n",
      "[CV] C=10, gamma=0.01 ................................................\n",
      "[CV] ................................. C=10, gamma=0.01, total=   0.0s\n",
      "[CV] C=10, gamma=0.01 ................................................\n",
      "[CV] ................................. C=10, gamma=0.01, total=   0.0s\n",
      "[CV] C=10, gamma=0.01 ................................................\n",
      "[CV] ................................. C=10, gamma=0.01, total=   0.0s\n",
      "[CV] C=10, gamma=0.001 ...............................................\n"
     ]
    },
    {
     "name": "stderr",
     "output_type": "stream",
     "text": [
      "[Parallel(n_jobs=1)]: Using backend SequentialBackend with 1 concurrent workers.\n",
      "[Parallel(n_jobs=1)]: Done   1 out of   1 | elapsed:    0.0s remaining:    0.0s\n"
     ]
    },
    {
     "name": "stdout",
     "output_type": "stream",
     "text": [
      "[CV] ................................ C=10, gamma=0.001, total=   0.0s\n",
      "[CV] C=10, gamma=0.001 ...............................................\n",
      "[CV] ................................ C=10, gamma=0.001, total=   0.0s\n",
      "[CV] C=10, gamma=0.001 ...............................................\n",
      "[CV] ................................ C=10, gamma=0.001, total=   0.0s\n",
      "[CV] C=10, gamma=0.001 ...............................................\n",
      "[CV] ................................ C=10, gamma=0.001, total=   0.0s\n",
      "[CV] C=10, gamma=0.001 ...............................................\n",
      "[CV] ................................ C=10, gamma=0.001, total=   0.0s\n",
      "[CV] C=100, gamma=1 ..................................................\n",
      "[CV] ................................... C=100, gamma=1, total=   0.0s\n",
      "[CV] C=100, gamma=1 ..................................................\n",
      "[CV] ................................... C=100, gamma=1, total=   0.0s\n",
      "[CV] C=100, gamma=1 ..................................................\n",
      "[CV] ................................... C=100, gamma=1, total=   0.0s\n",
      "[CV] C=100, gamma=1 ..................................................\n",
      "[CV] ................................... C=100, gamma=1, total=   0.0s\n",
      "[CV] C=100, gamma=1 ..................................................\n",
      "[CV] ................................... C=100, gamma=1, total=   0.0s\n",
      "[CV] C=100, gamma=0.1 ................................................\n",
      "[CV] ................................. C=100, gamma=0.1, total=   0.0s\n",
      "[CV] C=100, gamma=0.1 ................................................\n",
      "[CV] ................................. C=100, gamma=0.1, total=   0.0s\n",
      "[CV] C=100, gamma=0.1 ................................................\n",
      "[CV] ................................. C=100, gamma=0.1, total=   0.0s\n",
      "[CV] C=100, gamma=0.1 ................................................\n",
      "[CV] ................................. C=100, gamma=0.1, total=   0.0s\n",
      "[CV] C=100, gamma=0.1 ................................................\n",
      "[CV] ................................. C=100, gamma=0.1, total=   0.0s\n",
      "[CV] C=100, gamma=0.01 ...............................................\n",
      "[CV] ................................ C=100, gamma=0.01, total=   0.0s\n",
      "[CV] C=100, gamma=0.01 ...............................................\n",
      "[CV] ................................ C=100, gamma=0.01, total=   0.0s\n",
      "[CV] C=100, gamma=0.01 ...............................................\n",
      "[CV] ................................ C=100, gamma=0.01, total=   0.0s\n",
      "[CV] C=100, gamma=0.01 ...............................................\n",
      "[CV] ................................ C=100, gamma=0.01, total=   0.0s\n",
      "[CV] C=100, gamma=0.01 ...............................................\n",
      "[CV] ................................ C=100, gamma=0.01, total=   0.0s\n",
      "[CV] C=100, gamma=0.001 ..............................................\n",
      "[CV] ............................... C=100, gamma=0.001, total=   0.0s\n",
      "[CV] C=100, gamma=0.001 ..............................................\n",
      "[CV] ............................... C=100, gamma=0.001, total=   0.0s\n",
      "[CV] C=100, gamma=0.001 ..............................................\n",
      "[CV] ............................... C=100, gamma=0.001, total=   0.0s\n",
      "[CV] C=100, gamma=0.001 ..............................................\n",
      "[CV] ............................... C=100, gamma=0.001, total=   0.0s\n",
      "[CV] C=100, gamma=0.001 ..............................................\n",
      "[CV] ............................... C=100, gamma=0.001, total=   0.0s\n"
     ]
    },
    {
     "name": "stderr",
     "output_type": "stream",
     "text": [
      "[Parallel(n_jobs=1)]: Done  80 out of  80 | elapsed:    0.2s finished\n"
     ]
    },
    {
     "data": {
      "text/plain": [
       "{'C': 10, 'gamma': 1}"
      ]
     },
     "execution_count": 84,
     "metadata": {},
     "output_type": "execute_result"
    }
   ],
   "source": [
    "from sklearn.model_selection import GridSearchCV\n",
    "param_grid = {'C':[0.1, 1, 10, 100], 'gamma':[1, 0.1, 0.01, 0.001]};\n",
    "grid = GridSearchCV(SVC(kernel='linear'),param_grid,refit=True,verbose = 2);\n",
    "grid.fit(X_train_pca, Y_train);\n",
    "grid.best_params_"
   ]
  },
  {
   "cell_type": "code",
   "execution_count": 49,
   "metadata": {},
   "outputs": [
    {
     "data": {
      "text/plain": [
       "[Text(0, 0, 'LR'),\n",
       " Text(0, 0, 'NB'),\n",
       " Text(0, 0, 'KNN'),\n",
       " Text(0, 0, 'DT'),\n",
       " Text(0, 0, 'SVM')]"
      ]
     },
     "execution_count": 49,
     "metadata": {},
     "output_type": "execute_result"
    },
    {
     "data": {
      "image/png": "[encoded data removed]",
      "text/plain": [
       "<Figure size 432x288 with 1 Axes>"
      ]
     },
     "metadata": {
      "needs_background": "light"
     },
     "output_type": "display_data"
    }
   ],
   "source": [
    "ax = sns.boxplot(data = results)\n",
    "ax.set_xticklabels(names)"
   ]
  },
  {
   "cell_type": "code",
   "execution_count": 50,
   "metadata": {},
   "outputs": [
    {
     "name": "stdout",
     "output_type": "stream",
     "text": [
      "0.9090909090909091\n",
      "              precision    recall  f1-score   support\n",
      "\n",
      "           0       0.91      0.95      0.93       100\n",
      "           1       0.90      0.83      0.87        54\n",
      "\n",
      "    accuracy                           0.91       154\n",
      "   macro avg       0.91      0.89      0.90       154\n",
      "weighted avg       0.91      0.91      0.91       154\n",
      "\n"
     ]
    }
   ],
   "source": [
    "from sklearn.metrics import accuracy_score\n",
    "from sklearn.metrics import classification_report\n",
    "from sklearn.metrics import confusion_matrix\n",
    "\n",
    "lr = LogisticRegression() # LR模型构建\n",
    "lr.fit(X_train, Y_train) #\n",
    "predictions = lr.predict(X_test) # 使用测试值预测\n",
    "\n",
    "\n",
    "print(accuracy_score(Y_test, predictions)) # 打印评估指标（分类准确率）\n",
    "print(classification_report(Y_test,predictions))"
   ]
  },
  {
   "cell_type": "code",
   "execution_count": 51,
   "metadata": {},
   "outputs": [
    {
     "data": {
      "text/plain": [
       "<matplotlib.axes._subplots.AxesSubplot at 0x1971e05dec8>"
      ]
     },
     "execution_count": 51,
     "metadata": {},
     "output_type": "execute_result"
    },
    {
     "data": {
      "image/png": "[encoded data removed]",
      "text/plain": [
       "<Figure size 432x288 with 2 Axes>"
      ]
     },
     "metadata": {
      "needs_background": "light"
     },
     "output_type": "display_data"
    }
   ],
   "source": [
    "conf = confusion_matrix(Y_test, predictions) # 混淆矩阵\n",
    "label = [\"0\",\"1\"] # \n",
    "sns.heatmap(conf, annot = True, xticklabels=label, yticklabels=label)"
   ]
  },
  {
   "cell_type": "code",
   "execution_count": 52,
   "metadata": {},
   "outputs": [
    {
     "data": {
      "text/plain": [
       "SVC(kernel='linear')"
      ]
     },
     "execution_count": 52,
     "metadata": {},
     "output_type": "execute_result"
    }
   ],
   "source": [
    "model1=SVC(kernel='linear')\n",
    "model1.fit(X_train,Y_train)"
   ]
  },
  {
   "cell_type": "code",
   "execution_count": 53,
   "metadata": {},
   "outputs": [
    {
     "data": {
      "text/plain": [
       "0.922077922077922"
      ]
     },
     "execution_count": 53,
     "metadata": {},
     "output_type": "execute_result"
    }
   ],
   "source": [
    "accuracy_score(Y_test,y_pred)"
   ]
  },
  {
   "cell_type": "code",
   "execution_count": 54,
   "metadata": {},
   "outputs": [
    {
     "data": {
      "text/plain": [
       "array([[91,  9],\n",
       "       [ 3, 51]], dtype=int64)"
      ]
     },
     "execution_count": 54,
     "metadata": {},
     "output_type": "execute_result"
    }
   ],
   "source": [
    "confusion_matrix(Y_test,y_pred)"
   ]
  },
  {
   "cell_type": "code",
   "execution_count": 55,
   "metadata": {},
   "outputs": [
    {
     "name": "stdout",
     "output_type": "stream",
     "text": [
      "              precision    recall  f1-score   support\n",
      "\n",
      "           0       0.97      0.91      0.94       100\n",
      "           1       0.85      0.94      0.89        54\n",
      "\n",
      "    accuracy                           0.92       154\n",
      "   macro avg       0.91      0.93      0.92       154\n",
      "weighted avg       0.93      0.92      0.92       154\n",
      "\n"
     ]
    }
   ],
   "source": [
    "print(classification_report(Y_test,y_pred))"
   ]
  },
  {
   "cell_type": "code",
   "execution_count": 56,
   "metadata": {},
   "outputs": [],
   "source": [
    "from sklearn.neighbors import KNeighborsClassifier\n",
    "\n",
    "\n",
    "test_scores = []\n",
    "train_scores = []\n",
    "\n",
    "for i in range(1,15):\n",
    "\n",
    "    knn = KNeighborsClassifier(i)\n",
    "    knn.fit(X_train,Y_train)\n",
    "    train_scores.append(knn.score(X_train,Y_train))\n",
    "    test_scores.append(knn.score(X_test,Y_test))"
   ]
  },
  {
   "cell_type": "code",
   "execution_count": 57,
   "metadata": {},
   "outputs": [
    {
     "name": "stdout",
     "output_type": "stream",
     "text": [
      "Max test score 92.85714285714286 % and k = [8]\n"
     ]
    }
   ],
   "source": [
    "max_test_score = max(test_scores)\n",
    "test_scores_ind = [i for i, v in enumerate(test_scores) if v == max_test_score]\n",
    "print('Max test score {} % and k = {}'.format(max_test_score*100,list(map(lambda x: x+1, test_scores_ind))))"
   ]
  },
  {
   "cell_type": "code",
   "execution_count": 58,
   "metadata": {},
   "outputs": [
    {
     "data": {
      "image/png": "[encoded data removed]",
      "text/plain": [
       "<Figure size 864x360 with 1 Axes>"
      ]
     },
     "metadata": {
      "needs_background": "light"
     },
     "output_type": "display_data"
    }
   ],
   "source": [
    "plt.figure(figsize=(12,5))\n",
    "p = sns.lineplot(range(1,15),train_scores,marker='*',label='Train Score')\n",
    "p = sns.lineplot(range(1,15),test_scores,marker='o',label='Test Score')"
   ]
  },
  {
   "cell_type": "code",
   "execution_count": 59,
   "metadata": {},
   "outputs": [
    {
     "data": {
      "text/plain": [
       "0.9285714285714286"
      ]
     },
     "execution_count": 59,
     "metadata": {},
     "output_type": "execute_result"
    }
   ],
   "source": [
    "knn = KNeighborsClassifier(8)\n",
    "\n",
    "knn.fit(X_train,Y_train)\n",
    "knn.score(X_test,Y_test)\n"
   ]
  },
  {
   "cell_type": "code",
   "execution_count": 60,
   "metadata": {},
   "outputs": [
    {
     "data": {
      "text/plain": [
       "array([0.125, 1.   , 0.   , 0.5  , 0.   , 0.5  , 1.   , 0.   , 0.875,\n",
       "       0.875, 0.5  , 0.75 , 0.   , 0.   , 0.875, 0.125, 0.125, 0.125,\n",
       "       0.   , 0.   , 1.   , 0.   , 0.875, 0.375, 0.   , 0.125, 0.125,\n",
       "       0.   , 0.25 , 0.   , 0.25 , 0.125, 0.   , 0.   , 0.125, 0.125,\n",
       "       0.875, 0.   , 0.   , 0.125, 0.   , 0.75 , 0.25 , 0.125, 0.   ,\n",
       "       0.125, 0.75 , 0.   , 0.25 , 0.125, 0.125, 1.   , 1.   , 0.25 ,\n",
       "       0.   , 0.   , 0.875, 0.   , 0.   , 0.875, 0.   , 0.   , 0.   ,\n",
       "       0.   , 0.   , 0.625, 0.125, 0.   , 0.875, 0.875, 0.875, 1.   ,\n",
       "       0.   , 0.   , 0.   , 0.   , 1.   , 0.   , 0.   , 0.125, 0.   ,\n",
       "       0.75 , 0.   , 0.25 , 0.   , 0.125, 0.125, 0.75 , 1.   , 0.875,\n",
       "       1.   , 0.375, 1.   , 0.   , 0.   , 1.   , 0.5  , 0.125, 0.5  ,\n",
       "       0.   , 0.125, 0.625, 0.   , 0.   , 1.   , 0.625, 0.875, 0.   ,\n",
       "       0.875, 1.   , 0.   , 0.125, 0.5  , 0.375, 0.875, 0.5  , 0.   ,\n",
       "       0.   , 0.875, 0.   , 0.   , 0.375, 0.125, 0.75 , 0.875, 0.   ,\n",
       "       1.   , 0.125, 0.5  , 0.25 , 0.   , 1.   , 0.5  , 1.   , 0.625,\n",
       "       1.   , 0.875, 0.   , 0.   , 1.   , 0.875, 0.   , 0.   , 0.25 ,\n",
       "       0.   , 0.5  , 0.25 , 0.   , 0.   , 0.   , 0.875, 1.   , 0.875,\n",
       "       0.   ])"
      ]
     },
     "execution_count": 60,
     "metadata": {},
     "output_type": "execute_result"
    }
   ],
   "source": [
    "from sklearn.metrics import roc_curve\n",
    "y_pred_proba = knn.predict_proba(X_test)[:,1]\n",
    "y_pred=knn.predict(X_test)\n",
    "y_pred_proba"
   ]
  },
  {
   "cell_type": "code",
   "execution_count": 61,
   "metadata": {},
   "outputs": [
    {
     "data": {
      "text/plain": [
       "array([0, 1, 0, 0, 0, 0, 1, 0, 1, 1, 0, 1, 0, 0, 1, 0, 0, 0, 0, 0, 1, 0,\n",
       "       1, 0, 0, 0, 0, 0, 0, 0, 0, 0, 0, 0, 0, 0, 1, 0, 0, 0, 0, 1, 0, 0,\n",
       "       0, 0, 1, 0, 0, 0, 0, 1, 1, 0, 0, 0, 1, 0, 0, 1, 0, 0, 0, 0, 0, 1,\n",
       "       0, 0, 1, 1, 1, 1, 0, 0, 0, 0, 1, 0, 0, 0, 0, 1, 0, 0, 0, 0, 0, 1,\n",
       "       1, 1, 1, 0, 1, 0, 0, 1, 0, 0, 0, 0, 0, 1, 0, 0, 1, 1, 1, 0, 1, 1,\n",
       "       0, 0, 0, 0, 1, 0, 0, 0, 1, 0, 0, 0, 0, 1, 1, 0, 1, 0, 0, 0, 0, 1,\n",
       "       0, 1, 1, 1, 1, 0, 0, 1, 1, 0, 0, 0, 0, 0, 0, 0, 0, 0, 1, 1, 1, 0],\n",
       "      dtype=int64)"
      ]
     },
     "execution_count": 61,
     "metadata": {},
     "output_type": "execute_result"
    }
   ],
   "source": [
    "y_pred"
   ]
  },
  {
   "cell_type": "code",
   "execution_count": 62,
   "metadata": {},
   "outputs": [],
   "source": [
    "fpr, tpr, thresholds = roc_curve(Y_test, y_pred_proba)"
   ]
  },
  {
   "cell_type": "code",
   "execution_count": 63,
   "metadata": {},
   "outputs": [
    {
     "data": {
      "image/png": "[encoded data removed]",
      "text/plain": [
       "<Figure size 432x288 with 1 Axes>"
      ]
     },
     "metadata": {
      "needs_background": "light"
     },
     "output_type": "display_data"
    }
   ],
   "source": [
    "roc_auc=auc(fpr,tpr)\n",
    "plt.plot([0,1],[0,1],'k--')\n",
    "plt.plot(fpr,tpr,label='ROC curve(area=%.2f)'%roc_auc)\n",
    "plt.xlabel('False positive rate')\n",
    "plt.ylabel('True positive rate')\n",
    "plt.xlabel('fpr')\n",
    "plt.ylabel('tpr')\n",
    "plt.legend(loc='lower right')\n",
    "plt.title('Knn(n_neighbors=8) ROC curve')\n",
    "plt.grid()\n",
    "plt.show()\n"
   ]
  },
  {
   "cell_type": "code",
   "execution_count": 64,
   "metadata": {},
   "outputs": [
    {
     "data": {
      "text/plain": [
       "0.9616666666666667"
      ]
     },
     "execution_count": 64,
     "metadata": {},
     "output_type": "execute_result"
    }
   ],
   "source": [
    "from sklearn.metrics import roc_auc_score\n",
    "roc_auc_score(Y_test,y_pred_proba)"
   ]
  },
  {
   "cell_type": "code",
   "execution_count": 65,
   "metadata": {},
   "outputs": [],
   "source": [
    "y_pred_proba1 = lr.predict_proba(X_test)[:,1]\n",
    "y_pred1=lr.predict(X_test)"
   ]
  },
  {
   "cell_type": "code",
   "execution_count": 66,
   "metadata": {},
   "outputs": [
    {
     "data": {
      "text/plain": [
       "array([0, 0, 0, 1, 0, 0, 1, 0, 1, 1, 0, 1, 0, 0, 1, 0, 0, 0, 0, 0, 1, 0,\n",
       "       1, 1, 0, 0, 0, 0, 0, 0, 0, 0, 0, 0, 0, 0, 1, 0, 0, 0, 0, 0, 0, 0,\n",
       "       0, 0, 1, 0, 0, 0, 0, 0, 1, 0, 0, 0, 1, 0, 0, 1, 0, 0, 0, 0, 0, 1,\n",
       "       0, 0, 1, 1, 1, 1, 0, 0, 0, 0, 1, 0, 0, 0, 0, 1, 0, 0, 0, 0, 0, 1,\n",
       "       1, 1, 1, 0, 1, 0, 0, 1, 0, 0, 0, 0, 0, 1, 0, 0, 1, 1, 1, 0, 1, 1,\n",
       "       0, 0, 0, 0, 1, 0, 0, 0, 1, 0, 0, 1, 0, 1, 1, 0, 0, 0, 1, 0, 0, 1,\n",
       "       1, 1, 0, 1, 1, 0, 0, 1, 1, 0, 0, 1, 0, 0, 0, 0, 0, 0, 1, 1, 1, 0],\n",
       "      dtype=int64)"
      ]
     },
     "execution_count": 66,
     "metadata": {},
     "output_type": "execute_result"
    }
   ],
   "source": [
    "y_pred1"
   ]
  },
  {
   "cell_type": "code",
   "execution_count": 67,
   "metadata": {},
   "outputs": [
    {
     "data": {
      "text/plain": [
       "array([0.31828356, 0.49350666, 0.01214139, 0.5293955 , 0.05905576,\n",
       "       0.37117519, 0.94896923, 0.04738292, 0.8757439 , 0.75744071,\n",
       "       0.30809115, 0.97886461, 0.01827038, 0.01091363, 0.68904482,\n",
       "       0.05533204, 0.02379202, 0.05699745, 0.03619826, 0.11084551,\n",
       "       0.94704973, 0.25532295, 0.86821164, 0.56789413, 0.00192243,\n",
       "       0.01003206, 0.35067244, 0.28538565, 0.07365027, 0.24690273,\n",
       "       0.3237759 , 0.09101491, 0.13497779, 0.01814831, 0.08676298,\n",
       "       0.18842665, 0.92187963, 0.1248523 , 0.02137262, 0.13577448,\n",
       "       0.03110158, 0.42609733, 0.00832423, 0.06873087, 0.04410038,\n",
       "       0.26730125, 0.77209478, 0.30422879, 0.37110541, 0.07490573,\n",
       "       0.09928644, 0.46604515, 0.93724295, 0.07561965, 0.03013178,\n",
       "       0.18813916, 0.57720178, 0.04223966, 0.00461279, 0.8140906 ,\n",
       "       0.03241752, 0.08207456, 0.01015983, 0.04177345, 0.0712807 ,\n",
       "       0.59444437, 0.02700568, 0.04110855, 0.96562161, 0.97802619,\n",
       "       0.64777875, 0.95583629, 0.00539573, 0.26789263, 0.00183213,\n",
       "       0.02673871, 0.82858334, 0.02683457, 0.04907563, 0.07888071,\n",
       "       0.01012347, 0.68552283, 0.02139677, 0.24571543, 0.01003961,\n",
       "       0.01099573, 0.20917542, 0.60267641, 0.77020216, 0.72098593,\n",
       "       0.86446622, 0.46605   , 0.80625636, 0.05141305, 0.0207154 ,\n",
       "       0.86414551, 0.08926814, 0.15526109, 0.20458925, 0.09198421,\n",
       "       0.16229809, 0.68971252, 0.01615994, 0.18138903, 0.83529849,\n",
       "       0.63183663, 0.50445197, 0.08796379, 0.86646753, 0.74367929,\n",
       "       0.16693922, 0.0150927 , 0.44095414, 0.44889934, 0.66683932,\n",
       "       0.27462321, 0.05784404, 0.06272366, 0.918587  , 0.0755567 ,\n",
       "       0.01823454, 0.91463034, 0.02980188, 0.95919249, 0.92535787,\n",
       "       0.05842958, 0.48594769, 0.11506313, 0.73253184, 0.47465561,\n",
       "       0.05398487, 0.65480744, 0.76117437, 0.75109725, 0.34962825,\n",
       "       0.84124175, 0.91698574, 0.04581297, 0.0234832 , 0.85201799,\n",
       "       0.72312861, 0.24108907, 0.05097001, 0.6387596 , 0.01575022,\n",
       "       0.22337737, 0.18622193, 0.03777502, 0.03668991, 0.00907024,\n",
       "       0.80806071, 0.86144637, 0.84784627, 0.10232302])"
      ]
     },
     "execution_count": 67,
     "metadata": {},
     "output_type": "execute_result"
    }
   ],
   "source": [
    "y_pred_proba1"
   ]
  },
  {
   "cell_type": "code",
   "execution_count": 68,
   "metadata": {},
   "outputs": [
    {
     "data": {
      "image/png": "[encoded data removed]",
      "text/plain": [
       "<Figure size 432x288 with 1 Axes>"
      ]
     },
     "metadata": {
      "needs_background": "light"
     },
     "output_type": "display_data"
    }
   ],
   "source": [
    "fpr, tpr, thresholds = roc_curve(Y_test, y_pred_proba1)\n",
    "roc_auc=auc(fpr,tpr)\n",
    "plt.plot([0,1],[0,1],'k--')\n",
    "plt.plot(fpr,tpr,label='ROC curve(area=%.2f)'%roc_auc)\n",
    "plt.xlabel('False positive rate')\n",
    "plt.ylabel('True positive rate')\n",
    "plt.xlabel('fpr')\n",
    "plt.ylabel('tpr')\n",
    "plt.legend(loc='lower right')\n",
    "plt.title('Knn(n_neighbors=8) ROC curve')\n",
    "plt.grid()\n",
    "plt.show()"
   ]
  },
  {
   "cell_type": "code",
   "execution_count": 69,
   "metadata": {},
   "outputs": [
    {
     "data": {
      "text/plain": [
       "RandomForestClassifier()"
      ]
     },
     "execution_count": 69,
     "metadata": {},
     "output_type": "execute_result"
    }
   ],
   "source": [
    "RF = RandomForestClassifier()\n",
    "RF.fit(X_train,Y_train)"
   ]
  },
  {
   "cell_type": "code",
   "execution_count": 70,
   "metadata": {},
   "outputs": [],
   "source": [
    "y_pred_proba2 = RF.predict_proba(X_test)[:,1]\n",
    "y_pred2=RF.predict(X_test)\n"
   ]
  },
  {
   "cell_type": "code",
   "execution_count": 71,
   "metadata": {},
   "outputs": [
    {
     "data": {
      "text/plain": [
       "0.9415584415584416"
      ]
     },
     "execution_count": 71,
     "metadata": {},
     "output_type": "execute_result"
    }
   ],
   "source": [
    "accuracy_score(Y_test,y_pred2)"
   ]
  },
  {
   "cell_type": "code",
   "execution_count": 72,
   "metadata": {},
   "outputs": [],
   "source": [
    "model=Sequential()\n",
    "model.add(Dense(32,input_shape=(X_train.shape[1],)))\n",
    "model.add(Activation('relu'))\n",
    "model.add(Dense(64,input_shape=(X_train.shape[1],)))\n",
    "model.add(Activation('relu'))\n",
    "model.add(Dense(64,input_shape=(X_train.shape[1],)))\n",
    "model.add(Activation('relu'))\n",
    "model.add(Dense(128,input_shape=(X_train.shape[1],)))\n",
    "model.add(Activation('relu'))\n",
    "model.add(Dense(128,input_shape=(X_train.shape[1],)))\n",
    "model.add(Activation('relu'))\n",
    "model.add(Dense(256,input_shape=(X_train.shape[1],)))\n",
    "model.add(Activation('relu'))\n",
    "model.add(Dense(256,input_shape=(X_train.shape[1],)))\n",
    "model.add(Activation('relu'))\n",
    "model.add(Dense(2))\n",
    "model.add(Activation('softmax'))\n"
   ]
  },
  {
   "cell_type": "code",
   "execution_count": 73,
   "metadata": {},
   "outputs": [
    {
     "name": "stdout",
     "output_type": "stream",
     "text": [
      "Model: \"sequential\"\n",
      "_________________________________________________________________\n",
      "Layer (type)                 Output Shape              Param #   \n",
      "=================================================================\n",
      "dense (Dense)                (None, 32)                288       \n",
      "_________________________________________________________________\n",
      "activation (Activation)      (None, 32)                0         \n",
      "_________________________________________________________________\n",
      "dense_1 (Dense)              (None, 64)                2112      \n",
      "_________________________________________________________________\n",
      "activation_1 (Activation)    (None, 64)                0         \n",
      "_________________________________________________________________\n",
      "dense_2 (Dense)              (None, 64)                4160      \n",
      "_________________________________________________________________\n",
      "activation_2 (Activation)    (None, 64)                0         \n",
      "_________________________________________________________________\n",
      "dense_3 (Dense)              (None, 128)               8320      \n",
      "_________________________________________________________________\n",
      "activation_3 (Activation)    (None, 128)               0         \n",
      "_________________________________________________________________\n",
      "dense_4 (Dense)              (None, 128)               16512     \n",
      "_________________________________________________________________\n",
      "activation_4 (Activation)    (None, 128)               0         \n",
      "_________________________________________________________________\n",
      "dense_5 (Dense)              (None, 256)               33024     \n",
      "_________________________________________________________________\n",
      "activation_5 (Activation)    (None, 256)               0         \n",
      "_________________________________________________________________\n",
      "dense_6 (Dense)              (None, 256)               65792     \n",
      "_________________________________________________________________\n",
      "activation_6 (Activation)    (None, 256)               0         \n",
      "_________________________________________________________________\n",
      "dense_7 (Dense)              (None, 2)                 514       \n",
      "_________________________________________________________________\n",
      "activation_7 (Activation)    (None, 2)                 0         \n",
      "=================================================================\n",
      "Total params: 130,722\n",
      "Trainable params: 130,722\n",
      "Non-trainable params: 0\n",
      "_________________________________________________________________\n",
      "None\n"
     ]
    }
   ],
   "source": [
    "print(model.summary())"
   ]
  },
  {
   "cell_type": "code",
   "execution_count": 74,
   "metadata": {},
   "outputs": [
    {
     "name": "stdout",
     "output_type": "stream",
     "text": [
      "Epoch 1/50\n",
      "62/62 [==============================] - 0s 4ms/step - loss: 0.6715 - accuracy: 0.6466 - val_loss: 0.6533 - val_accuracy: 0.6494\n",
      "Epoch 2/50\n",
      "62/62 [==============================] - 0s 2ms/step - loss: 0.6487 - accuracy: 0.6515 - val_loss: 0.6372 - val_accuracy: 0.6494\n",
      "Epoch 3/50\n",
      "62/62 [==============================] - 0s 2ms/step - loss: 0.6375 - accuracy: 0.6515 - val_loss: 0.6241 - val_accuracy: 0.6494\n",
      "Epoch 4/50\n",
      "62/62 [==============================] - 0s 2ms/step - loss: 0.6263 - accuracy: 0.6515 - val_loss: 0.6065 - val_accuracy: 0.6494\n",
      "Epoch 5/50\n",
      "62/62 [==============================] - 0s 2ms/step - loss: 0.6094 - accuracy: 0.6515 - val_loss: 0.5772 - val_accuracy: 0.6494\n",
      "Epoch 6/50\n",
      "62/62 [==============================] - 0s 2ms/step - loss: 0.5811 - accuracy: 0.6515 - val_loss: 0.5290 - val_accuracy: 0.6688\n",
      "Epoch 7/50\n",
      "62/62 [==============================] - 0s 2ms/step - loss: 0.5350 - accuracy: 0.7036 - val_loss: 0.4560 - val_accuracy: 0.8442\n",
      "Epoch 8/50\n",
      "62/62 [==============================] - 0s 2ms/step - loss: 0.4721 - accuracy: 0.8094 - val_loss: 0.3676 - val_accuracy: 0.9286\n",
      "Epoch 9/50\n",
      "62/62 [==============================] - 0s 2ms/step - loss: 0.4147 - accuracy: 0.8420 - val_loss: 0.2955 - val_accuracy: 0.9416\n",
      "Epoch 10/50\n",
      "62/62 [==============================] - 0s 2ms/step - loss: 0.3798 - accuracy: 0.8534 - val_loss: 0.2599 - val_accuracy: 0.9545\n",
      "Epoch 11/50\n",
      "62/62 [==============================] - 0s 2ms/step - loss: 0.3581 - accuracy: 0.8616 - val_loss: 0.2361 - val_accuracy: 0.9481\n",
      "Epoch 12/50\n",
      "62/62 [==============================] - 0s 2ms/step - loss: 0.3434 - accuracy: 0.8746 - val_loss: 0.2275 - val_accuracy: 0.9286\n",
      "Epoch 13/50\n",
      "62/62 [==============================] - 0s 2ms/step - loss: 0.3333 - accuracy: 0.8795 - val_loss: 0.2142 - val_accuracy: 0.9351\n",
      "Epoch 14/50\n",
      "62/62 [==============================] - 0s 2ms/step - loss: 0.3276 - accuracy: 0.8795 - val_loss: 0.2236 - val_accuracy: 0.9286\n",
      "Epoch 15/50\n",
      "62/62 [==============================] - 0s 2ms/step - loss: 0.3159 - accuracy: 0.8893 - val_loss: 0.2111 - val_accuracy: 0.9416\n",
      "Epoch 16/50\n",
      "62/62 [==============================] - 0s 2ms/step - loss: 0.3048 - accuracy: 0.8941 - val_loss: 0.2138 - val_accuracy: 0.9286\n",
      "Epoch 17/50\n",
      "62/62 [==============================] - 0s 2ms/step - loss: 0.3031 - accuracy: 0.9055 - val_loss: 0.2047 - val_accuracy: 0.9416\n",
      "Epoch 18/50\n",
      "62/62 [==============================] - 0s 2ms/step - loss: 0.2965 - accuracy: 0.8990 - val_loss: 0.2041 - val_accuracy: 0.9351\n",
      "Epoch 19/50\n",
      "62/62 [==============================] - 0s 2ms/step - loss: 0.2911 - accuracy: 0.9007 - val_loss: 0.2023 - val_accuracy: 0.9351\n",
      "Epoch 20/50\n",
      "62/62 [==============================] - 0s 2ms/step - loss: 0.2838 - accuracy: 0.9039 - val_loss: 0.2000 - val_accuracy: 0.9286\n",
      "Epoch 21/50\n",
      "62/62 [==============================] - 0s 2ms/step - loss: 0.2763 - accuracy: 0.9039 - val_loss: 0.2009 - val_accuracy: 0.9286\n",
      "Epoch 22/50\n",
      "62/62 [==============================] - 0s 2ms/step - loss: 0.2711 - accuracy: 0.9104 - val_loss: 0.2059 - val_accuracy: 0.9286\n",
      "Epoch 23/50\n",
      "62/62 [==============================] - 0s 2ms/step - loss: 0.2638 - accuracy: 0.9137 - val_loss: 0.2126 - val_accuracy: 0.9286\n",
      "Epoch 24/50\n",
      "62/62 [==============================] - 0s 2ms/step - loss: 0.2599 - accuracy: 0.9137 - val_loss: 0.2029 - val_accuracy: 0.9286\n",
      "Epoch 25/50\n",
      "62/62 [==============================] - 0s 2ms/step - loss: 0.2542 - accuracy: 0.9153 - val_loss: 0.2216 - val_accuracy: 0.9091\n",
      "Epoch 26/50\n",
      "62/62 [==============================] - 0s 2ms/step - loss: 0.2495 - accuracy: 0.9186 - val_loss: 0.2003 - val_accuracy: 0.9286\n",
      "Epoch 27/50\n",
      "62/62 [==============================] - 0s 2ms/step - loss: 0.2426 - accuracy: 0.9218 - val_loss: 0.2083 - val_accuracy: 0.9286\n",
      "Epoch 28/50\n",
      "62/62 [==============================] - 0s 2ms/step - loss: 0.2368 - accuracy: 0.9235 - val_loss: 0.2086 - val_accuracy: 0.9156\n",
      "Epoch 29/50\n",
      "62/62 [==============================] - 0s 2ms/step - loss: 0.2317 - accuracy: 0.9186 - val_loss: 0.2034 - val_accuracy: 0.9221\n",
      "Epoch 30/50\n",
      "62/62 [==============================] - 0s 2ms/step - loss: 0.2205 - accuracy: 0.9267 - val_loss: 0.2073 - val_accuracy: 0.9156\n",
      "Epoch 31/50\n",
      "62/62 [==============================] - 0s 2ms/step - loss: 0.2175 - accuracy: 0.9218 - val_loss: 0.2286 - val_accuracy: 0.9091\n",
      "Epoch 32/50\n",
      "62/62 [==============================] - 0s 2ms/step - loss: 0.2075 - accuracy: 0.9300 - val_loss: 0.2011 - val_accuracy: 0.9221\n",
      "Epoch 33/50\n",
      "62/62 [==============================] - 0s 2ms/step - loss: 0.2031 - accuracy: 0.9235 - val_loss: 0.2018 - val_accuracy: 0.9221\n",
      "Epoch 34/50\n",
      "62/62 [==============================] - 0s 2ms/step - loss: 0.1974 - accuracy: 0.9365 - val_loss: 0.2036 - val_accuracy: 0.9156\n",
      "Epoch 35/50\n",
      "62/62 [==============================] - 0s 2ms/step - loss: 0.1838 - accuracy: 0.9397 - val_loss: 0.2184 - val_accuracy: 0.9156\n",
      "Epoch 36/50\n",
      "62/62 [==============================] - 0s 2ms/step - loss: 0.1706 - accuracy: 0.9446 - val_loss: 0.2077 - val_accuracy: 0.9286\n",
      "Epoch 37/50\n",
      "62/62 [==============================] - 0s 2ms/step - loss: 0.1777 - accuracy: 0.9381 - val_loss: 0.2206 - val_accuracy: 0.9286\n",
      "Epoch 38/50\n",
      "62/62 [==============================] - 0s 2ms/step - loss: 0.1682 - accuracy: 0.9446 - val_loss: 0.2466 - val_accuracy: 0.9221\n",
      "Epoch 39/50\n",
      "62/62 [==============================] - 0s 2ms/step - loss: 0.1586 - accuracy: 0.9511 - val_loss: 0.2049 - val_accuracy: 0.9091\n",
      "Epoch 40/50\n",
      "62/62 [==============================] - 0s 2ms/step - loss: 0.1503 - accuracy: 0.9528 - val_loss: 0.2960 - val_accuracy: 0.9091\n",
      "Epoch 41/50\n",
      "62/62 [==============================] - 0s 2ms/step - loss: 0.1473 - accuracy: 0.9577 - val_loss: 0.2916 - val_accuracy: 0.9091\n",
      "Epoch 42/50\n",
      "62/62 [==============================] - 0s 2ms/step - loss: 0.1426 - accuracy: 0.9544 - val_loss: 0.2353 - val_accuracy: 0.9156\n",
      "Epoch 43/50\n",
      "62/62 [==============================] - 0s 2ms/step - loss: 0.1392 - accuracy: 0.9560 - val_loss: 0.2115 - val_accuracy: 0.9221\n",
      "Epoch 44/50\n",
      "62/62 [==============================] - 0s 2ms/step - loss: 0.1239 - accuracy: 0.9593 - val_loss: 0.2314 - val_accuracy: 0.9091\n",
      "Epoch 45/50\n",
      "62/62 [==============================] - 0s 2ms/step - loss: 0.1263 - accuracy: 0.9642 - val_loss: 0.1961 - val_accuracy: 0.9221\n",
      "Epoch 46/50\n",
      "62/62 [==============================] - 0s 2ms/step - loss: 0.1233 - accuracy: 0.9544 - val_loss: 0.2345 - val_accuracy: 0.9091\n",
      "Epoch 47/50\n",
      "62/62 [==============================] - 0s 2ms/step - loss: 0.1077 - accuracy: 0.9642 - val_loss: 0.2235 - val_accuracy: 0.9221\n",
      "Epoch 48/50\n",
      "62/62 [==============================] - 0s 2ms/step - loss: 0.1110 - accuracy: 0.9577 - val_loss: 0.2191 - val_accuracy: 0.9286\n",
      "Epoch 49/50\n",
      "62/62 [==============================] - 0s 2ms/step - loss: 0.1110 - accuracy: 0.9674 - val_loss: 0.4089 - val_accuracy: 0.8636\n",
      "Epoch 50/50\n",
      "62/62 [==============================] - 0s 2ms/step - loss: 0.0942 - accuracy: 0.9625 - val_loss: 0.4093 - val_accuracy: 0.8506\n",
      "Loss:0.40934306383132935\n",
      "Accuracy:85.0649356842041\n"
     ]
    }
   ],
   "source": [
    "model.compile(loss='sparse_categorical_crossentropy',optimizer='sgd',metrics=['accuracy'])\n",
    "model.fit(X_train,Y_train,batch_size=10,epochs=50,verbose=1,validation_data=(X_test,Y_test))\n",
    "loss,accuracy=model.evaluate(X_test,Y_test,verbose=0)\n",
    "print('Loss:'+str(loss))\n",
    "print('Accuracy:'+str(accuracy*100.0))"
   ]
  },
  {
   "cell_type": "code",
   "execution_count": 75,
   "metadata": {},
   "outputs": [
    {
     "name": "stdout",
     "output_type": "stream",
     "text": [
      "WARNING:tensorflow:From <ipython-input-75-bcc5b22dddac>:1: Sequential.predict_proba (from tensorflow.python.keras.engine.sequential) is deprecated and will be removed after 2021-01-01.\n",
      "Instructions for updating:\n",
      "Please use `model.predict()` instead.\n"
     ]
    }
   ],
   "source": [
    "y_pred_proba3 = model.predict_proba(X_test)[:,1]\n",
    "y_pred3=model.predict(X_test)"
   ]
  },
  {
   "cell_type": "code",
   "execution_count": 76,
   "metadata": {},
   "outputs": [
    {
     "data": {
      "text/plain": [
       "array([3.14326165e-03, 9.93267953e-01, 5.96427126e-04, 2.35766813e-01,\n",
       "       2.32761316e-02, 7.73591697e-01, 9.96705949e-01, 1.84454285e-02,\n",
       "       9.87369120e-01, 9.95594084e-01, 7.94447362e-01, 9.72283244e-01,\n",
       "       7.02842895e-04, 1.61779334e-03, 9.89198387e-01, 1.13018297e-01,\n",
       "       5.96443415e-01, 7.01869139e-03, 1.80392414e-02, 3.59503217e-02,\n",
       "       9.94436026e-01, 9.88142669e-01, 9.91900206e-01, 4.56634760e-02,\n",
       "       7.59711443e-03, 2.55846560e-01, 6.67564571e-02, 5.85903600e-03,\n",
       "       8.15484941e-01, 4.24928777e-02, 1.28542513e-01, 5.54432273e-02,\n",
       "       5.93253911e-01, 2.17859959e-03, 9.68470097e-01, 1.29211411e-01,\n",
       "       9.70713377e-01, 5.17759472e-02, 4.72121872e-03, 2.70518899e-01,\n",
       "       5.46902478e-01, 9.72280979e-01, 9.80142236e-01, 9.33685958e-01,\n",
       "       1.17348302e-02, 8.44360352e-01, 9.89645004e-01, 2.83731408e-02,\n",
       "       4.06609885e-02, 6.09778225e-01, 1.05046779e-02, 9.90858495e-01,\n",
       "       9.99056876e-01, 3.01354736e-01, 1.43591221e-02, 3.44553053e-01,\n",
       "       9.87403274e-01, 5.29438118e-03, 8.17354710e-04, 9.90673602e-01,\n",
       "       2.58052349e-03, 1.55283753e-02, 2.97449226e-03, 1.01982765e-02,\n",
       "       2.31525470e-02, 9.97444630e-01, 3.97066653e-01, 3.99400759e-03,\n",
       "       9.42106247e-01, 9.95077729e-01, 9.45345581e-01, 9.99069035e-01,\n",
       "       3.79585832e-01, 3.24562099e-03, 1.28245435e-03, 1.03819382e-03,\n",
       "       9.97918069e-01, 1.27197371e-03, 3.52808572e-02, 6.64149523e-02,\n",
       "       4.87244129e-03, 9.89552855e-01, 1.15906838e-02, 1.50037082e-02,\n",
       "       3.55777591e-02, 5.09872139e-01, 4.97828603e-01, 9.15399969e-01,\n",
       "       9.97299731e-01, 9.43801284e-01, 9.97419119e-01, 9.93256211e-01,\n",
       "       9.93044198e-01, 7.63259735e-03, 1.08699031e-01, 9.93933022e-01,\n",
       "       9.97048080e-01, 8.64773631e-01, 9.77032185e-01, 4.57390435e-02,\n",
       "       1.37627693e-02, 5.57607651e-01, 3.69444713e-02, 7.13739246e-02,\n",
       "       9.99414206e-01, 9.67122078e-01, 9.87388492e-01, 2.08878536e-02,\n",
       "       9.87455487e-01, 9.80088651e-01, 2.88610347e-02, 2.82949321e-02,\n",
       "       3.65385324e-01, 9.93245661e-01, 9.94352341e-01, 1.08699752e-02,\n",
       "       1.24406340e-02, 4.91861394e-03, 9.87450600e-01, 7.40681529e-01,\n",
       "       2.35836348e-03, 8.21270883e-01, 4.42243278e-01, 8.77382636e-01,\n",
       "       9.99191940e-01, 2.90029123e-03, 9.87977445e-01, 6.41414244e-03,\n",
       "       8.61865342e-01, 6.54601455e-01, 3.63123268e-02, 9.28611040e-01,\n",
       "       9.59227309e-02, 9.89095032e-01, 8.63674045e-01, 9.98006642e-01,\n",
       "       9.93856490e-01, 2.12344453e-01, 3.43250763e-03, 9.98845100e-01,\n",
       "       9.97243643e-01, 3.81646007e-01, 6.03655120e-03, 5.99107981e-01,\n",
       "       4.63559525e-04, 8.18714440e-01, 9.17300284e-02, 8.98305606e-03,\n",
       "       9.07382648e-03, 3.30381328e-03, 9.92431521e-01, 9.94773805e-01,\n",
       "       9.88491178e-01, 2.41579533e-01], dtype=float32)"
      ]
     },
     "execution_count": 76,
     "metadata": {},
     "output_type": "execute_result"
    }
   ],
   "source": [
    "y_pred_proba3"
   ]
  },
  {
   "cell_type": "code",
   "execution_count": 77,
   "metadata": {},
   "outputs": [
    {
     "data": {
      "text/plain": [
       "array([[9.96856689e-01, 3.14326165e-03],\n",
       "       [6.73207035e-03, 9.93267953e-01],\n",
       "       [9.99403596e-01, 5.96427126e-04],\n",
       "       [7.64233112e-01, 2.35766813e-01],\n",
       "       [9.76723909e-01, 2.32761316e-02],\n",
       "       [2.26408288e-01, 7.73591697e-01],\n",
       "       [3.29407840e-03, 9.96705949e-01],\n",
       "       [9.81554568e-01, 1.84454285e-02],\n",
       "       [1.26308957e-02, 9.87369120e-01],\n",
       "       [4.40586312e-03, 9.95594084e-01],\n",
       "       [2.05552593e-01, 7.94447362e-01],\n",
       "       [2.77167354e-02, 9.72283244e-01],\n",
       "       [9.99297142e-01, 7.02842895e-04],\n",
       "       [9.98382211e-01, 1.61779334e-03],\n",
       "       [1.08016012e-02, 9.89198387e-01],\n",
       "       [8.86981666e-01, 1.13018297e-01],\n",
       "       [4.03556585e-01, 5.96443415e-01],\n",
       "       [9.92981315e-01, 7.01869139e-03],\n",
       "       [9.81960773e-01, 1.80392414e-02],\n",
       "       [9.64049697e-01, 3.59503217e-02],\n",
       "       [5.56399859e-03, 9.94436026e-01],\n",
       "       [1.18573606e-02, 9.88142669e-01],\n",
       "       [8.09981581e-03, 9.91900206e-01],\n",
       "       [9.54336584e-01, 4.56634760e-02],\n",
       "       [9.92402911e-01, 7.59711443e-03],\n",
       "       [7.44153440e-01, 2.55846560e-01],\n",
       "       [9.33243573e-01, 6.67564571e-02],\n",
       "       [9.94140923e-01, 5.85903600e-03],\n",
       "       [1.84515074e-01, 8.15484941e-01],\n",
       "       [9.57507133e-01, 4.24928777e-02],\n",
       "       [8.71457517e-01, 1.28542513e-01],\n",
       "       [9.44556773e-01, 5.54432273e-02],\n",
       "       [4.06746119e-01, 5.93253911e-01],\n",
       "       [9.97821450e-01, 2.17859959e-03],\n",
       "       [3.15298922e-02, 9.68470097e-01],\n",
       "       [8.70788634e-01, 1.29211411e-01],\n",
       "       [2.92866267e-02, 9.70713377e-01],\n",
       "       [9.48224008e-01, 5.17759472e-02],\n",
       "       [9.95278835e-01, 4.72121872e-03],\n",
       "       [7.29481101e-01, 2.70518899e-01],\n",
       "       [4.53097582e-01, 5.46902478e-01],\n",
       "       [2.77189650e-02, 9.72280979e-01],\n",
       "       [1.98578108e-02, 9.80142236e-01],\n",
       "       [6.63140044e-02, 9.33685958e-01],\n",
       "       [9.88265157e-01, 1.17348302e-02],\n",
       "       [1.55639663e-01, 8.44360352e-01],\n",
       "       [1.03550637e-02, 9.89645004e-01],\n",
       "       [9.71626818e-01, 2.83731408e-02],\n",
       "       [9.59339023e-01, 4.06609885e-02],\n",
       "       [3.90221775e-01, 6.09778225e-01],\n",
       "       [9.89495337e-01, 1.05046779e-02],\n",
       "       [9.14148334e-03, 9.90858495e-01],\n",
       "       [9.43125342e-04, 9.99056876e-01],\n",
       "       [6.98645294e-01, 3.01354736e-01],\n",
       "       [9.85640883e-01, 1.43591221e-02],\n",
       "       [6.55446947e-01, 3.44553053e-01],\n",
       "       [1.25966622e-02, 9.87403274e-01],\n",
       "       [9.94705617e-01, 5.29438118e-03],\n",
       "       [9.99182642e-01, 8.17354710e-04],\n",
       "       [9.32640117e-03, 9.90673602e-01],\n",
       "       [9.97419477e-01, 2.58052349e-03],\n",
       "       [9.84471619e-01, 1.55283753e-02],\n",
       "       [9.97025549e-01, 2.97449226e-03],\n",
       "       [9.89801705e-01, 1.01982765e-02],\n",
       "       [9.76847410e-01, 2.31525470e-02],\n",
       "       [2.55539338e-03, 9.97444630e-01],\n",
       "       [6.02933347e-01, 3.97066653e-01],\n",
       "       [9.96005952e-01, 3.99400759e-03],\n",
       "       [5.78938238e-02, 9.42106247e-01],\n",
       "       [4.92223259e-03, 9.95077729e-01],\n",
       "       [5.46544790e-02, 9.45345581e-01],\n",
       "       [9.31003364e-04, 9.99069035e-01],\n",
       "       [6.20414138e-01, 3.79585832e-01],\n",
       "       [9.96754348e-01, 3.24562099e-03],\n",
       "       [9.98717546e-01, 1.28245435e-03],\n",
       "       [9.98961806e-01, 1.03819382e-03],\n",
       "       [2.08197976e-03, 9.97918069e-01],\n",
       "       [9.98727977e-01, 1.27197371e-03],\n",
       "       [9.64719117e-01, 3.52808572e-02],\n",
       "       [9.33585048e-01, 6.64149523e-02],\n",
       "       [9.95127559e-01, 4.87244129e-03],\n",
       "       [1.04470970e-02, 9.89552855e-01],\n",
       "       [9.88409281e-01, 1.15906838e-02],\n",
       "       [9.84996319e-01, 1.50037082e-02],\n",
       "       [9.64422226e-01, 3.55777591e-02],\n",
       "       [4.90127861e-01, 5.09872139e-01],\n",
       "       [5.02171457e-01, 4.97828603e-01],\n",
       "       [8.46000388e-02, 9.15399969e-01],\n",
       "       [2.70033116e-03, 9.97299731e-01],\n",
       "       [5.61987273e-02, 9.43801284e-01],\n",
       "       [2.58088694e-03, 9.97419119e-01],\n",
       "       [6.74380455e-03, 9.93256211e-01],\n",
       "       [6.95575727e-03, 9.93044198e-01],\n",
       "       [9.92367446e-01, 7.63259735e-03],\n",
       "       [8.91300917e-01, 1.08699031e-01],\n",
       "       [6.06690813e-03, 9.93933022e-01],\n",
       "       [2.95199128e-03, 9.97048080e-01],\n",
       "       [1.35226309e-01, 8.64773631e-01],\n",
       "       [2.29677651e-02, 9.77032185e-01],\n",
       "       [9.54260886e-01, 4.57390435e-02],\n",
       "       [9.86237168e-01, 1.37627693e-02],\n",
       "       [4.42392379e-01, 5.57607651e-01],\n",
       "       [9.63055611e-01, 3.69444713e-02],\n",
       "       [9.28626060e-01, 7.13739246e-02],\n",
       "       [5.85808477e-04, 9.99414206e-01],\n",
       "       [3.28778848e-02, 9.67122078e-01],\n",
       "       [1.26115177e-02, 9.87388492e-01],\n",
       "       [9.79112148e-01, 2.08878536e-02],\n",
       "       [1.25445900e-02, 9.87455487e-01],\n",
       "       [1.99113376e-02, 9.80088651e-01],\n",
       "       [9.71138954e-01, 2.88610347e-02],\n",
       "       [9.71705019e-01, 2.82949321e-02],\n",
       "       [6.34614646e-01, 3.65385324e-01],\n",
       "       [6.75441418e-03, 9.93245661e-01],\n",
       "       [5.64764393e-03, 9.94352341e-01],\n",
       "       [9.89130020e-01, 1.08699752e-02],\n",
       "       [9.87559378e-01, 1.24406340e-02],\n",
       "       [9.95081425e-01, 4.91861394e-03],\n",
       "       [1.25494581e-02, 9.87450600e-01],\n",
       "       [2.59318441e-01, 7.40681529e-01],\n",
       "       [9.97641683e-01, 2.35836348e-03],\n",
       "       [1.78729102e-01, 8.21270883e-01],\n",
       "       [5.57756722e-01, 4.42243278e-01],\n",
       "       [1.22617342e-01, 8.77382636e-01],\n",
       "       [8.08010052e-04, 9.99191940e-01],\n",
       "       [9.97099757e-01, 2.90029123e-03],\n",
       "       [1.20225996e-02, 9.87977445e-01],\n",
       "       [9.93585885e-01, 6.41414244e-03],\n",
       "       [1.38134688e-01, 8.61865342e-01],\n",
       "       [3.45398575e-01, 6.54601455e-01],\n",
       "       [9.63687658e-01, 3.63123268e-02],\n",
       "       [7.13889226e-02, 9.28611040e-01],\n",
       "       [9.04077351e-01, 9.59227309e-02],\n",
       "       [1.09049343e-02, 9.89095032e-01],\n",
       "       [1.36325926e-01, 8.63674045e-01],\n",
       "       [1.99331646e-03, 9.98006642e-01],\n",
       "       [6.14355505e-03, 9.93856490e-01],\n",
       "       [7.87655532e-01, 2.12344453e-01],\n",
       "       [9.96567488e-01, 3.43250763e-03],\n",
       "       [1.15487340e-03, 9.98845100e-01],\n",
       "       [2.75639119e-03, 9.97243643e-01],\n",
       "       [6.18354023e-01, 3.81646007e-01],\n",
       "       [9.93963420e-01, 6.03655120e-03],\n",
       "       [4.00892019e-01, 5.99107981e-01],\n",
       "       [9.99536514e-01, 4.63559525e-04],\n",
       "       [1.81285545e-01, 8.18714440e-01],\n",
       "       [9.08270001e-01, 9.17300284e-02],\n",
       "       [9.91016984e-01, 8.98305606e-03],\n",
       "       [9.90926147e-01, 9.07382648e-03],\n",
       "       [9.96696234e-01, 3.30381328e-03],\n",
       "       [7.56851491e-03, 9.92431521e-01],\n",
       "       [5.22618555e-03, 9.94773805e-01],\n",
       "       [1.15088653e-02, 9.88491178e-01],\n",
       "       [7.58420467e-01, 2.41579533e-01]], dtype=float32)"
      ]
     },
     "execution_count": 77,
     "metadata": {},
     "output_type": "execute_result"
    }
   ],
   "source": [
    "y_pred3"
   ]
  },
  {
   "cell_type": "code",
   "execution_count": 78,
   "metadata": {},
   "outputs": [],
   "source": [
    "from sklearn.svm import SVC,LinearSVC\n",
    "from sklearn.naive_bayes import GaussianNB\n",
    "from sklearn.ensemble import RandomForestClassifier,\\\n",
    "    GradientBoostingClassifier\n",
    "from sklearn.linear_model import LogisticRegression\n",
    "from sklearn.neighbors import KNeighborsClassifier\n",
    "from sklearn.neural_network import MLPClassifier\n",
    "from sklearn.kernel_approximation import Nystroem\n",
    "from sklearn.kernel_approximation import RBFSampler\n",
    "from sklearn.pipeline import make_pipeline"
   ]
  },
  {
   "cell_type": "code",
   "execution_count": 79,
   "metadata": {},
   "outputs": [],
   "source": [
    "def get_models():\n",
    "    nb=GaussianNB()\n",
    "    svc=SVC(C=100,probability=True)\n",
    "    knn=KNeighborsClassifier(n_neighbors=3)\n",
    "    lr=LogisticRegression(C=100,random_state=SEED)\n",
    "    nn=MLPClassifier((80,10),early_stopping=False,random_state=SEED)\n",
    "    gb=GradientBoostingClassifier(n_estimators=100,random_state=SEED)\n",
    "    rf=RandomForestClassifier(n_estimators=100,max_features=3,\n",
    "                             random_state=SEED)\n",
    "    \n",
    "    models={'svm':svc,  #支持向量机\n",
    "           'knn':knn,   #K近邻估计\n",
    "           'naive bayes':nb,  #朴素贝叶斯\n",
    "           'mlp-nn':nn,      \n",
    "           'random forest':rf,    #随机森林\n",
    "           'gbm':gb,              #梯度提升树\n",
    "           'logistic':lr}         #逻辑回归\n",
    "    return models"
   ]
  },
  {
   "cell_type": "code",
   "execution_count": 80,
   "metadata": {},
   "outputs": [],
   "source": [
    "def train_predict(model_list):\n",
    "    P=np.zeros((Y_test.shape[0],len(model_list))) #数据框形状\n",
    "    P=pd.DataFrame(P)\n",
    "    \n",
    "    print('Fitting models.')\n",
    "    cols=list()\n",
    "    for i,(name,m) in enumerate(models.items()):\n",
    "        print('%s...'% name,end=\"\",flush=False)  #flush=F 请求完毕后输出相应内容\n",
    "        m.fit(X_train,Y_train)\n",
    "        P.iloc[:,i]=m.predict_proba(X_test)[:,1]  #填入预测值\n",
    "        cols.append(name)        #收集名称\n",
    "        print('done')    \n",
    "    print('Done.\\n')\n",
    "    P.colunms=cols              #数据框列名\n",
    "    return P"
   ]
  },
  {
   "cell_type": "code",
   "execution_count": 81,
   "metadata": {},
   "outputs": [],
   "source": [
    "def score_models(P,y_test):\n",
    "    print('scoring models.')\n",
    "    for m in P.columns:\n",
    "        score=roc_auc_score(Y_test,P.iloc[:,m])\n",
    "        print('%-26s:%.3f' %(m,score))\n",
    "    print('Done.\\n')"
   ]
  },
  {
   "cell_type": "code",
   "execution_count": 82,
   "metadata": {},
   "outputs": [
    {
     "data": {
      "text/plain": [
       "[0, 1, 2]"
      ]
     },
     "execution_count": 82,
     "metadata": {},
     "output_type": "execute_result"
    }
   ],
   "source": [
    "cols=list()\n",
    "for name in range(0,3):\n",
    "    cols.append(name)\n",
    "cols"
   ]
  },
  {
   "cell_type": "code",
   "execution_count": 83,
   "metadata": {},
   "outputs": [
    {
     "name": "stdout",
     "output_type": "stream",
     "text": [
      "Fitting models.\n",
      "svm...done\n",
      "knn...done\n",
      "naive bayes...done\n",
      "mlp-nn...done\n",
      "random forest...done\n",
      "gbm...done\n",
      "logistic...done\n",
      "Done.\n",
      "\n",
      "scoring models.\n",
      "0                         :0.941\n",
      "1                         :0.933\n",
      "2                         :0.967\n",
      "3                         :0.971\n",
      "4                         :0.986\n",
      "5                         :0.981\n",
      "6                         :0.972\n",
      "Done.\n",
      "\n"
     ]
    }
   ],
   "source": [
    "import warnings\n",
    "warnings.filterwarnings('ignore')\n",
    "SEED=2008\n",
    "models=get_models()\n",
    "P=train_predict(models)\n",
    "score_models(P,Y_test)"
   ]
  },
  {
   "cell_type": "code",
   "execution_count": 263,
   "metadata": {},
   "outputs": [
    {
     "data": {
      "text/html": [
       "<div>\n",
       "<style scoped>\n",
       "    .dataframe tbody tr th:only-of-type {\n",
       "        vertical-align: middle;\n",
       "    }\n",
       "\n",
       "    .dataframe tbody tr th {\n",
       "        vertical-align: top;\n",
       "    }\n",
       "\n",
       "    .dataframe thead th {\n",
       "        text-align: right;\n",
       "    }\n",
       "</style>\n",
       "<table border=\"1\" class=\"dataframe\">\n",
       "  <thead>\n",
       "    <tr style=\"text-align: right;\">\n",
       "      <th></th>\n",
       "      <th>svm</th>\n",
       "      <th>knn</th>\n",
       "      <th>naive bayes</th>\n",
       "      <th>mlp-nn</th>\n",
       "      <th>random forest</th>\n",
       "      <th>gbm</th>\n",
       "      <th>logistic</th>\n",
       "    </tr>\n",
       "  </thead>\n",
       "  <tbody>\n",
       "    <tr>\n",
       "      <th>0</th>\n",
       "      <td>0.003165</td>\n",
       "      <td>0.000000</td>\n",
       "      <td>0.241337</td>\n",
       "      <td>0.063732</td>\n",
       "      <td>0.09</td>\n",
       "      <td>0.008599</td>\n",
       "      <td>0.315743</td>\n",
       "    </tr>\n",
       "    <tr>\n",
       "      <th>1</th>\n",
       "      <td>0.902292</td>\n",
       "      <td>1.000000</td>\n",
       "      <td>0.554039</td>\n",
       "      <td>0.911861</td>\n",
       "      <td>0.92</td>\n",
       "      <td>0.983262</td>\n",
       "      <td>0.495465</td>\n",
       "    </tr>\n",
       "    <tr>\n",
       "      <th>2</th>\n",
       "      <td>0.006738</td>\n",
       "      <td>0.000000</td>\n",
       "      <td>0.000181</td>\n",
       "      <td>0.000749</td>\n",
       "      <td>0.01</td>\n",
       "      <td>0.006550</td>\n",
       "      <td>0.011510</td>\n",
       "    </tr>\n",
       "    <tr>\n",
       "      <th>3</th>\n",
       "      <td>0.797870</td>\n",
       "      <td>0.333333</td>\n",
       "      <td>0.706666</td>\n",
       "      <td>0.058192</td>\n",
       "      <td>0.15</td>\n",
       "      <td>0.038495</td>\n",
       "      <td>0.530410</td>\n",
       "    </tr>\n",
       "    <tr>\n",
       "      <th>4</th>\n",
       "      <td>0.130019</td>\n",
       "      <td>0.000000</td>\n",
       "      <td>0.006447</td>\n",
       "      <td>0.008317</td>\n",
       "      <td>0.06</td>\n",
       "      <td>0.010715</td>\n",
       "      <td>0.057335</td>\n",
       "    </tr>\n",
       "    <tr>\n",
       "      <th>...</th>\n",
       "      <td>...</td>\n",
       "      <td>...</td>\n",
       "      <td>...</td>\n",
       "      <td>...</td>\n",
       "      <td>...</td>\n",
       "      <td>...</td>\n",
       "      <td>...</td>\n",
       "    </tr>\n",
       "    <tr>\n",
       "      <th>149</th>\n",
       "      <td>0.043365</td>\n",
       "      <td>0.000000</td>\n",
       "      <td>0.000086</td>\n",
       "      <td>0.002063</td>\n",
       "      <td>0.00</td>\n",
       "      <td>0.005225</td>\n",
       "      <td>0.008535</td>\n",
       "    </tr>\n",
       "    <tr>\n",
       "      <th>150</th>\n",
       "      <td>0.791881</td>\n",
       "      <td>0.666667</td>\n",
       "      <td>0.963924</td>\n",
       "      <td>0.683872</td>\n",
       "      <td>0.65</td>\n",
       "      <td>0.943252</td>\n",
       "      <td>0.811689</td>\n",
       "    </tr>\n",
       "    <tr>\n",
       "      <th>151</th>\n",
       "      <td>0.964937</td>\n",
       "      <td>1.000000</td>\n",
       "      <td>0.985671</td>\n",
       "      <td>0.967246</td>\n",
       "      <td>0.97</td>\n",
       "      <td>0.988913</td>\n",
       "      <td>0.865296</td>\n",
       "    </tr>\n",
       "    <tr>\n",
       "      <th>152</th>\n",
       "      <td>0.727613</td>\n",
       "      <td>0.666667</td>\n",
       "      <td>0.971780</td>\n",
       "      <td>0.965239</td>\n",
       "      <td>0.99</td>\n",
       "      <td>0.994229</td>\n",
       "      <td>0.851904</td>\n",
       "    </tr>\n",
       "    <tr>\n",
       "      <th>153</th>\n",
       "      <td>0.119052</td>\n",
       "      <td>0.000000</td>\n",
       "      <td>0.033427</td>\n",
       "      <td>0.012428</td>\n",
       "      <td>0.04</td>\n",
       "      <td>0.025259</td>\n",
       "      <td>0.099839</td>\n",
       "    </tr>\n",
       "  </tbody>\n",
       "</table>\n",
       "<p>154 rows × 7 columns</p>\n",
       "</div>"
      ],
      "text/plain": [
       "          svm       knn  naive bayes    mlp-nn  random forest       gbm  \\\n",
       "0    0.003165  0.000000     0.241337  0.063732           0.09  0.008599   \n",
       "1    0.902292  1.000000     0.554039  0.911861           0.92  0.983262   \n",
       "2    0.006738  0.000000     0.000181  0.000749           0.01  0.006550   \n",
       "3    0.797870  0.333333     0.706666  0.058192           0.15  0.038495   \n",
       "4    0.130019  0.000000     0.006447  0.008317           0.06  0.010715   \n",
       "..        ...       ...          ...       ...            ...       ...   \n",
       "149  0.043365  0.000000     0.000086  0.002063           0.00  0.005225   \n",
       "150  0.791881  0.666667     0.963924  0.683872           0.65  0.943252   \n",
       "151  0.964937  1.000000     0.985671  0.967246           0.97  0.988913   \n",
       "152  0.727613  0.666667     0.971780  0.965239           0.99  0.994229   \n",
       "153  0.119052  0.000000     0.033427  0.012428           0.04  0.025259   \n",
       "\n",
       "     logistic  \n",
       "0    0.315743  \n",
       "1    0.495465  \n",
       "2    0.011510  \n",
       "3    0.530410  \n",
       "4    0.057335  \n",
       "..        ...  \n",
       "149  0.008535  \n",
       "150  0.811689  \n",
       "151  0.865296  \n",
       "152  0.851904  \n",
       "153  0.099839  \n",
       "\n",
       "[154 rows x 7 columns]"
      ]
     },
     "execution_count": 263,
     "metadata": {},
     "output_type": "execute_result"
    }
   ],
   "source": [
    "cols=list()\n",
    "for name in models.keys():\n",
    "    cols.append(name)\n",
    "    \n",
    "P.columns=cols\n",
    "P"
   ]
  },
  {
   "cell_type": "code",
   "execution_count": 251,
   "metadata": {},
   "outputs": [
    {
     "name": "stderr",
     "output_type": "stream",
     "text": [
      "[MLENS] backend: threading\n"
     ]
    },
    {
     "data": {
      "image/png": "[encoded data removed]",
      "text/plain": [
       "<Figure size 792x648 with 2 Axes>"
      ]
     },
     "metadata": {
      "needs_background": "light"
     },
     "output_type": "display_data"
    }
   ],
   "source": [
    "from mlens.visualization import corrmat\n",
    "corrmat(P.corr(),inflate=False)\n",
    "plt.show()"
   ]
  },
  {
   "cell_type": "code",
   "execution_count": 253,
   "metadata": {},
   "outputs": [
    {
     "name": "stdout",
     "output_type": "stream",
     "text": [
      "Ensemble roc_auc score: 0.988\n"
     ]
    }
   ],
   "source": [
    "print('Ensemble roc_auc score: %.3f' % roc_auc_score(Y_test,P.mean(axis=1)))"
   ]
  },
  {
   "cell_type": "code",
   "execution_count": 256,
   "metadata": {},
   "outputs": [
    {
     "data": {
      "image/png": "[encoded data removed]",
      "text/plain": [
       "<Figure size 720x576 with 1 Axes>"
      ]
     },
     "metadata": {
      "needs_background": "light"
     },
     "output_type": "display_data"
    }
   ],
   "source": [
    "from sklearn.metrics import roc_curve\n",
    "def plot_roc_curve(ytest, P_base_learners, P_ensemble, labels, ens_label):\n",
    "    \"\"\"Plot the roc curve for base learners and ensemble.\"\"\"\n",
    "    plt.figure(figsize=(10, 8))\n",
    "    plt.plot([0, 1], [0, 1], 'k--')\n",
    "    \n",
    "    cm = [plt.cm.rainbow(i)\n",
    "      for i in np.linspace(0, 1.0, P_base_learners.shape[1] + 1)]\n",
    "    \n",
    "    for i in range(P_base_learners.shape[1]):\n",
    "        p = P_base_learners[:, i]\n",
    "        fpr, tpr, _ = roc_curve(Y_test, p)\n",
    "        plt.plot(fpr, tpr, label=labels[i], c=cm[i + 1])\n",
    "\n",
    "    fpr, tpr, _ = roc_curve(Y_test, P_ensemble)\n",
    "    plt.plot(fpr, tpr, label=ens_label, c=cm[0])\n",
    "        \n",
    "    plt.xlabel('False positive rate')\n",
    "    plt.ylabel('True positive rate')\n",
    "    plt.title('ROC curve')\n",
    "    plt.legend(frameon=False)\n",
    "    plt.show()\n",
    "\n",
    "\n",
    "plot_roc_curve(Y_test, P.values, P.mean(axis=1), list(P.columns), \"ensemble\")"
   ]
  },
  {
   "cell_type": "code",
   "execution_count": 257,
   "metadata": {},
   "outputs": [
    {
     "data": {
      "image/png": "[encoded data removed]",
      "text/plain": [
       "<Figure size 432x288 with 1 Axes>"
      ]
     },
     "metadata": {
      "needs_background": "light"
     },
     "output_type": "display_data"
    }
   ],
   "source": [
    "p=P.apply(lambda x: 1*(x>=0.5).value_counts(normalize=True))\n",
    "p.index=['DEM','REP']\n",
    "p.loc['REP',:].sort_values().plot(kind='bar')\n",
    "plt.axhline(0.25,color='k',linewidth=0.5)\n",
    "plt.text(0,0.23,'True share republicans')\n",
    "plt.show()"
   ]
  },
  {
   "cell_type": "code",
   "execution_count": 258,
   "metadata": {},
   "outputs": [],
   "source": [
    "base_learners=get_models()"
   ]
  },
  {
   "cell_type": "code",
   "execution_count": 259,
   "metadata": {},
   "outputs": [],
   "source": [
    "meta_learner = GradientBoostingClassifier(\n",
    "    n_estimators=1000,\n",
    "    loss=\"exponential\",\n",
    "    max_features=4,\n",
    "    max_depth=3,\n",
    "    subsample=0.5,\n",
    "    learning_rate=0.005, \n",
    "    random_state=SEED\n",
    ")"
   ]
  },
  {
   "cell_type": "code",
   "execution_count": 260,
   "metadata": {},
   "outputs": [],
   "source": [
    "X_train_base,X_test_base,y_train_base,y_test_base=train_test_split(\n",
    "    X_train,Y_train,test_size=0.5,random_state=SEED)"
   ]
  },
  {
   "cell_type": "code",
   "execution_count": 261,
   "metadata": {},
   "outputs": [
    {
     "name": "stdout",
     "output_type": "stream",
     "text": [
      "Fitting models.\n",
      "svm... done\n",
      "knn... done\n",
      "naive bayes... done\n",
      "mlp-nn... done\n",
      "random forest... done\n",
      "gbm... done\n",
      "logistic... done\n"
     ]
    }
   ],
   "source": [
    "def train_base_learners(base_learners, inp, out, verbose=True):\n",
    "    \"\"\"Train all base learners in the library.\"\"\"\n",
    "    if verbose: print(\"Fitting models.\")\n",
    "    for i, (name, m) in enumerate(base_learners.items()):\n",
    "        if verbose: print(\"%s...\" % name, end=\" \", flush=False)\n",
    "        m.fit(inp, out)\n",
    "        if verbose: print(\"done\")\n",
    "\n",
    "train_base_learners(base_learners, X_train_base, y_train_base)"
   ]
  },
  {
   "cell_type": "code",
   "execution_count": 262,
   "metadata": {},
   "outputs": [
    {
     "ename": "AttributeError",
     "evalue": "'function' object has no attribute 'predict'",
     "output_type": "error",
     "traceback": [
      "\u001b[1;31m---------------------------------------------------------------------------\u001b[0m",
      "\u001b[1;31mAttributeError\u001b[0m                            Traceback (most recent call last)",
      "\u001b[1;32m<ipython-input-262-b4ab2552664d>\u001b[0m in \u001b[0;36m<module>\u001b[1;34m\u001b[0m\n\u001b[1;32m----> 1\u001b[1;33m \u001b[0mtrain_base_learners\u001b[0m\u001b[1;33m.\u001b[0m\u001b[0mpredict\u001b[0m\u001b[1;33m(\u001b[0m\u001b[0my_test_base\u001b[0m\u001b[1;33m)\u001b[0m\u001b[1;33m\u001b[0m\u001b[1;33m\u001b[0m\u001b[0m\n\u001b[0m",
      "\u001b[1;31mAttributeError\u001b[0m: 'function' object has no attribute 'predict'"
     ]
    }
   ],
   "source": [
    "def predict_models(P,Y_test):\n",
    "    print('predict models.')\n",
    "    for m in P.columns:\n",
    "        score=roc_auc_score(y_test,P.iloc[:,m])\n",
    "        print('%-26s:%.3f' %(m,score))\n",
    "    print('Done.\\n')"
   ]
  },
  {
   "cell_type": "code",
   "execution_count": 266,
   "metadata": {},
   "outputs": [
    {
     "data": {
      "text/plain": [
       "AdaBoostClassifier()"
      ]
     },
     "execution_count": 266,
     "metadata": {},
     "output_type": "execute_result"
    }
   ],
   "source": [
    "abf=AdaBoostClassifier()\n",
    "abf.fit(X_train,Y_train)"
   ]
  },
  {
   "cell_type": "code",
   "execution_count": 277,
   "metadata": {},
   "outputs": [],
   "source": [
    "y_pred_proba4 = model.predict_proba(X_test)[:,1]\n",
    "y_pred4=model.predict(X_test)"
   ]
  },
  {
   "cell_type": "code",
   "execution_count": 284,
   "metadata": {},
   "outputs": [
    {
     "data": {
      "text/plain": [
       "array([[9.96165037e-01, 3.83503875e-03],\n",
       "       [5.26255593e-02, 9.47374403e-01],\n",
       "       [9.99768317e-01, 2.31666985e-04],\n",
       "       [9.68287647e-01, 3.17123570e-02],\n",
       "       [9.92548048e-01, 7.45196594e-03],\n",
       "       [8.13346744e-01, 1.86653182e-01],\n",
       "       [7.14381365e-03, 9.92856145e-01],\n",
       "       [9.46044207e-01, 5.39558418e-02],\n",
       "       [4.31253342e-03, 9.95687425e-01],\n",
       "       [1.52319120e-02, 9.84768093e-01],\n",
       "       [5.55554628e-01, 4.44445401e-01],\n",
       "       [1.34854484e-02, 9.86514509e-01],\n",
       "       [9.98625517e-01, 1.37448183e-03],\n",
       "       [9.98582602e-01, 1.41746132e-03],\n",
       "       [1.41289206e-02, 9.85871017e-01],\n",
       "       [8.10032308e-01, 1.89967647e-01],\n",
       "       [7.09453583e-01, 2.90546447e-01],\n",
       "       [9.92877424e-01, 7.12259905e-03],\n",
       "       [9.96582568e-01, 3.41748050e-03],\n",
       "       [9.80817318e-01, 1.91827137e-02],\n",
       "       [2.00624429e-02, 9.79937494e-01],\n",
       "       [6.20058715e-01, 3.79941314e-01],\n",
       "       [4.32835221e-02, 9.56716478e-01],\n",
       "       [9.96537089e-01, 3.46288015e-03],\n",
       "       [9.98399794e-01, 1.60021149e-03],\n",
       "       [9.98786628e-01, 1.21338852e-03],\n",
       "       [7.79470682e-01, 2.20529318e-01],\n",
       "       [9.78266656e-01, 2.17333250e-02],\n",
       "       [1.90201938e-01, 8.09798062e-01],\n",
       "       [9.84383583e-01, 1.56163927e-02],\n",
       "       [7.86866844e-01, 2.13133112e-01],\n",
       "       [9.78461385e-01, 2.15385947e-02],\n",
       "       [9.88301337e-01, 1.16986698e-02],\n",
       "       [9.97096062e-01, 2.90389336e-03],\n",
       "       [7.08326459e-01, 2.91673541e-01],\n",
       "       [9.56270576e-01, 4.37294915e-02],\n",
       "       [1.53380051e-01, 8.46619904e-01],\n",
       "       [9.34274733e-01, 6.57252520e-02],\n",
       "       [9.96024847e-01, 3.97508731e-03],\n",
       "       [9.90061879e-01, 9.93818790e-03],\n",
       "       [9.88603115e-01, 1.13968663e-02],\n",
       "       [8.06093216e-02, 9.19390678e-01],\n",
       "       [5.84840596e-01, 4.15159374e-01],\n",
       "       [9.78786230e-01, 2.12138128e-02],\n",
       "       [9.97209489e-01, 2.79045128e-03],\n",
       "       [1.92954108e-01, 8.07045937e-01],\n",
       "       [6.02006875e-02, 9.39799309e-01],\n",
       "       [9.96106088e-01, 3.89383826e-03],\n",
       "       [9.72936273e-01, 2.70636883e-02],\n",
       "       [6.43734038e-01, 3.56265873e-01],\n",
       "       [9.91782188e-01, 8.21783580e-03],\n",
       "       [1.23192864e-02, 9.87680674e-01],\n",
       "       [2.94990465e-03, 9.97050047e-01],\n",
       "       [8.72466207e-01, 1.27533779e-01],\n",
       "       [9.97152567e-01, 2.84740771e-03],\n",
       "       [8.57782125e-01, 1.42217904e-01],\n",
       "       [5.98231964e-02, 9.40176785e-01],\n",
       "       [9.72648978e-01, 2.73509920e-02],\n",
       "       [9.98549163e-01, 1.45078544e-03],\n",
       "       [1.88315138e-02, 9.81168509e-01],\n",
       "       [9.97772992e-01, 2.22695456e-03],\n",
       "       [9.90869045e-01, 9.13102087e-03],\n",
       "       [9.98058856e-01, 1.94117846e-03],\n",
       "       [9.97963548e-01, 2.03648536e-03],\n",
       "       [9.93799746e-01, 6.20027864e-03],\n",
       "       [3.34954225e-02, 9.66504514e-01],\n",
       "       [9.68577087e-01, 3.14229243e-02],\n",
       "       [9.96289015e-01, 3.71098146e-03],\n",
       "       [2.52146460e-02, 9.74785328e-01],\n",
       "       [3.90410610e-02, 9.60958898e-01],\n",
       "       [1.18295521e-01, 8.81704509e-01],\n",
       "       [3.43963015e-03, 9.96560395e-01],\n",
       "       [9.39051092e-01, 6.09489232e-02],\n",
       "       [9.99315143e-01, 6.84920000e-04],\n",
       "       [9.99110758e-01, 8.89207644e-04],\n",
       "       [9.98118699e-01, 1.88126694e-03],\n",
       "       [6.43777940e-03, 9.93562222e-01],\n",
       "       [9.97385442e-01, 2.61450466e-03],\n",
       "       [5.58465183e-01, 4.41534877e-01],\n",
       "       [1.72576264e-01, 8.27423751e-01],\n",
       "       [9.95371759e-01, 4.62818425e-03],\n",
       "       [1.57375425e-01, 8.42624664e-01],\n",
       "       [9.98951077e-01, 1.04888028e-03],\n",
       "       [9.55674827e-01, 4.43251878e-02],\n",
       "       [9.74590242e-01, 2.54097916e-02],\n",
       "       [9.02295530e-01, 9.77044702e-02],\n",
       "       [8.75549018e-01, 1.24450982e-01],\n",
       "       [6.71862662e-02, 9.32813704e-01],\n",
       "       [6.07592100e-03, 9.93924081e-01],\n",
       "       [2.47810885e-01, 7.52189159e-01],\n",
       "       [1.14324121e-02, 9.88567591e-01],\n",
       "       [2.11364165e-01, 7.88635910e-01],\n",
       "       [4.52940464e-02, 9.54705954e-01],\n",
       "       [9.93367612e-01, 6.63239835e-03],\n",
       "       [9.91287410e-01, 8.71259533e-03],\n",
       "       [4.74377209e-03, 9.95256245e-01],\n",
       "       [9.72740293e-01, 2.72596925e-02],\n",
       "       [7.47297943e-01, 2.52701968e-01],\n",
       "       [4.17541593e-01, 5.82458436e-01],\n",
       "       [9.87038255e-01, 1.29617145e-02],\n",
       "       [9.99312758e-01, 6.87190972e-04],\n",
       "       [3.13972265e-01, 6.86027706e-01],\n",
       "       [9.92319763e-01, 7.68026384e-03],\n",
       "       [9.49604869e-01, 5.03951758e-02],\n",
       "       [8.66540708e-04, 9.99133527e-01],\n",
       "       [7.61766732e-01, 2.38233298e-01],\n",
       "       [2.62044016e-02, 9.73795533e-01],\n",
       "       [9.97795820e-01, 2.20414391e-03],\n",
       "       [1.68043375e-01, 8.31956625e-01],\n",
       "       [2.57300362e-02, 9.74269986e-01],\n",
       "       [9.69926238e-01, 3.00737377e-02],\n",
       "       [9.87274170e-01, 1.27257984e-02],\n",
       "       [9.84970987e-01, 1.50290430e-02],\n",
       "       [4.08868760e-01, 5.91131210e-01],\n",
       "       [3.10199149e-02, 9.68980074e-01],\n",
       "       [9.75838780e-01, 2.41612121e-02],\n",
       "       [9.65500057e-01, 3.45000178e-02],\n",
       "       [9.82790112e-01, 1.72098484e-02],\n",
       "       [1.76393464e-02, 9.82360601e-01],\n",
       "       [9.99153137e-01, 8.46834329e-04],\n",
       "       [9.98095930e-01, 1.90406467e-03],\n",
       "       [9.49409246e-01, 5.05907238e-02],\n",
       "       [9.58037615e-01, 4.19623926e-02],\n",
       "       [8.63966495e-02, 9.13603306e-01],\n",
       "       [8.25459231e-03, 9.91745412e-01],\n",
       "       [9.95810628e-01, 4.18943353e-03],\n",
       "       [2.04418879e-02, 9.79558051e-01],\n",
       "       [9.94749844e-01, 5.25020342e-03],\n",
       "       [2.83260822e-01, 7.16739178e-01],\n",
       "       [8.89769971e-01, 1.10230044e-01],\n",
       "       [9.90978718e-01, 9.02125146e-03],\n",
       "       [2.74193715e-02, 9.72580612e-01],\n",
       "       [9.67000902e-01, 3.29991393e-02],\n",
       "       [1.41704204e-02, 9.85829532e-01],\n",
       "       [5.72749019e-01, 4.27251041e-01],\n",
       "       [3.47499596e-03, 9.96524990e-01],\n",
       "       [8.81094206e-03, 9.91189003e-01],\n",
       "       [9.83096242e-01, 1.69036873e-02],\n",
       "       [9.95543897e-01, 4.45617037e-03],\n",
       "       [4.34071245e-03, 9.95659292e-01],\n",
       "       [4.31398414e-02, 9.56860125e-01],\n",
       "       [7.59344935e-01, 2.40655065e-01],\n",
       "       [9.76174593e-01, 2.38254350e-02],\n",
       "       [7.21311033e-01, 2.78688908e-01],\n",
       "       [9.99181330e-01, 8.18626781e-04],\n",
       "       [1.89668432e-01, 8.10331643e-01],\n",
       "       [7.66243577e-01, 2.33756408e-01],\n",
       "       [9.94197369e-01, 5.80261974e-03],\n",
       "       [9.88163888e-01, 1.18361153e-02],\n",
       "       [9.92811263e-01, 7.18866708e-03],\n",
       "       [1.52780890e-01, 8.47219110e-01],\n",
       "       [7.70124607e-03, 9.92298782e-01],\n",
       "       [1.74918324e-02, 9.82508242e-01],\n",
       "       [9.86941278e-01, 1.30587341e-02]], dtype=float32)"
      ]
     },
     "execution_count": 284,
     "metadata": {},
     "output_type": "execute_result"
    }
   ],
   "source": [
    "y_pred3"
   ]
  },
  {
   "cell_type": "code",
   "execution_count": 279,
   "metadata": {},
   "outputs": [
    {
     "data": {
      "text/plain": [
       "array([3.83503875e-03, 9.47374403e-01, 2.31666985e-04, 3.17123570e-02,\n",
       "       7.45196594e-03, 1.86653182e-01, 9.92856145e-01, 5.39558418e-02,\n",
       "       9.95687425e-01, 9.84768093e-01, 4.44445401e-01, 9.86514509e-01,\n",
       "       1.37448183e-03, 1.41746132e-03, 9.85871017e-01, 1.89967647e-01,\n",
       "       2.90546447e-01, 7.12259905e-03, 3.41748050e-03, 1.91827137e-02,\n",
       "       9.79937494e-01, 3.79941314e-01, 9.56716478e-01, 3.46288015e-03,\n",
       "       1.60021149e-03, 1.21338852e-03, 2.20529318e-01, 2.17333250e-02,\n",
       "       8.09798062e-01, 1.56163927e-02, 2.13133112e-01, 2.15385947e-02,\n",
       "       1.16986698e-02, 2.90389336e-03, 2.91673541e-01, 4.37294915e-02,\n",
       "       8.46619904e-01, 6.57252520e-02, 3.97508731e-03, 9.93818790e-03,\n",
       "       1.13968663e-02, 9.19390678e-01, 4.15159374e-01, 2.12138128e-02,\n",
       "       2.79045128e-03, 8.07045937e-01, 9.39799309e-01, 3.89383826e-03,\n",
       "       2.70636883e-02, 3.56265873e-01, 8.21783580e-03, 9.87680674e-01,\n",
       "       9.97050047e-01, 1.27533779e-01, 2.84740771e-03, 1.42217904e-01,\n",
       "       9.40176785e-01, 2.73509920e-02, 1.45078544e-03, 9.81168509e-01,\n",
       "       2.22695456e-03, 9.13102087e-03, 1.94117846e-03, 2.03648536e-03,\n",
       "       6.20027864e-03, 9.66504514e-01, 3.14229243e-02, 3.71098146e-03,\n",
       "       9.74785328e-01, 9.60958898e-01, 8.81704509e-01, 9.96560395e-01,\n",
       "       6.09489232e-02, 6.84920000e-04, 8.89207644e-04, 1.88126694e-03,\n",
       "       9.93562222e-01, 2.61450466e-03, 4.41534877e-01, 8.27423751e-01,\n",
       "       4.62818425e-03, 8.42624664e-01, 1.04888028e-03, 4.43251878e-02,\n",
       "       2.54097916e-02, 9.77044702e-02, 1.24450982e-01, 9.32813704e-01,\n",
       "       9.93924081e-01, 7.52189159e-01, 9.88567591e-01, 7.88635910e-01,\n",
       "       9.54705954e-01, 6.63239835e-03, 8.71259533e-03, 9.95256245e-01,\n",
       "       2.72596925e-02, 2.52701968e-01, 5.82458436e-01, 1.29617145e-02,\n",
       "       6.87190972e-04, 6.86027706e-01, 7.68026384e-03, 5.03951758e-02,\n",
       "       9.99133527e-01, 2.38233298e-01, 9.73795533e-01, 2.20414391e-03,\n",
       "       8.31956625e-01, 9.74269986e-01, 3.00737377e-02, 1.27257984e-02,\n",
       "       1.50290430e-02, 5.91131210e-01, 9.68980074e-01, 2.41612121e-02,\n",
       "       3.45000178e-02, 1.72098484e-02, 9.82360601e-01, 8.46834329e-04,\n",
       "       1.90406467e-03, 5.05907238e-02, 4.19623926e-02, 9.13603306e-01,\n",
       "       9.91745412e-01, 4.18943353e-03, 9.79558051e-01, 5.25020342e-03,\n",
       "       7.16739178e-01, 1.10230044e-01, 9.02125146e-03, 9.72580612e-01,\n",
       "       3.29991393e-02, 9.85829532e-01, 4.27251041e-01, 9.96524990e-01,\n",
       "       9.91189003e-01, 1.69036873e-02, 4.45617037e-03, 9.95659292e-01,\n",
       "       9.56860125e-01, 2.40655065e-01, 2.38254350e-02, 2.78688908e-01,\n",
       "       8.18626781e-04, 8.10331643e-01, 2.33756408e-01, 5.80261974e-03,\n",
       "       1.18361153e-02, 7.18866708e-03, 8.47219110e-01, 9.92298782e-01,\n",
       "       9.82508242e-01, 1.30587341e-02], dtype=float32)"
      ]
     },
     "execution_count": 279,
     "metadata": {},
     "output_type": "execute_result"
    }
   ],
   "source": [
    "y_pred_proba4"
   ]
  },
  {
   "cell_type": "code",
   "execution_count": 281,
   "metadata": {},
   "outputs": [
    {
     "ename": "ValueError",
     "evalue": "Classification metrics can't handle a mix of binary and continuous-multioutput targets",
     "output_type": "error",
     "traceback": [
      "\u001b[1;31m---------------------------------------------------------------------------\u001b[0m",
      "\u001b[1;31mValueError\u001b[0m                                Traceback (most recent call last)",
      "\u001b[1;32m<ipython-input-281-17ab6eb41d41>\u001b[0m in \u001b[0;36m<module>\u001b[1;34m\u001b[0m\n\u001b[0;32m      1\u001b[0m \u001b[1;32mfrom\u001b[0m \u001b[0msklearn\u001b[0m \u001b[1;32mimport\u001b[0m \u001b[0mmetrics\u001b[0m\u001b[1;33m\u001b[0m\u001b[1;33m\u001b[0m\u001b[0m\n\u001b[1;32m----> 2\u001b[1;33m \u001b[0mprint\u001b[0m\u001b[1;33m(\u001b[0m\u001b[0mmetrics\u001b[0m\u001b[1;33m.\u001b[0m\u001b[0maccuracy_score\u001b[0m\u001b[1;33m(\u001b[0m\u001b[0mY_test\u001b[0m\u001b[1;33m,\u001b[0m\u001b[0my_pred4\u001b[0m\u001b[1;33m)\u001b[0m\u001b[1;33m)\u001b[0m\u001b[1;33m\u001b[0m\u001b[1;33m\u001b[0m\u001b[0m\n\u001b[0m",
      "\u001b[1;32mE:\\Users\\86135\\anaconda3\\lib\\site-packages\\sklearn\\utils\\validation.py\u001b[0m in \u001b[0;36minner_f\u001b[1;34m(*args, **kwargs)\u001b[0m\n\u001b[0;32m     71\u001b[0m                           FutureWarning)\n\u001b[0;32m     72\u001b[0m         \u001b[0mkwargs\u001b[0m\u001b[1;33m.\u001b[0m\u001b[0mupdate\u001b[0m\u001b[1;33m(\u001b[0m\u001b[1;33m{\u001b[0m\u001b[0mk\u001b[0m\u001b[1;33m:\u001b[0m \u001b[0marg\u001b[0m \u001b[1;32mfor\u001b[0m \u001b[0mk\u001b[0m\u001b[1;33m,\u001b[0m \u001b[0marg\u001b[0m \u001b[1;32min\u001b[0m \u001b[0mzip\u001b[0m\u001b[1;33m(\u001b[0m\u001b[0msig\u001b[0m\u001b[1;33m.\u001b[0m\u001b[0mparameters\u001b[0m\u001b[1;33m,\u001b[0m \u001b[0margs\u001b[0m\u001b[1;33m)\u001b[0m\u001b[1;33m}\u001b[0m\u001b[1;33m)\u001b[0m\u001b[1;33m\u001b[0m\u001b[1;33m\u001b[0m\u001b[0m\n\u001b[1;32m---> 73\u001b[1;33m         \u001b[1;32mreturn\u001b[0m \u001b[0mf\u001b[0m\u001b[1;33m(\u001b[0m\u001b[1;33m**\u001b[0m\u001b[0mkwargs\u001b[0m\u001b[1;33m)\u001b[0m\u001b[1;33m\u001b[0m\u001b[1;33m\u001b[0m\u001b[0m\n\u001b[0m\u001b[0;32m     74\u001b[0m     \u001b[1;32mreturn\u001b[0m \u001b[0minner_f\u001b[0m\u001b[1;33m\u001b[0m\u001b[1;33m\u001b[0m\u001b[0m\n\u001b[0;32m     75\u001b[0m \u001b[1;33m\u001b[0m\u001b[0m\n",
      "\u001b[1;32mE:\\Users\\86135\\anaconda3\\lib\\site-packages\\sklearn\\metrics\\_classification.py\u001b[0m in \u001b[0;36maccuracy_score\u001b[1;34m(y_true, y_pred, normalize, sample_weight)\u001b[0m\n\u001b[0;32m    185\u001b[0m \u001b[1;33m\u001b[0m\u001b[0m\n\u001b[0;32m    186\u001b[0m     \u001b[1;31m# Compute accuracy for each possible representation\u001b[0m\u001b[1;33m\u001b[0m\u001b[1;33m\u001b[0m\u001b[1;33m\u001b[0m\u001b[0m\n\u001b[1;32m--> 187\u001b[1;33m     \u001b[0my_type\u001b[0m\u001b[1;33m,\u001b[0m \u001b[0my_true\u001b[0m\u001b[1;33m,\u001b[0m \u001b[0my_pred\u001b[0m \u001b[1;33m=\u001b[0m \u001b[0m_check_targets\u001b[0m\u001b[1;33m(\u001b[0m\u001b[0my_true\u001b[0m\u001b[1;33m,\u001b[0m \u001b[0my_pred\u001b[0m\u001b[1;33m)\u001b[0m\u001b[1;33m\u001b[0m\u001b[1;33m\u001b[0m\u001b[0m\n\u001b[0m\u001b[0;32m    188\u001b[0m     \u001b[0mcheck_consistent_length\u001b[0m\u001b[1;33m(\u001b[0m\u001b[0my_true\u001b[0m\u001b[1;33m,\u001b[0m \u001b[0my_pred\u001b[0m\u001b[1;33m,\u001b[0m \u001b[0msample_weight\u001b[0m\u001b[1;33m)\u001b[0m\u001b[1;33m\u001b[0m\u001b[1;33m\u001b[0m\u001b[0m\n\u001b[0;32m    189\u001b[0m     \u001b[1;32mif\u001b[0m \u001b[0my_type\u001b[0m\u001b[1;33m.\u001b[0m\u001b[0mstartswith\u001b[0m\u001b[1;33m(\u001b[0m\u001b[1;34m'multilabel'\u001b[0m\u001b[1;33m)\u001b[0m\u001b[1;33m:\u001b[0m\u001b[1;33m\u001b[0m\u001b[1;33m\u001b[0m\u001b[0m\n",
      "\u001b[1;32mE:\\Users\\86135\\anaconda3\\lib\\site-packages\\sklearn\\metrics\\_classification.py\u001b[0m in \u001b[0;36m_check_targets\u001b[1;34m(y_true, y_pred)\u001b[0m\n\u001b[0;32m     89\u001b[0m     \u001b[1;32mif\u001b[0m \u001b[0mlen\u001b[0m\u001b[1;33m(\u001b[0m\u001b[0my_type\u001b[0m\u001b[1;33m)\u001b[0m \u001b[1;33m>\u001b[0m \u001b[1;36m1\u001b[0m\u001b[1;33m:\u001b[0m\u001b[1;33m\u001b[0m\u001b[1;33m\u001b[0m\u001b[0m\n\u001b[0;32m     90\u001b[0m         raise ValueError(\"Classification metrics can't handle a mix of {0} \"\n\u001b[1;32m---> 91\u001b[1;33m                          \"and {1} targets\".format(type_true, type_pred))\n\u001b[0m\u001b[0;32m     92\u001b[0m \u001b[1;33m\u001b[0m\u001b[0m\n\u001b[0;32m     93\u001b[0m     \u001b[1;31m# We can't have more than one value on y_type => The set is no more needed\u001b[0m\u001b[1;33m\u001b[0m\u001b[1;33m\u001b[0m\u001b[1;33m\u001b[0m\u001b[0m\n",
      "\u001b[1;31mValueError\u001b[0m: Classification metrics can't handle a mix of binary and continuous-multioutput targets"
     ]
    }
   ],
   "source": [
    "from sklearn import metrics\n",
    "print(metrics.accuracy_score(Y_test,y_pred4))"
   ]
  },
  {
   "cell_type": "code",
   "execution_count": null,
   "metadata": {},
   "outputs": [],
   "source": []
  }
 ],
 "metadata": {
  "kernelspec": {
   "display_name": "Python 3",
   "language": "python",
   "name": "python3"
  },
  "language_info": {
   "codemirror_mode": {
    "name": "ipython",
    "version": 3
   },
   "file_extension": ".py",
   "mimetype": "text/x-python",
   "name": "python",
   "nbconvert_exporter": "python",
   "pygments_lexer": "ipython3",
   "version": "3.7.6"
  }
 },
 "nbformat": 4,
 "nbformat_minor": 4
}
