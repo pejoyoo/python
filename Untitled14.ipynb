{
 "cells": [
  {
   "cell_type": "code",
   "execution_count": 1,
   "metadata": {},
   "outputs": [
    {
     "data": {
      "text/html": [
       "        <script type=\"text/javascript\">\n",
       "        window.PlotlyConfig = {MathJaxConfig: 'local'};\n",
       "        if (window.MathJax) {MathJax.Hub.Config({SVG: {font: \"STIX-Web\"}});}\n",
       "        if (typeof require !== 'undefined') {\n",
       "        require.undef(\"plotly\");\n",
       "        requirejs.config({\n",
       "            paths: {\n",
       "                'plotly': ['https://cdn.plot.ly/plotly-latest.min']\n",
       "            }\n",
       "        });\n",
       "        require(['plotly'], function(Plotly) {\n",
       "            window._Plotly = Plotly;\n",
       "        });\n",
       "        }\n",
       "        </script>\n",
       "        "
      ]
     },
     "metadata": {},
     "output_type": "display_data"
    },
    {
     "name": "stderr",
     "output_type": "stream",
     "text": [
      "E:\\Users\\86135\\anaconda3\\lib\\site-packages\\sklearn\\utils\\deprecation.py:143: FutureWarning:\n",
      "\n",
      "The sklearn.metrics.classification module is  deprecated in version 0.22 and will be removed in version 0.24. The corresponding classes / functions should instead be imported from sklearn.metrics. Anything that cannot be imported from sklearn.metrics is now part of the private API.\n",
      "\n"
     ]
    }
   ],
   "source": [
    "#Classic,data manipulation and linear algebra\n",
    "import pandas as pd\n",
    "import numpy as np\n",
    "\n",
    "#plots\n",
    "import seaborn as sns\n",
    "import matplotlib.pyplot as plt \n",
    "%matplotlib inline\n",
    "import plotly.offline as py\n",
    "import plotly.graph_objs as go\n",
    "from plotly.offline import download_plotlyjs,init_notebook_mode,plot,iplot\n",
    "import plotly.tools as tls\n",
    "import plotly.figure_factory as ff\n",
    "py.init_notebook_mode(connected=True)\n",
    "import squarify\n",
    "\n",
    "#Data processing,metrics and modeling\n",
    "from sklearn.preprocessing import StandardScaler,LabelEncoder\n",
    "from sklearn.model_selection import GridSearchCV,cross_val_score,train_test_split,RandomizedSearchCV\n",
    "from sklearn.metrics import precision_score,recall_score,confusion_matrix,roc_curve,precision_recall_curve,accuracy_score,roc_auc_score\n",
    "import lightgbm as lgbm\n",
    "from sklearn.ensemble import VotingClassifier\n",
    "from sklearn.neighbors import KNeighborsClassifier\n",
    "from sklearn.metrics import roc_curve,auc\n",
    "from sklearn.model_selection import KFold\n",
    "from sklearn.model_selection import cross_val_predict\n",
    "from yellowbrick.classifier import DiscriminationThreshold\n",
    "\n",
    "#Stats\n",
    "import scipy.stats as ss\n",
    "from scipy import interp\n",
    "from scipy.stats import randint as sp_randint\n",
    "from scipy.stats import uniform as sp_uniform\n",
    "\n",
    "#Time\n",
    "from contextlib import contextmanager\n",
    "@contextmanager\n",
    "def timer(title):\n",
    "    t0=time.time()\n",
    "    yield\n",
    "    print('{}-done in {:.0f}s'.format(title,time.time()-t0))\n",
    "    \n",
    "#ignore warning messages\n",
    "import warnings\n",
    "warnings.filterwarnings('ignore')"
   ]
  },
  {
   "cell_type": "code",
   "execution_count": 2,
   "metadata": {},
   "outputs": [],
   "source": [
    "data=pd.read_csv('data\\diabetes1.csv')"
   ]
  },
  {
   "cell_type": "code",
   "execution_count": 3,
   "metadata": {},
   "outputs": [
    {
     "name": "stdout",
     "output_type": "stream",
     "text": [
      "<class 'pandas.core.frame.DataFrame'>\n",
      "RangeIndex: 768 entries, 0 to 767\n",
      "Data columns (total 9 columns):\n",
      " #   Column                    Non-Null Count  Dtype  \n",
      "---  ------                    --------------  -----  \n",
      " 0   Pregnancies               768 non-null    int64  \n",
      " 1   Glucose                   768 non-null    int64  \n",
      " 2   BloodPressure             768 non-null    int64  \n",
      " 3   SkinThickness             768 non-null    int64  \n",
      " 4   Insulin                   768 non-null    int64  \n",
      " 5   BMI                       768 non-null    float64\n",
      " 6   DiabetesPedigreeFunction  768 non-null    float64\n",
      " 7   Age                       768 non-null    int64  \n",
      " 8   Outcome                   768 non-null    int64  \n",
      "dtypes: float64(2), int64(7)\n",
      "memory usage: 54.1 KB\n"
     ]
    },
    {
     "data": {
      "text/plain": [
       "None"
      ]
     },
     "metadata": {},
     "output_type": "display_data"
    },
    {
     "data": {
      "text/html": [
       "<div>\n",
       "<style scoped>\n",
       "    .dataframe tbody tr th:only-of-type {\n",
       "        vertical-align: middle;\n",
       "    }\n",
       "\n",
       "    .dataframe tbody tr th {\n",
       "        vertical-align: top;\n",
       "    }\n",
       "\n",
       "    .dataframe thead th {\n",
       "        text-align: right;\n",
       "    }\n",
       "</style>\n",
       "<table border=\"1\" class=\"dataframe\">\n",
       "  <thead>\n",
       "    <tr style=\"text-align: right;\">\n",
       "      <th></th>\n",
       "      <th>Pregnancies</th>\n",
       "      <th>Glucose</th>\n",
       "      <th>BloodPressure</th>\n",
       "      <th>SkinThickness</th>\n",
       "      <th>Insulin</th>\n",
       "      <th>BMI</th>\n",
       "      <th>DiabetesPedigreeFunction</th>\n",
       "      <th>Age</th>\n",
       "      <th>Outcome</th>\n",
       "    </tr>\n",
       "  </thead>\n",
       "  <tbody>\n",
       "    <tr>\n",
       "      <th>0</th>\n",
       "      <td>6</td>\n",
       "      <td>148</td>\n",
       "      <td>72</td>\n",
       "      <td>35</td>\n",
       "      <td>0</td>\n",
       "      <td>33.6</td>\n",
       "      <td>0.627</td>\n",
       "      <td>50</td>\n",
       "      <td>1</td>\n",
       "    </tr>\n",
       "    <tr>\n",
       "      <th>1</th>\n",
       "      <td>1</td>\n",
       "      <td>85</td>\n",
       "      <td>66</td>\n",
       "      <td>29</td>\n",
       "      <td>0</td>\n",
       "      <td>26.6</td>\n",
       "      <td>0.351</td>\n",
       "      <td>31</td>\n",
       "      <td>0</td>\n",
       "    </tr>\n",
       "    <tr>\n",
       "      <th>2</th>\n",
       "      <td>8</td>\n",
       "      <td>183</td>\n",
       "      <td>64</td>\n",
       "      <td>0</td>\n",
       "      <td>0</td>\n",
       "      <td>23.3</td>\n",
       "      <td>0.672</td>\n",
       "      <td>32</td>\n",
       "      <td>1</td>\n",
       "    </tr>\n",
       "    <tr>\n",
       "      <th>3</th>\n",
       "      <td>1</td>\n",
       "      <td>89</td>\n",
       "      <td>66</td>\n",
       "      <td>23</td>\n",
       "      <td>94</td>\n",
       "      <td>28.1</td>\n",
       "      <td>0.167</td>\n",
       "      <td>21</td>\n",
       "      <td>0</td>\n",
       "    </tr>\n",
       "    <tr>\n",
       "      <th>4</th>\n",
       "      <td>0</td>\n",
       "      <td>137</td>\n",
       "      <td>40</td>\n",
       "      <td>35</td>\n",
       "      <td>168</td>\n",
       "      <td>43.1</td>\n",
       "      <td>2.288</td>\n",
       "      <td>33</td>\n",
       "      <td>1</td>\n",
       "    </tr>\n",
       "  </tbody>\n",
       "</table>\n",
       "</div>"
      ],
      "text/plain": [
       "   Pregnancies  Glucose  BloodPressure  SkinThickness  Insulin   BMI  \\\n",
       "0            6      148             72             35        0  33.6   \n",
       "1            1       85             66             29        0  26.6   \n",
       "2            8      183             64              0        0  23.3   \n",
       "3            1       89             66             23       94  28.1   \n",
       "4            0      137             40             35      168  43.1   \n",
       "\n",
       "   DiabetesPedigreeFunction  Age  Outcome  \n",
       "0                     0.627   50        1  \n",
       "1                     0.351   31        0  \n",
       "2                     0.672   32        1  \n",
       "3                     0.167   21        0  \n",
       "4                     2.288   33        1  "
      ]
     },
     "metadata": {},
     "output_type": "display_data"
    }
   ],
   "source": [
    "display(data.info(),data.head())"
   ]
  },
  {
   "cell_type": "code",
   "execution_count": 4,
   "metadata": {},
   "outputs": [],
   "source": [
    "#2 kinds of datasets\n",
    "D=data[(data['Outcome']!=0)]\n",
    "H=data[(data['Outcome']==0)]\n",
    "\n",
    "#Count\n",
    "def target_count():\n",
    "    trace =go.Bar(\n",
    "        x = data['Outcome'].value_counts().values.tolist(),\n",
    "        y = ['healthy','diabetic'],orientation='h',\n",
    "        text=data['Outcome'].value_counts().values.tolist(),\n",
    "        textfont=dict(size=15),\n",
    "        textposition='auto',\n",
    "        opacity=0.8,marker=dict(\n",
    "        color=['lightskyblue','gold'],\n",
    "        line=dict(color='#000000',width=1.5))        \n",
    "    )\n",
    "    layout=dict(title='Count of Outcome Variable')\n",
    "    fig=dict(data=[trace],layout=layout)\n",
    "    py.iplot(fig)\n",
    "    \n",
    "#Percentage\n",
    "def target_percent():\n",
    "    trace=go.Pie(labels=['healthy','diabetic'],values=data['Outcome'].value_counts(),\n",
    "                textfont=dict(size=15),opacity=0.8,\n",
    "                marker=dict(colors=['lightskyblue','gold'],\n",
    "                           line=dict(color='#000000',width=1.5)))\n",
    "    layout=dict(title='Distribution of Outcome Variable')\n",
    "    fig=dict(data=[trace],layout=layout)\n",
    "    py.iplot(fig)"
   ]
  },
  {
   "cell_type": "code",
   "execution_count": 5,
   "metadata": {
    "scrolled": true
   },
   "outputs": [
    {
     "data": {
      "application/vnd.plotly.v1+json": {
       "config": {
        "linkText": "Export to plot.ly",
        "plotlyServerURL": "https://plot.ly",
        "showLink": false
       },
       "data": [
        {
         "marker": {
          "color": [
           "lightskyblue",
           "gold"
          ],
          "line": {
           "color": "#000000",
           "width": 1.5
          }
         },
         "opacity": 0.8,
         "orientation": "h",
         "text": [
          "500",
          "268"
         ],
         "textfont": {
          "size": 15
         },
         "textposition": "auto",
         "type": "bar",
         "x": [
          500,
          268
         ],
         "y": [
          "healthy",
          "diabetic"
         ]
        }
       ],
       "layout": {
        "template": {
         "data": {
          "bar": [
           {
            "error_x": {
             "color": "#2a3f5f"
            },
            "error_y": {
             "color": "#2a3f5f"
            },
            "marker": {
             "line": {
              "color": "#E5ECF6",
              "width": 0.5
             }
            },
            "type": "bar"
           }
          ],
          "barpolar": [
           {
            "marker": {
             "line": {
              "color": "#E5ECF6",
              "width": 0.5
             }
            },
            "type": "barpolar"
           }
          ],
          "carpet": [
           {
            "aaxis": {
             "endlinecolor": "#2a3f5f",
             "gridcolor": "white",
             "linecolor": "white",
             "minorgridcolor": "white",
             "startlinecolor": "#2a3f5f"
            },
            "baxis": {
             "endlinecolor": "#2a3f5f",
             "gridcolor": "white",
             "linecolor": "white",
             "minorgridcolor": "white",
             "startlinecolor": "#2a3f5f"
            },
            "type": "carpet"
           }
          ],
          "choropleth": [
           {
            "colorbar": {
             "outlinewidth": 0,
             "ticks": ""
            },
            "type": "choropleth"
           }
          ],
          "contour": [
           {
            "colorbar": {
             "outlinewidth": 0,
             "ticks": ""
            },
            "colorscale": [
             [
              0,
              "#0d0887"
             ],
             [
              0.1111111111111111,
              "#46039f"
             ],
             [
              0.2222222222222222,
              "#7201a8"
             ],
             [
              0.3333333333333333,
              "#9c179e"
             ],
             [
              0.4444444444444444,
              "#bd3786"
             ],
             [
              0.5555555555555556,
              "#d8576b"
             ],
             [
              0.6666666666666666,
              "#ed7953"
             ],
             [
              0.7777777777777778,
              "#fb9f3a"
             ],
             [
              0.8888888888888888,
              "#fdca26"
             ],
             [
              1,
              "#f0f921"
             ]
            ],
            "type": "contour"
           }
          ],
          "contourcarpet": [
           {
            "colorbar": {
             "outlinewidth": 0,
             "ticks": ""
            },
            "type": "contourcarpet"
           }
          ],
          "heatmap": [
           {
            "colorbar": {
             "outlinewidth": 0,
             "ticks": ""
            },
            "colorscale": [
             [
              0,
              "#0d0887"
             ],
             [
              0.1111111111111111,
              "#46039f"
             ],
             [
              0.2222222222222222,
              "#7201a8"
             ],
             [
              0.3333333333333333,
              "#9c179e"
             ],
             [
              0.4444444444444444,
              "#bd3786"
             ],
             [
              0.5555555555555556,
              "#d8576b"
             ],
             [
              0.6666666666666666,
              "#ed7953"
             ],
             [
              0.7777777777777778,
              "#fb9f3a"
             ],
             [
              0.8888888888888888,
              "#fdca26"
             ],
             [
              1,
              "#f0f921"
             ]
            ],
            "type": "heatmap"
           }
          ],
          "heatmapgl": [
           {
            "colorbar": {
             "outlinewidth": 0,
             "ticks": ""
            },
            "colorscale": [
             [
              0,
              "#0d0887"
             ],
             [
              0.1111111111111111,
              "#46039f"
             ],
             [
              0.2222222222222222,
              "#7201a8"
             ],
             [
              0.3333333333333333,
              "#9c179e"
             ],
             [
              0.4444444444444444,
              "#bd3786"
             ],
             [
              0.5555555555555556,
              "#d8576b"
             ],
             [
              0.6666666666666666,
              "#ed7953"
             ],
             [
              0.7777777777777778,
              "#fb9f3a"
             ],
             [
              0.8888888888888888,
              "#fdca26"
             ],
             [
              1,
              "#f0f921"
             ]
            ],
            "type": "heatmapgl"
           }
          ],
          "histogram": [
           {
            "marker": {
             "colorbar": {
              "outlinewidth": 0,
              "ticks": ""
             }
            },
            "type": "histogram"
           }
          ],
          "histogram2d": [
           {
            "colorbar": {
             "outlinewidth": 0,
             "ticks": ""
            },
            "colorscale": [
             [
              0,
              "#0d0887"
             ],
             [
              0.1111111111111111,
              "#46039f"
             ],
             [
              0.2222222222222222,
              "#7201a8"
             ],
             [
              0.3333333333333333,
              "#9c179e"
             ],
             [
              0.4444444444444444,
              "#bd3786"
             ],
             [
              0.5555555555555556,
              "#d8576b"
             ],
             [
              0.6666666666666666,
              "#ed7953"
             ],
             [
              0.7777777777777778,
              "#fb9f3a"
             ],
             [
              0.8888888888888888,
              "#fdca26"
             ],
             [
              1,
              "#f0f921"
             ]
            ],
            "type": "histogram2d"
           }
          ],
          "histogram2dcontour": [
           {
            "colorbar": {
             "outlinewidth": 0,
             "ticks": ""
            },
            "colorscale": [
             [
              0,
              "#0d0887"
             ],
             [
              0.1111111111111111,
              "#46039f"
             ],
             [
              0.2222222222222222,
              "#7201a8"
             ],
             [
              0.3333333333333333,
              "#9c179e"
             ],
             [
              0.4444444444444444,
              "#bd3786"
             ],
             [
              0.5555555555555556,
              "#d8576b"
             ],
             [
              0.6666666666666666,
              "#ed7953"
             ],
             [
              0.7777777777777778,
              "#fb9f3a"
             ],
             [
              0.8888888888888888,
              "#fdca26"
             ],
             [
              1,
              "#f0f921"
             ]
            ],
            "type": "histogram2dcontour"
           }
          ],
          "mesh3d": [
           {
            "colorbar": {
             "outlinewidth": 0,
             "ticks": ""
            },
            "type": "mesh3d"
           }
          ],
          "parcoords": [
           {
            "line": {
             "colorbar": {
              "outlinewidth": 0,
              "ticks": ""
             }
            },
            "type": "parcoords"
           }
          ],
          "pie": [
           {
            "automargin": true,
            "type": "pie"
           }
          ],
          "scatter": [
           {
            "marker": {
             "colorbar": {
              "outlinewidth": 0,
              "ticks": ""
             }
            },
            "type": "scatter"
           }
          ],
          "scatter3d": [
           {
            "line": {
             "colorbar": {
              "outlinewidth": 0,
              "ticks": ""
             }
            },
            "marker": {
             "colorbar": {
              "outlinewidth": 0,
              "ticks": ""
             }
            },
            "type": "scatter3d"
           }
          ],
          "scattercarpet": [
           {
            "marker": {
             "colorbar": {
              "outlinewidth": 0,
              "ticks": ""
             }
            },
            "type": "scattercarpet"
           }
          ],
          "scattergeo": [
           {
            "marker": {
             "colorbar": {
              "outlinewidth": 0,
              "ticks": ""
             }
            },
            "type": "scattergeo"
           }
          ],
          "scattergl": [
           {
            "marker": {
             "colorbar": {
              "outlinewidth": 0,
              "ticks": ""
             }
            },
            "type": "scattergl"
           }
          ],
          "scattermapbox": [
           {
            "marker": {
             "colorbar": {
              "outlinewidth": 0,
              "ticks": ""
             }
            },
            "type": "scattermapbox"
           }
          ],
          "scatterpolar": [
           {
            "marker": {
             "colorbar": {
              "outlinewidth": 0,
              "ticks": ""
             }
            },
            "type": "scatterpolar"
           }
          ],
          "scatterpolargl": [
           {
            "marker": {
             "colorbar": {
              "outlinewidth": 0,
              "ticks": ""
             }
            },
            "type": "scatterpolargl"
           }
          ],
          "scatterternary": [
           {
            "marker": {
             "colorbar": {
              "outlinewidth": 0,
              "ticks": ""
             }
            },
            "type": "scatterternary"
           }
          ],
          "surface": [
           {
            "colorbar": {
             "outlinewidth": 0,
             "ticks": ""
            },
            "colorscale": [
             [
              0,
              "#0d0887"
             ],
             [
              0.1111111111111111,
              "#46039f"
             ],
             [
              0.2222222222222222,
              "#7201a8"
             ],
             [
              0.3333333333333333,
              "#9c179e"
             ],
             [
              0.4444444444444444,
              "#bd3786"
             ],
             [
              0.5555555555555556,
              "#d8576b"
             ],
             [
              0.6666666666666666,
              "#ed7953"
             ],
             [
              0.7777777777777778,
              "#fb9f3a"
             ],
             [
              0.8888888888888888,
              "#fdca26"
             ],
             [
              1,
              "#f0f921"
             ]
            ],
            "type": "surface"
           }
          ],
          "table": [
           {
            "cells": {
             "fill": {
              "color": "#EBF0F8"
             },
             "line": {
              "color": "white"
             }
            },
            "header": {
             "fill": {
              "color": "#C8D4E3"
             },
             "line": {
              "color": "white"
             }
            },
            "type": "table"
           }
          ]
         },
         "layout": {
          "annotationdefaults": {
           "arrowcolor": "#2a3f5f",
           "arrowhead": 0,
           "arrowwidth": 1
          },
          "coloraxis": {
           "colorbar": {
            "outlinewidth": 0,
            "ticks": ""
           }
          },
          "colorscale": {
           "diverging": [
            [
             0,
             "#8e0152"
            ],
            [
             0.1,
             "#c51b7d"
            ],
            [
             0.2,
             "#de77ae"
            ],
            [
             0.3,
             "#f1b6da"
            ],
            [
             0.4,
             "#fde0ef"
            ],
            [
             0.5,
             "#f7f7f7"
            ],
            [
             0.6,
             "#e6f5d0"
            ],
            [
             0.7,
             "#b8e186"
            ],
            [
             0.8,
             "#7fbc41"
            ],
            [
             0.9,
             "#4d9221"
            ],
            [
             1,
             "#276419"
            ]
           ],
           "sequential": [
            [
             0,
             "#0d0887"
            ],
            [
             0.1111111111111111,
             "#46039f"
            ],
            [
             0.2222222222222222,
             "#7201a8"
            ],
            [
             0.3333333333333333,
             "#9c179e"
            ],
            [
             0.4444444444444444,
             "#bd3786"
            ],
            [
             0.5555555555555556,
             "#d8576b"
            ],
            [
             0.6666666666666666,
             "#ed7953"
            ],
            [
             0.7777777777777778,
             "#fb9f3a"
            ],
            [
             0.8888888888888888,
             "#fdca26"
            ],
            [
             1,
             "#f0f921"
            ]
           ],
           "sequentialminus": [
            [
             0,
             "#0d0887"
            ],
            [
             0.1111111111111111,
             "#46039f"
            ],
            [
             0.2222222222222222,
             "#7201a8"
            ],
            [
             0.3333333333333333,
             "#9c179e"
            ],
            [
             0.4444444444444444,
             "#bd3786"
            ],
            [
             0.5555555555555556,
             "#d8576b"
            ],
            [
             0.6666666666666666,
             "#ed7953"
            ],
            [
             0.7777777777777778,
             "#fb9f3a"
            ],
            [
             0.8888888888888888,
             "#fdca26"
            ],
            [
             1,
             "#f0f921"
            ]
           ]
          },
          "colorway": [
           "#636efa",
           "#EF553B",
           "#00cc96",
           "#ab63fa",
           "#FFA15A",
           "#19d3f3",
           "#FF6692",
           "#B6E880",
           "#FF97FF",
           "#FECB52"
          ],
          "font": {
           "color": "#2a3f5f"
          },
          "geo": {
           "bgcolor": "white",
           "lakecolor": "white",
           "landcolor": "#E5ECF6",
           "showlakes": true,
           "showland": true,
           "subunitcolor": "white"
          },
          "hoverlabel": {
           "align": "left"
          },
          "hovermode": "closest",
          "mapbox": {
           "style": "light"
          },
          "paper_bgcolor": "white",
          "plot_bgcolor": "#E5ECF6",
          "polar": {
           "angularaxis": {
            "gridcolor": "white",
            "linecolor": "white",
            "ticks": ""
           },
           "bgcolor": "#E5ECF6",
           "radialaxis": {
            "gridcolor": "white",
            "linecolor": "white",
            "ticks": ""
           }
          },
          "scene": {
           "xaxis": {
            "backgroundcolor": "#E5ECF6",
            "gridcolor": "white",
            "gridwidth": 2,
            "linecolor": "white",
            "showbackground": true,
            "ticks": "",
            "zerolinecolor": "white"
           },
           "yaxis": {
            "backgroundcolor": "#E5ECF6",
            "gridcolor": "white",
            "gridwidth": 2,
            "linecolor": "white",
            "showbackground": true,
            "ticks": "",
            "zerolinecolor": "white"
           },
           "zaxis": {
            "backgroundcolor": "#E5ECF6",
            "gridcolor": "white",
            "gridwidth": 2,
            "linecolor": "white",
            "showbackground": true,
            "ticks": "",
            "zerolinecolor": "white"
           }
          },
          "shapedefaults": {
           "line": {
            "color": "#2a3f5f"
           }
          },
          "ternary": {
           "aaxis": {
            "gridcolor": "white",
            "linecolor": "white",
            "ticks": ""
           },
           "baxis": {
            "gridcolor": "white",
            "linecolor": "white",
            "ticks": ""
           },
           "bgcolor": "#E5ECF6",
           "caxis": {
            "gridcolor": "white",
            "linecolor": "white",
            "ticks": ""
           }
          },
          "title": {
           "x": 0.05
          },
          "xaxis": {
           "automargin": true,
           "gridcolor": "white",
           "linecolor": "white",
           "ticks": "",
           "title": {
            "standoff": 15
           },
           "zerolinecolor": "white",
           "zerolinewidth": 2
          },
          "yaxis": {
           "automargin": true,
           "gridcolor": "white",
           "linecolor": "white",
           "ticks": "",
           "title": {
            "standoff": 15
           },
           "zerolinecolor": "white",
           "zerolinewidth": 2
          }
         }
        },
        "title": {
         "text": "Count of Outcome Variable"
        }
       }
      },
      "text/html": [
       "<div>\n",
       "        \n",
       "        \n",
       "            <div id=\"e83b7fd7-3230-4c87-a836-c27b80f7fbd6\" class=\"plotly-graph-div\" style=\"height:525px; width:100%;\"></div>\n",
       "            <script type=\"text/javascript\">\n",
       "                require([\"plotly\"], function(Plotly) {\n",
       "                    window.PLOTLYENV=window.PLOTLYENV || {};\n",
       "                    \n",
       "                if (document.getElementById(\"e83b7fd7-3230-4c87-a836-c27b80f7fbd6\")) {\n",
       "                    Plotly.newPlot(\n",
       "                        'e83b7fd7-3230-4c87-a836-c27b80f7fbd6',\n",
       "                        [{\"marker\": {\"color\": [\"lightskyblue\", \"gold\"], \"line\": {\"color\": \"#000000\", \"width\": 1.5}}, \"opacity\": 0.8, \"orientation\": \"h\", \"text\": [\"500\", \"268\"], \"textfont\": {\"size\": 15}, \"textposition\": \"auto\", \"type\": \"bar\", \"x\": [500, 268], \"y\": [\"healthy\", \"diabetic\"]}],\n",
       "                        {\"template\": {\"data\": {\"bar\": [{\"error_x\": {\"color\": \"#2a3f5f\"}, \"error_y\": {\"color\": \"#2a3f5f\"}, \"marker\": {\"line\": {\"color\": \"#E5ECF6\", \"width\": 0.5}}, \"type\": \"bar\"}], \"barpolar\": [{\"marker\": {\"line\": {\"color\": \"#E5ECF6\", \"width\": 0.5}}, \"type\": \"barpolar\"}], \"carpet\": [{\"aaxis\": {\"endlinecolor\": \"#2a3f5f\", \"gridcolor\": \"white\", \"linecolor\": \"white\", \"minorgridcolor\": \"white\", \"startlinecolor\": \"#2a3f5f\"}, \"baxis\": {\"endlinecolor\": \"#2a3f5f\", \"gridcolor\": \"white\", \"linecolor\": \"white\", \"minorgridcolor\": \"white\", \"startlinecolor\": \"#2a3f5f\"}, \"type\": \"carpet\"}], \"choropleth\": [{\"colorbar\": {\"outlinewidth\": 0, \"ticks\": \"\"}, \"type\": \"choropleth\"}], \"contour\": [{\"colorbar\": {\"outlinewidth\": 0, \"ticks\": \"\"}, \"colorscale\": [[0.0, \"#0d0887\"], [0.1111111111111111, \"#46039f\"], [0.2222222222222222, \"#7201a8\"], [0.3333333333333333, \"#9c179e\"], [0.4444444444444444, \"#bd3786\"], [0.5555555555555556, \"#d8576b\"], [0.6666666666666666, \"#ed7953\"], [0.7777777777777778, \"#fb9f3a\"], [0.8888888888888888, \"#fdca26\"], [1.0, \"#f0f921\"]], \"type\": \"contour\"}], \"contourcarpet\": [{\"colorbar\": {\"outlinewidth\": 0, \"ticks\": \"\"}, \"type\": \"contourcarpet\"}], \"heatmap\": [{\"colorbar\": {\"outlinewidth\": 0, \"ticks\": \"\"}, \"colorscale\": [[0.0, \"#0d0887\"], [0.1111111111111111, \"#46039f\"], [0.2222222222222222, \"#7201a8\"], [0.3333333333333333, \"#9c179e\"], [0.4444444444444444, \"#bd3786\"], [0.5555555555555556, \"#d8576b\"], [0.6666666666666666, \"#ed7953\"], [0.7777777777777778, \"#fb9f3a\"], [0.8888888888888888, \"#fdca26\"], [1.0, \"#f0f921\"]], \"type\": \"heatmap\"}], \"heatmapgl\": [{\"colorbar\": {\"outlinewidth\": 0, \"ticks\": \"\"}, \"colorscale\": [[0.0, \"#0d0887\"], [0.1111111111111111, \"#46039f\"], [0.2222222222222222, \"#7201a8\"], [0.3333333333333333, \"#9c179e\"], [0.4444444444444444, \"#bd3786\"], [0.5555555555555556, \"#d8576b\"], [0.6666666666666666, \"#ed7953\"], [0.7777777777777778, \"#fb9f3a\"], [0.8888888888888888, \"#fdca26\"], [1.0, \"#f0f921\"]], \"type\": \"heatmapgl\"}], \"histogram\": [{\"marker\": {\"colorbar\": {\"outlinewidth\": 0, \"ticks\": \"\"}}, \"type\": \"histogram\"}], \"histogram2d\": [{\"colorbar\": {\"outlinewidth\": 0, \"ticks\": \"\"}, \"colorscale\": [[0.0, \"#0d0887\"], [0.1111111111111111, \"#46039f\"], [0.2222222222222222, \"#7201a8\"], [0.3333333333333333, \"#9c179e\"], [0.4444444444444444, \"#bd3786\"], [0.5555555555555556, \"#d8576b\"], [0.6666666666666666, \"#ed7953\"], [0.7777777777777778, \"#fb9f3a\"], [0.8888888888888888, \"#fdca26\"], [1.0, \"#f0f921\"]], \"type\": \"histogram2d\"}], \"histogram2dcontour\": [{\"colorbar\": {\"outlinewidth\": 0, \"ticks\": \"\"}, \"colorscale\": [[0.0, \"#0d0887\"], [0.1111111111111111, \"#46039f\"], [0.2222222222222222, \"#7201a8\"], [0.3333333333333333, \"#9c179e\"], [0.4444444444444444, \"#bd3786\"], [0.5555555555555556, \"#d8576b\"], [0.6666666666666666, \"#ed7953\"], [0.7777777777777778, \"#fb9f3a\"], [0.8888888888888888, \"#fdca26\"], [1.0, \"#f0f921\"]], \"type\": \"histogram2dcontour\"}], \"mesh3d\": [{\"colorbar\": {\"outlinewidth\": 0, \"ticks\": \"\"}, \"type\": \"mesh3d\"}], \"parcoords\": [{\"line\": {\"colorbar\": {\"outlinewidth\": 0, \"ticks\": \"\"}}, \"type\": \"parcoords\"}], \"pie\": [{\"automargin\": true, \"type\": \"pie\"}], \"scatter\": [{\"marker\": {\"colorbar\": {\"outlinewidth\": 0, \"ticks\": \"\"}}, \"type\": \"scatter\"}], \"scatter3d\": [{\"line\": {\"colorbar\": {\"outlinewidth\": 0, \"ticks\": \"\"}}, \"marker\": {\"colorbar\": {\"outlinewidth\": 0, \"ticks\": \"\"}}, \"type\": \"scatter3d\"}], \"scattercarpet\": [{\"marker\": {\"colorbar\": {\"outlinewidth\": 0, \"ticks\": \"\"}}, \"type\": \"scattercarpet\"}], \"scattergeo\": [{\"marker\": {\"colorbar\": {\"outlinewidth\": 0, \"ticks\": \"\"}}, \"type\": \"scattergeo\"}], \"scattergl\": [{\"marker\": {\"colorbar\": {\"outlinewidth\": 0, \"ticks\": \"\"}}, \"type\": \"scattergl\"}], \"scattermapbox\": [{\"marker\": {\"colorbar\": {\"outlinewidth\": 0, \"ticks\": \"\"}}, \"type\": \"scattermapbox\"}], \"scatterpolar\": [{\"marker\": {\"colorbar\": {\"outlinewidth\": 0, \"ticks\": \"\"}}, \"type\": \"scatterpolar\"}], \"scatterpolargl\": [{\"marker\": {\"colorbar\": {\"outlinewidth\": 0, \"ticks\": \"\"}}, \"type\": \"scatterpolargl\"}], \"scatterternary\": [{\"marker\": {\"colorbar\": {\"outlinewidth\": 0, \"ticks\": \"\"}}, \"type\": \"scatterternary\"}], \"surface\": [{\"colorbar\": {\"outlinewidth\": 0, \"ticks\": \"\"}, \"colorscale\": [[0.0, \"#0d0887\"], [0.1111111111111111, \"#46039f\"], [0.2222222222222222, \"#7201a8\"], [0.3333333333333333, \"#9c179e\"], [0.4444444444444444, \"#bd3786\"], [0.5555555555555556, \"#d8576b\"], [0.6666666666666666, \"#ed7953\"], [0.7777777777777778, \"#fb9f3a\"], [0.8888888888888888, \"#fdca26\"], [1.0, \"#f0f921\"]], \"type\": \"surface\"}], \"table\": [{\"cells\": {\"fill\": {\"color\": \"#EBF0F8\"}, \"line\": {\"color\": \"white\"}}, \"header\": {\"fill\": {\"color\": \"#C8D4E3\"}, \"line\": {\"color\": \"white\"}}, \"type\": \"table\"}]}, \"layout\": {\"annotationdefaults\": {\"arrowcolor\": \"#2a3f5f\", \"arrowhead\": 0, \"arrowwidth\": 1}, \"coloraxis\": {\"colorbar\": {\"outlinewidth\": 0, \"ticks\": \"\"}}, \"colorscale\": {\"diverging\": [[0, \"#8e0152\"], [0.1, \"#c51b7d\"], [0.2, \"#de77ae\"], [0.3, \"#f1b6da\"], [0.4, \"#fde0ef\"], [0.5, \"#f7f7f7\"], [0.6, \"#e6f5d0\"], [0.7, \"#b8e186\"], [0.8, \"#7fbc41\"], [0.9, \"#4d9221\"], [1, \"#276419\"]], \"sequential\": [[0.0, \"#0d0887\"], [0.1111111111111111, \"#46039f\"], [0.2222222222222222, \"#7201a8\"], [0.3333333333333333, \"#9c179e\"], [0.4444444444444444, \"#bd3786\"], [0.5555555555555556, \"#d8576b\"], [0.6666666666666666, \"#ed7953\"], [0.7777777777777778, \"#fb9f3a\"], [0.8888888888888888, \"#fdca26\"], [1.0, \"#f0f921\"]], \"sequentialminus\": [[0.0, \"#0d0887\"], [0.1111111111111111, \"#46039f\"], [0.2222222222222222, \"#7201a8\"], [0.3333333333333333, \"#9c179e\"], [0.4444444444444444, \"#bd3786\"], [0.5555555555555556, \"#d8576b\"], [0.6666666666666666, \"#ed7953\"], [0.7777777777777778, \"#fb9f3a\"], [0.8888888888888888, \"#fdca26\"], [1.0, \"#f0f921\"]]}, \"colorway\": [\"#636efa\", \"#EF553B\", \"#00cc96\", \"#ab63fa\", \"#FFA15A\", \"#19d3f3\", \"#FF6692\", \"#B6E880\", \"#FF97FF\", \"#FECB52\"], \"font\": {\"color\": \"#2a3f5f\"}, \"geo\": {\"bgcolor\": \"white\", \"lakecolor\": \"white\", \"landcolor\": \"#E5ECF6\", \"showlakes\": true, \"showland\": true, \"subunitcolor\": \"white\"}, \"hoverlabel\": {\"align\": \"left\"}, \"hovermode\": \"closest\", \"mapbox\": {\"style\": \"light\"}, \"paper_bgcolor\": \"white\", \"plot_bgcolor\": \"#E5ECF6\", \"polar\": {\"angularaxis\": {\"gridcolor\": \"white\", \"linecolor\": \"white\", \"ticks\": \"\"}, \"bgcolor\": \"#E5ECF6\", \"radialaxis\": {\"gridcolor\": \"white\", \"linecolor\": \"white\", \"ticks\": \"\"}}, \"scene\": {\"xaxis\": {\"backgroundcolor\": \"#E5ECF6\", \"gridcolor\": \"white\", \"gridwidth\": 2, \"linecolor\": \"white\", \"showbackground\": true, \"ticks\": \"\", \"zerolinecolor\": \"white\"}, \"yaxis\": {\"backgroundcolor\": \"#E5ECF6\", \"gridcolor\": \"white\", \"gridwidth\": 2, \"linecolor\": \"white\", \"showbackground\": true, \"ticks\": \"\", \"zerolinecolor\": \"white\"}, \"zaxis\": {\"backgroundcolor\": \"#E5ECF6\", \"gridcolor\": \"white\", \"gridwidth\": 2, \"linecolor\": \"white\", \"showbackground\": true, \"ticks\": \"\", \"zerolinecolor\": \"white\"}}, \"shapedefaults\": {\"line\": {\"color\": \"#2a3f5f\"}}, \"ternary\": {\"aaxis\": {\"gridcolor\": \"white\", \"linecolor\": \"white\", \"ticks\": \"\"}, \"baxis\": {\"gridcolor\": \"white\", \"linecolor\": \"white\", \"ticks\": \"\"}, \"bgcolor\": \"#E5ECF6\", \"caxis\": {\"gridcolor\": \"white\", \"linecolor\": \"white\", \"ticks\": \"\"}}, \"title\": {\"x\": 0.05}, \"xaxis\": {\"automargin\": true, \"gridcolor\": \"white\", \"linecolor\": \"white\", \"ticks\": \"\", \"title\": {\"standoff\": 15}, \"zerolinecolor\": \"white\", \"zerolinewidth\": 2}, \"yaxis\": {\"automargin\": true, \"gridcolor\": \"white\", \"linecolor\": \"white\", \"ticks\": \"\", \"title\": {\"standoff\": 15}, \"zerolinecolor\": \"white\", \"zerolinewidth\": 2}}}, \"title\": {\"text\": \"Count of Outcome Variable\"}},\n",
       "                        {\"responsive\": true}\n",
       "                    ).then(function(){\n",
       "                            \n",
       "var gd = document.getElementById('e83b7fd7-3230-4c87-a836-c27b80f7fbd6');\n",
       "var x = new MutationObserver(function (mutations, observer) {{\n",
       "        var display = window.getComputedStyle(gd).display;\n",
       "        if (!display || display === 'none') {{\n",
       "            console.log([gd, 'removed!']);\n",
       "            Plotly.purge(gd);\n",
       "            observer.disconnect();\n",
       "        }}\n",
       "}});\n",
       "\n",
       "// Listen for the removal of the full notebook cells\n",
       "var notebookContainer = gd.closest('#notebook-container');\n",
       "if (notebookContainer) {{\n",
       "    x.observe(notebookContainer, {childList: true});\n",
       "}}\n",
       "\n",
       "// Listen for the clearing of the current output cell\n",
       "var outputEl = gd.closest('.output');\n",
       "if (outputEl) {{\n",
       "    x.observe(outputEl, {childList: true});\n",
       "}}\n",
       "\n",
       "                        })\n",
       "                };\n",
       "                });\n",
       "            </script>\n",
       "        </div>"
      ]
     },
     "metadata": {},
     "output_type": "display_data"
    },
    {
     "data": {
      "application/vnd.plotly.v1+json": {
       "config": {
        "linkText": "Export to plot.ly",
        "plotlyServerURL": "https://plot.ly",
        "showLink": false
       },
       "data": [
        {
         "labels": [
          "healthy",
          "diabetic"
         ],
         "marker": {
          "colors": [
           "lightskyblue",
           "gold"
          ],
          "line": {
           "color": "#000000",
           "width": 1.5
          }
         },
         "opacity": 0.8,
         "textfont": {
          "size": 15
         },
         "type": "pie",
         "values": [
          500,
          268
         ]
        }
       ],
       "layout": {
        "template": {
         "data": {
          "bar": [
           {
            "error_x": {
             "color": "#2a3f5f"
            },
            "error_y": {
             "color": "#2a3f5f"
            },
            "marker": {
             "line": {
              "color": "#E5ECF6",
              "width": 0.5
             }
            },
            "type": "bar"
           }
          ],
          "barpolar": [
           {
            "marker": {
             "line": {
              "color": "#E5ECF6",
              "width": 0.5
             }
            },
            "type": "barpolar"
           }
          ],
          "carpet": [
           {
            "aaxis": {
             "endlinecolor": "#2a3f5f",
             "gridcolor": "white",
             "linecolor": "white",
             "minorgridcolor": "white",
             "startlinecolor": "#2a3f5f"
            },
            "baxis": {
             "endlinecolor": "#2a3f5f",
             "gridcolor": "white",
             "linecolor": "white",
             "minorgridcolor": "white",
             "startlinecolor": "#2a3f5f"
            },
            "type": "carpet"
           }
          ],
          "choropleth": [
           {
            "colorbar": {
             "outlinewidth": 0,
             "ticks": ""
            },
            "type": "choropleth"
           }
          ],
          "contour": [
           {
            "colorbar": {
             "outlinewidth": 0,
             "ticks": ""
            },
            "colorscale": [
             [
              0,
              "#0d0887"
             ],
             [
              0.1111111111111111,
              "#46039f"
             ],
             [
              0.2222222222222222,
              "#7201a8"
             ],
             [
              0.3333333333333333,
              "#9c179e"
             ],
             [
              0.4444444444444444,
              "#bd3786"
             ],
             [
              0.5555555555555556,
              "#d8576b"
             ],
             [
              0.6666666666666666,
              "#ed7953"
             ],
             [
              0.7777777777777778,
              "#fb9f3a"
             ],
             [
              0.8888888888888888,
              "#fdca26"
             ],
             [
              1,
              "#f0f921"
             ]
            ],
            "type": "contour"
           }
          ],
          "contourcarpet": [
           {
            "colorbar": {
             "outlinewidth": 0,
             "ticks": ""
            },
            "type": "contourcarpet"
           }
          ],
          "heatmap": [
           {
            "colorbar": {
             "outlinewidth": 0,
             "ticks": ""
            },
            "colorscale": [
             [
              0,
              "#0d0887"
             ],
             [
              0.1111111111111111,
              "#46039f"
             ],
             [
              0.2222222222222222,
              "#7201a8"
             ],
             [
              0.3333333333333333,
              "#9c179e"
             ],
             [
              0.4444444444444444,
              "#bd3786"
             ],
             [
              0.5555555555555556,
              "#d8576b"
             ],
             [
              0.6666666666666666,
              "#ed7953"
             ],
             [
              0.7777777777777778,
              "#fb9f3a"
             ],
             [
              0.8888888888888888,
              "#fdca26"
             ],
             [
              1,
              "#f0f921"
             ]
            ],
            "type": "heatmap"
           }
          ],
          "heatmapgl": [
           {
            "colorbar": {
             "outlinewidth": 0,
             "ticks": ""
            },
            "colorscale": [
             [
              0,
              "#0d0887"
             ],
             [
              0.1111111111111111,
              "#46039f"
             ],
             [
              0.2222222222222222,
              "#7201a8"
             ],
             [
              0.3333333333333333,
              "#9c179e"
             ],
             [
              0.4444444444444444,
              "#bd3786"
             ],
             [
              0.5555555555555556,
              "#d8576b"
             ],
             [
              0.6666666666666666,
              "#ed7953"
             ],
             [
              0.7777777777777778,
              "#fb9f3a"
             ],
             [
              0.8888888888888888,
              "#fdca26"
             ],
             [
              1,
              "#f0f921"
             ]
            ],
            "type": "heatmapgl"
           }
          ],
          "histogram": [
           {
            "marker": {
             "colorbar": {
              "outlinewidth": 0,
              "ticks": ""
             }
            },
            "type": "histogram"
           }
          ],
          "histogram2d": [
           {
            "colorbar": {
             "outlinewidth": 0,
             "ticks": ""
            },
            "colorscale": [
             [
              0,
              "#0d0887"
             ],
             [
              0.1111111111111111,
              "#46039f"
             ],
             [
              0.2222222222222222,
              "#7201a8"
             ],
             [
              0.3333333333333333,
              "#9c179e"
             ],
             [
              0.4444444444444444,
              "#bd3786"
             ],
             [
              0.5555555555555556,
              "#d8576b"
             ],
             [
              0.6666666666666666,
              "#ed7953"
             ],
             [
              0.7777777777777778,
              "#fb9f3a"
             ],
             [
              0.8888888888888888,
              "#fdca26"
             ],
             [
              1,
              "#f0f921"
             ]
            ],
            "type": "histogram2d"
           }
          ],
          "histogram2dcontour": [
           {
            "colorbar": {
             "outlinewidth": 0,
             "ticks": ""
            },
            "colorscale": [
             [
              0,
              "#0d0887"
             ],
             [
              0.1111111111111111,
              "#46039f"
             ],
             [
              0.2222222222222222,
              "#7201a8"
             ],
             [
              0.3333333333333333,
              "#9c179e"
             ],
             [
              0.4444444444444444,
              "#bd3786"
             ],
             [
              0.5555555555555556,
              "#d8576b"
             ],
             [
              0.6666666666666666,
              "#ed7953"
             ],
             [
              0.7777777777777778,
              "#fb9f3a"
             ],
             [
              0.8888888888888888,
              "#fdca26"
             ],
             [
              1,
              "#f0f921"
             ]
            ],
            "type": "histogram2dcontour"
           }
          ],
          "mesh3d": [
           {
            "colorbar": {
             "outlinewidth": 0,
             "ticks": ""
            },
            "type": "mesh3d"
           }
          ],
          "parcoords": [
           {
            "line": {
             "colorbar": {
              "outlinewidth": 0,
              "ticks": ""
             }
            },
            "type": "parcoords"
           }
          ],
          "pie": [
           {
            "automargin": true,
            "type": "pie"
           }
          ],
          "scatter": [
           {
            "marker": {
             "colorbar": {
              "outlinewidth": 0,
              "ticks": ""
             }
            },
            "type": "scatter"
           }
          ],
          "scatter3d": [
           {
            "line": {
             "colorbar": {
              "outlinewidth": 0,
              "ticks": ""
             }
            },
            "marker": {
             "colorbar": {
              "outlinewidth": 0,
              "ticks": ""
             }
            },
            "type": "scatter3d"
           }
          ],
          "scattercarpet": [
           {
            "marker": {
             "colorbar": {
              "outlinewidth": 0,
              "ticks": ""
             }
            },
            "type": "scattercarpet"
           }
          ],
          "scattergeo": [
           {
            "marker": {
             "colorbar": {
              "outlinewidth": 0,
              "ticks": ""
             }
            },
            "type": "scattergeo"
           }
          ],
          "scattergl": [
           {
            "marker": {
             "colorbar": {
              "outlinewidth": 0,
              "ticks": ""
             }
            },
            "type": "scattergl"
           }
          ],
          "scattermapbox": [
           {
            "marker": {
             "colorbar": {
              "outlinewidth": 0,
              "ticks": ""
             }
            },
            "type": "scattermapbox"
           }
          ],
          "scatterpolar": [
           {
            "marker": {
             "colorbar": {
              "outlinewidth": 0,
              "ticks": ""
             }
            },
            "type": "scatterpolar"
           }
          ],
          "scatterpolargl": [
           {
            "marker": {
             "colorbar": {
              "outlinewidth": 0,
              "ticks": ""
             }
            },
            "type": "scatterpolargl"
           }
          ],
          "scatterternary": [
           {
            "marker": {
             "colorbar": {
              "outlinewidth": 0,
              "ticks": ""
             }
            },
            "type": "scatterternary"
           }
          ],
          "surface": [
           {
            "colorbar": {
             "outlinewidth": 0,
             "ticks": ""
            },
            "colorscale": [
             [
              0,
              "#0d0887"
             ],
             [
              0.1111111111111111,
              "#46039f"
             ],
             [
              0.2222222222222222,
              "#7201a8"
             ],
             [
              0.3333333333333333,
              "#9c179e"
             ],
             [
              0.4444444444444444,
              "#bd3786"
             ],
             [
              0.5555555555555556,
              "#d8576b"
             ],
             [
              0.6666666666666666,
              "#ed7953"
             ],
             [
              0.7777777777777778,
              "#fb9f3a"
             ],
             [
              0.8888888888888888,
              "#fdca26"
             ],
             [
              1,
              "#f0f921"
             ]
            ],
            "type": "surface"
           }
          ],
          "table": [
           {
            "cells": {
             "fill": {
              "color": "#EBF0F8"
             },
             "line": {
              "color": "white"
             }
            },
            "header": {
             "fill": {
              "color": "#C8D4E3"
             },
             "line": {
              "color": "white"
             }
            },
            "type": "table"
           }
          ]
         },
         "layout": {
          "annotationdefaults": {
           "arrowcolor": "#2a3f5f",
           "arrowhead": 0,
           "arrowwidth": 1
          },
          "coloraxis": {
           "colorbar": {
            "outlinewidth": 0,
            "ticks": ""
           }
          },
          "colorscale": {
           "diverging": [
            [
             0,
             "#8e0152"
            ],
            [
             0.1,
             "#c51b7d"
            ],
            [
             0.2,
             "#de77ae"
            ],
            [
             0.3,
             "#f1b6da"
            ],
            [
             0.4,
             "#fde0ef"
            ],
            [
             0.5,
             "#f7f7f7"
            ],
            [
             0.6,
             "#e6f5d0"
            ],
            [
             0.7,
             "#b8e186"
            ],
            [
             0.8,
             "#7fbc41"
            ],
            [
             0.9,
             "#4d9221"
            ],
            [
             1,
             "#276419"
            ]
           ],
           "sequential": [
            [
             0,
             "#0d0887"
            ],
            [
             0.1111111111111111,
             "#46039f"
            ],
            [
             0.2222222222222222,
             "#7201a8"
            ],
            [
             0.3333333333333333,
             "#9c179e"
            ],
            [
             0.4444444444444444,
             "#bd3786"
            ],
            [
             0.5555555555555556,
             "#d8576b"
            ],
            [
             0.6666666666666666,
             "#ed7953"
            ],
            [
             0.7777777777777778,
             "#fb9f3a"
            ],
            [
             0.8888888888888888,
             "#fdca26"
            ],
            [
             1,
             "#f0f921"
            ]
           ],
           "sequentialminus": [
            [
             0,
             "#0d0887"
            ],
            [
             0.1111111111111111,
             "#46039f"
            ],
            [
             0.2222222222222222,
             "#7201a8"
            ],
            [
             0.3333333333333333,
             "#9c179e"
            ],
            [
             0.4444444444444444,
             "#bd3786"
            ],
            [
             0.5555555555555556,
             "#d8576b"
            ],
            [
             0.6666666666666666,
             "#ed7953"
            ],
            [
             0.7777777777777778,
             "#fb9f3a"
            ],
            [
             0.8888888888888888,
             "#fdca26"
            ],
            [
             1,
             "#f0f921"
            ]
           ]
          },
          "colorway": [
           "#636efa",
           "#EF553B",
           "#00cc96",
           "#ab63fa",
           "#FFA15A",
           "#19d3f3",
           "#FF6692",
           "#B6E880",
           "#FF97FF",
           "#FECB52"
          ],
          "font": {
           "color": "#2a3f5f"
          },
          "geo": {
           "bgcolor": "white",
           "lakecolor": "white",
           "landcolor": "#E5ECF6",
           "showlakes": true,
           "showland": true,
           "subunitcolor": "white"
          },
          "hoverlabel": {
           "align": "left"
          },
          "hovermode": "closest",
          "mapbox": {
           "style": "light"
          },
          "paper_bgcolor": "white",
          "plot_bgcolor": "#E5ECF6",
          "polar": {
           "angularaxis": {
            "gridcolor": "white",
            "linecolor": "white",
            "ticks": ""
           },
           "bgcolor": "#E5ECF6",
           "radialaxis": {
            "gridcolor": "white",
            "linecolor": "white",
            "ticks": ""
           }
          },
          "scene": {
           "xaxis": {
            "backgroundcolor": "#E5ECF6",
            "gridcolor": "white",
            "gridwidth": 2,
            "linecolor": "white",
            "showbackground": true,
            "ticks": "",
            "zerolinecolor": "white"
           },
           "yaxis": {
            "backgroundcolor": "#E5ECF6",
            "gridcolor": "white",
            "gridwidth": 2,
            "linecolor": "white",
            "showbackground": true,
            "ticks": "",
            "zerolinecolor": "white"
           },
           "zaxis": {
            "backgroundcolor": "#E5ECF6",
            "gridcolor": "white",
            "gridwidth": 2,
            "linecolor": "white",
            "showbackground": true,
            "ticks": "",
            "zerolinecolor": "white"
           }
          },
          "shapedefaults": {
           "line": {
            "color": "#2a3f5f"
           }
          },
          "ternary": {
           "aaxis": {
            "gridcolor": "white",
            "linecolor": "white",
            "ticks": ""
           },
           "baxis": {
            "gridcolor": "white",
            "linecolor": "white",
            "ticks": ""
           },
           "bgcolor": "#E5ECF6",
           "caxis": {
            "gridcolor": "white",
            "linecolor": "white",
            "ticks": ""
           }
          },
          "title": {
           "x": 0.05
          },
          "xaxis": {
           "automargin": true,
           "gridcolor": "white",
           "linecolor": "white",
           "ticks": "",
           "title": {
            "standoff": 15
           },
           "zerolinecolor": "white",
           "zerolinewidth": 2
          },
          "yaxis": {
           "automargin": true,
           "gridcolor": "white",
           "linecolor": "white",
           "ticks": "",
           "title": {
            "standoff": 15
           },
           "zerolinecolor": "white",
           "zerolinewidth": 2
          }
         }
        },
        "title": {
         "text": "Distribution of Outcome Variable"
        }
       }
      },
      "text/html": [
       "<div>\n",
       "        \n",
       "        \n",
       "            <div id=\"d35692df-00ae-4d73-9951-a07f4bdc6371\" class=\"plotly-graph-div\" style=\"height:525px; width:100%;\"></div>\n",
       "            <script type=\"text/javascript\">\n",
       "                require([\"plotly\"], function(Plotly) {\n",
       "                    window.PLOTLYENV=window.PLOTLYENV || {};\n",
       "                    \n",
       "                if (document.getElementById(\"d35692df-00ae-4d73-9951-a07f4bdc6371\")) {\n",
       "                    Plotly.newPlot(\n",
       "                        'd35692df-00ae-4d73-9951-a07f4bdc6371',\n",
       "                        [{\"labels\": [\"healthy\", \"diabetic\"], \"marker\": {\"colors\": [\"lightskyblue\", \"gold\"], \"line\": {\"color\": \"#000000\", \"width\": 1.5}}, \"opacity\": 0.8, \"textfont\": {\"size\": 15}, \"type\": \"pie\", \"values\": [500, 268]}],\n",
       "                        {\"template\": {\"data\": {\"bar\": [{\"error_x\": {\"color\": \"#2a3f5f\"}, \"error_y\": {\"color\": \"#2a3f5f\"}, \"marker\": {\"line\": {\"color\": \"#E5ECF6\", \"width\": 0.5}}, \"type\": \"bar\"}], \"barpolar\": [{\"marker\": {\"line\": {\"color\": \"#E5ECF6\", \"width\": 0.5}}, \"type\": \"barpolar\"}], \"carpet\": [{\"aaxis\": {\"endlinecolor\": \"#2a3f5f\", \"gridcolor\": \"white\", \"linecolor\": \"white\", \"minorgridcolor\": \"white\", \"startlinecolor\": \"#2a3f5f\"}, \"baxis\": {\"endlinecolor\": \"#2a3f5f\", \"gridcolor\": \"white\", \"linecolor\": \"white\", \"minorgridcolor\": \"white\", \"startlinecolor\": \"#2a3f5f\"}, \"type\": \"carpet\"}], \"choropleth\": [{\"colorbar\": {\"outlinewidth\": 0, \"ticks\": \"\"}, \"type\": \"choropleth\"}], \"contour\": [{\"colorbar\": {\"outlinewidth\": 0, \"ticks\": \"\"}, \"colorscale\": [[0.0, \"#0d0887\"], [0.1111111111111111, \"#46039f\"], [0.2222222222222222, \"#7201a8\"], [0.3333333333333333, \"#9c179e\"], [0.4444444444444444, \"#bd3786\"], [0.5555555555555556, \"#d8576b\"], [0.6666666666666666, \"#ed7953\"], [0.7777777777777778, \"#fb9f3a\"], [0.8888888888888888, \"#fdca26\"], [1.0, \"#f0f921\"]], \"type\": \"contour\"}], \"contourcarpet\": [{\"colorbar\": {\"outlinewidth\": 0, \"ticks\": \"\"}, \"type\": \"contourcarpet\"}], \"heatmap\": [{\"colorbar\": {\"outlinewidth\": 0, \"ticks\": \"\"}, \"colorscale\": [[0.0, \"#0d0887\"], [0.1111111111111111, \"#46039f\"], [0.2222222222222222, \"#7201a8\"], [0.3333333333333333, \"#9c179e\"], [0.4444444444444444, \"#bd3786\"], [0.5555555555555556, \"#d8576b\"], [0.6666666666666666, \"#ed7953\"], [0.7777777777777778, \"#fb9f3a\"], [0.8888888888888888, \"#fdca26\"], [1.0, \"#f0f921\"]], \"type\": \"heatmap\"}], \"heatmapgl\": [{\"colorbar\": {\"outlinewidth\": 0, \"ticks\": \"\"}, \"colorscale\": [[0.0, \"#0d0887\"], [0.1111111111111111, \"#46039f\"], [0.2222222222222222, \"#7201a8\"], [0.3333333333333333, \"#9c179e\"], [0.4444444444444444, \"#bd3786\"], [0.5555555555555556, \"#d8576b\"], [0.6666666666666666, \"#ed7953\"], [0.7777777777777778, \"#fb9f3a\"], [0.8888888888888888, \"#fdca26\"], [1.0, \"#f0f921\"]], \"type\": \"heatmapgl\"}], \"histogram\": [{\"marker\": {\"colorbar\": {\"outlinewidth\": 0, \"ticks\": \"\"}}, \"type\": \"histogram\"}], \"histogram2d\": [{\"colorbar\": {\"outlinewidth\": 0, \"ticks\": \"\"}, \"colorscale\": [[0.0, \"#0d0887\"], [0.1111111111111111, \"#46039f\"], [0.2222222222222222, \"#7201a8\"], [0.3333333333333333, \"#9c179e\"], [0.4444444444444444, \"#bd3786\"], [0.5555555555555556, \"#d8576b\"], [0.6666666666666666, \"#ed7953\"], [0.7777777777777778, \"#fb9f3a\"], [0.8888888888888888, \"#fdca26\"], [1.0, \"#f0f921\"]], \"type\": \"histogram2d\"}], \"histogram2dcontour\": [{\"colorbar\": {\"outlinewidth\": 0, \"ticks\": \"\"}, \"colorscale\": [[0.0, \"#0d0887\"], [0.1111111111111111, \"#46039f\"], [0.2222222222222222, \"#7201a8\"], [0.3333333333333333, \"#9c179e\"], [0.4444444444444444, \"#bd3786\"], [0.5555555555555556, \"#d8576b\"], [0.6666666666666666, \"#ed7953\"], [0.7777777777777778, \"#fb9f3a\"], [0.8888888888888888, \"#fdca26\"], [1.0, \"#f0f921\"]], \"type\": \"histogram2dcontour\"}], \"mesh3d\": [{\"colorbar\": {\"outlinewidth\": 0, \"ticks\": \"\"}, \"type\": \"mesh3d\"}], \"parcoords\": [{\"line\": {\"colorbar\": {\"outlinewidth\": 0, \"ticks\": \"\"}}, \"type\": \"parcoords\"}], \"pie\": [{\"automargin\": true, \"type\": \"pie\"}], \"scatter\": [{\"marker\": {\"colorbar\": {\"outlinewidth\": 0, \"ticks\": \"\"}}, \"type\": \"scatter\"}], \"scatter3d\": [{\"line\": {\"colorbar\": {\"outlinewidth\": 0, \"ticks\": \"\"}}, \"marker\": {\"colorbar\": {\"outlinewidth\": 0, \"ticks\": \"\"}}, \"type\": \"scatter3d\"}], \"scattercarpet\": [{\"marker\": {\"colorbar\": {\"outlinewidth\": 0, \"ticks\": \"\"}}, \"type\": \"scattercarpet\"}], \"scattergeo\": [{\"marker\": {\"colorbar\": {\"outlinewidth\": 0, \"ticks\": \"\"}}, \"type\": \"scattergeo\"}], \"scattergl\": [{\"marker\": {\"colorbar\": {\"outlinewidth\": 0, \"ticks\": \"\"}}, \"type\": \"scattergl\"}], \"scattermapbox\": [{\"marker\": {\"colorbar\": {\"outlinewidth\": 0, \"ticks\": \"\"}}, \"type\": \"scattermapbox\"}], \"scatterpolar\": [{\"marker\": {\"colorbar\": {\"outlinewidth\": 0, \"ticks\": \"\"}}, \"type\": \"scatterpolar\"}], \"scatterpolargl\": [{\"marker\": {\"colorbar\": {\"outlinewidth\": 0, \"ticks\": \"\"}}, \"type\": \"scatterpolargl\"}], \"scatterternary\": [{\"marker\": {\"colorbar\": {\"outlinewidth\": 0, \"ticks\": \"\"}}, \"type\": \"scatterternary\"}], \"surface\": [{\"colorbar\": {\"outlinewidth\": 0, \"ticks\": \"\"}, \"colorscale\": [[0.0, \"#0d0887\"], [0.1111111111111111, \"#46039f\"], [0.2222222222222222, \"#7201a8\"], [0.3333333333333333, \"#9c179e\"], [0.4444444444444444, \"#bd3786\"], [0.5555555555555556, \"#d8576b\"], [0.6666666666666666, \"#ed7953\"], [0.7777777777777778, \"#fb9f3a\"], [0.8888888888888888, \"#fdca26\"], [1.0, \"#f0f921\"]], \"type\": \"surface\"}], \"table\": [{\"cells\": {\"fill\": {\"color\": \"#EBF0F8\"}, \"line\": {\"color\": \"white\"}}, \"header\": {\"fill\": {\"color\": \"#C8D4E3\"}, \"line\": {\"color\": \"white\"}}, \"type\": \"table\"}]}, \"layout\": {\"annotationdefaults\": {\"arrowcolor\": \"#2a3f5f\", \"arrowhead\": 0, \"arrowwidth\": 1}, \"coloraxis\": {\"colorbar\": {\"outlinewidth\": 0, \"ticks\": \"\"}}, \"colorscale\": {\"diverging\": [[0, \"#8e0152\"], [0.1, \"#c51b7d\"], [0.2, \"#de77ae\"], [0.3, \"#f1b6da\"], [0.4, \"#fde0ef\"], [0.5, \"#f7f7f7\"], [0.6, \"#e6f5d0\"], [0.7, \"#b8e186\"], [0.8, \"#7fbc41\"], [0.9, \"#4d9221\"], [1, \"#276419\"]], \"sequential\": [[0.0, \"#0d0887\"], [0.1111111111111111, \"#46039f\"], [0.2222222222222222, \"#7201a8\"], [0.3333333333333333, \"#9c179e\"], [0.4444444444444444, \"#bd3786\"], [0.5555555555555556, \"#d8576b\"], [0.6666666666666666, \"#ed7953\"], [0.7777777777777778, \"#fb9f3a\"], [0.8888888888888888, \"#fdca26\"], [1.0, \"#f0f921\"]], \"sequentialminus\": [[0.0, \"#0d0887\"], [0.1111111111111111, \"#46039f\"], [0.2222222222222222, \"#7201a8\"], [0.3333333333333333, \"#9c179e\"], [0.4444444444444444, \"#bd3786\"], [0.5555555555555556, \"#d8576b\"], [0.6666666666666666, \"#ed7953\"], [0.7777777777777778, \"#fb9f3a\"], [0.8888888888888888, \"#fdca26\"], [1.0, \"#f0f921\"]]}, \"colorway\": [\"#636efa\", \"#EF553B\", \"#00cc96\", \"#ab63fa\", \"#FFA15A\", \"#19d3f3\", \"#FF6692\", \"#B6E880\", \"#FF97FF\", \"#FECB52\"], \"font\": {\"color\": \"#2a3f5f\"}, \"geo\": {\"bgcolor\": \"white\", \"lakecolor\": \"white\", \"landcolor\": \"#E5ECF6\", \"showlakes\": true, \"showland\": true, \"subunitcolor\": \"white\"}, \"hoverlabel\": {\"align\": \"left\"}, \"hovermode\": \"closest\", \"mapbox\": {\"style\": \"light\"}, \"paper_bgcolor\": \"white\", \"plot_bgcolor\": \"#E5ECF6\", \"polar\": {\"angularaxis\": {\"gridcolor\": \"white\", \"linecolor\": \"white\", \"ticks\": \"\"}, \"bgcolor\": \"#E5ECF6\", \"radialaxis\": {\"gridcolor\": \"white\", \"linecolor\": \"white\", \"ticks\": \"\"}}, \"scene\": {\"xaxis\": {\"backgroundcolor\": \"#E5ECF6\", \"gridcolor\": \"white\", \"gridwidth\": 2, \"linecolor\": \"white\", \"showbackground\": true, \"ticks\": \"\", \"zerolinecolor\": \"white\"}, \"yaxis\": {\"backgroundcolor\": \"#E5ECF6\", \"gridcolor\": \"white\", \"gridwidth\": 2, \"linecolor\": \"white\", \"showbackground\": true, \"ticks\": \"\", \"zerolinecolor\": \"white\"}, \"zaxis\": {\"backgroundcolor\": \"#E5ECF6\", \"gridcolor\": \"white\", \"gridwidth\": 2, \"linecolor\": \"white\", \"showbackground\": true, \"ticks\": \"\", \"zerolinecolor\": \"white\"}}, \"shapedefaults\": {\"line\": {\"color\": \"#2a3f5f\"}}, \"ternary\": {\"aaxis\": {\"gridcolor\": \"white\", \"linecolor\": \"white\", \"ticks\": \"\"}, \"baxis\": {\"gridcolor\": \"white\", \"linecolor\": \"white\", \"ticks\": \"\"}, \"bgcolor\": \"#E5ECF6\", \"caxis\": {\"gridcolor\": \"white\", \"linecolor\": \"white\", \"ticks\": \"\"}}, \"title\": {\"x\": 0.05}, \"xaxis\": {\"automargin\": true, \"gridcolor\": \"white\", \"linecolor\": \"white\", \"ticks\": \"\", \"title\": {\"standoff\": 15}, \"zerolinecolor\": \"white\", \"zerolinewidth\": 2}, \"yaxis\": {\"automargin\": true, \"gridcolor\": \"white\", \"linecolor\": \"white\", \"ticks\": \"\", \"title\": {\"standoff\": 15}, \"zerolinecolor\": \"white\", \"zerolinewidth\": 2}}}, \"title\": {\"text\": \"Distribution of Outcome Variable\"}},\n",
       "                        {\"responsive\": true}\n",
       "                    ).then(function(){\n",
       "                            \n",
       "var gd = document.getElementById('d35692df-00ae-4d73-9951-a07f4bdc6371');\n",
       "var x = new MutationObserver(function (mutations, observer) {{\n",
       "        var display = window.getComputedStyle(gd).display;\n",
       "        if (!display || display === 'none') {{\n",
       "            console.log([gd, 'removed!']);\n",
       "            Plotly.purge(gd);\n",
       "            observer.disconnect();\n",
       "        }}\n",
       "}});\n",
       "\n",
       "// Listen for the removal of the full notebook cells\n",
       "var notebookContainer = gd.closest('#notebook-container');\n",
       "if (notebookContainer) {{\n",
       "    x.observe(notebookContainer, {childList: true});\n",
       "}}\n",
       "\n",
       "// Listen for the clearing of the current output cell\n",
       "var outputEl = gd.closest('.output');\n",
       "if (outputEl) {{\n",
       "    x.observe(outputEl, {childList: true});\n",
       "}}\n",
       "\n",
       "                        })\n",
       "                };\n",
       "                });\n",
       "            </script>\n",
       "        </div>"
      ]
     },
     "metadata": {},
     "output_type": "display_data"
    }
   ],
   "source": [
    "target_count()\n",
    "target_percent()"
   ]
  },
  {
   "cell_type": "code",
   "execution_count": 6,
   "metadata": {},
   "outputs": [],
   "source": [
    "data[['Glucose','BloodPressure','SkinThickness','Insulin',\n",
    "      'BMI']]=data[['Glucose','BloodPressure','SkinThickness','Insulin','BMI']].replace(0,np.NaN)"
   ]
  },
  {
   "cell_type": "code",
   "execution_count": 7,
   "metadata": {},
   "outputs": [],
   "source": [
    "#Define missing plot to detect all missing values in dataset\n",
    "def missing_plot(dataset,key):\n",
    "    null_feat=pd.DataFrame(len(dataset[key])-dataset.isnull().sum(),columns=['Count'])\n",
    "    percentage_null=pd.DataFrame((len(dataset[key])-(len(dataset[key])-dataset.isnull().sum()))/len(dataset[key])*100,columns=['Count'])\n",
    "    percentage_null=percentage_null.round(2)\n",
    "    \n",
    "    trace=go.Bar(x=null_feat.index,y=null_feat['Count'],opacity=0.8,text=percentage_null['Count'],textposition='auto',\n",
    "                marker=dict(color='#7EC0EE',line=dict(color='#000000',width=1.5)))\n",
    "    layout=dict(title='Missing Values(count & %)')\n",
    "    fig=dict(data=[trace],layout=layout)\n",
    "    py.iplot(fig)"
   ]
  },
  {
   "cell_type": "code",
   "execution_count": 8,
   "metadata": {},
   "outputs": [
    {
     "data": {
      "application/vnd.plotly.v1+json": {
       "config": {
        "linkText": "Export to plot.ly",
        "plotlyServerURL": "https://plot.ly",
        "showLink": false
       },
       "data": [
        {
         "marker": {
          "color": "#7EC0EE",
          "line": {
           "color": "#000000",
           "width": 1.5
          }
         },
         "opacity": 0.8,
         "text": [
          0,
          0.65,
          4.56,
          29.56,
          48.7,
          1.43,
          0,
          0,
          0
         ],
         "textposition": "auto",
         "type": "bar",
         "x": [
          "Pregnancies",
          "Glucose",
          "BloodPressure",
          "SkinThickness",
          "Insulin",
          "BMI",
          "DiabetesPedigreeFunction",
          "Age",
          "Outcome"
         ],
         "y": [
          768,
          763,
          733,
          541,
          394,
          757,
          768,
          768,
          768
         ]
        }
       ],
       "layout": {
        "template": {
         "data": {
          "bar": [
           {
            "error_x": {
             "color": "#2a3f5f"
            },
            "error_y": {
             "color": "#2a3f5f"
            },
            "marker": {
             "line": {
              "color": "#E5ECF6",
              "width": 0.5
             }
            },
            "type": "bar"
           }
          ],
          "barpolar": [
           {
            "marker": {
             "line": {
              "color": "#E5ECF6",
              "width": 0.5
             }
            },
            "type": "barpolar"
           }
          ],
          "carpet": [
           {
            "aaxis": {
             "endlinecolor": "#2a3f5f",
             "gridcolor": "white",
             "linecolor": "white",
             "minorgridcolor": "white",
             "startlinecolor": "#2a3f5f"
            },
            "baxis": {
             "endlinecolor": "#2a3f5f",
             "gridcolor": "white",
             "linecolor": "white",
             "minorgridcolor": "white",
             "startlinecolor": "#2a3f5f"
            },
            "type": "carpet"
           }
          ],
          "choropleth": [
           {
            "colorbar": {
             "outlinewidth": 0,
             "ticks": ""
            },
            "type": "choropleth"
           }
          ],
          "contour": [
           {
            "colorbar": {
             "outlinewidth": 0,
             "ticks": ""
            },
            "colorscale": [
             [
              0,
              "#0d0887"
             ],
             [
              0.1111111111111111,
              "#46039f"
             ],
             [
              0.2222222222222222,
              "#7201a8"
             ],
             [
              0.3333333333333333,
              "#9c179e"
             ],
             [
              0.4444444444444444,
              "#bd3786"
             ],
             [
              0.5555555555555556,
              "#d8576b"
             ],
             [
              0.6666666666666666,
              "#ed7953"
             ],
             [
              0.7777777777777778,
              "#fb9f3a"
             ],
             [
              0.8888888888888888,
              "#fdca26"
             ],
             [
              1,
              "#f0f921"
             ]
            ],
            "type": "contour"
           }
          ],
          "contourcarpet": [
           {
            "colorbar": {
             "outlinewidth": 0,
             "ticks": ""
            },
            "type": "contourcarpet"
           }
          ],
          "heatmap": [
           {
            "colorbar": {
             "outlinewidth": 0,
             "ticks": ""
            },
            "colorscale": [
             [
              0,
              "#0d0887"
             ],
             [
              0.1111111111111111,
              "#46039f"
             ],
             [
              0.2222222222222222,
              "#7201a8"
             ],
             [
              0.3333333333333333,
              "#9c179e"
             ],
             [
              0.4444444444444444,
              "#bd3786"
             ],
             [
              0.5555555555555556,
              "#d8576b"
             ],
             [
              0.6666666666666666,
              "#ed7953"
             ],
             [
              0.7777777777777778,
              "#fb9f3a"
             ],
             [
              0.8888888888888888,
              "#fdca26"
             ],
             [
              1,
              "#f0f921"
             ]
            ],
            "type": "heatmap"
           }
          ],
          "heatmapgl": [
           {
            "colorbar": {
             "outlinewidth": 0,
             "ticks": ""
            },
            "colorscale": [
             [
              0,
              "#0d0887"
             ],
             [
              0.1111111111111111,
              "#46039f"
             ],
             [
              0.2222222222222222,
              "#7201a8"
             ],
             [
              0.3333333333333333,
              "#9c179e"
             ],
             [
              0.4444444444444444,
              "#bd3786"
             ],
             [
              0.5555555555555556,
              "#d8576b"
             ],
             [
              0.6666666666666666,
              "#ed7953"
             ],
             [
              0.7777777777777778,
              "#fb9f3a"
             ],
             [
              0.8888888888888888,
              "#fdca26"
             ],
             [
              1,
              "#f0f921"
             ]
            ],
            "type": "heatmapgl"
           }
          ],
          "histogram": [
           {
            "marker": {
             "colorbar": {
              "outlinewidth": 0,
              "ticks": ""
             }
            },
            "type": "histogram"
           }
          ],
          "histogram2d": [
           {
            "colorbar": {
             "outlinewidth": 0,
             "ticks": ""
            },
            "colorscale": [
             [
              0,
              "#0d0887"
             ],
             [
              0.1111111111111111,
              "#46039f"
             ],
             [
              0.2222222222222222,
              "#7201a8"
             ],
             [
              0.3333333333333333,
              "#9c179e"
             ],
             [
              0.4444444444444444,
              "#bd3786"
             ],
             [
              0.5555555555555556,
              "#d8576b"
             ],
             [
              0.6666666666666666,
              "#ed7953"
             ],
             [
              0.7777777777777778,
              "#fb9f3a"
             ],
             [
              0.8888888888888888,
              "#fdca26"
             ],
             [
              1,
              "#f0f921"
             ]
            ],
            "type": "histogram2d"
           }
          ],
          "histogram2dcontour": [
           {
            "colorbar": {
             "outlinewidth": 0,
             "ticks": ""
            },
            "colorscale": [
             [
              0,
              "#0d0887"
             ],
             [
              0.1111111111111111,
              "#46039f"
             ],
             [
              0.2222222222222222,
              "#7201a8"
             ],
             [
              0.3333333333333333,
              "#9c179e"
             ],
             [
              0.4444444444444444,
              "#bd3786"
             ],
             [
              0.5555555555555556,
              "#d8576b"
             ],
             [
              0.6666666666666666,
              "#ed7953"
             ],
             [
              0.7777777777777778,
              "#fb9f3a"
             ],
             [
              0.8888888888888888,
              "#fdca26"
             ],
             [
              1,
              "#f0f921"
             ]
            ],
            "type": "histogram2dcontour"
           }
          ],
          "mesh3d": [
           {
            "colorbar": {
             "outlinewidth": 0,
             "ticks": ""
            },
            "type": "mesh3d"
           }
          ],
          "parcoords": [
           {
            "line": {
             "colorbar": {
              "outlinewidth": 0,
              "ticks": ""
             }
            },
            "type": "parcoords"
           }
          ],
          "pie": [
           {
            "automargin": true,
            "type": "pie"
           }
          ],
          "scatter": [
           {
            "marker": {
             "colorbar": {
              "outlinewidth": 0,
              "ticks": ""
             }
            },
            "type": "scatter"
           }
          ],
          "scatter3d": [
           {
            "line": {
             "colorbar": {
              "outlinewidth": 0,
              "ticks": ""
             }
            },
            "marker": {
             "colorbar": {
              "outlinewidth": 0,
              "ticks": ""
             }
            },
            "type": "scatter3d"
           }
          ],
          "scattercarpet": [
           {
            "marker": {
             "colorbar": {
              "outlinewidth": 0,
              "ticks": ""
             }
            },
            "type": "scattercarpet"
           }
          ],
          "scattergeo": [
           {
            "marker": {
             "colorbar": {
              "outlinewidth": 0,
              "ticks": ""
             }
            },
            "type": "scattergeo"
           }
          ],
          "scattergl": [
           {
            "marker": {
             "colorbar": {
              "outlinewidth": 0,
              "ticks": ""
             }
            },
            "type": "scattergl"
           }
          ],
          "scattermapbox": [
           {
            "marker": {
             "colorbar": {
              "outlinewidth": 0,
              "ticks": ""
             }
            },
            "type": "scattermapbox"
           }
          ],
          "scatterpolar": [
           {
            "marker": {
             "colorbar": {
              "outlinewidth": 0,
              "ticks": ""
             }
            },
            "type": "scatterpolar"
           }
          ],
          "scatterpolargl": [
           {
            "marker": {
             "colorbar": {
              "outlinewidth": 0,
              "ticks": ""
             }
            },
            "type": "scatterpolargl"
           }
          ],
          "scatterternary": [
           {
            "marker": {
             "colorbar": {
              "outlinewidth": 0,
              "ticks": ""
             }
            },
            "type": "scatterternary"
           }
          ],
          "surface": [
           {
            "colorbar": {
             "outlinewidth": 0,
             "ticks": ""
            },
            "colorscale": [
             [
              0,
              "#0d0887"
             ],
             [
              0.1111111111111111,
              "#46039f"
             ],
             [
              0.2222222222222222,
              "#7201a8"
             ],
             [
              0.3333333333333333,
              "#9c179e"
             ],
             [
              0.4444444444444444,
              "#bd3786"
             ],
             [
              0.5555555555555556,
              "#d8576b"
             ],
             [
              0.6666666666666666,
              "#ed7953"
             ],
             [
              0.7777777777777778,
              "#fb9f3a"
             ],
             [
              0.8888888888888888,
              "#fdca26"
             ],
             [
              1,
              "#f0f921"
             ]
            ],
            "type": "surface"
           }
          ],
          "table": [
           {
            "cells": {
             "fill": {
              "color": "#EBF0F8"
             },
             "line": {
              "color": "white"
             }
            },
            "header": {
             "fill": {
              "color": "#C8D4E3"
             },
             "line": {
              "color": "white"
             }
            },
            "type": "table"
           }
          ]
         },
         "layout": {
          "annotationdefaults": {
           "arrowcolor": "#2a3f5f",
           "arrowhead": 0,
           "arrowwidth": 1
          },
          "coloraxis": {
           "colorbar": {
            "outlinewidth": 0,
            "ticks": ""
           }
          },
          "colorscale": {
           "diverging": [
            [
             0,
             "#8e0152"
            ],
            [
             0.1,
             "#c51b7d"
            ],
            [
             0.2,
             "#de77ae"
            ],
            [
             0.3,
             "#f1b6da"
            ],
            [
             0.4,
             "#fde0ef"
            ],
            [
             0.5,
             "#f7f7f7"
            ],
            [
             0.6,
             "#e6f5d0"
            ],
            [
             0.7,
             "#b8e186"
            ],
            [
             0.8,
             "#7fbc41"
            ],
            [
             0.9,
             "#4d9221"
            ],
            [
             1,
             "#276419"
            ]
           ],
           "sequential": [
            [
             0,
             "#0d0887"
            ],
            [
             0.1111111111111111,
             "#46039f"
            ],
            [
             0.2222222222222222,
             "#7201a8"
            ],
            [
             0.3333333333333333,
             "#9c179e"
            ],
            [
             0.4444444444444444,
             "#bd3786"
            ],
            [
             0.5555555555555556,
             "#d8576b"
            ],
            [
             0.6666666666666666,
             "#ed7953"
            ],
            [
             0.7777777777777778,
             "#fb9f3a"
            ],
            [
             0.8888888888888888,
             "#fdca26"
            ],
            [
             1,
             "#f0f921"
            ]
           ],
           "sequentialminus": [
            [
             0,
             "#0d0887"
            ],
            [
             0.1111111111111111,
             "#46039f"
            ],
            [
             0.2222222222222222,
             "#7201a8"
            ],
            [
             0.3333333333333333,
             "#9c179e"
            ],
            [
             0.4444444444444444,
             "#bd3786"
            ],
            [
             0.5555555555555556,
             "#d8576b"
            ],
            [
             0.6666666666666666,
             "#ed7953"
            ],
            [
             0.7777777777777778,
             "#fb9f3a"
            ],
            [
             0.8888888888888888,
             "#fdca26"
            ],
            [
             1,
             "#f0f921"
            ]
           ]
          },
          "colorway": [
           "#636efa",
           "#EF553B",
           "#00cc96",
           "#ab63fa",
           "#FFA15A",
           "#19d3f3",
           "#FF6692",
           "#B6E880",
           "#FF97FF",
           "#FECB52"
          ],
          "font": {
           "color": "#2a3f5f"
          },
          "geo": {
           "bgcolor": "white",
           "lakecolor": "white",
           "landcolor": "#E5ECF6",
           "showlakes": true,
           "showland": true,
           "subunitcolor": "white"
          },
          "hoverlabel": {
           "align": "left"
          },
          "hovermode": "closest",
          "mapbox": {
           "style": "light"
          },
          "paper_bgcolor": "white",
          "plot_bgcolor": "#E5ECF6",
          "polar": {
           "angularaxis": {
            "gridcolor": "white",
            "linecolor": "white",
            "ticks": ""
           },
           "bgcolor": "#E5ECF6",
           "radialaxis": {
            "gridcolor": "white",
            "linecolor": "white",
            "ticks": ""
           }
          },
          "scene": {
           "xaxis": {
            "backgroundcolor": "#E5ECF6",
            "gridcolor": "white",
            "gridwidth": 2,
            "linecolor": "white",
            "showbackground": true,
            "ticks": "",
            "zerolinecolor": "white"
           },
           "yaxis": {
            "backgroundcolor": "#E5ECF6",
            "gridcolor": "white",
            "gridwidth": 2,
            "linecolor": "white",
            "showbackground": true,
            "ticks": "",
            "zerolinecolor": "white"
           },
           "zaxis": {
            "backgroundcolor": "#E5ECF6",
            "gridcolor": "white",
            "gridwidth": 2,
            "linecolor": "white",
            "showbackground": true,
            "ticks": "",
            "zerolinecolor": "white"
           }
          },
          "shapedefaults": {
           "line": {
            "color": "#2a3f5f"
           }
          },
          "ternary": {
           "aaxis": {
            "gridcolor": "white",
            "linecolor": "white",
            "ticks": ""
           },
           "baxis": {
            "gridcolor": "white",
            "linecolor": "white",
            "ticks": ""
           },
           "bgcolor": "#E5ECF6",
           "caxis": {
            "gridcolor": "white",
            "linecolor": "white",
            "ticks": ""
           }
          },
          "title": {
           "x": 0.05
          },
          "xaxis": {
           "automargin": true,
           "gridcolor": "white",
           "linecolor": "white",
           "ticks": "",
           "title": {
            "standoff": 15
           },
           "zerolinecolor": "white",
           "zerolinewidth": 2
          },
          "yaxis": {
           "automargin": true,
           "gridcolor": "white",
           "linecolor": "white",
           "ticks": "",
           "title": {
            "standoff": 15
           },
           "zerolinecolor": "white",
           "zerolinewidth": 2
          }
         }
        },
        "title": {
         "text": "Missing Values(count & %)"
        }
       }
      },
      "text/html": [
       "<div>\n",
       "        \n",
       "        \n",
       "            <div id=\"f8b0ec81-1670-4941-8dc2-3bc07d81283a\" class=\"plotly-graph-div\" style=\"height:525px; width:100%;\"></div>\n",
       "            <script type=\"text/javascript\">\n",
       "                require([\"plotly\"], function(Plotly) {\n",
       "                    window.PLOTLYENV=window.PLOTLYENV || {};\n",
       "                    \n",
       "                if (document.getElementById(\"f8b0ec81-1670-4941-8dc2-3bc07d81283a\")) {\n",
       "                    Plotly.newPlot(\n",
       "                        'f8b0ec81-1670-4941-8dc2-3bc07d81283a',\n",
       "                        [{\"marker\": {\"color\": \"#7EC0EE\", \"line\": {\"color\": \"#000000\", \"width\": 1.5}}, \"opacity\": 0.8, \"text\": [0.0, 0.65, 4.56, 29.56, 48.7, 1.43, 0.0, 0.0, 0.0], \"textposition\": \"auto\", \"type\": \"bar\", \"x\": [\"Pregnancies\", \"Glucose\", \"BloodPressure\", \"SkinThickness\", \"Insulin\", \"BMI\", \"DiabetesPedigreeFunction\", \"Age\", \"Outcome\"], \"y\": [768, 763, 733, 541, 394, 757, 768, 768, 768]}],\n",
       "                        {\"template\": {\"data\": {\"bar\": [{\"error_x\": {\"color\": \"#2a3f5f\"}, \"error_y\": {\"color\": \"#2a3f5f\"}, \"marker\": {\"line\": {\"color\": \"#E5ECF6\", \"width\": 0.5}}, \"type\": \"bar\"}], \"barpolar\": [{\"marker\": {\"line\": {\"color\": \"#E5ECF6\", \"width\": 0.5}}, \"type\": \"barpolar\"}], \"carpet\": [{\"aaxis\": {\"endlinecolor\": \"#2a3f5f\", \"gridcolor\": \"white\", \"linecolor\": \"white\", \"minorgridcolor\": \"white\", \"startlinecolor\": \"#2a3f5f\"}, \"baxis\": {\"endlinecolor\": \"#2a3f5f\", \"gridcolor\": \"white\", \"linecolor\": \"white\", \"minorgridcolor\": \"white\", \"startlinecolor\": \"#2a3f5f\"}, \"type\": \"carpet\"}], \"choropleth\": [{\"colorbar\": {\"outlinewidth\": 0, \"ticks\": \"\"}, \"type\": \"choropleth\"}], \"contour\": [{\"colorbar\": {\"outlinewidth\": 0, \"ticks\": \"\"}, \"colorscale\": [[0.0, \"#0d0887\"], [0.1111111111111111, \"#46039f\"], [0.2222222222222222, \"#7201a8\"], [0.3333333333333333, \"#9c179e\"], [0.4444444444444444, \"#bd3786\"], [0.5555555555555556, \"#d8576b\"], [0.6666666666666666, \"#ed7953\"], [0.7777777777777778, \"#fb9f3a\"], [0.8888888888888888, \"#fdca26\"], [1.0, \"#f0f921\"]], \"type\": \"contour\"}], \"contourcarpet\": [{\"colorbar\": {\"outlinewidth\": 0, \"ticks\": \"\"}, \"type\": \"contourcarpet\"}], \"heatmap\": [{\"colorbar\": {\"outlinewidth\": 0, \"ticks\": \"\"}, \"colorscale\": [[0.0, \"#0d0887\"], [0.1111111111111111, \"#46039f\"], [0.2222222222222222, \"#7201a8\"], [0.3333333333333333, \"#9c179e\"], [0.4444444444444444, \"#bd3786\"], [0.5555555555555556, \"#d8576b\"], [0.6666666666666666, \"#ed7953\"], [0.7777777777777778, \"#fb9f3a\"], [0.8888888888888888, \"#fdca26\"], [1.0, \"#f0f921\"]], \"type\": \"heatmap\"}], \"heatmapgl\": [{\"colorbar\": {\"outlinewidth\": 0, \"ticks\": \"\"}, \"colorscale\": [[0.0, \"#0d0887\"], [0.1111111111111111, \"#46039f\"], [0.2222222222222222, \"#7201a8\"], [0.3333333333333333, \"#9c179e\"], [0.4444444444444444, \"#bd3786\"], [0.5555555555555556, \"#d8576b\"], [0.6666666666666666, \"#ed7953\"], [0.7777777777777778, \"#fb9f3a\"], [0.8888888888888888, \"#fdca26\"], [1.0, \"#f0f921\"]], \"type\": \"heatmapgl\"}], \"histogram\": [{\"marker\": {\"colorbar\": {\"outlinewidth\": 0, \"ticks\": \"\"}}, \"type\": \"histogram\"}], \"histogram2d\": [{\"colorbar\": {\"outlinewidth\": 0, \"ticks\": \"\"}, \"colorscale\": [[0.0, \"#0d0887\"], [0.1111111111111111, \"#46039f\"], [0.2222222222222222, \"#7201a8\"], [0.3333333333333333, \"#9c179e\"], [0.4444444444444444, \"#bd3786\"], [0.5555555555555556, \"#d8576b\"], [0.6666666666666666, \"#ed7953\"], [0.7777777777777778, \"#fb9f3a\"], [0.8888888888888888, \"#fdca26\"], [1.0, \"#f0f921\"]], \"type\": \"histogram2d\"}], \"histogram2dcontour\": [{\"colorbar\": {\"outlinewidth\": 0, \"ticks\": \"\"}, \"colorscale\": [[0.0, \"#0d0887\"], [0.1111111111111111, \"#46039f\"], [0.2222222222222222, \"#7201a8\"], [0.3333333333333333, \"#9c179e\"], [0.4444444444444444, \"#bd3786\"], [0.5555555555555556, \"#d8576b\"], [0.6666666666666666, \"#ed7953\"], [0.7777777777777778, \"#fb9f3a\"], [0.8888888888888888, \"#fdca26\"], [1.0, \"#f0f921\"]], \"type\": \"histogram2dcontour\"}], \"mesh3d\": [{\"colorbar\": {\"outlinewidth\": 0, \"ticks\": \"\"}, \"type\": \"mesh3d\"}], \"parcoords\": [{\"line\": {\"colorbar\": {\"outlinewidth\": 0, \"ticks\": \"\"}}, \"type\": \"parcoords\"}], \"pie\": [{\"automargin\": true, \"type\": \"pie\"}], \"scatter\": [{\"marker\": {\"colorbar\": {\"outlinewidth\": 0, \"ticks\": \"\"}}, \"type\": \"scatter\"}], \"scatter3d\": [{\"line\": {\"colorbar\": {\"outlinewidth\": 0, \"ticks\": \"\"}}, \"marker\": {\"colorbar\": {\"outlinewidth\": 0, \"ticks\": \"\"}}, \"type\": \"scatter3d\"}], \"scattercarpet\": [{\"marker\": {\"colorbar\": {\"outlinewidth\": 0, \"ticks\": \"\"}}, \"type\": \"scattercarpet\"}], \"scattergeo\": [{\"marker\": {\"colorbar\": {\"outlinewidth\": 0, \"ticks\": \"\"}}, \"type\": \"scattergeo\"}], \"scattergl\": [{\"marker\": {\"colorbar\": {\"outlinewidth\": 0, \"ticks\": \"\"}}, \"type\": \"scattergl\"}], \"scattermapbox\": [{\"marker\": {\"colorbar\": {\"outlinewidth\": 0, \"ticks\": \"\"}}, \"type\": \"scattermapbox\"}], \"scatterpolar\": [{\"marker\": {\"colorbar\": {\"outlinewidth\": 0, \"ticks\": \"\"}}, \"type\": \"scatterpolar\"}], \"scatterpolargl\": [{\"marker\": {\"colorbar\": {\"outlinewidth\": 0, \"ticks\": \"\"}}, \"type\": \"scatterpolargl\"}], \"scatterternary\": [{\"marker\": {\"colorbar\": {\"outlinewidth\": 0, \"ticks\": \"\"}}, \"type\": \"scatterternary\"}], \"surface\": [{\"colorbar\": {\"outlinewidth\": 0, \"ticks\": \"\"}, \"colorscale\": [[0.0, \"#0d0887\"], [0.1111111111111111, \"#46039f\"], [0.2222222222222222, \"#7201a8\"], [0.3333333333333333, \"#9c179e\"], [0.4444444444444444, \"#bd3786\"], [0.5555555555555556, \"#d8576b\"], [0.6666666666666666, \"#ed7953\"], [0.7777777777777778, \"#fb9f3a\"], [0.8888888888888888, \"#fdca26\"], [1.0, \"#f0f921\"]], \"type\": \"surface\"}], \"table\": [{\"cells\": {\"fill\": {\"color\": \"#EBF0F8\"}, \"line\": {\"color\": \"white\"}}, \"header\": {\"fill\": {\"color\": \"#C8D4E3\"}, \"line\": {\"color\": \"white\"}}, \"type\": \"table\"}]}, \"layout\": {\"annotationdefaults\": {\"arrowcolor\": \"#2a3f5f\", \"arrowhead\": 0, \"arrowwidth\": 1}, \"coloraxis\": {\"colorbar\": {\"outlinewidth\": 0, \"ticks\": \"\"}}, \"colorscale\": {\"diverging\": [[0, \"#8e0152\"], [0.1, \"#c51b7d\"], [0.2, \"#de77ae\"], [0.3, \"#f1b6da\"], [0.4, \"#fde0ef\"], [0.5, \"#f7f7f7\"], [0.6, \"#e6f5d0\"], [0.7, \"#b8e186\"], [0.8, \"#7fbc41\"], [0.9, \"#4d9221\"], [1, \"#276419\"]], \"sequential\": [[0.0, \"#0d0887\"], [0.1111111111111111, \"#46039f\"], [0.2222222222222222, \"#7201a8\"], [0.3333333333333333, \"#9c179e\"], [0.4444444444444444, \"#bd3786\"], [0.5555555555555556, \"#d8576b\"], [0.6666666666666666, \"#ed7953\"], [0.7777777777777778, \"#fb9f3a\"], [0.8888888888888888, \"#fdca26\"], [1.0, \"#f0f921\"]], \"sequentialminus\": [[0.0, \"#0d0887\"], [0.1111111111111111, \"#46039f\"], [0.2222222222222222, \"#7201a8\"], [0.3333333333333333, \"#9c179e\"], [0.4444444444444444, \"#bd3786\"], [0.5555555555555556, \"#d8576b\"], [0.6666666666666666, \"#ed7953\"], [0.7777777777777778, \"#fb9f3a\"], [0.8888888888888888, \"#fdca26\"], [1.0, \"#f0f921\"]]}, \"colorway\": [\"#636efa\", \"#EF553B\", \"#00cc96\", \"#ab63fa\", \"#FFA15A\", \"#19d3f3\", \"#FF6692\", \"#B6E880\", \"#FF97FF\", \"#FECB52\"], \"font\": {\"color\": \"#2a3f5f\"}, \"geo\": {\"bgcolor\": \"white\", \"lakecolor\": \"white\", \"landcolor\": \"#E5ECF6\", \"showlakes\": true, \"showland\": true, \"subunitcolor\": \"white\"}, \"hoverlabel\": {\"align\": \"left\"}, \"hovermode\": \"closest\", \"mapbox\": {\"style\": \"light\"}, \"paper_bgcolor\": \"white\", \"plot_bgcolor\": \"#E5ECF6\", \"polar\": {\"angularaxis\": {\"gridcolor\": \"white\", \"linecolor\": \"white\", \"ticks\": \"\"}, \"bgcolor\": \"#E5ECF6\", \"radialaxis\": {\"gridcolor\": \"white\", \"linecolor\": \"white\", \"ticks\": \"\"}}, \"scene\": {\"xaxis\": {\"backgroundcolor\": \"#E5ECF6\", \"gridcolor\": \"white\", \"gridwidth\": 2, \"linecolor\": \"white\", \"showbackground\": true, \"ticks\": \"\", \"zerolinecolor\": \"white\"}, \"yaxis\": {\"backgroundcolor\": \"#E5ECF6\", \"gridcolor\": \"white\", \"gridwidth\": 2, \"linecolor\": \"white\", \"showbackground\": true, \"ticks\": \"\", \"zerolinecolor\": \"white\"}, \"zaxis\": {\"backgroundcolor\": \"#E5ECF6\", \"gridcolor\": \"white\", \"gridwidth\": 2, \"linecolor\": \"white\", \"showbackground\": true, \"ticks\": \"\", \"zerolinecolor\": \"white\"}}, \"shapedefaults\": {\"line\": {\"color\": \"#2a3f5f\"}}, \"ternary\": {\"aaxis\": {\"gridcolor\": \"white\", \"linecolor\": \"white\", \"ticks\": \"\"}, \"baxis\": {\"gridcolor\": \"white\", \"linecolor\": \"white\", \"ticks\": \"\"}, \"bgcolor\": \"#E5ECF6\", \"caxis\": {\"gridcolor\": \"white\", \"linecolor\": \"white\", \"ticks\": \"\"}}, \"title\": {\"x\": 0.05}, \"xaxis\": {\"automargin\": true, \"gridcolor\": \"white\", \"linecolor\": \"white\", \"ticks\": \"\", \"title\": {\"standoff\": 15}, \"zerolinecolor\": \"white\", \"zerolinewidth\": 2}, \"yaxis\": {\"automargin\": true, \"gridcolor\": \"white\", \"linecolor\": \"white\", \"ticks\": \"\", \"title\": {\"standoff\": 15}, \"zerolinecolor\": \"white\", \"zerolinewidth\": 2}}}, \"title\": {\"text\": \"Missing Values(count & %)\"}},\n",
       "                        {\"responsive\": true}\n",
       "                    ).then(function(){\n",
       "                            \n",
       "var gd = document.getElementById('f8b0ec81-1670-4941-8dc2-3bc07d81283a');\n",
       "var x = new MutationObserver(function (mutations, observer) {{\n",
       "        var display = window.getComputedStyle(gd).display;\n",
       "        if (!display || display === 'none') {{\n",
       "            console.log([gd, 'removed!']);\n",
       "            Plotly.purge(gd);\n",
       "            observer.disconnect();\n",
       "        }}\n",
       "}});\n",
       "\n",
       "// Listen for the removal of the full notebook cells\n",
       "var notebookContainer = gd.closest('#notebook-container');\n",
       "if (notebookContainer) {{\n",
       "    x.observe(notebookContainer, {childList: true});\n",
       "}}\n",
       "\n",
       "// Listen for the clearing of the current output cell\n",
       "var outputEl = gd.closest('.output');\n",
       "if (outputEl) {{\n",
       "    x.observe(outputEl, {childList: true});\n",
       "}}\n",
       "\n",
       "                        })\n",
       "                };\n",
       "                });\n",
       "            </script>\n",
       "        </div>"
      ]
     },
     "metadata": {},
     "output_type": "display_data"
    }
   ],
   "source": [
    "#Plotting\n",
    "missing_plot(data,'Outcome')"
   ]
  },
  {
   "cell_type": "code",
   "execution_count": 9,
   "metadata": {},
   "outputs": [
    {
     "data": {
      "image/png": "[encoded data removed]",
      "text/plain": [
       "<Figure size 792x1080 with 1 Axes>"
      ]
     },
     "metadata": {},
     "output_type": "display_data"
    }
   ],
   "source": [
    "plt.style.use('ggplot')\n",
    "\n",
    "f,ax=plt.subplots(figsize=(11,15))\n",
    "\n",
    "ax.set_facecolor('#fafafa')\n",
    "ax.set(xlim=(-.05,200))\n",
    "plt.ylabel('Variables')\n",
    "plt.title('Overview Data Set')\n",
    "ax = sns.boxplot(data=data,orient='h',\n",
    "                palette='Set2')\n"
   ]
  },
  {
   "cell_type": "code",
   "execution_count": 10,
   "metadata": {},
   "outputs": [],
   "source": [
    "def correlation_plot():\n",
    "    #correlation\n",
    "    correlation = data.corr()\n",
    "    #tick labels \n",
    "    matrix_cols=correlation.columns.tolist()\n",
    "    #convert to array\n",
    "    corr_array=np.array(correlation)\n",
    "    trace=go.Heatmap(z=corr_array,\n",
    "                    x=matrix_cols,\n",
    "                    y=matrix_cols,\n",
    "                    colorscale='Viridis',\n",
    "                    colorbar=dict(),\n",
    "                    )\n",
    "    layout=go.Layout(dict(title='Correlation Matrix for variabels',\n",
    "                         #autosize=flase,\n",
    "                         #height=1400,\n",
    "                         #width=1600,\n",
    "                         margin=dict(r=0.1,l=100,t=0,b=100,),\n",
    "                          yaxis=dict(tickfont=dict(size=9)),\n",
    "                         xaxis=dict(tickfont=dict(size=9)),))\n",
    "    fig=go.Figure(data=[trace],layout=layout)\n",
    "    py.iplot(fig)"
   ]
  },
  {
   "cell_type": "code",
   "execution_count": 11,
   "metadata": {},
   "outputs": [
    {
     "data": {
      "application/vnd.plotly.v1+json": {
       "config": {
        "linkText": "Export to plot.ly",
        "plotlyServerURL": "https://plot.ly",
        "showLink": false
       },
       "data": [
        {
         "colorscale": [
          [
           0,
           "#440154"
          ],
          [
           0.1111111111111111,
           "#482878"
          ],
          [
           0.2222222222222222,
           "#3e4989"
          ],
          [
           0.3333333333333333,
           "#31688e"
          ],
          [
           0.4444444444444444,
           "#26828e"
          ],
          [
           0.5555555555555556,
           "#1f9e89"
          ],
          [
           0.6666666666666666,
           "#35b779"
          ],
          [
           0.7777777777777778,
           "#6ece58"
          ],
          [
           0.8888888888888888,
           "#b5de2b"
          ],
          [
           1,
           "#fde725"
          ]
         ],
         "type": "heatmap",
         "x": [
          "Pregnancies",
          "Glucose",
          "BloodPressure",
          "SkinThickness",
          "Insulin",
          "BMI",
          "DiabetesPedigreeFunction",
          "Age",
          "Outcome"
         ],
         "y": [
          "Pregnancies",
          "Glucose",
          "BloodPressure",
          "SkinThickness",
          "Insulin",
          "BMI",
          "DiabetesPedigreeFunction",
          "Age",
          "Outcome"
         ],
         "z": [
          [
           1,
           0.12813455168388557,
           0.21417848337744982,
           0.10023907244218412,
           0.08217102573137149,
           0.02171891931714617,
           -0.03352267296261325,
           0.5443412284023388,
           0.2218981530339883
          ],
          [
           0.12813455168388557,
           1,
           0.2231917782495412,
           0.22804322678186387,
           0.5811862089121645,
           0.23277051103551302,
           0.13724574122530184,
           0.26713555473125283,
           0.49465025908103116
          ],
          [
           0.21417848337744982,
           0.2231917782495412,
           1,
           0.22683906740782186,
           0.09827229945465549,
           0.28923034040466783,
           -0.002804526541936138,
           0.33010742520300085,
           0.17058928446068541
          ],
          [
           0.10023907244218412,
           0.22804322678186387,
           0.22683906740782186,
           1,
           0.18488842018975915,
           0.6482139430923209,
           0.11501642607108685,
           0.16681577419885837,
           0.25949142216465954
          ],
          [
           0.08217102573137149,
           0.5811862089121645,
           0.09827229945465549,
           0.18488842018975915,
           1,
           0.22805015741657111,
           0.13039507167406175,
           0.22026068477477073,
           0.30345425200567777
          ],
          [
           0.02171891931714617,
           0.23277051103551302,
           0.28923034040466783,
           0.6482139430923209,
           0.22805015741657111,
           1,
           0.15538174565139287,
           0.025841458169262047,
           0.31368048219844274
          ],
          [
           -0.03352267296261325,
           0.13724574122530184,
           -0.002804526541936138,
           0.11501642607108685,
           0.13039507167406175,
           0.15538174565139287,
           1,
           0.03356131243480559,
           0.17384406565296076
          ],
          [
           0.5443412284023388,
           0.26713555473125283,
           0.33010742520300085,
           0.16681577419885837,
           0.22026068477477073,
           0.025841458169262047,
           0.03356131243480559,
           1,
           0.23835598302719743
          ],
          [
           0.2218981530339883,
           0.49465025908103116,
           0.17058928446068541,
           0.25949142216465954,
           0.30345425200567777,
           0.31368048219844274,
           0.17384406565296076,
           0.23835598302719743,
           1
          ]
         ]
        }
       ],
       "layout": {
        "margin": {
         "b": 100,
         "l": 100,
         "r": 0.1,
         "t": 0
        },
        "template": {
         "data": {
          "bar": [
           {
            "error_x": {
             "color": "#2a3f5f"
            },
            "error_y": {
             "color": "#2a3f5f"
            },
            "marker": {
             "line": {
              "color": "#E5ECF6",
              "width": 0.5
             }
            },
            "type": "bar"
           }
          ],
          "barpolar": [
           {
            "marker": {
             "line": {
              "color": "#E5ECF6",
              "width": 0.5
             }
            },
            "type": "barpolar"
           }
          ],
          "carpet": [
           {
            "aaxis": {
             "endlinecolor": "#2a3f5f",
             "gridcolor": "white",
             "linecolor": "white",
             "minorgridcolor": "white",
             "startlinecolor": "#2a3f5f"
            },
            "baxis": {
             "endlinecolor": "#2a3f5f",
             "gridcolor": "white",
             "linecolor": "white",
             "minorgridcolor": "white",
             "startlinecolor": "#2a3f5f"
            },
            "type": "carpet"
           }
          ],
          "choropleth": [
           {
            "colorbar": {
             "outlinewidth": 0,
             "ticks": ""
            },
            "type": "choropleth"
           }
          ],
          "contour": [
           {
            "colorbar": {
             "outlinewidth": 0,
             "ticks": ""
            },
            "colorscale": [
             [
              0,
              "#0d0887"
             ],
             [
              0.1111111111111111,
              "#46039f"
             ],
             [
              0.2222222222222222,
              "#7201a8"
             ],
             [
              0.3333333333333333,
              "#9c179e"
             ],
             [
              0.4444444444444444,
              "#bd3786"
             ],
             [
              0.5555555555555556,
              "#d8576b"
             ],
             [
              0.6666666666666666,
              "#ed7953"
             ],
             [
              0.7777777777777778,
              "#fb9f3a"
             ],
             [
              0.8888888888888888,
              "#fdca26"
             ],
             [
              1,
              "#f0f921"
             ]
            ],
            "type": "contour"
           }
          ],
          "contourcarpet": [
           {
            "colorbar": {
             "outlinewidth": 0,
             "ticks": ""
            },
            "type": "contourcarpet"
           }
          ],
          "heatmap": [
           {
            "colorbar": {
             "outlinewidth": 0,
             "ticks": ""
            },
            "colorscale": [
             [
              0,
              "#0d0887"
             ],
             [
              0.1111111111111111,
              "#46039f"
             ],
             [
              0.2222222222222222,
              "#7201a8"
             ],
             [
              0.3333333333333333,
              "#9c179e"
             ],
             [
              0.4444444444444444,
              "#bd3786"
             ],
             [
              0.5555555555555556,
              "#d8576b"
             ],
             [
              0.6666666666666666,
              "#ed7953"
             ],
             [
              0.7777777777777778,
              "#fb9f3a"
             ],
             [
              0.8888888888888888,
              "#fdca26"
             ],
             [
              1,
              "#f0f921"
             ]
            ],
            "type": "heatmap"
           }
          ],
          "heatmapgl": [
           {
            "colorbar": {
             "outlinewidth": 0,
             "ticks": ""
            },
            "colorscale": [
             [
              0,
              "#0d0887"
             ],
             [
              0.1111111111111111,
              "#46039f"
             ],
             [
              0.2222222222222222,
              "#7201a8"
             ],
             [
              0.3333333333333333,
              "#9c179e"
             ],
             [
              0.4444444444444444,
              "#bd3786"
             ],
             [
              0.5555555555555556,
              "#d8576b"
             ],
             [
              0.6666666666666666,
              "#ed7953"
             ],
             [
              0.7777777777777778,
              "#fb9f3a"
             ],
             [
              0.8888888888888888,
              "#fdca26"
             ],
             [
              1,
              "#f0f921"
             ]
            ],
            "type": "heatmapgl"
           }
          ],
          "histogram": [
           {
            "marker": {
             "colorbar": {
              "outlinewidth": 0,
              "ticks": ""
             }
            },
            "type": "histogram"
           }
          ],
          "histogram2d": [
           {
            "colorbar": {
             "outlinewidth": 0,
             "ticks": ""
            },
            "colorscale": [
             [
              0,
              "#0d0887"
             ],
             [
              0.1111111111111111,
              "#46039f"
             ],
             [
              0.2222222222222222,
              "#7201a8"
             ],
             [
              0.3333333333333333,
              "#9c179e"
             ],
             [
              0.4444444444444444,
              "#bd3786"
             ],
             [
              0.5555555555555556,
              "#d8576b"
             ],
             [
              0.6666666666666666,
              "#ed7953"
             ],
             [
              0.7777777777777778,
              "#fb9f3a"
             ],
             [
              0.8888888888888888,
              "#fdca26"
             ],
             [
              1,
              "#f0f921"
             ]
            ],
            "type": "histogram2d"
           }
          ],
          "histogram2dcontour": [
           {
            "colorbar": {
             "outlinewidth": 0,
             "ticks": ""
            },
            "colorscale": [
             [
              0,
              "#0d0887"
             ],
             [
              0.1111111111111111,
              "#46039f"
             ],
             [
              0.2222222222222222,
              "#7201a8"
             ],
             [
              0.3333333333333333,
              "#9c179e"
             ],
             [
              0.4444444444444444,
              "#bd3786"
             ],
             [
              0.5555555555555556,
              "#d8576b"
             ],
             [
              0.6666666666666666,
              "#ed7953"
             ],
             [
              0.7777777777777778,
              "#fb9f3a"
             ],
             [
              0.8888888888888888,
              "#fdca26"
             ],
             [
              1,
              "#f0f921"
             ]
            ],
            "type": "histogram2dcontour"
           }
          ],
          "mesh3d": [
           {
            "colorbar": {
             "outlinewidth": 0,
             "ticks": ""
            },
            "type": "mesh3d"
           }
          ],
          "parcoords": [
           {
            "line": {
             "colorbar": {
              "outlinewidth": 0,
              "ticks": ""
             }
            },
            "type": "parcoords"
           }
          ],
          "pie": [
           {
            "automargin": true,
            "type": "pie"
           }
          ],
          "scatter": [
           {
            "marker": {
             "colorbar": {
              "outlinewidth": 0,
              "ticks": ""
             }
            },
            "type": "scatter"
           }
          ],
          "scatter3d": [
           {
            "line": {
             "colorbar": {
              "outlinewidth": 0,
              "ticks": ""
             }
            },
            "marker": {
             "colorbar": {
              "outlinewidth": 0,
              "ticks": ""
             }
            },
            "type": "scatter3d"
           }
          ],
          "scattercarpet": [
           {
            "marker": {
             "colorbar": {
              "outlinewidth": 0,
              "ticks": ""
             }
            },
            "type": "scattercarpet"
           }
          ],
          "scattergeo": [
           {
            "marker": {
             "colorbar": {
              "outlinewidth": 0,
              "ticks": ""
             }
            },
            "type": "scattergeo"
           }
          ],
          "scattergl": [
           {
            "marker": {
             "colorbar": {
              "outlinewidth": 0,
              "ticks": ""
             }
            },
            "type": "scattergl"
           }
          ],
          "scattermapbox": [
           {
            "marker": {
             "colorbar": {
              "outlinewidth": 0,
              "ticks": ""
             }
            },
            "type": "scattermapbox"
           }
          ],
          "scatterpolar": [
           {
            "marker": {
             "colorbar": {
              "outlinewidth": 0,
              "ticks": ""
             }
            },
            "type": "scatterpolar"
           }
          ],
          "scatterpolargl": [
           {
            "marker": {
             "colorbar": {
              "outlinewidth": 0,
              "ticks": ""
             }
            },
            "type": "scatterpolargl"
           }
          ],
          "scatterternary": [
           {
            "marker": {
             "colorbar": {
              "outlinewidth": 0,
              "ticks": ""
             }
            },
            "type": "scatterternary"
           }
          ],
          "surface": [
           {
            "colorbar": {
             "outlinewidth": 0,
             "ticks": ""
            },
            "colorscale": [
             [
              0,
              "#0d0887"
             ],
             [
              0.1111111111111111,
              "#46039f"
             ],
             [
              0.2222222222222222,
              "#7201a8"
             ],
             [
              0.3333333333333333,
              "#9c179e"
             ],
             [
              0.4444444444444444,
              "#bd3786"
             ],
             [
              0.5555555555555556,
              "#d8576b"
             ],
             [
              0.6666666666666666,
              "#ed7953"
             ],
             [
              0.7777777777777778,
              "#fb9f3a"
             ],
             [
              0.8888888888888888,
              "#fdca26"
             ],
             [
              1,
              "#f0f921"
             ]
            ],
            "type": "surface"
           }
          ],
          "table": [
           {
            "cells": {
             "fill": {
              "color": "#EBF0F8"
             },
             "line": {
              "color": "white"
             }
            },
            "header": {
             "fill": {
              "color": "#C8D4E3"
             },
             "line": {
              "color": "white"
             }
            },
            "type": "table"
           }
          ]
         },
         "layout": {
          "annotationdefaults": {
           "arrowcolor": "#2a3f5f",
           "arrowhead": 0,
           "arrowwidth": 1
          },
          "coloraxis": {
           "colorbar": {
            "outlinewidth": 0,
            "ticks": ""
           }
          },
          "colorscale": {
           "diverging": [
            [
             0,
             "#8e0152"
            ],
            [
             0.1,
             "#c51b7d"
            ],
            [
             0.2,
             "#de77ae"
            ],
            [
             0.3,
             "#f1b6da"
            ],
            [
             0.4,
             "#fde0ef"
            ],
            [
             0.5,
             "#f7f7f7"
            ],
            [
             0.6,
             "#e6f5d0"
            ],
            [
             0.7,
             "#b8e186"
            ],
            [
             0.8,
             "#7fbc41"
            ],
            [
             0.9,
             "#4d9221"
            ],
            [
             1,
             "#276419"
            ]
           ],
           "sequential": [
            [
             0,
             "#0d0887"
            ],
            [
             0.1111111111111111,
             "#46039f"
            ],
            [
             0.2222222222222222,
             "#7201a8"
            ],
            [
             0.3333333333333333,
             "#9c179e"
            ],
            [
             0.4444444444444444,
             "#bd3786"
            ],
            [
             0.5555555555555556,
             "#d8576b"
            ],
            [
             0.6666666666666666,
             "#ed7953"
            ],
            [
             0.7777777777777778,
             "#fb9f3a"
            ],
            [
             0.8888888888888888,
             "#fdca26"
            ],
            [
             1,
             "#f0f921"
            ]
           ],
           "sequentialminus": [
            [
             0,
             "#0d0887"
            ],
            [
             0.1111111111111111,
             "#46039f"
            ],
            [
             0.2222222222222222,
             "#7201a8"
            ],
            [
             0.3333333333333333,
             "#9c179e"
            ],
            [
             0.4444444444444444,
             "#bd3786"
            ],
            [
             0.5555555555555556,
             "#d8576b"
            ],
            [
             0.6666666666666666,
             "#ed7953"
            ],
            [
             0.7777777777777778,
             "#fb9f3a"
            ],
            [
             0.8888888888888888,
             "#fdca26"
            ],
            [
             1,
             "#f0f921"
            ]
           ]
          },
          "colorway": [
           "#636efa",
           "#EF553B",
           "#00cc96",
           "#ab63fa",
           "#FFA15A",
           "#19d3f3",
           "#FF6692",
           "#B6E880",
           "#FF97FF",
           "#FECB52"
          ],
          "font": {
           "color": "#2a3f5f"
          },
          "geo": {
           "bgcolor": "white",
           "lakecolor": "white",
           "landcolor": "#E5ECF6",
           "showlakes": true,
           "showland": true,
           "subunitcolor": "white"
          },
          "hoverlabel": {
           "align": "left"
          },
          "hovermode": "closest",
          "mapbox": {
           "style": "light"
          },
          "paper_bgcolor": "white",
          "plot_bgcolor": "#E5ECF6",
          "polar": {
           "angularaxis": {
            "gridcolor": "white",
            "linecolor": "white",
            "ticks": ""
           },
           "bgcolor": "#E5ECF6",
           "radialaxis": {
            "gridcolor": "white",
            "linecolor": "white",
            "ticks": ""
           }
          },
          "scene": {
           "xaxis": {
            "backgroundcolor": "#E5ECF6",
            "gridcolor": "white",
            "gridwidth": 2,
            "linecolor": "white",
            "showbackground": true,
            "ticks": "",
            "zerolinecolor": "white"
           },
           "yaxis": {
            "backgroundcolor": "#E5ECF6",
            "gridcolor": "white",
            "gridwidth": 2,
            "linecolor": "white",
            "showbackground": true,
            "ticks": "",
            "zerolinecolor": "white"
           },
           "zaxis": {
            "backgroundcolor": "#E5ECF6",
            "gridcolor": "white",
            "gridwidth": 2,
            "linecolor": "white",
            "showbackground": true,
            "ticks": "",
            "zerolinecolor": "white"
           }
          },
          "shapedefaults": {
           "line": {
            "color": "#2a3f5f"
           }
          },
          "ternary": {
           "aaxis": {
            "gridcolor": "white",
            "linecolor": "white",
            "ticks": ""
           },
           "baxis": {
            "gridcolor": "white",
            "linecolor": "white",
            "ticks": ""
           },
           "bgcolor": "#E5ECF6",
           "caxis": {
            "gridcolor": "white",
            "linecolor": "white",
            "ticks": ""
           }
          },
          "title": {
           "x": 0.05
          },
          "xaxis": {
           "automargin": true,
           "gridcolor": "white",
           "linecolor": "white",
           "ticks": "",
           "title": {
            "standoff": 15
           },
           "zerolinecolor": "white",
           "zerolinewidth": 2
          },
          "yaxis": {
           "automargin": true,
           "gridcolor": "white",
           "linecolor": "white",
           "ticks": "",
           "title": {
            "standoff": 15
           },
           "zerolinecolor": "white",
           "zerolinewidth": 2
          }
         }
        },
        "title": {
         "text": "Correlation Matrix for variabels"
        },
        "xaxis": {
         "tickfont": {
          "size": 9
         }
        },
        "yaxis": {
         "tickfont": {
          "size": 9
         }
        }
       }
      },
      "text/html": [
       "<div>\n",
       "        \n",
       "        \n",
       "            <div id=\"5b91e95e-f298-4b0c-ab31-0c1be32e168f\" class=\"plotly-graph-div\" style=\"height:525px; width:100%;\"></div>\n",
       "            <script type=\"text/javascript\">\n",
       "                require([\"plotly\"], function(Plotly) {\n",
       "                    window.PLOTLYENV=window.PLOTLYENV || {};\n",
       "                    \n",
       "                if (document.getElementById(\"5b91e95e-f298-4b0c-ab31-0c1be32e168f\")) {\n",
       "                    Plotly.newPlot(\n",
       "                        '5b91e95e-f298-4b0c-ab31-0c1be32e168f',\n",
       "                        [{\"colorscale\": [[0.0, \"#440154\"], [0.1111111111111111, \"#482878\"], [0.2222222222222222, \"#3e4989\"], [0.3333333333333333, \"#31688e\"], [0.4444444444444444, \"#26828e\"], [0.5555555555555556, \"#1f9e89\"], [0.6666666666666666, \"#35b779\"], [0.7777777777777778, \"#6ece58\"], [0.8888888888888888, \"#b5de2b\"], [1.0, \"#fde725\"]], \"type\": \"heatmap\", \"x\": [\"Pregnancies\", \"Glucose\", \"BloodPressure\", \"SkinThickness\", \"Insulin\", \"BMI\", \"DiabetesPedigreeFunction\", \"Age\", \"Outcome\"], \"y\": [\"Pregnancies\", \"Glucose\", \"BloodPressure\", \"SkinThickness\", \"Insulin\", \"BMI\", \"DiabetesPedigreeFunction\", \"Age\", \"Outcome\"], \"z\": [[1.0, 0.12813455168388557, 0.21417848337744982, 0.10023907244218412, 0.08217102573137149, 0.02171891931714617, -0.03352267296261325, 0.5443412284023388, 0.2218981530339883], [0.12813455168388557, 1.0, 0.2231917782495412, 0.22804322678186387, 0.5811862089121645, 0.23277051103551302, 0.13724574122530184, 0.26713555473125283, 0.49465025908103116], [0.21417848337744982, 0.2231917782495412, 1.0, 0.22683906740782186, 0.09827229945465549, 0.28923034040466783, -0.002804526541936138, 0.33010742520300085, 0.17058928446068541], [0.10023907244218412, 0.22804322678186387, 0.22683906740782186, 1.0, 0.18488842018975915, 0.6482139430923209, 0.11501642607108685, 0.16681577419885837, 0.25949142216465954], [0.08217102573137149, 0.5811862089121645, 0.09827229945465549, 0.18488842018975915, 1.0, 0.22805015741657111, 0.13039507167406175, 0.22026068477477073, 0.30345425200567777], [0.02171891931714617, 0.23277051103551302, 0.28923034040466783, 0.6482139430923209, 0.22805015741657111, 1.0, 0.15538174565139287, 0.025841458169262047, 0.31368048219844274], [-0.03352267296261325, 0.13724574122530184, -0.002804526541936138, 0.11501642607108685, 0.13039507167406175, 0.15538174565139287, 1.0, 0.03356131243480559, 0.17384406565296076], [0.5443412284023388, 0.26713555473125283, 0.33010742520300085, 0.16681577419885837, 0.22026068477477073, 0.025841458169262047, 0.03356131243480559, 1.0, 0.23835598302719743], [0.2218981530339883, 0.49465025908103116, 0.17058928446068541, 0.25949142216465954, 0.30345425200567777, 0.31368048219844274, 0.17384406565296076, 0.23835598302719743, 1.0]]}],\n",
       "                        {\"margin\": {\"b\": 100, \"l\": 100, \"r\": 0.1, \"t\": 0}, \"template\": {\"data\": {\"bar\": [{\"error_x\": {\"color\": \"#2a3f5f\"}, \"error_y\": {\"color\": \"#2a3f5f\"}, \"marker\": {\"line\": {\"color\": \"#E5ECF6\", \"width\": 0.5}}, \"type\": \"bar\"}], \"barpolar\": [{\"marker\": {\"line\": {\"color\": \"#E5ECF6\", \"width\": 0.5}}, \"type\": \"barpolar\"}], \"carpet\": [{\"aaxis\": {\"endlinecolor\": \"#2a3f5f\", \"gridcolor\": \"white\", \"linecolor\": \"white\", \"minorgridcolor\": \"white\", \"startlinecolor\": \"#2a3f5f\"}, \"baxis\": {\"endlinecolor\": \"#2a3f5f\", \"gridcolor\": \"white\", \"linecolor\": \"white\", \"minorgridcolor\": \"white\", \"startlinecolor\": \"#2a3f5f\"}, \"type\": \"carpet\"}], \"choropleth\": [{\"colorbar\": {\"outlinewidth\": 0, \"ticks\": \"\"}, \"type\": \"choropleth\"}], \"contour\": [{\"colorbar\": {\"outlinewidth\": 0, \"ticks\": \"\"}, \"colorscale\": [[0.0, \"#0d0887\"], [0.1111111111111111, \"#46039f\"], [0.2222222222222222, \"#7201a8\"], [0.3333333333333333, \"#9c179e\"], [0.4444444444444444, \"#bd3786\"], [0.5555555555555556, \"#d8576b\"], [0.6666666666666666, \"#ed7953\"], [0.7777777777777778, \"#fb9f3a\"], [0.8888888888888888, \"#fdca26\"], [1.0, \"#f0f921\"]], \"type\": \"contour\"}], \"contourcarpet\": [{\"colorbar\": {\"outlinewidth\": 0, \"ticks\": \"\"}, \"type\": \"contourcarpet\"}], \"heatmap\": [{\"colorbar\": {\"outlinewidth\": 0, \"ticks\": \"\"}, \"colorscale\": [[0.0, \"#0d0887\"], [0.1111111111111111, \"#46039f\"], [0.2222222222222222, \"#7201a8\"], [0.3333333333333333, \"#9c179e\"], [0.4444444444444444, \"#bd3786\"], [0.5555555555555556, \"#d8576b\"], [0.6666666666666666, \"#ed7953\"], [0.7777777777777778, \"#fb9f3a\"], [0.8888888888888888, \"#fdca26\"], [1.0, \"#f0f921\"]], \"type\": \"heatmap\"}], \"heatmapgl\": [{\"colorbar\": {\"outlinewidth\": 0, \"ticks\": \"\"}, \"colorscale\": [[0.0, \"#0d0887\"], [0.1111111111111111, \"#46039f\"], [0.2222222222222222, \"#7201a8\"], [0.3333333333333333, \"#9c179e\"], [0.4444444444444444, \"#bd3786\"], [0.5555555555555556, \"#d8576b\"], [0.6666666666666666, \"#ed7953\"], [0.7777777777777778, \"#fb9f3a\"], [0.8888888888888888, \"#fdca26\"], [1.0, \"#f0f921\"]], \"type\": \"heatmapgl\"}], \"histogram\": [{\"marker\": {\"colorbar\": {\"outlinewidth\": 0, \"ticks\": \"\"}}, \"type\": \"histogram\"}], \"histogram2d\": [{\"colorbar\": {\"outlinewidth\": 0, \"ticks\": \"\"}, \"colorscale\": [[0.0, \"#0d0887\"], [0.1111111111111111, \"#46039f\"], [0.2222222222222222, \"#7201a8\"], [0.3333333333333333, \"#9c179e\"], [0.4444444444444444, \"#bd3786\"], [0.5555555555555556, \"#d8576b\"], [0.6666666666666666, \"#ed7953\"], [0.7777777777777778, \"#fb9f3a\"], [0.8888888888888888, \"#fdca26\"], [1.0, \"#f0f921\"]], \"type\": \"histogram2d\"}], \"histogram2dcontour\": [{\"colorbar\": {\"outlinewidth\": 0, \"ticks\": \"\"}, \"colorscale\": [[0.0, \"#0d0887\"], [0.1111111111111111, \"#46039f\"], [0.2222222222222222, \"#7201a8\"], [0.3333333333333333, \"#9c179e\"], [0.4444444444444444, \"#bd3786\"], [0.5555555555555556, \"#d8576b\"], [0.6666666666666666, \"#ed7953\"], [0.7777777777777778, \"#fb9f3a\"], [0.8888888888888888, \"#fdca26\"], [1.0, \"#f0f921\"]], \"type\": \"histogram2dcontour\"}], \"mesh3d\": [{\"colorbar\": {\"outlinewidth\": 0, \"ticks\": \"\"}, \"type\": \"mesh3d\"}], \"parcoords\": [{\"line\": {\"colorbar\": {\"outlinewidth\": 0, \"ticks\": \"\"}}, \"type\": \"parcoords\"}], \"pie\": [{\"automargin\": true, \"type\": \"pie\"}], \"scatter\": [{\"marker\": {\"colorbar\": {\"outlinewidth\": 0, \"ticks\": \"\"}}, \"type\": \"scatter\"}], \"scatter3d\": [{\"line\": {\"colorbar\": {\"outlinewidth\": 0, \"ticks\": \"\"}}, \"marker\": {\"colorbar\": {\"outlinewidth\": 0, \"ticks\": \"\"}}, \"type\": \"scatter3d\"}], \"scattercarpet\": [{\"marker\": {\"colorbar\": {\"outlinewidth\": 0, \"ticks\": \"\"}}, \"type\": \"scattercarpet\"}], \"scattergeo\": [{\"marker\": {\"colorbar\": {\"outlinewidth\": 0, \"ticks\": \"\"}}, \"type\": \"scattergeo\"}], \"scattergl\": [{\"marker\": {\"colorbar\": {\"outlinewidth\": 0, \"ticks\": \"\"}}, \"type\": \"scattergl\"}], \"scattermapbox\": [{\"marker\": {\"colorbar\": {\"outlinewidth\": 0, \"ticks\": \"\"}}, \"type\": \"scattermapbox\"}], \"scatterpolar\": [{\"marker\": {\"colorbar\": {\"outlinewidth\": 0, \"ticks\": \"\"}}, \"type\": \"scatterpolar\"}], \"scatterpolargl\": [{\"marker\": {\"colorbar\": {\"outlinewidth\": 0, \"ticks\": \"\"}}, \"type\": \"scatterpolargl\"}], \"scatterternary\": [{\"marker\": {\"colorbar\": {\"outlinewidth\": 0, \"ticks\": \"\"}}, \"type\": \"scatterternary\"}], \"surface\": [{\"colorbar\": {\"outlinewidth\": 0, \"ticks\": \"\"}, \"colorscale\": [[0.0, \"#0d0887\"], [0.1111111111111111, \"#46039f\"], [0.2222222222222222, \"#7201a8\"], [0.3333333333333333, \"#9c179e\"], [0.4444444444444444, \"#bd3786\"], [0.5555555555555556, \"#d8576b\"], [0.6666666666666666, \"#ed7953\"], [0.7777777777777778, \"#fb9f3a\"], [0.8888888888888888, \"#fdca26\"], [1.0, \"#f0f921\"]], \"type\": \"surface\"}], \"table\": [{\"cells\": {\"fill\": {\"color\": \"#EBF0F8\"}, \"line\": {\"color\": \"white\"}}, \"header\": {\"fill\": {\"color\": \"#C8D4E3\"}, \"line\": {\"color\": \"white\"}}, \"type\": \"table\"}]}, \"layout\": {\"annotationdefaults\": {\"arrowcolor\": \"#2a3f5f\", \"arrowhead\": 0, \"arrowwidth\": 1}, \"coloraxis\": {\"colorbar\": {\"outlinewidth\": 0, \"ticks\": \"\"}}, \"colorscale\": {\"diverging\": [[0, \"#8e0152\"], [0.1, \"#c51b7d\"], [0.2, \"#de77ae\"], [0.3, \"#f1b6da\"], [0.4, \"#fde0ef\"], [0.5, \"#f7f7f7\"], [0.6, \"#e6f5d0\"], [0.7, \"#b8e186\"], [0.8, \"#7fbc41\"], [0.9, \"#4d9221\"], [1, \"#276419\"]], \"sequential\": [[0.0, \"#0d0887\"], [0.1111111111111111, \"#46039f\"], [0.2222222222222222, \"#7201a8\"], [0.3333333333333333, \"#9c179e\"], [0.4444444444444444, \"#bd3786\"], [0.5555555555555556, \"#d8576b\"], [0.6666666666666666, \"#ed7953\"], [0.7777777777777778, \"#fb9f3a\"], [0.8888888888888888, \"#fdca26\"], [1.0, \"#f0f921\"]], \"sequentialminus\": [[0.0, \"#0d0887\"], [0.1111111111111111, \"#46039f\"], [0.2222222222222222, \"#7201a8\"], [0.3333333333333333, \"#9c179e\"], [0.4444444444444444, \"#bd3786\"], [0.5555555555555556, \"#d8576b\"], [0.6666666666666666, \"#ed7953\"], [0.7777777777777778, \"#fb9f3a\"], [0.8888888888888888, \"#fdca26\"], [1.0, \"#f0f921\"]]}, \"colorway\": [\"#636efa\", \"#EF553B\", \"#00cc96\", \"#ab63fa\", \"#FFA15A\", \"#19d3f3\", \"#FF6692\", \"#B6E880\", \"#FF97FF\", \"#FECB52\"], \"font\": {\"color\": \"#2a3f5f\"}, \"geo\": {\"bgcolor\": \"white\", \"lakecolor\": \"white\", \"landcolor\": \"#E5ECF6\", \"showlakes\": true, \"showland\": true, \"subunitcolor\": \"white\"}, \"hoverlabel\": {\"align\": \"left\"}, \"hovermode\": \"closest\", \"mapbox\": {\"style\": \"light\"}, \"paper_bgcolor\": \"white\", \"plot_bgcolor\": \"#E5ECF6\", \"polar\": {\"angularaxis\": {\"gridcolor\": \"white\", \"linecolor\": \"white\", \"ticks\": \"\"}, \"bgcolor\": \"#E5ECF6\", \"radialaxis\": {\"gridcolor\": \"white\", \"linecolor\": \"white\", \"ticks\": \"\"}}, \"scene\": {\"xaxis\": {\"backgroundcolor\": \"#E5ECF6\", \"gridcolor\": \"white\", \"gridwidth\": 2, \"linecolor\": \"white\", \"showbackground\": true, \"ticks\": \"\", \"zerolinecolor\": \"white\"}, \"yaxis\": {\"backgroundcolor\": \"#E5ECF6\", \"gridcolor\": \"white\", \"gridwidth\": 2, \"linecolor\": \"white\", \"showbackground\": true, \"ticks\": \"\", \"zerolinecolor\": \"white\"}, \"zaxis\": {\"backgroundcolor\": \"#E5ECF6\", \"gridcolor\": \"white\", \"gridwidth\": 2, \"linecolor\": \"white\", \"showbackground\": true, \"ticks\": \"\", \"zerolinecolor\": \"white\"}}, \"shapedefaults\": {\"line\": {\"color\": \"#2a3f5f\"}}, \"ternary\": {\"aaxis\": {\"gridcolor\": \"white\", \"linecolor\": \"white\", \"ticks\": \"\"}, \"baxis\": {\"gridcolor\": \"white\", \"linecolor\": \"white\", \"ticks\": \"\"}, \"bgcolor\": \"#E5ECF6\", \"caxis\": {\"gridcolor\": \"white\", \"linecolor\": \"white\", \"ticks\": \"\"}}, \"title\": {\"x\": 0.05}, \"xaxis\": {\"automargin\": true, \"gridcolor\": \"white\", \"linecolor\": \"white\", \"ticks\": \"\", \"title\": {\"standoff\": 15}, \"zerolinecolor\": \"white\", \"zerolinewidth\": 2}, \"yaxis\": {\"automargin\": true, \"gridcolor\": \"white\", \"linecolor\": \"white\", \"ticks\": \"\", \"title\": {\"standoff\": 15}, \"zerolinecolor\": \"white\", \"zerolinewidth\": 2}}}, \"title\": {\"text\": \"Correlation Matrix for variabels\"}, \"xaxis\": {\"tickfont\": {\"size\": 9}}, \"yaxis\": {\"tickfont\": {\"size\": 9}}},\n",
       "                        {\"responsive\": true}\n",
       "                    ).then(function(){\n",
       "                            \n",
       "var gd = document.getElementById('5b91e95e-f298-4b0c-ab31-0c1be32e168f');\n",
       "var x = new MutationObserver(function (mutations, observer) {{\n",
       "        var display = window.getComputedStyle(gd).display;\n",
       "        if (!display || display === 'none') {{\n",
       "            console.log([gd, 'removed!']);\n",
       "            Plotly.purge(gd);\n",
       "            observer.disconnect();\n",
       "        }}\n",
       "}});\n",
       "\n",
       "// Listen for the removal of the full notebook cells\n",
       "var notebookContainer = gd.closest('#notebook-container');\n",
       "if (notebookContainer) {{\n",
       "    x.observe(notebookContainer, {childList: true});\n",
       "}}\n",
       "\n",
       "// Listen for the clearing of the current output cell\n",
       "var outputEl = gd.closest('.output');\n",
       "if (outputEl) {{\n",
       "    x.observe(outputEl, {childList: true});\n",
       "}}\n",
       "\n",
       "                        })\n",
       "                };\n",
       "                });\n",
       "            </script>\n",
       "        </div>"
      ]
     },
     "metadata": {},
     "output_type": "display_data"
    }
   ],
   "source": [
    "correlation_plot()"
   ]
  },
  {
   "cell_type": "code",
   "execution_count": 15,
   "metadata": {},
   "outputs": [],
   "source": [
    "def median_target(var):\n",
    "    temp=data[data[var].notnull()]\n",
    "    temp=temp[[var,'Outcome']].groupby(['Outcome'])[[var]].median().reset_index()\n",
    "    return temp"
   ]
  },
  {
   "cell_type": "code",
   "execution_count": 16,
   "metadata": {},
   "outputs": [],
   "source": [
    "def plot_distribution(data_select,size_bin):\n",
    "    #2 datasets\n",
    "    tmp1=D[data_select]\n",
    "    tmp2=H[data_select]\n",
    "    hist_data=[tmp1,tmp2]\n",
    "    \n",
    "    group_labels=['diabetic','healthy']\n",
    "    colors=['#FFD700','#7EC0EE']\n",
    "    \n",
    "    fig=ff.create_distplot(hist_data,group_labels,colors=colors,show_hist=True,bin_size=size_bin,curve_type='kde')\n",
    "    fig['layout'].update(title=data_select)\n",
    "    py.iplot(fig,filename='Density plot')"
   ]
  },
  {
   "cell_type": "code",
   "execution_count": 18,
   "metadata": {},
   "outputs": [
    {
     "data": {
      "application/vnd.plotly.v1+json": {
       "config": {
        "linkText": "Export to plot.ly",
        "plotlyServerURL": "https://plot.ly",
        "showLink": false
       },
       "data": [
        {
         "autobinx": false,
         "histnorm": "probability density",
         "legendgroup": "diabetic",
         "marker": {
          "color": "#FFD700"
         },
         "name": "diabetic",
         "opacity": 0.7,
         "type": "histogram",
         "x": [
          0,
          0,
          168,
          88,
          543,
          0,
          0,
          846,
          175,
          0,
          230,
          0,
          96,
          0,
          0,
          146,
          115,
          0,
          245,
          0,
          0,
          207,
          240,
          0,
          0,
          300,
          304,
          0,
          0,
          0,
          90,
          0,
          0,
          0,
          110,
          0,
          220,
          0,
          36,
          135,
          495,
          175,
          0,
          0,
          100,
          0,
          99,
          145,
          0,
          168,
          0,
          225,
          0,
          155,
          0,
          0,
          114,
          0,
          156,
          0,
          130,
          130,
          130,
          0,
          0,
          495,
          58,
          114,
          160,
          0,
          0,
          210,
          48,
          99,
          318,
          280,
          0,
          0,
          130,
          175,
          271,
          129,
          0,
          0,
          478,
          0,
          0,
          0,
          370,
          0,
          192,
          0,
          0,
          0,
          176,
          0,
          258,
          0,
          150,
          0,
          0,
          0,
          0,
          0,
          0,
          0,
          0,
          0,
          220,
          74,
          182,
          194,
          360,
          184,
          0,
          135,
          0,
          132,
          180,
          205,
          96,
          0,
          0,
          0,
          0,
          0,
          29,
          156,
          120,
          0,
          0,
          171,
          0,
          0,
          0,
          167,
          0,
          249,
          325,
          0,
          0,
          140,
          465,
          325,
          0,
          0,
          0,
          285,
          0,
          0,
          0,
          0,
          0,
          88,
          0,
          0,
          0,
          579,
          167,
          474,
          0,
          115,
          210,
          277,
          180,
          180,
          0,
          0,
          0,
          0,
          14,
          64,
          0,
          0,
          237,
          0,
          191,
          328,
          0,
          250,
          122,
          145,
          0,
          90,
          0,
          105,
          165,
          0,
          0,
          155,
          215,
          190,
          0,
          225,
          207,
          0,
          274,
          165,
          0,
          0,
          0,
          600,
          0,
          156,
          0,
          0,
          185,
          0,
          126,
          0,
          293,
          194,
          321,
          144,
          0,
          0,
          0,
          0,
          91,
          0,
          144,
          159,
          130,
          540,
          70,
          0,
          231,
          130,
          0,
          0,
          0,
          0,
          0,
          0,
          0,
          0,
          180,
          0,
          125,
          480,
          125,
          0,
          0,
          0,
          0,
          160,
          0,
          392,
          185,
          0,
          127,
          79,
          0,
          120,
          0,
          150,
          0,
          0,
          200,
          0,
          0,
          510,
          0,
          110,
          0,
          0,
          0,
          0
         ],
         "xaxis": "x",
         "xbins": {
          "end": 846,
          "size": 0,
          "start": 0
         },
         "yaxis": "y"
        },
        {
         "autobinx": false,
         "histnorm": "probability density",
         "legendgroup": "healthy",
         "marker": {
          "color": "#7EC0EE"
         },
         "name": "healthy",
         "opacity": 0.7,
         "type": "histogram",
         "x": [
          0,
          94,
          0,
          0,
          0,
          0,
          83,
          235,
          0,
          140,
          110,
          0,
          0,
          54,
          0,
          0,
          192,
          0,
          70,
          0,
          0,
          0,
          0,
          0,
          0,
          82,
          36,
          23,
          342,
          0,
          110,
          0,
          142,
          0,
          0,
          128,
          0,
          0,
          38,
          100,
          140,
          270,
          0,
          0,
          0,
          0,
          0,
          0,
          0,
          71,
          0,
          125,
          0,
          71,
          0,
          0,
          176,
          48,
          64,
          228,
          0,
          76,
          64,
          0,
          0,
          40,
          0,
          152,
          0,
          140,
          18,
          37,
          0,
          0,
          0,
          51,
          0,
          100,
          0,
          135,
          94,
          0,
          49,
          140,
          50,
          92,
          0,
          325,
          0,
          0,
          63,
          284,
          0,
          0,
          119,
          0,
          0,
          204,
          0,
          485,
          94,
          135,
          53,
          0,
          105,
          285,
          0,
          0,
          0,
          0,
          78,
          0,
          48,
          55,
          0,
          0,
          0,
          92,
          23,
          0,
          0,
          0,
          94,
          0,
          0,
          0,
          0,
          0,
          44,
          190,
          0,
          87,
          0,
          0,
          0,
          120,
          0,
          190,
          56,
          32,
          0,
          744,
          53,
          37,
          0,
          45,
          0,
          0,
          88,
          194,
          0,
          680,
          402,
          0,
          0,
          0,
          55,
          0,
          0,
          0,
          375,
          130,
          0,
          0,
          67,
          0,
          0,
          56,
          0,
          45,
          0,
          57,
          116,
          0,
          278,
          122,
          155,
          135,
          545,
          49,
          75,
          40,
          0,
          120,
          215,
          0,
          42,
          0,
          105,
          148,
          0,
          148,
          85,
          94,
          64,
          140,
          231,
          0,
          168,
          0,
          68,
          0,
          52,
          0,
          58,
          255,
          0,
          105,
          73,
          0,
          0,
          0,
          108,
          83,
          0,
          74,
          0,
          0,
          0,
          43,
          0,
          54,
          0,
          0,
          293,
          83,
          0,
          66,
          89,
          66,
          94,
          158,
          84,
          75,
          72,
          82,
          0,
          182,
          59,
          110,
          50,
          81,
          196,
          415,
          87,
          275,
          115,
          0,
          0,
          0,
          165,
          0,
          0,
          176,
          310,
          61,
          0,
          0,
          170,
          76,
          78,
          0,
          0,
          145,
          0,
          85,
          60,
          0,
          0,
          0,
          0,
          0,
          0,
          50,
          120,
          70,
          92,
          63,
          95,
          210,
          0,
          105,
          0,
          71,
          60,
          56,
          0,
          49,
          0,
          0,
          105,
          36,
          100,
          140,
          0,
          0,
          0,
          0,
          0,
          0,
          110,
          75,
          0,
          0,
          49,
          125,
          480,
          265,
          0,
          0,
          66,
          0,
          0,
          0,
          0,
          0,
          76,
          193,
          71,
          0,
          79,
          0,
          0,
          170,
          76,
          0,
          210,
          0,
          0,
          86,
          0,
          0,
          326,
          66,
          130,
          0,
          0,
          0,
          82,
          105,
          188,
          0,
          106,
          0,
          65,
          0,
          56,
          0,
          0,
          210,
          56,
          76,
          166,
          67,
          0,
          0,
          106,
          0,
          44,
          115,
          215,
          0,
          0,
          0,
          0,
          77,
          54,
          0,
          88,
          18,
          126,
          126,
          0,
          0,
          44,
          120,
          330,
          63,
          130,
          0,
          0,
          0,
          0,
          0,
          0,
          0,
          140,
          115,
          230,
          0,
          25,
          120,
          0,
          0,
          0,
          0,
          41,
          272,
          182,
          158,
          0,
          0,
          0,
          15,
          160,
          0,
          0,
          115,
          0,
          54,
          0,
          0,
          0,
          0,
          90,
          0,
          183,
          0,
          0,
          66,
          46,
          105,
          0,
          0,
          152,
          440,
          0,
          100,
          106,
          77,
          0,
          135,
          90,
          200,
          0,
          0,
          132,
          190,
          100,
          168,
          0,
          49,
          240,
          0,
          0,
          265,
          45,
          105,
          0,
          205,
          0,
          0,
          180,
          0,
          95,
          0,
          0,
          155,
          0,
          200,
          0,
          100,
          0,
          335,
          387,
          22,
          291,
          0,
          0,
          178,
          0,
          200,
          105,
          0,
          0,
          180,
          0,
          0,
          0,
          165,
          0,
          0,
          120,
          0,
          160,
          94,
          116,
          140,
          105,
          57,
          74,
          0,
          0,
          0,
          16,
          0,
          180,
          0,
          112,
          0
         ],
         "xaxis": "x",
         "xbins": {
          "end": 744,
          "size": 0,
          "start": 0
         },
         "yaxis": "y"
        },
        {
         "legendgroup": "diabetic",
         "marker": {
          "color": "#FFD700"
         },
         "mode": "lines",
         "name": "diabetic",
         "showlegend": false,
         "type": "scatter",
         "x": [
          0,
          1.692,
          3.384,
          5.076,
          6.768,
          8.46,
          10.152,
          11.844,
          13.536,
          15.228,
          16.92,
          18.612,
          20.304,
          21.996,
          23.688,
          25.38,
          27.072,
          28.764,
          30.456,
          32.148,
          33.84,
          35.532,
          37.224,
          38.916,
          40.608,
          42.3,
          43.992,
          45.684,
          47.376,
          49.068,
          50.76,
          52.452,
          54.144,
          55.836,
          57.528,
          59.22,
          60.912,
          62.604,
          64.296,
          65.988,
          67.68,
          69.372,
          71.064,
          72.756,
          74.448,
          76.14,
          77.832,
          79.524,
          81.216,
          82.908,
          84.6,
          86.292,
          87.984,
          89.676,
          91.368,
          93.06,
          94.752,
          96.444,
          98.136,
          99.828,
          101.52,
          103.212,
          104.904,
          106.596,
          108.288,
          109.98,
          111.672,
          113.364,
          115.056,
          116.748,
          118.44,
          120.132,
          121.824,
          123.516,
          125.208,
          126.9,
          128.592,
          130.284,
          131.976,
          133.668,
          135.36,
          137.052,
          138.744,
          140.436,
          142.128,
          143.82,
          145.512,
          147.204,
          148.896,
          150.588,
          152.28,
          153.972,
          155.664,
          157.356,
          159.048,
          160.74,
          162.432,
          164.124,
          165.816,
          167.508,
          169.2,
          170.892,
          172.584,
          174.276,
          175.968,
          177.66,
          179.352,
          181.044,
          182.736,
          184.428,
          186.12,
          187.812,
          189.504,
          191.196,
          192.888,
          194.58,
          196.272,
          197.964,
          199.656,
          201.348,
          203.04,
          204.732,
          206.424,
          208.116,
          209.808,
          211.5,
          213.192,
          214.884,
          216.576,
          218.268,
          219.96,
          221.652,
          223.344,
          225.036,
          226.728,
          228.42,
          230.112,
          231.804,
          233.496,
          235.188,
          236.88,
          238.572,
          240.264,
          241.956,
          243.648,
          245.34,
          247.032,
          248.724,
          250.416,
          252.108,
          253.8,
          255.492,
          257.184,
          258.876,
          260.568,
          262.26,
          263.952,
          265.644,
          267.336,
          269.028,
          270.72,
          272.412,
          274.104,
          275.796,
          277.488,
          279.18,
          280.872,
          282.564,
          284.256,
          285.948,
          287.64,
          289.332,
          291.024,
          292.716,
          294.408,
          296.1,
          297.792,
          299.484,
          301.176,
          302.868,
          304.56,
          306.252,
          307.944,
          309.636,
          311.328,
          313.02,
          314.712,
          316.404,
          318.096,
          319.788,
          321.48,
          323.172,
          324.864,
          326.556,
          328.248,
          329.94,
          331.632,
          333.324,
          335.016,
          336.708,
          338.4,
          340.092,
          341.784,
          343.476,
          345.168,
          346.86,
          348.552,
          350.244,
          351.936,
          353.628,
          355.32,
          357.012,
          358.704,
          360.396,
          362.088,
          363.78,
          365.472,
          367.164,
          368.856,
          370.548,
          372.24,
          373.932,
          375.624,
          377.316,
          379.008,
          380.7,
          382.392,
          384.084,
          385.776,
          387.468,
          389.16,
          390.852,
          392.544,
          394.236,
          395.928,
          397.62,
          399.312,
          401.004,
          402.696,
          404.388,
          406.08,
          407.772,
          409.464,
          411.156,
          412.848,
          414.54,
          416.232,
          417.924,
          419.616,
          421.308,
          423,
          424.692,
          426.384,
          428.076,
          429.768,
          431.46,
          433.152,
          434.844,
          436.536,
          438.228,
          439.92,
          441.612,
          443.304,
          444.996,
          446.688,
          448.38,
          450.072,
          451.764,
          453.456,
          455.148,
          456.84,
          458.532,
          460.224,
          461.916,
          463.608,
          465.3,
          466.992,
          468.684,
          470.376,
          472.068,
          473.76,
          475.452,
          477.144,
          478.836,
          480.528,
          482.22,
          483.912,
          485.604,
          487.296,
          488.988,
          490.68,
          492.372,
          494.064,
          495.756,
          497.448,
          499.14,
          500.832,
          502.524,
          504.216,
          505.908,
          507.6,
          509.292,
          510.984,
          512.676,
          514.368,
          516.06,
          517.752,
          519.444,
          521.136,
          522.828,
          524.52,
          526.212,
          527.904,
          529.596,
          531.288,
          532.98,
          534.672,
          536.364,
          538.056,
          539.748,
          541.44,
          543.132,
          544.824,
          546.516,
          548.208,
          549.9,
          551.592,
          553.284,
          554.976,
          556.668,
          558.36,
          560.052,
          561.744,
          563.436,
          565.128,
          566.82,
          568.512,
          570.204,
          571.896,
          573.588,
          575.28,
          576.972,
          578.664,
          580.356,
          582.048,
          583.74,
          585.432,
          587.124,
          588.816,
          590.508,
          592.2,
          593.892,
          595.584,
          597.276,
          598.968,
          600.66,
          602.352,
          604.044,
          605.736,
          607.428,
          609.12,
          610.812,
          612.504,
          614.196,
          615.888,
          617.58,
          619.272,
          620.964,
          622.656,
          624.348,
          626.04,
          627.732,
          629.424,
          631.116,
          632.808,
          634.5,
          636.192,
          637.884,
          639.576,
          641.268,
          642.96,
          644.652,
          646.344,
          648.036,
          649.728,
          651.42,
          653.112,
          654.804,
          656.496,
          658.188,
          659.88,
          661.572,
          663.264,
          664.956,
          666.648,
          668.34,
          670.032,
          671.724,
          673.416,
          675.108,
          676.8,
          678.492,
          680.184,
          681.876,
          683.568,
          685.26,
          686.952,
          688.644,
          690.336,
          692.028,
          693.72,
          695.412,
          697.104,
          698.796,
          700.488,
          702.18,
          703.872,
          705.564,
          707.256,
          708.948,
          710.64,
          712.332,
          714.024,
          715.716,
          717.408,
          719.1,
          720.792,
          722.484,
          724.176,
          725.868,
          727.56,
          729.252,
          730.944,
          732.636,
          734.328,
          736.02,
          737.712,
          739.404,
          741.096,
          742.788,
          744.48,
          746.172,
          747.864,
          749.556,
          751.248,
          752.94,
          754.632,
          756.324,
          758.016,
          759.708,
          761.4,
          763.092,
          764.784,
          766.476,
          768.168,
          769.86,
          771.552,
          773.244,
          774.936,
          776.628,
          778.32,
          780.012,
          781.704,
          783.396,
          785.088,
          786.78,
          788.472,
          790.164,
          791.856,
          793.548,
          795.24,
          796.932,
          798.624,
          800.316,
          802.008,
          803.7,
          805.392,
          807.084,
          808.776,
          810.468,
          812.16,
          813.852,
          815.544,
          817.236,
          818.928,
          820.62,
          822.312,
          824.004,
          825.696,
          827.388,
          829.08,
          830.772,
          832.464,
          834.156,
          835.848,
          837.54,
          839.232,
          840.924,
          842.616,
          844.308
         ],
         "xaxis": "x",
         "y": [
          0.004748572549864573,
          0.004756456507627777,
          0.0047584655500386135,
          0.004754649023507446,
          0.0047450822113936225,
          0.00472986585191793,
          0.004709125477707017,
          0.004683010582978301,
          0.004651693626008796,
          0.00461536887607456,
          0.0045742511154769315,
          0.0045285742085765055,
          0.004478589550914002,
          0.00442456441250248,
          0.004366780190213919,
          0.004305530584845706,
          0.004241119718938974,
          0.004173860211720741,
          0.004104071227661722,
          0.004032076515078142,
          0.003958202450968032,
          0.003882776107862662,
          0.0038061233579044246,
          0.003728567028643506,
          0.003650425124187271,
          0.0035720091243579685,
          0.0034936223734248727,
          0.0034155585687991007,
          0.0033381003588253584,
          0.003261518057495551,
          0.0031860684825599952,
          0.003111993922142511,
          0.0030395212335921976,
          0.0029688610769428225,
          0.0029002072840195263,
          0.0028337363629428298,
          0.0027696071365480783,
          0.002707960512076384,
          0.0026489193784095828,
          0.00259258862612908,
          0.002539055284781387,
          0.002488388770939502,
          0.002440641239961985,
          0.002395848033774713,
          0.002354028216532793,
          0.002315185189663915,
          0.002279307377545466,
          0.0022463689749237206,
          0.0022163307471406222,
          0.00218914087428436,
          0.0021647358305203466,
          0.0021430412900803036,
          0.002123973051681542,
          0.0021074379735085604,
          0.0020933349113053472,
          0.0020815556525911496,
          0.002071985840515817,
          0.002064505881404633,
          0.0020589918305988554,
          0.00205531625176733,
          0.0020533490454414036,
          0.002052958243099677,
          0.002054010763697625,
          0.002056373130089875,
          0.002059912143329132,
          0.0020644955133361604,
          0.002069992444919413,
          0.002076274178575484,
          0.002083214485920976,
          0.002090690119989719,
          0.002098581220976467,
          0.0021067716783171276,
          0.0021151494502671376,
          0.0021236068423735295,
          0.002132040746433604,
          0.0021403528416946544,
          0.002148449760177326,
          0.002156243218100682,
          0.0021636501154527945,
          0.002170592605788745,
          0.0021769981383501415,
          0.0021827994745905756,
          0.0021879346811606226,
          0.002192347101357969,
          0.0021959853069852676,
          0.002198803032482237,
          0.002200759093113023,
          0.002201817288895645,
          0.0022019462958610524,
          0.00220111954612635,
          0.0021993150981611917,
          0.0021965154985219694,
          0.002192707636224221,
          0.0021878825908224347,
          0.002182035475170019,
          0.00217516527373849,
          0.0021672746772892154,
          0.0021583699146094162,
          0.0021484605819500637,
          0.0021375594707362918,
          0.0021256823940600396,
          0.0021128480124115072,
          0.0020990776590594095,
          0.0020843951654502335,
          0.002068826686962715,
          0.0020524005293269206,
          0.0020351469759942583,
          0.002017098116728387,
          0.0019982876776737323,
          0.0019787508531495497,
          0.001958524139411982,
          0.0019376451706234455,
          0.0019161525572675088,
          0.0018940857272487883,
          0.0018714847699180161,
          0.0018483902832652221,
          0.0018248432245258476,
          0.0018008847644458963,
          0.0017765561454538377,
          0.0017518985439859967,
          0.0017269529372110598,
          0.0017017599743961013,
          0.0016763598531515968,
          0.001650792200786102,
          0.0016250959609930068,
          0.0015993092860810412,
          0.001573469434948066,
          0.0015476126769835086,
          0.0015217742020693032,
          0.0014959880368316724,
          0.0014702869672777264,
          0.0014447024679310446,
          0.0014192646375594928,
          0.00139400214156739,
          0.0013689421611013974,
          0.0013441103488977646,
          0.0013195307918751687,
          0.0012952259804551677,
          0.001271216784569408,
          0.0012475224362907531,
          0.0012241605190034567,
          0.0012011469630064384,
          0.0011784960474230254,
          0.0011562204082707435,
          0.0011343310525257172,
          0.0011128373779979177,
          0.0010917471988164012,
          0.0010710667763070075,
          0.0010508008550296876,
          0.001030952703727899,
          0.0010115241609287993,
          0.000992515684920251,
          0.0009739264078185317,
          0.0009557541934297556,
          0.0009379956985978429,
          0.0009206464377223282,
          0.0009037008501213135,
          0.000887152369907117,
          0.0008709934980357572,
          0.0008552158761860756,
          0.0008398103621196411,
          0.000824767106169654,
          0.0008100756285046339,
          0.0007957248968122661,
          0.0007817034040492441,
          0.0007679992459049366,
          0.0007546001976307037,
          0.000741493789891535,
          0.0007286673833041819,
          0.0007161082413343333,
          0.0007038036012364416,
          0.0006917407427320223,
          0.0006799070541369998,
          0.0006682900956648496,
          0.0006568776596506328,
          0.0006456578274611137,
          0.0006346190228779699,
          0.0006237500617646019,
          0.0006130401978521458,
          0.0006024791645065067,
          0.0005920572123658738,
          0.0005817651427665976,
          0.0005715943369044552,
          0.000561536780707912,
          0.0005515850854297276,
          0.0005417325039928231,
          0.0005319729431554484,
          0.0005223009715889604,
          0.000512711823988833,
          0.0005032014013652511,
          0.0004937662676837961,
          0.0004844036430487157,
          0.0004751113936411603,
          0.0004658880186419372,
          0.0004567326343828278,
          0.00044764495598215685,
          0.00043862527672862737,
          0.00042967444548280587,
          0.00042079384236763103,
          0.0004119853530179775,
          0.0004032513416549561,
          0.00039459462324276367,
          0.0003860184349753464,
          0.0003775264073265011,
          0.0003691225348808313,
          0.00036081114714441037,
          0.0003525968795133599,
          0.0003444846445560896,
          0.0003364796037412908,
          0.0003285871397189398,
          0.0003208128292363105,
          0.0003131624167455565,
          0.00030564178873424106,
          0.000298256948785766,
          0.0002910139933533641,
          0.00028391908820949666,
          0.0002769784455127336,
          0.00027019830141654155,
          0.00026358489412948234,
          0.0002571444423241907,
          0.0002508831237835201,
          0.0002448070541664735,
          0.00023892226577429068,
          0.00023323468619822766,
          0.00022775011673518118,
          0.00022247421046555694,
          0.0002174124498991475,
          0.00021257012410955185,
          0.0002079523052952174,
          0.00020356382472561303,
          0.00019940924805365764,
          0.00019549285000030248,
          0.00019181858844344017,
          0.00018839007797079476,
          0.00018521056298458562,
          0.00018228289047412082,
          0.0001796094826005122,
          0.00017719230926495426,
          0.00017503286085792156,
          0.00017313212141077677,
          0.00017149054239311238,
          0.00017010801741828004,
          0.00016898385813553666,
          0.00016811677159971736,
          0.00016750483941798257,
          0.00016714549897772456,
          0.00016703552705993262,
          0.00016717102613806413,
          0.00016754741365364716,
          0.00016815941454645603,
          0.0001690010572991663,
          0.0001700656737340663,
          0.0001713459027728326,
          0.00017283369833984144,
          0.00017452034155527853,
          0.0001763964573268297,
          0.00017845203540838502,
          0.0001806764559514608,
          0.00018305851953046728,
          0.0001855864815770531,
          0.0001882480911121586,
          0.00019103063361768232,
          0.00019392097784343964,
          0.0001969056262999825,
          0.0001999707691444569,
          0.00020310234112559325,
          0.00020628608121574826,
          0.00020950759452311216,
          0.00021275241604636056,
          0.00021600607580749578,
          0.0002192541648768724,
          0.00022248240178770318,
          0.00022567669882598925,
          0.00022882322767598637,
          0.00023190848390113806,
          0.00023491934974590364,
          0.0002378431547550719,
          0.00024066773372384564,
          0.00024338148151405414,
          0.00024597340429900885,
          0.0002484331668314872,
          0.00025075113536567143,
          0.0002529184159041931,
          0.00025492688748520847,
          0.00025676923027114195,
          0.00025843894824980197,
          0.0002599303864094111,
          0.0002612387423010659,
          0.0002623600719546439,
          0.0002632912901665808,
          0.0002640301652296158,
          0.00026457530822497383,
          0.00026492615704593427,
          0.00026508295536778004,
          0.00026504672682226157,
          0.0002648192446744426,
          0.00026440299733577886,
          0.00026380115007912776,
          0.00026301750334883586,
          0.00026205644808187405,
          0.00026092291847403556,
          0.00025962234263838526,
          0.00025816059161142105,
          0.0002565439271658154,
          0.0002547789488872457,
          0.0002528725409668441,
          0.0002508318191503975,
          0.0002486640782708802,
          0.00024637674077247133,
          0.0002439773066122512,
          0.0002414733049006391,
          0.00023887224761370902,
          0.00023618158568022092,
          0.00023340866771393996,
          0.00023056070162800075,
          0.0002276447193331591,
          0.00022466754468613708,
          0.00022163576481835505,
          0.000218555704939513,
          0.00021543340667513731,
          0.00021227460996266011,
          0.00020908473849720152,
          0.00020586888868624666,
          0.0002026318220421299,
          0.00019937796091286744,
          0.00019611138742563436,
          0.00019283584549321532,
          0.00018955474571218952,
          0.0001862711729625707,
          0.00018298789650213906,
          0.0001797073823348508,
          0.00017643180762147152,
          0.00017316307689196683,
          0.0001699028398131217,
          0.00016665251026133402,
          0.00016341328644941107,
          0.00016018617185743138,
          0.0001569719967211719,
          0.00015377143983715487,
          0.00015058505045085517,
          0.0001474132700039229,
          0.00014425645352724578,
          0.0001411148904791226,
          0.000137988824841625,
          0.00013487847430315722,
          0.00013178404837117756,
          0.00012870576527579036,
          0.0001256438675423274,
          0.0001225986361289059,
          0.00011957040304313727,
          0.0001165595623704701,
          0.00011356657966495166,
          0.00011059199967128984,
          0.00010763645236487628,
          0.00010470065731371132,
          0.00010178542638282789,
          9.889166481772133e-05,
          9.602037075830213e-05,
          9.317263324892366e-05,
          9.034962882295277e-05,
          8.755261675209948e-05,
          8.478293306117623e-05,
          8.204198341809865e-05,
          7.933123501667014e-05,
          7.665220757601254e-05,
          7.400646358535855e-05,
          7.139559792632129e-05,
          6.882122700669301e-05,
          6.628497754033103e-05,
          6.378847510678344e-05,
          6.133333262206225e-05,
          5.892113884842128e-05,
          5.655344706624256e-05,
          5.4231764025251915e-05,
          5.195753928536531e-05,
          4.973215504963932e-05,
          4.755691658315125e-05,
          4.543304330231591e-05,
          4.336166060925877e-05,
          4.134379253556071e-05,
          3.9380355249083215e-05,
          3.74721514668123e-05,
          3.5619865805859575e-05,
          3.382406109403753e-05,
          3.208517565092642e-05,
          3.0403521540162887e-05,
          2.8779283783927347e-05,
          2.7212520521374202e-05,
          2.5703164084124463e-05,
          2.4251022954000763e-05,
          2.2855784560984387e-05,
          2.151701887297488e-05,
          2.0234182723356807e-05,
          1.900662481766616e-05,
          1.7833591356796417e-05,
          1.6714232211206955e-05,
          1.5647607578466526e-05,
          1.4632695055174955e-05,
          1.3668397053808328e-05,
          1.2753548495298842e-05,
          1.1886924709126175e-05,
          1.1067249474318336e-05,
          1.0293203136959925e-05,
          9.563430742527275e-06,
          8.876550124536873e-06,
          8.231159894529969e-06,
          7.625847282255287e-06,
          7.059195778970843e-06,
          6.529792541000631e-06,
          6.036235514975289e-06,
          5.577140250498248e-06,
          5.1511463702420295e-06,
          4.756923671642736e-06,
          4.393177838367653e-06,
          4.0586557435423805e-06,
          3.7521503302971708e-06,
          3.4725050585011527e-06,
          3.2186179095713077e-06,
          2.98944494395539e-06,
          2.7840034082874224e-06,
          2.601374391295632e-06,
          2.4407050293149448e-06,
          2.3012102637273914e-06,
          2.182174153844481e-06,
          2.0829507496762637e-06,
          2.002964529732461e-06,
          1.9417104095018115e-06,
          1.8987533265937665e-06,
          1.8737274087387826e-06,
          1.8663347309709624e-06,
          1.8763436684001057e-06,
          1.9035868510617139e-06,
          1.9479587274537824e-06,
          2.009412743568588e-06,
          2.0879581445437193e-06,
          2.1836564065242054e-06,
          2.29661730697873e-06,
          2.4269946425739153e-06,
          2.574981604804742e-06,
          2.7408058249224642e-06,
          2.9247241013059e-06,
          3.127016824291154e-06,
          3.3479821156082294e-06,
          3.587929701960301e-06,
          3.847174544908929e-06,
          4.126030252071073e-06,
          4.424802297664324e-06,
          4.743781083616926e-06,
          5.08323487574815e-06,
          5.443402652872999e-06,
          5.8244869100387315e-06,
          6.226646460403006e-06,
          6.649989283449283e-06,
          7.094565470243295e-06,
          7.560360319192823e-06,
          8.047287638218807e-06,
          8.555183311306569e-06,
          9.083799189020029e-06,
          9.632797363660586e-06,
          1.0201744890279525e-05,
          1.0790109014654581e-05,
          1.1397252968564503e-05,
          1.2022432391206147e-05,
          1.266479243335869e-05,
          1.3323365597892086e-05,
          1.399707036642581e-05,
          1.468471065737117e-05,
          1.538497615524776e-05,
          1.609644354507313e-05,
          1.6817578678826596e-05,
          1.7546739693523668e-05,
          1.8282181092377922e-05,
          1.9022058791936412e-05,
          1.9764436129047596e-05,
          2.0507290812140725e-05,
          2.1248522791679454e-05,
          2.198596301490227e-05,
          2.271738302020687e-05,
          2.3440505316891337e-05,
          2.415301448656361e-05,
          2.485256893350484e-05,
          2.5536813202738567e-05,
          2.620339077665864e-05,
          2.6849957253907943e-05,
          2.747419380790605e-05,
          2.807382081709097e-05,
          2.864661155467295e-05,
          2.91904058225675e-05,
          2.970312341226097e-05,
          3.018277727470574e-05,
          3.0627486281990644e-05,
          3.103548746549314e-05,
          3.140514761850281e-05,
          3.1734974155885195e-05,
          3.2023625129200197e-05,
          3.226991830273865e-05,
          3.2472839204128535e-05,
          3.263154807239196e-05,
          3.274538563650624e-05,
          3.281387766851433e-05
         ],
         "yaxis": "y"
        },
        {
         "legendgroup": "healthy",
         "marker": {
          "color": "#7EC0EE"
         },
         "mode": "lines",
         "name": "healthy",
         "showlegend": false,
         "type": "scatter",
         "x": [
          0,
          1.488,
          2.976,
          4.464,
          5.952,
          7.44,
          8.928,
          10.416,
          11.904,
          13.392,
          14.88,
          16.368,
          17.856,
          19.344,
          20.832,
          22.32,
          23.808,
          25.296,
          26.784,
          28.272,
          29.76,
          31.248,
          32.736,
          34.224,
          35.712,
          37.2,
          38.688,
          40.176,
          41.664,
          43.152,
          44.64,
          46.128,
          47.616,
          49.104,
          50.592,
          52.08,
          53.568,
          55.056,
          56.544,
          58.032,
          59.52,
          61.008,
          62.496,
          63.984,
          65.472,
          66.96,
          68.448,
          69.936,
          71.424,
          72.912,
          74.4,
          75.888,
          77.376,
          78.864,
          80.352,
          81.84,
          83.328,
          84.816,
          86.304,
          87.792,
          89.28,
          90.768,
          92.256,
          93.744,
          95.232,
          96.72,
          98.208,
          99.696,
          101.184,
          102.672,
          104.16,
          105.648,
          107.136,
          108.624,
          110.112,
          111.6,
          113.088,
          114.576,
          116.064,
          117.552,
          119.04,
          120.528,
          122.016,
          123.504,
          124.992,
          126.48,
          127.968,
          129.456,
          130.944,
          132.432,
          133.92,
          135.408,
          136.896,
          138.384,
          139.872,
          141.36,
          142.848,
          144.336,
          145.824,
          147.312,
          148.8,
          150.288,
          151.776,
          153.264,
          154.752,
          156.24,
          157.728,
          159.216,
          160.704,
          162.192,
          163.68,
          165.168,
          166.656,
          168.144,
          169.632,
          171.12,
          172.608,
          174.096,
          175.584,
          177.072,
          178.56,
          180.048,
          181.536,
          183.024,
          184.512,
          186,
          187.488,
          188.976,
          190.464,
          191.952,
          193.44,
          194.928,
          196.416,
          197.904,
          199.392,
          200.88,
          202.368,
          203.856,
          205.344,
          206.832,
          208.32,
          209.808,
          211.296,
          212.784,
          214.272,
          215.76,
          217.248,
          218.736,
          220.224,
          221.712,
          223.2,
          224.688,
          226.176,
          227.664,
          229.152,
          230.64,
          232.128,
          233.616,
          235.104,
          236.592,
          238.08,
          239.568,
          241.056,
          242.544,
          244.032,
          245.52,
          247.008,
          248.496,
          249.984,
          251.472,
          252.96,
          254.448,
          255.936,
          257.424,
          258.912,
          260.4,
          261.888,
          263.376,
          264.864,
          266.352,
          267.84,
          269.328,
          270.816,
          272.304,
          273.792,
          275.28,
          276.768,
          278.256,
          279.744,
          281.232,
          282.72,
          284.208,
          285.696,
          287.184,
          288.672,
          290.16,
          291.648,
          293.136,
          294.624,
          296.112,
          297.6,
          299.088,
          300.576,
          302.064,
          303.552,
          305.04,
          306.528,
          308.016,
          309.504,
          310.992,
          312.48,
          313.968,
          315.456,
          316.944,
          318.432,
          319.92,
          321.408,
          322.896,
          324.384,
          325.872,
          327.36,
          328.848,
          330.336,
          331.824,
          333.312,
          334.8,
          336.288,
          337.776,
          339.264,
          340.752,
          342.24,
          343.728,
          345.216,
          346.704,
          348.192,
          349.68,
          351.168,
          352.656,
          354.144,
          355.632,
          357.12,
          358.608,
          360.096,
          361.584,
          363.072,
          364.56,
          366.048,
          367.536,
          369.024,
          370.512,
          372,
          373.488,
          374.976,
          376.464,
          377.952,
          379.44,
          380.928,
          382.416,
          383.904,
          385.392,
          386.88,
          388.368,
          389.856,
          391.344,
          392.832,
          394.32,
          395.808,
          397.296,
          398.784,
          400.272,
          401.76,
          403.248,
          404.736,
          406.224,
          407.712,
          409.2,
          410.688,
          412.176,
          413.664,
          415.152,
          416.64,
          418.128,
          419.616,
          421.104,
          422.592,
          424.08,
          425.568,
          427.056,
          428.544,
          430.032,
          431.52,
          433.008,
          434.496,
          435.984,
          437.472,
          438.96,
          440.448,
          441.936,
          443.424,
          444.912,
          446.4,
          447.888,
          449.376,
          450.864,
          452.352,
          453.84,
          455.328,
          456.816,
          458.304,
          459.792,
          461.28,
          462.768,
          464.256,
          465.744,
          467.232,
          468.72,
          470.208,
          471.696,
          473.184,
          474.672,
          476.16,
          477.648,
          479.136,
          480.624,
          482.112,
          483.6,
          485.088,
          486.576,
          488.064,
          489.552,
          491.04,
          492.528,
          494.016,
          495.504,
          496.992,
          498.48,
          499.968,
          501.456,
          502.944,
          504.432,
          505.92,
          507.408,
          508.896,
          510.384,
          511.872,
          513.36,
          514.848,
          516.336,
          517.824,
          519.312,
          520.8,
          522.288,
          523.776,
          525.264,
          526.752,
          528.24,
          529.728,
          531.216,
          532.704,
          534.192,
          535.68,
          537.168,
          538.656,
          540.144,
          541.632,
          543.12,
          544.608,
          546.096,
          547.584,
          549.072,
          550.56,
          552.048,
          553.536,
          555.024,
          556.512,
          558,
          559.488,
          560.976,
          562.464,
          563.952,
          565.44,
          566.928,
          568.416,
          569.904,
          571.392,
          572.88,
          574.368,
          575.856,
          577.344,
          578.832,
          580.32,
          581.808,
          583.296,
          584.784,
          586.272,
          587.76,
          589.248,
          590.736,
          592.224,
          593.712,
          595.2,
          596.688,
          598.176,
          599.664,
          601.152,
          602.64,
          604.128,
          605.616,
          607.104,
          608.592,
          610.08,
          611.568,
          613.056,
          614.544,
          616.032,
          617.52,
          619.008,
          620.496,
          621.984,
          623.472,
          624.96,
          626.448,
          627.936,
          629.424,
          630.912,
          632.4,
          633.888,
          635.376,
          636.864,
          638.352,
          639.84,
          641.328,
          642.816,
          644.304,
          645.792,
          647.28,
          648.768,
          650.256,
          651.744,
          653.232,
          654.72,
          656.208,
          657.696,
          659.184,
          660.672,
          662.16,
          663.648,
          665.136,
          666.624,
          668.112,
          669.6,
          671.088,
          672.576,
          674.064,
          675.552,
          677.04,
          678.528,
          680.016,
          681.504,
          682.992,
          684.48,
          685.968,
          687.456,
          688.944,
          690.432,
          691.92,
          693.408,
          694.896,
          696.384,
          697.872,
          699.36,
          700.848,
          702.336,
          703.824,
          705.312,
          706.8,
          708.288,
          709.776,
          711.264,
          712.752,
          714.24,
          715.728,
          717.216,
          718.704,
          720.192,
          721.68,
          723.168,
          724.656,
          726.144,
          727.632,
          729.12,
          730.608,
          732.096,
          733.584,
          735.072,
          736.56,
          738.048,
          739.536,
          741.024,
          742.512
         ],
         "xaxis": "x",
         "y": [
          0.007174873163272603,
          0.007209684130008455,
          0.007228813601489571,
          0.007232485034373508,
          0.007221053969935228,
          0.007195002556536608,
          0.0071549323107474765,
          0.007101555252864412,
          0.00703568358302259,
          0.006958218090619286,
          0.0068701355117622535,
          0.006772475066435379,
          0.00666632441870213,
          0.006552805309352941,
          0.006433059110911363,
          0.006308232549956533,
          0.006179463831559304,
          0.0060478693856485305,
          0.005914531435839702,
          0.0057804865682706905,
          0.005646715451985971,
          0.005514133834135892,
          0.005383584903475322,
          0.005255833085147575,
          0.005131559299282191,
          0.005011357686255262,
          0.004895733773225466,
          0.004785104030379316,
          0.004679796741701095,
          0.004580054094454722,
          0.004486035374238256,
          0.0043978211386629445,
          0.004315418232521345,
          0.004238765500748302,
          0.004167740052456795,
          0.004102163929668589,
          0.004041811037807991,
          0.00398641420127162,
          0.003935672216064667,
          0.003889256782208445,
          0.00384681921095402,
          0.0038079968153578313,
          0.0037724189070657416,
          0.0037397123368045314,
          0.003709506530720567,
          0.0036814379889823206,
          0.0036551542266814495,
          0.003630317149761317,
          0.0036066058702667004,
          0.00358371897548179,
          0.003561376274396293,
          0.003539320052344768,
          0.0035173158705863,
          0.003495152952046775,
          0.0034726441974929512,
          0.003449625878130294,
          0.003425957051126175,
          0.0034015187439827323,
          0.0033762129521658388,
          0.0033499614920824974,
          0.0033227047485435432,
          0.003294400352403311,
          0.0032650218202732225,
          0.0032345571842046367,
          0.0032030076351458503,
          0.0031703861999157422,
          0.0031367164674935876,
          0.0031020313766867793,
          0.003066372073767414,
          0.0030297868455161944,
          0.0029923301303145947,
          0.0029540616075006843,
          0.002915045363166783,
          0.002875349128917174,
          0.002835043588819611,
          0.0027942017488467937,
          0.0027528983624966774,
          0.002711209405965361,
          0.0026692115961960278,
          0.00262698194530424,
          0.002584597345246874,
          0.002542134177126476,
          0.002499667940168008,
          0.0024572728961394794,
          0.0024150217257810705,
          0.002372985194632261,
          0.0023312318264775327,
          0.0022898275834481196,
          0.0022488355525999907,
          0.0022083156395213653,
          0.0021683242701949056,
          0.002128914102936137,
          0.0020901337527465145,
          0.002052027530846546,
          0.0020146352024901846,
          0.0019779917664001926,
          0.0019421272593075128,
          0.001907066589122165,
          0.0018728294002122766,
          0.0018394299741235794,
          0.0018068771688363166,
          0.0017751743993362128,
          0.0017443196618753386,
          0.0017143056038258636,
          0.001685119640490493,
          0.0016567441196401092,
          0.0016291565339083163,
          0.0016023297804991813,
          0.0015762324669674741,
          0.0015508292611241883,
          0.0015260812824180248,
          0.0015019465314580194,
          0.0014783803536879158,
          0.0014553359326133972,
          0.001432764807430406,
          0.001410617409419356,
          0.0013888436110674383,
          0.0013673932815677246,
          0.0013462168421283088,
          0.0013252658144127431,
          0.0013044933554279417,
          0.0012838547722797756,
          0.0012633080104284048,
          0.001242814109391985,
          0.0012223376202633916,
          0.0012018469799124942,
          0.0011813148373365932,
          0.0011607183282825795,
          0.0011400392949839993,
          0.0011192644486196512,
          0.0010983854728943935,
          0.001077399067951276,
          0.0010563069346329098,
          0.0010351156999044997,
          0.0010138367850169795,
          0.0009924862187146043,
          0.0009710843984647636,
          0.0009496558033001734,
          0.0009282286624066407,
          0.0009068345840572812,
          0.0008855081498831705,
          0.0008642864797783688,
          0.0008432087729639675,
          0.0008223158308834145,
          0.0008016495676725244,
          0.0007812525139465013,
          0.0007611673195791162,
          0.0007414362610209227,
          0.0007221007585216088,
          0.0007032009083919241,
          0.000684775035170207,
          0.0006668592682529826,
          0.0006494871472141912,
          0.0006326892596776424,
          0.0006164929152265885,
          0.0006009218584355724,
          0.0005859960236952157,
          0.0005717313340718368,
          0.0005581395460014488,
          0.0005452281411625176,
          0.0005330002664032805,
          0.0005214547221188024,
          0.0005105859989796777,
          0.0005003843624102052,
          0.0004908359837002707,
          0.000481923116115146,
          0.0004736243138445479,
          0.00046591469111174243,
          0.00045876621825147266,
          0.00045214805106939533,
          0.00044602688932411286,
          0.0004403673597350891,
          0.00043513241852593555,
          0.0004302837681729654,
          0.00042578228275409904,
          0.0004215884360931537,
          0.00041766272677841654,
          0.00041396609411039844,
          0.00041046031910812493,
          0.00040710840488081783,
          0.00040387493095463774,
          0.0004007263765319986,
          0.00039763140815082614,
          0.0003945611277973472,
          0.0003914892781998849,
          0.00038839240278147445,
          0.00038524995856206045,
          0.0003820443811605354,
          0.0003787611019349731,
          0.0003753885181967246,
          0.0003719179183202627,
          0.00036834336442505413,
          0.00036466153610787604,
          0.0003608715394341263,
          0.00035697468603652433,
          0.0003529742477028603,
          0.00034887519224712567,
          0.00034468390673962515,
          0.00034040791431366583,
          0.00033605559076516084,
          0.0003316358870164376,
          0.000327158063230176,
          0.00032263143994076284,
          0.0003180651710292061,
          0.0003134680427180232,
          0.00030884830202121107,
          0.0003042135172708268,
          0.00029957047247725137,
          0.0002949250963874291,
          0.00029028242620768524,
          0.0002856466050783554,
          0.0002810209115492266,
          0.0002764078185289777,
          0.00027180907848805706,
          0.00026722583109972247,
          0.0002626587290225649,
          0.00025810807717055435,
          0.00025357398059088187,
          0.00024905649597917136,
          0.00024455578190581834,
          0.0002400722430023535,
          0.0002356066636552966,
          0.00023116032716621825,
          0.00022673511684688662,
          0.00022233359611130963,
          0.00021795906528400665,
          0.00021361559354645627,
          0.0002093080251710152,
          0.00020504195992322434,
          0.00020082370822920172,
          0.00019666022238570109,
          0.00019255900571882607,
          0.00018852800215777324,
          0.00018457546916915847,
          0.0001807098373849722,
          0.00017693956054549005,
          0.0001732729595629828,
          0.00016971806459141286,
          0.0001662824589630061,
          0.0001629731287290497,
          0.00015979632132648183,
          0.00015675741659308142,
          0.00015386081298354728,
          0.00015110983140919078,
          0.00014850663864913156,
          0.00014605219177520504,
          0.00014374620451082498,
          0.00014158713592011662,
          0.00013957220131139854,
          0.00013769740475115134,
          0.00013595759213226406,
          0.00013434652333327976,
          0.0001328569616514718,
          0.00013148077839788554,
          0.0001302090703110004,
          0.00012903228727948764,
          0.00012794036776383406,
          0.0001269228792697666,
          0.00012596916125023978,
          0.00012506846789259133,
          0.00012421010837752633,
          0.00012338358237011022,
          0.00012257870871250457,
          0.00012178574552596225,
          0.00012099550018760683,
          0.0001201994279178934,
          0.00011938971798978985,
          0.00011855936684358143,
          0.00011770223765539698,
          0.000116813106157505,
          0.00011588769273948799,
          0.0001149226810678809,
          0.00011391572364510542,
          0.00011286543488488454,
          0.0001117713724101237,
          0.00011063400738075327,
          0.00010945468473434045,
          0.00010823557427324603,
          0.00010697961356118514,
          0.0001056904436021936,
          0.00010437233826951198,
          0.00010303012843426251,
          0.00010166912171756485,
          0.00010029501875837596,
          9.891382685608148e-05,
          9.753177181460612e-05,
          9.61552087859801e-05,
          9.479053288779055e-05,
          9.344409035203885e-05,
          9.212209095323036e-05,
          9.083052246098517e-05,
          8.957506786632807e-05,
          8.836102613972397e-05,
          8.719323729089306e-05,
          8.607601251300414e-05,
          8.501307020413722e-05,
          8.400747866378719e-05,
          8.306160625837754e-05,
          8.217707983402147e-05,
          8.135475212402363e-05,
          8.059467885012876e-05,
          7.98961061480366e-05,
          7.925746885758049e-05,
          7.86764001053294e-05,
          7.814975247216979e-05,
          7.767363088151253e-05,
          7.724343716695841e-05,
          7.685392608427786e-05,
          7.649927232506965e-05,
          7.617314787292222e-05,
          7.58688088225006e-05,
          7.557919056347688e-05,
          7.529701002076606e-05,
          7.50148734464809e-05,
          7.472538808371858e-05,
          7.442127587386157e-05,
          7.409548726316752e-05,
          7.37413130860416e-05,
          7.335249246565938e-05,
          7.29233146806366e-05,
          7.244871300114327e-05,
          7.19243485998744e-05,
          7.134668279189902e-05,
          7.071303605054841e-05,
          7.002163248075176e-05,
          6.927162870190512e-05,
          6.846312639363723e-05,
          6.759716808288382e-05,
          6.667571609187407e-05,
          6.570161491573647e-05,
          6.467853764689122e-05,
          6.361091740252105e-05,
          6.250386503270087e-05,
          6.136307468208437e-05,
          6.019471903992861e-05,
          5.9005336335042216e-05,
          5.780171130839824e-05,
          5.6590752522256143e-05,
          5.537936843761116e-05,
          5.417434470995549e-05,
          5.298222511640628e-05,
          5.180919843640997e-05,
          5.066099346596518e-05,
          4.9542784155440364e-05,
          4.8459106628554705e-05,
          4.7413789570913196e-05,
          4.6409899177466896e-05,
          4.5449699526836194e-05,
          4.453462891449855e-05,
          4.366529233448506e-05,
          4.2841469958583326e-05,
          4.2062141130996787e-05,
          4.132552308248931e-05,
          4.06291232781603e-05,
          3.9969804053349404e-05,
          3.934385796805824e-05,
          3.8747092126028994e-05,
          3.817491956347649e-05,
          3.762245571656908e-05,
          3.708461792706847e-05,
          3.655622594193033e-05,
          3.603210140387162e-05,
          3.5507164413655756e-05,
          3.4976525367884205e-05,
          3.4435570434349074e-05,
          3.3880039215699245e-05,
          3.3306093365951264e-05,
          3.271037515744649e-05,
          3.209005524218536e-05,
          3.144286910490043e-05,
          3.076714195968033e-05,
          3.0061802091527774e-05,
          2.9326382883391045e-05,
          2.856101399287018e-05,
          2.77664023464824e-05,
          2.6943803799248196e-05,
          2.6094986460368582e-05,
          2.5222186809600134e-05,
          2.4328059822142663e-05,
          2.3415624381766642e-05,
          2.2488205292660698e-05,
          2.1549373200970507e-05,
          2.0602883708795624e-05,
          1.965261690871997e-05,
          1.8702518488475768e-05,
          1.7756543456238535e-05,
          1.6818603420760445e-05,
          1.58925182307526e-05,
          1.4981972638363858e-05,
          1.4090478506043002e-05,
          1.3221342928134009e-05,
          1.2377642491707703e-05,
          1.1562203758524368e-05,
          1.0777589914508703e-05,
          1.0026093407130496e-05,
          9.30973427667134e-06,
          8.630263786103199e-06,
          7.9891728673854e-06,
          7.387704830127105e-06,
          6.826871722113311e-06,
          6.307473690113699e-06,
          5.8301206633453315e-06,
          5.395255670305876e-06,
          5.003179101594942e-06,
          4.6540732457699244e-06,
          4.3480264511113866e-06,
          4.085056302187135e-06,
          3.865131245079648e-06,
          3.6881901478467492e-06,
          3.5541593420452895e-06,
          3.462966755831605e-06,
          3.414552818214348e-06,
          3.4088778864962225e-06,
          3.445926023901932e-06,
          3.5257050310093586e-06,
          3.648242712089191e-06,
          3.813579435051894e-06,
          4.0217571206439564e-06,
          4.272804872059618e-06,
          4.566721529434091e-06,
          4.9034555039084435e-06,
          5.2828823121842585e-06,
          5.7047802937380355e-06,
          6.168805048082205e-06,
          6.674463177540742e-06,
          7.221085960793449e-06,
          7.807803612778535e-06,
          8.433520806273111e-06,
          9.096894138515047e-06,
          9.796312221591226e-06,
          1.0529879057169301e-05,
          1.1295401323844512e-05,
          1.209038015853141e-05,
          1.2912007951845269e-05,
          1.375717060153976e-05,
          1.4622455578388448e-05,
          1.5504166056424913e-05,
          1.639834124557055e-05,
          1.730078294118981e-05,
          1.8207088174176328e-05,
          1.911268770934112e-05,
          2.0012890001959935e-05,
          2.0902930085445385e-05,
          2.1778022730488723e-05,
          2.263341909103956e-05,
          2.3464465938512143e-05,
          2.426666648591427e-05,
          2.50357417212628e-05,
          2.5767691107495656e-05,
          2.6458851466520774e-05,
          2.7105952850028987e-05,
          2.7706170210639978e-05,
          2.8257169724671933e-05,
          2.8757148682472553e-05,
          2.9204867953314977e-05,
          2.9599676148126288e-05,
          2.994152474290767e-05,
          3.023097358608146e-05,
          3.0469186391045887e-05,
          3.065791600727431e-05,
          3.079947946527578e-05,
          3.089672299819712e-05,
          3.095297745113149e-05,
          3.097200469351807e-05,
          3.09579358456022e-05,
          3.0915202312126034e-05,
          3.084846078084537e-05,
          3.0762513486086084e-05,
          3.066222515480143e-05,
          3.05524381414672e-05,
          3.043788731629171e-05,
          3.0323116296960158e-05,
          3.021239660655578e-05,
          3.0109651299258533e-05,
          3.0018384521534896e-05,
          2.9941618371193108e-05,
          2.988183828199895e-05,
          2.984094800033098e-05,
          2.9820235036013258e-05,
          2.98203472659514e-05,
          2.9841281150909473e-05,
          2.988238179743976e-05,
          2.9942354863585988e-05,
          3.0019290073610116e-05,
          3.0110695878732673e-05,
          3.0213544582692265e-05,
          3.0324327047559827e-05,
          3.0439115911073638e-05,
          3.055363608574165e-05,
          3.066334117549055e-05,
          3.0763494340520236e-05,
          3.084925206735128e-05,
          3.091574926021139e-05,
          3.095818406250559e-05,
          3.097190084299453e-05,
          3.095246983953334e-05,
          3.089576204212675e-05,
          3.079801801425953e-05,
          3.065590949395311e-05,
          3.0466592780208067e-05
         ],
         "yaxis": "y"
        },
        {
         "legendgroup": "diabetic",
         "marker": {
          "color": "#FFD700",
          "symbol": "line-ns-open"
         },
         "mode": "markers",
         "name": "diabetic",
         "showlegend": false,
         "type": "scatter",
         "x": [
          0,
          0,
          168,
          88,
          543,
          0,
          0,
          846,
          175,
          0,
          230,
          0,
          96,
          0,
          0,
          146,
          115,
          0,
          245,
          0,
          0,
          207,
          240,
          0,
          0,
          300,
          304,
          0,
          0,
          0,
          90,
          0,
          0,
          0,
          110,
          0,
          220,
          0,
          36,
          135,
          495,
          175,
          0,
          0,
          100,
          0,
          99,
          145,
          0,
          168,
          0,
          225,
          0,
          155,
          0,
          0,
          114,
          0,
          156,
          0,
          130,
          130,
          130,
          0,
          0,
          495,
          58,
          114,
          160,
          0,
          0,
          210,
          48,
          99,
          318,
          280,
          0,
          0,
          130,
          175,
          271,
          129,
          0,
          0,
          478,
          0,
          0,
          0,
          370,
          0,
          192,
          0,
          0,
          0,
          176,
          0,
          258,
          0,
          150,
          0,
          0,
          0,
          0,
          0,
          0,
          0,
          0,
          0,
          220,
          74,
          182,
          194,
          360,
          184,
          0,
          135,
          0,
          132,
          180,
          205,
          96,
          0,
          0,
          0,
          0,
          0,
          29,
          156,
          120,
          0,
          0,
          171,
          0,
          0,
          0,
          167,
          0,
          249,
          325,
          0,
          0,
          140,
          465,
          325,
          0,
          0,
          0,
          285,
          0,
          0,
          0,
          0,
          0,
          88,
          0,
          0,
          0,
          579,
          167,
          474,
          0,
          115,
          210,
          277,
          180,
          180,
          0,
          0,
          0,
          0,
          14,
          64,
          0,
          0,
          237,
          0,
          191,
          328,
          0,
          250,
          122,
          145,
          0,
          90,
          0,
          105,
          165,
          0,
          0,
          155,
          215,
          190,
          0,
          225,
          207,
          0,
          274,
          165,
          0,
          0,
          0,
          600,
          0,
          156,
          0,
          0,
          185,
          0,
          126,
          0,
          293,
          194,
          321,
          144,
          0,
          0,
          0,
          0,
          91,
          0,
          144,
          159,
          130,
          540,
          70,
          0,
          231,
          130,
          0,
          0,
          0,
          0,
          0,
          0,
          0,
          0,
          180,
          0,
          125,
          480,
          125,
          0,
          0,
          0,
          0,
          160,
          0,
          392,
          185,
          0,
          127,
          79,
          0,
          120,
          0,
          150,
          0,
          0,
          200,
          0,
          0,
          510,
          0,
          110,
          0,
          0,
          0,
          0
         ],
         "xaxis": "x",
         "y": [
          "diabetic",
          "diabetic",
          "diabetic",
          "diabetic",
          "diabetic",
          "diabetic",
          "diabetic",
          "diabetic",
          "diabetic",
          "diabetic",
          "diabetic",
          "diabetic",
          "diabetic",
          "diabetic",
          "diabetic",
          "diabetic",
          "diabetic",
          "diabetic",
          "diabetic",
          "diabetic",
          "diabetic",
          "diabetic",
          "diabetic",
          "diabetic",
          "diabetic",
          "diabetic",
          "diabetic",
          "diabetic",
          "diabetic",
          "diabetic",
          "diabetic",
          "diabetic",
          "diabetic",
          "diabetic",
          "diabetic",
          "diabetic",
          "diabetic",
          "diabetic",
          "diabetic",
          "diabetic",
          "diabetic",
          "diabetic",
          "diabetic",
          "diabetic",
          "diabetic",
          "diabetic",
          "diabetic",
          "diabetic",
          "diabetic",
          "diabetic",
          "diabetic",
          "diabetic",
          "diabetic",
          "diabetic",
          "diabetic",
          "diabetic",
          "diabetic",
          "diabetic",
          "diabetic",
          "diabetic",
          "diabetic",
          "diabetic",
          "diabetic",
          "diabetic",
          "diabetic",
          "diabetic",
          "diabetic",
          "diabetic",
          "diabetic",
          "diabetic",
          "diabetic",
          "diabetic",
          "diabetic",
          "diabetic",
          "diabetic",
          "diabetic",
          "diabetic",
          "diabetic",
          "diabetic",
          "diabetic",
          "diabetic",
          "diabetic",
          "diabetic",
          "diabetic",
          "diabetic",
          "diabetic",
          "diabetic",
          "diabetic",
          "diabetic",
          "diabetic",
          "diabetic",
          "diabetic",
          "diabetic",
          "diabetic",
          "diabetic",
          "diabetic",
          "diabetic",
          "diabetic",
          "diabetic",
          "diabetic",
          "diabetic",
          "diabetic",
          "diabetic",
          "diabetic",
          "diabetic",
          "diabetic",
          "diabetic",
          "diabetic",
          "diabetic",
          "diabetic",
          "diabetic",
          "diabetic",
          "diabetic",
          "diabetic",
          "diabetic",
          "diabetic",
          "diabetic",
          "diabetic",
          "diabetic",
          "diabetic",
          "diabetic",
          "diabetic",
          "diabetic",
          "diabetic",
          "diabetic",
          "diabetic",
          "diabetic",
          "diabetic",
          "diabetic",
          "diabetic",
          "diabetic",
          "diabetic",
          "diabetic",
          "diabetic",
          "diabetic",
          "diabetic",
          "diabetic",
          "diabetic",
          "diabetic",
          "diabetic",
          "diabetic",
          "diabetic",
          "diabetic",
          "diabetic",
          "diabetic",
          "diabetic",
          "diabetic",
          "diabetic",
          "diabetic",
          "diabetic",
          "diabetic",
          "diabetic",
          "diabetic",
          "diabetic",
          "diabetic",
          "diabetic",
          "diabetic",
          "diabetic",
          "diabetic",
          "diabetic",
          "diabetic",
          "diabetic",
          "diabetic",
          "diabetic",
          "diabetic",
          "diabetic",
          "diabetic",
          "diabetic",
          "diabetic",
          "diabetic",
          "diabetic",
          "diabetic",
          "diabetic",
          "diabetic",
          "diabetic",
          "diabetic",
          "diabetic",
          "diabetic",
          "diabetic",
          "diabetic",
          "diabetic",
          "diabetic",
          "diabetic",
          "diabetic",
          "diabetic",
          "diabetic",
          "diabetic",
          "diabetic",
          "diabetic",
          "diabetic",
          "diabetic",
          "diabetic",
          "diabetic",
          "diabetic",
          "diabetic",
          "diabetic",
          "diabetic",
          "diabetic",
          "diabetic",
          "diabetic",
          "diabetic",
          "diabetic",
          "diabetic",
          "diabetic",
          "diabetic",
          "diabetic",
          "diabetic",
          "diabetic",
          "diabetic",
          "diabetic",
          "diabetic",
          "diabetic",
          "diabetic",
          "diabetic",
          "diabetic",
          "diabetic",
          "diabetic",
          "diabetic",
          "diabetic",
          "diabetic",
          "diabetic",
          "diabetic",
          "diabetic",
          "diabetic",
          "diabetic",
          "diabetic",
          "diabetic",
          "diabetic",
          "diabetic",
          "diabetic",
          "diabetic",
          "diabetic",
          "diabetic",
          "diabetic",
          "diabetic",
          "diabetic",
          "diabetic",
          "diabetic",
          "diabetic",
          "diabetic",
          "diabetic",
          "diabetic",
          "diabetic",
          "diabetic",
          "diabetic",
          "diabetic",
          "diabetic",
          "diabetic",
          "diabetic",
          "diabetic",
          "diabetic",
          "diabetic",
          "diabetic",
          "diabetic",
          "diabetic",
          "diabetic",
          "diabetic",
          "diabetic",
          "diabetic",
          "diabetic",
          "diabetic",
          "diabetic",
          "diabetic",
          "diabetic",
          "diabetic",
          "diabetic",
          "diabetic",
          "diabetic"
         ],
         "yaxis": "y2"
        },
        {
         "legendgroup": "healthy",
         "marker": {
          "color": "#7EC0EE",
          "symbol": "line-ns-open"
         },
         "mode": "markers",
         "name": "healthy",
         "showlegend": false,
         "type": "scatter",
         "x": [
          0,
          94,
          0,
          0,
          0,
          0,
          83,
          235,
          0,
          140,
          110,
          0,
          0,
          54,
          0,
          0,
          192,
          0,
          70,
          0,
          0,
          0,
          0,
          0,
          0,
          82,
          36,
          23,
          342,
          0,
          110,
          0,
          142,
          0,
          0,
          128,
          0,
          0,
          38,
          100,
          140,
          270,
          0,
          0,
          0,
          0,
          0,
          0,
          0,
          71,
          0,
          125,
          0,
          71,
          0,
          0,
          176,
          48,
          64,
          228,
          0,
          76,
          64,
          0,
          0,
          40,
          0,
          152,
          0,
          140,
          18,
          37,
          0,
          0,
          0,
          51,
          0,
          100,
          0,
          135,
          94,
          0,
          49,
          140,
          50,
          92,
          0,
          325,
          0,
          0,
          63,
          284,
          0,
          0,
          119,
          0,
          0,
          204,
          0,
          485,
          94,
          135,
          53,
          0,
          105,
          285,
          0,
          0,
          0,
          0,
          78,
          0,
          48,
          55,
          0,
          0,
          0,
          92,
          23,
          0,
          0,
          0,
          94,
          0,
          0,
          0,
          0,
          0,
          44,
          190,
          0,
          87,
          0,
          0,
          0,
          120,
          0,
          190,
          56,
          32,
          0,
          744,
          53,
          37,
          0,
          45,
          0,
          0,
          88,
          194,
          0,
          680,
          402,
          0,
          0,
          0,
          55,
          0,
          0,
          0,
          375,
          130,
          0,
          0,
          67,
          0,
          0,
          56,
          0,
          45,
          0,
          57,
          116,
          0,
          278,
          122,
          155,
          135,
          545,
          49,
          75,
          40,
          0,
          120,
          215,
          0,
          42,
          0,
          105,
          148,
          0,
          148,
          85,
          94,
          64,
          140,
          231,
          0,
          168,
          0,
          68,
          0,
          52,
          0,
          58,
          255,
          0,
          105,
          73,
          0,
          0,
          0,
          108,
          83,
          0,
          74,
          0,
          0,
          0,
          43,
          0,
          54,
          0,
          0,
          293,
          83,
          0,
          66,
          89,
          66,
          94,
          158,
          84,
          75,
          72,
          82,
          0,
          182,
          59,
          110,
          50,
          81,
          196,
          415,
          87,
          275,
          115,
          0,
          0,
          0,
          165,
          0,
          0,
          176,
          310,
          61,
          0,
          0,
          170,
          76,
          78,
          0,
          0,
          145,
          0,
          85,
          60,
          0,
          0,
          0,
          0,
          0,
          0,
          50,
          120,
          70,
          92,
          63,
          95,
          210,
          0,
          105,
          0,
          71,
          60,
          56,
          0,
          49,
          0,
          0,
          105,
          36,
          100,
          140,
          0,
          0,
          0,
          0,
          0,
          0,
          110,
          75,
          0,
          0,
          49,
          125,
          480,
          265,
          0,
          0,
          66,
          0,
          0,
          0,
          0,
          0,
          76,
          193,
          71,
          0,
          79,
          0,
          0,
          170,
          76,
          0,
          210,
          0,
          0,
          86,
          0,
          0,
          326,
          66,
          130,
          0,
          0,
          0,
          82,
          105,
          188,
          0,
          106,
          0,
          65,
          0,
          56,
          0,
          0,
          210,
          56,
          76,
          166,
          67,
          0,
          0,
          106,
          0,
          44,
          115,
          215,
          0,
          0,
          0,
          0,
          77,
          54,
          0,
          88,
          18,
          126,
          126,
          0,
          0,
          44,
          120,
          330,
          63,
          130,
          0,
          0,
          0,
          0,
          0,
          0,
          0,
          140,
          115,
          230,
          0,
          25,
          120,
          0,
          0,
          0,
          0,
          41,
          272,
          182,
          158,
          0,
          0,
          0,
          15,
          160,
          0,
          0,
          115,
          0,
          54,
          0,
          0,
          0,
          0,
          90,
          0,
          183,
          0,
          0,
          66,
          46,
          105,
          0,
          0,
          152,
          440,
          0,
          100,
          106,
          77,
          0,
          135,
          90,
          200,
          0,
          0,
          132,
          190,
          100,
          168,
          0,
          49,
          240,
          0,
          0,
          265,
          45,
          105,
          0,
          205,
          0,
          0,
          180,
          0,
          95,
          0,
          0,
          155,
          0,
          200,
          0,
          100,
          0,
          335,
          387,
          22,
          291,
          0,
          0,
          178,
          0,
          200,
          105,
          0,
          0,
          180,
          0,
          0,
          0,
          165,
          0,
          0,
          120,
          0,
          160,
          94,
          116,
          140,
          105,
          57,
          74,
          0,
          0,
          0,
          16,
          0,
          180,
          0,
          112,
          0
         ],
         "xaxis": "x",
         "y": [
          "healthy",
          "healthy",
          "healthy",
          "healthy",
          "healthy",
          "healthy",
          "healthy",
          "healthy",
          "healthy",
          "healthy",
          "healthy",
          "healthy",
          "healthy",
          "healthy",
          "healthy",
          "healthy",
          "healthy",
          "healthy",
          "healthy",
          "healthy",
          "healthy",
          "healthy",
          "healthy",
          "healthy",
          "healthy",
          "healthy",
          "healthy",
          "healthy",
          "healthy",
          "healthy",
          "healthy",
          "healthy",
          "healthy",
          "healthy",
          "healthy",
          "healthy",
          "healthy",
          "healthy",
          "healthy",
          "healthy",
          "healthy",
          "healthy",
          "healthy",
          "healthy",
          "healthy",
          "healthy",
          "healthy",
          "healthy",
          "healthy",
          "healthy",
          "healthy",
          "healthy",
          "healthy",
          "healthy",
          "healthy",
          "healthy",
          "healthy",
          "healthy",
          "healthy",
          "healthy",
          "healthy",
          "healthy",
          "healthy",
          "healthy",
          "healthy",
          "healthy",
          "healthy",
          "healthy",
          "healthy",
          "healthy",
          "healthy",
          "healthy",
          "healthy",
          "healthy",
          "healthy",
          "healthy",
          "healthy",
          "healthy",
          "healthy",
          "healthy",
          "healthy",
          "healthy",
          "healthy",
          "healthy",
          "healthy",
          "healthy",
          "healthy",
          "healthy",
          "healthy",
          "healthy",
          "healthy",
          "healthy",
          "healthy",
          "healthy",
          "healthy",
          "healthy",
          "healthy",
          "healthy",
          "healthy",
          "healthy",
          "healthy",
          "healthy",
          "healthy",
          "healthy",
          "healthy",
          "healthy",
          "healthy",
          "healthy",
          "healthy",
          "healthy",
          "healthy",
          "healthy",
          "healthy",
          "healthy",
          "healthy",
          "healthy",
          "healthy",
          "healthy",
          "healthy",
          "healthy",
          "healthy",
          "healthy",
          "healthy",
          "healthy",
          "healthy",
          "healthy",
          "healthy",
          "healthy",
          "healthy",
          "healthy",
          "healthy",
          "healthy",
          "healthy",
          "healthy",
          "healthy",
          "healthy",
          "healthy",
          "healthy",
          "healthy",
          "healthy",
          "healthy",
          "healthy",
          "healthy",
          "healthy",
          "healthy",
          "healthy",
          "healthy",
          "healthy",
          "healthy",
          "healthy",
          "healthy",
          "healthy",
          "healthy",
          "healthy",
          "healthy",
          "healthy",
          "healthy",
          "healthy",
          "healthy",
          "healthy",
          "healthy",
          "healthy",
          "healthy",
          "healthy",
          "healthy",
          "healthy",
          "healthy",
          "healthy",
          "healthy",
          "healthy",
          "healthy",
          "healthy",
          "healthy",
          "healthy",
          "healthy",
          "healthy",
          "healthy",
          "healthy",
          "healthy",
          "healthy",
          "healthy",
          "healthy",
          "healthy",
          "healthy",
          "healthy",
          "healthy",
          "healthy",
          "healthy",
          "healthy",
          "healthy",
          "healthy",
          "healthy",
          "healthy",
          "healthy",
          "healthy",
          "healthy",
          "healthy",
          "healthy",
          "healthy",
          "healthy",
          "healthy",
          "healthy",
          "healthy",
          "healthy",
          "healthy",
          "healthy",
          "healthy",
          "healthy",
          "healthy",
          "healthy",
          "healthy",
          "healthy",
          "healthy",
          "healthy",
          "healthy",
          "healthy",
          "healthy",
          "healthy",
          "healthy",
          "healthy",
          "healthy",
          "healthy",
          "healthy",
          "healthy",
          "healthy",
          "healthy",
          "healthy",
          "healthy",
          "healthy",
          "healthy",
          "healthy",
          "healthy",
          "healthy",
          "healthy",
          "healthy",
          "healthy",
          "healthy",
          "healthy",
          "healthy",
          "healthy",
          "healthy",
          "healthy",
          "healthy",
          "healthy",
          "healthy",
          "healthy",
          "healthy",
          "healthy",
          "healthy",
          "healthy",
          "healthy",
          "healthy",
          "healthy",
          "healthy",
          "healthy",
          "healthy",
          "healthy",
          "healthy",
          "healthy",
          "healthy",
          "healthy",
          "healthy",
          "healthy",
          "healthy",
          "healthy",
          "healthy",
          "healthy",
          "healthy",
          "healthy",
          "healthy",
          "healthy",
          "healthy",
          "healthy",
          "healthy",
          "healthy",
          "healthy",
          "healthy",
          "healthy",
          "healthy",
          "healthy",
          "healthy",
          "healthy",
          "healthy",
          "healthy",
          "healthy",
          "healthy",
          "healthy",
          "healthy",
          "healthy",
          "healthy",
          "healthy",
          "healthy",
          "healthy",
          "healthy",
          "healthy",
          "healthy",
          "healthy",
          "healthy",
          "healthy",
          "healthy",
          "healthy",
          "healthy",
          "healthy",
          "healthy",
          "healthy",
          "healthy",
          "healthy",
          "healthy",
          "healthy",
          "healthy",
          "healthy",
          "healthy",
          "healthy",
          "healthy",
          "healthy",
          "healthy",
          "healthy",
          "healthy",
          "healthy",
          "healthy",
          "healthy",
          "healthy",
          "healthy",
          "healthy",
          "healthy",
          "healthy",
          "healthy",
          "healthy",
          "healthy",
          "healthy",
          "healthy",
          "healthy",
          "healthy",
          "healthy",
          "healthy",
          "healthy",
          "healthy",
          "healthy",
          "healthy",
          "healthy",
          "healthy",
          "healthy",
          "healthy",
          "healthy",
          "healthy",
          "healthy",
          "healthy",
          "healthy",
          "healthy",
          "healthy",
          "healthy",
          "healthy",
          "healthy",
          "healthy",
          "healthy",
          "healthy",
          "healthy",
          "healthy",
          "healthy",
          "healthy",
          "healthy",
          "healthy",
          "healthy",
          "healthy",
          "healthy",
          "healthy",
          "healthy",
          "healthy",
          "healthy",
          "healthy",
          "healthy",
          "healthy",
          "healthy",
          "healthy",
          "healthy",
          "healthy",
          "healthy",
          "healthy",
          "healthy",
          "healthy",
          "healthy",
          "healthy",
          "healthy",
          "healthy",
          "healthy",
          "healthy",
          "healthy",
          "healthy",
          "healthy",
          "healthy",
          "healthy",
          "healthy",
          "healthy",
          "healthy",
          "healthy",
          "healthy",
          "healthy",
          "healthy",
          "healthy",
          "healthy",
          "healthy",
          "healthy",
          "healthy",
          "healthy",
          "healthy",
          "healthy",
          "healthy",
          "healthy",
          "healthy",
          "healthy",
          "healthy",
          "healthy",
          "healthy",
          "healthy",
          "healthy",
          "healthy",
          "healthy",
          "healthy",
          "healthy",
          "healthy",
          "healthy",
          "healthy",
          "healthy",
          "healthy",
          "healthy",
          "healthy",
          "healthy",
          "healthy",
          "healthy",
          "healthy",
          "healthy",
          "healthy",
          "healthy",
          "healthy",
          "healthy",
          "healthy",
          "healthy",
          "healthy",
          "healthy",
          "healthy",
          "healthy",
          "healthy",
          "healthy",
          "healthy",
          "healthy",
          "healthy",
          "healthy",
          "healthy",
          "healthy",
          "healthy",
          "healthy",
          "healthy",
          "healthy",
          "healthy",
          "healthy",
          "healthy",
          "healthy",
          "healthy",
          "healthy",
          "healthy",
          "healthy",
          "healthy",
          "healthy",
          "healthy",
          "healthy",
          "healthy",
          "healthy",
          "healthy",
          "healthy",
          "healthy",
          "healthy",
          "healthy",
          "healthy",
          "healthy",
          "healthy",
          "healthy",
          "healthy",
          "healthy",
          "healthy",
          "healthy",
          "healthy",
          "healthy",
          "healthy",
          "healthy",
          "healthy",
          "healthy",
          "healthy",
          "healthy",
          "healthy",
          "healthy",
          "healthy",
          "healthy",
          "healthy",
          "healthy",
          "healthy",
          "healthy",
          "healthy",
          "healthy",
          "healthy",
          "healthy"
         ],
         "yaxis": "y2"
        }
       ],
       "layout": {
        "barmode": "overlay",
        "hovermode": "closest",
        "legend": {
         "traceorder": "reversed"
        },
        "template": {
         "data": {
          "bar": [
           {
            "error_x": {
             "color": "#2a3f5f"
            },
            "error_y": {
             "color": "#2a3f5f"
            },
            "marker": {
             "line": {
              "color": "#E5ECF6",
              "width": 0.5
             }
            },
            "type": "bar"
           }
          ],
          "barpolar": [
           {
            "marker": {
             "line": {
              "color": "#E5ECF6",
              "width": 0.5
             }
            },
            "type": "barpolar"
           }
          ],
          "carpet": [
           {
            "aaxis": {
             "endlinecolor": "#2a3f5f",
             "gridcolor": "white",
             "linecolor": "white",
             "minorgridcolor": "white",
             "startlinecolor": "#2a3f5f"
            },
            "baxis": {
             "endlinecolor": "#2a3f5f",
             "gridcolor": "white",
             "linecolor": "white",
             "minorgridcolor": "white",
             "startlinecolor": "#2a3f5f"
            },
            "type": "carpet"
           }
          ],
          "choropleth": [
           {
            "colorbar": {
             "outlinewidth": 0,
             "ticks": ""
            },
            "type": "choropleth"
           }
          ],
          "contour": [
           {
            "colorbar": {
             "outlinewidth": 0,
             "ticks": ""
            },
            "colorscale": [
             [
              0,
              "#0d0887"
             ],
             [
              0.1111111111111111,
              "#46039f"
             ],
             [
              0.2222222222222222,
              "#7201a8"
             ],
             [
              0.3333333333333333,
              "#9c179e"
             ],
             [
              0.4444444444444444,
              "#bd3786"
             ],
             [
              0.5555555555555556,
              "#d8576b"
             ],
             [
              0.6666666666666666,
              "#ed7953"
             ],
             [
              0.7777777777777778,
              "#fb9f3a"
             ],
             [
              0.8888888888888888,
              "#fdca26"
             ],
             [
              1,
              "#f0f921"
             ]
            ],
            "type": "contour"
           }
          ],
          "contourcarpet": [
           {
            "colorbar": {
             "outlinewidth": 0,
             "ticks": ""
            },
            "type": "contourcarpet"
           }
          ],
          "heatmap": [
           {
            "colorbar": {
             "outlinewidth": 0,
             "ticks": ""
            },
            "colorscale": [
             [
              0,
              "#0d0887"
             ],
             [
              0.1111111111111111,
              "#46039f"
             ],
             [
              0.2222222222222222,
              "#7201a8"
             ],
             [
              0.3333333333333333,
              "#9c179e"
             ],
             [
              0.4444444444444444,
              "#bd3786"
             ],
             [
              0.5555555555555556,
              "#d8576b"
             ],
             [
              0.6666666666666666,
              "#ed7953"
             ],
             [
              0.7777777777777778,
              "#fb9f3a"
             ],
             [
              0.8888888888888888,
              "#fdca26"
             ],
             [
              1,
              "#f0f921"
             ]
            ],
            "type": "heatmap"
           }
          ],
          "heatmapgl": [
           {
            "colorbar": {
             "outlinewidth": 0,
             "ticks": ""
            },
            "colorscale": [
             [
              0,
              "#0d0887"
             ],
             [
              0.1111111111111111,
              "#46039f"
             ],
             [
              0.2222222222222222,
              "#7201a8"
             ],
             [
              0.3333333333333333,
              "#9c179e"
             ],
             [
              0.4444444444444444,
              "#bd3786"
             ],
             [
              0.5555555555555556,
              "#d8576b"
             ],
             [
              0.6666666666666666,
              "#ed7953"
             ],
             [
              0.7777777777777778,
              "#fb9f3a"
             ],
             [
              0.8888888888888888,
              "#fdca26"
             ],
             [
              1,
              "#f0f921"
             ]
            ],
            "type": "heatmapgl"
           }
          ],
          "histogram": [
           {
            "marker": {
             "colorbar": {
              "outlinewidth": 0,
              "ticks": ""
             }
            },
            "type": "histogram"
           }
          ],
          "histogram2d": [
           {
            "colorbar": {
             "outlinewidth": 0,
             "ticks": ""
            },
            "colorscale": [
             [
              0,
              "#0d0887"
             ],
             [
              0.1111111111111111,
              "#46039f"
             ],
             [
              0.2222222222222222,
              "#7201a8"
             ],
             [
              0.3333333333333333,
              "#9c179e"
             ],
             [
              0.4444444444444444,
              "#bd3786"
             ],
             [
              0.5555555555555556,
              "#d8576b"
             ],
             [
              0.6666666666666666,
              "#ed7953"
             ],
             [
              0.7777777777777778,
              "#fb9f3a"
             ],
             [
              0.8888888888888888,
              "#fdca26"
             ],
             [
              1,
              "#f0f921"
             ]
            ],
            "type": "histogram2d"
           }
          ],
          "histogram2dcontour": [
           {
            "colorbar": {
             "outlinewidth": 0,
             "ticks": ""
            },
            "colorscale": [
             [
              0,
              "#0d0887"
             ],
             [
              0.1111111111111111,
              "#46039f"
             ],
             [
              0.2222222222222222,
              "#7201a8"
             ],
             [
              0.3333333333333333,
              "#9c179e"
             ],
             [
              0.4444444444444444,
              "#bd3786"
             ],
             [
              0.5555555555555556,
              "#d8576b"
             ],
             [
              0.6666666666666666,
              "#ed7953"
             ],
             [
              0.7777777777777778,
              "#fb9f3a"
             ],
             [
              0.8888888888888888,
              "#fdca26"
             ],
             [
              1,
              "#f0f921"
             ]
            ],
            "type": "histogram2dcontour"
           }
          ],
          "mesh3d": [
           {
            "colorbar": {
             "outlinewidth": 0,
             "ticks": ""
            },
            "type": "mesh3d"
           }
          ],
          "parcoords": [
           {
            "line": {
             "colorbar": {
              "outlinewidth": 0,
              "ticks": ""
             }
            },
            "type": "parcoords"
           }
          ],
          "pie": [
           {
            "automargin": true,
            "type": "pie"
           }
          ],
          "scatter": [
           {
            "marker": {
             "colorbar": {
              "outlinewidth": 0,
              "ticks": ""
             }
            },
            "type": "scatter"
           }
          ],
          "scatter3d": [
           {
            "line": {
             "colorbar": {
              "outlinewidth": 0,
              "ticks": ""
             }
            },
            "marker": {
             "colorbar": {
              "outlinewidth": 0,
              "ticks": ""
             }
            },
            "type": "scatter3d"
           }
          ],
          "scattercarpet": [
           {
            "marker": {
             "colorbar": {
              "outlinewidth": 0,
              "ticks": ""
             }
            },
            "type": "scattercarpet"
           }
          ],
          "scattergeo": [
           {
            "marker": {
             "colorbar": {
              "outlinewidth": 0,
              "ticks": ""
             }
            },
            "type": "scattergeo"
           }
          ],
          "scattergl": [
           {
            "marker": {
             "colorbar": {
              "outlinewidth": 0,
              "ticks": ""
             }
            },
            "type": "scattergl"
           }
          ],
          "scattermapbox": [
           {
            "marker": {
             "colorbar": {
              "outlinewidth": 0,
              "ticks": ""
             }
            },
            "type": "scattermapbox"
           }
          ],
          "scatterpolar": [
           {
            "marker": {
             "colorbar": {
              "outlinewidth": 0,
              "ticks": ""
             }
            },
            "type": "scatterpolar"
           }
          ],
          "scatterpolargl": [
           {
            "marker": {
             "colorbar": {
              "outlinewidth": 0,
              "ticks": ""
             }
            },
            "type": "scatterpolargl"
           }
          ],
          "scatterternary": [
           {
            "marker": {
             "colorbar": {
              "outlinewidth": 0,
              "ticks": ""
             }
            },
            "type": "scatterternary"
           }
          ],
          "surface": [
           {
            "colorbar": {
             "outlinewidth": 0,
             "ticks": ""
            },
            "colorscale": [
             [
              0,
              "#0d0887"
             ],
             [
              0.1111111111111111,
              "#46039f"
             ],
             [
              0.2222222222222222,
              "#7201a8"
             ],
             [
              0.3333333333333333,
              "#9c179e"
             ],
             [
              0.4444444444444444,
              "#bd3786"
             ],
             [
              0.5555555555555556,
              "#d8576b"
             ],
             [
              0.6666666666666666,
              "#ed7953"
             ],
             [
              0.7777777777777778,
              "#fb9f3a"
             ],
             [
              0.8888888888888888,
              "#fdca26"
             ],
             [
              1,
              "#f0f921"
             ]
            ],
            "type": "surface"
           }
          ],
          "table": [
           {
            "cells": {
             "fill": {
              "color": "#EBF0F8"
             },
             "line": {
              "color": "white"
             }
            },
            "header": {
             "fill": {
              "color": "#C8D4E3"
             },
             "line": {
              "color": "white"
             }
            },
            "type": "table"
           }
          ]
         },
         "layout": {
          "annotationdefaults": {
           "arrowcolor": "#2a3f5f",
           "arrowhead": 0,
           "arrowwidth": 1
          },
          "coloraxis": {
           "colorbar": {
            "outlinewidth": 0,
            "ticks": ""
           }
          },
          "colorscale": {
           "diverging": [
            [
             0,
             "#8e0152"
            ],
            [
             0.1,
             "#c51b7d"
            ],
            [
             0.2,
             "#de77ae"
            ],
            [
             0.3,
             "#f1b6da"
            ],
            [
             0.4,
             "#fde0ef"
            ],
            [
             0.5,
             "#f7f7f7"
            ],
            [
             0.6,
             "#e6f5d0"
            ],
            [
             0.7,
             "#b8e186"
            ],
            [
             0.8,
             "#7fbc41"
            ],
            [
             0.9,
             "#4d9221"
            ],
            [
             1,
             "#276419"
            ]
           ],
           "sequential": [
            [
             0,
             "#0d0887"
            ],
            [
             0.1111111111111111,
             "#46039f"
            ],
            [
             0.2222222222222222,
             "#7201a8"
            ],
            [
             0.3333333333333333,
             "#9c179e"
            ],
            [
             0.4444444444444444,
             "#bd3786"
            ],
            [
             0.5555555555555556,
             "#d8576b"
            ],
            [
             0.6666666666666666,
             "#ed7953"
            ],
            [
             0.7777777777777778,
             "#fb9f3a"
            ],
            [
             0.8888888888888888,
             "#fdca26"
            ],
            [
             1,
             "#f0f921"
            ]
           ],
           "sequentialminus": [
            [
             0,
             "#0d0887"
            ],
            [
             0.1111111111111111,
             "#46039f"
            ],
            [
             0.2222222222222222,
             "#7201a8"
            ],
            [
             0.3333333333333333,
             "#9c179e"
            ],
            [
             0.4444444444444444,
             "#bd3786"
            ],
            [
             0.5555555555555556,
             "#d8576b"
            ],
            [
             0.6666666666666666,
             "#ed7953"
            ],
            [
             0.7777777777777778,
             "#fb9f3a"
            ],
            [
             0.8888888888888888,
             "#fdca26"
            ],
            [
             1,
             "#f0f921"
            ]
           ]
          },
          "colorway": [
           "#636efa",
           "#EF553B",
           "#00cc96",
           "#ab63fa",
           "#FFA15A",
           "#19d3f3",
           "#FF6692",
           "#B6E880",
           "#FF97FF",
           "#FECB52"
          ],
          "font": {
           "color": "#2a3f5f"
          },
          "geo": {
           "bgcolor": "white",
           "lakecolor": "white",
           "landcolor": "#E5ECF6",
           "showlakes": true,
           "showland": true,
           "subunitcolor": "white"
          },
          "hoverlabel": {
           "align": "left"
          },
          "hovermode": "closest",
          "mapbox": {
           "style": "light"
          },
          "paper_bgcolor": "white",
          "plot_bgcolor": "#E5ECF6",
          "polar": {
           "angularaxis": {
            "gridcolor": "white",
            "linecolor": "white",
            "ticks": ""
           },
           "bgcolor": "#E5ECF6",
           "radialaxis": {
            "gridcolor": "white",
            "linecolor": "white",
            "ticks": ""
           }
          },
          "scene": {
           "xaxis": {
            "backgroundcolor": "#E5ECF6",
            "gridcolor": "white",
            "gridwidth": 2,
            "linecolor": "white",
            "showbackground": true,
            "ticks": "",
            "zerolinecolor": "white"
           },
           "yaxis": {
            "backgroundcolor": "#E5ECF6",
            "gridcolor": "white",
            "gridwidth": 2,
            "linecolor": "white",
            "showbackground": true,
            "ticks": "",
            "zerolinecolor": "white"
           },
           "zaxis": {
            "backgroundcolor": "#E5ECF6",
            "gridcolor": "white",
            "gridwidth": 2,
            "linecolor": "white",
            "showbackground": true,
            "ticks": "",
            "zerolinecolor": "white"
           }
          },
          "shapedefaults": {
           "line": {
            "color": "#2a3f5f"
           }
          },
          "ternary": {
           "aaxis": {
            "gridcolor": "white",
            "linecolor": "white",
            "ticks": ""
           },
           "baxis": {
            "gridcolor": "white",
            "linecolor": "white",
            "ticks": ""
           },
           "bgcolor": "#E5ECF6",
           "caxis": {
            "gridcolor": "white",
            "linecolor": "white",
            "ticks": ""
           }
          },
          "title": {
           "x": 0.05
          },
          "xaxis": {
           "automargin": true,
           "gridcolor": "white",
           "linecolor": "white",
           "ticks": "",
           "title": {
            "standoff": 15
           },
           "zerolinecolor": "white",
           "zerolinewidth": 2
          },
          "yaxis": {
           "automargin": true,
           "gridcolor": "white",
           "linecolor": "white",
           "ticks": "",
           "title": {
            "standoff": 15
           },
           "zerolinecolor": "white",
           "zerolinewidth": 2
          }
         }
        },
        "title": {
         "text": "Insulin"
        },
        "xaxis": {
         "anchor": "y2",
         "domain": [
          0,
          1
         ],
         "zeroline": false
        },
        "yaxis": {
         "anchor": "free",
         "domain": [
          0.35,
          1
         ],
         "position": 0
        },
        "yaxis2": {
         "anchor": "x",
         "domain": [
          0,
          0.25
         ],
         "dtick": 1,
         "showticklabels": false
        }
       }
      },
      "text/html": [
       "<div>\n",
       "        \n",
       "        \n",
       "            <div id=\"ec3e855e-35e1-457e-a522-90aa49c63c74\" class=\"plotly-graph-div\" style=\"height:525px; width:100%;\"></div>\n",
       "            <script type=\"text/javascript\">\n",
       "                require([\"plotly\"], function(Plotly) {\n",
       "                    window.PLOTLYENV=window.PLOTLYENV || {};\n",
       "                    \n",
       "                if (document.getElementById(\"ec3e855e-35e1-457e-a522-90aa49c63c74\")) {\n",
       "                    Plotly.newPlot(\n",
       "                        'ec3e855e-35e1-457e-a522-90aa49c63c74',\n",
       "                        [{\"autobinx\": false, \"histnorm\": \"probability density\", \"legendgroup\": \"diabetic\", \"marker\": {\"color\": \"#FFD700\"}, \"name\": \"diabetic\", \"opacity\": 0.7, \"type\": \"histogram\", \"x\": [0, 0, 168, 88, 543, 0, 0, 846, 175, 0, 230, 0, 96, 0, 0, 146, 115, 0, 245, 0, 0, 207, 240, 0, 0, 300, 304, 0, 0, 0, 90, 0, 0, 0, 110, 0, 220, 0, 36, 135, 495, 175, 0, 0, 100, 0, 99, 145, 0, 168, 0, 225, 0, 155, 0, 0, 114, 0, 156, 0, 130, 130, 130, 0, 0, 495, 58, 114, 160, 0, 0, 210, 48, 99, 318, 280, 0, 0, 130, 175, 271, 129, 0, 0, 478, 0, 0, 0, 370, 0, 192, 0, 0, 0, 176, 0, 258, 0, 150, 0, 0, 0, 0, 0, 0, 0, 0, 0, 220, 74, 182, 194, 360, 184, 0, 135, 0, 132, 180, 205, 96, 0, 0, 0, 0, 0, 29, 156, 120, 0, 0, 171, 0, 0, 0, 167, 0, 249, 325, 0, 0, 140, 465, 325, 0, 0, 0, 285, 0, 0, 0, 0, 0, 88, 0, 0, 0, 579, 167, 474, 0, 115, 210, 277, 180, 180, 0, 0, 0, 0, 14, 64, 0, 0, 237, 0, 191, 328, 0, 250, 122, 145, 0, 90, 0, 105, 165, 0, 0, 155, 215, 190, 0, 225, 207, 0, 274, 165, 0, 0, 0, 600, 0, 156, 0, 0, 185, 0, 126, 0, 293, 194, 321, 144, 0, 0, 0, 0, 91, 0, 144, 159, 130, 540, 70, 0, 231, 130, 0, 0, 0, 0, 0, 0, 0, 0, 180, 0, 125, 480, 125, 0, 0, 0, 0, 160, 0, 392, 185, 0, 127, 79, 0, 120, 0, 150, 0, 0, 200, 0, 0, 510, 0, 110, 0, 0, 0, 0], \"xaxis\": \"x\", \"xbins\": {\"end\": 846.0, \"size\": 0, \"start\": 0.0}, \"yaxis\": \"y\"}, {\"autobinx\": false, \"histnorm\": \"probability density\", \"legendgroup\": \"healthy\", \"marker\": {\"color\": \"#7EC0EE\"}, \"name\": \"healthy\", \"opacity\": 0.7, \"type\": \"histogram\", \"x\": [0, 94, 0, 0, 0, 0, 83, 235, 0, 140, 110, 0, 0, 54, 0, 0, 192, 0, 70, 0, 0, 0, 0, 0, 0, 82, 36, 23, 342, 0, 110, 0, 142, 0, 0, 128, 0, 0, 38, 100, 140, 270, 0, 0, 0, 0, 0, 0, 0, 71, 0, 125, 0, 71, 0, 0, 176, 48, 64, 228, 0, 76, 64, 0, 0, 40, 0, 152, 0, 140, 18, 37, 0, 0, 0, 51, 0, 100, 0, 135, 94, 0, 49, 140, 50, 92, 0, 325, 0, 0, 63, 284, 0, 0, 119, 0, 0, 204, 0, 485, 94, 135, 53, 0, 105, 285, 0, 0, 0, 0, 78, 0, 48, 55, 0, 0, 0, 92, 23, 0, 0, 0, 94, 0, 0, 0, 0, 0, 44, 190, 0, 87, 0, 0, 0, 120, 0, 190, 56, 32, 0, 744, 53, 37, 0, 45, 0, 0, 88, 194, 0, 680, 402, 0, 0, 0, 55, 0, 0, 0, 375, 130, 0, 0, 67, 0, 0, 56, 0, 45, 0, 57, 116, 0, 278, 122, 155, 135, 545, 49, 75, 40, 0, 120, 215, 0, 42, 0, 105, 148, 0, 148, 85, 94, 64, 140, 231, 0, 168, 0, 68, 0, 52, 0, 58, 255, 0, 105, 73, 0, 0, 0, 108, 83, 0, 74, 0, 0, 0, 43, 0, 54, 0, 0, 293, 83, 0, 66, 89, 66, 94, 158, 84, 75, 72, 82, 0, 182, 59, 110, 50, 81, 196, 415, 87, 275, 115, 0, 0, 0, 165, 0, 0, 176, 310, 61, 0, 0, 170, 76, 78, 0, 0, 145, 0, 85, 60, 0, 0, 0, 0, 0, 0, 50, 120, 70, 92, 63, 95, 210, 0, 105, 0, 71, 60, 56, 0, 49, 0, 0, 105, 36, 100, 140, 0, 0, 0, 0, 0, 0, 110, 75, 0, 0, 49, 125, 480, 265, 0, 0, 66, 0, 0, 0, 0, 0, 76, 193, 71, 0, 79, 0, 0, 170, 76, 0, 210, 0, 0, 86, 0, 0, 326, 66, 130, 0, 0, 0, 82, 105, 188, 0, 106, 0, 65, 0, 56, 0, 0, 210, 56, 76, 166, 67, 0, 0, 106, 0, 44, 115, 215, 0, 0, 0, 0, 77, 54, 0, 88, 18, 126, 126, 0, 0, 44, 120, 330, 63, 130, 0, 0, 0, 0, 0, 0, 0, 140, 115, 230, 0, 25, 120, 0, 0, 0, 0, 41, 272, 182, 158, 0, 0, 0, 15, 160, 0, 0, 115, 0, 54, 0, 0, 0, 0, 90, 0, 183, 0, 0, 66, 46, 105, 0, 0, 152, 440, 0, 100, 106, 77, 0, 135, 90, 200, 0, 0, 132, 190, 100, 168, 0, 49, 240, 0, 0, 265, 45, 105, 0, 205, 0, 0, 180, 0, 95, 0, 0, 155, 0, 200, 0, 100, 0, 335, 387, 22, 291, 0, 0, 178, 0, 200, 105, 0, 0, 180, 0, 0, 0, 165, 0, 0, 120, 0, 160, 94, 116, 140, 105, 57, 74, 0, 0, 0, 16, 0, 180, 0, 112, 0], \"xaxis\": \"x\", \"xbins\": {\"end\": 744.0, \"size\": 0, \"start\": 0.0}, \"yaxis\": \"y\"}, {\"legendgroup\": \"diabetic\", \"marker\": {\"color\": \"#FFD700\"}, \"mode\": \"lines\", \"name\": \"diabetic\", \"showlegend\": false, \"type\": \"scatter\", \"x\": [0.0, 1.692, 3.384, 5.076, 6.768, 8.46, 10.152, 11.844, 13.536, 15.228, 16.92, 18.612, 20.304, 21.996, 23.688, 25.38, 27.072, 28.764, 30.456, 32.148, 33.84, 35.532, 37.224, 38.916, 40.608, 42.3, 43.992, 45.684, 47.376, 49.068, 50.76, 52.452, 54.144, 55.836, 57.528, 59.22, 60.912, 62.604, 64.296, 65.988, 67.68, 69.372, 71.064, 72.756, 74.448, 76.14, 77.832, 79.524, 81.216, 82.908, 84.6, 86.292, 87.984, 89.676, 91.368, 93.06, 94.752, 96.444, 98.136, 99.828, 101.52, 103.212, 104.904, 106.596, 108.288, 109.98, 111.672, 113.364, 115.056, 116.748, 118.44, 120.132, 121.824, 123.516, 125.208, 126.9, 128.592, 130.284, 131.976, 133.668, 135.36, 137.052, 138.744, 140.436, 142.128, 143.82, 145.512, 147.204, 148.896, 150.588, 152.28, 153.972, 155.664, 157.356, 159.048, 160.74, 162.432, 164.124, 165.816, 167.508, 169.2, 170.892, 172.584, 174.276, 175.968, 177.66, 179.352, 181.044, 182.736, 184.428, 186.12, 187.812, 189.504, 191.196, 192.888, 194.58, 196.272, 197.964, 199.656, 201.348, 203.04, 204.732, 206.424, 208.116, 209.808, 211.5, 213.192, 214.884, 216.576, 218.268, 219.96, 221.652, 223.344, 225.036, 226.728, 228.42, 230.112, 231.804, 233.496, 235.188, 236.88, 238.572, 240.264, 241.956, 243.648, 245.34, 247.032, 248.724, 250.416, 252.108, 253.8, 255.492, 257.184, 258.876, 260.568, 262.26, 263.952, 265.644, 267.336, 269.028, 270.72, 272.412, 274.104, 275.796, 277.488, 279.18, 280.872, 282.564, 284.256, 285.948, 287.64, 289.332, 291.024, 292.716, 294.408, 296.1, 297.792, 299.484, 301.176, 302.868, 304.56, 306.252, 307.944, 309.636, 311.328, 313.02, 314.712, 316.404, 318.096, 319.788, 321.48, 323.172, 324.864, 326.556, 328.248, 329.94, 331.632, 333.324, 335.016, 336.708, 338.4, 340.092, 341.784, 343.476, 345.168, 346.86, 348.552, 350.244, 351.936, 353.628, 355.32, 357.012, 358.704, 360.396, 362.088, 363.78, 365.472, 367.164, 368.856, 370.548, 372.24, 373.932, 375.624, 377.316, 379.008, 380.7, 382.392, 384.084, 385.776, 387.468, 389.16, 390.852, 392.544, 394.236, 395.928, 397.62, 399.312, 401.004, 402.696, 404.388, 406.08, 407.772, 409.464, 411.156, 412.848, 414.54, 416.232, 417.924, 419.616, 421.308, 423.0, 424.692, 426.384, 428.076, 429.768, 431.46, 433.152, 434.844, 436.536, 438.228, 439.92, 441.612, 443.304, 444.996, 446.688, 448.38, 450.072, 451.764, 453.456, 455.148, 456.84, 458.532, 460.224, 461.916, 463.608, 465.3, 466.992, 468.684, 470.376, 472.068, 473.76, 475.452, 477.144, 478.836, 480.528, 482.22, 483.912, 485.604, 487.296, 488.988, 490.68, 492.372, 494.064, 495.756, 497.448, 499.14, 500.832, 502.524, 504.216, 505.908, 507.6, 509.292, 510.984, 512.676, 514.368, 516.06, 517.752, 519.444, 521.136, 522.828, 524.52, 526.212, 527.904, 529.596, 531.288, 532.98, 534.672, 536.364, 538.056, 539.748, 541.44, 543.132, 544.824, 546.516, 548.208, 549.9, 551.592, 553.284, 554.976, 556.668, 558.36, 560.052, 561.744, 563.436, 565.128, 566.82, 568.512, 570.204, 571.896, 573.588, 575.28, 576.972, 578.664, 580.356, 582.048, 583.74, 585.432, 587.124, 588.816, 590.508, 592.2, 593.892, 595.584, 597.276, 598.968, 600.66, 602.352, 604.044, 605.736, 607.428, 609.12, 610.812, 612.504, 614.196, 615.888, 617.58, 619.272, 620.964, 622.656, 624.348, 626.04, 627.732, 629.424, 631.116, 632.808, 634.5, 636.192, 637.884, 639.576, 641.268, 642.96, 644.652, 646.344, 648.036, 649.728, 651.42, 653.112, 654.804, 656.496, 658.188, 659.88, 661.572, 663.264, 664.956, 666.648, 668.34, 670.032, 671.724, 673.416, 675.108, 676.8, 678.492, 680.184, 681.876, 683.568, 685.26, 686.952, 688.644, 690.336, 692.028, 693.72, 695.412, 697.104, 698.796, 700.488, 702.18, 703.872, 705.564, 707.256, 708.948, 710.64, 712.332, 714.024, 715.716, 717.408, 719.1, 720.792, 722.484, 724.176, 725.868, 727.56, 729.252, 730.944, 732.636, 734.328, 736.02, 737.712, 739.404, 741.096, 742.788, 744.48, 746.172, 747.864, 749.556, 751.248, 752.94, 754.632, 756.324, 758.016, 759.708, 761.4, 763.092, 764.784, 766.476, 768.168, 769.86, 771.552, 773.244, 774.936, 776.628, 778.32, 780.012, 781.704, 783.396, 785.088, 786.78, 788.472, 790.164, 791.856, 793.548, 795.24, 796.932, 798.624, 800.316, 802.008, 803.7, 805.392, 807.084, 808.776, 810.468, 812.16, 813.852, 815.544, 817.236, 818.928, 820.62, 822.312, 824.004, 825.696, 827.388, 829.08, 830.772, 832.464, 834.156, 835.848, 837.54, 839.232, 840.924, 842.616, 844.308], \"xaxis\": \"x\", \"y\": [0.004748572549864573, 0.004756456507627777, 0.0047584655500386135, 0.004754649023507446, 0.0047450822113936225, 0.00472986585191793, 0.004709125477707017, 0.004683010582978301, 0.004651693626008796, 0.00461536887607456, 0.0045742511154769315, 0.0045285742085765055, 0.004478589550914002, 0.00442456441250248, 0.004366780190213919, 0.004305530584845706, 0.004241119718938974, 0.004173860211720741, 0.004104071227661722, 0.004032076515078142, 0.003958202450968032, 0.003882776107862662, 0.0038061233579044246, 0.003728567028643506, 0.003650425124187271, 0.0035720091243579685, 0.0034936223734248727, 0.0034155585687991007, 0.0033381003588253584, 0.003261518057495551, 0.0031860684825599952, 0.003111993922142511, 0.0030395212335921976, 0.0029688610769428225, 0.0029002072840195263, 0.0028337363629428298, 0.0027696071365480783, 0.002707960512076384, 0.0026489193784095828, 0.00259258862612908, 0.002539055284781387, 0.002488388770939502, 0.002440641239961985, 0.002395848033774713, 0.002354028216532793, 0.002315185189663915, 0.002279307377545466, 0.0022463689749237206, 0.0022163307471406222, 0.00218914087428436, 0.0021647358305203466, 0.0021430412900803036, 0.002123973051681542, 0.0021074379735085604, 0.0020933349113053472, 0.0020815556525911496, 0.002071985840515817, 0.002064505881404633, 0.0020589918305988554, 0.00205531625176733, 0.0020533490454414036, 0.002052958243099677, 0.002054010763697625, 0.002056373130089875, 0.002059912143329132, 0.0020644955133361604, 0.002069992444919413, 0.002076274178575484, 0.002083214485920976, 0.002090690119989719, 0.002098581220976467, 0.0021067716783171276, 0.0021151494502671376, 0.0021236068423735295, 0.002132040746433604, 0.0021403528416946544, 0.002148449760177326, 0.002156243218100682, 0.0021636501154527945, 0.002170592605788745, 0.0021769981383501415, 0.0021827994745905756, 0.0021879346811606226, 0.002192347101357969, 0.0021959853069852676, 0.002198803032482237, 0.002200759093113023, 0.002201817288895645, 0.0022019462958610524, 0.00220111954612635, 0.0021993150981611917, 0.0021965154985219694, 0.002192707636224221, 0.0021878825908224347, 0.002182035475170019, 0.00217516527373849, 0.0021672746772892154, 0.0021583699146094162, 0.0021484605819500637, 0.0021375594707362918, 0.0021256823940600396, 0.0021128480124115072, 0.0020990776590594095, 0.0020843951654502335, 0.002068826686962715, 0.0020524005293269206, 0.0020351469759942583, 0.002017098116728387, 0.0019982876776737323, 0.0019787508531495497, 0.001958524139411982, 0.0019376451706234455, 0.0019161525572675088, 0.0018940857272487883, 0.0018714847699180161, 0.0018483902832652221, 0.0018248432245258476, 0.0018008847644458963, 0.0017765561454538377, 0.0017518985439859967, 0.0017269529372110598, 0.0017017599743961013, 0.0016763598531515968, 0.001650792200786102, 0.0016250959609930068, 0.0015993092860810412, 0.001573469434948066, 0.0015476126769835086, 0.0015217742020693032, 0.0014959880368316724, 0.0014702869672777264, 0.0014447024679310446, 0.0014192646375594928, 0.00139400214156739, 0.0013689421611013974, 0.0013441103488977646, 0.0013195307918751687, 0.0012952259804551677, 0.001271216784569408, 0.0012475224362907531, 0.0012241605190034567, 0.0012011469630064384, 0.0011784960474230254, 0.0011562204082707435, 0.0011343310525257172, 0.0011128373779979177, 0.0010917471988164012, 0.0010710667763070075, 0.0010508008550296876, 0.001030952703727899, 0.0010115241609287993, 0.000992515684920251, 0.0009739264078185317, 0.0009557541934297556, 0.0009379956985978429, 0.0009206464377223282, 0.0009037008501213135, 0.000887152369907117, 0.0008709934980357572, 0.0008552158761860756, 0.0008398103621196411, 0.000824767106169654, 0.0008100756285046339, 0.0007957248968122661, 0.0007817034040492441, 0.0007679992459049366, 0.0007546001976307037, 0.000741493789891535, 0.0007286673833041819, 0.0007161082413343333, 0.0007038036012364416, 0.0006917407427320223, 0.0006799070541369998, 0.0006682900956648496, 0.0006568776596506328, 0.0006456578274611137, 0.0006346190228779699, 0.0006237500617646019, 0.0006130401978521458, 0.0006024791645065067, 0.0005920572123658738, 0.0005817651427665976, 0.0005715943369044552, 0.000561536780707912, 0.0005515850854297276, 0.0005417325039928231, 0.0005319729431554484, 0.0005223009715889604, 0.000512711823988833, 0.0005032014013652511, 0.0004937662676837961, 0.0004844036430487157, 0.0004751113936411603, 0.0004658880186419372, 0.0004567326343828278, 0.00044764495598215685, 0.00043862527672862737, 0.00042967444548280587, 0.00042079384236763103, 0.0004119853530179775, 0.0004032513416549561, 0.00039459462324276367, 0.0003860184349753464, 0.0003775264073265011, 0.0003691225348808313, 0.00036081114714441037, 0.0003525968795133599, 0.0003444846445560896, 0.0003364796037412908, 0.0003285871397189398, 0.0003208128292363105, 0.0003131624167455565, 0.00030564178873424106, 0.000298256948785766, 0.0002910139933533641, 0.00028391908820949666, 0.0002769784455127336, 0.00027019830141654155, 0.00026358489412948234, 0.0002571444423241907, 0.0002508831237835201, 0.0002448070541664735, 0.00023892226577429068, 0.00023323468619822766, 0.00022775011673518118, 0.00022247421046555694, 0.0002174124498991475, 0.00021257012410955185, 0.0002079523052952174, 0.00020356382472561303, 0.00019940924805365764, 0.00019549285000030248, 0.00019181858844344017, 0.00018839007797079476, 0.00018521056298458562, 0.00018228289047412082, 0.0001796094826005122, 0.00017719230926495426, 0.00017503286085792156, 0.00017313212141077677, 0.00017149054239311238, 0.00017010801741828004, 0.00016898385813553666, 0.00016811677159971736, 0.00016750483941798257, 0.00016714549897772456, 0.00016703552705993262, 0.00016717102613806413, 0.00016754741365364716, 0.00016815941454645603, 0.0001690010572991663, 0.0001700656737340663, 0.0001713459027728326, 0.00017283369833984144, 0.00017452034155527853, 0.0001763964573268297, 0.00017845203540838502, 0.0001806764559514608, 0.00018305851953046728, 0.0001855864815770531, 0.0001882480911121586, 0.00019103063361768232, 0.00019392097784343964, 0.0001969056262999825, 0.0001999707691444569, 0.00020310234112559325, 0.00020628608121574826, 0.00020950759452311216, 0.00021275241604636056, 0.00021600607580749578, 0.0002192541648768724, 0.00022248240178770318, 0.00022567669882598925, 0.00022882322767598637, 0.00023190848390113806, 0.00023491934974590364, 0.0002378431547550719, 0.00024066773372384564, 0.00024338148151405414, 0.00024597340429900885, 0.0002484331668314872, 0.00025075113536567143, 0.0002529184159041931, 0.00025492688748520847, 0.00025676923027114195, 0.00025843894824980197, 0.0002599303864094111, 0.0002612387423010659, 0.0002623600719546439, 0.0002632912901665808, 0.0002640301652296158, 0.00026457530822497383, 0.00026492615704593427, 0.00026508295536778004, 0.00026504672682226157, 0.0002648192446744426, 0.00026440299733577886, 0.00026380115007912776, 0.00026301750334883586, 0.00026205644808187405, 0.00026092291847403556, 0.00025962234263838526, 0.00025816059161142105, 0.0002565439271658154, 0.0002547789488872457, 0.0002528725409668441, 0.0002508318191503975, 0.0002486640782708802, 0.00024637674077247133, 0.0002439773066122512, 0.0002414733049006391, 0.00023887224761370902, 0.00023618158568022092, 0.00023340866771393996, 0.00023056070162800075, 0.0002276447193331591, 0.00022466754468613708, 0.00022163576481835505, 0.000218555704939513, 0.00021543340667513731, 0.00021227460996266011, 0.00020908473849720152, 0.00020586888868624666, 0.0002026318220421299, 0.00019937796091286744, 0.00019611138742563436, 0.00019283584549321532, 0.00018955474571218952, 0.0001862711729625707, 0.00018298789650213906, 0.0001797073823348508, 0.00017643180762147152, 0.00017316307689196683, 0.0001699028398131217, 0.00016665251026133402, 0.00016341328644941107, 0.00016018617185743138, 0.0001569719967211719, 0.00015377143983715487, 0.00015058505045085517, 0.0001474132700039229, 0.00014425645352724578, 0.0001411148904791226, 0.000137988824841625, 0.00013487847430315722, 0.00013178404837117756, 0.00012870576527579036, 0.0001256438675423274, 0.0001225986361289059, 0.00011957040304313727, 0.0001165595623704701, 0.00011356657966495166, 0.00011059199967128984, 0.00010763645236487628, 0.00010470065731371132, 0.00010178542638282789, 9.889166481772133e-05, 9.602037075830213e-05, 9.317263324892366e-05, 9.034962882295277e-05, 8.755261675209948e-05, 8.478293306117623e-05, 8.204198341809865e-05, 7.933123501667014e-05, 7.665220757601254e-05, 7.400646358535855e-05, 7.139559792632129e-05, 6.882122700669301e-05, 6.628497754033103e-05, 6.378847510678344e-05, 6.133333262206225e-05, 5.892113884842128e-05, 5.655344706624256e-05, 5.4231764025251915e-05, 5.195753928536531e-05, 4.973215504963932e-05, 4.755691658315125e-05, 4.543304330231591e-05, 4.336166060925877e-05, 4.134379253556071e-05, 3.9380355249083215e-05, 3.74721514668123e-05, 3.5619865805859575e-05, 3.382406109403753e-05, 3.208517565092642e-05, 3.0403521540162887e-05, 2.8779283783927347e-05, 2.7212520521374202e-05, 2.5703164084124463e-05, 2.4251022954000763e-05, 2.2855784560984387e-05, 2.151701887297488e-05, 2.0234182723356807e-05, 1.900662481766616e-05, 1.7833591356796417e-05, 1.6714232211206955e-05, 1.5647607578466526e-05, 1.4632695055174955e-05, 1.3668397053808328e-05, 1.2753548495298842e-05, 1.1886924709126175e-05, 1.1067249474318336e-05, 1.0293203136959925e-05, 9.563430742527275e-06, 8.876550124536873e-06, 8.231159894529969e-06, 7.625847282255287e-06, 7.059195778970843e-06, 6.529792541000631e-06, 6.036235514975289e-06, 5.577140250498248e-06, 5.1511463702420295e-06, 4.756923671642736e-06, 4.393177838367653e-06, 4.0586557435423805e-06, 3.7521503302971708e-06, 3.4725050585011527e-06, 3.2186179095713077e-06, 2.98944494395539e-06, 2.7840034082874224e-06, 2.601374391295632e-06, 2.4407050293149448e-06, 2.3012102637273914e-06, 2.182174153844481e-06, 2.0829507496762637e-06, 2.002964529732461e-06, 1.9417104095018115e-06, 1.8987533265937665e-06, 1.8737274087387826e-06, 1.8663347309709624e-06, 1.8763436684001057e-06, 1.9035868510617139e-06, 1.9479587274537824e-06, 2.009412743568588e-06, 2.0879581445437193e-06, 2.1836564065242054e-06, 2.29661730697873e-06, 2.4269946425739153e-06, 2.574981604804742e-06, 2.7408058249224642e-06, 2.9247241013059e-06, 3.127016824291154e-06, 3.3479821156082294e-06, 3.587929701960301e-06, 3.847174544908929e-06, 4.126030252071073e-06, 4.424802297664324e-06, 4.743781083616926e-06, 5.08323487574815e-06, 5.443402652872999e-06, 5.8244869100387315e-06, 6.226646460403006e-06, 6.649989283449283e-06, 7.094565470243295e-06, 7.560360319192823e-06, 8.047287638218807e-06, 8.555183311306569e-06, 9.083799189020029e-06, 9.632797363660586e-06, 1.0201744890279525e-05, 1.0790109014654581e-05, 1.1397252968564503e-05, 1.2022432391206147e-05, 1.266479243335869e-05, 1.3323365597892086e-05, 1.399707036642581e-05, 1.468471065737117e-05, 1.538497615524776e-05, 1.609644354507313e-05, 1.6817578678826596e-05, 1.7546739693523668e-05, 1.8282181092377922e-05, 1.9022058791936412e-05, 1.9764436129047596e-05, 2.0507290812140725e-05, 2.1248522791679454e-05, 2.198596301490227e-05, 2.271738302020687e-05, 2.3440505316891337e-05, 2.415301448656361e-05, 2.485256893350484e-05, 2.5536813202738567e-05, 2.620339077665864e-05, 2.6849957253907943e-05, 2.747419380790605e-05, 2.807382081709097e-05, 2.864661155467295e-05, 2.91904058225675e-05, 2.970312341226097e-05, 3.018277727470574e-05, 3.0627486281990644e-05, 3.103548746549314e-05, 3.140514761850281e-05, 3.1734974155885195e-05, 3.2023625129200197e-05, 3.226991830273865e-05, 3.2472839204128535e-05, 3.263154807239196e-05, 3.274538563650624e-05, 3.281387766851433e-05], \"yaxis\": \"y\"}, {\"legendgroup\": \"healthy\", \"marker\": {\"color\": \"#7EC0EE\"}, \"mode\": \"lines\", \"name\": \"healthy\", \"showlegend\": false, \"type\": \"scatter\", \"x\": [0.0, 1.488, 2.976, 4.464, 5.952, 7.44, 8.928, 10.416, 11.904, 13.392, 14.88, 16.368, 17.856, 19.344, 20.832, 22.32, 23.808, 25.296, 26.784, 28.272, 29.76, 31.248, 32.736, 34.224, 35.712, 37.2, 38.688, 40.176, 41.664, 43.152, 44.64, 46.128, 47.616, 49.104, 50.592, 52.08, 53.568, 55.056, 56.544, 58.032, 59.52, 61.008, 62.496, 63.984, 65.472, 66.96, 68.448, 69.936, 71.424, 72.912, 74.4, 75.888, 77.376, 78.864, 80.352, 81.84, 83.328, 84.816, 86.304, 87.792, 89.28, 90.768, 92.256, 93.744, 95.232, 96.72, 98.208, 99.696, 101.184, 102.672, 104.16, 105.648, 107.136, 108.624, 110.112, 111.6, 113.088, 114.576, 116.064, 117.552, 119.04, 120.528, 122.016, 123.504, 124.992, 126.48, 127.968, 129.456, 130.944, 132.432, 133.92, 135.408, 136.896, 138.384, 139.872, 141.36, 142.848, 144.336, 145.824, 147.312, 148.8, 150.288, 151.776, 153.264, 154.752, 156.24, 157.728, 159.216, 160.704, 162.192, 163.68, 165.168, 166.656, 168.144, 169.632, 171.12, 172.608, 174.096, 175.584, 177.072, 178.56, 180.048, 181.536, 183.024, 184.512, 186.0, 187.488, 188.976, 190.464, 191.952, 193.44, 194.928, 196.416, 197.904, 199.392, 200.88, 202.368, 203.856, 205.344, 206.832, 208.32, 209.808, 211.296, 212.784, 214.272, 215.76, 217.248, 218.736, 220.224, 221.712, 223.2, 224.688, 226.176, 227.664, 229.152, 230.64, 232.128, 233.616, 235.104, 236.592, 238.08, 239.568, 241.056, 242.544, 244.032, 245.52, 247.008, 248.496, 249.984, 251.472, 252.96, 254.448, 255.936, 257.424, 258.912, 260.4, 261.888, 263.376, 264.864, 266.352, 267.84, 269.328, 270.816, 272.304, 273.792, 275.28, 276.768, 278.256, 279.744, 281.232, 282.72, 284.208, 285.696, 287.184, 288.672, 290.16, 291.648, 293.136, 294.624, 296.112, 297.6, 299.088, 300.576, 302.064, 303.552, 305.04, 306.528, 308.016, 309.504, 310.992, 312.48, 313.968, 315.456, 316.944, 318.432, 319.92, 321.408, 322.896, 324.384, 325.872, 327.36, 328.848, 330.336, 331.824, 333.312, 334.8, 336.288, 337.776, 339.264, 340.752, 342.24, 343.728, 345.216, 346.704, 348.192, 349.68, 351.168, 352.656, 354.144, 355.632, 357.12, 358.608, 360.096, 361.584, 363.072, 364.56, 366.048, 367.536, 369.024, 370.512, 372.0, 373.488, 374.976, 376.464, 377.952, 379.44, 380.928, 382.416, 383.904, 385.392, 386.88, 388.368, 389.856, 391.344, 392.832, 394.32, 395.808, 397.296, 398.784, 400.272, 401.76, 403.248, 404.736, 406.224, 407.712, 409.2, 410.688, 412.176, 413.664, 415.152, 416.64, 418.128, 419.616, 421.104, 422.592, 424.08, 425.568, 427.056, 428.544, 430.032, 431.52, 433.008, 434.496, 435.984, 437.472, 438.96, 440.448, 441.936, 443.424, 444.912, 446.4, 447.888, 449.376, 450.864, 452.352, 453.84, 455.328, 456.816, 458.304, 459.792, 461.28, 462.768, 464.256, 465.744, 467.232, 468.72, 470.208, 471.696, 473.184, 474.672, 476.16, 477.648, 479.136, 480.624, 482.112, 483.6, 485.088, 486.576, 488.064, 489.552, 491.04, 492.528, 494.016, 495.504, 496.992, 498.48, 499.968, 501.456, 502.944, 504.432, 505.92, 507.408, 508.896, 510.384, 511.872, 513.36, 514.848, 516.336, 517.824, 519.312, 520.8, 522.288, 523.776, 525.264, 526.752, 528.24, 529.728, 531.216, 532.704, 534.192, 535.68, 537.168, 538.656, 540.144, 541.632, 543.12, 544.608, 546.096, 547.584, 549.072, 550.56, 552.048, 553.536, 555.024, 556.512, 558.0, 559.488, 560.976, 562.464, 563.952, 565.44, 566.928, 568.416, 569.904, 571.392, 572.88, 574.368, 575.856, 577.344, 578.832, 580.32, 581.808, 583.296, 584.784, 586.272, 587.76, 589.248, 590.736, 592.224, 593.712, 595.2, 596.688, 598.176, 599.664, 601.152, 602.64, 604.128, 605.616, 607.104, 608.592, 610.08, 611.568, 613.056, 614.544, 616.032, 617.52, 619.008, 620.496, 621.984, 623.472, 624.96, 626.448, 627.936, 629.424, 630.912, 632.4, 633.888, 635.376, 636.864, 638.352, 639.84, 641.328, 642.816, 644.304, 645.792, 647.28, 648.768, 650.256, 651.744, 653.232, 654.72, 656.208, 657.696, 659.184, 660.672, 662.16, 663.648, 665.136, 666.624, 668.112, 669.6, 671.088, 672.576, 674.064, 675.552, 677.04, 678.528, 680.016, 681.504, 682.992, 684.48, 685.968, 687.456, 688.944, 690.432, 691.92, 693.408, 694.896, 696.384, 697.872, 699.36, 700.848, 702.336, 703.824, 705.312, 706.8, 708.288, 709.776, 711.264, 712.752, 714.24, 715.728, 717.216, 718.704, 720.192, 721.68, 723.168, 724.656, 726.144, 727.632, 729.12, 730.608, 732.096, 733.584, 735.072, 736.56, 738.048, 739.536, 741.024, 742.512], \"xaxis\": \"x\", \"y\": [0.007174873163272603, 0.007209684130008455, 0.007228813601489571, 0.007232485034373508, 0.007221053969935228, 0.007195002556536608, 0.0071549323107474765, 0.007101555252864412, 0.00703568358302259, 0.006958218090619286, 0.0068701355117622535, 0.006772475066435379, 0.00666632441870213, 0.006552805309352941, 0.006433059110911363, 0.006308232549956533, 0.006179463831559304, 0.0060478693856485305, 0.005914531435839702, 0.0057804865682706905, 0.005646715451985971, 0.005514133834135892, 0.005383584903475322, 0.005255833085147575, 0.005131559299282191, 0.005011357686255262, 0.004895733773225466, 0.004785104030379316, 0.004679796741701095, 0.004580054094454722, 0.004486035374238256, 0.0043978211386629445, 0.004315418232521345, 0.004238765500748302, 0.004167740052456795, 0.004102163929668589, 0.004041811037807991, 0.00398641420127162, 0.003935672216064667, 0.003889256782208445, 0.00384681921095402, 0.0038079968153578313, 0.0037724189070657416, 0.0037397123368045314, 0.003709506530720567, 0.0036814379889823206, 0.0036551542266814495, 0.003630317149761317, 0.0036066058702667004, 0.00358371897548179, 0.003561376274396293, 0.003539320052344768, 0.0035173158705863, 0.003495152952046775, 0.0034726441974929512, 0.003449625878130294, 0.003425957051126175, 0.0034015187439827323, 0.0033762129521658388, 0.0033499614920824974, 0.0033227047485435432, 0.003294400352403311, 0.0032650218202732225, 0.0032345571842046367, 0.0032030076351458503, 0.0031703861999157422, 0.0031367164674935876, 0.0031020313766867793, 0.003066372073767414, 0.0030297868455161944, 0.0029923301303145947, 0.0029540616075006843, 0.002915045363166783, 0.002875349128917174, 0.002835043588819611, 0.0027942017488467937, 0.0027528983624966774, 0.002711209405965361, 0.0026692115961960278, 0.00262698194530424, 0.002584597345246874, 0.002542134177126476, 0.002499667940168008, 0.0024572728961394794, 0.0024150217257810705, 0.002372985194632261, 0.0023312318264775327, 0.0022898275834481196, 0.0022488355525999907, 0.0022083156395213653, 0.0021683242701949056, 0.002128914102936137, 0.0020901337527465145, 0.002052027530846546, 0.0020146352024901846, 0.0019779917664001926, 0.0019421272593075128, 0.001907066589122165, 0.0018728294002122766, 0.0018394299741235794, 0.0018068771688363166, 0.0017751743993362128, 0.0017443196618753386, 0.0017143056038258636, 0.001685119640490493, 0.0016567441196401092, 0.0016291565339083163, 0.0016023297804991813, 0.0015762324669674741, 0.0015508292611241883, 0.0015260812824180248, 0.0015019465314580194, 0.0014783803536879158, 0.0014553359326133972, 0.001432764807430406, 0.001410617409419356, 0.0013888436110674383, 0.0013673932815677246, 0.0013462168421283088, 0.0013252658144127431, 0.0013044933554279417, 0.0012838547722797756, 0.0012633080104284048, 0.001242814109391985, 0.0012223376202633916, 0.0012018469799124942, 0.0011813148373365932, 0.0011607183282825795, 0.0011400392949839993, 0.0011192644486196512, 0.0010983854728943935, 0.001077399067951276, 0.0010563069346329098, 0.0010351156999044997, 0.0010138367850169795, 0.0009924862187146043, 0.0009710843984647636, 0.0009496558033001734, 0.0009282286624066407, 0.0009068345840572812, 0.0008855081498831705, 0.0008642864797783688, 0.0008432087729639675, 0.0008223158308834145, 0.0008016495676725244, 0.0007812525139465013, 0.0007611673195791162, 0.0007414362610209227, 0.0007221007585216088, 0.0007032009083919241, 0.000684775035170207, 0.0006668592682529826, 0.0006494871472141912, 0.0006326892596776424, 0.0006164929152265885, 0.0006009218584355724, 0.0005859960236952157, 0.0005717313340718368, 0.0005581395460014488, 0.0005452281411625176, 0.0005330002664032805, 0.0005214547221188024, 0.0005105859989796777, 0.0005003843624102052, 0.0004908359837002707, 0.000481923116115146, 0.0004736243138445479, 0.00046591469111174243, 0.00045876621825147266, 0.00045214805106939533, 0.00044602688932411286, 0.0004403673597350891, 0.00043513241852593555, 0.0004302837681729654, 0.00042578228275409904, 0.0004215884360931537, 0.00041766272677841654, 0.00041396609411039844, 0.00041046031910812493, 0.00040710840488081783, 0.00040387493095463774, 0.0004007263765319986, 0.00039763140815082614, 0.0003945611277973472, 0.0003914892781998849, 0.00038839240278147445, 0.00038524995856206045, 0.0003820443811605354, 0.0003787611019349731, 0.0003753885181967246, 0.0003719179183202627, 0.00036834336442505413, 0.00036466153610787604, 0.0003608715394341263, 0.00035697468603652433, 0.0003529742477028603, 0.00034887519224712567, 0.00034468390673962515, 0.00034040791431366583, 0.00033605559076516084, 0.0003316358870164376, 0.000327158063230176, 0.00032263143994076284, 0.0003180651710292061, 0.0003134680427180232, 0.00030884830202121107, 0.0003042135172708268, 0.00029957047247725137, 0.0002949250963874291, 0.00029028242620768524, 0.0002856466050783554, 0.0002810209115492266, 0.0002764078185289777, 0.00027180907848805706, 0.00026722583109972247, 0.0002626587290225649, 0.00025810807717055435, 0.00025357398059088187, 0.00024905649597917136, 0.00024455578190581834, 0.0002400722430023535, 0.0002356066636552966, 0.00023116032716621825, 0.00022673511684688662, 0.00022233359611130963, 0.00021795906528400665, 0.00021361559354645627, 0.0002093080251710152, 0.00020504195992322434, 0.00020082370822920172, 0.00019666022238570109, 0.00019255900571882607, 0.00018852800215777324, 0.00018457546916915847, 0.0001807098373849722, 0.00017693956054549005, 0.0001732729595629828, 0.00016971806459141286, 0.0001662824589630061, 0.0001629731287290497, 0.00015979632132648183, 0.00015675741659308142, 0.00015386081298354728, 0.00015110983140919078, 0.00014850663864913156, 0.00014605219177520504, 0.00014374620451082498, 0.00014158713592011662, 0.00013957220131139854, 0.00013769740475115134, 0.00013595759213226406, 0.00013434652333327976, 0.0001328569616514718, 0.00013148077839788554, 0.0001302090703110004, 0.00012903228727948764, 0.00012794036776383406, 0.0001269228792697666, 0.00012596916125023978, 0.00012506846789259133, 0.00012421010837752633, 0.00012338358237011022, 0.00012257870871250457, 0.00012178574552596225, 0.00012099550018760683, 0.0001201994279178934, 0.00011938971798978985, 0.00011855936684358143, 0.00011770223765539698, 0.000116813106157505, 0.00011588769273948799, 0.0001149226810678809, 0.00011391572364510542, 0.00011286543488488454, 0.0001117713724101237, 0.00011063400738075327, 0.00010945468473434045, 0.00010823557427324603, 0.00010697961356118514, 0.0001056904436021936, 0.00010437233826951198, 0.00010303012843426251, 0.00010166912171756485, 0.00010029501875837596, 9.891382685608148e-05, 9.753177181460612e-05, 9.61552087859801e-05, 9.479053288779055e-05, 9.344409035203885e-05, 9.212209095323036e-05, 9.083052246098517e-05, 8.957506786632807e-05, 8.836102613972397e-05, 8.719323729089306e-05, 8.607601251300414e-05, 8.501307020413722e-05, 8.400747866378719e-05, 8.306160625837754e-05, 8.217707983402147e-05, 8.135475212402363e-05, 8.059467885012876e-05, 7.98961061480366e-05, 7.925746885758049e-05, 7.86764001053294e-05, 7.814975247216979e-05, 7.767363088151253e-05, 7.724343716695841e-05, 7.685392608427786e-05, 7.649927232506965e-05, 7.617314787292222e-05, 7.58688088225006e-05, 7.557919056347688e-05, 7.529701002076606e-05, 7.50148734464809e-05, 7.472538808371858e-05, 7.442127587386157e-05, 7.409548726316752e-05, 7.37413130860416e-05, 7.335249246565938e-05, 7.29233146806366e-05, 7.244871300114327e-05, 7.19243485998744e-05, 7.134668279189902e-05, 7.071303605054841e-05, 7.002163248075176e-05, 6.927162870190512e-05, 6.846312639363723e-05, 6.759716808288382e-05, 6.667571609187407e-05, 6.570161491573647e-05, 6.467853764689122e-05, 6.361091740252105e-05, 6.250386503270087e-05, 6.136307468208437e-05, 6.019471903992861e-05, 5.9005336335042216e-05, 5.780171130839824e-05, 5.6590752522256143e-05, 5.537936843761116e-05, 5.417434470995549e-05, 5.298222511640628e-05, 5.180919843640997e-05, 5.066099346596518e-05, 4.9542784155440364e-05, 4.8459106628554705e-05, 4.7413789570913196e-05, 4.6409899177466896e-05, 4.5449699526836194e-05, 4.453462891449855e-05, 4.366529233448506e-05, 4.2841469958583326e-05, 4.2062141130996787e-05, 4.132552308248931e-05, 4.06291232781603e-05, 3.9969804053349404e-05, 3.934385796805824e-05, 3.8747092126028994e-05, 3.817491956347649e-05, 3.762245571656908e-05, 3.708461792706847e-05, 3.655622594193033e-05, 3.603210140387162e-05, 3.5507164413655756e-05, 3.4976525367884205e-05, 3.4435570434349074e-05, 3.3880039215699245e-05, 3.3306093365951264e-05, 3.271037515744649e-05, 3.209005524218536e-05, 3.144286910490043e-05, 3.076714195968033e-05, 3.0061802091527774e-05, 2.9326382883391045e-05, 2.856101399287018e-05, 2.77664023464824e-05, 2.6943803799248196e-05, 2.6094986460368582e-05, 2.5222186809600134e-05, 2.4328059822142663e-05, 2.3415624381766642e-05, 2.2488205292660698e-05, 2.1549373200970507e-05, 2.0602883708795624e-05, 1.965261690871997e-05, 1.8702518488475768e-05, 1.7756543456238535e-05, 1.6818603420760445e-05, 1.58925182307526e-05, 1.4981972638363858e-05, 1.4090478506043002e-05, 1.3221342928134009e-05, 1.2377642491707703e-05, 1.1562203758524368e-05, 1.0777589914508703e-05, 1.0026093407130496e-05, 9.30973427667134e-06, 8.630263786103199e-06, 7.9891728673854e-06, 7.387704830127105e-06, 6.826871722113311e-06, 6.307473690113699e-06, 5.8301206633453315e-06, 5.395255670305876e-06, 5.003179101594942e-06, 4.6540732457699244e-06, 4.3480264511113866e-06, 4.085056302187135e-06, 3.865131245079648e-06, 3.6881901478467492e-06, 3.5541593420452895e-06, 3.462966755831605e-06, 3.414552818214348e-06, 3.4088778864962225e-06, 3.445926023901932e-06, 3.5257050310093586e-06, 3.648242712089191e-06, 3.813579435051894e-06, 4.0217571206439564e-06, 4.272804872059618e-06, 4.566721529434091e-06, 4.9034555039084435e-06, 5.2828823121842585e-06, 5.7047802937380355e-06, 6.168805048082205e-06, 6.674463177540742e-06, 7.221085960793449e-06, 7.807803612778535e-06, 8.433520806273111e-06, 9.096894138515047e-06, 9.796312221591226e-06, 1.0529879057169301e-05, 1.1295401323844512e-05, 1.209038015853141e-05, 1.2912007951845269e-05, 1.375717060153976e-05, 1.4622455578388448e-05, 1.5504166056424913e-05, 1.639834124557055e-05, 1.730078294118981e-05, 1.8207088174176328e-05, 1.911268770934112e-05, 2.0012890001959935e-05, 2.0902930085445385e-05, 2.1778022730488723e-05, 2.263341909103956e-05, 2.3464465938512143e-05, 2.426666648591427e-05, 2.50357417212628e-05, 2.5767691107495656e-05, 2.6458851466520774e-05, 2.7105952850028987e-05, 2.7706170210639978e-05, 2.8257169724671933e-05, 2.8757148682472553e-05, 2.9204867953314977e-05, 2.9599676148126288e-05, 2.994152474290767e-05, 3.023097358608146e-05, 3.0469186391045887e-05, 3.065791600727431e-05, 3.079947946527578e-05, 3.089672299819712e-05, 3.095297745113149e-05, 3.097200469351807e-05, 3.09579358456022e-05, 3.0915202312126034e-05, 3.084846078084537e-05, 3.0762513486086084e-05, 3.066222515480143e-05, 3.05524381414672e-05, 3.043788731629171e-05, 3.0323116296960158e-05, 3.021239660655578e-05, 3.0109651299258533e-05, 3.0018384521534896e-05, 2.9941618371193108e-05, 2.988183828199895e-05, 2.984094800033098e-05, 2.9820235036013258e-05, 2.98203472659514e-05, 2.9841281150909473e-05, 2.988238179743976e-05, 2.9942354863585988e-05, 3.0019290073610116e-05, 3.0110695878732673e-05, 3.0213544582692265e-05, 3.0324327047559827e-05, 3.0439115911073638e-05, 3.055363608574165e-05, 3.066334117549055e-05, 3.0763494340520236e-05, 3.084925206735128e-05, 3.091574926021139e-05, 3.095818406250559e-05, 3.097190084299453e-05, 3.095246983953334e-05, 3.089576204212675e-05, 3.079801801425953e-05, 3.065590949395311e-05, 3.0466592780208067e-05], \"yaxis\": \"y\"}, {\"legendgroup\": \"diabetic\", \"marker\": {\"color\": \"#FFD700\", \"symbol\": \"line-ns-open\"}, \"mode\": \"markers\", \"name\": \"diabetic\", \"showlegend\": false, \"type\": \"scatter\", \"x\": [0, 0, 168, 88, 543, 0, 0, 846, 175, 0, 230, 0, 96, 0, 0, 146, 115, 0, 245, 0, 0, 207, 240, 0, 0, 300, 304, 0, 0, 0, 90, 0, 0, 0, 110, 0, 220, 0, 36, 135, 495, 175, 0, 0, 100, 0, 99, 145, 0, 168, 0, 225, 0, 155, 0, 0, 114, 0, 156, 0, 130, 130, 130, 0, 0, 495, 58, 114, 160, 0, 0, 210, 48, 99, 318, 280, 0, 0, 130, 175, 271, 129, 0, 0, 478, 0, 0, 0, 370, 0, 192, 0, 0, 0, 176, 0, 258, 0, 150, 0, 0, 0, 0, 0, 0, 0, 0, 0, 220, 74, 182, 194, 360, 184, 0, 135, 0, 132, 180, 205, 96, 0, 0, 0, 0, 0, 29, 156, 120, 0, 0, 171, 0, 0, 0, 167, 0, 249, 325, 0, 0, 140, 465, 325, 0, 0, 0, 285, 0, 0, 0, 0, 0, 88, 0, 0, 0, 579, 167, 474, 0, 115, 210, 277, 180, 180, 0, 0, 0, 0, 14, 64, 0, 0, 237, 0, 191, 328, 0, 250, 122, 145, 0, 90, 0, 105, 165, 0, 0, 155, 215, 190, 0, 225, 207, 0, 274, 165, 0, 0, 0, 600, 0, 156, 0, 0, 185, 0, 126, 0, 293, 194, 321, 144, 0, 0, 0, 0, 91, 0, 144, 159, 130, 540, 70, 0, 231, 130, 0, 0, 0, 0, 0, 0, 0, 0, 180, 0, 125, 480, 125, 0, 0, 0, 0, 160, 0, 392, 185, 0, 127, 79, 0, 120, 0, 150, 0, 0, 200, 0, 0, 510, 0, 110, 0, 0, 0, 0], \"xaxis\": \"x\", \"y\": [\"diabetic\", \"diabetic\", \"diabetic\", \"diabetic\", \"diabetic\", \"diabetic\", \"diabetic\", \"diabetic\", \"diabetic\", \"diabetic\", \"diabetic\", \"diabetic\", \"diabetic\", \"diabetic\", \"diabetic\", \"diabetic\", \"diabetic\", \"diabetic\", \"diabetic\", \"diabetic\", \"diabetic\", \"diabetic\", \"diabetic\", \"diabetic\", \"diabetic\", \"diabetic\", \"diabetic\", \"diabetic\", \"diabetic\", \"diabetic\", \"diabetic\", \"diabetic\", \"diabetic\", \"diabetic\", \"diabetic\", \"diabetic\", \"diabetic\", \"diabetic\", \"diabetic\", \"diabetic\", \"diabetic\", \"diabetic\", \"diabetic\", \"diabetic\", \"diabetic\", \"diabetic\", \"diabetic\", \"diabetic\", \"diabetic\", \"diabetic\", \"diabetic\", \"diabetic\", \"diabetic\", \"diabetic\", \"diabetic\", \"diabetic\", \"diabetic\", \"diabetic\", \"diabetic\", \"diabetic\", \"diabetic\", \"diabetic\", \"diabetic\", \"diabetic\", \"diabetic\", \"diabetic\", \"diabetic\", \"diabetic\", \"diabetic\", \"diabetic\", \"diabetic\", \"diabetic\", \"diabetic\", \"diabetic\", \"diabetic\", \"diabetic\", \"diabetic\", \"diabetic\", \"diabetic\", \"diabetic\", \"diabetic\", \"diabetic\", \"diabetic\", \"diabetic\", \"diabetic\", \"diabetic\", \"diabetic\", \"diabetic\", \"diabetic\", \"diabetic\", \"diabetic\", \"diabetic\", \"diabetic\", \"diabetic\", \"diabetic\", \"diabetic\", \"diabetic\", \"diabetic\", \"diabetic\", \"diabetic\", \"diabetic\", \"diabetic\", \"diabetic\", \"diabetic\", \"diabetic\", \"diabetic\", \"diabetic\", \"diabetic\", \"diabetic\", \"diabetic\", \"diabetic\", \"diabetic\", \"diabetic\", \"diabetic\", \"diabetic\", \"diabetic\", \"diabetic\", \"diabetic\", \"diabetic\", \"diabetic\", \"diabetic\", \"diabetic\", \"diabetic\", \"diabetic\", \"diabetic\", \"diabetic\", \"diabetic\", \"diabetic\", \"diabetic\", \"diabetic\", \"diabetic\", \"diabetic\", \"diabetic\", \"diabetic\", \"diabetic\", \"diabetic\", \"diabetic\", \"diabetic\", \"diabetic\", \"diabetic\", \"diabetic\", \"diabetic\", \"diabetic\", \"diabetic\", \"diabetic\", \"diabetic\", \"diabetic\", \"diabetic\", \"diabetic\", \"diabetic\", \"diabetic\", \"diabetic\", \"diabetic\", \"diabetic\", \"diabetic\", \"diabetic\", \"diabetic\", \"diabetic\", \"diabetic\", \"diabetic\", \"diabetic\", \"diabetic\", \"diabetic\", \"diabetic\", \"diabetic\", \"diabetic\", \"diabetic\", \"diabetic\", \"diabetic\", \"diabetic\", \"diabetic\", \"diabetic\", \"diabetic\", \"diabetic\", \"diabetic\", \"diabetic\", \"diabetic\", \"diabetic\", \"diabetic\", \"diabetic\", \"diabetic\", \"diabetic\", \"diabetic\", \"diabetic\", \"diabetic\", \"diabetic\", \"diabetic\", \"diabetic\", \"diabetic\", \"diabetic\", \"diabetic\", \"diabetic\", \"diabetic\", \"diabetic\", \"diabetic\", \"diabetic\", \"diabetic\", \"diabetic\", \"diabetic\", \"diabetic\", \"diabetic\", \"diabetic\", \"diabetic\", \"diabetic\", \"diabetic\", \"diabetic\", \"diabetic\", \"diabetic\", \"diabetic\", \"diabetic\", \"diabetic\", \"diabetic\", \"diabetic\", \"diabetic\", \"diabetic\", \"diabetic\", \"diabetic\", \"diabetic\", \"diabetic\", \"diabetic\", \"diabetic\", \"diabetic\", \"diabetic\", \"diabetic\", \"diabetic\", \"diabetic\", \"diabetic\", \"diabetic\", \"diabetic\", \"diabetic\", \"diabetic\", \"diabetic\", \"diabetic\", \"diabetic\", \"diabetic\", \"diabetic\", \"diabetic\", \"diabetic\", \"diabetic\", \"diabetic\", \"diabetic\", \"diabetic\", \"diabetic\", \"diabetic\", \"diabetic\", \"diabetic\", \"diabetic\", \"diabetic\", \"diabetic\", \"diabetic\", \"diabetic\", \"diabetic\", \"diabetic\", \"diabetic\", \"diabetic\", \"diabetic\", \"diabetic\", \"diabetic\", \"diabetic\", \"diabetic\", \"diabetic\", \"diabetic\", \"diabetic\", \"diabetic\", \"diabetic\", \"diabetic\", \"diabetic\", \"diabetic\"], \"yaxis\": \"y2\"}, {\"legendgroup\": \"healthy\", \"marker\": {\"color\": \"#7EC0EE\", \"symbol\": \"line-ns-open\"}, \"mode\": \"markers\", \"name\": \"healthy\", \"showlegend\": false, \"type\": \"scatter\", \"x\": [0, 94, 0, 0, 0, 0, 83, 235, 0, 140, 110, 0, 0, 54, 0, 0, 192, 0, 70, 0, 0, 0, 0, 0, 0, 82, 36, 23, 342, 0, 110, 0, 142, 0, 0, 128, 0, 0, 38, 100, 140, 270, 0, 0, 0, 0, 0, 0, 0, 71, 0, 125, 0, 71, 0, 0, 176, 48, 64, 228, 0, 76, 64, 0, 0, 40, 0, 152, 0, 140, 18, 37, 0, 0, 0, 51, 0, 100, 0, 135, 94, 0, 49, 140, 50, 92, 0, 325, 0, 0, 63, 284, 0, 0, 119, 0, 0, 204, 0, 485, 94, 135, 53, 0, 105, 285, 0, 0, 0, 0, 78, 0, 48, 55, 0, 0, 0, 92, 23, 0, 0, 0, 94, 0, 0, 0, 0, 0, 44, 190, 0, 87, 0, 0, 0, 120, 0, 190, 56, 32, 0, 744, 53, 37, 0, 45, 0, 0, 88, 194, 0, 680, 402, 0, 0, 0, 55, 0, 0, 0, 375, 130, 0, 0, 67, 0, 0, 56, 0, 45, 0, 57, 116, 0, 278, 122, 155, 135, 545, 49, 75, 40, 0, 120, 215, 0, 42, 0, 105, 148, 0, 148, 85, 94, 64, 140, 231, 0, 168, 0, 68, 0, 52, 0, 58, 255, 0, 105, 73, 0, 0, 0, 108, 83, 0, 74, 0, 0, 0, 43, 0, 54, 0, 0, 293, 83, 0, 66, 89, 66, 94, 158, 84, 75, 72, 82, 0, 182, 59, 110, 50, 81, 196, 415, 87, 275, 115, 0, 0, 0, 165, 0, 0, 176, 310, 61, 0, 0, 170, 76, 78, 0, 0, 145, 0, 85, 60, 0, 0, 0, 0, 0, 0, 50, 120, 70, 92, 63, 95, 210, 0, 105, 0, 71, 60, 56, 0, 49, 0, 0, 105, 36, 100, 140, 0, 0, 0, 0, 0, 0, 110, 75, 0, 0, 49, 125, 480, 265, 0, 0, 66, 0, 0, 0, 0, 0, 76, 193, 71, 0, 79, 0, 0, 170, 76, 0, 210, 0, 0, 86, 0, 0, 326, 66, 130, 0, 0, 0, 82, 105, 188, 0, 106, 0, 65, 0, 56, 0, 0, 210, 56, 76, 166, 67, 0, 0, 106, 0, 44, 115, 215, 0, 0, 0, 0, 77, 54, 0, 88, 18, 126, 126, 0, 0, 44, 120, 330, 63, 130, 0, 0, 0, 0, 0, 0, 0, 140, 115, 230, 0, 25, 120, 0, 0, 0, 0, 41, 272, 182, 158, 0, 0, 0, 15, 160, 0, 0, 115, 0, 54, 0, 0, 0, 0, 90, 0, 183, 0, 0, 66, 46, 105, 0, 0, 152, 440, 0, 100, 106, 77, 0, 135, 90, 200, 0, 0, 132, 190, 100, 168, 0, 49, 240, 0, 0, 265, 45, 105, 0, 205, 0, 0, 180, 0, 95, 0, 0, 155, 0, 200, 0, 100, 0, 335, 387, 22, 291, 0, 0, 178, 0, 200, 105, 0, 0, 180, 0, 0, 0, 165, 0, 0, 120, 0, 160, 94, 116, 140, 105, 57, 74, 0, 0, 0, 16, 0, 180, 0, 112, 0], \"xaxis\": \"x\", \"y\": [\"healthy\", \"healthy\", \"healthy\", \"healthy\", \"healthy\", \"healthy\", \"healthy\", \"healthy\", \"healthy\", \"healthy\", \"healthy\", \"healthy\", \"healthy\", \"healthy\", \"healthy\", \"healthy\", \"healthy\", \"healthy\", \"healthy\", \"healthy\", \"healthy\", \"healthy\", \"healthy\", \"healthy\", \"healthy\", \"healthy\", \"healthy\", \"healthy\", \"healthy\", \"healthy\", \"healthy\", \"healthy\", \"healthy\", \"healthy\", \"healthy\", \"healthy\", \"healthy\", \"healthy\", \"healthy\", \"healthy\", \"healthy\", \"healthy\", \"healthy\", \"healthy\", \"healthy\", \"healthy\", \"healthy\", \"healthy\", \"healthy\", \"healthy\", \"healthy\", \"healthy\", \"healthy\", \"healthy\", \"healthy\", \"healthy\", \"healthy\", \"healthy\", \"healthy\", \"healthy\", \"healthy\", \"healthy\", \"healthy\", \"healthy\", \"healthy\", \"healthy\", \"healthy\", \"healthy\", \"healthy\", \"healthy\", \"healthy\", \"healthy\", \"healthy\", \"healthy\", \"healthy\", \"healthy\", \"healthy\", \"healthy\", \"healthy\", \"healthy\", \"healthy\", \"healthy\", \"healthy\", \"healthy\", \"healthy\", \"healthy\", \"healthy\", \"healthy\", \"healthy\", \"healthy\", \"healthy\", \"healthy\", \"healthy\", \"healthy\", \"healthy\", \"healthy\", \"healthy\", \"healthy\", \"healthy\", \"healthy\", \"healthy\", \"healthy\", \"healthy\", \"healthy\", \"healthy\", \"healthy\", \"healthy\", \"healthy\", \"healthy\", \"healthy\", \"healthy\", \"healthy\", \"healthy\", \"healthy\", \"healthy\", \"healthy\", \"healthy\", \"healthy\", \"healthy\", \"healthy\", \"healthy\", \"healthy\", \"healthy\", \"healthy\", \"healthy\", \"healthy\", \"healthy\", \"healthy\", \"healthy\", \"healthy\", \"healthy\", \"healthy\", \"healthy\", \"healthy\", \"healthy\", \"healthy\", \"healthy\", \"healthy\", \"healthy\", \"healthy\", \"healthy\", \"healthy\", \"healthy\", \"healthy\", \"healthy\", \"healthy\", \"healthy\", \"healthy\", \"healthy\", \"healthy\", \"healthy\", \"healthy\", \"healthy\", \"healthy\", \"healthy\", \"healthy\", \"healthy\", \"healthy\", \"healthy\", \"healthy\", \"healthy\", \"healthy\", \"healthy\", \"healthy\", \"healthy\", \"healthy\", \"healthy\", \"healthy\", \"healthy\", \"healthy\", \"healthy\", \"healthy\", \"healthy\", \"healthy\", \"healthy\", \"healthy\", \"healthy\", \"healthy\", \"healthy\", \"healthy\", \"healthy\", \"healthy\", \"healthy\", \"healthy\", \"healthy\", \"healthy\", \"healthy\", \"healthy\", \"healthy\", \"healthy\", \"healthy\", \"healthy\", \"healthy\", \"healthy\", \"healthy\", \"healthy\", \"healthy\", \"healthy\", \"healthy\", \"healthy\", \"healthy\", \"healthy\", \"healthy\", \"healthy\", \"healthy\", \"healthy\", \"healthy\", \"healthy\", \"healthy\", \"healthy\", \"healthy\", \"healthy\", \"healthy\", \"healthy\", \"healthy\", \"healthy\", \"healthy\", \"healthy\", \"healthy\", \"healthy\", \"healthy\", \"healthy\", \"healthy\", \"healthy\", \"healthy\", \"healthy\", \"healthy\", \"healthy\", \"healthy\", \"healthy\", \"healthy\", \"healthy\", \"healthy\", \"healthy\", \"healthy\", \"healthy\", \"healthy\", \"healthy\", \"healthy\", \"healthy\", \"healthy\", \"healthy\", \"healthy\", \"healthy\", \"healthy\", \"healthy\", \"healthy\", \"healthy\", \"healthy\", \"healthy\", \"healthy\", \"healthy\", \"healthy\", \"healthy\", \"healthy\", \"healthy\", \"healthy\", \"healthy\", \"healthy\", \"healthy\", \"healthy\", \"healthy\", \"healthy\", \"healthy\", \"healthy\", \"healthy\", \"healthy\", \"healthy\", \"healthy\", \"healthy\", \"healthy\", \"healthy\", \"healthy\", \"healthy\", \"healthy\", \"healthy\", \"healthy\", \"healthy\", \"healthy\", \"healthy\", \"healthy\", \"healthy\", \"healthy\", \"healthy\", \"healthy\", \"healthy\", \"healthy\", \"healthy\", \"healthy\", \"healthy\", \"healthy\", \"healthy\", \"healthy\", \"healthy\", \"healthy\", \"healthy\", \"healthy\", \"healthy\", \"healthy\", \"healthy\", \"healthy\", \"healthy\", \"healthy\", \"healthy\", \"healthy\", \"healthy\", \"healthy\", \"healthy\", \"healthy\", \"healthy\", \"healthy\", \"healthy\", \"healthy\", \"healthy\", \"healthy\", \"healthy\", \"healthy\", \"healthy\", \"healthy\", \"healthy\", \"healthy\", \"healthy\", \"healthy\", \"healthy\", \"healthy\", \"healthy\", \"healthy\", \"healthy\", \"healthy\", \"healthy\", \"healthy\", \"healthy\", \"healthy\", \"healthy\", \"healthy\", \"healthy\", \"healthy\", \"healthy\", \"healthy\", \"healthy\", \"healthy\", \"healthy\", \"healthy\", \"healthy\", \"healthy\", \"healthy\", \"healthy\", \"healthy\", \"healthy\", \"healthy\", \"healthy\", \"healthy\", \"healthy\", \"healthy\", \"healthy\", \"healthy\", \"healthy\", \"healthy\", \"healthy\", \"healthy\", \"healthy\", \"healthy\", \"healthy\", \"healthy\", \"healthy\", \"healthy\", \"healthy\", \"healthy\", \"healthy\", \"healthy\", \"healthy\", \"healthy\", \"healthy\", \"healthy\", \"healthy\", \"healthy\", \"healthy\", \"healthy\", \"healthy\", \"healthy\", \"healthy\", \"healthy\", \"healthy\", \"healthy\", \"healthy\", \"healthy\", \"healthy\", \"healthy\", \"healthy\", \"healthy\", \"healthy\", \"healthy\", \"healthy\", \"healthy\", \"healthy\", \"healthy\", \"healthy\", \"healthy\", \"healthy\", \"healthy\", \"healthy\", \"healthy\", \"healthy\", \"healthy\", \"healthy\", \"healthy\", \"healthy\", \"healthy\", \"healthy\", \"healthy\", \"healthy\", \"healthy\", \"healthy\", \"healthy\", \"healthy\", \"healthy\", \"healthy\", \"healthy\", \"healthy\", \"healthy\", \"healthy\", \"healthy\", \"healthy\", \"healthy\", \"healthy\", \"healthy\", \"healthy\", \"healthy\", \"healthy\", \"healthy\", \"healthy\", \"healthy\", \"healthy\", \"healthy\", \"healthy\", \"healthy\", \"healthy\", \"healthy\", \"healthy\", \"healthy\", \"healthy\", \"healthy\", \"healthy\", \"healthy\", \"healthy\", \"healthy\", \"healthy\", \"healthy\", \"healthy\", \"healthy\", \"healthy\", \"healthy\", \"healthy\", \"healthy\", \"healthy\", \"healthy\", \"healthy\", \"healthy\", \"healthy\", \"healthy\", \"healthy\", \"healthy\", \"healthy\", \"healthy\", \"healthy\", \"healthy\", \"healthy\", \"healthy\", \"healthy\", \"healthy\", \"healthy\", \"healthy\", \"healthy\", \"healthy\", \"healthy\", \"healthy\", \"healthy\", \"healthy\", \"healthy\", \"healthy\", \"healthy\", \"healthy\", \"healthy\", \"healthy\", \"healthy\", \"healthy\", \"healthy\", \"healthy\", \"healthy\", \"healthy\", \"healthy\", \"healthy\", \"healthy\", \"healthy\", \"healthy\", \"healthy\", \"healthy\", \"healthy\", \"healthy\", \"healthy\"], \"yaxis\": \"y2\"}],\n",
       "                        {\"barmode\": \"overlay\", \"hovermode\": \"closest\", \"legend\": {\"traceorder\": \"reversed\"}, \"template\": {\"data\": {\"bar\": [{\"error_x\": {\"color\": \"#2a3f5f\"}, \"error_y\": {\"color\": \"#2a3f5f\"}, \"marker\": {\"line\": {\"color\": \"#E5ECF6\", \"width\": 0.5}}, \"type\": \"bar\"}], \"barpolar\": [{\"marker\": {\"line\": {\"color\": \"#E5ECF6\", \"width\": 0.5}}, \"type\": \"barpolar\"}], \"carpet\": [{\"aaxis\": {\"endlinecolor\": \"#2a3f5f\", \"gridcolor\": \"white\", \"linecolor\": \"white\", \"minorgridcolor\": \"white\", \"startlinecolor\": \"#2a3f5f\"}, \"baxis\": {\"endlinecolor\": \"#2a3f5f\", \"gridcolor\": \"white\", \"linecolor\": \"white\", \"minorgridcolor\": \"white\", \"startlinecolor\": \"#2a3f5f\"}, \"type\": \"carpet\"}], \"choropleth\": [{\"colorbar\": {\"outlinewidth\": 0, \"ticks\": \"\"}, \"type\": \"choropleth\"}], \"contour\": [{\"colorbar\": {\"outlinewidth\": 0, \"ticks\": \"\"}, \"colorscale\": [[0.0, \"#0d0887\"], [0.1111111111111111, \"#46039f\"], [0.2222222222222222, \"#7201a8\"], [0.3333333333333333, \"#9c179e\"], [0.4444444444444444, \"#bd3786\"], [0.5555555555555556, \"#d8576b\"], [0.6666666666666666, \"#ed7953\"], [0.7777777777777778, \"#fb9f3a\"], [0.8888888888888888, \"#fdca26\"], [1.0, \"#f0f921\"]], \"type\": \"contour\"}], \"contourcarpet\": [{\"colorbar\": {\"outlinewidth\": 0, \"ticks\": \"\"}, \"type\": \"contourcarpet\"}], \"heatmap\": [{\"colorbar\": {\"outlinewidth\": 0, \"ticks\": \"\"}, \"colorscale\": [[0.0, \"#0d0887\"], [0.1111111111111111, \"#46039f\"], [0.2222222222222222, \"#7201a8\"], [0.3333333333333333, \"#9c179e\"], [0.4444444444444444, \"#bd3786\"], [0.5555555555555556, \"#d8576b\"], [0.6666666666666666, \"#ed7953\"], [0.7777777777777778, \"#fb9f3a\"], [0.8888888888888888, \"#fdca26\"], [1.0, \"#f0f921\"]], \"type\": \"heatmap\"}], \"heatmapgl\": [{\"colorbar\": {\"outlinewidth\": 0, \"ticks\": \"\"}, \"colorscale\": [[0.0, \"#0d0887\"], [0.1111111111111111, \"#46039f\"], [0.2222222222222222, \"#7201a8\"], [0.3333333333333333, \"#9c179e\"], [0.4444444444444444, \"#bd3786\"], [0.5555555555555556, \"#d8576b\"], [0.6666666666666666, \"#ed7953\"], [0.7777777777777778, \"#fb9f3a\"], [0.8888888888888888, \"#fdca26\"], [1.0, \"#f0f921\"]], \"type\": \"heatmapgl\"}], \"histogram\": [{\"marker\": {\"colorbar\": {\"outlinewidth\": 0, \"ticks\": \"\"}}, \"type\": \"histogram\"}], \"histogram2d\": [{\"colorbar\": {\"outlinewidth\": 0, \"ticks\": \"\"}, \"colorscale\": [[0.0, \"#0d0887\"], [0.1111111111111111, \"#46039f\"], [0.2222222222222222, \"#7201a8\"], [0.3333333333333333, \"#9c179e\"], [0.4444444444444444, \"#bd3786\"], [0.5555555555555556, \"#d8576b\"], [0.6666666666666666, \"#ed7953\"], [0.7777777777777778, \"#fb9f3a\"], [0.8888888888888888, \"#fdca26\"], [1.0, \"#f0f921\"]], \"type\": \"histogram2d\"}], \"histogram2dcontour\": [{\"colorbar\": {\"outlinewidth\": 0, \"ticks\": \"\"}, \"colorscale\": [[0.0, \"#0d0887\"], [0.1111111111111111, \"#46039f\"], [0.2222222222222222, \"#7201a8\"], [0.3333333333333333, \"#9c179e\"], [0.4444444444444444, \"#bd3786\"], [0.5555555555555556, \"#d8576b\"], [0.6666666666666666, \"#ed7953\"], [0.7777777777777778, \"#fb9f3a\"], [0.8888888888888888, \"#fdca26\"], [1.0, \"#f0f921\"]], \"type\": \"histogram2dcontour\"}], \"mesh3d\": [{\"colorbar\": {\"outlinewidth\": 0, \"ticks\": \"\"}, \"type\": \"mesh3d\"}], \"parcoords\": [{\"line\": {\"colorbar\": {\"outlinewidth\": 0, \"ticks\": \"\"}}, \"type\": \"parcoords\"}], \"pie\": [{\"automargin\": true, \"type\": \"pie\"}], \"scatter\": [{\"marker\": {\"colorbar\": {\"outlinewidth\": 0, \"ticks\": \"\"}}, \"type\": \"scatter\"}], \"scatter3d\": [{\"line\": {\"colorbar\": {\"outlinewidth\": 0, \"ticks\": \"\"}}, \"marker\": {\"colorbar\": {\"outlinewidth\": 0, \"ticks\": \"\"}}, \"type\": \"scatter3d\"}], \"scattercarpet\": [{\"marker\": {\"colorbar\": {\"outlinewidth\": 0, \"ticks\": \"\"}}, \"type\": \"scattercarpet\"}], \"scattergeo\": [{\"marker\": {\"colorbar\": {\"outlinewidth\": 0, \"ticks\": \"\"}}, \"type\": \"scattergeo\"}], \"scattergl\": [{\"marker\": {\"colorbar\": {\"outlinewidth\": 0, \"ticks\": \"\"}}, \"type\": \"scattergl\"}], \"scattermapbox\": [{\"marker\": {\"colorbar\": {\"outlinewidth\": 0, \"ticks\": \"\"}}, \"type\": \"scattermapbox\"}], \"scatterpolar\": [{\"marker\": {\"colorbar\": {\"outlinewidth\": 0, \"ticks\": \"\"}}, \"type\": \"scatterpolar\"}], \"scatterpolargl\": [{\"marker\": {\"colorbar\": {\"outlinewidth\": 0, \"ticks\": \"\"}}, \"type\": \"scatterpolargl\"}], \"scatterternary\": [{\"marker\": {\"colorbar\": {\"outlinewidth\": 0, \"ticks\": \"\"}}, \"type\": \"scatterternary\"}], \"surface\": [{\"colorbar\": {\"outlinewidth\": 0, \"ticks\": \"\"}, \"colorscale\": [[0.0, \"#0d0887\"], [0.1111111111111111, \"#46039f\"], [0.2222222222222222, \"#7201a8\"], [0.3333333333333333, \"#9c179e\"], [0.4444444444444444, \"#bd3786\"], [0.5555555555555556, \"#d8576b\"], [0.6666666666666666, \"#ed7953\"], [0.7777777777777778, \"#fb9f3a\"], [0.8888888888888888, \"#fdca26\"], [1.0, \"#f0f921\"]], \"type\": \"surface\"}], \"table\": [{\"cells\": {\"fill\": {\"color\": \"#EBF0F8\"}, \"line\": {\"color\": \"white\"}}, \"header\": {\"fill\": {\"color\": \"#C8D4E3\"}, \"line\": {\"color\": \"white\"}}, \"type\": \"table\"}]}, \"layout\": {\"annotationdefaults\": {\"arrowcolor\": \"#2a3f5f\", \"arrowhead\": 0, \"arrowwidth\": 1}, \"coloraxis\": {\"colorbar\": {\"outlinewidth\": 0, \"ticks\": \"\"}}, \"colorscale\": {\"diverging\": [[0, \"#8e0152\"], [0.1, \"#c51b7d\"], [0.2, \"#de77ae\"], [0.3, \"#f1b6da\"], [0.4, \"#fde0ef\"], [0.5, \"#f7f7f7\"], [0.6, \"#e6f5d0\"], [0.7, \"#b8e186\"], [0.8, \"#7fbc41\"], [0.9, \"#4d9221\"], [1, \"#276419\"]], \"sequential\": [[0.0, \"#0d0887\"], [0.1111111111111111, \"#46039f\"], [0.2222222222222222, \"#7201a8\"], [0.3333333333333333, \"#9c179e\"], [0.4444444444444444, \"#bd3786\"], [0.5555555555555556, \"#d8576b\"], [0.6666666666666666, \"#ed7953\"], [0.7777777777777778, \"#fb9f3a\"], [0.8888888888888888, \"#fdca26\"], [1.0, \"#f0f921\"]], \"sequentialminus\": [[0.0, \"#0d0887\"], [0.1111111111111111, \"#46039f\"], [0.2222222222222222, \"#7201a8\"], [0.3333333333333333, \"#9c179e\"], [0.4444444444444444, \"#bd3786\"], [0.5555555555555556, \"#d8576b\"], [0.6666666666666666, \"#ed7953\"], [0.7777777777777778, \"#fb9f3a\"], [0.8888888888888888, \"#fdca26\"], [1.0, \"#f0f921\"]]}, \"colorway\": [\"#636efa\", \"#EF553B\", \"#00cc96\", \"#ab63fa\", \"#FFA15A\", \"#19d3f3\", \"#FF6692\", \"#B6E880\", \"#FF97FF\", \"#FECB52\"], \"font\": {\"color\": \"#2a3f5f\"}, \"geo\": {\"bgcolor\": \"white\", \"lakecolor\": \"white\", \"landcolor\": \"#E5ECF6\", \"showlakes\": true, \"showland\": true, \"subunitcolor\": \"white\"}, \"hoverlabel\": {\"align\": \"left\"}, \"hovermode\": \"closest\", \"mapbox\": {\"style\": \"light\"}, \"paper_bgcolor\": \"white\", \"plot_bgcolor\": \"#E5ECF6\", \"polar\": {\"angularaxis\": {\"gridcolor\": \"white\", \"linecolor\": \"white\", \"ticks\": \"\"}, \"bgcolor\": \"#E5ECF6\", \"radialaxis\": {\"gridcolor\": \"white\", \"linecolor\": \"white\", \"ticks\": \"\"}}, \"scene\": {\"xaxis\": {\"backgroundcolor\": \"#E5ECF6\", \"gridcolor\": \"white\", \"gridwidth\": 2, \"linecolor\": \"white\", \"showbackground\": true, \"ticks\": \"\", \"zerolinecolor\": \"white\"}, \"yaxis\": {\"backgroundcolor\": \"#E5ECF6\", \"gridcolor\": \"white\", \"gridwidth\": 2, \"linecolor\": \"white\", \"showbackground\": true, \"ticks\": \"\", \"zerolinecolor\": \"white\"}, \"zaxis\": {\"backgroundcolor\": \"#E5ECF6\", \"gridcolor\": \"white\", \"gridwidth\": 2, \"linecolor\": \"white\", \"showbackground\": true, \"ticks\": \"\", \"zerolinecolor\": \"white\"}}, \"shapedefaults\": {\"line\": {\"color\": \"#2a3f5f\"}}, \"ternary\": {\"aaxis\": {\"gridcolor\": \"white\", \"linecolor\": \"white\", \"ticks\": \"\"}, \"baxis\": {\"gridcolor\": \"white\", \"linecolor\": \"white\", \"ticks\": \"\"}, \"bgcolor\": \"#E5ECF6\", \"caxis\": {\"gridcolor\": \"white\", \"linecolor\": \"white\", \"ticks\": \"\"}}, \"title\": {\"x\": 0.05}, \"xaxis\": {\"automargin\": true, \"gridcolor\": \"white\", \"linecolor\": \"white\", \"ticks\": \"\", \"title\": {\"standoff\": 15}, \"zerolinecolor\": \"white\", \"zerolinewidth\": 2}, \"yaxis\": {\"automargin\": true, \"gridcolor\": \"white\", \"linecolor\": \"white\", \"ticks\": \"\", \"title\": {\"standoff\": 15}, \"zerolinecolor\": \"white\", \"zerolinewidth\": 2}}}, \"title\": {\"text\": \"Insulin\"}, \"xaxis\": {\"anchor\": \"y2\", \"domain\": [0.0, 1.0], \"zeroline\": false}, \"yaxis\": {\"anchor\": \"free\", \"domain\": [0.35, 1], \"position\": 0.0}, \"yaxis2\": {\"anchor\": \"x\", \"domain\": [0, 0.25], \"dtick\": 1, \"showticklabels\": false}},\n",
       "                        {\"responsive\": true}\n",
       "                    ).then(function(){\n",
       "                            \n",
       "var gd = document.getElementById('ec3e855e-35e1-457e-a522-90aa49c63c74');\n",
       "var x = new MutationObserver(function (mutations, observer) {{\n",
       "        var display = window.getComputedStyle(gd).display;\n",
       "        if (!display || display === 'none') {{\n",
       "            console.log([gd, 'removed!']);\n",
       "            Plotly.purge(gd);\n",
       "            observer.disconnect();\n",
       "        }}\n",
       "}});\n",
       "\n",
       "// Listen for the removal of the full notebook cells\n",
       "var notebookContainer = gd.closest('#notebook-container');\n",
       "if (notebookContainer) {{\n",
       "    x.observe(notebookContainer, {childList: true});\n",
       "}}\n",
       "\n",
       "// Listen for the clearing of the current output cell\n",
       "var outputEl = gd.closest('.output');\n",
       "if (outputEl) {{\n",
       "    x.observe(outputEl, {childList: true});\n",
       "}}\n",
       "\n",
       "                        })\n",
       "                };\n",
       "                });\n",
       "            </script>\n",
       "        </div>"
      ]
     },
     "metadata": {},
     "output_type": "display_data"
    }
   ],
   "source": [
    "plot_distribution('Insulin',0)"
   ]
  },
  {
   "cell_type": "code",
   "execution_count": 19,
   "metadata": {},
   "outputs": [
    {
     "data": {
      "text/html": [
       "<div>\n",
       "<style scoped>\n",
       "    .dataframe tbody tr th:only-of-type {\n",
       "        vertical-align: middle;\n",
       "    }\n",
       "\n",
       "    .dataframe tbody tr th {\n",
       "        vertical-align: top;\n",
       "    }\n",
       "\n",
       "    .dataframe thead th {\n",
       "        text-align: right;\n",
       "    }\n",
       "</style>\n",
       "<table border=\"1\" class=\"dataframe\">\n",
       "  <thead>\n",
       "    <tr style=\"text-align: right;\">\n",
       "      <th></th>\n",
       "      <th>Outcome</th>\n",
       "      <th>Insulin</th>\n",
       "    </tr>\n",
       "  </thead>\n",
       "  <tbody>\n",
       "    <tr>\n",
       "      <th>0</th>\n",
       "      <td>0</td>\n",
       "      <td>102.5</td>\n",
       "    </tr>\n",
       "    <tr>\n",
       "      <th>1</th>\n",
       "      <td>1</td>\n",
       "      <td>169.5</td>\n",
       "    </tr>\n",
       "  </tbody>\n",
       "</table>\n",
       "</div>"
      ],
      "text/plain": [
       "   Outcome  Insulin\n",
       "0        0    102.5\n",
       "1        1    169.5"
      ]
     },
     "execution_count": 19,
     "metadata": {},
     "output_type": "execute_result"
    }
   ],
   "source": [
    "median_target('Insulin')"
   ]
  },
  {
   "cell_type": "code",
   "execution_count": 20,
   "metadata": {},
   "outputs": [],
   "source": [
    "data.loc[(data['Outcome']==0)&(data['Insulin'].isnull()),'Insulin']=102.5\n",
    "data.loc[(data['Outcome']==1)&(data['Insulin'].isnull()),'Insulin']=169.5"
   ]
  },
  {
   "cell_type": "code",
   "execution_count": 21,
   "metadata": {},
   "outputs": [
    {
     "data": {
      "application/vnd.plotly.v1+json": {
       "config": {
        "linkText": "Export to plot.ly",
        "plotlyServerURL": "https://plot.ly",
        "showLink": false
       },
       "data": [
        {
         "autobinx": false,
         "histnorm": "probability density",
         "legendgroup": "diabetic",
         "marker": {
          "color": "#FFD700"
         },
         "name": "diabetic",
         "opacity": 0.7,
         "type": "histogram",
         "x": [
          148,
          183,
          137,
          78,
          197,
          125,
          168,
          189,
          166,
          100,
          118,
          107,
          115,
          196,
          119,
          143,
          125,
          147,
          158,
          102,
          90,
          111,
          171,
          180,
          103,
          176,
          187,
          133,
          114,
          109,
          100,
          126,
          131,
          137,
          136,
          134,
          122,
          163,
          95,
          171,
          155,
          160,
          146,
          124,
          162,
          113,
          88,
          117,
          105,
          173,
          122,
          170,
          108,
          156,
          188,
          152,
          163,
          131,
          104,
          102,
          134,
          179,
          129,
          130,
          194,
          181,
          128,
          109,
          139,
          159,
          135,
          158,
          107,
          109,
          148,
          196,
          162,
          184,
          140,
          112,
          151,
          109,
          85,
          112,
          177,
          158,
          162,
          142,
          134,
          171,
          181,
          179,
          164,
          139,
          119,
          184,
          92,
          113,
          155,
          141,
          123,
          138,
          146,
          101,
          106,
          146,
          161,
          108,
          119,
          107,
          128,
          128,
          146,
          100,
          167,
          144,
          115,
          161,
          128,
          124,
          155,
          109,
          182,
          194,
          112,
          124,
          152,
          122,
          102,
          180,
          115,
          152,
          178,
          0,
          165,
          125,
          129,
          196,
          189,
          146,
          124,
          133,
          173,
          140,
          156,
          116,
          105,
          144,
          166,
          158,
          131,
          193,
          95,
          136,
          168,
          115,
          197,
          172,
          138,
          173,
          144,
          129,
          151,
          184,
          181,
          95,
          141,
          189,
          108,
          117,
          180,
          104,
          134,
          175,
          148,
          120,
          105,
          158,
          145,
          135,
          125,
          195,
          0,
          180,
          84,
          163,
          145,
          130,
          132,
          129,
          100,
          128,
          90,
          186,
          187,
          125,
          198,
          121,
          118,
          197,
          151,
          124,
          143,
          176,
          111,
          132,
          188,
          173,
          150,
          183,
          181,
          174,
          168,
          138,
          112,
          119,
          114,
          104,
          97,
          147,
          167,
          179,
          136,
          155,
          80,
          199,
          167,
          145,
          115,
          145,
          111,
          195,
          156,
          121,
          162,
          125,
          144,
          158,
          129,
          142,
          169,
          125,
          168,
          115,
          164,
          93,
          129,
          187,
          173,
          97,
          149,
          130,
          120,
          174,
          102,
          120,
          140,
          147,
          187,
          162,
          136,
          181,
          154,
          128,
          123,
          190,
          170,
          126
         ],
         "xaxis": "x",
         "xbins": {
          "end": 199,
          "size": 0,
          "start": 0
         },
         "yaxis": "y"
        },
        {
         "autobinx": false,
         "histnorm": "probability density",
         "legendgroup": "healthy",
         "marker": {
          "color": "#7EC0EE"
         },
         "name": "healthy",
         "opacity": 0.7,
         "type": "histogram",
         "x": [
          85,
          89,
          116,
          115,
          110,
          139,
          103,
          126,
          99,
          97,
          145,
          117,
          109,
          88,
          92,
          122,
          103,
          138,
          180,
          133,
          106,
          159,
          146,
          71,
          105,
          103,
          101,
          88,
          150,
          73,
          100,
          146,
          105,
          84,
          44,
          141,
          99,
          109,
          95,
          146,
          139,
          129,
          79,
          0,
          62,
          95,
          112,
          113,
          74,
          83,
          101,
          110,
          106,
          100,
          107,
          80,
          123,
          81,
          142,
          144,
          92,
          71,
          93,
          151,
          125,
          81,
          85,
          126,
          96,
          144,
          83,
          89,
          76,
          78,
          97,
          99,
          111,
          107,
          132,
          120,
          118,
          84,
          96,
          125,
          100,
          93,
          129,
          105,
          128,
          106,
          108,
          154,
          102,
          57,
          106,
          147,
          90,
          136,
          114,
          153,
          99,
          109,
          88,
          151,
          102,
          114,
          100,
          148,
          120,
          110,
          111,
          87,
          79,
          75,
          85,
          143,
          87,
          119,
          0,
          73,
          141,
          111,
          123,
          85,
          105,
          113,
          138,
          108,
          99,
          103,
          111,
          96,
          81,
          147,
          179,
          125,
          119,
          142,
          100,
          87,
          101,
          197,
          117,
          79,
          122,
          74,
          104,
          91,
          91,
          146,
          122,
          165,
          124,
          111,
          106,
          129,
          90,
          86,
          111,
          114,
          193,
          191,
          95,
          142,
          96,
          128,
          102,
          108,
          122,
          71,
          106,
          100,
          104,
          114,
          108,
          129,
          133,
          136,
          155,
          96,
          108,
          78,
          161,
          151,
          126,
          112,
          77,
          150,
          120,
          137,
          80,
          106,
          113,
          112,
          99,
          115,
          129,
          112,
          157,
          179,
          105,
          118,
          87,
          106,
          95,
          165,
          117,
          130,
          95,
          0,
          122,
          95,
          126,
          139,
          116,
          99,
          92,
          137,
          61,
          90,
          90,
          88,
          158,
          103,
          147,
          99,
          101,
          81,
          118,
          84,
          105,
          122,
          98,
          87,
          93,
          107,
          105,
          109,
          90,
          125,
          119,
          100,
          100,
          131,
          116,
          127,
          96,
          82,
          137,
          72,
          123,
          101,
          102,
          112,
          143,
          143,
          97,
          83,
          119,
          94,
          102,
          115,
          94,
          135,
          99,
          89,
          80,
          139,
          90,
          140,
          147,
          97,
          107,
          83,
          117,
          100,
          95,
          120,
          82,
          91,
          119,
          100,
          135,
          86,
          134,
          120,
          71,
          74,
          88,
          115,
          124,
          74,
          97,
          154,
          144,
          137,
          119,
          136,
          114,
          137,
          114,
          126,
          132,
          123,
          85,
          84,
          139,
          173,
          99,
          194,
          83,
          89,
          99,
          80,
          166,
          110,
          81,
          154,
          117,
          84,
          94,
          96,
          75,
          130,
          84,
          120,
          139,
          91,
          91,
          99,
          125,
          76,
          129,
          68,
          124,
          114,
          125,
          87,
          97,
          116,
          117,
          111,
          122,
          107,
          86,
          91,
          77,
          105,
          57,
          127,
          84,
          88,
          131,
          164,
          189,
          116,
          84,
          114,
          88,
          84,
          124,
          97,
          110,
          103,
          85,
          87,
          99,
          91,
          95,
          99,
          92,
          154,
          78,
          130,
          111,
          98,
          143,
          119,
          108,
          133,
          109,
          121,
          100,
          93,
          103,
          73,
          112,
          82,
          123,
          67,
          89,
          109,
          108,
          96,
          124,
          124,
          92,
          152,
          111,
          106,
          105,
          106,
          117,
          68,
          112,
          92,
          183,
          94,
          108,
          90,
          125,
          132,
          128,
          94,
          102,
          111,
          128,
          92,
          104,
          94,
          100,
          102,
          128,
          90,
          103,
          157,
          107,
          91,
          117,
          123,
          120,
          106,
          101,
          120,
          127,
          162,
          112,
          98,
          154,
          165,
          99,
          68,
          123,
          91,
          93,
          101,
          56,
          95,
          136,
          129,
          130,
          107,
          140,
          107,
          121,
          90,
          99,
          127,
          118,
          122,
          129,
          110,
          80,
          127,
          158,
          126,
          134,
          102,
          94,
          108,
          83,
          114,
          117,
          111,
          112,
          116,
          141,
          175,
          92,
          106,
          105,
          95,
          126,
          65,
          99,
          102,
          109,
          153,
          100,
          81,
          121,
          108,
          137,
          106,
          88,
          89,
          101,
          122,
          121,
          93
         ],
         "xaxis": "x",
         "xbins": {
          "end": 197,
          "size": 0,
          "start": 0
         },
         "yaxis": "y"
        },
        {
         "legendgroup": "diabetic",
         "marker": {
          "color": "#FFD700"
         },
         "mode": "lines",
         "name": "diabetic",
         "showlegend": false,
         "type": "scatter",
         "x": [
          0,
          0.398,
          0.796,
          1.194,
          1.592,
          1.99,
          2.388,
          2.786,
          3.184,
          3.582,
          3.98,
          4.378,
          4.776,
          5.174,
          5.572,
          5.97,
          6.368,
          6.766,
          7.164,
          7.562,
          7.96,
          8.358,
          8.756,
          9.154,
          9.552,
          9.95,
          10.348,
          10.746,
          11.144,
          11.542,
          11.94,
          12.338,
          12.736,
          13.134,
          13.532,
          13.93,
          14.328,
          14.726,
          15.124,
          15.522,
          15.92,
          16.318,
          16.716,
          17.114,
          17.512,
          17.91,
          18.308,
          18.706,
          19.104,
          19.502,
          19.9,
          20.298,
          20.696,
          21.094,
          21.492,
          21.89,
          22.288,
          22.686,
          23.084,
          23.482,
          23.88,
          24.278,
          24.676,
          25.074,
          25.472,
          25.87,
          26.268,
          26.666,
          27.064,
          27.462,
          27.86,
          28.258,
          28.656,
          29.054,
          29.452,
          29.85,
          30.248,
          30.646,
          31.044,
          31.442,
          31.84,
          32.238,
          32.636,
          33.034,
          33.432,
          33.83,
          34.228,
          34.626,
          35.024,
          35.422,
          35.82,
          36.218,
          36.616,
          37.014,
          37.412,
          37.81,
          38.208,
          38.606,
          39.004,
          39.402,
          39.8,
          40.198,
          40.596,
          40.994,
          41.392,
          41.79,
          42.188,
          42.586,
          42.984,
          43.382,
          43.78,
          44.178,
          44.576,
          44.974,
          45.372,
          45.77,
          46.168,
          46.566,
          46.964,
          47.362,
          47.76,
          48.158,
          48.556,
          48.954,
          49.352,
          49.75,
          50.148,
          50.546,
          50.944,
          51.342,
          51.74,
          52.138,
          52.536,
          52.934,
          53.332,
          53.73,
          54.128,
          54.526,
          54.924,
          55.322,
          55.72,
          56.118,
          56.516,
          56.914,
          57.312,
          57.71,
          58.108,
          58.506,
          58.904,
          59.302,
          59.7,
          60.098,
          60.496,
          60.894,
          61.292,
          61.69,
          62.088,
          62.486,
          62.884,
          63.282,
          63.68,
          64.078,
          64.476,
          64.874,
          65.272,
          65.67,
          66.068,
          66.466,
          66.864,
          67.262,
          67.66,
          68.058,
          68.456,
          68.854,
          69.252,
          69.65,
          70.048,
          70.446,
          70.844,
          71.242,
          71.64,
          72.038,
          72.436,
          72.834,
          73.232,
          73.63,
          74.028,
          74.426,
          74.824,
          75.222,
          75.62,
          76.018,
          76.416,
          76.814,
          77.212,
          77.61,
          78.008,
          78.406,
          78.804,
          79.202,
          79.6,
          79.998,
          80.396,
          80.794,
          81.192,
          81.59,
          81.988,
          82.386,
          82.784,
          83.182,
          83.58,
          83.978,
          84.376,
          84.774,
          85.172,
          85.57,
          85.968,
          86.366,
          86.764,
          87.162,
          87.56,
          87.958,
          88.356,
          88.754,
          89.152,
          89.55,
          89.948,
          90.346,
          90.744,
          91.142,
          91.54,
          91.938,
          92.336,
          92.734,
          93.132,
          93.53,
          93.928,
          94.326,
          94.724,
          95.122,
          95.52,
          95.918,
          96.316,
          96.714,
          97.112,
          97.51,
          97.908,
          98.306,
          98.704,
          99.102,
          99.5,
          99.898,
          100.296,
          100.694,
          101.092,
          101.49,
          101.888,
          102.286,
          102.684,
          103.082,
          103.48,
          103.878,
          104.276,
          104.674,
          105.072,
          105.47,
          105.868,
          106.266,
          106.664,
          107.062,
          107.46,
          107.858,
          108.256,
          108.654,
          109.052,
          109.45,
          109.848,
          110.246,
          110.644,
          111.042,
          111.44,
          111.838,
          112.236,
          112.634,
          113.032,
          113.43,
          113.828,
          114.226,
          114.624,
          115.022,
          115.42,
          115.818,
          116.216,
          116.614,
          117.012,
          117.41,
          117.808,
          118.206,
          118.604,
          119.002,
          119.4,
          119.798,
          120.196,
          120.594,
          120.992,
          121.39,
          121.788,
          122.186,
          122.584,
          122.982,
          123.38,
          123.778,
          124.176,
          124.574,
          124.972,
          125.37,
          125.768,
          126.166,
          126.564,
          126.962,
          127.36,
          127.758,
          128.156,
          128.554,
          128.952,
          129.35,
          129.748,
          130.146,
          130.544,
          130.942,
          131.34,
          131.738,
          132.136,
          132.534,
          132.932,
          133.33,
          133.728,
          134.126,
          134.524,
          134.922,
          135.32,
          135.718,
          136.116,
          136.514,
          136.912,
          137.31,
          137.708,
          138.106,
          138.504,
          138.902,
          139.3,
          139.698,
          140.096,
          140.494,
          140.892,
          141.29,
          141.688,
          142.086,
          142.484,
          142.882,
          143.28,
          143.678,
          144.076,
          144.474,
          144.872,
          145.27,
          145.668,
          146.066,
          146.464,
          146.862,
          147.26,
          147.658,
          148.056,
          148.454,
          148.852,
          149.25,
          149.648,
          150.046,
          150.444,
          150.842,
          151.24,
          151.638,
          152.036,
          152.434,
          152.832,
          153.23,
          153.628,
          154.026,
          154.424,
          154.822,
          155.22,
          155.618,
          156.016,
          156.414,
          156.812,
          157.21,
          157.608,
          158.006,
          158.404,
          158.802,
          159.2,
          159.598,
          159.996,
          160.394,
          160.792,
          161.19,
          161.588,
          161.986,
          162.384,
          162.782,
          163.18,
          163.578,
          163.976,
          164.374,
          164.772,
          165.17,
          165.568,
          165.966,
          166.364,
          166.762,
          167.16,
          167.558,
          167.956,
          168.354,
          168.752,
          169.15,
          169.548,
          169.946,
          170.344,
          170.742,
          171.14,
          171.538,
          171.936,
          172.334,
          172.732,
          173.13,
          173.528,
          173.926,
          174.324,
          174.722,
          175.12,
          175.518,
          175.916,
          176.314,
          176.712,
          177.11,
          177.508,
          177.906,
          178.304,
          178.702,
          179.1,
          179.498,
          179.896,
          180.294,
          180.692,
          181.09,
          181.488,
          181.886,
          182.284,
          182.682,
          183.08,
          183.478,
          183.876,
          184.274,
          184.672,
          185.07,
          185.468,
          185.866,
          186.264,
          186.662,
          187.06,
          187.458,
          187.856,
          188.254,
          188.652,
          189.05,
          189.448,
          189.846,
          190.244,
          190.642,
          191.04,
          191.438,
          191.836,
          192.234,
          192.632,
          193.03,
          193.428,
          193.826,
          194.224,
          194.622,
          195.02,
          195.418,
          195.816,
          196.214,
          196.612,
          197.01,
          197.408,
          197.806,
          198.204,
          198.602
         ],
         "xaxis": "x",
         "y": [
          0.00028516909241993,
          0.00028496194706863676,
          0.0002843414133934212,
          0.00028331019198201774,
          0.00028187276205218873,
          0.00028003534904091193,
          0.00027780587968988403,
          0.00027519392508078,
          0.0002722106321930869,
          0.00026886864466932255,
          0.00026518201357562493,
          0.0002611660990388125,
          0.0002568374637229463,
          0.00025221375917825525,
          0.00024731360615224876,
          0.00024215646999639864,
          0.00023676253233156634,
          0.00023115256015123417,
          0.00022534777354362936,
          0.00021936971320225482,
          0.00021324010886960567,
          0.00020698074982157657,
          0.00020061335845104238,
          0.00019415946794924355,
          0.00018764030501401316,
          0.00018107667843570682,
          0.00017448887432619577,
          0.00016789655866480572,
          0.00016131868773898084,
          0.00015477342695812156,
          0.00014827807841788024,
          0.00014184901749055272,
          0.00013550163861640537,
          0.00012925031037207618,
          0.00012310833979676129,
          0.00011708794586582711,
          0.00011120024191573453,
          0.00010545522674459349,
          9.986178403998799e-05,
          9.442768972053661e-05,
          8.915962672042636e-05,
          8.406320669720757e-05,
          7.914299810265136e-05,
          7.44025600245113e-05,
          6.984448118353252e-05,
          6.547042345483533e-05,
          6.128116927558243e-05,
          5.727667230123824e-05,
          5.345611068027856e-05,
          4.981794233137429e-05,
          4.635996162725685e-05,
          4.307935691503272e-05,
          3.997276833297537e-05,
          3.703634541808952e-05,
          3.426580403630588e-05,
          3.165648220733259e-05,
          2.920339443825991e-05,
          2.6901284223338213e-05,
          2.4744674411279147e-05,
          2.2727915185382824e-05,
          2.084522944521302e-05,
          1.9090755420936026e-05,
          1.7458586392357707e-05,
          1.594280742375445e-05,
          1.453752906246219e-05,
          1.3236917983598504e-05,
          1.2035224595026554e-05,
          1.0926807645572877e-05,
          9.906155905477404e-06,
          8.967907011031813e-06,
          8.106863585344121e-06,
          7.318006764189965e-06,
          6.5965072700494445e-06,
          5.9377341887903045e-06,
          5.337261612182459e-06,
          4.790873315674439e-06,
          4.294565644811998e-06,
          3.844548785526037e-06,
          3.437246593466863e-06,
          3.069295155824938e-06,
          2.7375402558675126e-06,
          2.439033905945809e-06,
          2.1710301091958636e-06,
          1.9309800037639943e-06,
          1.7165265363247462e-06,
          1.5254988040991458e-06,
          1.355906196686665e-06,
          1.2059324609415093e-06,
          1.0739298039829574e-06,
          9.584131413442652e-07,
          8.580545893311005e-07,
          7.716782929586723e-07,
          6.982556734284674e-07,
          6.369011720378246e-07,
          5.868685607182596e-07,
          5.475478830875411e-07,
          5.184630839775227e-07,
          4.99270379853404e-07,
          4.897574173476214e-07,
          4.898432622596217e-07,
          4.995792567789175e-07,
          5.191507783229183e-07,
          5.488799291865424e-07,
          5.89229182116188e-07,
          6.408060028812014e-07,
          7.04368466854774e-07,
          7.808318824654498e-07,
          8.7127643007358e-07,
          9.76955820299544e-07,
          1.0993069710216413e-06,
          1.2399606971155866e-06,
          1.4007534014749615e-06,
          1.583739749891601e-06,
          1.791206305953842e-06,
          2.0256860952164457e-06,
          2.2899740604979084e-06,
          2.5871433622700474e-06,
          2.920562469735317e-06,
          3.2939129793684404e-06,
          3.7112080884732816e-06,
          4.176811641731977e-06,
          4.695457658875637e-06,
          5.272270241571818e-06,
          5.912783747511053e-06,
          6.622963109598629e-06,
          7.409224168256393e-06,
          8.278453875254533e-06,
          9.23803021838905e-06,
          1.0295841707860487e-05,
          1.146030625757485e-05,
          1.2740389287959238e-05,
          1.4145620871449804e-05,
          1.5686111737757676e-05,
          1.737256795353006e-05,
          1.9216304090284834e-05,
          2.122925469566944e-05,
          2.3423983886347404e-05,
          2.581369288627329e-05,
          2.8412225341918365e-05,
          3.123407025623357e-05,
          3.429436239586179e-05,
          3.760888004137255e-05,
          4.119403996808672e-05,
          4.506688956535799e-05,
          4.9245096024900136e-05,
          5.374693255377615e-05,
          5.859126159484337e-05,
          6.379751506656043e-05,
          6.938567166486591e-05,
          7.537623130203486e-05,
          8.179018679067417e-05,
          8.864899291495423e-05,
          9.597453306537376e-05,
          0.0001037890836473722,
          0.0001121152765074738,
          0.00012097605965284678,
          0.00013039465657069965,
          0.00014039452448227818,
          0.00015099931189184159,
          0.00016223281581337055,
          0.00017411893907638454,
          0.00018668164812662996,
          0.0001999449317471115,
          0.0002139327611295464,
          0.0002286690517254608,
          0.0002441776272995412,
          0.0002604821865952441,
          0.0002776062730038542,
          0.00029557324760315124,
          0.0003144062659005204,
          0.00033412825857782755,
          0.00035476191649186963,
          0.00037632968013491503,
          0.00039885373370520056,
          0.00042235600387760297,
          0.00044685816330068017,
          0.0004723816387784433,
          0.0004989476240243174,
          0.0005265770968014876,
          0.0005552908401891578,
          0.0005851094676389404,
          0.0006160534514107161,
          0.0006481431539037153,
          0.0006813988613273776,
          0.0007158408190887408,
          0.0007514892682095969,
          0.0007883644820286579,
          0.0008264868023922031,
          0.0008658766744923262,
          0.0009065546794755898,
          0.0009485415639176469,
          0.000991858265241871,
          0.0010365259321527824,
          0.0010825659391588498,
          0.0011299998942742348,
          0.0011788496390158665,
          0.0012291372398508147,
          0.0012808849702994638,
          0.0013341152829624504,
          0.001388850770813444,
          0.0014451141171852736,
          0.0015029280339732194,
          0.0015623151876858342,
          0.0016232981130897555,
          0.0016858991143194892,
          0.00175014015345554,
          0.0018160427267128272,
          0.0018836277285253708,
          0.001952915303960883,
          0.002023924690049202,
          0.0020966740467595795,
          0.0021711802785121816,
          0.0022474588472572755,
          0.002325523578299469,
          0.002405386460182709,
          0.002487057440082314,
          0.0025705442162718634,
          0.0026558520293433665,
          0.0027429834539570404,
          0.0028319381929808323,
          0.0029227128759480784,
          0.0030153008638127195,
          0.0031096920620141944,
          0.0032058727438775687,
          0.0033038253863672193,
          0.0034035285201841773,
          0.003504956596146921,
          0.0036080798697234098,
          0.0037128643054873344,
          0.003819271503155126,
          0.003927258646721393,
          0.00403677847805113,
          0.004147779296106807,
          0.004260204982789502,
          0.00437399505615653,
          0.004489084751545257,
          0.004605405130886369,
          0.004722883220231159,
          0.004841442175249879,
          0.004961001474183908,
          0.005081477137455999,
          0.005202781972864172,
          0.005324825845008103,
          0.005447515967325612,
          0.005570757214854939,
          0.005694452455588206,
          0.005818502898047121,
          0.00594280845249604,
          0.0060672681030135844,
          0.006191780287474819,
          0.006316243282354325,
          0.006440555589149201,
          0.006564616319141566,
          0.006688325573175664,
          0.006811584813115233,
          0.006934297221674964,
          0.007056368047385492,
          0.007177704931554884,
          0.007298218214231198,
          0.007417821216349041,
          0.00753643049545771,
          0.007653966072677153,
          0.0077703516288090526,
          0.00788551466784043,
          0.007999386646414112,
          0.008111903068200131,
          0.008223003542480262,
          0.008332631806651733,
          0.008440735712758936,
          0.008547267178570857,
          0.00865218210413071,
          0.00875544025510794,
          0.008857005114676552,
          0.00895684370602224,
          0.009054926387937794,
          0.009151226626299256,
          0.009245720744516534,
          0.009338387656319324,
          0.009429208584467384,
          0.009518166769159645,
          0.009605247170056265,
          0.00969043616591916,
          0.009773721255917545,
          0.009855090766633984,
          0.009934533568743733,
          0.01001203880722385,
          0.010087595648782153,
          0.010161193049978335,
          0.010232819549244713,
          0.01030246308570428,
          0.01037011084733224,
          0.010435749150619624,
          0.01049936335347724,
          0.010560937802671713,
          0.01062045581661793,
          0.010677899703870817,
          0.010733250817169667,
          0.010786489642397833,
          0.01083759592133648,
          0.010886548806619068,
          0.010933327046841447,
          0.01097790919935741,
          0.011020273867895601,
          0.011060399961780492,
          0.011098266973228478,
          0.011133855268929387,
          0.01116714639191407,
          0.011198123369556159,
          0.011226771023461838,
          0.011253076276967906,
          0.011277028455995002,
          0.011298619579091493,
          0.011317844632650908,
          0.01133470182749131,
          0.011349192833244991,
          0.011361322987317657,
          0.011371101475533135,
          0.011378541481977957,
          0.011383660305991479,
          0.011386479444708907,
          0.01138702464004451,
          0.011385325889498404,
          0.011381417420670004,
          0.011375337629859874,
          0.01136712898563093,
          0.011356837898670688,
          0.011344514559743493,
          0.011330212747936398,
          0.011313989611779457,
          0.01129590542615502,
          0.011276023328194404,
          0.011254409035592954,
          0.011231130550949502,
          0.011206257855853387,
          0.011179862598499265,
          0.011152017778607267,
          0.0111227974333632,
          0.011092276327973365,
          0.01106052965425355,
          0.011027632740444519,
          0.010993660775173107,
          0.010958688548162293,
          0.01092279020994254,
          0.010886039052436295,
          0.010848507311884551,
          0.010810265995167267,
          0.010771384730143201,
          0.010731931640210768,
          0.010691973242872682,
          0.010651574371685348,
          0.010610798120592038,
          0.010569705809286225,
          0.010528356967932443,
          0.010486809339292056,
          0.010445118896065147,
          0.010403339871070503,
          0.010361524797746506,
          0.010319724558367296,
          0.010277988437333256,
          0.010236364176910423,
          0.01019489803286058,
          0.010153634827518366,
          0.010112617998032843,
          0.010071889637692918,
          0.010031490528495118,
          0.009991460163383427,
          0.009951836756887924,
          0.009912657243205973,
          0.009873957261099955,
          0.009835771125323729,
          0.009798131784626317,
          0.00976107076671422,
          0.009724618110871188,
          0.009688802289235443,
          0.009653650118009647,
          0.009619186660126513,
          0.009585435121105806,
          0.009552416740015343,
          0.009520150677584514,
          0.00948865390361319,
          0.009457941085870355,
          0.009428024482682908,
          0.00939891384138044,
          0.009370616304682873,
          0.009343136327000614,
          0.0093164756024618,
          0.00929063300629272,
          0.009265604550959625,
          0.009241383358236661,
          0.009217959648102004,
          0.009195320745085672,
          0.009173451102405493,
          0.009152332343936113,
          0.009131943323766501,
          0.009112260202818362,
          0.009093256541727842,
          0.009074903408939083,
          0.009057169502726366,
          0.009040021285654882,
          0.009023423129812708,
          0.009007337471,
          0.008991724969949764,
          0.00897654467857726,
          0.008961754209214511,
          0.008947309904782095,
          0.008933167007881718,
          0.00891927982685907,
          0.008905601896985268,
          0.008892086135034599,
          0.008878684985692924,
          0.008865350558412212,
          0.008852034753528425,
          0.008838689376677929,
          0.008825266240777735,
          0.008811717255073964,
          0.008797994501003704,
          0.008784050294857149,
          0.008769837237461943,
          0.00875530825133834,
          0.008740416605986888,
          0.00872511593216683,
          0.008709360226199746,
          0.008693103845487805,
          0.00867630149656457,
          0.00865890821709939,
          0.008640879353351826,
          0.00862217053461895,
          0.008602737646236628,
          0.008582536802686516,
          0.0085615243223231,
          0.008539656705172984,
          0.008516890615171448,
          0.008493182868094367,
          0.008468490426315265,
          0.008442770401375387,
          0.008415980065198132,
          0.008388076870613992,
          0.008359018481690345,
          0.008328762814186394,
          0.008297268086279655,
          0.008264492879540765,
          0.008230396209970773,
          0.008194937608762437,
          0.00815807721230647,
          0.008119775860838558,
          0.008079995205013736,
          0.008038697819603398,
          0.00799584732343881,
          0.007951408504671496,
          0.007905347450388197,
          0.007857631679604087,
          0.0078082302786618,
          0.007757114038085731,
          0.0077042555899770986,
          0.0076496295450863274,
          0.007593212628759933,
          0.007534983815030158,
          0.007474924458191391,
          0.007413018421287863,
          0.007349252201017347,
          0.007283615048634272,
          0.007216099086509761,
          0.0071466994200731935,
          0.007075414244917179,
          0.0070022449488954044,
          0.006927196209076057,
          0.006850276083434358,
          0.006771496097173601,
          0.006690871323554808,
          0.006608420459091758,
          0.006524165892930755,
          0.006438133770183561,
          0.006350354048920442,
          0.006260860550458653,
          0.006169691002502916,
          0.006076887074611244,
          0.005982494405373594,
          0.005886562620607093,
          0.005789145341790542,
          0.005690300183888364,
          0.005590088741650977,
          0.005488576563428859,
          0.005385833111503805,
          0.005281931707925439,
          0.0051769494648457644,
          0.005070967198372241,
          0.00496406932501011,
          0.004856343739839974,
          0.004747881675676094,
          0.004638777542574741,
          0.004529128747209435,
          0.004419035491799047,
          0.0043086005524651735,
          0.004197929037102058,
          0.0040871281230658845,
          0.00397630677522429,
          0.003865575445150198,
          0.003755045752491163,
          0.0036448301497934246,
          0.0035350415723032747
         ],
         "yaxis": "y"
        },
        {
         "legendgroup": "healthy",
         "marker": {
          "color": "#7EC0EE"
         },
         "mode": "lines",
         "name": "healthy",
         "showlegend": false,
         "type": "scatter",
         "x": [
          0,
          0.394,
          0.788,
          1.182,
          1.576,
          1.97,
          2.364,
          2.758,
          3.152,
          3.546,
          3.94,
          4.334,
          4.728,
          5.122,
          5.516,
          5.91,
          6.304,
          6.698,
          7.092,
          7.486,
          7.88,
          8.274,
          8.668,
          9.062,
          9.456,
          9.85,
          10.244,
          10.638,
          11.032,
          11.426,
          11.82,
          12.214,
          12.608,
          13.002,
          13.396,
          13.79,
          14.184,
          14.578,
          14.972,
          15.366,
          15.76,
          16.154,
          16.548,
          16.942,
          17.336,
          17.73,
          18.124,
          18.518,
          18.912,
          19.306,
          19.7,
          20.094,
          20.488,
          20.882,
          21.276,
          21.67,
          22.064,
          22.458,
          22.852,
          23.246,
          23.64,
          24.034,
          24.428,
          24.822,
          25.216,
          25.61,
          26.004,
          26.398,
          26.792,
          27.186,
          27.58,
          27.974,
          28.368,
          28.762,
          29.156,
          29.55,
          29.944,
          30.338,
          30.732,
          31.126,
          31.52,
          31.914,
          32.308,
          32.702,
          33.096,
          33.49,
          33.884,
          34.278,
          34.672,
          35.066,
          35.46,
          35.854,
          36.248,
          36.642,
          37.036,
          37.43,
          37.824,
          38.218,
          38.612,
          39.006,
          39.4,
          39.794,
          40.188,
          40.582,
          40.976,
          41.37,
          41.764,
          42.158,
          42.552,
          42.946,
          43.34,
          43.734,
          44.128,
          44.522,
          44.916,
          45.31,
          45.704,
          46.098,
          46.492,
          46.886,
          47.28,
          47.674,
          48.068,
          48.462,
          48.856,
          49.25,
          49.644,
          50.038,
          50.432,
          50.826,
          51.22,
          51.614,
          52.008,
          52.402,
          52.796,
          53.19,
          53.584,
          53.978,
          54.372,
          54.766,
          55.16,
          55.554,
          55.948,
          56.342,
          56.736,
          57.13,
          57.524,
          57.918,
          58.312,
          58.706,
          59.1,
          59.494,
          59.888,
          60.282,
          60.676,
          61.07,
          61.464,
          61.858,
          62.252,
          62.646,
          63.04,
          63.434,
          63.828,
          64.222,
          64.616,
          65.01,
          65.404,
          65.798,
          66.192,
          66.586,
          66.98,
          67.374,
          67.768,
          68.162,
          68.556,
          68.95,
          69.344,
          69.738,
          70.132,
          70.526,
          70.92,
          71.314,
          71.708,
          72.102,
          72.496,
          72.89,
          73.284,
          73.678,
          74.072,
          74.466,
          74.86,
          75.254,
          75.648,
          76.042,
          76.436,
          76.83,
          77.224,
          77.618,
          78.012,
          78.406,
          78.8,
          79.194,
          79.588,
          79.982,
          80.376,
          80.77,
          81.164,
          81.558,
          81.952,
          82.346,
          82.74,
          83.134,
          83.528,
          83.922,
          84.316,
          84.71,
          85.104,
          85.498,
          85.892,
          86.286,
          86.68,
          87.074,
          87.468,
          87.862,
          88.256,
          88.65,
          89.044,
          89.438,
          89.832,
          90.226,
          90.62,
          91.014,
          91.408,
          91.802,
          92.196,
          92.59,
          92.984,
          93.378,
          93.772,
          94.166,
          94.56,
          94.954,
          95.348,
          95.742,
          96.136,
          96.53,
          96.924,
          97.318,
          97.712,
          98.106,
          98.5,
          98.894,
          99.288,
          99.682,
          100.076,
          100.47,
          100.864,
          101.258,
          101.652,
          102.046,
          102.44,
          102.834,
          103.228,
          103.622,
          104.016,
          104.41,
          104.804,
          105.198,
          105.592,
          105.986,
          106.38,
          106.774,
          107.168,
          107.562,
          107.956,
          108.35,
          108.744,
          109.138,
          109.532,
          109.926,
          110.32,
          110.714,
          111.108,
          111.502,
          111.896,
          112.29,
          112.684,
          113.078,
          113.472,
          113.866,
          114.26,
          114.654,
          115.048,
          115.442,
          115.836,
          116.23,
          116.624,
          117.018,
          117.412,
          117.806,
          118.2,
          118.594,
          118.988,
          119.382,
          119.776,
          120.17,
          120.564,
          120.958,
          121.352,
          121.746,
          122.14,
          122.534,
          122.928,
          123.322,
          123.716,
          124.11,
          124.504,
          124.898,
          125.292,
          125.686,
          126.08,
          126.474,
          126.868,
          127.262,
          127.656,
          128.05,
          128.444,
          128.838,
          129.232,
          129.626,
          130.02,
          130.414,
          130.808,
          131.202,
          131.596,
          131.99,
          132.384,
          132.778,
          133.172,
          133.566,
          133.96,
          134.354,
          134.748,
          135.142,
          135.536,
          135.93,
          136.324,
          136.718,
          137.112,
          137.506,
          137.9,
          138.294,
          138.688,
          139.082,
          139.476,
          139.87,
          140.264,
          140.658,
          141.052,
          141.446,
          141.84,
          142.234,
          142.628,
          143.022,
          143.416,
          143.81,
          144.204,
          144.598,
          144.992,
          145.386,
          145.78,
          146.174,
          146.568,
          146.962,
          147.356,
          147.75,
          148.144,
          148.538,
          148.932,
          149.326,
          149.72,
          150.114,
          150.508,
          150.902,
          151.296,
          151.69,
          152.084,
          152.478,
          152.872,
          153.266,
          153.66,
          154.054,
          154.448,
          154.842,
          155.236,
          155.63,
          156.024,
          156.418,
          156.812,
          157.206,
          157.6,
          157.994,
          158.388,
          158.782,
          159.176,
          159.57,
          159.964,
          160.358,
          160.752,
          161.146,
          161.54,
          161.934,
          162.328,
          162.722,
          163.116,
          163.51,
          163.904,
          164.298,
          164.692,
          165.086,
          165.48,
          165.874,
          166.268,
          166.662,
          167.056,
          167.45,
          167.844,
          168.238,
          168.632,
          169.026,
          169.42,
          169.814,
          170.208,
          170.602,
          170.996,
          171.39,
          171.784,
          172.178,
          172.572,
          172.966,
          173.36,
          173.754,
          174.148,
          174.542,
          174.936,
          175.33,
          175.724,
          176.118,
          176.512,
          176.906,
          177.3,
          177.694,
          178.088,
          178.482,
          178.876,
          179.27,
          179.664,
          180.058,
          180.452,
          180.846,
          181.24,
          181.634,
          182.028,
          182.422,
          182.816,
          183.21,
          183.604,
          183.998,
          184.392,
          184.786,
          185.18,
          185.574,
          185.968,
          186.362,
          186.756,
          187.15,
          187.544,
          187.938,
          188.332,
          188.726,
          189.12,
          189.514,
          189.908,
          190.302,
          190.696,
          191.09,
          191.484,
          191.878,
          192.272,
          192.666,
          193.06,
          193.454,
          193.848,
          194.242,
          194.636,
          195.03,
          195.424,
          195.818,
          196.212,
          196.606
         ],
         "xaxis": "x",
         "y": [
          0.0003173436461144977,
          0.0003169110013321798,
          0.00031561660028639536,
          0.00031347100255082127,
          0.0003104916478773904,
          0.0003067026201793985,
          0.00030213432339257364,
          0.00029682307531770486,
          0.00029081062703535887,
          0.00028414361678809314,
          0.00027687296831914736,
          0.0002690532445158269,
          0.0002607419678142921,
          0.00025199891917094646,
          0.00024288542749200835,
          0.00023346366124210718,
          0.00022379593353663853,
          0.0002139440313790572,
          0.00020396857885672257,
          0.00019392844308532546,
          0.00018388019052397402,
          0.0001738776000048237,
          0.00016397123746831599,
          0.00015420809600353924,
          0.0001446313033981272,
          0.00013527989803690705,
          0.00012618867268404844,
          0.00011738808446721809,
          0.000108904228277728,
          0.00010075886982698351,
          9.296953377110054e-05,
          8.554964164199276e-05,
          7.850869380938709e-05,
          7.185248934440623e-05,
          6.558337745762215e-05,
          5.970053413507108e-05,
          5.420025768356996e-05,
          4.907627710801601e-05,
          4.432006756229138e-05,
          3.992116752458261e-05,
          3.586749282914263e-05,
          3.21456432213038e-05,
          2.874119767270998e-05,
          2.5638995281886452e-05,
          2.2823399175210808e-05,
          2.0278541400457856e-05,
          1.7988547356549433e-05,
          1.5937738818143264e-05,
          1.4110815083559622e-05,
          1.2493012192746494e-05,
          1.107024052412686e-05,
          9.829201382909814e-06,
          8.75748343833923e-06,
          7.843640054704456e-06,
          7.077248693576936e-06,
          6.448953646814568e-06,
          5.950493396608972e-06,
          5.5747138962932764e-06,
          5.31556903042603e-06,
          5.1681094518261e-06,
          5.128460913900723e-06,
          5.1937931258612e-06,
          5.362280063076486e-06,
          5.633052571260656e-06,
          6.0061440172269945e-06,
          6.482429665649206e-06,
          7.063560404894804e-06,
          7.751891408851279e-06,
          8.550406308062962e-06,
          9.462637453683638e-06,
          1.0492582891886546e-05,
          1.1644620723511027e-05,
          1.2923421601828225e-05,
          1.4333860217285473e-05,
          1.5880926727859925e-05,
          1.7569639212240617e-05,
          1.9404958344696897e-05,
          2.1391705608798606e-05,
          2.3534486475263388e-05,
          2.5837620060018725e-05,
          2.83050768449293e-05,
          3.0940426078617353e-05,
          3.3746794471919755e-05,
          3.672683775605693e-05,
          3.988272657677019e-05,
          4.321614805106022e-05,
          4.672832411272467e-05,
          5.04200475183711e-05,
          5.4291736078582986e-05,
          5.8343505323037985e-05,
          6.257525940929239e-05,
          6.698679965041847e-05,
          7.157794957642492e-05,
          7.634869497002438e-05,
          8.129933684200487e-05,
          8.643065484973983e-05,
          9.174407822966935e-05,
          9.724186092675672e-05,
          0.0001029272572768893,
          0.00010880469434718294,
          0.00011487993687829907,
          0.00012116024071456663,
          0.00012765449066198334,
          0.00013437331888827676,
          0.00014132920027707784,
          0.00014853652157008625,
          0.00015601162167315768,
          0.0001637728011565985,
          0.0001718402997344756,
          0.0001802362413463116,
          0.00018898454736709173,
          0.00019811081941469602,
          0.00020764219418142497,
          0.00021760717365984012,
          0.00022803543503296708,
          0.00023895762532484354,
          0.00025040514662983836,
          0.00026240993833011957,
          0.0002750042631445623,
          0.00028822050410742535,
          0.0003020909796338318,
          0.00031664778367925515,
          0.00033192265763565807,
          0.00034794690002783657,
          0.0003647513192867903,
          0.0003823662338963266,
          0.00040082152305500864,
          0.0004201467296946263,
          0.0004403712162810308,
          0.00046152437233057197,
          0.00048363587104675024,
          0.0005067359709605762,
          0.0005308558569899481,
          0.0005560280139629242,
          0.0005822866244208848,
          0.0006096679814708986,
          0.0006382109066284599,
          0.0006679571620130209,
          0.0006989518459534558,
          0.0007312437610449455,
          0.000764885743981025,
          0.0007999349470634127,
          0.0008364530621579661,
          0.0008745064789986017,
          0.0009141663711147273,
          0.0009555087042362428,
          0.000998614163771099,
          0.0010435679998055752,
          0.0010904597899945025,
          0.0011393831226323304,
          0.0011904352040699583,
          0.0012437163964110938,
          0.0012993296930323994,
          0.0013573801408749892,
          0.0014179742196078467,
          0.001481219188630357,
          0.0015472224134346266,
          0.001616090683070006,
          0.0016879295303353949,
          0.0017628425658718922,
          0.0018409308365534675,
          0.0019222922174996862,
          0.002007020845697328,
          0.002095206601658093,
          0.002186934643808732,
          0.0022822849984637373,
          0.0023813322063293042,
          0.0024841450245941836,
          0.0025907861818406427,
          0.002701312181319393,
          0.0028157731466330717,
          0.0029342127026161634,
          0.003056667883229562,
          0.0031831690576406423,
          0.003313739865360032,
          0.0034483971513682905,
          0.003587150892589988,
          0.003730004107850576,
          0.0038769527445592896,
          0.004027985536764978,
          0.004183083830888325,
          0.0043422213772879095,
          0.004505364087809759,
          0.004672469761532147,
          0.004843487782980982,
          0.0050183587990836115,
          0.0051970143829812325,
          0.0053793766944650176,
          0.005565358148178662,
          0.00575486110178626,
          0.005947777576996354,
          0.006143989026628467,
          0.006343366160786487,
          0.006545768844657242,
          0.00675104607948817,
          0.006959036076934104,
          0.007169566435232509,
          0.0073824544236102746,
          0.007597507378999615,
          0.007814523216606624,
          0.008033291053202489,
          0.008253591939269538,
          0.008475199693408406,
          0.008697881829773109,
          0.008921400566827366,
          0.009145513903472758,
          0.009369976746656596,
          0.009594542072979238,
          0.009818962105632973,
          0.010042989487257117,
          0.01026637842900813,
          0.010488885816333005,
          0.010710272252600721,
          0.010930303022874514,
          0.011148748961676311,
          0.011365387210564513,
          0.011580001853676768,
          0.01179238442201926,
          0.012002334260156339,
          0.01220965875199683,
          0.0124141734055154,
          0.012615701799411667,
          0.012814075397821166,
          0.013009133242177368,
          0.013200721532106807,
          0.013388693109758175,
          0.013572906864156058,
          0.013753227073981604,
          0.013929522708569632,
          0.014101666707845895,
          0.014269535262382008,
          0.014433007114716696,
          0.014591962902575977,
          0.01474628456364206,
          0.014895854820093252,
          0.015040556759306054,
          0.015180273524920029,
          0.015314888129973286,
          0.015444283401086549,
          0.015568342059768944,
          0.015686946943917673,
          0.0157999813695517,
          0.015907329629832268,
          0.0160088776255449,
          0.01610451361851351,
          0.016194129096938816,
          0.016277619739451427,
          0.016354886462777114,
          0.0164258365363567,
          0.01649038474605858,
          0.01654845458827548,
          0.016599979475196154,
          0.01664490393187944,
          0.016683184765901377,
          0.0167147921907688,
          0.016739710884959593,
          0.016757940969322167,
          0.016769498886604995,
          0.016774418168058004,
          0.016772750073311523,
          0.01676456409107448,
          0.01674994828956991,
          0.016729009507035528,
          0.016701873374046213,
          0.016668684160865293,
          0.016629604444508544,
          0.01658481459172164,
          0.016534512055641066,
          0.01647891048555594,
          0.016418238650926696,
          0.01635273918266911,
          0.016282667136693643,
          0.016208288386804694,
          0.016129877856322375,
          0.01604771760017515,
          0.01596209475171274,
          0.015873299351074267,
          0.01578162207457863,
          0.01568735188722893,
          0.015590773642985063,
          0.015492165659883433,
          0.01539179729930173,
          0.015289926580593534,
          0.015186797863879022,
          0.015082639634888694,
          0.01497766242634809,
          0.014872056910391595,
          0.014765992195852506,
          0.01465961436294566,
          0.014553045265816448,
          0.014446381630665327,
          0.014339694473677786,
          0.014233028858828031,
          0.014126404010829619,
          0.014019813793145023,
          0.013913227555127968,
          0.0138065913461607,
          0.013699829488182443,
          0.01359284649141421,
          0.013485529291511844,
          0.013377749779964782,
          0.013269367593452718,
          0.013160233122219601,
          0.013050190692462722,
          0.01293908187339821,
          0.01282674885616426,
          0.012713037849166725,
          0.012597802432938158,
          0.012480906817131555,
          0.012362228942943629,
          0.012241663376071348,
          0.012119123938237776,
          0.011994546029339378,
          0.011867888597307186,
          0.01173913571874529,
          0.011608297760206674,
          0.011475412097453284,
          0.011340543378078027,
          0.011203783321276188,
          0.011065250057167733,
          0.010925087016708985,
          0.010783461391707282,
          0.01064056219258117,
          0.010496597939114682,
          0.01035179402637047,
          0.010206389813996965,
          0.010060635492257915,
          0.009914788782111373,
          0.009769111529482582,
          0.009623866255448633,
          0.009479312724347329,
          0.009335704590836567,
          0.009193286184689156,
          0.009052289488665363,
          0.008912931360248124,
          0.008775411042462574,
          0.008639908002564044,
          0.008506580130223693,
          0.008375562319135414,
          0.00824696544789373,
          0.008120875767738761,
          0.007997354696521403,
          0.007876439010197078,
          0.007758141415491353,
          0.007642451480262143,
          0.007529336891665494,
          0.0074187450066439805,
          0.00731060465461203,
          0.007204828148589719,
          0.007101313458496308,
          0.006999946498881385,
          0.0069006034830494875,
          0.006803153296289231,
          0.006707459842703692,
          0.006613384322870549,
          0.006520787403142387,
          0.006429531241710907,
          0.006339481341470535,
          0.0062505082050846,
          0.006162488773332187,
          0.006075307633641828,
          0.005988857991553151,
          0.005903042403540747,
          0.005817773275055224,
          0.005732973132659964,
          0.005648574683662622,
          0.005564520680569752,
          0.005480763610960211,
          0.0053972652359323865,
          0.005313996002100057,
          0.00523093435319045,
          0.0051480659676451735,
          0.005065382948276489,
          0.004982882989036467,
          0.004900568542381587,
          0.004818446008638612,
          0.00473652496628678,
          0.004654817459263191,
          0.004573337354370791,
          0.004492099778720841,
          0.004411120643975092,
          0.004330416261054485,
          0.004250003046040986,
          0.004169897315288861,
          0.0040901151653457354,
          0.004010672431211781,
          0.003931584714773695,
          0.0038528674739590134,
          0.0037745361622733846,
          0.003696606407901149,
          0.0036190942214468147,
          0.003542016221641584,
          0.0034653898688912334,
          0.003389233697351703,
          0.0033135675372303673,
          0.003238412720167214,
          0.0031637922617913194,
          0.00308973101681772,
          0.0030162558032940344,
          0.002943395493778355,
          0.002871181072289157,
          0.002799645656783166,
          0.002728824487667336,
          0.002658754883422582,
          0.002589476164811144,
          0.0025210295493606947,
          0.00245345801788635,
          0.0023868061547483556,
          0.00232111996337983,
          0.00225644665838913,
          0.002192834435281617,
          0.0021303322185933036,
          0.002068989389018195,
          0.0020088554899749395,
          0.0019499799140221138,
          0.001892411569616112,
          0.0018361985289226245,
          0.0017813876577474695,
          0.0017280242291392307,
          0.001676151522823257,
          0.0016258104133323615,
          0.0015770389504761338,
          0.0015298719366051762,
          0.0014843405059390762,
          0.0014404717119981018,
          0.0013982881298656717,
          0.001357807480570953,
          0.0013190422852809476,
          0.001281999557195094,
          0.0012466805390163832,
          0.0012130804936110254,
          0.0011811885549532213,
          0.001150987645680836,
          0.0011224544665695395,
          0.0010955595619851215,
          0.001070267463922727,
          0.001046536915623137,
          0.0010243211740123142,
          0.0010035683883899452,
          0.0009842220509485061,
          0.0009662215128919266,
          0.0009495025581985003,
          0.0009339980254913252,
          0.0009196384670931724,
          0.0009063528331983313,
          0.0008940691682323904,
          0.0008827153059245406,
          0.0008722195494096699,
          0.0008625113228229496,
          0.0008535217813509028,
          0.0008451843675530126,
          0.0008374353029487677,
          0.0008302140053487732,
          0.0008234634241583089,
          0.0008171302878520871,
          0.0008111652599580081,
          0.0008055230021382832,
          0.000800162145257297,
          0.000795045171614567,
          0.0007901382137355452,
          0.0007854107771919899,
          0.0007808353968104826,
          0.0007763872372703988,
          0.0007720436504468007,
          0.0007677837028822526,
          0.000763587687447099,
          0.0007594366335524788,
          0.0007553118302069818,
          0.0007511943757595618,
          0.0007470647673615656,
          0.0007429025420331085,
          0.0007386859797658421,
          0.0007343918773765582,
          0.0007299953998912837,
          0.0007254700141411697,
          0.0007207875070463684,
          0.0007159180888118748,
          0.0007108305790198904,
          0.0007054926714355854,
          0.0006998712713033622,
          0.0006939328970506659,
          0.0006876441366823293,
          0.0006809721477796481,
          0.0006738851889463353,
          0.0006663531697912287,
          0.0006583482061188568,
          0.000649845166918587,
          0.0006408221999964428,
          0.0006312612236676385,
          0.0006211483728010171,
          0.0006104743886498692,
          0.0005992349432820689,
          0.0005874308909954044,
          0.0005750684408270526,
          0.0005621592460923391,
          0.000548720408768881,
          0.000534774398429766,
          0.0005203488872769827,
          0.0005054765045896334,
          0.0004901945155404076
         ],
         "yaxis": "y"
        },
        {
         "legendgroup": "diabetic",
         "marker": {
          "color": "#FFD700",
          "symbol": "line-ns-open"
         },
         "mode": "markers",
         "name": "diabetic",
         "showlegend": false,
         "type": "scatter",
         "x": [
          148,
          183,
          137,
          78,
          197,
          125,
          168,
          189,
          166,
          100,
          118,
          107,
          115,
          196,
          119,
          143,
          125,
          147,
          158,
          102,
          90,
          111,
          171,
          180,
          103,
          176,
          187,
          133,
          114,
          109,
          100,
          126,
          131,
          137,
          136,
          134,
          122,
          163,
          95,
          171,
          155,
          160,
          146,
          124,
          162,
          113,
          88,
          117,
          105,
          173,
          122,
          170,
          108,
          156,
          188,
          152,
          163,
          131,
          104,
          102,
          134,
          179,
          129,
          130,
          194,
          181,
          128,
          109,
          139,
          159,
          135,
          158,
          107,
          109,
          148,
          196,
          162,
          184,
          140,
          112,
          151,
          109,
          85,
          112,
          177,
          158,
          162,
          142,
          134,
          171,
          181,
          179,
          164,
          139,
          119,
          184,
          92,
          113,
          155,
          141,
          123,
          138,
          146,
          101,
          106,
          146,
          161,
          108,
          119,
          107,
          128,
          128,
          146,
          100,
          167,
          144,
          115,
          161,
          128,
          124,
          155,
          109,
          182,
          194,
          112,
          124,
          152,
          122,
          102,
          180,
          115,
          152,
          178,
          0,
          165,
          125,
          129,
          196,
          189,
          146,
          124,
          133,
          173,
          140,
          156,
          116,
          105,
          144,
          166,
          158,
          131,
          193,
          95,
          136,
          168,
          115,
          197,
          172,
          138,
          173,
          144,
          129,
          151,
          184,
          181,
          95,
          141,
          189,
          108,
          117,
          180,
          104,
          134,
          175,
          148,
          120,
          105,
          158,
          145,
          135,
          125,
          195,
          0,
          180,
          84,
          163,
          145,
          130,
          132,
          129,
          100,
          128,
          90,
          186,
          187,
          125,
          198,
          121,
          118,
          197,
          151,
          124,
          143,
          176,
          111,
          132,
          188,
          173,
          150,
          183,
          181,
          174,
          168,
          138,
          112,
          119,
          114,
          104,
          97,
          147,
          167,
          179,
          136,
          155,
          80,
          199,
          167,
          145,
          115,
          145,
          111,
          195,
          156,
          121,
          162,
          125,
          144,
          158,
          129,
          142,
          169,
          125,
          168,
          115,
          164,
          93,
          129,
          187,
          173,
          97,
          149,
          130,
          120,
          174,
          102,
          120,
          140,
          147,
          187,
          162,
          136,
          181,
          154,
          128,
          123,
          190,
          170,
          126
         ],
         "xaxis": "x",
         "y": [
          "diabetic",
          "diabetic",
          "diabetic",
          "diabetic",
          "diabetic",
          "diabetic",
          "diabetic",
          "diabetic",
          "diabetic",
          "diabetic",
          "diabetic",
          "diabetic",
          "diabetic",
          "diabetic",
          "diabetic",
          "diabetic",
          "diabetic",
          "diabetic",
          "diabetic",
          "diabetic",
          "diabetic",
          "diabetic",
          "diabetic",
          "diabetic",
          "diabetic",
          "diabetic",
          "diabetic",
          "diabetic",
          "diabetic",
          "diabetic",
          "diabetic",
          "diabetic",
          "diabetic",
          "diabetic",
          "diabetic",
          "diabetic",
          "diabetic",
          "diabetic",
          "diabetic",
          "diabetic",
          "diabetic",
          "diabetic",
          "diabetic",
          "diabetic",
          "diabetic",
          "diabetic",
          "diabetic",
          "diabetic",
          "diabetic",
          "diabetic",
          "diabetic",
          "diabetic",
          "diabetic",
          "diabetic",
          "diabetic",
          "diabetic",
          "diabetic",
          "diabetic",
          "diabetic",
          "diabetic",
          "diabetic",
          "diabetic",
          "diabetic",
          "diabetic",
          "diabetic",
          "diabetic",
          "diabetic",
          "diabetic",
          "diabetic",
          "diabetic",
          "diabetic",
          "diabetic",
          "diabetic",
          "diabetic",
          "diabetic",
          "diabetic",
          "diabetic",
          "diabetic",
          "diabetic",
          "diabetic",
          "diabetic",
          "diabetic",
          "diabetic",
          "diabetic",
          "diabetic",
          "diabetic",
          "diabetic",
          "diabetic",
          "diabetic",
          "diabetic",
          "diabetic",
          "diabetic",
          "diabetic",
          "diabetic",
          "diabetic",
          "diabetic",
          "diabetic",
          "diabetic",
          "diabetic",
          "diabetic",
          "diabetic",
          "diabetic",
          "diabetic",
          "diabetic",
          "diabetic",
          "diabetic",
          "diabetic",
          "diabetic",
          "diabetic",
          "diabetic",
          "diabetic",
          "diabetic",
          "diabetic",
          "diabetic",
          "diabetic",
          "diabetic",
          "diabetic",
          "diabetic",
          "diabetic",
          "diabetic",
          "diabetic",
          "diabetic",
          "diabetic",
          "diabetic",
          "diabetic",
          "diabetic",
          "diabetic",
          "diabetic",
          "diabetic",
          "diabetic",
          "diabetic",
          "diabetic",
          "diabetic",
          "diabetic",
          "diabetic",
          "diabetic",
          "diabetic",
          "diabetic",
          "diabetic",
          "diabetic",
          "diabetic",
          "diabetic",
          "diabetic",
          "diabetic",
          "diabetic",
          "diabetic",
          "diabetic",
          "diabetic",
          "diabetic",
          "diabetic",
          "diabetic",
          "diabetic",
          "diabetic",
          "diabetic",
          "diabetic",
          "diabetic",
          "diabetic",
          "diabetic",
          "diabetic",
          "diabetic",
          "diabetic",
          "diabetic",
          "diabetic",
          "diabetic",
          "diabetic",
          "diabetic",
          "diabetic",
          "diabetic",
          "diabetic",
          "diabetic",
          "diabetic",
          "diabetic",
          "diabetic",
          "diabetic",
          "diabetic",
          "diabetic",
          "diabetic",
          "diabetic",
          "diabetic",
          "diabetic",
          "diabetic",
          "diabetic",
          "diabetic",
          "diabetic",
          "diabetic",
          "diabetic",
          "diabetic",
          "diabetic",
          "diabetic",
          "diabetic",
          "diabetic",
          "diabetic",
          "diabetic",
          "diabetic",
          "diabetic",
          "diabetic",
          "diabetic",
          "diabetic",
          "diabetic",
          "diabetic",
          "diabetic",
          "diabetic",
          "diabetic",
          "diabetic",
          "diabetic",
          "diabetic",
          "diabetic",
          "diabetic",
          "diabetic",
          "diabetic",
          "diabetic",
          "diabetic",
          "diabetic",
          "diabetic",
          "diabetic",
          "diabetic",
          "diabetic",
          "diabetic",
          "diabetic",
          "diabetic",
          "diabetic",
          "diabetic",
          "diabetic",
          "diabetic",
          "diabetic",
          "diabetic",
          "diabetic",
          "diabetic",
          "diabetic",
          "diabetic",
          "diabetic",
          "diabetic",
          "diabetic",
          "diabetic",
          "diabetic",
          "diabetic",
          "diabetic",
          "diabetic",
          "diabetic",
          "diabetic",
          "diabetic",
          "diabetic",
          "diabetic",
          "diabetic",
          "diabetic",
          "diabetic",
          "diabetic",
          "diabetic",
          "diabetic",
          "diabetic",
          "diabetic",
          "diabetic",
          "diabetic",
          "diabetic",
          "diabetic",
          "diabetic",
          "diabetic",
          "diabetic",
          "diabetic",
          "diabetic",
          "diabetic",
          "diabetic",
          "diabetic",
          "diabetic",
          "diabetic",
          "diabetic",
          "diabetic",
          "diabetic"
         ],
         "yaxis": "y2"
        },
        {
         "legendgroup": "healthy",
         "marker": {
          "color": "#7EC0EE",
          "symbol": "line-ns-open"
         },
         "mode": "markers",
         "name": "healthy",
         "showlegend": false,
         "type": "scatter",
         "x": [
          85,
          89,
          116,
          115,
          110,
          139,
          103,
          126,
          99,
          97,
          145,
          117,
          109,
          88,
          92,
          122,
          103,
          138,
          180,
          133,
          106,
          159,
          146,
          71,
          105,
          103,
          101,
          88,
          150,
          73,
          100,
          146,
          105,
          84,
          44,
          141,
          99,
          109,
          95,
          146,
          139,
          129,
          79,
          0,
          62,
          95,
          112,
          113,
          74,
          83,
          101,
          110,
          106,
          100,
          107,
          80,
          123,
          81,
          142,
          144,
          92,
          71,
          93,
          151,
          125,
          81,
          85,
          126,
          96,
          144,
          83,
          89,
          76,
          78,
          97,
          99,
          111,
          107,
          132,
          120,
          118,
          84,
          96,
          125,
          100,
          93,
          129,
          105,
          128,
          106,
          108,
          154,
          102,
          57,
          106,
          147,
          90,
          136,
          114,
          153,
          99,
          109,
          88,
          151,
          102,
          114,
          100,
          148,
          120,
          110,
          111,
          87,
          79,
          75,
          85,
          143,
          87,
          119,
          0,
          73,
          141,
          111,
          123,
          85,
          105,
          113,
          138,
          108,
          99,
          103,
          111,
          96,
          81,
          147,
          179,
          125,
          119,
          142,
          100,
          87,
          101,
          197,
          117,
          79,
          122,
          74,
          104,
          91,
          91,
          146,
          122,
          165,
          124,
          111,
          106,
          129,
          90,
          86,
          111,
          114,
          193,
          191,
          95,
          142,
          96,
          128,
          102,
          108,
          122,
          71,
          106,
          100,
          104,
          114,
          108,
          129,
          133,
          136,
          155,
          96,
          108,
          78,
          161,
          151,
          126,
          112,
          77,
          150,
          120,
          137,
          80,
          106,
          113,
          112,
          99,
          115,
          129,
          112,
          157,
          179,
          105,
          118,
          87,
          106,
          95,
          165,
          117,
          130,
          95,
          0,
          122,
          95,
          126,
          139,
          116,
          99,
          92,
          137,
          61,
          90,
          90,
          88,
          158,
          103,
          147,
          99,
          101,
          81,
          118,
          84,
          105,
          122,
          98,
          87,
          93,
          107,
          105,
          109,
          90,
          125,
          119,
          100,
          100,
          131,
          116,
          127,
          96,
          82,
          137,
          72,
          123,
          101,
          102,
          112,
          143,
          143,
          97,
          83,
          119,
          94,
          102,
          115,
          94,
          135,
          99,
          89,
          80,
          139,
          90,
          140,
          147,
          97,
          107,
          83,
          117,
          100,
          95,
          120,
          82,
          91,
          119,
          100,
          135,
          86,
          134,
          120,
          71,
          74,
          88,
          115,
          124,
          74,
          97,
          154,
          144,
          137,
          119,
          136,
          114,
          137,
          114,
          126,
          132,
          123,
          85,
          84,
          139,
          173,
          99,
          194,
          83,
          89,
          99,
          80,
          166,
          110,
          81,
          154,
          117,
          84,
          94,
          96,
          75,
          130,
          84,
          120,
          139,
          91,
          91,
          99,
          125,
          76,
          129,
          68,
          124,
          114,
          125,
          87,
          97,
          116,
          117,
          111,
          122,
          107,
          86,
          91,
          77,
          105,
          57,
          127,
          84,
          88,
          131,
          164,
          189,
          116,
          84,
          114,
          88,
          84,
          124,
          97,
          110,
          103,
          85,
          87,
          99,
          91,
          95,
          99,
          92,
          154,
          78,
          130,
          111,
          98,
          143,
          119,
          108,
          133,
          109,
          121,
          100,
          93,
          103,
          73,
          112,
          82,
          123,
          67,
          89,
          109,
          108,
          96,
          124,
          124,
          92,
          152,
          111,
          106,
          105,
          106,
          117,
          68,
          112,
          92,
          183,
          94,
          108,
          90,
          125,
          132,
          128,
          94,
          102,
          111,
          128,
          92,
          104,
          94,
          100,
          102,
          128,
          90,
          103,
          157,
          107,
          91,
          117,
          123,
          120,
          106,
          101,
          120,
          127,
          162,
          112,
          98,
          154,
          165,
          99,
          68,
          123,
          91,
          93,
          101,
          56,
          95,
          136,
          129,
          130,
          107,
          140,
          107,
          121,
          90,
          99,
          127,
          118,
          122,
          129,
          110,
          80,
          127,
          158,
          126,
          134,
          102,
          94,
          108,
          83,
          114,
          117,
          111,
          112,
          116,
          141,
          175,
          92,
          106,
          105,
          95,
          126,
          65,
          99,
          102,
          109,
          153,
          100,
          81,
          121,
          108,
          137,
          106,
          88,
          89,
          101,
          122,
          121,
          93
         ],
         "xaxis": "x",
         "y": [
          "healthy",
          "healthy",
          "healthy",
          "healthy",
          "healthy",
          "healthy",
          "healthy",
          "healthy",
          "healthy",
          "healthy",
          "healthy",
          "healthy",
          "healthy",
          "healthy",
          "healthy",
          "healthy",
          "healthy",
          "healthy",
          "healthy",
          "healthy",
          "healthy",
          "healthy",
          "healthy",
          "healthy",
          "healthy",
          "healthy",
          "healthy",
          "healthy",
          "healthy",
          "healthy",
          "healthy",
          "healthy",
          "healthy",
          "healthy",
          "healthy",
          "healthy",
          "healthy",
          "healthy",
          "healthy",
          "healthy",
          "healthy",
          "healthy",
          "healthy",
          "healthy",
          "healthy",
          "healthy",
          "healthy",
          "healthy",
          "healthy",
          "healthy",
          "healthy",
          "healthy",
          "healthy",
          "healthy",
          "healthy",
          "healthy",
          "healthy",
          "healthy",
          "healthy",
          "healthy",
          "healthy",
          "healthy",
          "healthy",
          "healthy",
          "healthy",
          "healthy",
          "healthy",
          "healthy",
          "healthy",
          "healthy",
          "healthy",
          "healthy",
          "healthy",
          "healthy",
          "healthy",
          "healthy",
          "healthy",
          "healthy",
          "healthy",
          "healthy",
          "healthy",
          "healthy",
          "healthy",
          "healthy",
          "healthy",
          "healthy",
          "healthy",
          "healthy",
          "healthy",
          "healthy",
          "healthy",
          "healthy",
          "healthy",
          "healthy",
          "healthy",
          "healthy",
          "healthy",
          "healthy",
          "healthy",
          "healthy",
          "healthy",
          "healthy",
          "healthy",
          "healthy",
          "healthy",
          "healthy",
          "healthy",
          "healthy",
          "healthy",
          "healthy",
          "healthy",
          "healthy",
          "healthy",
          "healthy",
          "healthy",
          "healthy",
          "healthy",
          "healthy",
          "healthy",
          "healthy",
          "healthy",
          "healthy",
          "healthy",
          "healthy",
          "healthy",
          "healthy",
          "healthy",
          "healthy",
          "healthy",
          "healthy",
          "healthy",
          "healthy",
          "healthy",
          "healthy",
          "healthy",
          "healthy",
          "healthy",
          "healthy",
          "healthy",
          "healthy",
          "healthy",
          "healthy",
          "healthy",
          "healthy",
          "healthy",
          "healthy",
          "healthy",
          "healthy",
          "healthy",
          "healthy",
          "healthy",
          "healthy",
          "healthy",
          "healthy",
          "healthy",
          "healthy",
          "healthy",
          "healthy",
          "healthy",
          "healthy",
          "healthy",
          "healthy",
          "healthy",
          "healthy",
          "healthy",
          "healthy",
          "healthy",
          "healthy",
          "healthy",
          "healthy",
          "healthy",
          "healthy",
          "healthy",
          "healthy",
          "healthy",
          "healthy",
          "healthy",
          "healthy",
          "healthy",
          "healthy",
          "healthy",
          "healthy",
          "healthy",
          "healthy",
          "healthy",
          "healthy",
          "healthy",
          "healthy",
          "healthy",
          "healthy",
          "healthy",
          "healthy",
          "healthy",
          "healthy",
          "healthy",
          "healthy",
          "healthy",
          "healthy",
          "healthy",
          "healthy",
          "healthy",
          "healthy",
          "healthy",
          "healthy",
          "healthy",
          "healthy",
          "healthy",
          "healthy",
          "healthy",
          "healthy",
          "healthy",
          "healthy",
          "healthy",
          "healthy",
          "healthy",
          "healthy",
          "healthy",
          "healthy",
          "healthy",
          "healthy",
          "healthy",
          "healthy",
          "healthy",
          "healthy",
          "healthy",
          "healthy",
          "healthy",
          "healthy",
          "healthy",
          "healthy",
          "healthy",
          "healthy",
          "healthy",
          "healthy",
          "healthy",
          "healthy",
          "healthy",
          "healthy",
          "healthy",
          "healthy",
          "healthy",
          "healthy",
          "healthy",
          "healthy",
          "healthy",
          "healthy",
          "healthy",
          "healthy",
          "healthy",
          "healthy",
          "healthy",
          "healthy",
          "healthy",
          "healthy",
          "healthy",
          "healthy",
          "healthy",
          "healthy",
          "healthy",
          "healthy",
          "healthy",
          "healthy",
          "healthy",
          "healthy",
          "healthy",
          "healthy",
          "healthy",
          "healthy",
          "healthy",
          "healthy",
          "healthy",
          "healthy",
          "healthy",
          "healthy",
          "healthy",
          "healthy",
          "healthy",
          "healthy",
          "healthy",
          "healthy",
          "healthy",
          "healthy",
          "healthy",
          "healthy",
          "healthy",
          "healthy",
          "healthy",
          "healthy",
          "healthy",
          "healthy",
          "healthy",
          "healthy",
          "healthy",
          "healthy",
          "healthy",
          "healthy",
          "healthy",
          "healthy",
          "healthy",
          "healthy",
          "healthy",
          "healthy",
          "healthy",
          "healthy",
          "healthy",
          "healthy",
          "healthy",
          "healthy",
          "healthy",
          "healthy",
          "healthy",
          "healthy",
          "healthy",
          "healthy",
          "healthy",
          "healthy",
          "healthy",
          "healthy",
          "healthy",
          "healthy",
          "healthy",
          "healthy",
          "healthy",
          "healthy",
          "healthy",
          "healthy",
          "healthy",
          "healthy",
          "healthy",
          "healthy",
          "healthy",
          "healthy",
          "healthy",
          "healthy",
          "healthy",
          "healthy",
          "healthy",
          "healthy",
          "healthy",
          "healthy",
          "healthy",
          "healthy",
          "healthy",
          "healthy",
          "healthy",
          "healthy",
          "healthy",
          "healthy",
          "healthy",
          "healthy",
          "healthy",
          "healthy",
          "healthy",
          "healthy",
          "healthy",
          "healthy",
          "healthy",
          "healthy",
          "healthy",
          "healthy",
          "healthy",
          "healthy",
          "healthy",
          "healthy",
          "healthy",
          "healthy",
          "healthy",
          "healthy",
          "healthy",
          "healthy",
          "healthy",
          "healthy",
          "healthy",
          "healthy",
          "healthy",
          "healthy",
          "healthy",
          "healthy",
          "healthy",
          "healthy",
          "healthy",
          "healthy",
          "healthy",
          "healthy",
          "healthy",
          "healthy",
          "healthy",
          "healthy",
          "healthy",
          "healthy",
          "healthy",
          "healthy",
          "healthy",
          "healthy",
          "healthy",
          "healthy",
          "healthy",
          "healthy",
          "healthy",
          "healthy",
          "healthy",
          "healthy",
          "healthy",
          "healthy",
          "healthy",
          "healthy",
          "healthy",
          "healthy",
          "healthy",
          "healthy",
          "healthy",
          "healthy",
          "healthy",
          "healthy",
          "healthy",
          "healthy",
          "healthy",
          "healthy",
          "healthy",
          "healthy",
          "healthy",
          "healthy",
          "healthy",
          "healthy",
          "healthy",
          "healthy",
          "healthy",
          "healthy",
          "healthy",
          "healthy",
          "healthy",
          "healthy",
          "healthy",
          "healthy",
          "healthy",
          "healthy",
          "healthy",
          "healthy",
          "healthy",
          "healthy",
          "healthy",
          "healthy",
          "healthy",
          "healthy",
          "healthy",
          "healthy",
          "healthy",
          "healthy",
          "healthy",
          "healthy",
          "healthy",
          "healthy",
          "healthy",
          "healthy",
          "healthy",
          "healthy",
          "healthy",
          "healthy",
          "healthy",
          "healthy",
          "healthy",
          "healthy",
          "healthy",
          "healthy",
          "healthy",
          "healthy",
          "healthy",
          "healthy",
          "healthy",
          "healthy",
          "healthy",
          "healthy",
          "healthy",
          "healthy",
          "healthy",
          "healthy",
          "healthy",
          "healthy",
          "healthy",
          "healthy",
          "healthy",
          "healthy",
          "healthy",
          "healthy",
          "healthy",
          "healthy",
          "healthy",
          "healthy",
          "healthy",
          "healthy",
          "healthy",
          "healthy",
          "healthy",
          "healthy",
          "healthy",
          "healthy",
          "healthy",
          "healthy",
          "healthy",
          "healthy"
         ],
         "yaxis": "y2"
        }
       ],
       "layout": {
        "barmode": "overlay",
        "hovermode": "closest",
        "legend": {
         "traceorder": "reversed"
        },
        "template": {
         "data": {
          "bar": [
           {
            "error_x": {
             "color": "#2a3f5f"
            },
            "error_y": {
             "color": "#2a3f5f"
            },
            "marker": {
             "line": {
              "color": "#E5ECF6",
              "width": 0.5
             }
            },
            "type": "bar"
           }
          ],
          "barpolar": [
           {
            "marker": {
             "line": {
              "color": "#E5ECF6",
              "width": 0.5
             }
            },
            "type": "barpolar"
           }
          ],
          "carpet": [
           {
            "aaxis": {
             "endlinecolor": "#2a3f5f",
             "gridcolor": "white",
             "linecolor": "white",
             "minorgridcolor": "white",
             "startlinecolor": "#2a3f5f"
            },
            "baxis": {
             "endlinecolor": "#2a3f5f",
             "gridcolor": "white",
             "linecolor": "white",
             "minorgridcolor": "white",
             "startlinecolor": "#2a3f5f"
            },
            "type": "carpet"
           }
          ],
          "choropleth": [
           {
            "colorbar": {
             "outlinewidth": 0,
             "ticks": ""
            },
            "type": "choropleth"
           }
          ],
          "contour": [
           {
            "colorbar": {
             "outlinewidth": 0,
             "ticks": ""
            },
            "colorscale": [
             [
              0,
              "#0d0887"
             ],
             [
              0.1111111111111111,
              "#46039f"
             ],
             [
              0.2222222222222222,
              "#7201a8"
             ],
             [
              0.3333333333333333,
              "#9c179e"
             ],
             [
              0.4444444444444444,
              "#bd3786"
             ],
             [
              0.5555555555555556,
              "#d8576b"
             ],
             [
              0.6666666666666666,
              "#ed7953"
             ],
             [
              0.7777777777777778,
              "#fb9f3a"
             ],
             [
              0.8888888888888888,
              "#fdca26"
             ],
             [
              1,
              "#f0f921"
             ]
            ],
            "type": "contour"
           }
          ],
          "contourcarpet": [
           {
            "colorbar": {
             "outlinewidth": 0,
             "ticks": ""
            },
            "type": "contourcarpet"
           }
          ],
          "heatmap": [
           {
            "colorbar": {
             "outlinewidth": 0,
             "ticks": ""
            },
            "colorscale": [
             [
              0,
              "#0d0887"
             ],
             [
              0.1111111111111111,
              "#46039f"
             ],
             [
              0.2222222222222222,
              "#7201a8"
             ],
             [
              0.3333333333333333,
              "#9c179e"
             ],
             [
              0.4444444444444444,
              "#bd3786"
             ],
             [
              0.5555555555555556,
              "#d8576b"
             ],
             [
              0.6666666666666666,
              "#ed7953"
             ],
             [
              0.7777777777777778,
              "#fb9f3a"
             ],
             [
              0.8888888888888888,
              "#fdca26"
             ],
             [
              1,
              "#f0f921"
             ]
            ],
            "type": "heatmap"
           }
          ],
          "heatmapgl": [
           {
            "colorbar": {
             "outlinewidth": 0,
             "ticks": ""
            },
            "colorscale": [
             [
              0,
              "#0d0887"
             ],
             [
              0.1111111111111111,
              "#46039f"
             ],
             [
              0.2222222222222222,
              "#7201a8"
             ],
             [
              0.3333333333333333,
              "#9c179e"
             ],
             [
              0.4444444444444444,
              "#bd3786"
             ],
             [
              0.5555555555555556,
              "#d8576b"
             ],
             [
              0.6666666666666666,
              "#ed7953"
             ],
             [
              0.7777777777777778,
              "#fb9f3a"
             ],
             [
              0.8888888888888888,
              "#fdca26"
             ],
             [
              1,
              "#f0f921"
             ]
            ],
            "type": "heatmapgl"
           }
          ],
          "histogram": [
           {
            "marker": {
             "colorbar": {
              "outlinewidth": 0,
              "ticks": ""
             }
            },
            "type": "histogram"
           }
          ],
          "histogram2d": [
           {
            "colorbar": {
             "outlinewidth": 0,
             "ticks": ""
            },
            "colorscale": [
             [
              0,
              "#0d0887"
             ],
             [
              0.1111111111111111,
              "#46039f"
             ],
             [
              0.2222222222222222,
              "#7201a8"
             ],
             [
              0.3333333333333333,
              "#9c179e"
             ],
             [
              0.4444444444444444,
              "#bd3786"
             ],
             [
              0.5555555555555556,
              "#d8576b"
             ],
             [
              0.6666666666666666,
              "#ed7953"
             ],
             [
              0.7777777777777778,
              "#fb9f3a"
             ],
             [
              0.8888888888888888,
              "#fdca26"
             ],
             [
              1,
              "#f0f921"
             ]
            ],
            "type": "histogram2d"
           }
          ],
          "histogram2dcontour": [
           {
            "colorbar": {
             "outlinewidth": 0,
             "ticks": ""
            },
            "colorscale": [
             [
              0,
              "#0d0887"
             ],
             [
              0.1111111111111111,
              "#46039f"
             ],
             [
              0.2222222222222222,
              "#7201a8"
             ],
             [
              0.3333333333333333,
              "#9c179e"
             ],
             [
              0.4444444444444444,
              "#bd3786"
             ],
             [
              0.5555555555555556,
              "#d8576b"
             ],
             [
              0.6666666666666666,
              "#ed7953"
             ],
             [
              0.7777777777777778,
              "#fb9f3a"
             ],
             [
              0.8888888888888888,
              "#fdca26"
             ],
             [
              1,
              "#f0f921"
             ]
            ],
            "type": "histogram2dcontour"
           }
          ],
          "mesh3d": [
           {
            "colorbar": {
             "outlinewidth": 0,
             "ticks": ""
            },
            "type": "mesh3d"
           }
          ],
          "parcoords": [
           {
            "line": {
             "colorbar": {
              "outlinewidth": 0,
              "ticks": ""
             }
            },
            "type": "parcoords"
           }
          ],
          "pie": [
           {
            "automargin": true,
            "type": "pie"
           }
          ],
          "scatter": [
           {
            "marker": {
             "colorbar": {
              "outlinewidth": 0,
              "ticks": ""
             }
            },
            "type": "scatter"
           }
          ],
          "scatter3d": [
           {
            "line": {
             "colorbar": {
              "outlinewidth": 0,
              "ticks": ""
             }
            },
            "marker": {
             "colorbar": {
              "outlinewidth": 0,
              "ticks": ""
             }
            },
            "type": "scatter3d"
           }
          ],
          "scattercarpet": [
           {
            "marker": {
             "colorbar": {
              "outlinewidth": 0,
              "ticks": ""
             }
            },
            "type": "scattercarpet"
           }
          ],
          "scattergeo": [
           {
            "marker": {
             "colorbar": {
              "outlinewidth": 0,
              "ticks": ""
             }
            },
            "type": "scattergeo"
           }
          ],
          "scattergl": [
           {
            "marker": {
             "colorbar": {
              "outlinewidth": 0,
              "ticks": ""
             }
            },
            "type": "scattergl"
           }
          ],
          "scattermapbox": [
           {
            "marker": {
             "colorbar": {
              "outlinewidth": 0,
              "ticks": ""
             }
            },
            "type": "scattermapbox"
           }
          ],
          "scatterpolar": [
           {
            "marker": {
             "colorbar": {
              "outlinewidth": 0,
              "ticks": ""
             }
            },
            "type": "scatterpolar"
           }
          ],
          "scatterpolargl": [
           {
            "marker": {
             "colorbar": {
              "outlinewidth": 0,
              "ticks": ""
             }
            },
            "type": "scatterpolargl"
           }
          ],
          "scatterternary": [
           {
            "marker": {
             "colorbar": {
              "outlinewidth": 0,
              "ticks": ""
             }
            },
            "type": "scatterternary"
           }
          ],
          "surface": [
           {
            "colorbar": {
             "outlinewidth": 0,
             "ticks": ""
            },
            "colorscale": [
             [
              0,
              "#0d0887"
             ],
             [
              0.1111111111111111,
              "#46039f"
             ],
             [
              0.2222222222222222,
              "#7201a8"
             ],
             [
              0.3333333333333333,
              "#9c179e"
             ],
             [
              0.4444444444444444,
              "#bd3786"
             ],
             [
              0.5555555555555556,
              "#d8576b"
             ],
             [
              0.6666666666666666,
              "#ed7953"
             ],
             [
              0.7777777777777778,
              "#fb9f3a"
             ],
             [
              0.8888888888888888,
              "#fdca26"
             ],
             [
              1,
              "#f0f921"
             ]
            ],
            "type": "surface"
           }
          ],
          "table": [
           {
            "cells": {
             "fill": {
              "color": "#EBF0F8"
             },
             "line": {
              "color": "white"
             }
            },
            "header": {
             "fill": {
              "color": "#C8D4E3"
             },
             "line": {
              "color": "white"
             }
            },
            "type": "table"
           }
          ]
         },
         "layout": {
          "annotationdefaults": {
           "arrowcolor": "#2a3f5f",
           "arrowhead": 0,
           "arrowwidth": 1
          },
          "coloraxis": {
           "colorbar": {
            "outlinewidth": 0,
            "ticks": ""
           }
          },
          "colorscale": {
           "diverging": [
            [
             0,
             "#8e0152"
            ],
            [
             0.1,
             "#c51b7d"
            ],
            [
             0.2,
             "#de77ae"
            ],
            [
             0.3,
             "#f1b6da"
            ],
            [
             0.4,
             "#fde0ef"
            ],
            [
             0.5,
             "#f7f7f7"
            ],
            [
             0.6,
             "#e6f5d0"
            ],
            [
             0.7,
             "#b8e186"
            ],
            [
             0.8,
             "#7fbc41"
            ],
            [
             0.9,
             "#4d9221"
            ],
            [
             1,
             "#276419"
            ]
           ],
           "sequential": [
            [
             0,
             "#0d0887"
            ],
            [
             0.1111111111111111,
             "#46039f"
            ],
            [
             0.2222222222222222,
             "#7201a8"
            ],
            [
             0.3333333333333333,
             "#9c179e"
            ],
            [
             0.4444444444444444,
             "#bd3786"
            ],
            [
             0.5555555555555556,
             "#d8576b"
            ],
            [
             0.6666666666666666,
             "#ed7953"
            ],
            [
             0.7777777777777778,
             "#fb9f3a"
            ],
            [
             0.8888888888888888,
             "#fdca26"
            ],
            [
             1,
             "#f0f921"
            ]
           ],
           "sequentialminus": [
            [
             0,
             "#0d0887"
            ],
            [
             0.1111111111111111,
             "#46039f"
            ],
            [
             0.2222222222222222,
             "#7201a8"
            ],
            [
             0.3333333333333333,
             "#9c179e"
            ],
            [
             0.4444444444444444,
             "#bd3786"
            ],
            [
             0.5555555555555556,
             "#d8576b"
            ],
            [
             0.6666666666666666,
             "#ed7953"
            ],
            [
             0.7777777777777778,
             "#fb9f3a"
            ],
            [
             0.8888888888888888,
             "#fdca26"
            ],
            [
             1,
             "#f0f921"
            ]
           ]
          },
          "colorway": [
           "#636efa",
           "#EF553B",
           "#00cc96",
           "#ab63fa",
           "#FFA15A",
           "#19d3f3",
           "#FF6692",
           "#B6E880",
           "#FF97FF",
           "#FECB52"
          ],
          "font": {
           "color": "#2a3f5f"
          },
          "geo": {
           "bgcolor": "white",
           "lakecolor": "white",
           "landcolor": "#E5ECF6",
           "showlakes": true,
           "showland": true,
           "subunitcolor": "white"
          },
          "hoverlabel": {
           "align": "left"
          },
          "hovermode": "closest",
          "mapbox": {
           "style": "light"
          },
          "paper_bgcolor": "white",
          "plot_bgcolor": "#E5ECF6",
          "polar": {
           "angularaxis": {
            "gridcolor": "white",
            "linecolor": "white",
            "ticks": ""
           },
           "bgcolor": "#E5ECF6",
           "radialaxis": {
            "gridcolor": "white",
            "linecolor": "white",
            "ticks": ""
           }
          },
          "scene": {
           "xaxis": {
            "backgroundcolor": "#E5ECF6",
            "gridcolor": "white",
            "gridwidth": 2,
            "linecolor": "white",
            "showbackground": true,
            "ticks": "",
            "zerolinecolor": "white"
           },
           "yaxis": {
            "backgroundcolor": "#E5ECF6",
            "gridcolor": "white",
            "gridwidth": 2,
            "linecolor": "white",
            "showbackground": true,
            "ticks": "",
            "zerolinecolor": "white"
           },
           "zaxis": {
            "backgroundcolor": "#E5ECF6",
            "gridcolor": "white",
            "gridwidth": 2,
            "linecolor": "white",
            "showbackground": true,
            "ticks": "",
            "zerolinecolor": "white"
           }
          },
          "shapedefaults": {
           "line": {
            "color": "#2a3f5f"
           }
          },
          "ternary": {
           "aaxis": {
            "gridcolor": "white",
            "linecolor": "white",
            "ticks": ""
           },
           "baxis": {
            "gridcolor": "white",
            "linecolor": "white",
            "ticks": ""
           },
           "bgcolor": "#E5ECF6",
           "caxis": {
            "gridcolor": "white",
            "linecolor": "white",
            "ticks": ""
           }
          },
          "title": {
           "x": 0.05
          },
          "xaxis": {
           "automargin": true,
           "gridcolor": "white",
           "linecolor": "white",
           "ticks": "",
           "title": {
            "standoff": 15
           },
           "zerolinecolor": "white",
           "zerolinewidth": 2
          },
          "yaxis": {
           "automargin": true,
           "gridcolor": "white",
           "linecolor": "white",
           "ticks": "",
           "title": {
            "standoff": 15
           },
           "zerolinecolor": "white",
           "zerolinewidth": 2
          }
         }
        },
        "title": {
         "text": "Glucose"
        },
        "xaxis": {
         "anchor": "y2",
         "domain": [
          0,
          1
         ],
         "zeroline": false
        },
        "yaxis": {
         "anchor": "free",
         "domain": [
          0.35,
          1
         ],
         "position": 0
        },
        "yaxis2": {
         "anchor": "x",
         "domain": [
          0,
          0.25
         ],
         "dtick": 1,
         "showticklabels": false
        }
       }
      },
      "text/html": [
       "<div>\n",
       "        \n",
       "        \n",
       "            <div id=\"fe069873-a2b8-44eb-b763-b4e435e3514f\" class=\"plotly-graph-div\" style=\"height:525px; width:100%;\"></div>\n",
       "            <script type=\"text/javascript\">\n",
       "                require([\"plotly\"], function(Plotly) {\n",
       "                    window.PLOTLYENV=window.PLOTLYENV || {};\n",
       "                    \n",
       "                if (document.getElementById(\"fe069873-a2b8-44eb-b763-b4e435e3514f\")) {\n",
       "                    Plotly.newPlot(\n",
       "                        'fe069873-a2b8-44eb-b763-b4e435e3514f',\n",
       "                        [{\"autobinx\": false, \"histnorm\": \"probability density\", \"legendgroup\": \"diabetic\", \"marker\": {\"color\": \"#FFD700\"}, \"name\": \"diabetic\", \"opacity\": 0.7, \"type\": \"histogram\", \"x\": [148, 183, 137, 78, 197, 125, 168, 189, 166, 100, 118, 107, 115, 196, 119, 143, 125, 147, 158, 102, 90, 111, 171, 180, 103, 176, 187, 133, 114, 109, 100, 126, 131, 137, 136, 134, 122, 163, 95, 171, 155, 160, 146, 124, 162, 113, 88, 117, 105, 173, 122, 170, 108, 156, 188, 152, 163, 131, 104, 102, 134, 179, 129, 130, 194, 181, 128, 109, 139, 159, 135, 158, 107, 109, 148, 196, 162, 184, 140, 112, 151, 109, 85, 112, 177, 158, 162, 142, 134, 171, 181, 179, 164, 139, 119, 184, 92, 113, 155, 141, 123, 138, 146, 101, 106, 146, 161, 108, 119, 107, 128, 128, 146, 100, 167, 144, 115, 161, 128, 124, 155, 109, 182, 194, 112, 124, 152, 122, 102, 180, 115, 152, 178, 0, 165, 125, 129, 196, 189, 146, 124, 133, 173, 140, 156, 116, 105, 144, 166, 158, 131, 193, 95, 136, 168, 115, 197, 172, 138, 173, 144, 129, 151, 184, 181, 95, 141, 189, 108, 117, 180, 104, 134, 175, 148, 120, 105, 158, 145, 135, 125, 195, 0, 180, 84, 163, 145, 130, 132, 129, 100, 128, 90, 186, 187, 125, 198, 121, 118, 197, 151, 124, 143, 176, 111, 132, 188, 173, 150, 183, 181, 174, 168, 138, 112, 119, 114, 104, 97, 147, 167, 179, 136, 155, 80, 199, 167, 145, 115, 145, 111, 195, 156, 121, 162, 125, 144, 158, 129, 142, 169, 125, 168, 115, 164, 93, 129, 187, 173, 97, 149, 130, 120, 174, 102, 120, 140, 147, 187, 162, 136, 181, 154, 128, 123, 190, 170, 126], \"xaxis\": \"x\", \"xbins\": {\"end\": 199.0, \"size\": 0, \"start\": 0.0}, \"yaxis\": \"y\"}, {\"autobinx\": false, \"histnorm\": \"probability density\", \"legendgroup\": \"healthy\", \"marker\": {\"color\": \"#7EC0EE\"}, \"name\": \"healthy\", \"opacity\": 0.7, \"type\": \"histogram\", \"x\": [85, 89, 116, 115, 110, 139, 103, 126, 99, 97, 145, 117, 109, 88, 92, 122, 103, 138, 180, 133, 106, 159, 146, 71, 105, 103, 101, 88, 150, 73, 100, 146, 105, 84, 44, 141, 99, 109, 95, 146, 139, 129, 79, 0, 62, 95, 112, 113, 74, 83, 101, 110, 106, 100, 107, 80, 123, 81, 142, 144, 92, 71, 93, 151, 125, 81, 85, 126, 96, 144, 83, 89, 76, 78, 97, 99, 111, 107, 132, 120, 118, 84, 96, 125, 100, 93, 129, 105, 128, 106, 108, 154, 102, 57, 106, 147, 90, 136, 114, 153, 99, 109, 88, 151, 102, 114, 100, 148, 120, 110, 111, 87, 79, 75, 85, 143, 87, 119, 0, 73, 141, 111, 123, 85, 105, 113, 138, 108, 99, 103, 111, 96, 81, 147, 179, 125, 119, 142, 100, 87, 101, 197, 117, 79, 122, 74, 104, 91, 91, 146, 122, 165, 124, 111, 106, 129, 90, 86, 111, 114, 193, 191, 95, 142, 96, 128, 102, 108, 122, 71, 106, 100, 104, 114, 108, 129, 133, 136, 155, 96, 108, 78, 161, 151, 126, 112, 77, 150, 120, 137, 80, 106, 113, 112, 99, 115, 129, 112, 157, 179, 105, 118, 87, 106, 95, 165, 117, 130, 95, 0, 122, 95, 126, 139, 116, 99, 92, 137, 61, 90, 90, 88, 158, 103, 147, 99, 101, 81, 118, 84, 105, 122, 98, 87, 93, 107, 105, 109, 90, 125, 119, 100, 100, 131, 116, 127, 96, 82, 137, 72, 123, 101, 102, 112, 143, 143, 97, 83, 119, 94, 102, 115, 94, 135, 99, 89, 80, 139, 90, 140, 147, 97, 107, 83, 117, 100, 95, 120, 82, 91, 119, 100, 135, 86, 134, 120, 71, 74, 88, 115, 124, 74, 97, 154, 144, 137, 119, 136, 114, 137, 114, 126, 132, 123, 85, 84, 139, 173, 99, 194, 83, 89, 99, 80, 166, 110, 81, 154, 117, 84, 94, 96, 75, 130, 84, 120, 139, 91, 91, 99, 125, 76, 129, 68, 124, 114, 125, 87, 97, 116, 117, 111, 122, 107, 86, 91, 77, 105, 57, 127, 84, 88, 131, 164, 189, 116, 84, 114, 88, 84, 124, 97, 110, 103, 85, 87, 99, 91, 95, 99, 92, 154, 78, 130, 111, 98, 143, 119, 108, 133, 109, 121, 100, 93, 103, 73, 112, 82, 123, 67, 89, 109, 108, 96, 124, 124, 92, 152, 111, 106, 105, 106, 117, 68, 112, 92, 183, 94, 108, 90, 125, 132, 128, 94, 102, 111, 128, 92, 104, 94, 100, 102, 128, 90, 103, 157, 107, 91, 117, 123, 120, 106, 101, 120, 127, 162, 112, 98, 154, 165, 99, 68, 123, 91, 93, 101, 56, 95, 136, 129, 130, 107, 140, 107, 121, 90, 99, 127, 118, 122, 129, 110, 80, 127, 158, 126, 134, 102, 94, 108, 83, 114, 117, 111, 112, 116, 141, 175, 92, 106, 105, 95, 126, 65, 99, 102, 109, 153, 100, 81, 121, 108, 137, 106, 88, 89, 101, 122, 121, 93], \"xaxis\": \"x\", \"xbins\": {\"end\": 197.0, \"size\": 0, \"start\": 0.0}, \"yaxis\": \"y\"}, {\"legendgroup\": \"diabetic\", \"marker\": {\"color\": \"#FFD700\"}, \"mode\": \"lines\", \"name\": \"diabetic\", \"showlegend\": false, \"type\": \"scatter\", \"x\": [0.0, 0.398, 0.796, 1.194, 1.592, 1.99, 2.388, 2.786, 3.184, 3.582, 3.98, 4.378, 4.776, 5.174, 5.572, 5.97, 6.368, 6.766, 7.164, 7.562, 7.96, 8.358, 8.756, 9.154, 9.552, 9.95, 10.348, 10.746, 11.144, 11.542, 11.94, 12.338, 12.736, 13.134, 13.532, 13.93, 14.328, 14.726, 15.124, 15.522, 15.92, 16.318, 16.716, 17.114, 17.512, 17.91, 18.308, 18.706, 19.104, 19.502, 19.9, 20.298, 20.696, 21.094, 21.492, 21.89, 22.288, 22.686, 23.084, 23.482, 23.88, 24.278, 24.676, 25.074, 25.472, 25.87, 26.268, 26.666, 27.064, 27.462, 27.86, 28.258, 28.656, 29.054, 29.452, 29.85, 30.248, 30.646, 31.044, 31.442, 31.84, 32.238, 32.636, 33.034, 33.432, 33.83, 34.228, 34.626, 35.024, 35.422, 35.82, 36.218, 36.616, 37.014, 37.412, 37.81, 38.208, 38.606, 39.004, 39.402, 39.8, 40.198, 40.596, 40.994, 41.392, 41.79, 42.188, 42.586, 42.984, 43.382, 43.78, 44.178, 44.576, 44.974, 45.372, 45.77, 46.168, 46.566, 46.964, 47.362, 47.76, 48.158, 48.556, 48.954, 49.352, 49.75, 50.148, 50.546, 50.944, 51.342, 51.74, 52.138, 52.536, 52.934, 53.332, 53.73, 54.128, 54.526, 54.924, 55.322, 55.72, 56.118, 56.516, 56.914, 57.312, 57.71, 58.108, 58.506, 58.904, 59.302, 59.7, 60.098, 60.496, 60.894, 61.292, 61.69, 62.088, 62.486, 62.884, 63.282, 63.68, 64.078, 64.476, 64.874, 65.272, 65.67, 66.068, 66.466, 66.864, 67.262, 67.66, 68.058, 68.456, 68.854, 69.252, 69.65, 70.048, 70.446, 70.844, 71.242, 71.64, 72.038, 72.436, 72.834, 73.232, 73.63, 74.028, 74.426, 74.824, 75.222, 75.62, 76.018, 76.416, 76.814, 77.212, 77.61, 78.008, 78.406, 78.804, 79.202, 79.6, 79.998, 80.396, 80.794, 81.192, 81.59, 81.988, 82.386, 82.784, 83.182, 83.58, 83.978, 84.376, 84.774, 85.172, 85.57, 85.968, 86.366, 86.764, 87.162, 87.56, 87.958, 88.356, 88.754, 89.152, 89.55, 89.948, 90.346, 90.744, 91.142, 91.54, 91.938, 92.336, 92.734, 93.132, 93.53, 93.928, 94.326, 94.724, 95.122, 95.52, 95.918, 96.316, 96.714, 97.112, 97.51, 97.908, 98.306, 98.704, 99.102, 99.5, 99.898, 100.296, 100.694, 101.092, 101.49, 101.888, 102.286, 102.684, 103.082, 103.48, 103.878, 104.276, 104.674, 105.072, 105.47, 105.868, 106.266, 106.664, 107.062, 107.46, 107.858, 108.256, 108.654, 109.052, 109.45, 109.848, 110.246, 110.644, 111.042, 111.44, 111.838, 112.236, 112.634, 113.032, 113.43, 113.828, 114.226, 114.624, 115.022, 115.42, 115.818, 116.216, 116.614, 117.012, 117.41, 117.808, 118.206, 118.604, 119.002, 119.4, 119.798, 120.196, 120.594, 120.992, 121.39, 121.788, 122.186, 122.584, 122.982, 123.38, 123.778, 124.176, 124.574, 124.972, 125.37, 125.768, 126.166, 126.564, 126.962, 127.36, 127.758, 128.156, 128.554, 128.952, 129.35, 129.748, 130.146, 130.544, 130.942, 131.34, 131.738, 132.136, 132.534, 132.932, 133.33, 133.728, 134.126, 134.524, 134.922, 135.32, 135.718, 136.116, 136.514, 136.912, 137.31, 137.708, 138.106, 138.504, 138.902, 139.3, 139.698, 140.096, 140.494, 140.892, 141.29, 141.688, 142.086, 142.484, 142.882, 143.28, 143.678, 144.076, 144.474, 144.872, 145.27, 145.668, 146.066, 146.464, 146.862, 147.26, 147.658, 148.056, 148.454, 148.852, 149.25, 149.648, 150.046, 150.444, 150.842, 151.24, 151.638, 152.036, 152.434, 152.832, 153.23, 153.628, 154.026, 154.424, 154.822, 155.22, 155.618, 156.016, 156.414, 156.812, 157.21, 157.608, 158.006, 158.404, 158.802, 159.2, 159.598, 159.996, 160.394, 160.792, 161.19, 161.588, 161.986, 162.384, 162.782, 163.18, 163.578, 163.976, 164.374, 164.772, 165.17, 165.568, 165.966, 166.364, 166.762, 167.16, 167.558, 167.956, 168.354, 168.752, 169.15, 169.548, 169.946, 170.344, 170.742, 171.14, 171.538, 171.936, 172.334, 172.732, 173.13, 173.528, 173.926, 174.324, 174.722, 175.12, 175.518, 175.916, 176.314, 176.712, 177.11, 177.508, 177.906, 178.304, 178.702, 179.1, 179.498, 179.896, 180.294, 180.692, 181.09, 181.488, 181.886, 182.284, 182.682, 183.08, 183.478, 183.876, 184.274, 184.672, 185.07, 185.468, 185.866, 186.264, 186.662, 187.06, 187.458, 187.856, 188.254, 188.652, 189.05, 189.448, 189.846, 190.244, 190.642, 191.04, 191.438, 191.836, 192.234, 192.632, 193.03, 193.428, 193.826, 194.224, 194.622, 195.02, 195.418, 195.816, 196.214, 196.612, 197.01, 197.408, 197.806, 198.204, 198.602], \"xaxis\": \"x\", \"y\": [0.00028516909241993, 0.00028496194706863676, 0.0002843414133934212, 0.00028331019198201774, 0.00028187276205218873, 0.00028003534904091193, 0.00027780587968988403, 0.00027519392508078, 0.0002722106321930869, 0.00026886864466932255, 0.00026518201357562493, 0.0002611660990388125, 0.0002568374637229463, 0.00025221375917825525, 0.00024731360615224876, 0.00024215646999639864, 0.00023676253233156634, 0.00023115256015123417, 0.00022534777354362936, 0.00021936971320225482, 0.00021324010886960567, 0.00020698074982157657, 0.00020061335845104238, 0.00019415946794924355, 0.00018764030501401316, 0.00018107667843570682, 0.00017448887432619577, 0.00016789655866480572, 0.00016131868773898084, 0.00015477342695812156, 0.00014827807841788024, 0.00014184901749055272, 0.00013550163861640537, 0.00012925031037207618, 0.00012310833979676129, 0.00011708794586582711, 0.00011120024191573453, 0.00010545522674459349, 9.986178403998799e-05, 9.442768972053661e-05, 8.915962672042636e-05, 8.406320669720757e-05, 7.914299810265136e-05, 7.44025600245113e-05, 6.984448118353252e-05, 6.547042345483533e-05, 6.128116927558243e-05, 5.727667230123824e-05, 5.345611068027856e-05, 4.981794233137429e-05, 4.635996162725685e-05, 4.307935691503272e-05, 3.997276833297537e-05, 3.703634541808952e-05, 3.426580403630588e-05, 3.165648220733259e-05, 2.920339443825991e-05, 2.6901284223338213e-05, 2.4744674411279147e-05, 2.2727915185382824e-05, 2.084522944521302e-05, 1.9090755420936026e-05, 1.7458586392357707e-05, 1.594280742375445e-05, 1.453752906246219e-05, 1.3236917983598504e-05, 1.2035224595026554e-05, 1.0926807645572877e-05, 9.906155905477404e-06, 8.967907011031813e-06, 8.106863585344121e-06, 7.318006764189965e-06, 6.5965072700494445e-06, 5.9377341887903045e-06, 5.337261612182459e-06, 4.790873315674439e-06, 4.294565644811998e-06, 3.844548785526037e-06, 3.437246593466863e-06, 3.069295155824938e-06, 2.7375402558675126e-06, 2.439033905945809e-06, 2.1710301091958636e-06, 1.9309800037639943e-06, 1.7165265363247462e-06, 1.5254988040991458e-06, 1.355906196686665e-06, 1.2059324609415093e-06, 1.0739298039829574e-06, 9.584131413442652e-07, 8.580545893311005e-07, 7.716782929586723e-07, 6.982556734284674e-07, 6.369011720378246e-07, 5.868685607182596e-07, 5.475478830875411e-07, 5.184630839775227e-07, 4.99270379853404e-07, 4.897574173476214e-07, 4.898432622596217e-07, 4.995792567789175e-07, 5.191507783229183e-07, 5.488799291865424e-07, 5.89229182116188e-07, 6.408060028812014e-07, 7.04368466854774e-07, 7.808318824654498e-07, 8.7127643007358e-07, 9.76955820299544e-07, 1.0993069710216413e-06, 1.2399606971155866e-06, 1.4007534014749615e-06, 1.583739749891601e-06, 1.791206305953842e-06, 2.0256860952164457e-06, 2.2899740604979084e-06, 2.5871433622700474e-06, 2.920562469735317e-06, 3.2939129793684404e-06, 3.7112080884732816e-06, 4.176811641731977e-06, 4.695457658875637e-06, 5.272270241571818e-06, 5.912783747511053e-06, 6.622963109598629e-06, 7.409224168256393e-06, 8.278453875254533e-06, 9.23803021838905e-06, 1.0295841707860487e-05, 1.146030625757485e-05, 1.2740389287959238e-05, 1.4145620871449804e-05, 1.5686111737757676e-05, 1.737256795353006e-05, 1.9216304090284834e-05, 2.122925469566944e-05, 2.3423983886347404e-05, 2.581369288627329e-05, 2.8412225341918365e-05, 3.123407025623357e-05, 3.429436239586179e-05, 3.760888004137255e-05, 4.119403996808672e-05, 4.506688956535799e-05, 4.9245096024900136e-05, 5.374693255377615e-05, 5.859126159484337e-05, 6.379751506656043e-05, 6.938567166486591e-05, 7.537623130203486e-05, 8.179018679067417e-05, 8.864899291495423e-05, 9.597453306537376e-05, 0.0001037890836473722, 0.0001121152765074738, 0.00012097605965284678, 0.00013039465657069965, 0.00014039452448227818, 0.00015099931189184159, 0.00016223281581337055, 0.00017411893907638454, 0.00018668164812662996, 0.0001999449317471115, 0.0002139327611295464, 0.0002286690517254608, 0.0002441776272995412, 0.0002604821865952441, 0.0002776062730038542, 0.00029557324760315124, 0.0003144062659005204, 0.00033412825857782755, 0.00035476191649186963, 0.00037632968013491503, 0.00039885373370520056, 0.00042235600387760297, 0.00044685816330068017, 0.0004723816387784433, 0.0004989476240243174, 0.0005265770968014876, 0.0005552908401891578, 0.0005851094676389404, 0.0006160534514107161, 0.0006481431539037153, 0.0006813988613273776, 0.0007158408190887408, 0.0007514892682095969, 0.0007883644820286579, 0.0008264868023922031, 0.0008658766744923262, 0.0009065546794755898, 0.0009485415639176469, 0.000991858265241871, 0.0010365259321527824, 0.0010825659391588498, 0.0011299998942742348, 0.0011788496390158665, 0.0012291372398508147, 0.0012808849702994638, 0.0013341152829624504, 0.001388850770813444, 0.0014451141171852736, 0.0015029280339732194, 0.0015623151876858342, 0.0016232981130897555, 0.0016858991143194892, 0.00175014015345554, 0.0018160427267128272, 0.0018836277285253708, 0.001952915303960883, 0.002023924690049202, 0.0020966740467595795, 0.0021711802785121816, 0.0022474588472572755, 0.002325523578299469, 0.002405386460182709, 0.002487057440082314, 0.0025705442162718634, 0.0026558520293433665, 0.0027429834539570404, 0.0028319381929808323, 0.0029227128759480784, 0.0030153008638127195, 0.0031096920620141944, 0.0032058727438775687, 0.0033038253863672193, 0.0034035285201841773, 0.003504956596146921, 0.0036080798697234098, 0.0037128643054873344, 0.003819271503155126, 0.003927258646721393, 0.00403677847805113, 0.004147779296106807, 0.004260204982789502, 0.00437399505615653, 0.004489084751545257, 0.004605405130886369, 0.004722883220231159, 0.004841442175249879, 0.004961001474183908, 0.005081477137455999, 0.005202781972864172, 0.005324825845008103, 0.005447515967325612, 0.005570757214854939, 0.005694452455588206, 0.005818502898047121, 0.00594280845249604, 0.0060672681030135844, 0.006191780287474819, 0.006316243282354325, 0.006440555589149201, 0.006564616319141566, 0.006688325573175664, 0.006811584813115233, 0.006934297221674964, 0.007056368047385492, 0.007177704931554884, 0.007298218214231198, 0.007417821216349041, 0.00753643049545771, 0.007653966072677153, 0.0077703516288090526, 0.00788551466784043, 0.007999386646414112, 0.008111903068200131, 0.008223003542480262, 0.008332631806651733, 0.008440735712758936, 0.008547267178570857, 0.00865218210413071, 0.00875544025510794, 0.008857005114676552, 0.00895684370602224, 0.009054926387937794, 0.009151226626299256, 0.009245720744516534, 0.009338387656319324, 0.009429208584467384, 0.009518166769159645, 0.009605247170056265, 0.00969043616591916, 0.009773721255917545, 0.009855090766633984, 0.009934533568743733, 0.01001203880722385, 0.010087595648782153, 0.010161193049978335, 0.010232819549244713, 0.01030246308570428, 0.01037011084733224, 0.010435749150619624, 0.01049936335347724, 0.010560937802671713, 0.01062045581661793, 0.010677899703870817, 0.010733250817169667, 0.010786489642397833, 0.01083759592133648, 0.010886548806619068, 0.010933327046841447, 0.01097790919935741, 0.011020273867895601, 0.011060399961780492, 0.011098266973228478, 0.011133855268929387, 0.01116714639191407, 0.011198123369556159, 0.011226771023461838, 0.011253076276967906, 0.011277028455995002, 0.011298619579091493, 0.011317844632650908, 0.01133470182749131, 0.011349192833244991, 0.011361322987317657, 0.011371101475533135, 0.011378541481977957, 0.011383660305991479, 0.011386479444708907, 0.01138702464004451, 0.011385325889498404, 0.011381417420670004, 0.011375337629859874, 0.01136712898563093, 0.011356837898670688, 0.011344514559743493, 0.011330212747936398, 0.011313989611779457, 0.01129590542615502, 0.011276023328194404, 0.011254409035592954, 0.011231130550949502, 0.011206257855853387, 0.011179862598499265, 0.011152017778607267, 0.0111227974333632, 0.011092276327973365, 0.01106052965425355, 0.011027632740444519, 0.010993660775173107, 0.010958688548162293, 0.01092279020994254, 0.010886039052436295, 0.010848507311884551, 0.010810265995167267, 0.010771384730143201, 0.010731931640210768, 0.010691973242872682, 0.010651574371685348, 0.010610798120592038, 0.010569705809286225, 0.010528356967932443, 0.010486809339292056, 0.010445118896065147, 0.010403339871070503, 0.010361524797746506, 0.010319724558367296, 0.010277988437333256, 0.010236364176910423, 0.01019489803286058, 0.010153634827518366, 0.010112617998032843, 0.010071889637692918, 0.010031490528495118, 0.009991460163383427, 0.009951836756887924, 0.009912657243205973, 0.009873957261099955, 0.009835771125323729, 0.009798131784626317, 0.00976107076671422, 0.009724618110871188, 0.009688802289235443, 0.009653650118009647, 0.009619186660126513, 0.009585435121105806, 0.009552416740015343, 0.009520150677584514, 0.00948865390361319, 0.009457941085870355, 0.009428024482682908, 0.00939891384138044, 0.009370616304682873, 0.009343136327000614, 0.0093164756024618, 0.00929063300629272, 0.009265604550959625, 0.009241383358236661, 0.009217959648102004, 0.009195320745085672, 0.009173451102405493, 0.009152332343936113, 0.009131943323766501, 0.009112260202818362, 0.009093256541727842, 0.009074903408939083, 0.009057169502726366, 0.009040021285654882, 0.009023423129812708, 0.009007337471, 0.008991724969949764, 0.00897654467857726, 0.008961754209214511, 0.008947309904782095, 0.008933167007881718, 0.00891927982685907, 0.008905601896985268, 0.008892086135034599, 0.008878684985692924, 0.008865350558412212, 0.008852034753528425, 0.008838689376677929, 0.008825266240777735, 0.008811717255073964, 0.008797994501003704, 0.008784050294857149, 0.008769837237461943, 0.00875530825133834, 0.008740416605986888, 0.00872511593216683, 0.008709360226199746, 0.008693103845487805, 0.00867630149656457, 0.00865890821709939, 0.008640879353351826, 0.00862217053461895, 0.008602737646236628, 0.008582536802686516, 0.0085615243223231, 0.008539656705172984, 0.008516890615171448, 0.008493182868094367, 0.008468490426315265, 0.008442770401375387, 0.008415980065198132, 0.008388076870613992, 0.008359018481690345, 0.008328762814186394, 0.008297268086279655, 0.008264492879540765, 0.008230396209970773, 0.008194937608762437, 0.00815807721230647, 0.008119775860838558, 0.008079995205013736, 0.008038697819603398, 0.00799584732343881, 0.007951408504671496, 0.007905347450388197, 0.007857631679604087, 0.0078082302786618, 0.007757114038085731, 0.0077042555899770986, 0.0076496295450863274, 0.007593212628759933, 0.007534983815030158, 0.007474924458191391, 0.007413018421287863, 0.007349252201017347, 0.007283615048634272, 0.007216099086509761, 0.0071466994200731935, 0.007075414244917179, 0.0070022449488954044, 0.006927196209076057, 0.006850276083434358, 0.006771496097173601, 0.006690871323554808, 0.006608420459091758, 0.006524165892930755, 0.006438133770183561, 0.006350354048920442, 0.006260860550458653, 0.006169691002502916, 0.006076887074611244, 0.005982494405373594, 0.005886562620607093, 0.005789145341790542, 0.005690300183888364, 0.005590088741650977, 0.005488576563428859, 0.005385833111503805, 0.005281931707925439, 0.0051769494648457644, 0.005070967198372241, 0.00496406932501011, 0.004856343739839974, 0.004747881675676094, 0.004638777542574741, 0.004529128747209435, 0.004419035491799047, 0.0043086005524651735, 0.004197929037102058, 0.0040871281230658845, 0.00397630677522429, 0.003865575445150198, 0.003755045752491163, 0.0036448301497934246, 0.0035350415723032747], \"yaxis\": \"y\"}, {\"legendgroup\": \"healthy\", \"marker\": {\"color\": \"#7EC0EE\"}, \"mode\": \"lines\", \"name\": \"healthy\", \"showlegend\": false, \"type\": \"scatter\", \"x\": [0.0, 0.394, 0.788, 1.182, 1.576, 1.97, 2.364, 2.758, 3.152, 3.546, 3.94, 4.334, 4.728, 5.122, 5.516, 5.91, 6.304, 6.698, 7.092, 7.486, 7.88, 8.274, 8.668, 9.062, 9.456, 9.85, 10.244, 10.638, 11.032, 11.426, 11.82, 12.214, 12.608, 13.002, 13.396, 13.79, 14.184, 14.578, 14.972, 15.366, 15.76, 16.154, 16.548, 16.942, 17.336, 17.73, 18.124, 18.518, 18.912, 19.306, 19.7, 20.094, 20.488, 20.882, 21.276, 21.67, 22.064, 22.458, 22.852, 23.246, 23.64, 24.034, 24.428, 24.822, 25.216, 25.61, 26.004, 26.398, 26.792, 27.186, 27.58, 27.974, 28.368, 28.762, 29.156, 29.55, 29.944, 30.338, 30.732, 31.126, 31.52, 31.914, 32.308, 32.702, 33.096, 33.49, 33.884, 34.278, 34.672, 35.066, 35.46, 35.854, 36.248, 36.642, 37.036, 37.43, 37.824, 38.218, 38.612, 39.006, 39.4, 39.794, 40.188, 40.582, 40.976, 41.37, 41.764, 42.158, 42.552, 42.946, 43.34, 43.734, 44.128, 44.522, 44.916, 45.31, 45.704, 46.098, 46.492, 46.886, 47.28, 47.674, 48.068, 48.462, 48.856, 49.25, 49.644, 50.038, 50.432, 50.826, 51.22, 51.614, 52.008, 52.402, 52.796, 53.19, 53.584, 53.978, 54.372, 54.766, 55.16, 55.554, 55.948, 56.342, 56.736, 57.13, 57.524, 57.918, 58.312, 58.706, 59.1, 59.494, 59.888, 60.282, 60.676, 61.07, 61.464, 61.858, 62.252, 62.646, 63.04, 63.434, 63.828, 64.222, 64.616, 65.01, 65.404, 65.798, 66.192, 66.586, 66.98, 67.374, 67.768, 68.162, 68.556, 68.95, 69.344, 69.738, 70.132, 70.526, 70.92, 71.314, 71.708, 72.102, 72.496, 72.89, 73.284, 73.678, 74.072, 74.466, 74.86, 75.254, 75.648, 76.042, 76.436, 76.83, 77.224, 77.618, 78.012, 78.406, 78.8, 79.194, 79.588, 79.982, 80.376, 80.77, 81.164, 81.558, 81.952, 82.346, 82.74, 83.134, 83.528, 83.922, 84.316, 84.71, 85.104, 85.498, 85.892, 86.286, 86.68, 87.074, 87.468, 87.862, 88.256, 88.65, 89.044, 89.438, 89.832, 90.226, 90.62, 91.014, 91.408, 91.802, 92.196, 92.59, 92.984, 93.378, 93.772, 94.166, 94.56, 94.954, 95.348, 95.742, 96.136, 96.53, 96.924, 97.318, 97.712, 98.106, 98.5, 98.894, 99.288, 99.682, 100.076, 100.47, 100.864, 101.258, 101.652, 102.046, 102.44, 102.834, 103.228, 103.622, 104.016, 104.41, 104.804, 105.198, 105.592, 105.986, 106.38, 106.774, 107.168, 107.562, 107.956, 108.35, 108.744, 109.138, 109.532, 109.926, 110.32, 110.714, 111.108, 111.502, 111.896, 112.29, 112.684, 113.078, 113.472, 113.866, 114.26, 114.654, 115.048, 115.442, 115.836, 116.23, 116.624, 117.018, 117.412, 117.806, 118.2, 118.594, 118.988, 119.382, 119.776, 120.17, 120.564, 120.958, 121.352, 121.746, 122.14, 122.534, 122.928, 123.322, 123.716, 124.11, 124.504, 124.898, 125.292, 125.686, 126.08, 126.474, 126.868, 127.262, 127.656, 128.05, 128.444, 128.838, 129.232, 129.626, 130.02, 130.414, 130.808, 131.202, 131.596, 131.99, 132.384, 132.778, 133.172, 133.566, 133.96, 134.354, 134.748, 135.142, 135.536, 135.93, 136.324, 136.718, 137.112, 137.506, 137.9, 138.294, 138.688, 139.082, 139.476, 139.87, 140.264, 140.658, 141.052, 141.446, 141.84, 142.234, 142.628, 143.022, 143.416, 143.81, 144.204, 144.598, 144.992, 145.386, 145.78, 146.174, 146.568, 146.962, 147.356, 147.75, 148.144, 148.538, 148.932, 149.326, 149.72, 150.114, 150.508, 150.902, 151.296, 151.69, 152.084, 152.478, 152.872, 153.266, 153.66, 154.054, 154.448, 154.842, 155.236, 155.63, 156.024, 156.418, 156.812, 157.206, 157.6, 157.994, 158.388, 158.782, 159.176, 159.57, 159.964, 160.358, 160.752, 161.146, 161.54, 161.934, 162.328, 162.722, 163.116, 163.51, 163.904, 164.298, 164.692, 165.086, 165.48, 165.874, 166.268, 166.662, 167.056, 167.45, 167.844, 168.238, 168.632, 169.026, 169.42, 169.814, 170.208, 170.602, 170.996, 171.39, 171.784, 172.178, 172.572, 172.966, 173.36, 173.754, 174.148, 174.542, 174.936, 175.33, 175.724, 176.118, 176.512, 176.906, 177.3, 177.694, 178.088, 178.482, 178.876, 179.27, 179.664, 180.058, 180.452, 180.846, 181.24, 181.634, 182.028, 182.422, 182.816, 183.21, 183.604, 183.998, 184.392, 184.786, 185.18, 185.574, 185.968, 186.362, 186.756, 187.15, 187.544, 187.938, 188.332, 188.726, 189.12, 189.514, 189.908, 190.302, 190.696, 191.09, 191.484, 191.878, 192.272, 192.666, 193.06, 193.454, 193.848, 194.242, 194.636, 195.03, 195.424, 195.818, 196.212, 196.606], \"xaxis\": \"x\", \"y\": [0.0003173436461144977, 0.0003169110013321798, 0.00031561660028639536, 0.00031347100255082127, 0.0003104916478773904, 0.0003067026201793985, 0.00030213432339257364, 0.00029682307531770486, 0.00029081062703535887, 0.00028414361678809314, 0.00027687296831914736, 0.0002690532445158269, 0.0002607419678142921, 0.00025199891917094646, 0.00024288542749200835, 0.00023346366124210718, 0.00022379593353663853, 0.0002139440313790572, 0.00020396857885672257, 0.00019392844308532546, 0.00018388019052397402, 0.0001738776000048237, 0.00016397123746831599, 0.00015420809600353924, 0.0001446313033981272, 0.00013527989803690705, 0.00012618867268404844, 0.00011738808446721809, 0.000108904228277728, 0.00010075886982698351, 9.296953377110054e-05, 8.554964164199276e-05, 7.850869380938709e-05, 7.185248934440623e-05, 6.558337745762215e-05, 5.970053413507108e-05, 5.420025768356996e-05, 4.907627710801601e-05, 4.432006756229138e-05, 3.992116752458261e-05, 3.586749282914263e-05, 3.21456432213038e-05, 2.874119767270998e-05, 2.5638995281886452e-05, 2.2823399175210808e-05, 2.0278541400457856e-05, 1.7988547356549433e-05, 1.5937738818143264e-05, 1.4110815083559622e-05, 1.2493012192746494e-05, 1.107024052412686e-05, 9.829201382909814e-06, 8.75748343833923e-06, 7.843640054704456e-06, 7.077248693576936e-06, 6.448953646814568e-06, 5.950493396608972e-06, 5.5747138962932764e-06, 5.31556903042603e-06, 5.1681094518261e-06, 5.128460913900723e-06, 5.1937931258612e-06, 5.362280063076486e-06, 5.633052571260656e-06, 6.0061440172269945e-06, 6.482429665649206e-06, 7.063560404894804e-06, 7.751891408851279e-06, 8.550406308062962e-06, 9.462637453683638e-06, 1.0492582891886546e-05, 1.1644620723511027e-05, 1.2923421601828225e-05, 1.4333860217285473e-05, 1.5880926727859925e-05, 1.7569639212240617e-05, 1.9404958344696897e-05, 2.1391705608798606e-05, 2.3534486475263388e-05, 2.5837620060018725e-05, 2.83050768449293e-05, 3.0940426078617353e-05, 3.3746794471919755e-05, 3.672683775605693e-05, 3.988272657677019e-05, 4.321614805106022e-05, 4.672832411272467e-05, 5.04200475183711e-05, 5.4291736078582986e-05, 5.8343505323037985e-05, 6.257525940929239e-05, 6.698679965041847e-05, 7.157794957642492e-05, 7.634869497002438e-05, 8.129933684200487e-05, 8.643065484973983e-05, 9.174407822966935e-05, 9.724186092675672e-05, 0.0001029272572768893, 0.00010880469434718294, 0.00011487993687829907, 0.00012116024071456663, 0.00012765449066198334, 0.00013437331888827676, 0.00014132920027707784, 0.00014853652157008625, 0.00015601162167315768, 0.0001637728011565985, 0.0001718402997344756, 0.0001802362413463116, 0.00018898454736709173, 0.00019811081941469602, 0.00020764219418142497, 0.00021760717365984012, 0.00022803543503296708, 0.00023895762532484354, 0.00025040514662983836, 0.00026240993833011957, 0.0002750042631445623, 0.00028822050410742535, 0.0003020909796338318, 0.00031664778367925515, 0.00033192265763565807, 0.00034794690002783657, 0.0003647513192867903, 0.0003823662338963266, 0.00040082152305500864, 0.0004201467296946263, 0.0004403712162810308, 0.00046152437233057197, 0.00048363587104675024, 0.0005067359709605762, 0.0005308558569899481, 0.0005560280139629242, 0.0005822866244208848, 0.0006096679814708986, 0.0006382109066284599, 0.0006679571620130209, 0.0006989518459534558, 0.0007312437610449455, 0.000764885743981025, 0.0007999349470634127, 0.0008364530621579661, 0.0008745064789986017, 0.0009141663711147273, 0.0009555087042362428, 0.000998614163771099, 0.0010435679998055752, 0.0010904597899945025, 0.0011393831226323304, 0.0011904352040699583, 0.0012437163964110938, 0.0012993296930323994, 0.0013573801408749892, 0.0014179742196078467, 0.001481219188630357, 0.0015472224134346266, 0.001616090683070006, 0.0016879295303353949, 0.0017628425658718922, 0.0018409308365534675, 0.0019222922174996862, 0.002007020845697328, 0.002095206601658093, 0.002186934643808732, 0.0022822849984637373, 0.0023813322063293042, 0.0024841450245941836, 0.0025907861818406427, 0.002701312181319393, 0.0028157731466330717, 0.0029342127026161634, 0.003056667883229562, 0.0031831690576406423, 0.003313739865360032, 0.0034483971513682905, 0.003587150892589988, 0.003730004107850576, 0.0038769527445592896, 0.004027985536764978, 0.004183083830888325, 0.0043422213772879095, 0.004505364087809759, 0.004672469761532147, 0.004843487782980982, 0.0050183587990836115, 0.0051970143829812325, 0.0053793766944650176, 0.005565358148178662, 0.00575486110178626, 0.005947777576996354, 0.006143989026628467, 0.006343366160786487, 0.006545768844657242, 0.00675104607948817, 0.006959036076934104, 0.007169566435232509, 0.0073824544236102746, 0.007597507378999615, 0.007814523216606624, 0.008033291053202489, 0.008253591939269538, 0.008475199693408406, 0.008697881829773109, 0.008921400566827366, 0.009145513903472758, 0.009369976746656596, 0.009594542072979238, 0.009818962105632973, 0.010042989487257117, 0.01026637842900813, 0.010488885816333005, 0.010710272252600721, 0.010930303022874514, 0.011148748961676311, 0.011365387210564513, 0.011580001853676768, 0.01179238442201926, 0.012002334260156339, 0.01220965875199683, 0.0124141734055154, 0.012615701799411667, 0.012814075397821166, 0.013009133242177368, 0.013200721532106807, 0.013388693109758175, 0.013572906864156058, 0.013753227073981604, 0.013929522708569632, 0.014101666707845895, 0.014269535262382008, 0.014433007114716696, 0.014591962902575977, 0.01474628456364206, 0.014895854820093252, 0.015040556759306054, 0.015180273524920029, 0.015314888129973286, 0.015444283401086549, 0.015568342059768944, 0.015686946943917673, 0.0157999813695517, 0.015907329629832268, 0.0160088776255449, 0.01610451361851351, 0.016194129096938816, 0.016277619739451427, 0.016354886462777114, 0.0164258365363567, 0.01649038474605858, 0.01654845458827548, 0.016599979475196154, 0.01664490393187944, 0.016683184765901377, 0.0167147921907688, 0.016739710884959593, 0.016757940969322167, 0.016769498886604995, 0.016774418168058004, 0.016772750073311523, 0.01676456409107448, 0.01674994828956991, 0.016729009507035528, 0.016701873374046213, 0.016668684160865293, 0.016629604444508544, 0.01658481459172164, 0.016534512055641066, 0.01647891048555594, 0.016418238650926696, 0.01635273918266911, 0.016282667136693643, 0.016208288386804694, 0.016129877856322375, 0.01604771760017515, 0.01596209475171274, 0.015873299351074267, 0.01578162207457863, 0.01568735188722893, 0.015590773642985063, 0.015492165659883433, 0.01539179729930173, 0.015289926580593534, 0.015186797863879022, 0.015082639634888694, 0.01497766242634809, 0.014872056910391595, 0.014765992195852506, 0.01465961436294566, 0.014553045265816448, 0.014446381630665327, 0.014339694473677786, 0.014233028858828031, 0.014126404010829619, 0.014019813793145023, 0.013913227555127968, 0.0138065913461607, 0.013699829488182443, 0.01359284649141421, 0.013485529291511844, 0.013377749779964782, 0.013269367593452718, 0.013160233122219601, 0.013050190692462722, 0.01293908187339821, 0.01282674885616426, 0.012713037849166725, 0.012597802432938158, 0.012480906817131555, 0.012362228942943629, 0.012241663376071348, 0.012119123938237776, 0.011994546029339378, 0.011867888597307186, 0.01173913571874529, 0.011608297760206674, 0.011475412097453284, 0.011340543378078027, 0.011203783321276188, 0.011065250057167733, 0.010925087016708985, 0.010783461391707282, 0.01064056219258117, 0.010496597939114682, 0.01035179402637047, 0.010206389813996965, 0.010060635492257915, 0.009914788782111373, 0.009769111529482582, 0.009623866255448633, 0.009479312724347329, 0.009335704590836567, 0.009193286184689156, 0.009052289488665363, 0.008912931360248124, 0.008775411042462574, 0.008639908002564044, 0.008506580130223693, 0.008375562319135414, 0.00824696544789373, 0.008120875767738761, 0.007997354696521403, 0.007876439010197078, 0.007758141415491353, 0.007642451480262143, 0.007529336891665494, 0.0074187450066439805, 0.00731060465461203, 0.007204828148589719, 0.007101313458496308, 0.006999946498881385, 0.0069006034830494875, 0.006803153296289231, 0.006707459842703692, 0.006613384322870549, 0.006520787403142387, 0.006429531241710907, 0.006339481341470535, 0.0062505082050846, 0.006162488773332187, 0.006075307633641828, 0.005988857991553151, 0.005903042403540747, 0.005817773275055224, 0.005732973132659964, 0.005648574683662622, 0.005564520680569752, 0.005480763610960211, 0.0053972652359323865, 0.005313996002100057, 0.00523093435319045, 0.0051480659676451735, 0.005065382948276489, 0.004982882989036467, 0.004900568542381587, 0.004818446008638612, 0.00473652496628678, 0.004654817459263191, 0.004573337354370791, 0.004492099778720841, 0.004411120643975092, 0.004330416261054485, 0.004250003046040986, 0.004169897315288861, 0.0040901151653457354, 0.004010672431211781, 0.003931584714773695, 0.0038528674739590134, 0.0037745361622733846, 0.003696606407901149, 0.0036190942214468147, 0.003542016221641584, 0.0034653898688912334, 0.003389233697351703, 0.0033135675372303673, 0.003238412720167214, 0.0031637922617913194, 0.00308973101681772, 0.0030162558032940344, 0.002943395493778355, 0.002871181072289157, 0.002799645656783166, 0.002728824487667336, 0.002658754883422582, 0.002589476164811144, 0.0025210295493606947, 0.00245345801788635, 0.0023868061547483556, 0.00232111996337983, 0.00225644665838913, 0.002192834435281617, 0.0021303322185933036, 0.002068989389018195, 0.0020088554899749395, 0.0019499799140221138, 0.001892411569616112, 0.0018361985289226245, 0.0017813876577474695, 0.0017280242291392307, 0.001676151522823257, 0.0016258104133323615, 0.0015770389504761338, 0.0015298719366051762, 0.0014843405059390762, 0.0014404717119981018, 0.0013982881298656717, 0.001357807480570953, 0.0013190422852809476, 0.001281999557195094, 0.0012466805390163832, 0.0012130804936110254, 0.0011811885549532213, 0.001150987645680836, 0.0011224544665695395, 0.0010955595619851215, 0.001070267463922727, 0.001046536915623137, 0.0010243211740123142, 0.0010035683883899452, 0.0009842220509485061, 0.0009662215128919266, 0.0009495025581985003, 0.0009339980254913252, 0.0009196384670931724, 0.0009063528331983313, 0.0008940691682323904, 0.0008827153059245406, 0.0008722195494096699, 0.0008625113228229496, 0.0008535217813509028, 0.0008451843675530126, 0.0008374353029487677, 0.0008302140053487732, 0.0008234634241583089, 0.0008171302878520871, 0.0008111652599580081, 0.0008055230021382832, 0.000800162145257297, 0.000795045171614567, 0.0007901382137355452, 0.0007854107771919899, 0.0007808353968104826, 0.0007763872372703988, 0.0007720436504468007, 0.0007677837028822526, 0.000763587687447099, 0.0007594366335524788, 0.0007553118302069818, 0.0007511943757595618, 0.0007470647673615656, 0.0007429025420331085, 0.0007386859797658421, 0.0007343918773765582, 0.0007299953998912837, 0.0007254700141411697, 0.0007207875070463684, 0.0007159180888118748, 0.0007108305790198904, 0.0007054926714355854, 0.0006998712713033622, 0.0006939328970506659, 0.0006876441366823293, 0.0006809721477796481, 0.0006738851889463353, 0.0006663531697912287, 0.0006583482061188568, 0.000649845166918587, 0.0006408221999964428, 0.0006312612236676385, 0.0006211483728010171, 0.0006104743886498692, 0.0005992349432820689, 0.0005874308909954044, 0.0005750684408270526, 0.0005621592460923391, 0.000548720408768881, 0.000534774398429766, 0.0005203488872769827, 0.0005054765045896334, 0.0004901945155404076], \"yaxis\": \"y\"}, {\"legendgroup\": \"diabetic\", \"marker\": {\"color\": \"#FFD700\", \"symbol\": \"line-ns-open\"}, \"mode\": \"markers\", \"name\": \"diabetic\", \"showlegend\": false, \"type\": \"scatter\", \"x\": [148, 183, 137, 78, 197, 125, 168, 189, 166, 100, 118, 107, 115, 196, 119, 143, 125, 147, 158, 102, 90, 111, 171, 180, 103, 176, 187, 133, 114, 109, 100, 126, 131, 137, 136, 134, 122, 163, 95, 171, 155, 160, 146, 124, 162, 113, 88, 117, 105, 173, 122, 170, 108, 156, 188, 152, 163, 131, 104, 102, 134, 179, 129, 130, 194, 181, 128, 109, 139, 159, 135, 158, 107, 109, 148, 196, 162, 184, 140, 112, 151, 109, 85, 112, 177, 158, 162, 142, 134, 171, 181, 179, 164, 139, 119, 184, 92, 113, 155, 141, 123, 138, 146, 101, 106, 146, 161, 108, 119, 107, 128, 128, 146, 100, 167, 144, 115, 161, 128, 124, 155, 109, 182, 194, 112, 124, 152, 122, 102, 180, 115, 152, 178, 0, 165, 125, 129, 196, 189, 146, 124, 133, 173, 140, 156, 116, 105, 144, 166, 158, 131, 193, 95, 136, 168, 115, 197, 172, 138, 173, 144, 129, 151, 184, 181, 95, 141, 189, 108, 117, 180, 104, 134, 175, 148, 120, 105, 158, 145, 135, 125, 195, 0, 180, 84, 163, 145, 130, 132, 129, 100, 128, 90, 186, 187, 125, 198, 121, 118, 197, 151, 124, 143, 176, 111, 132, 188, 173, 150, 183, 181, 174, 168, 138, 112, 119, 114, 104, 97, 147, 167, 179, 136, 155, 80, 199, 167, 145, 115, 145, 111, 195, 156, 121, 162, 125, 144, 158, 129, 142, 169, 125, 168, 115, 164, 93, 129, 187, 173, 97, 149, 130, 120, 174, 102, 120, 140, 147, 187, 162, 136, 181, 154, 128, 123, 190, 170, 126], \"xaxis\": \"x\", \"y\": [\"diabetic\", \"diabetic\", \"diabetic\", \"diabetic\", \"diabetic\", \"diabetic\", \"diabetic\", \"diabetic\", \"diabetic\", \"diabetic\", \"diabetic\", \"diabetic\", \"diabetic\", \"diabetic\", \"diabetic\", \"diabetic\", \"diabetic\", \"diabetic\", \"diabetic\", \"diabetic\", \"diabetic\", \"diabetic\", \"diabetic\", \"diabetic\", \"diabetic\", \"diabetic\", \"diabetic\", \"diabetic\", \"diabetic\", \"diabetic\", \"diabetic\", \"diabetic\", \"diabetic\", \"diabetic\", \"diabetic\", \"diabetic\", \"diabetic\", \"diabetic\", \"diabetic\", \"diabetic\", \"diabetic\", \"diabetic\", \"diabetic\", \"diabetic\", \"diabetic\", \"diabetic\", \"diabetic\", \"diabetic\", \"diabetic\", \"diabetic\", \"diabetic\", \"diabetic\", \"diabetic\", \"diabetic\", \"diabetic\", \"diabetic\", \"diabetic\", \"diabetic\", \"diabetic\", \"diabetic\", \"diabetic\", \"diabetic\", \"diabetic\", \"diabetic\", \"diabetic\", \"diabetic\", \"diabetic\", \"diabetic\", \"diabetic\", \"diabetic\", \"diabetic\", \"diabetic\", \"diabetic\", \"diabetic\", \"diabetic\", \"diabetic\", \"diabetic\", \"diabetic\", \"diabetic\", \"diabetic\", \"diabetic\", \"diabetic\", \"diabetic\", \"diabetic\", \"diabetic\", \"diabetic\", \"diabetic\", \"diabetic\", \"diabetic\", \"diabetic\", \"diabetic\", \"diabetic\", \"diabetic\", \"diabetic\", \"diabetic\", \"diabetic\", \"diabetic\", \"diabetic\", \"diabetic\", \"diabetic\", \"diabetic\", \"diabetic\", \"diabetic\", \"diabetic\", \"diabetic\", \"diabetic\", \"diabetic\", \"diabetic\", \"diabetic\", \"diabetic\", \"diabetic\", \"diabetic\", \"diabetic\", \"diabetic\", \"diabetic\", \"diabetic\", \"diabetic\", \"diabetic\", \"diabetic\", \"diabetic\", \"diabetic\", \"diabetic\", \"diabetic\", \"diabetic\", \"diabetic\", \"diabetic\", \"diabetic\", \"diabetic\", \"diabetic\", \"diabetic\", \"diabetic\", \"diabetic\", \"diabetic\", \"diabetic\", \"diabetic\", \"diabetic\", \"diabetic\", \"diabetic\", \"diabetic\", \"diabetic\", \"diabetic\", \"diabetic\", \"diabetic\", \"diabetic\", \"diabetic\", \"diabetic\", \"diabetic\", \"diabetic\", \"diabetic\", \"diabetic\", \"diabetic\", \"diabetic\", \"diabetic\", \"diabetic\", \"diabetic\", \"diabetic\", \"diabetic\", \"diabetic\", \"diabetic\", \"diabetic\", \"diabetic\", \"diabetic\", \"diabetic\", \"diabetic\", \"diabetic\", \"diabetic\", \"diabetic\", \"diabetic\", \"diabetic\", \"diabetic\", \"diabetic\", \"diabetic\", \"diabetic\", \"diabetic\", \"diabetic\", \"diabetic\", \"diabetic\", \"diabetic\", \"diabetic\", \"diabetic\", \"diabetic\", \"diabetic\", \"diabetic\", \"diabetic\", \"diabetic\", \"diabetic\", \"diabetic\", \"diabetic\", \"diabetic\", \"diabetic\", \"diabetic\", \"diabetic\", \"diabetic\", \"diabetic\", \"diabetic\", \"diabetic\", \"diabetic\", \"diabetic\", \"diabetic\", \"diabetic\", \"diabetic\", \"diabetic\", \"diabetic\", \"diabetic\", \"diabetic\", \"diabetic\", \"diabetic\", \"diabetic\", \"diabetic\", \"diabetic\", \"diabetic\", \"diabetic\", \"diabetic\", \"diabetic\", \"diabetic\", \"diabetic\", \"diabetic\", \"diabetic\", \"diabetic\", \"diabetic\", \"diabetic\", \"diabetic\", \"diabetic\", \"diabetic\", \"diabetic\", \"diabetic\", \"diabetic\", \"diabetic\", \"diabetic\", \"diabetic\", \"diabetic\", \"diabetic\", \"diabetic\", \"diabetic\", \"diabetic\", \"diabetic\", \"diabetic\", \"diabetic\", \"diabetic\", \"diabetic\", \"diabetic\", \"diabetic\", \"diabetic\", \"diabetic\", \"diabetic\", \"diabetic\", \"diabetic\", \"diabetic\", \"diabetic\", \"diabetic\", \"diabetic\", \"diabetic\", \"diabetic\", \"diabetic\", \"diabetic\", \"diabetic\", \"diabetic\", \"diabetic\", \"diabetic\", \"diabetic\", \"diabetic\", \"diabetic\", \"diabetic\", \"diabetic\", \"diabetic\", \"diabetic\", \"diabetic\", \"diabetic\"], \"yaxis\": \"y2\"}, {\"legendgroup\": \"healthy\", \"marker\": {\"color\": \"#7EC0EE\", \"symbol\": \"line-ns-open\"}, \"mode\": \"markers\", \"name\": \"healthy\", \"showlegend\": false, \"type\": \"scatter\", \"x\": [85, 89, 116, 115, 110, 139, 103, 126, 99, 97, 145, 117, 109, 88, 92, 122, 103, 138, 180, 133, 106, 159, 146, 71, 105, 103, 101, 88, 150, 73, 100, 146, 105, 84, 44, 141, 99, 109, 95, 146, 139, 129, 79, 0, 62, 95, 112, 113, 74, 83, 101, 110, 106, 100, 107, 80, 123, 81, 142, 144, 92, 71, 93, 151, 125, 81, 85, 126, 96, 144, 83, 89, 76, 78, 97, 99, 111, 107, 132, 120, 118, 84, 96, 125, 100, 93, 129, 105, 128, 106, 108, 154, 102, 57, 106, 147, 90, 136, 114, 153, 99, 109, 88, 151, 102, 114, 100, 148, 120, 110, 111, 87, 79, 75, 85, 143, 87, 119, 0, 73, 141, 111, 123, 85, 105, 113, 138, 108, 99, 103, 111, 96, 81, 147, 179, 125, 119, 142, 100, 87, 101, 197, 117, 79, 122, 74, 104, 91, 91, 146, 122, 165, 124, 111, 106, 129, 90, 86, 111, 114, 193, 191, 95, 142, 96, 128, 102, 108, 122, 71, 106, 100, 104, 114, 108, 129, 133, 136, 155, 96, 108, 78, 161, 151, 126, 112, 77, 150, 120, 137, 80, 106, 113, 112, 99, 115, 129, 112, 157, 179, 105, 118, 87, 106, 95, 165, 117, 130, 95, 0, 122, 95, 126, 139, 116, 99, 92, 137, 61, 90, 90, 88, 158, 103, 147, 99, 101, 81, 118, 84, 105, 122, 98, 87, 93, 107, 105, 109, 90, 125, 119, 100, 100, 131, 116, 127, 96, 82, 137, 72, 123, 101, 102, 112, 143, 143, 97, 83, 119, 94, 102, 115, 94, 135, 99, 89, 80, 139, 90, 140, 147, 97, 107, 83, 117, 100, 95, 120, 82, 91, 119, 100, 135, 86, 134, 120, 71, 74, 88, 115, 124, 74, 97, 154, 144, 137, 119, 136, 114, 137, 114, 126, 132, 123, 85, 84, 139, 173, 99, 194, 83, 89, 99, 80, 166, 110, 81, 154, 117, 84, 94, 96, 75, 130, 84, 120, 139, 91, 91, 99, 125, 76, 129, 68, 124, 114, 125, 87, 97, 116, 117, 111, 122, 107, 86, 91, 77, 105, 57, 127, 84, 88, 131, 164, 189, 116, 84, 114, 88, 84, 124, 97, 110, 103, 85, 87, 99, 91, 95, 99, 92, 154, 78, 130, 111, 98, 143, 119, 108, 133, 109, 121, 100, 93, 103, 73, 112, 82, 123, 67, 89, 109, 108, 96, 124, 124, 92, 152, 111, 106, 105, 106, 117, 68, 112, 92, 183, 94, 108, 90, 125, 132, 128, 94, 102, 111, 128, 92, 104, 94, 100, 102, 128, 90, 103, 157, 107, 91, 117, 123, 120, 106, 101, 120, 127, 162, 112, 98, 154, 165, 99, 68, 123, 91, 93, 101, 56, 95, 136, 129, 130, 107, 140, 107, 121, 90, 99, 127, 118, 122, 129, 110, 80, 127, 158, 126, 134, 102, 94, 108, 83, 114, 117, 111, 112, 116, 141, 175, 92, 106, 105, 95, 126, 65, 99, 102, 109, 153, 100, 81, 121, 108, 137, 106, 88, 89, 101, 122, 121, 93], \"xaxis\": \"x\", \"y\": [\"healthy\", \"healthy\", \"healthy\", \"healthy\", \"healthy\", \"healthy\", \"healthy\", \"healthy\", \"healthy\", \"healthy\", \"healthy\", \"healthy\", \"healthy\", \"healthy\", \"healthy\", \"healthy\", \"healthy\", \"healthy\", \"healthy\", \"healthy\", \"healthy\", \"healthy\", \"healthy\", \"healthy\", \"healthy\", \"healthy\", \"healthy\", \"healthy\", \"healthy\", \"healthy\", \"healthy\", \"healthy\", \"healthy\", \"healthy\", \"healthy\", \"healthy\", \"healthy\", \"healthy\", \"healthy\", \"healthy\", \"healthy\", \"healthy\", \"healthy\", \"healthy\", \"healthy\", \"healthy\", \"healthy\", \"healthy\", \"healthy\", \"healthy\", \"healthy\", \"healthy\", \"healthy\", \"healthy\", \"healthy\", \"healthy\", \"healthy\", \"healthy\", \"healthy\", \"healthy\", \"healthy\", \"healthy\", \"healthy\", \"healthy\", \"healthy\", \"healthy\", \"healthy\", \"healthy\", \"healthy\", \"healthy\", \"healthy\", \"healthy\", \"healthy\", \"healthy\", \"healthy\", \"healthy\", \"healthy\", \"healthy\", \"healthy\", \"healthy\", \"healthy\", \"healthy\", \"healthy\", \"healthy\", \"healthy\", \"healthy\", \"healthy\", \"healthy\", \"healthy\", \"healthy\", \"healthy\", \"healthy\", \"healthy\", \"healthy\", \"healthy\", \"healthy\", \"healthy\", \"healthy\", \"healthy\", \"healthy\", \"healthy\", \"healthy\", \"healthy\", \"healthy\", \"healthy\", \"healthy\", \"healthy\", \"healthy\", \"healthy\", \"healthy\", \"healthy\", \"healthy\", \"healthy\", \"healthy\", \"healthy\", \"healthy\", \"healthy\", \"healthy\", \"healthy\", \"healthy\", \"healthy\", \"healthy\", \"healthy\", \"healthy\", \"healthy\", \"healthy\", \"healthy\", \"healthy\", \"healthy\", \"healthy\", \"healthy\", \"healthy\", \"healthy\", \"healthy\", \"healthy\", \"healthy\", \"healthy\", \"healthy\", \"healthy\", \"healthy\", \"healthy\", \"healthy\", \"healthy\", \"healthy\", \"healthy\", \"healthy\", \"healthy\", \"healthy\", \"healthy\", \"healthy\", \"healthy\", \"healthy\", \"healthy\", \"healthy\", \"healthy\", \"healthy\", \"healthy\", \"healthy\", \"healthy\", \"healthy\", \"healthy\", \"healthy\", \"healthy\", \"healthy\", \"healthy\", \"healthy\", \"healthy\", \"healthy\", \"healthy\", \"healthy\", \"healthy\", \"healthy\", \"healthy\", \"healthy\", \"healthy\", \"healthy\", \"healthy\", \"healthy\", \"healthy\", \"healthy\", \"healthy\", \"healthy\", \"healthy\", \"healthy\", \"healthy\", \"healthy\", \"healthy\", \"healthy\", \"healthy\", \"healthy\", \"healthy\", \"healthy\", \"healthy\", \"healthy\", \"healthy\", \"healthy\", \"healthy\", \"healthy\", \"healthy\", \"healthy\", \"healthy\", \"healthy\", \"healthy\", \"healthy\", \"healthy\", \"healthy\", \"healthy\", \"healthy\", \"healthy\", \"healthy\", \"healthy\", \"healthy\", \"healthy\", \"healthy\", \"healthy\", \"healthy\", \"healthy\", \"healthy\", \"healthy\", \"healthy\", \"healthy\", \"healthy\", \"healthy\", \"healthy\", \"healthy\", \"healthy\", \"healthy\", \"healthy\", \"healthy\", \"healthy\", \"healthy\", \"healthy\", \"healthy\", \"healthy\", \"healthy\", \"healthy\", \"healthy\", \"healthy\", \"healthy\", \"healthy\", \"healthy\", \"healthy\", \"healthy\", \"healthy\", \"healthy\", \"healthy\", \"healthy\", \"healthy\", \"healthy\", \"healthy\", \"healthy\", \"healthy\", \"healthy\", \"healthy\", \"healthy\", \"healthy\", \"healthy\", \"healthy\", \"healthy\", \"healthy\", \"healthy\", \"healthy\", \"healthy\", \"healthy\", \"healthy\", \"healthy\", \"healthy\", \"healthy\", \"healthy\", \"healthy\", \"healthy\", \"healthy\", \"healthy\", \"healthy\", \"healthy\", \"healthy\", \"healthy\", \"healthy\", \"healthy\", \"healthy\", \"healthy\", \"healthy\", \"healthy\", \"healthy\", \"healthy\", \"healthy\", \"healthy\", \"healthy\", \"healthy\", \"healthy\", \"healthy\", \"healthy\", \"healthy\", \"healthy\", \"healthy\", \"healthy\", \"healthy\", \"healthy\", \"healthy\", \"healthy\", \"healthy\", \"healthy\", \"healthy\", \"healthy\", \"healthy\", \"healthy\", \"healthy\", \"healthy\", \"healthy\", \"healthy\", \"healthy\", \"healthy\", \"healthy\", \"healthy\", \"healthy\", \"healthy\", \"healthy\", \"healthy\", \"healthy\", \"healthy\", \"healthy\", \"healthy\", \"healthy\", \"healthy\", \"healthy\", \"healthy\", \"healthy\", \"healthy\", \"healthy\", \"healthy\", \"healthy\", \"healthy\", \"healthy\", \"healthy\", \"healthy\", \"healthy\", \"healthy\", \"healthy\", \"healthy\", \"healthy\", \"healthy\", \"healthy\", \"healthy\", \"healthy\", \"healthy\", \"healthy\", \"healthy\", \"healthy\", \"healthy\", \"healthy\", \"healthy\", \"healthy\", \"healthy\", \"healthy\", \"healthy\", \"healthy\", \"healthy\", \"healthy\", \"healthy\", \"healthy\", \"healthy\", \"healthy\", \"healthy\", \"healthy\", \"healthy\", \"healthy\", \"healthy\", \"healthy\", \"healthy\", \"healthy\", \"healthy\", \"healthy\", \"healthy\", \"healthy\", \"healthy\", \"healthy\", \"healthy\", \"healthy\", \"healthy\", \"healthy\", \"healthy\", \"healthy\", \"healthy\", \"healthy\", \"healthy\", \"healthy\", \"healthy\", \"healthy\", \"healthy\", \"healthy\", \"healthy\", \"healthy\", \"healthy\", \"healthy\", \"healthy\", \"healthy\", \"healthy\", \"healthy\", \"healthy\", \"healthy\", \"healthy\", \"healthy\", \"healthy\", \"healthy\", \"healthy\", \"healthy\", \"healthy\", \"healthy\", \"healthy\", \"healthy\", \"healthy\", \"healthy\", \"healthy\", \"healthy\", \"healthy\", \"healthy\", \"healthy\", \"healthy\", \"healthy\", \"healthy\", \"healthy\", \"healthy\", \"healthy\", \"healthy\", \"healthy\", \"healthy\", \"healthy\", \"healthy\", \"healthy\", \"healthy\", \"healthy\", \"healthy\", \"healthy\", \"healthy\", \"healthy\", \"healthy\", \"healthy\", \"healthy\", \"healthy\", \"healthy\", \"healthy\", \"healthy\", \"healthy\", \"healthy\", \"healthy\", \"healthy\", \"healthy\", \"healthy\", \"healthy\", \"healthy\", \"healthy\", \"healthy\", \"healthy\", \"healthy\", \"healthy\", \"healthy\", \"healthy\", \"healthy\", \"healthy\", \"healthy\", \"healthy\", \"healthy\", \"healthy\", \"healthy\", \"healthy\", \"healthy\", \"healthy\", \"healthy\", \"healthy\", \"healthy\", \"healthy\", \"healthy\", \"healthy\", \"healthy\", \"healthy\", \"healthy\", \"healthy\", \"healthy\", \"healthy\", \"healthy\", \"healthy\", \"healthy\", \"healthy\", \"healthy\", \"healthy\", \"healthy\", \"healthy\", \"healthy\", \"healthy\", \"healthy\", \"healthy\", \"healthy\", \"healthy\", \"healthy\", \"healthy\", \"healthy\", \"healthy\", \"healthy\", \"healthy\", \"healthy\"], \"yaxis\": \"y2\"}],\n",
       "                        {\"barmode\": \"overlay\", \"hovermode\": \"closest\", \"legend\": {\"traceorder\": \"reversed\"}, \"template\": {\"data\": {\"bar\": [{\"error_x\": {\"color\": \"#2a3f5f\"}, \"error_y\": {\"color\": \"#2a3f5f\"}, \"marker\": {\"line\": {\"color\": \"#E5ECF6\", \"width\": 0.5}}, \"type\": \"bar\"}], \"barpolar\": [{\"marker\": {\"line\": {\"color\": \"#E5ECF6\", \"width\": 0.5}}, \"type\": \"barpolar\"}], \"carpet\": [{\"aaxis\": {\"endlinecolor\": \"#2a3f5f\", \"gridcolor\": \"white\", \"linecolor\": \"white\", \"minorgridcolor\": \"white\", \"startlinecolor\": \"#2a3f5f\"}, \"baxis\": {\"endlinecolor\": \"#2a3f5f\", \"gridcolor\": \"white\", \"linecolor\": \"white\", \"minorgridcolor\": \"white\", \"startlinecolor\": \"#2a3f5f\"}, \"type\": \"carpet\"}], \"choropleth\": [{\"colorbar\": {\"outlinewidth\": 0, \"ticks\": \"\"}, \"type\": \"choropleth\"}], \"contour\": [{\"colorbar\": {\"outlinewidth\": 0, \"ticks\": \"\"}, \"colorscale\": [[0.0, \"#0d0887\"], [0.1111111111111111, \"#46039f\"], [0.2222222222222222, \"#7201a8\"], [0.3333333333333333, \"#9c179e\"], [0.4444444444444444, \"#bd3786\"], [0.5555555555555556, \"#d8576b\"], [0.6666666666666666, \"#ed7953\"], [0.7777777777777778, \"#fb9f3a\"], [0.8888888888888888, \"#fdca26\"], [1.0, \"#f0f921\"]], \"type\": \"contour\"}], \"contourcarpet\": [{\"colorbar\": {\"outlinewidth\": 0, \"ticks\": \"\"}, \"type\": \"contourcarpet\"}], \"heatmap\": [{\"colorbar\": {\"outlinewidth\": 0, \"ticks\": \"\"}, \"colorscale\": [[0.0, \"#0d0887\"], [0.1111111111111111, \"#46039f\"], [0.2222222222222222, \"#7201a8\"], [0.3333333333333333, \"#9c179e\"], [0.4444444444444444, \"#bd3786\"], [0.5555555555555556, \"#d8576b\"], [0.6666666666666666, \"#ed7953\"], [0.7777777777777778, \"#fb9f3a\"], [0.8888888888888888, \"#fdca26\"], [1.0, \"#f0f921\"]], \"type\": \"heatmap\"}], \"heatmapgl\": [{\"colorbar\": {\"outlinewidth\": 0, \"ticks\": \"\"}, \"colorscale\": [[0.0, \"#0d0887\"], [0.1111111111111111, \"#46039f\"], [0.2222222222222222, \"#7201a8\"], [0.3333333333333333, \"#9c179e\"], [0.4444444444444444, \"#bd3786\"], [0.5555555555555556, \"#d8576b\"], [0.6666666666666666, \"#ed7953\"], [0.7777777777777778, \"#fb9f3a\"], [0.8888888888888888, \"#fdca26\"], [1.0, \"#f0f921\"]], \"type\": \"heatmapgl\"}], \"histogram\": [{\"marker\": {\"colorbar\": {\"outlinewidth\": 0, \"ticks\": \"\"}}, \"type\": \"histogram\"}], \"histogram2d\": [{\"colorbar\": {\"outlinewidth\": 0, \"ticks\": \"\"}, \"colorscale\": [[0.0, \"#0d0887\"], [0.1111111111111111, \"#46039f\"], [0.2222222222222222, \"#7201a8\"], [0.3333333333333333, \"#9c179e\"], [0.4444444444444444, \"#bd3786\"], [0.5555555555555556, \"#d8576b\"], [0.6666666666666666, \"#ed7953\"], [0.7777777777777778, \"#fb9f3a\"], [0.8888888888888888, \"#fdca26\"], [1.0, \"#f0f921\"]], \"type\": \"histogram2d\"}], \"histogram2dcontour\": [{\"colorbar\": {\"outlinewidth\": 0, \"ticks\": \"\"}, \"colorscale\": [[0.0, \"#0d0887\"], [0.1111111111111111, \"#46039f\"], [0.2222222222222222, \"#7201a8\"], [0.3333333333333333, \"#9c179e\"], [0.4444444444444444, \"#bd3786\"], [0.5555555555555556, \"#d8576b\"], [0.6666666666666666, \"#ed7953\"], [0.7777777777777778, \"#fb9f3a\"], [0.8888888888888888, \"#fdca26\"], [1.0, \"#f0f921\"]], \"type\": \"histogram2dcontour\"}], \"mesh3d\": [{\"colorbar\": {\"outlinewidth\": 0, \"ticks\": \"\"}, \"type\": \"mesh3d\"}], \"parcoords\": [{\"line\": {\"colorbar\": {\"outlinewidth\": 0, \"ticks\": \"\"}}, \"type\": \"parcoords\"}], \"pie\": [{\"automargin\": true, \"type\": \"pie\"}], \"scatter\": [{\"marker\": {\"colorbar\": {\"outlinewidth\": 0, \"ticks\": \"\"}}, \"type\": \"scatter\"}], \"scatter3d\": [{\"line\": {\"colorbar\": {\"outlinewidth\": 0, \"ticks\": \"\"}}, \"marker\": {\"colorbar\": {\"outlinewidth\": 0, \"ticks\": \"\"}}, \"type\": \"scatter3d\"}], \"scattercarpet\": [{\"marker\": {\"colorbar\": {\"outlinewidth\": 0, \"ticks\": \"\"}}, \"type\": \"scattercarpet\"}], \"scattergeo\": [{\"marker\": {\"colorbar\": {\"outlinewidth\": 0, \"ticks\": \"\"}}, \"type\": \"scattergeo\"}], \"scattergl\": [{\"marker\": {\"colorbar\": {\"outlinewidth\": 0, \"ticks\": \"\"}}, \"type\": \"scattergl\"}], \"scattermapbox\": [{\"marker\": {\"colorbar\": {\"outlinewidth\": 0, \"ticks\": \"\"}}, \"type\": \"scattermapbox\"}], \"scatterpolar\": [{\"marker\": {\"colorbar\": {\"outlinewidth\": 0, \"ticks\": \"\"}}, \"type\": \"scatterpolar\"}], \"scatterpolargl\": [{\"marker\": {\"colorbar\": {\"outlinewidth\": 0, \"ticks\": \"\"}}, \"type\": \"scatterpolargl\"}], \"scatterternary\": [{\"marker\": {\"colorbar\": {\"outlinewidth\": 0, \"ticks\": \"\"}}, \"type\": \"scatterternary\"}], \"surface\": [{\"colorbar\": {\"outlinewidth\": 0, \"ticks\": \"\"}, \"colorscale\": [[0.0, \"#0d0887\"], [0.1111111111111111, \"#46039f\"], [0.2222222222222222, \"#7201a8\"], [0.3333333333333333, \"#9c179e\"], [0.4444444444444444, \"#bd3786\"], [0.5555555555555556, \"#d8576b\"], [0.6666666666666666, \"#ed7953\"], [0.7777777777777778, \"#fb9f3a\"], [0.8888888888888888, \"#fdca26\"], [1.0, \"#f0f921\"]], \"type\": \"surface\"}], \"table\": [{\"cells\": {\"fill\": {\"color\": \"#EBF0F8\"}, \"line\": {\"color\": \"white\"}}, \"header\": {\"fill\": {\"color\": \"#C8D4E3\"}, \"line\": {\"color\": \"white\"}}, \"type\": \"table\"}]}, \"layout\": {\"annotationdefaults\": {\"arrowcolor\": \"#2a3f5f\", \"arrowhead\": 0, \"arrowwidth\": 1}, \"coloraxis\": {\"colorbar\": {\"outlinewidth\": 0, \"ticks\": \"\"}}, \"colorscale\": {\"diverging\": [[0, \"#8e0152\"], [0.1, \"#c51b7d\"], [0.2, \"#de77ae\"], [0.3, \"#f1b6da\"], [0.4, \"#fde0ef\"], [0.5, \"#f7f7f7\"], [0.6, \"#e6f5d0\"], [0.7, \"#b8e186\"], [0.8, \"#7fbc41\"], [0.9, \"#4d9221\"], [1, \"#276419\"]], \"sequential\": [[0.0, \"#0d0887\"], [0.1111111111111111, \"#46039f\"], [0.2222222222222222, \"#7201a8\"], [0.3333333333333333, \"#9c179e\"], [0.4444444444444444, \"#bd3786\"], [0.5555555555555556, \"#d8576b\"], [0.6666666666666666, \"#ed7953\"], [0.7777777777777778, \"#fb9f3a\"], [0.8888888888888888, \"#fdca26\"], [1.0, \"#f0f921\"]], \"sequentialminus\": [[0.0, \"#0d0887\"], [0.1111111111111111, \"#46039f\"], [0.2222222222222222, \"#7201a8\"], [0.3333333333333333, \"#9c179e\"], [0.4444444444444444, \"#bd3786\"], [0.5555555555555556, \"#d8576b\"], [0.6666666666666666, \"#ed7953\"], [0.7777777777777778, \"#fb9f3a\"], [0.8888888888888888, \"#fdca26\"], [1.0, \"#f0f921\"]]}, \"colorway\": [\"#636efa\", \"#EF553B\", \"#00cc96\", \"#ab63fa\", \"#FFA15A\", \"#19d3f3\", \"#FF6692\", \"#B6E880\", \"#FF97FF\", \"#FECB52\"], \"font\": {\"color\": \"#2a3f5f\"}, \"geo\": {\"bgcolor\": \"white\", \"lakecolor\": \"white\", \"landcolor\": \"#E5ECF6\", \"showlakes\": true, \"showland\": true, \"subunitcolor\": \"white\"}, \"hoverlabel\": {\"align\": \"left\"}, \"hovermode\": \"closest\", \"mapbox\": {\"style\": \"light\"}, \"paper_bgcolor\": \"white\", \"plot_bgcolor\": \"#E5ECF6\", \"polar\": {\"angularaxis\": {\"gridcolor\": \"white\", \"linecolor\": \"white\", \"ticks\": \"\"}, \"bgcolor\": \"#E5ECF6\", \"radialaxis\": {\"gridcolor\": \"white\", \"linecolor\": \"white\", \"ticks\": \"\"}}, \"scene\": {\"xaxis\": {\"backgroundcolor\": \"#E5ECF6\", \"gridcolor\": \"white\", \"gridwidth\": 2, \"linecolor\": \"white\", \"showbackground\": true, \"ticks\": \"\", \"zerolinecolor\": \"white\"}, \"yaxis\": {\"backgroundcolor\": \"#E5ECF6\", \"gridcolor\": \"white\", \"gridwidth\": 2, \"linecolor\": \"white\", \"showbackground\": true, \"ticks\": \"\", \"zerolinecolor\": \"white\"}, \"zaxis\": {\"backgroundcolor\": \"#E5ECF6\", \"gridcolor\": \"white\", \"gridwidth\": 2, \"linecolor\": \"white\", \"showbackground\": true, \"ticks\": \"\", \"zerolinecolor\": \"white\"}}, \"shapedefaults\": {\"line\": {\"color\": \"#2a3f5f\"}}, \"ternary\": {\"aaxis\": {\"gridcolor\": \"white\", \"linecolor\": \"white\", \"ticks\": \"\"}, \"baxis\": {\"gridcolor\": \"white\", \"linecolor\": \"white\", \"ticks\": \"\"}, \"bgcolor\": \"#E5ECF6\", \"caxis\": {\"gridcolor\": \"white\", \"linecolor\": \"white\", \"ticks\": \"\"}}, \"title\": {\"x\": 0.05}, \"xaxis\": {\"automargin\": true, \"gridcolor\": \"white\", \"linecolor\": \"white\", \"ticks\": \"\", \"title\": {\"standoff\": 15}, \"zerolinecolor\": \"white\", \"zerolinewidth\": 2}, \"yaxis\": {\"automargin\": true, \"gridcolor\": \"white\", \"linecolor\": \"white\", \"ticks\": \"\", \"title\": {\"standoff\": 15}, \"zerolinecolor\": \"white\", \"zerolinewidth\": 2}}}, \"title\": {\"text\": \"Glucose\"}, \"xaxis\": {\"anchor\": \"y2\", \"domain\": [0.0, 1.0], \"zeroline\": false}, \"yaxis\": {\"anchor\": \"free\", \"domain\": [0.35, 1], \"position\": 0.0}, \"yaxis2\": {\"anchor\": \"x\", \"domain\": [0, 0.25], \"dtick\": 1, \"showticklabels\": false}},\n",
       "                        {\"responsive\": true}\n",
       "                    ).then(function(){\n",
       "                            \n",
       "var gd = document.getElementById('fe069873-a2b8-44eb-b763-b4e435e3514f');\n",
       "var x = new MutationObserver(function (mutations, observer) {{\n",
       "        var display = window.getComputedStyle(gd).display;\n",
       "        if (!display || display === 'none') {{\n",
       "            console.log([gd, 'removed!']);\n",
       "            Plotly.purge(gd);\n",
       "            observer.disconnect();\n",
       "        }}\n",
       "}});\n",
       "\n",
       "// Listen for the removal of the full notebook cells\n",
       "var notebookContainer = gd.closest('#notebook-container');\n",
       "if (notebookContainer) {{\n",
       "    x.observe(notebookContainer, {childList: true});\n",
       "}}\n",
       "\n",
       "// Listen for the clearing of the current output cell\n",
       "var outputEl = gd.closest('.output');\n",
       "if (outputEl) {{\n",
       "    x.observe(outputEl, {childList: true});\n",
       "}}\n",
       "\n",
       "                        })\n",
       "                };\n",
       "                });\n",
       "            </script>\n",
       "        </div>"
      ]
     },
     "metadata": {},
     "output_type": "display_data"
    }
   ],
   "source": [
    "plot_distribution('Glucose',0)"
   ]
  },
  {
   "cell_type": "code",
   "execution_count": 22,
   "metadata": {},
   "outputs": [
    {
     "data": {
      "text/html": [
       "<div>\n",
       "<style scoped>\n",
       "    .dataframe tbody tr th:only-of-type {\n",
       "        vertical-align: middle;\n",
       "    }\n",
       "\n",
       "    .dataframe tbody tr th {\n",
       "        vertical-align: top;\n",
       "    }\n",
       "\n",
       "    .dataframe thead th {\n",
       "        text-align: right;\n",
       "    }\n",
       "</style>\n",
       "<table border=\"1\" class=\"dataframe\">\n",
       "  <thead>\n",
       "    <tr style=\"text-align: right;\">\n",
       "      <th></th>\n",
       "      <th>Outcome</th>\n",
       "      <th>Glucose</th>\n",
       "    </tr>\n",
       "  </thead>\n",
       "  <tbody>\n",
       "    <tr>\n",
       "      <th>0</th>\n",
       "      <td>0</td>\n",
       "      <td>107.0</td>\n",
       "    </tr>\n",
       "    <tr>\n",
       "      <th>1</th>\n",
       "      <td>1</td>\n",
       "      <td>140.0</td>\n",
       "    </tr>\n",
       "  </tbody>\n",
       "</table>\n",
       "</div>"
      ],
      "text/plain": [
       "   Outcome  Glucose\n",
       "0        0    107.0\n",
       "1        1    140.0"
      ]
     },
     "execution_count": 22,
     "metadata": {},
     "output_type": "execute_result"
    }
   ],
   "source": [
    "median_target('Glucose')"
   ]
  },
  {
   "cell_type": "code",
   "execution_count": 23,
   "metadata": {},
   "outputs": [],
   "source": [
    "data.loc[(data['Outcome']==0)&(data['Glucose'].isnull()),'Glucose']=107\n",
    "data.loc[(data['Outcome']==1)&(data['Glucose'].isnull()),'Glucose']=140"
   ]
  },
  {
   "cell_type": "code",
   "execution_count": null,
   "metadata": {},
   "outputs": [],
   "source": [
    "plot"
   ]
  }
 ],
 "metadata": {
  "kernelspec": {
   "display_name": "Python 3",
   "language": "python",
   "name": "python3"
  },
  "language_info": {
   "codemirror_mode": {
    "name": "ipython",
    "version": 3
   },
   "file_extension": ".py",
   "mimetype": "text/x-python",
   "name": "python",
   "nbconvert_exporter": "python",
   "pygments_lexer": "ipython3",
   "version": "3.7.6"
  }
 },
 "nbformat": 4,
 "nbformat_minor": 4
}
