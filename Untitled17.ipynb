{
 "cells": [
  {
   "cell_type": "code",
   "execution_count": 1,
   "metadata": {},
   "outputs": [],
   "source": [
    "import numpy as np # Data science computing tools\n",
    "import matplotlib.pyplot as plt # Numerical tools\n",
    "import pandas as pd # Visualization\n",
    "import seaborn as sns # Advanced API of Matplotlib\n",
    "from sklearn.model_selection import train_test_split,GridSearchCV,KFold # Divide data test and train set/Automatic parameter adjustment\n",
    "from sklearn.preprocessing import StandardScaler # De mean and variance normalization\n",
    "from sklearn.metrics import confusion_matrix,classification_report,roc_curve,accuracy_score,auc,precision_recall_curve\n",
    " # Confusion matrix/Show main classification indicators/Receiver operating characteristic/Classification accuracy score/Area Under Curve\n",
    "from sklearn.linear_model import LogisticRegression # Logistic regression classification\n",
    "from sklearn.svm import SVC #svm.SVC classification\n",
    "from sklearn.neighbors import KNeighborsClassifier #KNN classification\n",
    "from sklearn.ensemble import RandomForestClassifier,AdaBoostClassifier,GradientBoostingClassifier #Randomforest classification\n",
    "from keras.utils import np_utils # Be similar to tf.one_ hot()\n",
    "from keras.models import Sequential,load_model # sequential model/load model\n",
    "from keras.layers import Dense,Dropout,Activation,Conv2D,MaxPooling2D,Flatten \n",
    " # Fully connected neural network layer/Dropout layer to prevent over fitting/Convolution neural network/MaxPooling layer/Flatten layer\n",
    "import pickle # ackaging Model\n",
    "%matplotlib inline \n",
    " # Drawing plot in notebook\n",
    "from sklearn.naive_bayes import GaussianNB\n",
    "from sklearn.neural_network import MLPClassifier\n",
    "from sklearn.kernel_approximation import Nystroem\n",
    "from sklearn.kernel_approximation import RBFSampler\n",
    "from sklearn.pipeline import make_pipeline\n",
    "from scipy import interp\n",
    "from scipy.stats import randint as sp_randint\n",
    "from scipy.stats import uniform as sp_uniform\n",
    "from sklearn.metrics import roc_auc_score"
   ]
  },
  {
   "cell_type": "code",
   "execution_count": 2,
   "metadata": {},
   "outputs": [],
   "source": [
    "df=pd.read_csv('data\\diabetes1.csv') # Loading the dataset"
   ]
  },
  {
   "cell_type": "code",
   "execution_count": 3,
   "metadata": {},
   "outputs": [
    {
     "data": {
      "text/html": [
       "<div>\n",
       "<style scoped>\n",
       "    .dataframe tbody tr th:only-of-type {\n",
       "        vertical-align: middle;\n",
       "    }\n",
       "\n",
       "    .dataframe tbody tr th {\n",
       "        vertical-align: top;\n",
       "    }\n",
       "\n",
       "    .dataframe thead th {\n",
       "        text-align: right;\n",
       "    }\n",
       "</style>\n",
       "<table border=\"1\" class=\"dataframe\">\n",
       "  <thead>\n",
       "    <tr style=\"text-align: right;\">\n",
       "      <th></th>\n",
       "      <th>Pregnancies</th>\n",
       "      <th>Glucose</th>\n",
       "      <th>BloodPressure</th>\n",
       "      <th>SkinThickness</th>\n",
       "      <th>Insulin</th>\n",
       "      <th>BMI</th>\n",
       "      <th>DiabetesPedigreeFunction</th>\n",
       "      <th>Age</th>\n",
       "      <th>Outcome</th>\n",
       "    </tr>\n",
       "  </thead>\n",
       "  <tbody>\n",
       "    <tr>\n",
       "      <th>count</th>\n",
       "      <td>768.000000</td>\n",
       "      <td>768.000000</td>\n",
       "      <td>768.000000</td>\n",
       "      <td>768.000000</td>\n",
       "      <td>768.000000</td>\n",
       "      <td>768.000000</td>\n",
       "      <td>768.000000</td>\n",
       "      <td>768.000000</td>\n",
       "      <td>768.000000</td>\n",
       "    </tr>\n",
       "    <tr>\n",
       "      <th>mean</th>\n",
       "      <td>3.845052</td>\n",
       "      <td>120.894531</td>\n",
       "      <td>69.105469</td>\n",
       "      <td>20.536458</td>\n",
       "      <td>79.799479</td>\n",
       "      <td>31.992578</td>\n",
       "      <td>0.471876</td>\n",
       "      <td>33.240885</td>\n",
       "      <td>0.348958</td>\n",
       "    </tr>\n",
       "    <tr>\n",
       "      <th>std</th>\n",
       "      <td>3.369578</td>\n",
       "      <td>31.972618</td>\n",
       "      <td>19.355807</td>\n",
       "      <td>15.952218</td>\n",
       "      <td>115.244002</td>\n",
       "      <td>7.884160</td>\n",
       "      <td>0.331329</td>\n",
       "      <td>11.760232</td>\n",
       "      <td>0.476951</td>\n",
       "    </tr>\n",
       "    <tr>\n",
       "      <th>min</th>\n",
       "      <td>0.000000</td>\n",
       "      <td>0.000000</td>\n",
       "      <td>0.000000</td>\n",
       "      <td>0.000000</td>\n",
       "      <td>0.000000</td>\n",
       "      <td>0.000000</td>\n",
       "      <td>0.078000</td>\n",
       "      <td>21.000000</td>\n",
       "      <td>0.000000</td>\n",
       "    </tr>\n",
       "    <tr>\n",
       "      <th>25%</th>\n",
       "      <td>1.000000</td>\n",
       "      <td>99.000000</td>\n",
       "      <td>62.000000</td>\n",
       "      <td>0.000000</td>\n",
       "      <td>0.000000</td>\n",
       "      <td>27.300000</td>\n",
       "      <td>0.243750</td>\n",
       "      <td>24.000000</td>\n",
       "      <td>0.000000</td>\n",
       "    </tr>\n",
       "    <tr>\n",
       "      <th>50%</th>\n",
       "      <td>3.000000</td>\n",
       "      <td>117.000000</td>\n",
       "      <td>72.000000</td>\n",
       "      <td>23.000000</td>\n",
       "      <td>30.500000</td>\n",
       "      <td>32.000000</td>\n",
       "      <td>0.372500</td>\n",
       "      <td>29.000000</td>\n",
       "      <td>0.000000</td>\n",
       "    </tr>\n",
       "    <tr>\n",
       "      <th>75%</th>\n",
       "      <td>6.000000</td>\n",
       "      <td>140.250000</td>\n",
       "      <td>80.000000</td>\n",
       "      <td>32.000000</td>\n",
       "      <td>127.250000</td>\n",
       "      <td>36.600000</td>\n",
       "      <td>0.626250</td>\n",
       "      <td>41.000000</td>\n",
       "      <td>1.000000</td>\n",
       "    </tr>\n",
       "    <tr>\n",
       "      <th>max</th>\n",
       "      <td>17.000000</td>\n",
       "      <td>199.000000</td>\n",
       "      <td>122.000000</td>\n",
       "      <td>99.000000</td>\n",
       "      <td>846.000000</td>\n",
       "      <td>67.100000</td>\n",
       "      <td>2.420000</td>\n",
       "      <td>81.000000</td>\n",
       "      <td>1.000000</td>\n",
       "    </tr>\n",
       "  </tbody>\n",
       "</table>\n",
       "</div>"
      ],
      "text/plain": [
       "       Pregnancies     Glucose  BloodPressure  SkinThickness     Insulin  \\\n",
       "count   768.000000  768.000000     768.000000     768.000000  768.000000   \n",
       "mean      3.845052  120.894531      69.105469      20.536458   79.799479   \n",
       "std       3.369578   31.972618      19.355807      15.952218  115.244002   \n",
       "min       0.000000    0.000000       0.000000       0.000000    0.000000   \n",
       "25%       1.000000   99.000000      62.000000       0.000000    0.000000   \n",
       "50%       3.000000  117.000000      72.000000      23.000000   30.500000   \n",
       "75%       6.000000  140.250000      80.000000      32.000000  127.250000   \n",
       "max      17.000000  199.000000     122.000000      99.000000  846.000000   \n",
       "\n",
       "              BMI  DiabetesPedigreeFunction         Age     Outcome  \n",
       "count  768.000000                768.000000  768.000000  768.000000  \n",
       "mean    31.992578                  0.471876   33.240885    0.348958  \n",
       "std      7.884160                  0.331329   11.760232    0.476951  \n",
       "min      0.000000                  0.078000   21.000000    0.000000  \n",
       "25%     27.300000                  0.243750   24.000000    0.000000  \n",
       "50%     32.000000                  0.372500   29.000000    0.000000  \n",
       "75%     36.600000                  0.626250   41.000000    1.000000  \n",
       "max     67.100000                  2.420000   81.000000    1.000000  "
      ]
     },
     "execution_count": 3,
     "metadata": {},
     "output_type": "execute_result"
    }
   ],
   "source": [
    "df.describe() # basic statistic details about the data"
   ]
  },
  {
   "cell_type": "code",
   "execution_count": 4,
   "metadata": {},
   "outputs": [
    {
     "name": "stdout",
     "output_type": "stream",
     "text": [
      "Pregnancies                   0\n",
      "Glucose                       5\n",
      "BloodPressure                35\n",
      "SkinThickness               227\n",
      "Insulin                     374\n",
      "BMI                          11\n",
      "DiabetesPedigreeFunction      0\n",
      "Age                           0\n",
      "Outcome                       0\n",
      "dtype: int64\n"
     ]
    }
   ],
   "source": [
    "df_copy = df.copy(deep = True) # Create a copy to avoid affecting the original data\n",
    "df_copy[['Glucose','BloodPressure','SkinThickness','Insulin','BMI']] =\\\n",
    "df_copy[['Glucose','BloodPressure','SkinThickness','Insulin','BMI']].replace(0,np.NaN)\n",
    "# Replace the 0 value with a null value\n",
    "print(df_copy.isnull().sum()) # showing the count of NaNs"
   ]
  },
  {
   "cell_type": "code",
   "execution_count": 5,
   "metadata": {},
   "outputs": [
    {
     "data": {
      "image/png": "[encoded data removed]",
      "text/plain": [
       "<Figure size 576x576 with 2 Axes>"
      ]
     },
     "metadata": {
      "needs_background": "light"
     },
     "output_type": "display_data"
    }
   ],
   "source": [
    "datacor=np.corrcoef(df,rowvar=0)# Pairwise calculation of Pearson product\n",
    "datacor=pd.DataFrame(data=datacor,columns=df.columns,index=df.columns)\n",
    "plt.figure(figsize=(8,8))# Set the size of the image\n",
    "ax=sns.heatmap(datacor,square=True,annot=True,\n",
    "              linewidth=0.5,cmap='YlGnBu',\n",
    "              cbar_kws={'fraction':0.046,'pad':0.03}) # Heat mapping\n",
    "ax.set_title('correlation')\n",
    "plt.show()"
   ]
  },
  {
   "cell_type": "code",
   "execution_count": 6,
   "metadata": {},
   "outputs": [],
   "source": [
    "#Fill in the null value with the median according to the property and the outcome\n",
    "df_copy.loc[(df_copy['Outcome']==0)&(df_copy['Glucose'].isnull()),'Glucose']=107.0\n",
    "df_copy.loc[(df_copy['Outcome']==1)&(df_copy['Glucose'].isnull()),'Glucose']=140.0\n",
    "df_copy.loc[(df_copy['Outcome']==0)&(df_copy['BloodPressure'].isnull()),'BloodPressure']=70.0\n",
    "df_copy.loc[(df_copy['Outcome']==1)&(df_copy['BloodPressure'].isnull()),'BloodPressure']=74.5\n",
    "df_copy.loc[(df_copy['Outcome']==0)&(df_copy['Insulin'].isnull()),'Insulin']=102.5\n",
    "df_copy.loc[(df_copy['Outcome']==1)&(df_copy['Insulin'].isnull()),'Insulin']=169.5\n",
    "df_copy.loc[(df_copy['Outcome']==0)&(df_copy['BMI'].isnull()),'BMI']=30.1\n",
    "df_copy.loc[(df_copy['Outcome']==1)&(df_copy['BMI'].isnull()),'BMI']=34.3\n",
    "df_copy.loc[(df_copy['Outcome']==0)&(df_copy['SkinThickness'].isnull()),'SkinThickness']=27.0\n",
    "df_copy.loc[(df_copy['Outcome']==1)&(df_copy['SkinThickness'].isnull()),'SkinThickness']=32.0"
   ]
  },
  {
   "cell_type": "code",
   "execution_count": 7,
   "metadata": {},
   "outputs": [
    {
     "data": {
      "text/html": [
       "<div>\n",
       "<style scoped>\n",
       "    .dataframe tbody tr th:only-of-type {\n",
       "        vertical-align: middle;\n",
       "    }\n",
       "\n",
       "    .dataframe tbody tr th {\n",
       "        vertical-align: top;\n",
       "    }\n",
       "\n",
       "    .dataframe thead th {\n",
       "        text-align: right;\n",
       "    }\n",
       "</style>\n",
       "<table border=\"1\" class=\"dataframe\">\n",
       "  <thead>\n",
       "    <tr style=\"text-align: right;\">\n",
       "      <th></th>\n",
       "      <th>Pregnancies</th>\n",
       "      <th>Glucose</th>\n",
       "      <th>BloodPressure</th>\n",
       "      <th>SkinThickness</th>\n",
       "      <th>Insulin</th>\n",
       "      <th>BMI</th>\n",
       "      <th>DiabetesPedigreeFunction</th>\n",
       "      <th>Age</th>\n",
       "      <th>Outcome</th>\n",
       "    </tr>\n",
       "  </thead>\n",
       "  <tbody>\n",
       "    <tr>\n",
       "      <th>count</th>\n",
       "      <td>768.000000</td>\n",
       "      <td>768.000000</td>\n",
       "      <td>768.000000</td>\n",
       "      <td>768.000000</td>\n",
       "      <td>768.000000</td>\n",
       "      <td>768.000000</td>\n",
       "      <td>768.000000</td>\n",
       "      <td>768.000000</td>\n",
       "      <td>768.000000</td>\n",
       "    </tr>\n",
       "    <tr>\n",
       "      <th>mean</th>\n",
       "      <td>3.845052</td>\n",
       "      <td>121.677083</td>\n",
       "      <td>72.389323</td>\n",
       "      <td>29.089844</td>\n",
       "      <td>141.753906</td>\n",
       "      <td>32.434635</td>\n",
       "      <td>0.471876</td>\n",
       "      <td>33.240885</td>\n",
       "      <td>0.348958</td>\n",
       "    </tr>\n",
       "    <tr>\n",
       "      <th>std</th>\n",
       "      <td>3.369578</td>\n",
       "      <td>30.464161</td>\n",
       "      <td>12.106039</td>\n",
       "      <td>8.890820</td>\n",
       "      <td>89.100847</td>\n",
       "      <td>6.880498</td>\n",
       "      <td>0.331329</td>\n",
       "      <td>11.760232</td>\n",
       "      <td>0.476951</td>\n",
       "    </tr>\n",
       "    <tr>\n",
       "      <th>min</th>\n",
       "      <td>0.000000</td>\n",
       "      <td>44.000000</td>\n",
       "      <td>24.000000</td>\n",
       "      <td>7.000000</td>\n",
       "      <td>14.000000</td>\n",
       "      <td>18.200000</td>\n",
       "      <td>0.078000</td>\n",
       "      <td>21.000000</td>\n",
       "      <td>0.000000</td>\n",
       "    </tr>\n",
       "    <tr>\n",
       "      <th>25%</th>\n",
       "      <td>1.000000</td>\n",
       "      <td>99.750000</td>\n",
       "      <td>64.000000</td>\n",
       "      <td>25.000000</td>\n",
       "      <td>102.500000</td>\n",
       "      <td>27.500000</td>\n",
       "      <td>0.243750</td>\n",
       "      <td>24.000000</td>\n",
       "      <td>0.000000</td>\n",
       "    </tr>\n",
       "    <tr>\n",
       "      <th>50%</th>\n",
       "      <td>3.000000</td>\n",
       "      <td>117.000000</td>\n",
       "      <td>72.000000</td>\n",
       "      <td>28.000000</td>\n",
       "      <td>102.500000</td>\n",
       "      <td>32.050000</td>\n",
       "      <td>0.372500</td>\n",
       "      <td>29.000000</td>\n",
       "      <td>0.000000</td>\n",
       "    </tr>\n",
       "    <tr>\n",
       "      <th>75%</th>\n",
       "      <td>6.000000</td>\n",
       "      <td>140.250000</td>\n",
       "      <td>80.000000</td>\n",
       "      <td>32.000000</td>\n",
       "      <td>169.500000</td>\n",
       "      <td>36.600000</td>\n",
       "      <td>0.626250</td>\n",
       "      <td>41.000000</td>\n",
       "      <td>1.000000</td>\n",
       "    </tr>\n",
       "    <tr>\n",
       "      <th>max</th>\n",
       "      <td>17.000000</td>\n",
       "      <td>199.000000</td>\n",
       "      <td>122.000000</td>\n",
       "      <td>99.000000</td>\n",
       "      <td>846.000000</td>\n",
       "      <td>67.100000</td>\n",
       "      <td>2.420000</td>\n",
       "      <td>81.000000</td>\n",
       "      <td>1.000000</td>\n",
       "    </tr>\n",
       "  </tbody>\n",
       "</table>\n",
       "</div>"
      ],
      "text/plain": [
       "       Pregnancies     Glucose  BloodPressure  SkinThickness     Insulin  \\\n",
       "count   768.000000  768.000000     768.000000     768.000000  768.000000   \n",
       "mean      3.845052  121.677083      72.389323      29.089844  141.753906   \n",
       "std       3.369578   30.464161      12.106039       8.890820   89.100847   \n",
       "min       0.000000   44.000000      24.000000       7.000000   14.000000   \n",
       "25%       1.000000   99.750000      64.000000      25.000000  102.500000   \n",
       "50%       3.000000  117.000000      72.000000      28.000000  102.500000   \n",
       "75%       6.000000  140.250000      80.000000      32.000000  169.500000   \n",
       "max      17.000000  199.000000     122.000000      99.000000  846.000000   \n",
       "\n",
       "              BMI  DiabetesPedigreeFunction         Age     Outcome  \n",
       "count  768.000000                768.000000  768.000000  768.000000  \n",
       "mean    32.434635                  0.471876   33.240885    0.348958  \n",
       "std      6.880498                  0.331329   11.760232    0.476951  \n",
       "min     18.200000                  0.078000   21.000000    0.000000  \n",
       "25%     27.500000                  0.243750   24.000000    0.000000  \n",
       "50%     32.050000                  0.372500   29.000000    0.000000  \n",
       "75%     36.600000                  0.626250   41.000000    1.000000  \n",
       "max     67.100000                  2.420000   81.000000    1.000000  "
      ]
     },
     "execution_count": 7,
     "metadata": {},
     "output_type": "execute_result"
    }
   ],
   "source": [
    "df_copy.describe()"
   ]
  },
  {
   "cell_type": "code",
   "execution_count": 8,
   "metadata": {},
   "outputs": [
    {
     "data": {
      "text/plain": [
       "<matplotlib.axes._subplots.AxesSubplot at 0x1b35462da88>"
      ]
     },
     "execution_count": 8,
     "metadata": {},
     "output_type": "execute_result"
    },
    {
     "data": {
      "image/png": "[encoded data removed]",
      "text/plain": [
       "<Figure size 432x288 with 1 Axes>"
      ]
     },
     "metadata": {
      "needs_background": "light"
     },
     "output_type": "display_data"
    }
   ],
   "source": [
    "sns.boxplot(data=df_copy,orient='h',palette='Set3')"
   ]
  },
  {
   "cell_type": "code",
   "execution_count": 9,
   "metadata": {},
   "outputs": [],
   "source": [
    "df_copy.loc[(df_copy['Outcome']==0)&(df_copy['Pregnancies']>13),'Pregnancies']=2\n",
    "df_copy.loc[(df_copy['Outcome']==1)&(df_copy['Pregnancies']>13),'Pregnancies']=4\n",
    "df_copy.loc[(df_copy['Outcome']==0)&(df_copy['BloodPressure']<40),'BloodPressure']=70\n",
    "df_copy.loc[(df_copy['Outcome']==0)&(df_copy['BloodPressure']>103),'BloodPressure']=70\n",
    "df_copy.loc[(df_copy['Outcome']==1)&(df_copy['BloodPressure']<40),'BloodPressure']=74.5\n",
    "df_copy.loc[(df_copy['Outcome']==1)&(df_copy['BloodPressure']>103),'BloodPressure']=74.5\n",
    "df_copy.loc[(df_copy['Outcome']==0)&(df_copy['SkinThickness']>39),'SkinThickness']=27\n",
    "df_copy.loc[(df_copy['Outcome']==0)&(df_copy['SkinThickness']<20),'SkinThickness']=27\n",
    "df_copy.loc[(df_copy['Outcome']==1)&(df_copy['SkinThickness']>39),'SkinThickness']=32\n",
    "df_copy.loc[(df_copy['Outcome']==1)&(df_copy['SkinThickness']<20),'SkinThickness']=32\n",
    "df_copy.loc[(df_copy['Outcome']==0)&(df_copy['Insulin']>270),'Insulin']=102.5\n",
    "df_copy.loc[(df_copy['Outcome']==1)&(df_copy['Insulin']>270),'Insulin']=169.5\n",
    "df_copy.loc[(df_copy['Outcome']==0)&(df_copy['BMI']>48),'BMI']=30.1\n",
    "df_copy.loc[(df_copy['Outcome']==1)&(df_copy['BMI']>48),'BMI']=34.3\n",
    "df_copy.loc[(df_copy['Outcome']==0)&(df_copy['DiabetesPedigreeFunction']>1),'DiabetesPedigreeFunction']=0.336\n",
    "df_copy.loc[(df_copy['Outcome']==1)&(df_copy['DiabetesPedigreeFunction']>1),'DiabetesPedigreeFunction']=0.449\n",
    "df_copy.loc[(df_copy['Outcome']==0)&(df_copy['Age']>61),'Age']=27\n",
    "df_copy.loc[(df_copy['Outcome']==1)&(df_copy['Age']>61),'Age']=36"
   ]
  },
  {
   "cell_type": "code",
   "execution_count": 10,
   "metadata": {},
   "outputs": [
    {
     "data": {
      "text/plain": [
       "<matplotlib.axes._subplots.AxesSubplot at 0x1b35474cd88>"
      ]
     },
     "execution_count": 10,
     "metadata": {},
     "output_type": "execute_result"
    },
    {
     "data": {
      "image/png": "[encoded data removed]",
      "text/plain": [
       "<Figure size 432x288 with 1 Axes>"
      ]
     },
     "metadata": {
      "needs_background": "light"
     },
     "output_type": "display_data"
    }
   ],
   "source": [
    "sns.boxplot(data=df_copy,orient='h',palette='Set3')"
   ]
  },
  {
   "cell_type": "code",
   "execution_count": 11,
   "metadata": {},
   "outputs": [],
   "source": [
    "X=df_copy.drop(['Outcome'],1)\n",
    "Y=df_copy['Outcome']"
   ]
  },
  {
   "cell_type": "code",
   "execution_count": 12,
   "metadata": {},
   "outputs": [],
   "source": [
    "std=StandardScaler()\n",
    "X_std=std.fit_transform(X)\n",
    "X_new=pd.DataFrame(data=X_std,columns=X.columns)"
   ]
  },
  {
   "cell_type": "code",
   "execution_count": 13,
   "metadata": {},
   "outputs": [
    {
     "data": {
      "text/html": [
       "<div>\n",
       "<style scoped>\n",
       "    .dataframe tbody tr th:only-of-type {\n",
       "        vertical-align: middle;\n",
       "    }\n",
       "\n",
       "    .dataframe tbody tr th {\n",
       "        vertical-align: top;\n",
       "    }\n",
       "\n",
       "    .dataframe thead th {\n",
       "        text-align: right;\n",
       "    }\n",
       "</style>\n",
       "<table border=\"1\" class=\"dataframe\">\n",
       "  <thead>\n",
       "    <tr style=\"text-align: right;\">\n",
       "      <th></th>\n",
       "      <th>Pregnancies</th>\n",
       "      <th>Glucose</th>\n",
       "      <th>BloodPressure</th>\n",
       "      <th>SkinThickness</th>\n",
       "      <th>Insulin</th>\n",
       "      <th>BMI</th>\n",
       "      <th>DiabetesPedigreeFunction</th>\n",
       "      <th>Age</th>\n",
       "    </tr>\n",
       "  </thead>\n",
       "  <tbody>\n",
       "    <tr>\n",
       "      <th>0</th>\n",
       "      <td>0.676928</td>\n",
       "      <td>0.864625</td>\n",
       "      <td>-0.003025</td>\n",
       "      <td>1.506738</td>\n",
       "      <td>0.977036</td>\n",
       "      <td>0.243965</td>\n",
       "      <td>1.015903</td>\n",
       "      <td>1.778732</td>\n",
       "    </tr>\n",
       "    <tr>\n",
       "      <th>1</th>\n",
       "      <td>-0.853032</td>\n",
       "      <td>-1.204727</td>\n",
       "      <td>-0.560656</td>\n",
       "      <td>-0.008881</td>\n",
       "      <td>-0.474617</td>\n",
       "      <td>-0.878559</td>\n",
       "      <td>-0.266472</td>\n",
       "      <td>-0.102765</td>\n",
       "    </tr>\n",
       "    <tr>\n",
       "      <th>2</th>\n",
       "      <td>1.288911</td>\n",
       "      <td>2.014265</td>\n",
       "      <td>-0.746532</td>\n",
       "      <td>0.748929</td>\n",
       "      <td>0.977036</td>\n",
       "      <td>-1.407749</td>\n",
       "      <td>1.224986</td>\n",
       "      <td>-0.003739</td>\n",
       "    </tr>\n",
       "    <tr>\n",
       "      <th>3</th>\n",
       "      <td>-0.853032</td>\n",
       "      <td>-1.073339</td>\n",
       "      <td>-0.560656</td>\n",
       "      <td>-1.524499</td>\n",
       "      <td>-0.658782</td>\n",
       "      <td>-0.638018</td>\n",
       "      <td>-1.121388</td>\n",
       "      <td>-1.093027</td>\n",
       "    </tr>\n",
       "    <tr>\n",
       "      <th>4</th>\n",
       "      <td>-1.159024</td>\n",
       "      <td>0.503310</td>\n",
       "      <td>-2.977053</td>\n",
       "      <td>1.506738</td>\n",
       "      <td>0.944537</td>\n",
       "      <td>1.767392</td>\n",
       "      <td>0.188864</td>\n",
       "      <td>0.095287</td>\n",
       "    </tr>\n",
       "    <tr>\n",
       "      <th>...</th>\n",
       "      <td>...</td>\n",
       "      <td>...</td>\n",
       "      <td>...</td>\n",
       "      <td>...</td>\n",
       "      <td>...</td>\n",
       "      <td>...</td>\n",
       "      <td>...</td>\n",
       "      <td>...</td>\n",
       "    </tr>\n",
       "    <tr>\n",
       "      <th>763</th>\n",
       "      <td>1.900895</td>\n",
       "      <td>-0.679177</td>\n",
       "      <td>0.368728</td>\n",
       "      <td>-0.514087</td>\n",
       "      <td>1.204534</td>\n",
       "      <td>0.131713</td>\n",
       "      <td>-1.102803</td>\n",
       "      <td>-0.498870</td>\n",
       "    </tr>\n",
       "    <tr>\n",
       "      <th>764</th>\n",
       "      <td>-0.547040</td>\n",
       "      <td>0.010607</td>\n",
       "      <td>-0.188902</td>\n",
       "      <td>-0.514087</td>\n",
       "      <td>-0.474617</td>\n",
       "      <td>0.757119</td>\n",
       "      <td>-0.317581</td>\n",
       "      <td>-0.498870</td>\n",
       "    </tr>\n",
       "    <tr>\n",
       "      <th>765</th>\n",
       "      <td>0.370936</td>\n",
       "      <td>-0.022240</td>\n",
       "      <td>-0.003025</td>\n",
       "      <td>-1.524499</td>\n",
       "      <td>-0.268785</td>\n",
       "      <td>-0.942704</td>\n",
       "      <td>-0.758978</td>\n",
       "      <td>-0.201792</td>\n",
       "    </tr>\n",
       "    <tr>\n",
       "      <th>766</th>\n",
       "      <td>-0.853032</td>\n",
       "      <td>0.141994</td>\n",
       "      <td>-1.118286</td>\n",
       "      <td>0.748929</td>\n",
       "      <td>0.977036</td>\n",
       "      <td>-0.317297</td>\n",
       "      <td>-0.275764</td>\n",
       "      <td>1.481654</td>\n",
       "    </tr>\n",
       "    <tr>\n",
       "      <th>767</th>\n",
       "      <td>-0.853032</td>\n",
       "      <td>-0.941952</td>\n",
       "      <td>-0.188902</td>\n",
       "      <td>0.496326</td>\n",
       "      <td>-0.474617</td>\n",
       "      <td>-0.269189</td>\n",
       "      <td>-0.433738</td>\n",
       "      <td>-0.894975</td>\n",
       "    </tr>\n",
       "  </tbody>\n",
       "</table>\n",
       "<p>768 rows × 8 columns</p>\n",
       "</div>"
      ],
      "text/plain": [
       "     Pregnancies   Glucose  BloodPressure  SkinThickness   Insulin       BMI  \\\n",
       "0       0.676928  0.864625      -0.003025       1.506738  0.977036  0.243965   \n",
       "1      -0.853032 -1.204727      -0.560656      -0.008881 -0.474617 -0.878559   \n",
       "2       1.288911  2.014265      -0.746532       0.748929  0.977036 -1.407749   \n",
       "3      -0.853032 -1.073339      -0.560656      -1.524499 -0.658782 -0.638018   \n",
       "4      -1.159024  0.503310      -2.977053       1.506738  0.944537  1.767392   \n",
       "..           ...       ...            ...            ...       ...       ...   \n",
       "763     1.900895 -0.679177       0.368728      -0.514087  1.204534  0.131713   \n",
       "764    -0.547040  0.010607      -0.188902      -0.514087 -0.474617  0.757119   \n",
       "765     0.370936 -0.022240      -0.003025      -1.524499 -0.268785 -0.942704   \n",
       "766    -0.853032  0.141994      -1.118286       0.748929  0.977036 -0.317297   \n",
       "767    -0.853032 -0.941952      -0.188902       0.496326 -0.474617 -0.269189   \n",
       "\n",
       "     DiabetesPedigreeFunction       Age  \n",
       "0                    1.015903  1.778732  \n",
       "1                   -0.266472 -0.102765  \n",
       "2                    1.224986 -0.003739  \n",
       "3                   -1.121388 -1.093027  \n",
       "4                    0.188864  0.095287  \n",
       "..                        ...       ...  \n",
       "763                 -1.102803 -0.498870  \n",
       "764                 -0.317581 -0.498870  \n",
       "765                 -0.758978 -0.201792  \n",
       "766                 -0.275764  1.481654  \n",
       "767                 -0.433738 -0.894975  \n",
       "\n",
       "[768 rows x 8 columns]"
      ]
     },
     "execution_count": 13,
     "metadata": {},
     "output_type": "execute_result"
    }
   ],
   "source": [
    "X_new"
   ]
  },
  {
   "cell_type": "code",
   "execution_count": 14,
   "metadata": {},
   "outputs": [],
   "source": [
    "X_train, X_test, Y_train, Y_test = train_test_split(\n",
    "    X_new, Y, random_state=2008, test_size=0.2)"
   ]
  },
  {
   "cell_type": "markdown",
   "metadata": {},
   "source": [
    "# KNN"
   ]
  },
  {
   "cell_type": "code",
   "execution_count": 15,
   "metadata": {},
   "outputs": [
    {
     "data": {
      "text/plain": [
       "KNeighborsClassifier(n_neighbors=8)"
      ]
     },
     "execution_count": 15,
     "metadata": {},
     "output_type": "execute_result"
    }
   ],
   "source": [
    "knn = KNeighborsClassifier(8)\n",
    "knn.fit(X_train,Y_train)"
   ]
  },
  {
   "cell_type": "code",
   "execution_count": 16,
   "metadata": {},
   "outputs": [],
   "source": [
    "y_pred_proba = knn.predict_proba(X_test)[:,1]\n",
    "y_pred=knn.predict(X_test)"
   ]
  },
  {
   "cell_type": "code",
   "execution_count": 17,
   "metadata": {},
   "outputs": [
    {
     "data": {
      "text/plain": [
       "0.9285714285714286"
      ]
     },
     "execution_count": 17,
     "metadata": {},
     "output_type": "execute_result"
    }
   ],
   "source": [
    "accuracy_score(Y_test,y_pred)"
   ]
  },
  {
   "cell_type": "code",
   "execution_count": 18,
   "metadata": {},
   "outputs": [
    {
     "data": {
      "text/plain": [
       "array([[97,  3],\n",
       "       [ 8, 46]], dtype=int64)"
      ]
     },
     "execution_count": 18,
     "metadata": {},
     "output_type": "execute_result"
    }
   ],
   "source": [
    "confusion_matrix(Y_test,y_pred)"
   ]
  },
  {
   "cell_type": "code",
   "execution_count": 19,
   "metadata": {
    "scrolled": true
   },
   "outputs": [
    {
     "name": "stdout",
     "output_type": "stream",
     "text": [
      "              precision    recall  f1-score   support\n",
      "\n",
      "           0       0.92      0.97      0.95       100\n",
      "           1       0.94      0.85      0.89        54\n",
      "\n",
      "    accuracy                           0.93       154\n",
      "   macro avg       0.93      0.91      0.92       154\n",
      "weighted avg       0.93      0.93      0.93       154\n",
      "\n"
     ]
    }
   ],
   "source": [
    "print(classification_report(Y_test,y_pred))"
   ]
  },
  {
   "cell_type": "code",
   "execution_count": 20,
   "metadata": {},
   "outputs": [
    {
     "data": {
      "image/png": "[encoded data removed]",
      "text/plain": [
       "<Figure size 432x288 with 1 Axes>"
      ]
     },
     "metadata": {
      "needs_background": "light"
     },
     "output_type": "display_data"
    }
   ],
   "source": [
    "fpr, tpr, thresholds = roc_curve(Y_test, y_pred_proba)\n",
    "roc_auc=auc(fpr,tpr)\n",
    "plt.plot([0,1],[0,1],'k--')\n",
    "plt.plot(fpr,tpr,label='ROC curve(area=%.2f)'%roc_auc)\n",
    "plt.xlabel('False positive rate')\n",
    "plt.ylabel('True positive rate')\n",
    "plt.xlabel('fpr')\n",
    "plt.ylabel('tpr')\n",
    "plt.legend(loc='lower right')\n",
    "plt.title('Knn(n_neighbors=8) ROC curve')\n",
    "plt.grid()\n",
    "plt.show()"
   ]
  },
  {
   "cell_type": "code",
   "execution_count": 21,
   "metadata": {},
   "outputs": [],
   "source": [
    "f = open('saved_model/knn.pickle','wb')\n",
    "pickle.dump(knn,f)\n",
    "f.close()"
   ]
  },
  {
   "cell_type": "markdown",
   "metadata": {},
   "source": [
    "# LogisticRegression"
   ]
  },
  {
   "cell_type": "code",
   "execution_count": 24,
   "metadata": {},
   "outputs": [
    {
     "data": {
      "text/plain": [
       "LogisticRegression()"
      ]
     },
     "execution_count": 24,
     "metadata": {},
     "output_type": "execute_result"
    }
   ],
   "source": [
    "LR=LogisticRegression()\n",
    "LR.fit(X_train,Y_train)"
   ]
  },
  {
   "cell_type": "code",
   "execution_count": 25,
   "metadata": {},
   "outputs": [],
   "source": [
    "y_pred_proba1 = LR.predict_proba(X_test)[:,1]\n",
    "y_pred1=LR.predict(X_test)"
   ]
  },
  {
   "cell_type": "code",
   "execution_count": 26,
   "metadata": {},
   "outputs": [
    {
     "data": {
      "text/plain": [
       "0.9090909090909091"
      ]
     },
     "execution_count": 26,
     "metadata": {},
     "output_type": "execute_result"
    }
   ],
   "source": [
    "accuracy_score(Y_test,y_pred1)"
   ]
  },
  {
   "cell_type": "code",
   "execution_count": 27,
   "metadata": {},
   "outputs": [
    {
     "data": {
      "text/plain": [
       "array([[95,  5],\n",
       "       [ 9, 45]], dtype=int64)"
      ]
     },
     "execution_count": 27,
     "metadata": {},
     "output_type": "execute_result"
    }
   ],
   "source": [
    "confusion_matrix(Y_test,y_pred1)"
   ]
  },
  {
   "cell_type": "code",
   "execution_count": 28,
   "metadata": {},
   "outputs": [
    {
     "name": "stdout",
     "output_type": "stream",
     "text": [
      "              precision    recall  f1-score   support\n",
      "\n",
      "           0       0.91      0.95      0.93       100\n",
      "           1       0.90      0.83      0.87        54\n",
      "\n",
      "    accuracy                           0.91       154\n",
      "   macro avg       0.91      0.89      0.90       154\n",
      "weighted avg       0.91      0.91      0.91       154\n",
      "\n"
     ]
    }
   ],
   "source": [
    "print(classification_report(Y_test,y_pred1))"
   ]
  },
  {
   "cell_type": "code",
   "execution_count": 29,
   "metadata": {},
   "outputs": [
    {
     "data": {
      "image/png": "[encoded data removed]",
      "text/plain": [
       "<Figure size 432x288 with 1 Axes>"
      ]
     },
     "metadata": {
      "needs_background": "light"
     },
     "output_type": "display_data"
    }
   ],
   "source": [
    "fpr, tpr, thresholds = roc_curve(Y_test, y_pred_proba1)\n",
    "roc_auc=auc(fpr,tpr)\n",
    "plt.plot([0,1],[0,1],'k--')\n",
    "plt.plot(fpr,tpr,label='ROC curve(area=%.2f)'%roc_auc)\n",
    "plt.xlabel('False positive rate')\n",
    "plt.ylabel('True positive rate')\n",
    "plt.xlabel('fpr')\n",
    "plt.ylabel('tpr')\n",
    "plt.legend(loc='lower right')\n",
    "plt.title('Logistic Regression ROC curve')\n",
    "plt.grid()\n",
    "plt.show()"
   ]
  },
  {
   "cell_type": "code",
   "execution_count": 28,
   "metadata": {},
   "outputs": [],
   "source": [
    "f = open('saved_model/LR.pickle','wb')\n",
    "pickle.dump(LR,f)\n",
    "f.close()"
   ]
  },
  {
   "cell_type": "markdown",
   "metadata": {},
   "source": [
    "# SVM1"
   ]
  },
  {
   "cell_type": "code",
   "execution_count": 29,
   "metadata": {},
   "outputs": [
    {
     "data": {
      "text/plain": [
       "SVC(C=100, probability=True)"
      ]
     },
     "execution_count": 29,
     "metadata": {},
     "output_type": "execute_result"
    }
   ],
   "source": [
    "SVM1=SVC(kernel='rbf',C=100,probability=True)\n",
    "SVM1.fit(X_train,Y_train)"
   ]
  },
  {
   "cell_type": "code",
   "execution_count": 30,
   "metadata": {},
   "outputs": [],
   "source": [
    "y_pred2=SVM1.predict(X_test)"
   ]
  },
  {
   "cell_type": "code",
   "execution_count": 31,
   "metadata": {},
   "outputs": [
    {
     "data": {
      "text/plain": [
       "0.9025974025974026"
      ]
     },
     "execution_count": 31,
     "metadata": {},
     "output_type": "execute_result"
    }
   ],
   "source": [
    "accuracy_score(Y_test,y_pred2)"
   ]
  },
  {
   "cell_type": "code",
   "execution_count": 32,
   "metadata": {},
   "outputs": [
    {
     "data": {
      "text/plain": [
       "array([[94,  6],\n",
       "       [ 9, 45]], dtype=int64)"
      ]
     },
     "execution_count": 32,
     "metadata": {},
     "output_type": "execute_result"
    }
   ],
   "source": [
    "confusion_matrix(Y_test,y_pred2)"
   ]
  },
  {
   "cell_type": "code",
   "execution_count": 33,
   "metadata": {},
   "outputs": [
    {
     "name": "stdout",
     "output_type": "stream",
     "text": [
      "              precision    recall  f1-score   support\n",
      "\n",
      "           0       0.91      0.94      0.93       100\n",
      "           1       0.88      0.83      0.86        54\n",
      "\n",
      "    accuracy                           0.90       154\n",
      "   macro avg       0.90      0.89      0.89       154\n",
      "weighted avg       0.90      0.90      0.90       154\n",
      "\n"
     ]
    }
   ],
   "source": [
    "print(classification_report(Y_test,y_pred2))"
   ]
  },
  {
   "cell_type": "code",
   "execution_count": 34,
   "metadata": {},
   "outputs": [
    {
     "data": {
      "image/png": "[encoded data removed]",
      "text/plain": [
       "<Figure size 432x288 with 1 Axes>"
      ]
     },
     "metadata": {
      "needs_background": "light"
     },
     "output_type": "display_data"
    }
   ],
   "source": [
    "fpr, tpr, thresholds = roc_curve(Y_test, y_pred2)\n",
    "roc_auc=auc(fpr,tpr)\n",
    "plt.plot([0,1],[0,1],'k--')\n",
    "plt.plot(fpr,tpr,label='ROC curve(area=%.2f)'%roc_auc)\n",
    "plt.xlabel('False positive rate')\n",
    "plt.ylabel('True positive rate')\n",
    "plt.xlabel('fpr')\n",
    "plt.ylabel('tpr')\n",
    "plt.legend(loc='lower right')\n",
    "plt.title('SVM(RBF) ROC curve')\n",
    "plt.grid()\n",
    "plt.show()"
   ]
  },
  {
   "cell_type": "code",
   "execution_count": 35,
   "metadata": {},
   "outputs": [],
   "source": [
    "f = open('saved_model/SVM(RBF).pickle','wb')\n",
    "pickle.dump(SVM1,f)\n",
    "f.close()"
   ]
  },
  {
   "cell_type": "markdown",
   "metadata": {},
   "source": [
    "# SVM2"
   ]
  },
  {
   "cell_type": "code",
   "execution_count": 36,
   "metadata": {},
   "outputs": [
    {
     "data": {
      "text/plain": [
       "SVC(C=100, kernel='linear', probability=True)"
      ]
     },
     "execution_count": 36,
     "metadata": {},
     "output_type": "execute_result"
    }
   ],
   "source": [
    "SVM2=SVC(kernel='linear',C=100,probability=True)\n",
    "SVM2.fit(X_train,Y_train)"
   ]
  },
  {
   "cell_type": "code",
   "execution_count": 37,
   "metadata": {},
   "outputs": [],
   "source": [
    "y_pred3=SVM2.predict(X_test)"
   ]
  },
  {
   "cell_type": "code",
   "execution_count": 38,
   "metadata": {},
   "outputs": [
    {
     "data": {
      "text/plain": [
       "array([[96,  4],\n",
       "       [ 7, 47]], dtype=int64)"
      ]
     },
     "execution_count": 38,
     "metadata": {},
     "output_type": "execute_result"
    }
   ],
   "source": [
    "confusion_matrix(Y_test,y_pred3)"
   ]
  },
  {
   "cell_type": "code",
   "execution_count": 39,
   "metadata": {},
   "outputs": [
    {
     "name": "stdout",
     "output_type": "stream",
     "text": [
      "              precision    recall  f1-score   support\n",
      "\n",
      "           0       0.93      0.96      0.95       100\n",
      "           1       0.92      0.87      0.90        54\n",
      "\n",
      "    accuracy                           0.93       154\n",
      "   macro avg       0.93      0.92      0.92       154\n",
      "weighted avg       0.93      0.93      0.93       154\n",
      "\n"
     ]
    }
   ],
   "source": [
    "print(classification_report(Y_test,y_pred3))"
   ]
  },
  {
   "cell_type": "code",
   "execution_count": 40,
   "metadata": {},
   "outputs": [
    {
     "data": {
      "text/plain": [
       "0.9285714285714286"
      ]
     },
     "execution_count": 40,
     "metadata": {},
     "output_type": "execute_result"
    }
   ],
   "source": [
    "accuracy_score(Y_test,y_pred3)"
   ]
  },
  {
   "cell_type": "code",
   "execution_count": 41,
   "metadata": {},
   "outputs": [
    {
     "data": {
      "image/png": "[encoded data removed]",
      "text/plain": [
       "<Figure size 432x288 with 1 Axes>"
      ]
     },
     "metadata": {
      "needs_background": "light"
     },
     "output_type": "display_data"
    }
   ],
   "source": [
    "fpr, tpr, thresholds = roc_curve(Y_test, y_pred3)\n",
    "roc_auc=auc(fpr,tpr)\n",
    "plt.plot([0,1],[0,1],'k--')\n",
    "plt.plot(fpr,tpr,label='ROC curve(area=%.2f)'%roc_auc)\n",
    "plt.xlabel('False positive rate')\n",
    "plt.ylabel('True positive rate')\n",
    "plt.xlabel('fpr')\n",
    "plt.ylabel('tpr')\n",
    "plt.legend(loc='lower right')\n",
    "plt.title('SVM(Linear) ROC curve')\n",
    "plt.grid()\n",
    "plt.show()"
   ]
  },
  {
   "cell_type": "code",
   "execution_count": 42,
   "metadata": {},
   "outputs": [],
   "source": [
    "f = open('saved_model/SVM(Linear).pickle','wb')\n",
    "pickle.dump(SVM2,f)\n",
    "f.close()"
   ]
  },
  {
   "cell_type": "markdown",
   "metadata": {},
   "source": [
    "# Random Forest"
   ]
  },
  {
   "cell_type": "code",
   "execution_count": 43,
   "metadata": {},
   "outputs": [
    {
     "data": {
      "text/plain": [
       "RandomForestClassifier()"
      ]
     },
     "execution_count": 43,
     "metadata": {},
     "output_type": "execute_result"
    }
   ],
   "source": [
    "RF = RandomForestClassifier()\n",
    "RF.fit(X_train,Y_train)"
   ]
  },
  {
   "cell_type": "code",
   "execution_count": 44,
   "metadata": {},
   "outputs": [],
   "source": [
    "y_pred4=RF.predict(X_test)\n",
    "y_pred_proba4 = RF.predict_proba(X_test)[:,1]"
   ]
  },
  {
   "cell_type": "code",
   "execution_count": null,
   "metadata": {},
   "outputs": [],
   "source": []
  },
  {
   "cell_type": "code",
   "execution_count": 45,
   "metadata": {},
   "outputs": [
    {
     "data": {
      "text/plain": [
       "0.9415584415584416"
      ]
     },
     "execution_count": 45,
     "metadata": {},
     "output_type": "execute_result"
    }
   ],
   "source": [
    "accuracy_score(Y_test,y_pred4)"
   ]
  },
  {
   "cell_type": "code",
   "execution_count": 46,
   "metadata": {},
   "outputs": [
    {
     "data": {
      "text/plain": [
       "array([[96,  4],\n",
       "       [ 5, 49]], dtype=int64)"
      ]
     },
     "execution_count": 46,
     "metadata": {},
     "output_type": "execute_result"
    }
   ],
   "source": [
    "confusion_matrix(Y_test,y_pred4)"
   ]
  },
  {
   "cell_type": "code",
   "execution_count": 47,
   "metadata": {},
   "outputs": [
    {
     "name": "stdout",
     "output_type": "stream",
     "text": [
      "              precision    recall  f1-score   support\n",
      "\n",
      "           0       0.95      0.96      0.96       100\n",
      "           1       0.92      0.91      0.92        54\n",
      "\n",
      "    accuracy                           0.94       154\n",
      "   macro avg       0.94      0.93      0.94       154\n",
      "weighted avg       0.94      0.94      0.94       154\n",
      "\n"
     ]
    }
   ],
   "source": [
    "print(classification_report(Y_test,y_pred4))"
   ]
  },
  {
   "cell_type": "code",
   "execution_count": 48,
   "metadata": {},
   "outputs": [
    {
     "data": {
      "image/png": "[encoded data removed]",
      "text/plain": [
       "<Figure size 432x288 with 1 Axes>"
      ]
     },
     "metadata": {
      "needs_background": "light"
     },
     "output_type": "display_data"
    }
   ],
   "source": [
    "fpr, tpr, thresholds = roc_curve(Y_test, y_pred_proba4)\n",
    "roc_auc=auc(fpr,tpr)\n",
    "plt.plot([0,1],[0,1],'k--')\n",
    "plt.plot(fpr,tpr,label='ROC curve(area=%.2f)'%roc_auc)\n",
    "plt.xlabel('False positive rate')\n",
    "plt.ylabel('True positive rate')\n",
    "plt.xlabel('fpr')\n",
    "plt.ylabel('tpr')\n",
    "plt.legend(loc='lower right')\n",
    "plt.title('RandomForest ROC curve')\n",
    "plt.grid()\n",
    "plt.show()"
   ]
  },
  {
   "cell_type": "code",
   "execution_count": 49,
   "metadata": {},
   "outputs": [],
   "source": [
    "f = open('saved_model/RF.pickle','wb')\n",
    "pickle.dump(RF,f)\n",
    "f.close()"
   ]
  },
  {
   "cell_type": "markdown",
   "metadata": {},
   "source": [
    "# Adaboost"
   ]
  },
  {
   "cell_type": "code",
   "execution_count": 50,
   "metadata": {},
   "outputs": [
    {
     "data": {
      "text/plain": [
       "AdaBoostClassifier()"
      ]
     },
     "execution_count": 50,
     "metadata": {},
     "output_type": "execute_result"
    }
   ],
   "source": [
    "abf=AdaBoostClassifier()\n",
    "abf.fit(X_train,Y_train)"
   ]
  },
  {
   "cell_type": "code",
   "execution_count": 51,
   "metadata": {},
   "outputs": [],
   "source": [
    "y_pred5=abf.predict(X_test)\n",
    "y_pred_proba5 = abf.predict_proba(X_test)[:,1]"
   ]
  },
  {
   "cell_type": "code",
   "execution_count": 52,
   "metadata": {},
   "outputs": [
    {
     "data": {
      "text/plain": [
       "0.9415584415584416"
      ]
     },
     "execution_count": 52,
     "metadata": {},
     "output_type": "execute_result"
    }
   ],
   "source": [
    "accuracy_score(Y_test,y_pred5)"
   ]
  },
  {
   "cell_type": "markdown",
   "metadata": {},
   "source": [
    "# Naive Bayes"
   ]
  },
  {
   "cell_type": "code",
   "execution_count": 53,
   "metadata": {},
   "outputs": [
    {
     "data": {
      "text/plain": [
       "GaussianNB()"
      ]
     },
     "execution_count": 53,
     "metadata": {},
     "output_type": "execute_result"
    }
   ],
   "source": [
    "NB=GaussianNB()\n",
    "NB.fit(X_train,Y_train)"
   ]
  },
  {
   "cell_type": "code",
   "execution_count": 54,
   "metadata": {},
   "outputs": [],
   "source": [
    "y_pred6=NB.predict(X_test)\n",
    "y_pred_proba6 = NB.predict_proba(X_test)[:,1]"
   ]
  },
  {
   "cell_type": "code",
   "execution_count": 55,
   "metadata": {},
   "outputs": [
    {
     "data": {
      "text/plain": [
       "0.9285714285714286"
      ]
     },
     "execution_count": 55,
     "metadata": {},
     "output_type": "execute_result"
    }
   ],
   "source": [
    "accuracy_score(Y_test,y_pred6)"
   ]
  },
  {
   "cell_type": "markdown",
   "metadata": {},
   "source": [
    "# MLP"
   ]
  },
  {
   "cell_type": "code",
   "execution_count": 56,
   "metadata": {},
   "outputs": [
    {
     "name": "stderr",
     "output_type": "stream",
     "text": [
      "E:\\Users\\86135\\anaconda3\\lib\\site-packages\\sklearn\\neural_network\\_multilayer_perceptron.py:585: ConvergenceWarning: Stochastic Optimizer: Maximum iterations (200) reached and the optimization hasn't converged yet.\n",
      "  % self.max_iter, ConvergenceWarning)\n"
     ]
    },
    {
     "data": {
      "text/plain": [
       "MLPClassifier(hidden_layer_sizes=(80, 10), random_state=2008)"
      ]
     },
     "execution_count": 56,
     "metadata": {},
     "output_type": "execute_result"
    }
   ],
   "source": [
    "MLP=MLPClassifier((80,10),early_stopping=False,random_state=2008)\n",
    "MLP.fit(X_train,Y_train)"
   ]
  },
  {
   "cell_type": "code",
   "execution_count": 57,
   "metadata": {},
   "outputs": [],
   "source": [
    "y_pred7=MLP.predict(X_test)\n",
    "y_pred_proba7 = MLP.predict_proba(X_test)[:,1]"
   ]
  },
  {
   "cell_type": "code",
   "execution_count": 58,
   "metadata": {},
   "outputs": [
    {
     "data": {
      "text/plain": [
       "0.9285714285714286"
      ]
     },
     "execution_count": 58,
     "metadata": {},
     "output_type": "execute_result"
    }
   ],
   "source": [
    "accuracy_score(Y_test,y_pred7)"
   ]
  },
  {
   "cell_type": "code",
   "execution_count": 59,
   "metadata": {},
   "outputs": [
    {
     "data": {
      "text/plain": [
       "array([6.37320292e-02, 9.11860754e-01, 7.48871208e-04, 5.81922189e-02,\n",
       "       8.31702653e-03, 2.97910572e-01, 9.91426041e-01, 2.82190674e-02,\n",
       "       9.85709539e-01, 9.63967659e-01, 1.76725054e-01, 9.88082722e-01,\n",
       "       1.69259532e-03, 1.72325877e-03, 9.56461327e-01, 2.77085177e-02,\n",
       "       7.63342280e-02, 5.58255139e-03, 1.18086305e-02, 4.04405641e-02,\n",
       "       9.44481222e-01, 9.74850202e-02, 8.44704600e-01, 1.11779387e-01,\n",
       "       2.30990158e-04, 3.23017007e-03, 9.67467176e-02, 1.52408537e-02,\n",
       "       8.67934445e-02, 4.60724690e-02, 1.70532460e-01, 6.12625130e-02,\n",
       "       4.22898148e-02, 1.12228504e-03, 1.36235789e-02, 3.34561148e-02,\n",
       "       8.68366783e-01, 5.09940031e-02, 2.18747098e-03, 1.31122917e-02,\n",
       "       3.14606482e-02, 9.08140599e-01, 1.30938107e-01, 8.83817764e-02,\n",
       "       7.23971888e-03, 1.34576395e-01, 8.77584339e-01, 1.01862659e-01,\n",
       "       9.48313924e-02, 1.37095247e-01, 4.40226784e-02, 9.27725627e-01,\n",
       "       9.95602855e-01, 8.00763411e-02, 1.63779999e-03, 6.76460752e-02,\n",
       "       8.65791987e-01, 2.36620714e-02, 8.26702176e-04, 9.58560165e-01,\n",
       "       4.26112432e-03, 3.96741846e-02, 8.39082264e-03, 6.16414363e-03,\n",
       "       3.46940291e-02, 8.40057079e-01, 2.45781452e-02, 6.39559897e-03,\n",
       "       9.78891544e-01, 9.83527555e-01, 8.65460383e-01, 9.95782693e-01,\n",
       "       2.37895140e-02, 1.91544914e-02, 1.85878268e-03, 9.76459473e-04,\n",
       "       9.81694559e-01, 1.51666307e-03, 2.50730490e-02, 1.82854671e-01,\n",
       "       5.19665271e-03, 9.31488418e-01, 2.50623549e-03, 4.26548143e-02,\n",
       "       3.53187208e-02, 7.61207737e-02, 5.68359278e-02, 8.76990750e-01,\n",
       "       9.86874261e-01, 8.64907724e-01, 9.90071598e-01, 4.94724750e-01,\n",
       "       9.08730368e-01, 1.78300718e-02, 1.04744821e-02, 9.89485332e-01,\n",
       "       3.45389208e-01, 9.15264860e-02, 3.46560913e-01, 6.80196267e-02,\n",
       "       5.76016152e-03, 6.90443815e-01, 2.40944573e-03, 7.57864939e-02,\n",
       "       9.71769299e-01, 5.63751862e-01, 8.47374470e-01, 2.63315064e-02,\n",
       "       9.41617216e-01, 9.18042412e-01, 2.67422704e-02, 2.27273748e-03,\n",
       "       8.72276904e-02, 3.51320700e-01, 8.87535767e-01, 2.45823624e-01,\n",
       "       3.42530719e-02, 9.60023022e-03, 9.74002084e-01, 8.36754867e-03,\n",
       "       6.65119578e-03, 3.07004446e-01, 9.39370768e-02, 8.51222653e-01,\n",
       "       9.90997900e-01, 2.02437797e-02, 9.06420784e-01, 3.38848968e-02,\n",
       "       4.97483060e-01, 4.31148047e-02, 1.37547005e-02, 9.36339593e-01,\n",
       "       1.20912672e-01, 9.65839302e-01, 6.18367885e-01, 9.86328364e-01,\n",
       "       9.31018249e-01, 1.65320872e-03, 1.27053864e-02, 9.94283211e-01,\n",
       "       8.70116624e-01, 5.58587513e-02, 1.49852858e-02, 2.01740654e-01,\n",
       "       1.87434456e-03, 3.65154763e-01, 1.42360894e-01, 3.49508658e-03,\n",
       "       7.13041253e-03, 2.06300716e-03, 6.83871724e-01, 9.67245955e-01,\n",
       "       9.65238972e-01, 1.24276882e-02])"
      ]
     },
     "execution_count": 59,
     "metadata": {},
     "output_type": "execute_result"
    }
   ],
   "source": [
    "y_pred_proba7"
   ]
  },
  {
   "cell_type": "markdown",
   "metadata": {},
   "source": [
    "# "
   ]
  },
  {
   "cell_type": "code",
   "execution_count": 60,
   "metadata": {},
   "outputs": [
    {
     "data": {
      "text/plain": [
       "GradientBoostingClassifier(random_state=2008)"
      ]
     },
     "execution_count": 60,
     "metadata": {},
     "output_type": "execute_result"
    }
   ],
   "source": [
    "GB=GradientBoostingClassifier(n_estimators=100,random_state=2008)\n",
    "GB.fit(X_train,Y_train)"
   ]
  },
  {
   "cell_type": "code",
   "execution_count": 61,
   "metadata": {},
   "outputs": [],
   "source": [
    "y_pred8=GB.predict(X_test)\n",
    "y_pred_proba8 = GB.predict_proba(X_test)[:,1]"
   ]
  },
  {
   "cell_type": "code",
   "execution_count": 62,
   "metadata": {},
   "outputs": [
    {
     "data": {
      "text/plain": [
       "0.935064935064935"
      ]
     },
     "execution_count": 62,
     "metadata": {},
     "output_type": "execute_result"
    }
   ],
   "source": [
    "accuracy_score(Y_test,y_pred8)"
   ]
  },
  {
   "cell_type": "code",
   "execution_count": 63,
   "metadata": {},
   "outputs": [
    {
     "data": {
      "text/plain": [
       "array([8.59890239e-03, 9.83262346e-01, 6.55023653e-03, 3.84946483e-02,\n",
       "       1.07153470e-02, 2.76334449e-01, 9.93100385e-01, 1.89321163e-02,\n",
       "       9.96418114e-01, 9.89742586e-01, 8.06761109e-01, 9.87204840e-01,\n",
       "       5.22467642e-03, 9.94670595e-03, 9.79759303e-01, 5.10441298e-02,\n",
       "       6.88706209e-02, 1.87929671e-03, 1.20024395e-02, 9.36299087e-03,\n",
       "       8.95348986e-01, 2.81289243e-01, 9.17171579e-01, 1.29542816e-01,\n",
       "       8.04757672e-02, 6.85093228e-02, 1.23570940e-01, 9.98489445e-03,\n",
       "       3.82332959e-03, 1.77020353e-02, 1.04039640e-02, 6.62239053e-02,\n",
       "       8.87536918e-03, 6.58896708e-03, 7.18725640e-03, 6.74037594e-03,\n",
       "       9.83750294e-01, 6.34073961e-03, 6.80451519e-03, 2.33444162e-01,\n",
       "       2.46493697e-02, 6.14570381e-01, 7.12004418e-02, 3.55981270e-01,\n",
       "       2.04993823e-02, 9.13369466e-03, 9.81977718e-01, 8.05124437e-02,\n",
       "       5.69301975e-02, 4.84392600e-02, 3.95912360e-02, 9.83974857e-01,\n",
       "       9.96657339e-01, 1.20080161e-02, 1.44028058e-03, 8.80701854e-03,\n",
       "       8.85127443e-01, 5.79186529e-03, 5.70906775e-02, 9.91335177e-01,\n",
       "       3.24143835e-03, 2.09240769e-02, 2.25634266e-02, 8.09531893e-02,\n",
       "       5.92069830e-03, 9.55967888e-01, 1.14579559e-01, 1.60112430e-03,\n",
       "       9.94686697e-01, 8.45549280e-01, 9.84835533e-01, 9.97125302e-01,\n",
       "       1.72843904e-02, 3.57886581e-02, 5.22467642e-03, 2.09148711e-03,\n",
       "       9.85246342e-01, 1.17689126e-03, 3.65247600e-03, 6.43046723e-01,\n",
       "       9.98590236e-03, 9.80847103e-01, 1.75063764e-02, 6.07143906e-03,\n",
       "       6.57504813e-03, 6.38369153e-02, 1.30740015e-01, 9.80720206e-01,\n",
       "       9.96557758e-01, 9.87958892e-01, 9.94719198e-01, 5.72421820e-01,\n",
       "       9.89938636e-01, 2.25940018e-02, 7.84948757e-02, 9.95789039e-01,\n",
       "       9.74675571e-01, 8.85666853e-03, 2.69875034e-01, 3.34436573e-03,\n",
       "       1.38520901e-02, 8.58923830e-01, 1.15088649e-02, 2.59054095e-02,\n",
       "       9.94956780e-01, 6.99259024e-01, 9.92798625e-01, 4.62177767e-01,\n",
       "       9.93324567e-01, 9.70893634e-01, 6.83650406e-03, 1.07846389e-02,\n",
       "       3.11213645e-01, 5.59642236e-01, 9.89618448e-01, 7.19770700e-02,\n",
       "       5.57742321e-03, 3.24229888e-03, 9.48966019e-01, 6.35568598e-02,\n",
       "       1.15761126e-02, 5.01603945e-01, 9.48415199e-03, 4.63379274e-01,\n",
       "       9.90534469e-01, 2.26452381e-02, 9.83892261e-01, 6.03372139e-03,\n",
       "       1.18311137e-01, 4.42522591e-03, 1.81573343e-02, 9.88584114e-01,\n",
       "       6.26027743e-02, 9.86853075e-01, 6.00599169e-01, 9.72286255e-01,\n",
       "       8.67204070e-01, 8.85842284e-04, 1.23023326e-02, 9.97805547e-01,\n",
       "       9.67490062e-01, 5.84293666e-03, 5.00830142e-03, 3.67966086e-01,\n",
       "       2.56140437e-03, 4.50422744e-02, 1.44390410e-02, 3.88726248e-03,\n",
       "       2.53041872e-03, 5.22467642e-03, 9.43252327e-01, 9.88912963e-01,\n",
       "       9.94229416e-01, 2.52586635e-02])"
      ]
     },
     "execution_count": 63,
     "metadata": {},
     "output_type": "execute_result"
    }
   ],
   "source": [
    "y_pred_proba8"
   ]
  },
  {
   "cell_type": "markdown",
   "metadata": {},
   "source": [
    "# "
   ]
  },
  {
   "cell_type": "code",
   "execution_count": 41,
   "metadata": {},
   "outputs": [],
   "source": [
    "def model_performance(model, subtitle) :   \n",
    "    #Kfold\n",
    "    cv = KFold(n_splits=10,shuffle=False, random_state = 42)\n",
    "    y_real = []\n",
    "    y_proba = []\n",
    "    tprs = []\n",
    "    aucs = []\n",
    "    mean_fpr = np.linspace(0,1,100)\n",
    "    i = 1\n",
    "    \n",
    "    for train,test in cv.split(X,Y):\n",
    "        model.fit(X.iloc[train], Y.iloc[train])\n",
    "        pred_proba = model.predict_proba(X.iloc[test])\n",
    "        precision, recall, _ = precision_recall_curve(Y.iloc[test], pred_proba[:,1])\n",
    "        y_real.append(Y.iloc[test])\n",
    "        y_proba.append(pred_proba[:,1])\n",
    "        fpr, tpr, t = roc_curve(Y[test], pred_proba[:, 1])\n",
    "        tprs.append(interp(mean_fpr, fpr, tpr))\n",
    "        roc_auc = auc(fpr, tpr)\n",
    "        aucs.append(roc_auc) \n",
    "    \n",
    "    # Confusion matrix\n",
    "    y_pred = cross_val_predict(model, X, Y, cv=5)\n",
    "    conf_matrix = confusion_matrix(Y, y_pred)\n",
    "    trace1 = go.Heatmap(z = conf_matrix  ,x = [\"0 (pred)\",\"1 (pred)\"],\n",
    "                        y = [\"0 (true)\",\"1 (true)\"],xgap = 2, ygap = 2, \n",
    "                        colorscale = 'Viridis', showscale  = False)\n",
    "    \n",
    "    #Show metrics\n",
    "    tp = conf_matrix[1,1]\n",
    "    fn = conf_matrix[1,0]\n",
    "    fp = conf_matrix[0,1]\n",
    "    tn = conf_matrix[0,0]\n",
    "    Accuracy  =  ((tp+tn)/(tp+tn+fp+fn))\n",
    "    Precision =  (tp/(tp+fp))\n",
    "    Recall    =  (tp/(tp+fn))\n",
    "    F1_score  =  (2*(((tp/(tp+fp))*(tp/(tp+fn)))/((tp/(tp+fp))+(tp/(tp+fn)))))\n",
    "\n",
    "    show_metrics = pd.DataFrame(data=[[Accuracy , Precision, Recall, F1_score]])\n",
    "    show_metrics = show_metrics.T\n",
    "\n",
    "    colors = ['gold', 'lightgreen', 'lightcoral', 'lightskyblue']\n",
    "    trace2 = go.Bar(x = (show_metrics[0].values), \n",
    "                    y = ['Accuracy', 'Precision', 'Recall', 'F1_score'], text = np.round_(show_metrics[0].values,4),\n",
    "                    textposition = 'auto', textfont=dict(color='black'),\n",
    "                    orientation = 'h', opacity = 1, marker=dict(\n",
    "            color=colors,\n",
    "            line=dict(color='#000000',width=1.5)))\n",
    "\n",
    "    #Roc curve\n",
    "    mean_tpr = np.mean(tprs, axis=0)\n",
    "    mean_auc = auc(mean_fpr, mean_tpr)\n",
    "\n",
    "    trace3 = go.Scatter(x=mean_fpr, y=mean_tpr,\n",
    "                        name = \"Roc : \" ,\n",
    "                        line = dict(color = ('rgb(22, 96, 167)'),width = 2), fill='tozeroy')\n",
    "    trace4 = go.Scatter(x = [0,1],y = [0,1],\n",
    "                        line = dict(color = ('black'),width = 1.5,\n",
    "                        dash = 'dot'))\n",
    "    \n",
    "    #Precision - recall curve\n",
    "    y_real = Y\n",
    "    y_proba = np.concatenate(y_proba)\n",
    "    precision, recall, _ = precision_recall_curve(y_real, y_proba)\n",
    "\n",
    "    trace5 = go.Scatter(x = recall, y = precision,\n",
    "                        name = \"Precision\" + str(precision),\n",
    "                        line = dict(color = ('lightcoral'),width = 2), fill='tozeroy')\n",
    "    \n",
    "    mean_auc=round(mean_auc,3)\n",
    "    #Subplots\n",
    "    fig = tls.make_subplots(rows=2, cols=2, print_grid=False,\n",
    "                          specs=[[{}, {}], \n",
    "                                 [{}, {}]],\n",
    "                          subplot_titles=('Confusion Matrix',\n",
    "                                          'Metrics',\n",
    "                                          'ROC curve'+\" \"+ '('+ str(mean_auc)+')',\n",
    "                                          'Precision - Recall curve',\n",
    "                                          ))\n",
    "    #Trace and layout\n",
    "    fig.append_trace(trace1,1,1)\n",
    "    fig.append_trace(trace2,1,2)\n",
    "    fig.append_trace(trace3,2,1)\n",
    "    fig.append_trace(trace4,2,1)\n",
    "    fig.append_trace(trace5,2,2)\n",
    "    \n",
    "    fig['layout'].update(showlegend = False, title = '<b>Model performance report (5 folds)</b><br>'+subtitle,\n",
    "                        autosize = False, height = 830, width = 830,\n",
    "                        plot_bgcolor = 'black',\n",
    "                        paper_bgcolor = 'black',\n",
    "                        margin = dict(b = 195), font=dict(color='white'))\n",
    "    fig[\"layout\"][\"xaxis1\"].update(color = 'white')\n",
    "    fig[\"layout\"][\"yaxis1\"].update(color = 'white')\n",
    "    fig[\"layout\"][\"xaxis2\"].update((dict(range=[0, 1], color = 'white')))\n",
    "    fig[\"layout\"][\"yaxis2\"].update(color = 'white')\n",
    "    fig[\"layout\"][\"xaxis3\"].update(dict(title = \"false positive rate\"), color = 'white')\n",
    "    fig[\"layout\"][\"yaxis3\"].update(dict(title = \"true positive rate\"),color = 'white')\n",
    "    fig[\"layout\"][\"xaxis4\"].update(dict(title = \"recall\"), range = [0,1.05],color = 'white')\n",
    "    fig[\"layout\"][\"yaxis4\"].update(dict(title = \"precision\"), range = [0,1.05],color = 'white')\n",
    "    for i in fig['layout']['annotations']:\n",
    "        i['font'] = titlefont=dict(color='white', size = 14)\n",
    "    py.iplot(fig)"
   ]
  },
  {
   "cell_type": "code",
   "execution_count": 42,
   "metadata": {},
   "outputs": [
    {
     "data": {
      "text/html": [
       "        <script type=\"text/javascript\">\n",
       "        window.PlotlyConfig = {MathJaxConfig: 'local'};\n",
       "        if (window.MathJax) {MathJax.Hub.Config({SVG: {font: \"STIX-Web\"}});}\n",
       "        if (typeof require !== 'undefined') {\n",
       "        require.undef(\"plotly\");\n",
       "        requirejs.config({\n",
       "            paths: {\n",
       "                'plotly': ['https://cdn.plot.ly/plotly-latest.min']\n",
       "            }\n",
       "        });\n",
       "        require(['plotly'], function(Plotly) {\n",
       "            window._Plotly = Plotly;\n",
       "        });\n",
       "        }\n",
       "        </script>\n",
       "        "
      ]
     },
     "metadata": {},
     "output_type": "display_data"
    }
   ],
   "source": [
    "# Classic,data manipulation and linear algebra\n",
    "import pandas as pd\n",
    "import numpy as np\n",
    "\n",
    "# Plots\n",
    "import seaborn as sns\n",
    "import matplotlib.pyplot as plt\n",
    "%matplotlib inline\n",
    "import plotly.offline as py\n",
    "import plotly.graph_objs as go\n",
    "from plotly.offline import download_plotlyjs, init_notebook_mode, plot, iplot\n",
    "import plotly.tools as tls\n",
    "import plotly.figure_factory as ff\n",
    "py.init_notebook_mode(connected=True)\n",
    "import squarify\n",
    "\n",
    "# Data processing, metrics and modeling\n",
    "from sklearn.preprocessing import StandardScaler, LabelEncoder\n",
    "from sklearn.model_selection import GridSearchCV, cross_val_score, train_test_split, GridSearchCV, RandomizedSearchCV\n",
    "from sklearn.metrics import precision_score, recall_score, confusion_matrix,  roc_curve, precision_recall_curve, accuracy_score, roc_auc_score\n",
    "import lightgbm as lgbm\n",
    "from sklearn.ensemble import VotingClassifier\n",
    "from sklearn.neighbors import KNeighborsClassifier\n",
    "from sklearn.metrics import roc_curve,auc\n",
    "from sklearn.model_selection import KFold\n",
    "from sklearn.model_selection import cross_val_predict\n",
    "from yellowbrick.classifier import DiscriminationThreshold\n",
    "\n",
    "# Stats\n",
    "import scipy.stats as ss\n",
    "from scipy import interp\n",
    "from scipy.stats import randint as sp_randint\n",
    "from scipy.stats import uniform as sp_uniform\n",
    "\n",
    "# Time\n",
    "from contextlib import contextmanager\n",
    "@contextmanager\n",
    "def timer(title):\n",
    "    t0 = time.time()\n",
    "    yield\n",
    "    print(\"{} - done in {:.0f}s\".format(title, time.time() - t0))\n",
    "\n",
    "#ignore warning messages \n",
    "import warnings\n",
    "warnings.filterwarnings('ignore') "
   ]
  },
  {
   "cell_type": "code",
   "execution_count": 43,
   "metadata": {},
   "outputs": [
    {
     "data": {
      "application/vnd.plotly.v1+json": {
       "config": {
        "linkText": "Export to plot.ly",
        "plotlyServerURL": "https://plot.ly",
        "showLink": false
       },
       "data": [
        {
         "colorscale": [
          [
           0,
           "#440154"
          ],
          [
           0.1111111111111111,
           "#482878"
          ],
          [
           0.2222222222222222,
           "#3e4989"
          ],
          [
           0.3333333333333333,
           "#31688e"
          ],
          [
           0.4444444444444444,
           "#26828e"
          ],
          [
           0.5555555555555556,
           "#1f9e89"
          ],
          [
           0.6666666666666666,
           "#35b779"
          ],
          [
           0.7777777777777778,
           "#6ece58"
          ],
          [
           0.8888888888888888,
           "#b5de2b"
          ],
          [
           1,
           "#fde725"
          ]
         ],
         "showscale": false,
         "type": "heatmap",
         "x": [
          "0 (pred)",
          "1 (pred)"
         ],
         "xaxis": "x",
         "xgap": 2,
         "y": [
          "0 (true)",
          "1 (true)"
         ],
         "yaxis": "y",
         "ygap": 2,
         "z": [
          [
           443,
           57
          ],
          [
           58,
           210
          ]
         ]
        },
        {
         "marker": {
          "color": [
           "gold",
           "lightgreen",
           "lightcoral",
           "lightskyblue"
          ],
          "line": {
           "color": "#000000",
           "width": 1.5
          }
         },
         "opacity": 1,
         "orientation": "h",
         "text": [
          0.8503,
          0.7865,
          0.7836,
          0.785
         ],
         "textfont": {
          "color": "black"
         },
         "textposition": "auto",
         "type": "bar",
         "x": [
          0.8502604166666666,
          0.7865168539325843,
          0.7835820895522388,
          0.7850467289719626
         ],
         "xaxis": "x2",
         "y": [
          "Accuracy",
          "Precision",
          "Recall",
          "F1_score"
         ],
         "yaxis": "y2"
        },
        {
         "fill": "tozeroy",
         "line": {
          "color": "rgb(22, 96, 167)",
          "width": 2
         },
         "name": "Roc : ",
         "type": "scatter",
         "x": [
          0,
          0.010101010101010102,
          0.020202020202020204,
          0.030303030303030304,
          0.04040404040404041,
          0.05050505050505051,
          0.06060606060606061,
          0.07070707070707072,
          0.08080808080808081,
          0.09090909090909091,
          0.10101010101010102,
          0.11111111111111112,
          0.12121212121212122,
          0.13131313131313133,
          0.14141414141414144,
          0.15151515151515152,
          0.16161616161616163,
          0.17171717171717174,
          0.18181818181818182,
          0.19191919191919193,
          0.20202020202020204,
          0.21212121212121213,
          0.22222222222222224,
          0.23232323232323235,
          0.24242424242424243,
          0.25252525252525254,
          0.26262626262626265,
          0.27272727272727276,
          0.2828282828282829,
          0.29292929292929293,
          0.30303030303030304,
          0.31313131313131315,
          0.32323232323232326,
          0.33333333333333337,
          0.3434343434343435,
          0.3535353535353536,
          0.36363636363636365,
          0.37373737373737376,
          0.38383838383838387,
          0.393939393939394,
          0.4040404040404041,
          0.4141414141414142,
          0.42424242424242425,
          0.43434343434343436,
          0.4444444444444445,
          0.4545454545454546,
          0.4646464646464647,
          0.4747474747474748,
          0.48484848484848486,
          0.494949494949495,
          0.5050505050505051,
          0.5151515151515152,
          0.5252525252525253,
          0.5353535353535354,
          0.5454545454545455,
          0.5555555555555556,
          0.5656565656565657,
          0.5757575757575758,
          0.5858585858585859,
          0.595959595959596,
          0.6060606060606061,
          0.6161616161616162,
          0.6262626262626263,
          0.6363636363636365,
          0.6464646464646465,
          0.6565656565656566,
          0.6666666666666667,
          0.6767676767676768,
          0.686868686868687,
          0.696969696969697,
          0.7070707070707072,
          0.7171717171717172,
          0.7272727272727273,
          0.7373737373737375,
          0.7474747474747475,
          0.7575757575757577,
          0.7676767676767677,
          0.7777777777777778,
          0.787878787878788,
          0.797979797979798,
          0.8080808080808082,
          0.8181818181818182,
          0.8282828282828284,
          0.8383838383838385,
          0.8484848484848485,
          0.8585858585858587,
          0.8686868686868687,
          0.8787878787878789,
          0.888888888888889,
          0.8989898989898991,
          0.9090909090909092,
          0.9191919191919192,
          0.9292929292929294,
          0.9393939393939394,
          0.9494949494949496,
          0.9595959595959597,
          0.9696969696969697,
          0.9797979797979799,
          0.98989898989899,
          1
         ],
         "xaxis": "x3",
         "y": [
          0.19548935432758965,
          0.19548935432758965,
          0.36312211046034576,
          0.45132063987211046,
          0.4986655172169877,
          0.6185412174970998,
          0.6475849885408709,
          0.6773766552075375,
          0.7083898827207651,
          0.7242232160540985,
          0.794244068839657,
          0.8054561900517783,
          0.8402601116204057,
          0.8507363020965963,
          0.8671510624451801,
          0.8738177291118469,
          0.881688099482217,
          0.8883547661488838,
          0.8962251365192542,
          0.9028918031859208,
          0.9070584698525875,
          0.912940822793764,
          0.9174862773392185,
          0.9174862773392185,
          0.9211899810429223,
          0.9211899810429223,
          0.9245233143762557,
          0.9316661715191128,
          0.9316661715191128,
          0.9316661715191128,
          0.9349995048524461,
          0.9349995048524461,
          0.9387032085561497,
          0.9518772281639929,
          0.9552105614973263,
          0.9581517379679145,
          0.9581517379679145,
          0.9581517379679145,
          0.9581517379679145,
          0.9581517379679145,
          0.9610929144385028,
          0.9677595811051694,
          0.9677595811051694,
          0.9677595811051694,
          0.9708845811051694,
          0.9708845811051694,
          0.9708845811051694,
          0.975430035650624,
          0.975430035650624,
          0.975430035650624,
          0.975430035650624,
          0.975430035650624,
          0.975430035650624,
          0.975430035650624,
          0.975430035650624,
          0.975430035650624,
          0.975430035650624,
          0.975430035650624,
          0.975430035650624,
          0.975430035650624,
          0.975430035650624,
          0.975430035650624,
          0.975430035650624,
          0.975430035650624,
          0.9787633689839573,
          0.9787633689839573,
          0.9787633689839573,
          0.9787633689839573,
          0.9787633689839573,
          0.9787633689839573,
          0.9787633689839573,
          0.9787633689839573,
          0.9787633689839573,
          0.9787633689839573,
          0.9787633689839573,
          0.9818883689839574,
          0.9848295454545456,
          0.9848295454545456,
          0.9848295454545456,
          0.9848295454545456,
          0.9923295454545455,
          0.9923295454545455,
          0.9923295454545455,
          0.9923295454545455,
          0.9954545454545455,
          0.9954545454545455,
          0.9954545454545455,
          0.9954545454545455,
          0.9954545454545455,
          0.9954545454545455,
          0.9954545454545455,
          0.9954545454545455,
          0.9954545454545455,
          0.9954545454545455,
          0.9954545454545455,
          0.9954545454545455,
          0.9954545454545455,
          0.9954545454545455,
          1,
          1
         ],
         "yaxis": "y3"
        },
        {
         "line": {
          "color": "black",
          "dash": "dot",
          "width": 1.5
         },
         "type": "scatter",
         "x": [
          0,
          1
         ],
         "xaxis": "x3",
         "y": [
          0,
          1
         ],
         "yaxis": "y3"
        },
        {
         "fill": "tozeroy",
         "line": {
          "color": "lightcoral",
          "width": 2
         },
         "name": "Precision[0.35496689 0.35411141 0.35458167 0.35505319 0.35552597 0.356\n 0.3564753  0.35695187 0.35742972 0.35790885 0.35838926 0.35887097\n 0.35935397 0.35983827 0.36032389 0.36081081 0.36129905 0.36178862\n 0.36227951 0.36277174 0.36326531 0.36376022 0.36425648 0.3647541\n 0.36525308 0.36575342 0.36625514 0.36675824 0.36726272 0.3677686\n 0.36827586 0.36878453 0.36929461 0.36980609 0.370319   0.37083333\n 0.3713491  0.3718663  0.37238494 0.37290503 0.37342657 0.37394958\n 0.37447405 0.375      0.37552743 0.37605634 0.37658674 0.37711864\n 0.37623762 0.37677054 0.37588652 0.37642045 0.3769559  0.37749288\n 0.37803138 0.37857143 0.37911302 0.37965616 0.38020086 0.38074713\n 0.38129496 0.38184438 0.38239538 0.38294798 0.38350217 0.38405797\n 0.38461538 0.38517442 0.38573508 0.38629738 0.38686131 0.3874269\n 0.38799414 0.38856305 0.38913363 0.38970588 0.39027982 0.39085546\n 0.39143279 0.39201183 0.39259259 0.39317507 0.39375929 0.39434524\n 0.39493294 0.39552239 0.3961136  0.39670659 0.39730135 0.3978979\n 0.39849624 0.39909639 0.39969834 0.40030211 0.40090772 0.40151515\n 0.40212443 0.40273556 0.40334855 0.40396341 0.40458015 0.40519878\n 0.4058193  0.40644172 0.40706605 0.40769231 0.40832049 0.40895062\n 0.40958269 0.41021672 0.41085271 0.41149068 0.41213064 0.41277259\n 0.41341654 0.4140625  0.41471049 0.4153605  0.41601256 0.41666667\n 0.41732283 0.41798107 0.41706161 0.41772152 0.41838352 0.41904762\n 0.41971383 0.42038217 0.42105263 0.42172524 0.4224     0.42307692\n 0.42375602 0.4244373  0.42512077 0.42580645 0.42649435 0.42556634\n 0.42625608 0.42694805 0.42764228 0.42833876 0.42903752 0.42973856\n 0.42880524 0.4295082  0.43021346 0.43092105 0.43163097 0.43234323\n 0.43305785 0.43377483 0.4344942  0.43521595 0.4359401  0.43666667\n 0.43739566 0.43812709 0.43886097 0.43959732 0.44033613 0.44107744\n 0.44182125 0.44256757 0.44331641 0.4440678  0.44482173 0.44557823\n 0.44633731 0.44709898 0.44786325 0.44863014 0.44939966 0.45017182\n 0.45094664 0.45172414 0.45250432 0.4532872  0.45407279 0.45486111\n 0.45565217 0.45644599 0.45724258 0.45804196 0.45884413 0.45964912\n 0.46045694 0.46126761 0.46208113 0.46289753 0.46371681 0.46453901\n 0.46358792 0.46441281 0.46524064 0.46607143 0.46690519 0.46774194\n 0.46858169 0.46942446 0.47027027 0.47111913 0.47197107 0.47282609\n 0.47368421 0.47454545 0.47540984 0.47627737 0.47714808 0.47802198\n 0.47889908 0.47977941 0.48066298 0.48154982 0.48243993 0.48333333\n 0.48423006 0.48513011 0.48603352 0.4869403  0.48785047 0.48876404\n 0.48968105 0.4906015  0.48964218 0.48867925 0.48960302 0.4905303\n 0.4914611  0.49239544 0.49333333 0.49427481 0.49521989 0.49616858\n 0.49712092 0.49807692 0.49903661 0.5        0.50096712 0.50193798\n 0.50291262 0.50389105 0.50487329 0.50585938 0.50684932 0.50784314\n 0.50884086 0.50787402 0.50887574 0.50988142 0.50891089 0.50992063\n 0.51093439 0.51195219 0.51297405 0.514      0.51503006 0.51606426\n 0.51710262 0.51814516 0.51919192 0.52024291 0.52129817 0.52235772\n 0.52342159 0.5244898  0.52556237 0.52663934 0.52566735 0.52674897\n 0.52783505 0.52892562 0.5300207  0.53112033 0.53222453 0.53333333\n 0.53444676 0.53556485 0.53668763 0.53781513 0.53894737 0.54008439\n 0.54122622 0.54237288 0.54352442 0.54255319 0.54371002 0.54487179\n 0.54603854 0.54506438 0.54623656 0.54741379 0.54859611 0.54978355\n 0.55097614 0.55217391 0.55337691 0.55458515 0.55579869 0.55701754\n 0.55824176 0.55947137 0.5607064  0.5619469  0.5631929  0.56444444\n 0.56570156 0.56696429 0.56823266 0.56950673 0.57078652 0.57207207\n 0.57336343 0.57466063 0.57596372 0.57727273 0.5785877  0.57762557\n 0.57894737 0.58027523 0.5816092  0.58294931 0.58429561 0.58564815\n 0.58468677 0.58604651 0.58741259 0.58878505 0.58782201 0.58920188\n 0.59058824 0.59198113 0.59338061 0.59478673 0.59619952 0.59761905\n 0.59904535 0.60047847 0.60191847 0.60336538 0.60481928 0.60628019\n 0.60774818 0.6092233  0.6107056  0.61219512 0.61369193 0.6127451\n 0.61425061 0.61330049 0.61481481 0.61633663 0.617866   0.61940299\n 0.62094763 0.6225     0.62406015 0.62562814 0.62468514 0.62626263\n 0.6278481  0.62944162 0.63104326 0.63265306 0.6342711  0.63589744\n 0.63753213 0.63659794 0.63565891 0.6373057  0.63896104 0.640625\n 0.64229765 0.64136126 0.64041995 0.64210526 0.64379947 0.64285714\n 0.64456233 0.6462766  0.648      0.64973262 0.65147453 0.65322581\n 0.65498652 0.65675676 0.65853659 0.66032609 0.66212534 0.66393443\n 0.66575342 0.66758242 0.66942149 0.66850829 0.67036011 0.67222222\n 0.67409471 0.67597765 0.67787115 0.67977528 0.68169014 0.68361582\n 0.68555241 0.6875     0.68660969 0.68857143 0.69054441 0.68965517\n 0.69164265 0.69364162 0.69565217 0.69767442 0.69970845 0.70175439\n 0.70381232 0.70588235 0.7079646  0.71005917 0.71216617 0.71428571\n 0.71641791 0.71556886 0.71771772 0.71987952 0.72205438 0.72424242\n 0.72644377 0.72865854 0.73088685 0.73312883 0.73538462 0.73765432\n 0.73684211 0.73913043 0.73831776 0.740625   0.74294671 0.74528302\n 0.74763407 0.75       0.74920635 0.74840764 0.75079872 0.75320513\n 0.75562701 0.75483871 0.75404531 0.75649351 0.75570033 0.75816993\n 0.75737705 0.75986842 0.76237624 0.7615894  0.76079734 0.76333333\n 0.76588629 0.76845638 0.76767677 0.77027027 0.76949153 0.77210884\n 0.77474403 0.77739726 0.78006873 0.77931034 0.77854671 0.77777778\n 0.7804878  0.78321678 0.78596491 0.78873239 0.79151943 0.79078014\n 0.79359431 0.79642857 0.79569892 0.79856115 0.80144404 0.80434783\n 0.80727273 0.80656934 0.80586081 0.80514706 0.80442804 0.80740741\n 0.81040892 0.80970149 0.81273408 0.81203008 0.81509434 0.81818182\n 0.82129278 0.82442748 0.82758621 0.83076923 0.83011583 0.82945736\n 0.83268482 0.83203125 0.83137255 0.83464567 0.83794466 0.83730159\n 0.83665339 0.836      0.83534137 0.83467742 0.83805668 0.83739837\n 0.83673469 0.83606557 0.83539095 0.83471074 0.8340249  0.8375\n 0.84100418 0.84033613 0.83966245 0.83898305 0.83829787 0.84188034\n 0.84120172 0.84051724 0.84415584 0.84347826 0.84279476 0.84210526\n 0.84140969 0.84070796 0.84       0.84375    0.84304933 0.84234234\n 0.84615385 0.84545455 0.84931507 0.85321101 0.85253456 0.85185185\n 0.85116279 0.85046729 0.84976526 0.8490566  0.85308057 0.85714286\n 0.85645933 0.85576923 0.85507246 0.85436893 0.85853659 0.85784314\n 0.85714286 0.86138614 0.86069652 0.86       0.85929648 0.85858586\n 0.85786802 0.8622449  0.86666667 0.87113402 0.87046632 0.86979167\n 0.86910995 0.86842105 0.86772487 0.86702128 0.86631016 0.8655914\n 0.87027027 0.86956522 0.86885246 0.86813187 0.87292818 0.87222222\n 0.87150838 0.87078652 0.8700565  0.875      0.87428571 0.87356322\n 0.87283237 0.87209302 0.87134503 0.87058824 0.86982249 0.86904762\n 0.86826347 0.86746988 0.87272727 0.87195122 0.87116564 0.87037037\n 0.86956522 0.86875    0.86792453 0.86708861 0.86624204 0.86538462\n 0.86451613 0.87012987 0.86928105 0.86842105 0.86754967 0.86666667\n 0.86577181 0.86486486 0.86394558 0.8630137  0.86206897 0.86111111\n 0.86013986 0.85915493 0.85815603 0.85714286 0.85611511 0.86231884\n 0.86131387 0.86029412 0.85925926 0.86567164 0.86466165 0.87121212\n 0.8778626  0.87692308 0.87596899 0.875      0.87401575 0.87301587\n 0.872      0.87096774 0.8699187  0.87704918 0.87603306 0.875\n 0.87394958 0.87288136 0.87179487 0.87068966 0.86956522 0.86842105\n 0.86725664 0.86607143 0.86486486 0.86363636 0.86238532 0.86111111\n 0.85981308 0.85849057 0.86666667 0.86538462 0.87378641 0.87254902\n 0.87128713 0.87       0.86868687 0.86734694 0.86597938 0.86458333\n 0.86315789 0.86170213 0.86021505 0.85869565 0.85714286 0.85555556\n 0.85393258 0.85227273 0.85057471 0.84883721 0.85882353 0.85714286\n 0.85542169 0.85365854 0.86419753 0.8625     0.86075949 0.85897436\n 0.87012987 0.86842105 0.86666667 0.86486486 0.8630137  0.86111111\n 0.85915493 0.85714286 0.85507246 0.85294118 0.85074627 0.84848485\n 0.84615385 0.84375    0.85714286 0.85483871 0.85245902 0.85\n 0.84745763 0.86206897 0.85964912 0.875      0.87272727 0.87037037\n 0.86792453 0.86538462 0.8627451  0.86       0.85714286 0.85416667\n 0.85106383 0.84782609 0.84444444 0.86363636 0.86046512 0.85714286\n 0.85365854 0.85       0.84615385 0.84210526 0.83783784 0.83333333\n 0.82857143 0.82352941 0.81818182 0.84375    0.83870968 0.83333333\n 0.82758621 0.85714286 0.85185185 0.84615385 0.84       0.875\n 0.86956522 0.90909091 0.9047619  0.9        0.89473684 0.88888889\n 0.88235294 0.9375     0.93333333 0.92857143 0.92307692 0.91666667\n 0.90909091 0.9        0.88888889 0.875      0.85714286 0.83333333\n 0.8        0.75       0.66666667 0.5        0.         1.        ]",
         "type": "scatter",
         "x": [
          1,
          0.996268656716418,
          0.996268656716418,
          0.996268656716418,
          0.996268656716418,
          0.996268656716418,
          0.996268656716418,
          0.996268656716418,
          0.996268656716418,
          0.996268656716418,
          0.996268656716418,
          0.996268656716418,
          0.996268656716418,
          0.996268656716418,
          0.996268656716418,
          0.996268656716418,
          0.996268656716418,
          0.996268656716418,
          0.996268656716418,
          0.996268656716418,
          0.996268656716418,
          0.996268656716418,
          0.996268656716418,
          0.996268656716418,
          0.996268656716418,
          0.996268656716418,
          0.996268656716418,
          0.996268656716418,
          0.996268656716418,
          0.996268656716418,
          0.996268656716418,
          0.996268656716418,
          0.996268656716418,
          0.996268656716418,
          0.996268656716418,
          0.996268656716418,
          0.996268656716418,
          0.996268656716418,
          0.996268656716418,
          0.996268656716418,
          0.996268656716418,
          0.996268656716418,
          0.996268656716418,
          0.996268656716418,
          0.996268656716418,
          0.996268656716418,
          0.996268656716418,
          0.996268656716418,
          0.9925373134328358,
          0.9925373134328358,
          0.9888059701492538,
          0.9888059701492538,
          0.9888059701492538,
          0.9888059701492538,
          0.9888059701492538,
          0.9888059701492538,
          0.9888059701492538,
          0.9888059701492538,
          0.9888059701492538,
          0.9888059701492538,
          0.9888059701492538,
          0.9888059701492538,
          0.9888059701492538,
          0.9888059701492538,
          0.9888059701492538,
          0.9888059701492538,
          0.9888059701492538,
          0.9888059701492538,
          0.9888059701492538,
          0.9888059701492538,
          0.9888059701492538,
          0.9888059701492538,
          0.9888059701492538,
          0.9888059701492538,
          0.9888059701492538,
          0.9888059701492538,
          0.9888059701492538,
          0.9888059701492538,
          0.9888059701492538,
          0.9888059701492538,
          0.9888059701492538,
          0.9888059701492538,
          0.9888059701492538,
          0.9888059701492538,
          0.9888059701492538,
          0.9888059701492538,
          0.9888059701492538,
          0.9888059701492538,
          0.9888059701492538,
          0.9888059701492538,
          0.9888059701492538,
          0.9888059701492538,
          0.9888059701492538,
          0.9888059701492538,
          0.9888059701492538,
          0.9888059701492538,
          0.9888059701492538,
          0.9888059701492538,
          0.9888059701492538,
          0.9888059701492538,
          0.9888059701492538,
          0.9888059701492538,
          0.9888059701492538,
          0.9888059701492538,
          0.9888059701492538,
          0.9888059701492538,
          0.9888059701492538,
          0.9888059701492538,
          0.9888059701492538,
          0.9888059701492538,
          0.9888059701492538,
          0.9888059701492538,
          0.9888059701492538,
          0.9888059701492538,
          0.9888059701492538,
          0.9888059701492538,
          0.9888059701492538,
          0.9888059701492538,
          0.9888059701492538,
          0.9888059701492538,
          0.9888059701492538,
          0.9888059701492538,
          0.9850746268656716,
          0.9850746268656716,
          0.9850746268656716,
          0.9850746268656716,
          0.9850746268656716,
          0.9850746268656716,
          0.9850746268656716,
          0.9850746268656716,
          0.9850746268656716,
          0.9850746268656716,
          0.9850746268656716,
          0.9850746268656716,
          0.9850746268656716,
          0.9850746268656716,
          0.9850746268656716,
          0.9813432835820896,
          0.9813432835820896,
          0.9813432835820896,
          0.9813432835820896,
          0.9813432835820896,
          0.9813432835820896,
          0.9813432835820896,
          0.9776119402985075,
          0.9776119402985075,
          0.9776119402985075,
          0.9776119402985075,
          0.9776119402985075,
          0.9776119402985075,
          0.9776119402985075,
          0.9776119402985075,
          0.9776119402985075,
          0.9776119402985075,
          0.9776119402985075,
          0.9776119402985075,
          0.9776119402985075,
          0.9776119402985075,
          0.9776119402985075,
          0.9776119402985075,
          0.9776119402985075,
          0.9776119402985075,
          0.9776119402985075,
          0.9776119402985075,
          0.9776119402985075,
          0.9776119402985075,
          0.9776119402985075,
          0.9776119402985075,
          0.9776119402985075,
          0.9776119402985075,
          0.9776119402985075,
          0.9776119402985075,
          0.9776119402985075,
          0.9776119402985075,
          0.9776119402985075,
          0.9776119402985075,
          0.9776119402985075,
          0.9776119402985075,
          0.9776119402985075,
          0.9776119402985075,
          0.9776119402985075,
          0.9776119402985075,
          0.9776119402985075,
          0.9776119402985075,
          0.9776119402985075,
          0.9776119402985075,
          0.9776119402985075,
          0.9776119402985075,
          0.9776119402985075,
          0.9776119402985075,
          0.9776119402985075,
          0.9776119402985075,
          0.9738805970149254,
          0.9738805970149254,
          0.9738805970149254,
          0.9738805970149254,
          0.9738805970149254,
          0.9738805970149254,
          0.9738805970149254,
          0.9738805970149254,
          0.9738805970149254,
          0.9738805970149254,
          0.9738805970149254,
          0.9738805970149254,
          0.9738805970149254,
          0.9738805970149254,
          0.9738805970149254,
          0.9738805970149254,
          0.9738805970149254,
          0.9738805970149254,
          0.9738805970149254,
          0.9738805970149254,
          0.9738805970149254,
          0.9738805970149254,
          0.9738805970149254,
          0.9738805970149254,
          0.9738805970149254,
          0.9738805970149254,
          0.9738805970149254,
          0.9738805970149254,
          0.9738805970149254,
          0.9738805970149254,
          0.9738805970149254,
          0.9738805970149254,
          0.9701492537313433,
          0.9664179104477612,
          0.9664179104477612,
          0.9664179104477612,
          0.9664179104477612,
          0.9664179104477612,
          0.9664179104477612,
          0.9664179104477612,
          0.9664179104477612,
          0.9664179104477612,
          0.9664179104477612,
          0.9664179104477612,
          0.9664179104477612,
          0.9664179104477612,
          0.9664179104477612,
          0.9664179104477612,
          0.9664179104477612,
          0.9664179104477612,
          0.9664179104477612,
          0.9664179104477612,
          0.9664179104477612,
          0.9664179104477612,
          0.9664179104477612,
          0.9626865671641791,
          0.9626865671641791,
          0.9626865671641791,
          0.9589552238805971,
          0.9589552238805971,
          0.9589552238805971,
          0.9589552238805971,
          0.9589552238805971,
          0.9589552238805971,
          0.9589552238805971,
          0.9589552238805971,
          0.9589552238805971,
          0.9589552238805971,
          0.9589552238805971,
          0.9589552238805971,
          0.9589552238805971,
          0.9589552238805971,
          0.9589552238805971,
          0.9589552238805971,
          0.9589552238805971,
          0.9589552238805971,
          0.9552238805970149,
          0.9552238805970149,
          0.9552238805970149,
          0.9552238805970149,
          0.9552238805970149,
          0.9552238805970149,
          0.9552238805970149,
          0.9552238805970149,
          0.9552238805970149,
          0.9552238805970149,
          0.9552238805970149,
          0.9552238805970149,
          0.9552238805970149,
          0.9552238805970149,
          0.9552238805970149,
          0.9552238805970149,
          0.9552238805970149,
          0.9514925373134329,
          0.9514925373134329,
          0.9514925373134329,
          0.9514925373134329,
          0.9477611940298507,
          0.9477611940298507,
          0.9477611940298507,
          0.9477611940298507,
          0.9477611940298507,
          0.9477611940298507,
          0.9477611940298507,
          0.9477611940298507,
          0.9477611940298507,
          0.9477611940298507,
          0.9477611940298507,
          0.9477611940298507,
          0.9477611940298507,
          0.9477611940298507,
          0.9477611940298507,
          0.9477611940298507,
          0.9477611940298507,
          0.9477611940298507,
          0.9477611940298507,
          0.9477611940298507,
          0.9477611940298507,
          0.9477611940298507,
          0.9477611940298507,
          0.9477611940298507,
          0.9477611940298507,
          0.9477611940298507,
          0.9477611940298507,
          0.9477611940298507,
          0.9440298507462687,
          0.9440298507462687,
          0.9440298507462687,
          0.9440298507462687,
          0.9440298507462687,
          0.9440298507462687,
          0.9440298507462687,
          0.9402985074626866,
          0.9402985074626866,
          0.9402985074626866,
          0.9402985074626866,
          0.9365671641791045,
          0.9365671641791045,
          0.9365671641791045,
          0.9365671641791045,
          0.9365671641791045,
          0.9365671641791045,
          0.9365671641791045,
          0.9365671641791045,
          0.9365671641791045,
          0.9365671641791045,
          0.9365671641791045,
          0.9365671641791045,
          0.9365671641791045,
          0.9365671641791045,
          0.9365671641791045,
          0.9365671641791045,
          0.9365671641791045,
          0.9365671641791045,
          0.9365671641791045,
          0.9328358208955224,
          0.9328358208955224,
          0.9291044776119403,
          0.9291044776119403,
          0.9291044776119403,
          0.9291044776119403,
          0.9291044776119403,
          0.9291044776119403,
          0.9291044776119403,
          0.9291044776119403,
          0.9291044776119403,
          0.9253731343283582,
          0.9253731343283582,
          0.9253731343283582,
          0.9253731343283582,
          0.9253731343283582,
          0.9253731343283582,
          0.9253731343283582,
          0.9253731343283582,
          0.9253731343283582,
          0.9216417910447762,
          0.917910447761194,
          0.917910447761194,
          0.917910447761194,
          0.917910447761194,
          0.917910447761194,
          0.914179104477612,
          0.9104477611940298,
          0.9104477611940298,
          0.9104477611940298,
          0.9067164179104478,
          0.9067164179104478,
          0.9067164179104478,
          0.9067164179104478,
          0.9067164179104478,
          0.9067164179104478,
          0.9067164179104478,
          0.9067164179104478,
          0.9067164179104478,
          0.9067164179104478,
          0.9067164179104478,
          0.9067164179104478,
          0.9067164179104478,
          0.9067164179104478,
          0.9067164179104478,
          0.9067164179104478,
          0.9029850746268657,
          0.9029850746268657,
          0.9029850746268657,
          0.9029850746268657,
          0.9029850746268657,
          0.9029850746268657,
          0.9029850746268657,
          0.9029850746268657,
          0.9029850746268657,
          0.9029850746268657,
          0.9029850746268657,
          0.8992537313432836,
          0.8992537313432836,
          0.8992537313432836,
          0.8955223880597015,
          0.8955223880597015,
          0.8955223880597015,
          0.8955223880597015,
          0.8955223880597015,
          0.8955223880597015,
          0.8955223880597015,
          0.8955223880597015,
          0.8955223880597015,
          0.8955223880597015,
          0.8955223880597015,
          0.8955223880597015,
          0.8955223880597015,
          0.8955223880597015,
          0.8917910447761194,
          0.8917910447761194,
          0.8917910447761194,
          0.8917910447761194,
          0.8917910447761194,
          0.8917910447761194,
          0.8917910447761194,
          0.8917910447761194,
          0.8917910447761194,
          0.8917910447761194,
          0.8917910447761194,
          0.8880597014925373,
          0.8880597014925373,
          0.8843283582089553,
          0.8843283582089553,
          0.8843283582089553,
          0.8843283582089553,
          0.8843283582089553,
          0.8843283582089553,
          0.8805970149253731,
          0.8768656716417911,
          0.8768656716417911,
          0.8768656716417911,
          0.8768656716417911,
          0.8731343283582089,
          0.8694029850746269,
          0.8694029850746269,
          0.8656716417910447,
          0.8656716417910447,
          0.8619402985074627,
          0.8619402985074627,
          0.8619402985074627,
          0.8582089552238806,
          0.8544776119402985,
          0.8544776119402985,
          0.8544776119402985,
          0.8544776119402985,
          0.8507462686567164,
          0.8507462686567164,
          0.8470149253731343,
          0.8470149253731343,
          0.8470149253731343,
          0.8470149253731343,
          0.8470149253731343,
          0.8432835820895522,
          0.8395522388059702,
          0.835820895522388,
          0.835820895522388,
          0.835820895522388,
          0.835820895522388,
          0.835820895522388,
          0.835820895522388,
          0.832089552238806,
          0.832089552238806,
          0.832089552238806,
          0.8283582089552238,
          0.8283582089552238,
          0.8283582089552238,
          0.8283582089552238,
          0.8283582089552238,
          0.8246268656716418,
          0.8208955223880597,
          0.8171641791044776,
          0.8134328358208955,
          0.8134328358208955,
          0.8134328358208955,
          0.8097014925373134,
          0.8097014925373134,
          0.8059701492537313,
          0.8059701492537313,
          0.8059701492537313,
          0.8059701492537313,
          0.8059701492537313,
          0.8059701492537313,
          0.8059701492537313,
          0.8022388059701493,
          0.7985074626865671,
          0.7985074626865671,
          0.7947761194029851,
          0.7910447761194029,
          0.7910447761194029,
          0.7910447761194029,
          0.7873134328358209,
          0.7835820895522388,
          0.7798507462686567,
          0.7761194029850746,
          0.7723880597014925,
          0.7723880597014925,
          0.7686567164179104,
          0.7649253731343284,
          0.7611940298507462,
          0.7574626865671642,
          0.753731343283582,
          0.75,
          0.75,
          0.75,
          0.746268656716418,
          0.7425373134328358,
          0.7388059701492538,
          0.7350746268656716,
          0.7350746268656716,
          0.7313432835820896,
          0.7276119402985075,
          0.7276119402985075,
          0.7238805970149254,
          0.7201492537313433,
          0.7164179104477612,
          0.7126865671641791,
          0.7089552238805971,
          0.7052238805970149,
          0.7052238805970149,
          0.7014925373134329,
          0.6977611940298507,
          0.6977611940298507,
          0.6940298507462687,
          0.6940298507462687,
          0.6940298507462687,
          0.6902985074626866,
          0.6865671641791045,
          0.6828358208955224,
          0.6791044776119403,
          0.6753731343283582,
          0.6716417910447762,
          0.6716417910447762,
          0.6716417910447762,
          0.667910447761194,
          0.664179104477612,
          0.6604477611940298,
          0.6567164179104478,
          0.6567164179104478,
          0.6529850746268657,
          0.6492537313432836,
          0.6492537313432836,
          0.6455223880597015,
          0.6417910447761194,
          0.6380597014925373,
          0.6343283582089553,
          0.6305970149253731,
          0.6305970149253731,
          0.6305970149253731,
          0.6305970149253731,
          0.6268656716417911,
          0.6231343283582089,
          0.6194029850746269,
          0.6156716417910447,
          0.6119402985074627,
          0.6082089552238806,
          0.6044776119402985,
          0.6007462686567164,
          0.6007462686567164,
          0.5970149253731343,
          0.5932835820895522,
          0.5895522388059702,
          0.5895522388059702,
          0.585820895522388,
          0.582089552238806,
          0.5783582089552238,
          0.5746268656716418,
          0.5746268656716418,
          0.5708955223880597,
          0.5671641791044776,
          0.5634328358208955,
          0.5597014925373134,
          0.5559701492537313,
          0.5522388059701493,
          0.5485074626865671,
          0.5447761194029851,
          0.5410447761194029,
          0.5373134328358209,
          0.5373134328358209,
          0.5335820895522388,
          0.5298507462686567,
          0.5261194029850746,
          0.5223880597014925,
          0.5186567164179104,
          0.5149253731343284,
          0.5111940298507462,
          0.5074626865671642,
          0.503731343283582,
          0.5,
          0.5,
          0.4962686567164179,
          0.4925373134328358,
          0.48880597014925375,
          0.48507462686567165,
          0.48134328358208955,
          0.47761194029850745,
          0.47388059701492535,
          0.4701492537313433,
          0.4664179104477612,
          0.4626865671641791,
          0.458955223880597,
          0.4552238805970149,
          0.45149253731343286,
          0.44776119402985076,
          0.44402985074626866,
          0.44402985074626866,
          0.44029850746268656,
          0.43656716417910446,
          0.43283582089552236,
          0.43283582089552236,
          0.4291044776119403,
          0.4291044776119403,
          0.4291044776119403,
          0.4253731343283582,
          0.4216417910447761,
          0.417910447761194,
          0.4141791044776119,
          0.41044776119402987,
          0.40671641791044777,
          0.40298507462686567,
          0.39925373134328357,
          0.39925373134328357,
          0.39552238805970147,
          0.3917910447761194,
          0.3880597014925373,
          0.3843283582089552,
          0.3805970149253731,
          0.376865671641791,
          0.373134328358209,
          0.3694029850746269,
          0.3656716417910448,
          0.3619402985074627,
          0.3582089552238806,
          0.35447761194029853,
          0.35074626865671643,
          0.34701492537313433,
          0.34328358208955223,
          0.33955223880597013,
          0.33955223880597013,
          0.3358208955223881,
          0.3358208955223881,
          0.332089552238806,
          0.3283582089552239,
          0.3246268656716418,
          0.3208955223880597,
          0.31716417910447764,
          0.31343283582089554,
          0.30970149253731344,
          0.30597014925373134,
          0.30223880597014924,
          0.29850746268656714,
          0.2947761194029851,
          0.291044776119403,
          0.2873134328358209,
          0.2835820895522388,
          0.2798507462686567,
          0.27611940298507465,
          0.27238805970149255,
          0.27238805970149255,
          0.26865671641791045,
          0.26492537313432835,
          0.26119402985074625,
          0.26119402985074625,
          0.2574626865671642,
          0.2537313432835821,
          0.25,
          0.25,
          0.2462686567164179,
          0.24253731343283583,
          0.23880597014925373,
          0.23507462686567165,
          0.23134328358208955,
          0.22761194029850745,
          0.22388059701492538,
          0.22014925373134328,
          0.21641791044776118,
          0.2126865671641791,
          0.208955223880597,
          0.20522388059701493,
          0.20149253731343283,
          0.20149253731343283,
          0.19776119402985073,
          0.19402985074626866,
          0.19029850746268656,
          0.1865671641791045,
          0.1865671641791045,
          0.1828358208955224,
          0.1828358208955224,
          0.1791044776119403,
          0.17537313432835822,
          0.17164179104477612,
          0.16791044776119404,
          0.16417910447761194,
          0.16044776119402984,
          0.15671641791044777,
          0.15298507462686567,
          0.14925373134328357,
          0.1455223880597015,
          0.1417910447761194,
          0.1417910447761194,
          0.13805970149253732,
          0.13432835820895522,
          0.13059701492537312,
          0.12686567164179105,
          0.12313432835820895,
          0.11940298507462686,
          0.11567164179104478,
          0.11194029850746269,
          0.10820895522388059,
          0.1044776119402985,
          0.10074626865671642,
          0.10074626865671642,
          0.09701492537313433,
          0.09328358208955224,
          0.08955223880597014,
          0.08955223880597014,
          0.08582089552238806,
          0.08208955223880597,
          0.07835820895522388,
          0.07835820895522388,
          0.07462686567164178,
          0.07462686567164178,
          0.0708955223880597,
          0.06716417910447761,
          0.06343283582089553,
          0.05970149253731343,
          0.055970149253731345,
          0.055970149253731345,
          0.05223880597014925,
          0.048507462686567165,
          0.04477611940298507,
          0.041044776119402986,
          0.03731343283582089,
          0.033582089552238806,
          0.029850746268656716,
          0.026119402985074626,
          0.022388059701492536,
          0.018656716417910446,
          0.014925373134328358,
          0.011194029850746268,
          0.007462686567164179,
          0.0037313432835820895,
          0,
          0
         ],
         "xaxis": "x4",
         "y": [
          0.35496688741721855,
          0.3541114058355438,
          0.3545816733067729,
          0.3550531914893617,
          0.355525965379494,
          0.356,
          0.35647530040053405,
          0.356951871657754,
          0.357429718875502,
          0.3579088471849866,
          0.35838926174496644,
          0.3588709677419355,
          0.35935397039030953,
          0.35983827493261455,
          0.3603238866396761,
          0.3608108108108108,
          0.36129905277401897,
          0.3617886178861789,
          0.3622795115332429,
          0.36277173913043476,
          0.363265306122449,
          0.3637602179836512,
          0.36425648021828105,
          0.36475409836065575,
          0.3652530779753762,
          0.36575342465753424,
          0.3662551440329218,
          0.36675824175824173,
          0.3672627235213205,
          0.3677685950413223,
          0.3682758620689655,
          0.3687845303867403,
          0.36929460580912865,
          0.3698060941828255,
          0.37031900138696255,
          0.37083333333333335,
          0.3713490959666203,
          0.37186629526462395,
          0.3723849372384937,
          0.3729050279329609,
          0.3734265734265734,
          0.3739495798319328,
          0.3744740532959327,
          0.375,
          0.3755274261603376,
          0.376056338028169,
          0.3765867418899859,
          0.3771186440677966,
          0.37623762376237624,
          0.37677053824362605,
          0.375886524822695,
          0.37642045454545453,
          0.37695590327169276,
          0.37749287749287747,
          0.3780313837375178,
          0.37857142857142856,
          0.3791130185979971,
          0.37965616045845274,
          0.3802008608321377,
          0.3807471264367816,
          0.381294964028777,
          0.3818443804034582,
          0.3823953823953824,
          0.3829479768786127,
          0.3835021707670043,
          0.38405797101449274,
          0.38461538461538464,
          0.3851744186046512,
          0.38573508005822416,
          0.38629737609329445,
          0.38686131386861317,
          0.38742690058479534,
          0.38799414348462663,
          0.3885630498533724,
          0.3891336270190896,
          0.3897058823529412,
          0.390279823269514,
          0.39085545722713866,
          0.3914327917282127,
          0.39201183431952663,
          0.3925925925925926,
          0.39317507418397624,
          0.3937592867756315,
          0.3943452380952381,
          0.3949329359165425,
          0.39552238805970147,
          0.3961136023916293,
          0.3967065868263473,
          0.39730134932533734,
          0.3978978978978979,
          0.39849624060150374,
          0.3990963855421687,
          0.3996983408748115,
          0.4003021148036254,
          0.4009077155824508,
          0.4015151515151515,
          0.40212443095599393,
          0.4027355623100304,
          0.4033485540334855,
          0.40396341463414637,
          0.40458015267175573,
          0.40519877675840976,
          0.4058192955589586,
          0.40644171779141103,
          0.40706605222734255,
          0.4076923076923077,
          0.4083204930662558,
          0.4089506172839506,
          0.4095826893353941,
          0.4102167182662539,
          0.4108527131782946,
          0.4114906832298137,
          0.4121306376360809,
          0.4127725856697819,
          0.41341653666146644,
          0.4140625,
          0.41471048513302033,
          0.4153605015673981,
          0.41601255886970173,
          0.4166666666666667,
          0.41732283464566927,
          0.41798107255520506,
          0.41706161137440756,
          0.4177215189873418,
          0.4183835182250396,
          0.41904761904761906,
          0.41971383147853736,
          0.42038216560509556,
          0.42105263157894735,
          0.4217252396166134,
          0.4224,
          0.4230769230769231,
          0.42375601926163725,
          0.42443729903536975,
          0.4251207729468599,
          0.4258064516129032,
          0.42649434571890144,
          0.4255663430420712,
          0.42625607779578606,
          0.42694805194805197,
          0.4276422764227642,
          0.42833876221498374,
          0.4290375203915171,
          0.4297385620915033,
          0.4288052373158756,
          0.42950819672131146,
          0.4302134646962233,
          0.4309210526315789,
          0.4316309719934102,
          0.43234323432343236,
          0.43305785123966944,
          0.4337748344370861,
          0.43449419568822556,
          0.43521594684385384,
          0.43594009983361065,
          0.43666666666666665,
          0.4373956594323873,
          0.43812709030100333,
          0.4388609715242881,
          0.4395973154362416,
          0.4403361344537815,
          0.44107744107744107,
          0.4418212478920742,
          0.44256756756756754,
          0.4433164128595601,
          0.4440677966101695,
          0.44482173174872663,
          0.445578231292517,
          0.4463373083475298,
          0.447098976109215,
          0.4478632478632479,
          0.4486301369863014,
          0.44939965694682676,
          0.45017182130584193,
          0.4509466437177281,
          0.4517241379310345,
          0.4525043177892919,
          0.4532871972318339,
          0.4540727902946274,
          0.4548611111111111,
          0.45565217391304347,
          0.4564459930313589,
          0.4572425828970332,
          0.458041958041958,
          0.45884413309982486,
          0.45964912280701753,
          0.46045694200351495,
          0.4612676056338028,
          0.4620811287477954,
          0.4628975265017668,
          0.46371681415929206,
          0.4645390070921986,
          0.4635879218472469,
          0.46441281138790036,
          0.46524064171123,
          0.4660714285714286,
          0.4669051878354204,
          0.46774193548387094,
          0.46858168761220825,
          0.4694244604316547,
          0.4702702702702703,
          0.4711191335740072,
          0.4719710669077758,
          0.47282608695652173,
          0.47368421052631576,
          0.47454545454545455,
          0.47540983606557374,
          0.4762773722627737,
          0.47714808043875684,
          0.47802197802197804,
          0.47889908256880737,
          0.4797794117647059,
          0.48066298342541436,
          0.48154981549815495,
          0.4824399260628466,
          0.48333333333333334,
          0.4842300556586271,
          0.4851301115241636,
          0.4860335195530726,
          0.4869402985074627,
          0.48785046728971965,
          0.4887640449438202,
          0.4896810506566604,
          0.4906015037593985,
          0.4896421845574388,
          0.48867924528301887,
          0.4896030245746692,
          0.49053030303030304,
          0.49146110056925996,
          0.4923954372623574,
          0.49333333333333335,
          0.49427480916030536,
          0.49521988527724664,
          0.49616858237547895,
          0.4971209213051823,
          0.4980769230769231,
          0.49903660886319845,
          0.5,
          0.5009671179883946,
          0.501937984496124,
          0.5029126213592233,
          0.5038910505836576,
          0.5048732943469786,
          0.505859375,
          0.5068493150684932,
          0.5078431372549019,
          0.5088408644400786,
          0.5078740157480315,
          0.5088757396449705,
          0.5098814229249012,
          0.5089108910891089,
          0.5099206349206349,
          0.510934393638171,
          0.5119521912350598,
          0.5129740518962076,
          0.514,
          0.5150300601202404,
          0.5160642570281124,
          0.5171026156941649,
          0.5181451612903226,
          0.5191919191919192,
          0.520242914979757,
          0.5212981744421906,
          0.5223577235772358,
          0.5234215885947047,
          0.5244897959183673,
          0.5255623721881391,
          0.5266393442622951,
          0.5256673511293635,
          0.5267489711934157,
          0.5278350515463918,
          0.5289256198347108,
          0.5300207039337475,
          0.5311203319502075,
          0.5322245322245323,
          0.5333333333333333,
          0.534446764091858,
          0.5355648535564853,
          0.5366876310272537,
          0.5378151260504201,
          0.5389473684210526,
          0.540084388185654,
          0.5412262156448203,
          0.5423728813559322,
          0.5435244161358811,
          0.5425531914893617,
          0.5437100213219617,
          0.5448717948717948,
          0.5460385438972163,
          0.5450643776824035,
          0.546236559139785,
          0.5474137931034483,
          0.5485961123110151,
          0.5497835497835498,
          0.5509761388286334,
          0.5521739130434783,
          0.5533769063180828,
          0.5545851528384279,
          0.5557986870897156,
          0.5570175438596491,
          0.5582417582417583,
          0.5594713656387665,
          0.5607064017660044,
          0.5619469026548672,
          0.5631929046563193,
          0.5644444444444444,
          0.5657015590200446,
          0.5669642857142857,
          0.5682326621923938,
          0.5695067264573991,
          0.5707865168539326,
          0.5720720720720721,
          0.5733634311512416,
          0.5746606334841629,
          0.5759637188208617,
          0.5772727272727273,
          0.5785876993166287,
          0.5776255707762558,
          0.5789473684210527,
          0.5802752293577982,
          0.5816091954022988,
          0.5829493087557603,
          0.5842956120092379,
          0.5856481481481481,
          0.5846867749419954,
          0.586046511627907,
          0.5874125874125874,
          0.5887850467289719,
          0.5878220140515222,
          0.5892018779342723,
          0.5905882352941176,
          0.5919811320754716,
          0.5933806146572104,
          0.5947867298578199,
          0.5961995249406176,
          0.5976190476190476,
          0.5990453460620525,
          0.6004784688995215,
          0.6019184652278178,
          0.6033653846153846,
          0.6048192771084338,
          0.606280193236715,
          0.6077481840193705,
          0.6092233009708737,
          0.610705596107056,
          0.6121951219512195,
          0.6136919315403423,
          0.6127450980392157,
          0.6142506142506142,
          0.6133004926108374,
          0.6148148148148148,
          0.6163366336633663,
          0.6178660049627791,
          0.6194029850746269,
          0.6209476309226932,
          0.6225,
          0.6240601503759399,
          0.6256281407035176,
          0.6246851385390428,
          0.6262626262626263,
          0.6278481012658228,
          0.6294416243654822,
          0.6310432569974554,
          0.6326530612244898,
          0.6342710997442456,
          0.6358974358974359,
          0.6375321336760925,
          0.6365979381443299,
          0.6356589147286822,
          0.6373056994818653,
          0.638961038961039,
          0.640625,
          0.6422976501305483,
          0.6413612565445026,
          0.6404199475065617,
          0.6421052631578947,
          0.6437994722955145,
          0.6428571428571429,
          0.6445623342175066,
          0.6462765957446809,
          0.648,
          0.6497326203208557,
          0.6514745308310992,
          0.6532258064516129,
          0.6549865229110512,
          0.6567567567567567,
          0.6585365853658537,
          0.6603260869565217,
          0.662125340599455,
          0.6639344262295082,
          0.6657534246575343,
          0.6675824175824175,
          0.6694214876033058,
          0.6685082872928176,
          0.6703601108033241,
          0.6722222222222223,
          0.6740947075208914,
          0.6759776536312849,
          0.6778711484593838,
          0.6797752808988764,
          0.6816901408450704,
          0.6836158192090396,
          0.6855524079320113,
          0.6875,
          0.6866096866096866,
          0.6885714285714286,
          0.6905444126074498,
          0.6896551724137931,
          0.69164265129683,
          0.6936416184971098,
          0.6956521739130435,
          0.6976744186046512,
          0.6997084548104956,
          0.7017543859649122,
          0.7038123167155426,
          0.7058823529411765,
          0.7079646017699115,
          0.7100591715976331,
          0.712166172106825,
          0.7142857142857143,
          0.7164179104477612,
          0.7155688622754491,
          0.7177177177177178,
          0.7198795180722891,
          0.7220543806646526,
          0.7242424242424242,
          0.7264437689969605,
          0.7286585365853658,
          0.7308868501529052,
          0.7331288343558282,
          0.7353846153846154,
          0.7376543209876543,
          0.7368421052631579,
          0.7391304347826086,
          0.7383177570093458,
          0.740625,
          0.7429467084639498,
          0.7452830188679245,
          0.7476340694006309,
          0.75,
          0.7492063492063492,
          0.7484076433121019,
          0.7507987220447284,
          0.7532051282051282,
          0.7556270096463023,
          0.7548387096774194,
          0.7540453074433657,
          0.7564935064935064,
          0.755700325732899,
          0.7581699346405228,
          0.7573770491803279,
          0.7598684210526315,
          0.7623762376237624,
          0.7615894039735099,
          0.760797342192691,
          0.7633333333333333,
          0.7658862876254181,
          0.7684563758389261,
          0.7676767676767676,
          0.7702702702702703,
          0.7694915254237288,
          0.7721088435374149,
          0.7747440273037542,
          0.7773972602739726,
          0.7800687285223368,
          0.7793103448275862,
          0.7785467128027682,
          0.7777777777777778,
          0.7804878048780488,
          0.7832167832167832,
          0.7859649122807018,
          0.7887323943661971,
          0.7915194346289752,
          0.7907801418439716,
          0.7935943060498221,
          0.7964285714285714,
          0.7956989247311828,
          0.7985611510791367,
          0.8014440433212996,
          0.8043478260869565,
          0.8072727272727273,
          0.8065693430656934,
          0.8058608058608059,
          0.8051470588235294,
          0.8044280442804428,
          0.8074074074074075,
          0.8104089219330854,
          0.8097014925373134,
          0.8127340823970037,
          0.8120300751879699,
          0.8150943396226416,
          0.8181818181818182,
          0.8212927756653993,
          0.8244274809160306,
          0.8275862068965517,
          0.8307692307692308,
          0.8301158301158301,
          0.8294573643410853,
          0.8326848249027238,
          0.83203125,
          0.8313725490196079,
          0.8346456692913385,
          0.8379446640316206,
          0.8373015873015873,
          0.8366533864541833,
          0.836,
          0.8353413654618473,
          0.8346774193548387,
          0.8380566801619433,
          0.8373983739837398,
          0.8367346938775511,
          0.8360655737704918,
          0.8353909465020576,
          0.8347107438016529,
          0.8340248962655602,
          0.8375,
          0.8410041841004184,
          0.8403361344537815,
          0.8396624472573839,
          0.8389830508474576,
          0.8382978723404255,
          0.8418803418803419,
          0.8412017167381974,
          0.8405172413793104,
          0.8441558441558441,
          0.8434782608695652,
          0.8427947598253275,
          0.8421052631578947,
          0.8414096916299559,
          0.8407079646017699,
          0.84,
          0.84375,
          0.8430493273542601,
          0.8423423423423423,
          0.8461538461538461,
          0.8454545454545455,
          0.8493150684931506,
          0.8532110091743119,
          0.8525345622119815,
          0.8518518518518519,
          0.8511627906976744,
          0.8504672897196262,
          0.8497652582159625,
          0.8490566037735849,
          0.8530805687203792,
          0.8571428571428571,
          0.8564593301435407,
          0.8557692307692307,
          0.855072463768116,
          0.8543689320388349,
          0.8585365853658536,
          0.8578431372549019,
          0.8571428571428571,
          0.8613861386138614,
          0.8606965174129353,
          0.86,
          0.8592964824120602,
          0.8585858585858586,
          0.8578680203045685,
          0.8622448979591837,
          0.8666666666666667,
          0.8711340206185567,
          0.8704663212435233,
          0.8697916666666666,
          0.8691099476439791,
          0.868421052631579,
          0.8677248677248677,
          0.8670212765957447,
          0.8663101604278075,
          0.8655913978494624,
          0.8702702702702703,
          0.8695652173913043,
          0.8688524590163934,
          0.8681318681318682,
          0.8729281767955801,
          0.8722222222222222,
          0.8715083798882681,
          0.8707865168539326,
          0.8700564971751412,
          0.875,
          0.8742857142857143,
          0.8735632183908046,
          0.8728323699421965,
          0.872093023255814,
          0.8713450292397661,
          0.8705882352941177,
          0.8698224852071006,
          0.8690476190476191,
          0.8682634730538922,
          0.8674698795180723,
          0.8727272727272727,
          0.8719512195121951,
          0.8711656441717791,
          0.8703703703703703,
          0.8695652173913043,
          0.86875,
          0.8679245283018868,
          0.8670886075949367,
          0.8662420382165605,
          0.8653846153846154,
          0.864516129032258,
          0.8701298701298701,
          0.869281045751634,
          0.868421052631579,
          0.8675496688741722,
          0.8666666666666667,
          0.8657718120805369,
          0.8648648648648649,
          0.8639455782312925,
          0.863013698630137,
          0.8620689655172413,
          0.8611111111111112,
          0.8601398601398601,
          0.8591549295774648,
          0.8581560283687943,
          0.8571428571428571,
          0.8561151079136691,
          0.8623188405797102,
          0.8613138686131386,
          0.8602941176470589,
          0.8592592592592593,
          0.8656716417910447,
          0.8646616541353384,
          0.8712121212121212,
          0.8778625954198473,
          0.8769230769230769,
          0.875968992248062,
          0.875,
          0.8740157480314961,
          0.873015873015873,
          0.872,
          0.8709677419354839,
          0.8699186991869918,
          0.8770491803278688,
          0.8760330578512396,
          0.875,
          0.8739495798319328,
          0.8728813559322034,
          0.8717948717948718,
          0.8706896551724138,
          0.8695652173913043,
          0.868421052631579,
          0.8672566371681416,
          0.8660714285714286,
          0.8648648648648649,
          0.8636363636363636,
          0.8623853211009175,
          0.8611111111111112,
          0.8598130841121495,
          0.8584905660377359,
          0.8666666666666667,
          0.8653846153846154,
          0.8737864077669902,
          0.8725490196078431,
          0.8712871287128713,
          0.87,
          0.8686868686868687,
          0.8673469387755102,
          0.865979381443299,
          0.8645833333333334,
          0.8631578947368421,
          0.8617021276595744,
          0.8602150537634409,
          0.8586956521739131,
          0.8571428571428571,
          0.8555555555555555,
          0.8539325842696629,
          0.8522727272727273,
          0.8505747126436781,
          0.8488372093023255,
          0.8588235294117647,
          0.8571428571428571,
          0.8554216867469879,
          0.8536585365853658,
          0.8641975308641975,
          0.8625,
          0.8607594936708861,
          0.8589743589743589,
          0.8701298701298701,
          0.868421052631579,
          0.8666666666666667,
          0.8648648648648649,
          0.863013698630137,
          0.8611111111111112,
          0.8591549295774648,
          0.8571428571428571,
          0.855072463768116,
          0.8529411764705882,
          0.8507462686567164,
          0.8484848484848485,
          0.8461538461538461,
          0.84375,
          0.8571428571428571,
          0.8548387096774194,
          0.8524590163934426,
          0.85,
          0.847457627118644,
          0.8620689655172413,
          0.8596491228070176,
          0.875,
          0.8727272727272727,
          0.8703703703703703,
          0.8679245283018868,
          0.8653846153846154,
          0.8627450980392157,
          0.86,
          0.8571428571428571,
          0.8541666666666666,
          0.851063829787234,
          0.8478260869565217,
          0.8444444444444444,
          0.8636363636363636,
          0.8604651162790697,
          0.8571428571428571,
          0.8536585365853658,
          0.85,
          0.8461538461538461,
          0.8421052631578947,
          0.8378378378378378,
          0.8333333333333334,
          0.8285714285714286,
          0.8235294117647058,
          0.8181818181818182,
          0.84375,
          0.8387096774193549,
          0.8333333333333334,
          0.8275862068965517,
          0.8571428571428571,
          0.8518518518518519,
          0.8461538461538461,
          0.84,
          0.875,
          0.8695652173913043,
          0.9090909090909091,
          0.9047619047619048,
          0.9,
          0.8947368421052632,
          0.8888888888888888,
          0.8823529411764706,
          0.9375,
          0.9333333333333333,
          0.9285714285714286,
          0.9230769230769231,
          0.9166666666666666,
          0.9090909090909091,
          0.9,
          0.8888888888888888,
          0.875,
          0.8571428571428571,
          0.8333333333333334,
          0.8,
          0.75,
          0.6666666666666666,
          0.5,
          0,
          1
         ],
         "yaxis": "y4"
        }
       ],
       "layout": {
        "annotations": [
         {
          "font": {
           "color": "white",
           "size": 14
          },
          "showarrow": false,
          "text": "Confusion Matrix",
          "x": 0.225,
          "xanchor": "center",
          "xref": "paper",
          "y": 1,
          "yanchor": "bottom",
          "yref": "paper"
         },
         {
          "font": {
           "color": "white",
           "size": 14
          },
          "showarrow": false,
          "text": "Metrics",
          "x": 0.775,
          "xanchor": "center",
          "xref": "paper",
          "y": 1,
          "yanchor": "bottom",
          "yref": "paper"
         },
         {
          "font": {
           "color": "white",
           "size": 14
          },
          "showarrow": false,
          "text": "ROC curve (0.917)",
          "x": 0.225,
          "xanchor": "center",
          "xref": "paper",
          "y": 0.375,
          "yanchor": "bottom",
          "yref": "paper"
         },
         {
          "font": {
           "color": "white",
           "size": 14
          },
          "showarrow": false,
          "text": "Precision - Recall curve",
          "x": 0.775,
          "xanchor": "center",
          "xref": "paper",
          "y": 0.375,
          "yanchor": "bottom",
          "yref": "paper"
         }
        ],
        "autosize": false,
        "font": {
         "color": "white"
        },
        "height": 830,
        "margin": {
         "b": 195
        },
        "paper_bgcolor": "black",
        "plot_bgcolor": "black",
        "showlegend": false,
        "template": {
         "data": {
          "bar": [
           {
            "error_x": {
             "color": "#2a3f5f"
            },
            "error_y": {
             "color": "#2a3f5f"
            },
            "marker": {
             "line": {
              "color": "#E5ECF6",
              "width": 0.5
             }
            },
            "type": "bar"
           }
          ],
          "barpolar": [
           {
            "marker": {
             "line": {
              "color": "#E5ECF6",
              "width": 0.5
             }
            },
            "type": "barpolar"
           }
          ],
          "carpet": [
           {
            "aaxis": {
             "endlinecolor": "#2a3f5f",
             "gridcolor": "white",
             "linecolor": "white",
             "minorgridcolor": "white",
             "startlinecolor": "#2a3f5f"
            },
            "baxis": {
             "endlinecolor": "#2a3f5f",
             "gridcolor": "white",
             "linecolor": "white",
             "minorgridcolor": "white",
             "startlinecolor": "#2a3f5f"
            },
            "type": "carpet"
           }
          ],
          "choropleth": [
           {
            "colorbar": {
             "outlinewidth": 0,
             "ticks": ""
            },
            "type": "choropleth"
           }
          ],
          "contour": [
           {
            "colorbar": {
             "outlinewidth": 0,
             "ticks": ""
            },
            "colorscale": [
             [
              0,
              "#0d0887"
             ],
             [
              0.1111111111111111,
              "#46039f"
             ],
             [
              0.2222222222222222,
              "#7201a8"
             ],
             [
              0.3333333333333333,
              "#9c179e"
             ],
             [
              0.4444444444444444,
              "#bd3786"
             ],
             [
              0.5555555555555556,
              "#d8576b"
             ],
             [
              0.6666666666666666,
              "#ed7953"
             ],
             [
              0.7777777777777778,
              "#fb9f3a"
             ],
             [
              0.8888888888888888,
              "#fdca26"
             ],
             [
              1,
              "#f0f921"
             ]
            ],
            "type": "contour"
           }
          ],
          "contourcarpet": [
           {
            "colorbar": {
             "outlinewidth": 0,
             "ticks": ""
            },
            "type": "contourcarpet"
           }
          ],
          "heatmap": [
           {
            "colorbar": {
             "outlinewidth": 0,
             "ticks": ""
            },
            "colorscale": [
             [
              0,
              "#0d0887"
             ],
             [
              0.1111111111111111,
              "#46039f"
             ],
             [
              0.2222222222222222,
              "#7201a8"
             ],
             [
              0.3333333333333333,
              "#9c179e"
             ],
             [
              0.4444444444444444,
              "#bd3786"
             ],
             [
              0.5555555555555556,
              "#d8576b"
             ],
             [
              0.6666666666666666,
              "#ed7953"
             ],
             [
              0.7777777777777778,
              "#fb9f3a"
             ],
             [
              0.8888888888888888,
              "#fdca26"
             ],
             [
              1,
              "#f0f921"
             ]
            ],
            "type": "heatmap"
           }
          ],
          "heatmapgl": [
           {
            "colorbar": {
             "outlinewidth": 0,
             "ticks": ""
            },
            "colorscale": [
             [
              0,
              "#0d0887"
             ],
             [
              0.1111111111111111,
              "#46039f"
             ],
             [
              0.2222222222222222,
              "#7201a8"
             ],
             [
              0.3333333333333333,
              "#9c179e"
             ],
             [
              0.4444444444444444,
              "#bd3786"
             ],
             [
              0.5555555555555556,
              "#d8576b"
             ],
             [
              0.6666666666666666,
              "#ed7953"
             ],
             [
              0.7777777777777778,
              "#fb9f3a"
             ],
             [
              0.8888888888888888,
              "#fdca26"
             ],
             [
              1,
              "#f0f921"
             ]
            ],
            "type": "heatmapgl"
           }
          ],
          "histogram": [
           {
            "marker": {
             "colorbar": {
              "outlinewidth": 0,
              "ticks": ""
             }
            },
            "type": "histogram"
           }
          ],
          "histogram2d": [
           {
            "colorbar": {
             "outlinewidth": 0,
             "ticks": ""
            },
            "colorscale": [
             [
              0,
              "#0d0887"
             ],
             [
              0.1111111111111111,
              "#46039f"
             ],
             [
              0.2222222222222222,
              "#7201a8"
             ],
             [
              0.3333333333333333,
              "#9c179e"
             ],
             [
              0.4444444444444444,
              "#bd3786"
             ],
             [
              0.5555555555555556,
              "#d8576b"
             ],
             [
              0.6666666666666666,
              "#ed7953"
             ],
             [
              0.7777777777777778,
              "#fb9f3a"
             ],
             [
              0.8888888888888888,
              "#fdca26"
             ],
             [
              1,
              "#f0f921"
             ]
            ],
            "type": "histogram2d"
           }
          ],
          "histogram2dcontour": [
           {
            "colorbar": {
             "outlinewidth": 0,
             "ticks": ""
            },
            "colorscale": [
             [
              0,
              "#0d0887"
             ],
             [
              0.1111111111111111,
              "#46039f"
             ],
             [
              0.2222222222222222,
              "#7201a8"
             ],
             [
              0.3333333333333333,
              "#9c179e"
             ],
             [
              0.4444444444444444,
              "#bd3786"
             ],
             [
              0.5555555555555556,
              "#d8576b"
             ],
             [
              0.6666666666666666,
              "#ed7953"
             ],
             [
              0.7777777777777778,
              "#fb9f3a"
             ],
             [
              0.8888888888888888,
              "#fdca26"
             ],
             [
              1,
              "#f0f921"
             ]
            ],
            "type": "histogram2dcontour"
           }
          ],
          "mesh3d": [
           {
            "colorbar": {
             "outlinewidth": 0,
             "ticks": ""
            },
            "type": "mesh3d"
           }
          ],
          "parcoords": [
           {
            "line": {
             "colorbar": {
              "outlinewidth": 0,
              "ticks": ""
             }
            },
            "type": "parcoords"
           }
          ],
          "pie": [
           {
            "automargin": true,
            "type": "pie"
           }
          ],
          "scatter": [
           {
            "marker": {
             "colorbar": {
              "outlinewidth": 0,
              "ticks": ""
             }
            },
            "type": "scatter"
           }
          ],
          "scatter3d": [
           {
            "line": {
             "colorbar": {
              "outlinewidth": 0,
              "ticks": ""
             }
            },
            "marker": {
             "colorbar": {
              "outlinewidth": 0,
              "ticks": ""
             }
            },
            "type": "scatter3d"
           }
          ],
          "scattercarpet": [
           {
            "marker": {
             "colorbar": {
              "outlinewidth": 0,
              "ticks": ""
             }
            },
            "type": "scattercarpet"
           }
          ],
          "scattergeo": [
           {
            "marker": {
             "colorbar": {
              "outlinewidth": 0,
              "ticks": ""
             }
            },
            "type": "scattergeo"
           }
          ],
          "scattergl": [
           {
            "marker": {
             "colorbar": {
              "outlinewidth": 0,
              "ticks": ""
             }
            },
            "type": "scattergl"
           }
          ],
          "scattermapbox": [
           {
            "marker": {
             "colorbar": {
              "outlinewidth": 0,
              "ticks": ""
             }
            },
            "type": "scattermapbox"
           }
          ],
          "scatterpolar": [
           {
            "marker": {
             "colorbar": {
              "outlinewidth": 0,
              "ticks": ""
             }
            },
            "type": "scatterpolar"
           }
          ],
          "scatterpolargl": [
           {
            "marker": {
             "colorbar": {
              "outlinewidth": 0,
              "ticks": ""
             }
            },
            "type": "scatterpolargl"
           }
          ],
          "scatterternary": [
           {
            "marker": {
             "colorbar": {
              "outlinewidth": 0,
              "ticks": ""
             }
            },
            "type": "scatterternary"
           }
          ],
          "surface": [
           {
            "colorbar": {
             "outlinewidth": 0,
             "ticks": ""
            },
            "colorscale": [
             [
              0,
              "#0d0887"
             ],
             [
              0.1111111111111111,
              "#46039f"
             ],
             [
              0.2222222222222222,
              "#7201a8"
             ],
             [
              0.3333333333333333,
              "#9c179e"
             ],
             [
              0.4444444444444444,
              "#bd3786"
             ],
             [
              0.5555555555555556,
              "#d8576b"
             ],
             [
              0.6666666666666666,
              "#ed7953"
             ],
             [
              0.7777777777777778,
              "#fb9f3a"
             ],
             [
              0.8888888888888888,
              "#fdca26"
             ],
             [
              1,
              "#f0f921"
             ]
            ],
            "type": "surface"
           }
          ],
          "table": [
           {
            "cells": {
             "fill": {
              "color": "#EBF0F8"
             },
             "line": {
              "color": "white"
             }
            },
            "header": {
             "fill": {
              "color": "#C8D4E3"
             },
             "line": {
              "color": "white"
             }
            },
            "type": "table"
           }
          ]
         },
         "layout": {
          "annotationdefaults": {
           "arrowcolor": "#2a3f5f",
           "arrowhead": 0,
           "arrowwidth": 1
          },
          "coloraxis": {
           "colorbar": {
            "outlinewidth": 0,
            "ticks": ""
           }
          },
          "colorscale": {
           "diverging": [
            [
             0,
             "#8e0152"
            ],
            [
             0.1,
             "#c51b7d"
            ],
            [
             0.2,
             "#de77ae"
            ],
            [
             0.3,
             "#f1b6da"
            ],
            [
             0.4,
             "#fde0ef"
            ],
            [
             0.5,
             "#f7f7f7"
            ],
            [
             0.6,
             "#e6f5d0"
            ],
            [
             0.7,
             "#b8e186"
            ],
            [
             0.8,
             "#7fbc41"
            ],
            [
             0.9,
             "#4d9221"
            ],
            [
             1,
             "#276419"
            ]
           ],
           "sequential": [
            [
             0,
             "#0d0887"
            ],
            [
             0.1111111111111111,
             "#46039f"
            ],
            [
             0.2222222222222222,
             "#7201a8"
            ],
            [
             0.3333333333333333,
             "#9c179e"
            ],
            [
             0.4444444444444444,
             "#bd3786"
            ],
            [
             0.5555555555555556,
             "#d8576b"
            ],
            [
             0.6666666666666666,
             "#ed7953"
            ],
            [
             0.7777777777777778,
             "#fb9f3a"
            ],
            [
             0.8888888888888888,
             "#fdca26"
            ],
            [
             1,
             "#f0f921"
            ]
           ],
           "sequentialminus": [
            [
             0,
             "#0d0887"
            ],
            [
             0.1111111111111111,
             "#46039f"
            ],
            [
             0.2222222222222222,
             "#7201a8"
            ],
            [
             0.3333333333333333,
             "#9c179e"
            ],
            [
             0.4444444444444444,
             "#bd3786"
            ],
            [
             0.5555555555555556,
             "#d8576b"
            ],
            [
             0.6666666666666666,
             "#ed7953"
            ],
            [
             0.7777777777777778,
             "#fb9f3a"
            ],
            [
             0.8888888888888888,
             "#fdca26"
            ],
            [
             1,
             "#f0f921"
            ]
           ]
          },
          "colorway": [
           "#636efa",
           "#EF553B",
           "#00cc96",
           "#ab63fa",
           "#FFA15A",
           "#19d3f3",
           "#FF6692",
           "#B6E880",
           "#FF97FF",
           "#FECB52"
          ],
          "font": {
           "color": "#2a3f5f"
          },
          "geo": {
           "bgcolor": "white",
           "lakecolor": "white",
           "landcolor": "#E5ECF6",
           "showlakes": true,
           "showland": true,
           "subunitcolor": "white"
          },
          "hoverlabel": {
           "align": "left"
          },
          "hovermode": "closest",
          "mapbox": {
           "style": "light"
          },
          "paper_bgcolor": "white",
          "plot_bgcolor": "#E5ECF6",
          "polar": {
           "angularaxis": {
            "gridcolor": "white",
            "linecolor": "white",
            "ticks": ""
           },
           "bgcolor": "#E5ECF6",
           "radialaxis": {
            "gridcolor": "white",
            "linecolor": "white",
            "ticks": ""
           }
          },
          "scene": {
           "xaxis": {
            "backgroundcolor": "#E5ECF6",
            "gridcolor": "white",
            "gridwidth": 2,
            "linecolor": "white",
            "showbackground": true,
            "ticks": "",
            "zerolinecolor": "white"
           },
           "yaxis": {
            "backgroundcolor": "#E5ECF6",
            "gridcolor": "white",
            "gridwidth": 2,
            "linecolor": "white",
            "showbackground": true,
            "ticks": "",
            "zerolinecolor": "white"
           },
           "zaxis": {
            "backgroundcolor": "#E5ECF6",
            "gridcolor": "white",
            "gridwidth": 2,
            "linecolor": "white",
            "showbackground": true,
            "ticks": "",
            "zerolinecolor": "white"
           }
          },
          "shapedefaults": {
           "line": {
            "color": "#2a3f5f"
           }
          },
          "ternary": {
           "aaxis": {
            "gridcolor": "white",
            "linecolor": "white",
            "ticks": ""
           },
           "baxis": {
            "gridcolor": "white",
            "linecolor": "white",
            "ticks": ""
           },
           "bgcolor": "#E5ECF6",
           "caxis": {
            "gridcolor": "white",
            "linecolor": "white",
            "ticks": ""
           }
          },
          "title": {
           "x": 0.05
          },
          "xaxis": {
           "automargin": true,
           "gridcolor": "white",
           "linecolor": "white",
           "ticks": "",
           "title": {
            "standoff": 15
           },
           "zerolinecolor": "white",
           "zerolinewidth": 2
          },
          "yaxis": {
           "automargin": true,
           "gridcolor": "white",
           "linecolor": "white",
           "ticks": "",
           "title": {
            "standoff": 15
           },
           "zerolinecolor": "white",
           "zerolinewidth": 2
          }
         }
        },
        "title": {
         "text": "<b>Model performance report (5 folds)</b><br>LightGBM"
        },
        "width": 830,
        "xaxis": {
         "anchor": "y",
         "color": "white",
         "domain": [
          0,
          0.45
         ]
        },
        "xaxis2": {
         "anchor": "y2",
         "color": "white",
         "domain": [
          0.55,
          1
         ],
         "range": [
          0,
          1
         ]
        },
        "xaxis3": {
         "anchor": "y3",
         "color": "white",
         "domain": [
          0,
          0.45
         ],
         "title": {
          "text": "false positive rate"
         }
        },
        "xaxis4": {
         "anchor": "y4",
         "color": "white",
         "domain": [
          0.55,
          1
         ],
         "range": [
          0,
          1.05
         ],
         "title": {
          "text": "recall"
         }
        },
        "yaxis": {
         "anchor": "x",
         "color": "white",
         "domain": [
          0.625,
          1
         ]
        },
        "yaxis2": {
         "anchor": "x2",
         "color": "white",
         "domain": [
          0.625,
          1
         ]
        },
        "yaxis3": {
         "anchor": "x3",
         "color": "white",
         "domain": [
          0,
          0.375
         ],
         "title": {
          "text": "true positive rate"
         }
        },
        "yaxis4": {
         "anchor": "x4",
         "color": "white",
         "domain": [
          0,
          0.375
         ],
         "range": [
          0,
          1.05
         ],
         "title": {
          "text": "precision"
         }
        }
       }
      },
      "text/html": [
       "<div>\n",
       "        \n",
       "        \n",
       "            <div id=\"b6453091-7349-4228-9f2e-136b26c96bff\" class=\"plotly-graph-div\" style=\"height:830px; width:830px;\"></div>\n",
       "            <script type=\"text/javascript\">\n",
       "                require([\"plotly\"], function(Plotly) {\n",
       "                    window.PLOTLYENV=window.PLOTLYENV || {};\n",
       "                    \n",
       "                if (document.getElementById(\"b6453091-7349-4228-9f2e-136b26c96bff\")) {\n",
       "                    Plotly.newPlot(\n",
       "                        'b6453091-7349-4228-9f2e-136b26c96bff',\n",
       "                        [{\"colorscale\": [[0.0, \"#440154\"], [0.1111111111111111, \"#482878\"], [0.2222222222222222, \"#3e4989\"], [0.3333333333333333, \"#31688e\"], [0.4444444444444444, \"#26828e\"], [0.5555555555555556, \"#1f9e89\"], [0.6666666666666666, \"#35b779\"], [0.7777777777777778, \"#6ece58\"], [0.8888888888888888, \"#b5de2b\"], [1.0, \"#fde725\"]], \"showscale\": false, \"type\": \"heatmap\", \"x\": [\"0 (pred)\", \"1 (pred)\"], \"xaxis\": \"x\", \"xgap\": 2, \"y\": [\"0 (true)\", \"1 (true)\"], \"yaxis\": \"y\", \"ygap\": 2, \"z\": [[443, 57], [58, 210]]}, {\"marker\": {\"color\": [\"gold\", \"lightgreen\", \"lightcoral\", \"lightskyblue\"], \"line\": {\"color\": \"#000000\", \"width\": 1.5}}, \"opacity\": 1, \"orientation\": \"h\", \"text\": [0.8503, 0.7865, 0.7836, 0.785], \"textfont\": {\"color\": \"black\"}, \"textposition\": \"auto\", \"type\": \"bar\", \"x\": [0.8502604166666666, 0.7865168539325843, 0.7835820895522388, 0.7850467289719626], \"xaxis\": \"x2\", \"y\": [\"Accuracy\", \"Precision\", \"Recall\", \"F1_score\"], \"yaxis\": \"y2\"}, {\"fill\": \"tozeroy\", \"line\": {\"color\": \"rgb(22, 96, 167)\", \"width\": 2}, \"name\": \"Roc : \", \"type\": \"scatter\", \"x\": [0.0, 0.010101010101010102, 0.020202020202020204, 0.030303030303030304, 0.04040404040404041, 0.05050505050505051, 0.06060606060606061, 0.07070707070707072, 0.08080808080808081, 0.09090909090909091, 0.10101010101010102, 0.11111111111111112, 0.12121212121212122, 0.13131313131313133, 0.14141414141414144, 0.15151515151515152, 0.16161616161616163, 0.17171717171717174, 0.18181818181818182, 0.19191919191919193, 0.20202020202020204, 0.21212121212121213, 0.22222222222222224, 0.23232323232323235, 0.24242424242424243, 0.25252525252525254, 0.26262626262626265, 0.27272727272727276, 0.2828282828282829, 0.29292929292929293, 0.30303030303030304, 0.31313131313131315, 0.32323232323232326, 0.33333333333333337, 0.3434343434343435, 0.3535353535353536, 0.36363636363636365, 0.37373737373737376, 0.38383838383838387, 0.393939393939394, 0.4040404040404041, 0.4141414141414142, 0.42424242424242425, 0.43434343434343436, 0.4444444444444445, 0.4545454545454546, 0.4646464646464647, 0.4747474747474748, 0.48484848484848486, 0.494949494949495, 0.5050505050505051, 0.5151515151515152, 0.5252525252525253, 0.5353535353535354, 0.5454545454545455, 0.5555555555555556, 0.5656565656565657, 0.5757575757575758, 0.5858585858585859, 0.595959595959596, 0.6060606060606061, 0.6161616161616162, 0.6262626262626263, 0.6363636363636365, 0.6464646464646465, 0.6565656565656566, 0.6666666666666667, 0.6767676767676768, 0.686868686868687, 0.696969696969697, 0.7070707070707072, 0.7171717171717172, 0.7272727272727273, 0.7373737373737375, 0.7474747474747475, 0.7575757575757577, 0.7676767676767677, 0.7777777777777778, 0.787878787878788, 0.797979797979798, 0.8080808080808082, 0.8181818181818182, 0.8282828282828284, 0.8383838383838385, 0.8484848484848485, 0.8585858585858587, 0.8686868686868687, 0.8787878787878789, 0.888888888888889, 0.8989898989898991, 0.9090909090909092, 0.9191919191919192, 0.9292929292929294, 0.9393939393939394, 0.9494949494949496, 0.9595959595959597, 0.9696969696969697, 0.9797979797979799, 0.98989898989899, 1.0], \"xaxis\": \"x3\", \"y\": [0.19548935432758965, 0.19548935432758965, 0.36312211046034576, 0.45132063987211046, 0.4986655172169877, 0.6185412174970998, 0.6475849885408709, 0.6773766552075375, 0.7083898827207651, 0.7242232160540985, 0.794244068839657, 0.8054561900517783, 0.8402601116204057, 0.8507363020965963, 0.8671510624451801, 0.8738177291118469, 0.881688099482217, 0.8883547661488838, 0.8962251365192542, 0.9028918031859208, 0.9070584698525875, 0.912940822793764, 0.9174862773392185, 0.9174862773392185, 0.9211899810429223, 0.9211899810429223, 0.9245233143762557, 0.9316661715191128, 0.9316661715191128, 0.9316661715191128, 0.9349995048524461, 0.9349995048524461, 0.9387032085561497, 0.9518772281639929, 0.9552105614973263, 0.9581517379679145, 0.9581517379679145, 0.9581517379679145, 0.9581517379679145, 0.9581517379679145, 0.9610929144385028, 0.9677595811051694, 0.9677595811051694, 0.9677595811051694, 0.9708845811051694, 0.9708845811051694, 0.9708845811051694, 0.975430035650624, 0.975430035650624, 0.975430035650624, 0.975430035650624, 0.975430035650624, 0.975430035650624, 0.975430035650624, 0.975430035650624, 0.975430035650624, 0.975430035650624, 0.975430035650624, 0.975430035650624, 0.975430035650624, 0.975430035650624, 0.975430035650624, 0.975430035650624, 0.975430035650624, 0.9787633689839573, 0.9787633689839573, 0.9787633689839573, 0.9787633689839573, 0.9787633689839573, 0.9787633689839573, 0.9787633689839573, 0.9787633689839573, 0.9787633689839573, 0.9787633689839573, 0.9787633689839573, 0.9818883689839574, 0.9848295454545456, 0.9848295454545456, 0.9848295454545456, 0.9848295454545456, 0.9923295454545455, 0.9923295454545455, 0.9923295454545455, 0.9923295454545455, 0.9954545454545455, 0.9954545454545455, 0.9954545454545455, 0.9954545454545455, 0.9954545454545455, 0.9954545454545455, 0.9954545454545455, 0.9954545454545455, 0.9954545454545455, 0.9954545454545455, 0.9954545454545455, 0.9954545454545455, 0.9954545454545455, 0.9954545454545455, 1.0, 1.0], \"yaxis\": \"y3\"}, {\"line\": {\"color\": \"black\", \"dash\": \"dot\", \"width\": 1.5}, \"type\": \"scatter\", \"x\": [0, 1], \"xaxis\": \"x3\", \"y\": [0, 1], \"yaxis\": \"y3\"}, {\"fill\": \"tozeroy\", \"line\": {\"color\": \"lightcoral\", \"width\": 2}, \"name\": \"Precision[0.35496689 0.35411141 0.35458167 0.35505319 0.35552597 0.356\\n 0.3564753  0.35695187 0.35742972 0.35790885 0.35838926 0.35887097\\n 0.35935397 0.35983827 0.36032389 0.36081081 0.36129905 0.36178862\\n 0.36227951 0.36277174 0.36326531 0.36376022 0.36425648 0.3647541\\n 0.36525308 0.36575342 0.36625514 0.36675824 0.36726272 0.3677686\\n 0.36827586 0.36878453 0.36929461 0.36980609 0.370319   0.37083333\\n 0.3713491  0.3718663  0.37238494 0.37290503 0.37342657 0.37394958\\n 0.37447405 0.375      0.37552743 0.37605634 0.37658674 0.37711864\\n 0.37623762 0.37677054 0.37588652 0.37642045 0.3769559  0.37749288\\n 0.37803138 0.37857143 0.37911302 0.37965616 0.38020086 0.38074713\\n 0.38129496 0.38184438 0.38239538 0.38294798 0.38350217 0.38405797\\n 0.38461538 0.38517442 0.38573508 0.38629738 0.38686131 0.3874269\\n 0.38799414 0.38856305 0.38913363 0.38970588 0.39027982 0.39085546\\n 0.39143279 0.39201183 0.39259259 0.39317507 0.39375929 0.39434524\\n 0.39493294 0.39552239 0.3961136  0.39670659 0.39730135 0.3978979\\n 0.39849624 0.39909639 0.39969834 0.40030211 0.40090772 0.40151515\\n 0.40212443 0.40273556 0.40334855 0.40396341 0.40458015 0.40519878\\n 0.4058193  0.40644172 0.40706605 0.40769231 0.40832049 0.40895062\\n 0.40958269 0.41021672 0.41085271 0.41149068 0.41213064 0.41277259\\n 0.41341654 0.4140625  0.41471049 0.4153605  0.41601256 0.41666667\\n 0.41732283 0.41798107 0.41706161 0.41772152 0.41838352 0.41904762\\n 0.41971383 0.42038217 0.42105263 0.42172524 0.4224     0.42307692\\n 0.42375602 0.4244373  0.42512077 0.42580645 0.42649435 0.42556634\\n 0.42625608 0.42694805 0.42764228 0.42833876 0.42903752 0.42973856\\n 0.42880524 0.4295082  0.43021346 0.43092105 0.43163097 0.43234323\\n 0.43305785 0.43377483 0.4344942  0.43521595 0.4359401  0.43666667\\n 0.43739566 0.43812709 0.43886097 0.43959732 0.44033613 0.44107744\\n 0.44182125 0.44256757 0.44331641 0.4440678  0.44482173 0.44557823\\n 0.44633731 0.44709898 0.44786325 0.44863014 0.44939966 0.45017182\\n 0.45094664 0.45172414 0.45250432 0.4532872  0.45407279 0.45486111\\n 0.45565217 0.45644599 0.45724258 0.45804196 0.45884413 0.45964912\\n 0.46045694 0.46126761 0.46208113 0.46289753 0.46371681 0.46453901\\n 0.46358792 0.46441281 0.46524064 0.46607143 0.46690519 0.46774194\\n 0.46858169 0.46942446 0.47027027 0.47111913 0.47197107 0.47282609\\n 0.47368421 0.47454545 0.47540984 0.47627737 0.47714808 0.47802198\\n 0.47889908 0.47977941 0.48066298 0.48154982 0.48243993 0.48333333\\n 0.48423006 0.48513011 0.48603352 0.4869403  0.48785047 0.48876404\\n 0.48968105 0.4906015  0.48964218 0.48867925 0.48960302 0.4905303\\n 0.4914611  0.49239544 0.49333333 0.49427481 0.49521989 0.49616858\\n 0.49712092 0.49807692 0.49903661 0.5        0.50096712 0.50193798\\n 0.50291262 0.50389105 0.50487329 0.50585938 0.50684932 0.50784314\\n 0.50884086 0.50787402 0.50887574 0.50988142 0.50891089 0.50992063\\n 0.51093439 0.51195219 0.51297405 0.514      0.51503006 0.51606426\\n 0.51710262 0.51814516 0.51919192 0.52024291 0.52129817 0.52235772\\n 0.52342159 0.5244898  0.52556237 0.52663934 0.52566735 0.52674897\\n 0.52783505 0.52892562 0.5300207  0.53112033 0.53222453 0.53333333\\n 0.53444676 0.53556485 0.53668763 0.53781513 0.53894737 0.54008439\\n 0.54122622 0.54237288 0.54352442 0.54255319 0.54371002 0.54487179\\n 0.54603854 0.54506438 0.54623656 0.54741379 0.54859611 0.54978355\\n 0.55097614 0.55217391 0.55337691 0.55458515 0.55579869 0.55701754\\n 0.55824176 0.55947137 0.5607064  0.5619469  0.5631929  0.56444444\\n 0.56570156 0.56696429 0.56823266 0.56950673 0.57078652 0.57207207\\n 0.57336343 0.57466063 0.57596372 0.57727273 0.5785877  0.57762557\\n 0.57894737 0.58027523 0.5816092  0.58294931 0.58429561 0.58564815\\n 0.58468677 0.58604651 0.58741259 0.58878505 0.58782201 0.58920188\\n 0.59058824 0.59198113 0.59338061 0.59478673 0.59619952 0.59761905\\n 0.59904535 0.60047847 0.60191847 0.60336538 0.60481928 0.60628019\\n 0.60774818 0.6092233  0.6107056  0.61219512 0.61369193 0.6127451\\n 0.61425061 0.61330049 0.61481481 0.61633663 0.617866   0.61940299\\n 0.62094763 0.6225     0.62406015 0.62562814 0.62468514 0.62626263\\n 0.6278481  0.62944162 0.63104326 0.63265306 0.6342711  0.63589744\\n 0.63753213 0.63659794 0.63565891 0.6373057  0.63896104 0.640625\\n 0.64229765 0.64136126 0.64041995 0.64210526 0.64379947 0.64285714\\n 0.64456233 0.6462766  0.648      0.64973262 0.65147453 0.65322581\\n 0.65498652 0.65675676 0.65853659 0.66032609 0.66212534 0.66393443\\n 0.66575342 0.66758242 0.66942149 0.66850829 0.67036011 0.67222222\\n 0.67409471 0.67597765 0.67787115 0.67977528 0.68169014 0.68361582\\n 0.68555241 0.6875     0.68660969 0.68857143 0.69054441 0.68965517\\n 0.69164265 0.69364162 0.69565217 0.69767442 0.69970845 0.70175439\\n 0.70381232 0.70588235 0.7079646  0.71005917 0.71216617 0.71428571\\n 0.71641791 0.71556886 0.71771772 0.71987952 0.72205438 0.72424242\\n 0.72644377 0.72865854 0.73088685 0.73312883 0.73538462 0.73765432\\n 0.73684211 0.73913043 0.73831776 0.740625   0.74294671 0.74528302\\n 0.74763407 0.75       0.74920635 0.74840764 0.75079872 0.75320513\\n 0.75562701 0.75483871 0.75404531 0.75649351 0.75570033 0.75816993\\n 0.75737705 0.75986842 0.76237624 0.7615894  0.76079734 0.76333333\\n 0.76588629 0.76845638 0.76767677 0.77027027 0.76949153 0.77210884\\n 0.77474403 0.77739726 0.78006873 0.77931034 0.77854671 0.77777778\\n 0.7804878  0.78321678 0.78596491 0.78873239 0.79151943 0.79078014\\n 0.79359431 0.79642857 0.79569892 0.79856115 0.80144404 0.80434783\\n 0.80727273 0.80656934 0.80586081 0.80514706 0.80442804 0.80740741\\n 0.81040892 0.80970149 0.81273408 0.81203008 0.81509434 0.81818182\\n 0.82129278 0.82442748 0.82758621 0.83076923 0.83011583 0.82945736\\n 0.83268482 0.83203125 0.83137255 0.83464567 0.83794466 0.83730159\\n 0.83665339 0.836      0.83534137 0.83467742 0.83805668 0.83739837\\n 0.83673469 0.83606557 0.83539095 0.83471074 0.8340249  0.8375\\n 0.84100418 0.84033613 0.83966245 0.83898305 0.83829787 0.84188034\\n 0.84120172 0.84051724 0.84415584 0.84347826 0.84279476 0.84210526\\n 0.84140969 0.84070796 0.84       0.84375    0.84304933 0.84234234\\n 0.84615385 0.84545455 0.84931507 0.85321101 0.85253456 0.85185185\\n 0.85116279 0.85046729 0.84976526 0.8490566  0.85308057 0.85714286\\n 0.85645933 0.85576923 0.85507246 0.85436893 0.85853659 0.85784314\\n 0.85714286 0.86138614 0.86069652 0.86       0.85929648 0.85858586\\n 0.85786802 0.8622449  0.86666667 0.87113402 0.87046632 0.86979167\\n 0.86910995 0.86842105 0.86772487 0.86702128 0.86631016 0.8655914\\n 0.87027027 0.86956522 0.86885246 0.86813187 0.87292818 0.87222222\\n 0.87150838 0.87078652 0.8700565  0.875      0.87428571 0.87356322\\n 0.87283237 0.87209302 0.87134503 0.87058824 0.86982249 0.86904762\\n 0.86826347 0.86746988 0.87272727 0.87195122 0.87116564 0.87037037\\n 0.86956522 0.86875    0.86792453 0.86708861 0.86624204 0.86538462\\n 0.86451613 0.87012987 0.86928105 0.86842105 0.86754967 0.86666667\\n 0.86577181 0.86486486 0.86394558 0.8630137  0.86206897 0.86111111\\n 0.86013986 0.85915493 0.85815603 0.85714286 0.85611511 0.86231884\\n 0.86131387 0.86029412 0.85925926 0.86567164 0.86466165 0.87121212\\n 0.8778626  0.87692308 0.87596899 0.875      0.87401575 0.87301587\\n 0.872      0.87096774 0.8699187  0.87704918 0.87603306 0.875\\n 0.87394958 0.87288136 0.87179487 0.87068966 0.86956522 0.86842105\\n 0.86725664 0.86607143 0.86486486 0.86363636 0.86238532 0.86111111\\n 0.85981308 0.85849057 0.86666667 0.86538462 0.87378641 0.87254902\\n 0.87128713 0.87       0.86868687 0.86734694 0.86597938 0.86458333\\n 0.86315789 0.86170213 0.86021505 0.85869565 0.85714286 0.85555556\\n 0.85393258 0.85227273 0.85057471 0.84883721 0.85882353 0.85714286\\n 0.85542169 0.85365854 0.86419753 0.8625     0.86075949 0.85897436\\n 0.87012987 0.86842105 0.86666667 0.86486486 0.8630137  0.86111111\\n 0.85915493 0.85714286 0.85507246 0.85294118 0.85074627 0.84848485\\n 0.84615385 0.84375    0.85714286 0.85483871 0.85245902 0.85\\n 0.84745763 0.86206897 0.85964912 0.875      0.87272727 0.87037037\\n 0.86792453 0.86538462 0.8627451  0.86       0.85714286 0.85416667\\n 0.85106383 0.84782609 0.84444444 0.86363636 0.86046512 0.85714286\\n 0.85365854 0.85       0.84615385 0.84210526 0.83783784 0.83333333\\n 0.82857143 0.82352941 0.81818182 0.84375    0.83870968 0.83333333\\n 0.82758621 0.85714286 0.85185185 0.84615385 0.84       0.875\\n 0.86956522 0.90909091 0.9047619  0.9        0.89473684 0.88888889\\n 0.88235294 0.9375     0.93333333 0.92857143 0.92307692 0.91666667\\n 0.90909091 0.9        0.88888889 0.875      0.85714286 0.83333333\\n 0.8        0.75       0.66666667 0.5        0.         1.        ]\", \"type\": \"scatter\", \"x\": [1.0, 0.996268656716418, 0.996268656716418, 0.996268656716418, 0.996268656716418, 0.996268656716418, 0.996268656716418, 0.996268656716418, 0.996268656716418, 0.996268656716418, 0.996268656716418, 0.996268656716418, 0.996268656716418, 0.996268656716418, 0.996268656716418, 0.996268656716418, 0.996268656716418, 0.996268656716418, 0.996268656716418, 0.996268656716418, 0.996268656716418, 0.996268656716418, 0.996268656716418, 0.996268656716418, 0.996268656716418, 0.996268656716418, 0.996268656716418, 0.996268656716418, 0.996268656716418, 0.996268656716418, 0.996268656716418, 0.996268656716418, 0.996268656716418, 0.996268656716418, 0.996268656716418, 0.996268656716418, 0.996268656716418, 0.996268656716418, 0.996268656716418, 0.996268656716418, 0.996268656716418, 0.996268656716418, 0.996268656716418, 0.996268656716418, 0.996268656716418, 0.996268656716418, 0.996268656716418, 0.996268656716418, 0.9925373134328358, 0.9925373134328358, 0.9888059701492538, 0.9888059701492538, 0.9888059701492538, 0.9888059701492538, 0.9888059701492538, 0.9888059701492538, 0.9888059701492538, 0.9888059701492538, 0.9888059701492538, 0.9888059701492538, 0.9888059701492538, 0.9888059701492538, 0.9888059701492538, 0.9888059701492538, 0.9888059701492538, 0.9888059701492538, 0.9888059701492538, 0.9888059701492538, 0.9888059701492538, 0.9888059701492538, 0.9888059701492538, 0.9888059701492538, 0.9888059701492538, 0.9888059701492538, 0.9888059701492538, 0.9888059701492538, 0.9888059701492538, 0.9888059701492538, 0.9888059701492538, 0.9888059701492538, 0.9888059701492538, 0.9888059701492538, 0.9888059701492538, 0.9888059701492538, 0.9888059701492538, 0.9888059701492538, 0.9888059701492538, 0.9888059701492538, 0.9888059701492538, 0.9888059701492538, 0.9888059701492538, 0.9888059701492538, 0.9888059701492538, 0.9888059701492538, 0.9888059701492538, 0.9888059701492538, 0.9888059701492538, 0.9888059701492538, 0.9888059701492538, 0.9888059701492538, 0.9888059701492538, 0.9888059701492538, 0.9888059701492538, 0.9888059701492538, 0.9888059701492538, 0.9888059701492538, 0.9888059701492538, 0.9888059701492538, 0.9888059701492538, 0.9888059701492538, 0.9888059701492538, 0.9888059701492538, 0.9888059701492538, 0.9888059701492538, 0.9888059701492538, 0.9888059701492538, 0.9888059701492538, 0.9888059701492538, 0.9888059701492538, 0.9888059701492538, 0.9888059701492538, 0.9888059701492538, 0.9850746268656716, 0.9850746268656716, 0.9850746268656716, 0.9850746268656716, 0.9850746268656716, 0.9850746268656716, 0.9850746268656716, 0.9850746268656716, 0.9850746268656716, 0.9850746268656716, 0.9850746268656716, 0.9850746268656716, 0.9850746268656716, 0.9850746268656716, 0.9850746268656716, 0.9813432835820896, 0.9813432835820896, 0.9813432835820896, 0.9813432835820896, 0.9813432835820896, 0.9813432835820896, 0.9813432835820896, 0.9776119402985075, 0.9776119402985075, 0.9776119402985075, 0.9776119402985075, 0.9776119402985075, 0.9776119402985075, 0.9776119402985075, 0.9776119402985075, 0.9776119402985075, 0.9776119402985075, 0.9776119402985075, 0.9776119402985075, 0.9776119402985075, 0.9776119402985075, 0.9776119402985075, 0.9776119402985075, 0.9776119402985075, 0.9776119402985075, 0.9776119402985075, 0.9776119402985075, 0.9776119402985075, 0.9776119402985075, 0.9776119402985075, 0.9776119402985075, 0.9776119402985075, 0.9776119402985075, 0.9776119402985075, 0.9776119402985075, 0.9776119402985075, 0.9776119402985075, 0.9776119402985075, 0.9776119402985075, 0.9776119402985075, 0.9776119402985075, 0.9776119402985075, 0.9776119402985075, 0.9776119402985075, 0.9776119402985075, 0.9776119402985075, 0.9776119402985075, 0.9776119402985075, 0.9776119402985075, 0.9776119402985075, 0.9776119402985075, 0.9776119402985075, 0.9776119402985075, 0.9776119402985075, 0.9776119402985075, 0.9738805970149254, 0.9738805970149254, 0.9738805970149254, 0.9738805970149254, 0.9738805970149254, 0.9738805970149254, 0.9738805970149254, 0.9738805970149254, 0.9738805970149254, 0.9738805970149254, 0.9738805970149254, 0.9738805970149254, 0.9738805970149254, 0.9738805970149254, 0.9738805970149254, 0.9738805970149254, 0.9738805970149254, 0.9738805970149254, 0.9738805970149254, 0.9738805970149254, 0.9738805970149254, 0.9738805970149254, 0.9738805970149254, 0.9738805970149254, 0.9738805970149254, 0.9738805970149254, 0.9738805970149254, 0.9738805970149254, 0.9738805970149254, 0.9738805970149254, 0.9738805970149254, 0.9738805970149254, 0.9701492537313433, 0.9664179104477612, 0.9664179104477612, 0.9664179104477612, 0.9664179104477612, 0.9664179104477612, 0.9664179104477612, 0.9664179104477612, 0.9664179104477612, 0.9664179104477612, 0.9664179104477612, 0.9664179104477612, 0.9664179104477612, 0.9664179104477612, 0.9664179104477612, 0.9664179104477612, 0.9664179104477612, 0.9664179104477612, 0.9664179104477612, 0.9664179104477612, 0.9664179104477612, 0.9664179104477612, 0.9664179104477612, 0.9626865671641791, 0.9626865671641791, 0.9626865671641791, 0.9589552238805971, 0.9589552238805971, 0.9589552238805971, 0.9589552238805971, 0.9589552238805971, 0.9589552238805971, 0.9589552238805971, 0.9589552238805971, 0.9589552238805971, 0.9589552238805971, 0.9589552238805971, 0.9589552238805971, 0.9589552238805971, 0.9589552238805971, 0.9589552238805971, 0.9589552238805971, 0.9589552238805971, 0.9589552238805971, 0.9552238805970149, 0.9552238805970149, 0.9552238805970149, 0.9552238805970149, 0.9552238805970149, 0.9552238805970149, 0.9552238805970149, 0.9552238805970149, 0.9552238805970149, 0.9552238805970149, 0.9552238805970149, 0.9552238805970149, 0.9552238805970149, 0.9552238805970149, 0.9552238805970149, 0.9552238805970149, 0.9552238805970149, 0.9514925373134329, 0.9514925373134329, 0.9514925373134329, 0.9514925373134329, 0.9477611940298507, 0.9477611940298507, 0.9477611940298507, 0.9477611940298507, 0.9477611940298507, 0.9477611940298507, 0.9477611940298507, 0.9477611940298507, 0.9477611940298507, 0.9477611940298507, 0.9477611940298507, 0.9477611940298507, 0.9477611940298507, 0.9477611940298507, 0.9477611940298507, 0.9477611940298507, 0.9477611940298507, 0.9477611940298507, 0.9477611940298507, 0.9477611940298507, 0.9477611940298507, 0.9477611940298507, 0.9477611940298507, 0.9477611940298507, 0.9477611940298507, 0.9477611940298507, 0.9477611940298507, 0.9477611940298507, 0.9440298507462687, 0.9440298507462687, 0.9440298507462687, 0.9440298507462687, 0.9440298507462687, 0.9440298507462687, 0.9440298507462687, 0.9402985074626866, 0.9402985074626866, 0.9402985074626866, 0.9402985074626866, 0.9365671641791045, 0.9365671641791045, 0.9365671641791045, 0.9365671641791045, 0.9365671641791045, 0.9365671641791045, 0.9365671641791045, 0.9365671641791045, 0.9365671641791045, 0.9365671641791045, 0.9365671641791045, 0.9365671641791045, 0.9365671641791045, 0.9365671641791045, 0.9365671641791045, 0.9365671641791045, 0.9365671641791045, 0.9365671641791045, 0.9365671641791045, 0.9328358208955224, 0.9328358208955224, 0.9291044776119403, 0.9291044776119403, 0.9291044776119403, 0.9291044776119403, 0.9291044776119403, 0.9291044776119403, 0.9291044776119403, 0.9291044776119403, 0.9291044776119403, 0.9253731343283582, 0.9253731343283582, 0.9253731343283582, 0.9253731343283582, 0.9253731343283582, 0.9253731343283582, 0.9253731343283582, 0.9253731343283582, 0.9253731343283582, 0.9216417910447762, 0.917910447761194, 0.917910447761194, 0.917910447761194, 0.917910447761194, 0.917910447761194, 0.914179104477612, 0.9104477611940298, 0.9104477611940298, 0.9104477611940298, 0.9067164179104478, 0.9067164179104478, 0.9067164179104478, 0.9067164179104478, 0.9067164179104478, 0.9067164179104478, 0.9067164179104478, 0.9067164179104478, 0.9067164179104478, 0.9067164179104478, 0.9067164179104478, 0.9067164179104478, 0.9067164179104478, 0.9067164179104478, 0.9067164179104478, 0.9067164179104478, 0.9029850746268657, 0.9029850746268657, 0.9029850746268657, 0.9029850746268657, 0.9029850746268657, 0.9029850746268657, 0.9029850746268657, 0.9029850746268657, 0.9029850746268657, 0.9029850746268657, 0.9029850746268657, 0.8992537313432836, 0.8992537313432836, 0.8992537313432836, 0.8955223880597015, 0.8955223880597015, 0.8955223880597015, 0.8955223880597015, 0.8955223880597015, 0.8955223880597015, 0.8955223880597015, 0.8955223880597015, 0.8955223880597015, 0.8955223880597015, 0.8955223880597015, 0.8955223880597015, 0.8955223880597015, 0.8955223880597015, 0.8917910447761194, 0.8917910447761194, 0.8917910447761194, 0.8917910447761194, 0.8917910447761194, 0.8917910447761194, 0.8917910447761194, 0.8917910447761194, 0.8917910447761194, 0.8917910447761194, 0.8917910447761194, 0.8880597014925373, 0.8880597014925373, 0.8843283582089553, 0.8843283582089553, 0.8843283582089553, 0.8843283582089553, 0.8843283582089553, 0.8843283582089553, 0.8805970149253731, 0.8768656716417911, 0.8768656716417911, 0.8768656716417911, 0.8768656716417911, 0.8731343283582089, 0.8694029850746269, 0.8694029850746269, 0.8656716417910447, 0.8656716417910447, 0.8619402985074627, 0.8619402985074627, 0.8619402985074627, 0.8582089552238806, 0.8544776119402985, 0.8544776119402985, 0.8544776119402985, 0.8544776119402985, 0.8507462686567164, 0.8507462686567164, 0.8470149253731343, 0.8470149253731343, 0.8470149253731343, 0.8470149253731343, 0.8470149253731343, 0.8432835820895522, 0.8395522388059702, 0.835820895522388, 0.835820895522388, 0.835820895522388, 0.835820895522388, 0.835820895522388, 0.835820895522388, 0.832089552238806, 0.832089552238806, 0.832089552238806, 0.8283582089552238, 0.8283582089552238, 0.8283582089552238, 0.8283582089552238, 0.8283582089552238, 0.8246268656716418, 0.8208955223880597, 0.8171641791044776, 0.8134328358208955, 0.8134328358208955, 0.8134328358208955, 0.8097014925373134, 0.8097014925373134, 0.8059701492537313, 0.8059701492537313, 0.8059701492537313, 0.8059701492537313, 0.8059701492537313, 0.8059701492537313, 0.8059701492537313, 0.8022388059701493, 0.7985074626865671, 0.7985074626865671, 0.7947761194029851, 0.7910447761194029, 0.7910447761194029, 0.7910447761194029, 0.7873134328358209, 0.7835820895522388, 0.7798507462686567, 0.7761194029850746, 0.7723880597014925, 0.7723880597014925, 0.7686567164179104, 0.7649253731343284, 0.7611940298507462, 0.7574626865671642, 0.753731343283582, 0.75, 0.75, 0.75, 0.746268656716418, 0.7425373134328358, 0.7388059701492538, 0.7350746268656716, 0.7350746268656716, 0.7313432835820896, 0.7276119402985075, 0.7276119402985075, 0.7238805970149254, 0.7201492537313433, 0.7164179104477612, 0.7126865671641791, 0.7089552238805971, 0.7052238805970149, 0.7052238805970149, 0.7014925373134329, 0.6977611940298507, 0.6977611940298507, 0.6940298507462687, 0.6940298507462687, 0.6940298507462687, 0.6902985074626866, 0.6865671641791045, 0.6828358208955224, 0.6791044776119403, 0.6753731343283582, 0.6716417910447762, 0.6716417910447762, 0.6716417910447762, 0.667910447761194, 0.664179104477612, 0.6604477611940298, 0.6567164179104478, 0.6567164179104478, 0.6529850746268657, 0.6492537313432836, 0.6492537313432836, 0.6455223880597015, 0.6417910447761194, 0.6380597014925373, 0.6343283582089553, 0.6305970149253731, 0.6305970149253731, 0.6305970149253731, 0.6305970149253731, 0.6268656716417911, 0.6231343283582089, 0.6194029850746269, 0.6156716417910447, 0.6119402985074627, 0.6082089552238806, 0.6044776119402985, 0.6007462686567164, 0.6007462686567164, 0.5970149253731343, 0.5932835820895522, 0.5895522388059702, 0.5895522388059702, 0.585820895522388, 0.582089552238806, 0.5783582089552238, 0.5746268656716418, 0.5746268656716418, 0.5708955223880597, 0.5671641791044776, 0.5634328358208955, 0.5597014925373134, 0.5559701492537313, 0.5522388059701493, 0.5485074626865671, 0.5447761194029851, 0.5410447761194029, 0.5373134328358209, 0.5373134328358209, 0.5335820895522388, 0.5298507462686567, 0.5261194029850746, 0.5223880597014925, 0.5186567164179104, 0.5149253731343284, 0.5111940298507462, 0.5074626865671642, 0.503731343283582, 0.5, 0.5, 0.4962686567164179, 0.4925373134328358, 0.48880597014925375, 0.48507462686567165, 0.48134328358208955, 0.47761194029850745, 0.47388059701492535, 0.4701492537313433, 0.4664179104477612, 0.4626865671641791, 0.458955223880597, 0.4552238805970149, 0.45149253731343286, 0.44776119402985076, 0.44402985074626866, 0.44402985074626866, 0.44029850746268656, 0.43656716417910446, 0.43283582089552236, 0.43283582089552236, 0.4291044776119403, 0.4291044776119403, 0.4291044776119403, 0.4253731343283582, 0.4216417910447761, 0.417910447761194, 0.4141791044776119, 0.41044776119402987, 0.40671641791044777, 0.40298507462686567, 0.39925373134328357, 0.39925373134328357, 0.39552238805970147, 0.3917910447761194, 0.3880597014925373, 0.3843283582089552, 0.3805970149253731, 0.376865671641791, 0.373134328358209, 0.3694029850746269, 0.3656716417910448, 0.3619402985074627, 0.3582089552238806, 0.35447761194029853, 0.35074626865671643, 0.34701492537313433, 0.34328358208955223, 0.33955223880597013, 0.33955223880597013, 0.3358208955223881, 0.3358208955223881, 0.332089552238806, 0.3283582089552239, 0.3246268656716418, 0.3208955223880597, 0.31716417910447764, 0.31343283582089554, 0.30970149253731344, 0.30597014925373134, 0.30223880597014924, 0.29850746268656714, 0.2947761194029851, 0.291044776119403, 0.2873134328358209, 0.2835820895522388, 0.2798507462686567, 0.27611940298507465, 0.27238805970149255, 0.27238805970149255, 0.26865671641791045, 0.26492537313432835, 0.26119402985074625, 0.26119402985074625, 0.2574626865671642, 0.2537313432835821, 0.25, 0.25, 0.2462686567164179, 0.24253731343283583, 0.23880597014925373, 0.23507462686567165, 0.23134328358208955, 0.22761194029850745, 0.22388059701492538, 0.22014925373134328, 0.21641791044776118, 0.2126865671641791, 0.208955223880597, 0.20522388059701493, 0.20149253731343283, 0.20149253731343283, 0.19776119402985073, 0.19402985074626866, 0.19029850746268656, 0.1865671641791045, 0.1865671641791045, 0.1828358208955224, 0.1828358208955224, 0.1791044776119403, 0.17537313432835822, 0.17164179104477612, 0.16791044776119404, 0.16417910447761194, 0.16044776119402984, 0.15671641791044777, 0.15298507462686567, 0.14925373134328357, 0.1455223880597015, 0.1417910447761194, 0.1417910447761194, 0.13805970149253732, 0.13432835820895522, 0.13059701492537312, 0.12686567164179105, 0.12313432835820895, 0.11940298507462686, 0.11567164179104478, 0.11194029850746269, 0.10820895522388059, 0.1044776119402985, 0.10074626865671642, 0.10074626865671642, 0.09701492537313433, 0.09328358208955224, 0.08955223880597014, 0.08955223880597014, 0.08582089552238806, 0.08208955223880597, 0.07835820895522388, 0.07835820895522388, 0.07462686567164178, 0.07462686567164178, 0.0708955223880597, 0.06716417910447761, 0.06343283582089553, 0.05970149253731343, 0.055970149253731345, 0.055970149253731345, 0.05223880597014925, 0.048507462686567165, 0.04477611940298507, 0.041044776119402986, 0.03731343283582089, 0.033582089552238806, 0.029850746268656716, 0.026119402985074626, 0.022388059701492536, 0.018656716417910446, 0.014925373134328358, 0.011194029850746268, 0.007462686567164179, 0.0037313432835820895, 0.0, 0.0], \"xaxis\": \"x4\", \"y\": [0.35496688741721855, 0.3541114058355438, 0.3545816733067729, 0.3550531914893617, 0.355525965379494, 0.356, 0.35647530040053405, 0.356951871657754, 0.357429718875502, 0.3579088471849866, 0.35838926174496644, 0.3588709677419355, 0.35935397039030953, 0.35983827493261455, 0.3603238866396761, 0.3608108108108108, 0.36129905277401897, 0.3617886178861789, 0.3622795115332429, 0.36277173913043476, 0.363265306122449, 0.3637602179836512, 0.36425648021828105, 0.36475409836065575, 0.3652530779753762, 0.36575342465753424, 0.3662551440329218, 0.36675824175824173, 0.3672627235213205, 0.3677685950413223, 0.3682758620689655, 0.3687845303867403, 0.36929460580912865, 0.3698060941828255, 0.37031900138696255, 0.37083333333333335, 0.3713490959666203, 0.37186629526462395, 0.3723849372384937, 0.3729050279329609, 0.3734265734265734, 0.3739495798319328, 0.3744740532959327, 0.375, 0.3755274261603376, 0.376056338028169, 0.3765867418899859, 0.3771186440677966, 0.37623762376237624, 0.37677053824362605, 0.375886524822695, 0.37642045454545453, 0.37695590327169276, 0.37749287749287747, 0.3780313837375178, 0.37857142857142856, 0.3791130185979971, 0.37965616045845274, 0.3802008608321377, 0.3807471264367816, 0.381294964028777, 0.3818443804034582, 0.3823953823953824, 0.3829479768786127, 0.3835021707670043, 0.38405797101449274, 0.38461538461538464, 0.3851744186046512, 0.38573508005822416, 0.38629737609329445, 0.38686131386861317, 0.38742690058479534, 0.38799414348462663, 0.3885630498533724, 0.3891336270190896, 0.3897058823529412, 0.390279823269514, 0.39085545722713866, 0.3914327917282127, 0.39201183431952663, 0.3925925925925926, 0.39317507418397624, 0.3937592867756315, 0.3943452380952381, 0.3949329359165425, 0.39552238805970147, 0.3961136023916293, 0.3967065868263473, 0.39730134932533734, 0.3978978978978979, 0.39849624060150374, 0.3990963855421687, 0.3996983408748115, 0.4003021148036254, 0.4009077155824508, 0.4015151515151515, 0.40212443095599393, 0.4027355623100304, 0.4033485540334855, 0.40396341463414637, 0.40458015267175573, 0.40519877675840976, 0.4058192955589586, 0.40644171779141103, 0.40706605222734255, 0.4076923076923077, 0.4083204930662558, 0.4089506172839506, 0.4095826893353941, 0.4102167182662539, 0.4108527131782946, 0.4114906832298137, 0.4121306376360809, 0.4127725856697819, 0.41341653666146644, 0.4140625, 0.41471048513302033, 0.4153605015673981, 0.41601255886970173, 0.4166666666666667, 0.41732283464566927, 0.41798107255520506, 0.41706161137440756, 0.4177215189873418, 0.4183835182250396, 0.41904761904761906, 0.41971383147853736, 0.42038216560509556, 0.42105263157894735, 0.4217252396166134, 0.4224, 0.4230769230769231, 0.42375601926163725, 0.42443729903536975, 0.4251207729468599, 0.4258064516129032, 0.42649434571890144, 0.4255663430420712, 0.42625607779578606, 0.42694805194805197, 0.4276422764227642, 0.42833876221498374, 0.4290375203915171, 0.4297385620915033, 0.4288052373158756, 0.42950819672131146, 0.4302134646962233, 0.4309210526315789, 0.4316309719934102, 0.43234323432343236, 0.43305785123966944, 0.4337748344370861, 0.43449419568822556, 0.43521594684385384, 0.43594009983361065, 0.43666666666666665, 0.4373956594323873, 0.43812709030100333, 0.4388609715242881, 0.4395973154362416, 0.4403361344537815, 0.44107744107744107, 0.4418212478920742, 0.44256756756756754, 0.4433164128595601, 0.4440677966101695, 0.44482173174872663, 0.445578231292517, 0.4463373083475298, 0.447098976109215, 0.4478632478632479, 0.4486301369863014, 0.44939965694682676, 0.45017182130584193, 0.4509466437177281, 0.4517241379310345, 0.4525043177892919, 0.4532871972318339, 0.4540727902946274, 0.4548611111111111, 0.45565217391304347, 0.4564459930313589, 0.4572425828970332, 0.458041958041958, 0.45884413309982486, 0.45964912280701753, 0.46045694200351495, 0.4612676056338028, 0.4620811287477954, 0.4628975265017668, 0.46371681415929206, 0.4645390070921986, 0.4635879218472469, 0.46441281138790036, 0.46524064171123, 0.4660714285714286, 0.4669051878354204, 0.46774193548387094, 0.46858168761220825, 0.4694244604316547, 0.4702702702702703, 0.4711191335740072, 0.4719710669077758, 0.47282608695652173, 0.47368421052631576, 0.47454545454545455, 0.47540983606557374, 0.4762773722627737, 0.47714808043875684, 0.47802197802197804, 0.47889908256880737, 0.4797794117647059, 0.48066298342541436, 0.48154981549815495, 0.4824399260628466, 0.48333333333333334, 0.4842300556586271, 0.4851301115241636, 0.4860335195530726, 0.4869402985074627, 0.48785046728971965, 0.4887640449438202, 0.4896810506566604, 0.4906015037593985, 0.4896421845574388, 0.48867924528301887, 0.4896030245746692, 0.49053030303030304, 0.49146110056925996, 0.4923954372623574, 0.49333333333333335, 0.49427480916030536, 0.49521988527724664, 0.49616858237547895, 0.4971209213051823, 0.4980769230769231, 0.49903660886319845, 0.5, 0.5009671179883946, 0.501937984496124, 0.5029126213592233, 0.5038910505836576, 0.5048732943469786, 0.505859375, 0.5068493150684932, 0.5078431372549019, 0.5088408644400786, 0.5078740157480315, 0.5088757396449705, 0.5098814229249012, 0.5089108910891089, 0.5099206349206349, 0.510934393638171, 0.5119521912350598, 0.5129740518962076, 0.514, 0.5150300601202404, 0.5160642570281124, 0.5171026156941649, 0.5181451612903226, 0.5191919191919192, 0.520242914979757, 0.5212981744421906, 0.5223577235772358, 0.5234215885947047, 0.5244897959183673, 0.5255623721881391, 0.5266393442622951, 0.5256673511293635, 0.5267489711934157, 0.5278350515463918, 0.5289256198347108, 0.5300207039337475, 0.5311203319502075, 0.5322245322245323, 0.5333333333333333, 0.534446764091858, 0.5355648535564853, 0.5366876310272537, 0.5378151260504201, 0.5389473684210526, 0.540084388185654, 0.5412262156448203, 0.5423728813559322, 0.5435244161358811, 0.5425531914893617, 0.5437100213219617, 0.5448717948717948, 0.5460385438972163, 0.5450643776824035, 0.546236559139785, 0.5474137931034483, 0.5485961123110151, 0.5497835497835498, 0.5509761388286334, 0.5521739130434783, 0.5533769063180828, 0.5545851528384279, 0.5557986870897156, 0.5570175438596491, 0.5582417582417583, 0.5594713656387665, 0.5607064017660044, 0.5619469026548672, 0.5631929046563193, 0.5644444444444444, 0.5657015590200446, 0.5669642857142857, 0.5682326621923938, 0.5695067264573991, 0.5707865168539326, 0.5720720720720721, 0.5733634311512416, 0.5746606334841629, 0.5759637188208617, 0.5772727272727273, 0.5785876993166287, 0.5776255707762558, 0.5789473684210527, 0.5802752293577982, 0.5816091954022988, 0.5829493087557603, 0.5842956120092379, 0.5856481481481481, 0.5846867749419954, 0.586046511627907, 0.5874125874125874, 0.5887850467289719, 0.5878220140515222, 0.5892018779342723, 0.5905882352941176, 0.5919811320754716, 0.5933806146572104, 0.5947867298578199, 0.5961995249406176, 0.5976190476190476, 0.5990453460620525, 0.6004784688995215, 0.6019184652278178, 0.6033653846153846, 0.6048192771084338, 0.606280193236715, 0.6077481840193705, 0.6092233009708737, 0.610705596107056, 0.6121951219512195, 0.6136919315403423, 0.6127450980392157, 0.6142506142506142, 0.6133004926108374, 0.6148148148148148, 0.6163366336633663, 0.6178660049627791, 0.6194029850746269, 0.6209476309226932, 0.6225, 0.6240601503759399, 0.6256281407035176, 0.6246851385390428, 0.6262626262626263, 0.6278481012658228, 0.6294416243654822, 0.6310432569974554, 0.6326530612244898, 0.6342710997442456, 0.6358974358974359, 0.6375321336760925, 0.6365979381443299, 0.6356589147286822, 0.6373056994818653, 0.638961038961039, 0.640625, 0.6422976501305483, 0.6413612565445026, 0.6404199475065617, 0.6421052631578947, 0.6437994722955145, 0.6428571428571429, 0.6445623342175066, 0.6462765957446809, 0.648, 0.6497326203208557, 0.6514745308310992, 0.6532258064516129, 0.6549865229110512, 0.6567567567567567, 0.6585365853658537, 0.6603260869565217, 0.662125340599455, 0.6639344262295082, 0.6657534246575343, 0.6675824175824175, 0.6694214876033058, 0.6685082872928176, 0.6703601108033241, 0.6722222222222223, 0.6740947075208914, 0.6759776536312849, 0.6778711484593838, 0.6797752808988764, 0.6816901408450704, 0.6836158192090396, 0.6855524079320113, 0.6875, 0.6866096866096866, 0.6885714285714286, 0.6905444126074498, 0.6896551724137931, 0.69164265129683, 0.6936416184971098, 0.6956521739130435, 0.6976744186046512, 0.6997084548104956, 0.7017543859649122, 0.7038123167155426, 0.7058823529411765, 0.7079646017699115, 0.7100591715976331, 0.712166172106825, 0.7142857142857143, 0.7164179104477612, 0.7155688622754491, 0.7177177177177178, 0.7198795180722891, 0.7220543806646526, 0.7242424242424242, 0.7264437689969605, 0.7286585365853658, 0.7308868501529052, 0.7331288343558282, 0.7353846153846154, 0.7376543209876543, 0.7368421052631579, 0.7391304347826086, 0.7383177570093458, 0.740625, 0.7429467084639498, 0.7452830188679245, 0.7476340694006309, 0.75, 0.7492063492063492, 0.7484076433121019, 0.7507987220447284, 0.7532051282051282, 0.7556270096463023, 0.7548387096774194, 0.7540453074433657, 0.7564935064935064, 0.755700325732899, 0.7581699346405228, 0.7573770491803279, 0.7598684210526315, 0.7623762376237624, 0.7615894039735099, 0.760797342192691, 0.7633333333333333, 0.7658862876254181, 0.7684563758389261, 0.7676767676767676, 0.7702702702702703, 0.7694915254237288, 0.7721088435374149, 0.7747440273037542, 0.7773972602739726, 0.7800687285223368, 0.7793103448275862, 0.7785467128027682, 0.7777777777777778, 0.7804878048780488, 0.7832167832167832, 0.7859649122807018, 0.7887323943661971, 0.7915194346289752, 0.7907801418439716, 0.7935943060498221, 0.7964285714285714, 0.7956989247311828, 0.7985611510791367, 0.8014440433212996, 0.8043478260869565, 0.8072727272727273, 0.8065693430656934, 0.8058608058608059, 0.8051470588235294, 0.8044280442804428, 0.8074074074074075, 0.8104089219330854, 0.8097014925373134, 0.8127340823970037, 0.8120300751879699, 0.8150943396226416, 0.8181818181818182, 0.8212927756653993, 0.8244274809160306, 0.8275862068965517, 0.8307692307692308, 0.8301158301158301, 0.8294573643410853, 0.8326848249027238, 0.83203125, 0.8313725490196079, 0.8346456692913385, 0.8379446640316206, 0.8373015873015873, 0.8366533864541833, 0.836, 0.8353413654618473, 0.8346774193548387, 0.8380566801619433, 0.8373983739837398, 0.8367346938775511, 0.8360655737704918, 0.8353909465020576, 0.8347107438016529, 0.8340248962655602, 0.8375, 0.8410041841004184, 0.8403361344537815, 0.8396624472573839, 0.8389830508474576, 0.8382978723404255, 0.8418803418803419, 0.8412017167381974, 0.8405172413793104, 0.8441558441558441, 0.8434782608695652, 0.8427947598253275, 0.8421052631578947, 0.8414096916299559, 0.8407079646017699, 0.84, 0.84375, 0.8430493273542601, 0.8423423423423423, 0.8461538461538461, 0.8454545454545455, 0.8493150684931506, 0.8532110091743119, 0.8525345622119815, 0.8518518518518519, 0.8511627906976744, 0.8504672897196262, 0.8497652582159625, 0.8490566037735849, 0.8530805687203792, 0.8571428571428571, 0.8564593301435407, 0.8557692307692307, 0.855072463768116, 0.8543689320388349, 0.8585365853658536, 0.8578431372549019, 0.8571428571428571, 0.8613861386138614, 0.8606965174129353, 0.86, 0.8592964824120602, 0.8585858585858586, 0.8578680203045685, 0.8622448979591837, 0.8666666666666667, 0.8711340206185567, 0.8704663212435233, 0.8697916666666666, 0.8691099476439791, 0.868421052631579, 0.8677248677248677, 0.8670212765957447, 0.8663101604278075, 0.8655913978494624, 0.8702702702702703, 0.8695652173913043, 0.8688524590163934, 0.8681318681318682, 0.8729281767955801, 0.8722222222222222, 0.8715083798882681, 0.8707865168539326, 0.8700564971751412, 0.875, 0.8742857142857143, 0.8735632183908046, 0.8728323699421965, 0.872093023255814, 0.8713450292397661, 0.8705882352941177, 0.8698224852071006, 0.8690476190476191, 0.8682634730538922, 0.8674698795180723, 0.8727272727272727, 0.8719512195121951, 0.8711656441717791, 0.8703703703703703, 0.8695652173913043, 0.86875, 0.8679245283018868, 0.8670886075949367, 0.8662420382165605, 0.8653846153846154, 0.864516129032258, 0.8701298701298701, 0.869281045751634, 0.868421052631579, 0.8675496688741722, 0.8666666666666667, 0.8657718120805369, 0.8648648648648649, 0.8639455782312925, 0.863013698630137, 0.8620689655172413, 0.8611111111111112, 0.8601398601398601, 0.8591549295774648, 0.8581560283687943, 0.8571428571428571, 0.8561151079136691, 0.8623188405797102, 0.8613138686131386, 0.8602941176470589, 0.8592592592592593, 0.8656716417910447, 0.8646616541353384, 0.8712121212121212, 0.8778625954198473, 0.8769230769230769, 0.875968992248062, 0.875, 0.8740157480314961, 0.873015873015873, 0.872, 0.8709677419354839, 0.8699186991869918, 0.8770491803278688, 0.8760330578512396, 0.875, 0.8739495798319328, 0.8728813559322034, 0.8717948717948718, 0.8706896551724138, 0.8695652173913043, 0.868421052631579, 0.8672566371681416, 0.8660714285714286, 0.8648648648648649, 0.8636363636363636, 0.8623853211009175, 0.8611111111111112, 0.8598130841121495, 0.8584905660377359, 0.8666666666666667, 0.8653846153846154, 0.8737864077669902, 0.8725490196078431, 0.8712871287128713, 0.87, 0.8686868686868687, 0.8673469387755102, 0.865979381443299, 0.8645833333333334, 0.8631578947368421, 0.8617021276595744, 0.8602150537634409, 0.8586956521739131, 0.8571428571428571, 0.8555555555555555, 0.8539325842696629, 0.8522727272727273, 0.8505747126436781, 0.8488372093023255, 0.8588235294117647, 0.8571428571428571, 0.8554216867469879, 0.8536585365853658, 0.8641975308641975, 0.8625, 0.8607594936708861, 0.8589743589743589, 0.8701298701298701, 0.868421052631579, 0.8666666666666667, 0.8648648648648649, 0.863013698630137, 0.8611111111111112, 0.8591549295774648, 0.8571428571428571, 0.855072463768116, 0.8529411764705882, 0.8507462686567164, 0.8484848484848485, 0.8461538461538461, 0.84375, 0.8571428571428571, 0.8548387096774194, 0.8524590163934426, 0.85, 0.847457627118644, 0.8620689655172413, 0.8596491228070176, 0.875, 0.8727272727272727, 0.8703703703703703, 0.8679245283018868, 0.8653846153846154, 0.8627450980392157, 0.86, 0.8571428571428571, 0.8541666666666666, 0.851063829787234, 0.8478260869565217, 0.8444444444444444, 0.8636363636363636, 0.8604651162790697, 0.8571428571428571, 0.8536585365853658, 0.85, 0.8461538461538461, 0.8421052631578947, 0.8378378378378378, 0.8333333333333334, 0.8285714285714286, 0.8235294117647058, 0.8181818181818182, 0.84375, 0.8387096774193549, 0.8333333333333334, 0.8275862068965517, 0.8571428571428571, 0.8518518518518519, 0.8461538461538461, 0.84, 0.875, 0.8695652173913043, 0.9090909090909091, 0.9047619047619048, 0.9, 0.8947368421052632, 0.8888888888888888, 0.8823529411764706, 0.9375, 0.9333333333333333, 0.9285714285714286, 0.9230769230769231, 0.9166666666666666, 0.9090909090909091, 0.9, 0.8888888888888888, 0.875, 0.8571428571428571, 0.8333333333333334, 0.8, 0.75, 0.6666666666666666, 0.5, 0.0, 1.0], \"yaxis\": \"y4\"}],\n",
       "                        {\"annotations\": [{\"font\": {\"color\": \"white\", \"size\": 14}, \"showarrow\": false, \"text\": \"Confusion Matrix\", \"x\": 0.225, \"xanchor\": \"center\", \"xref\": \"paper\", \"y\": 1.0, \"yanchor\": \"bottom\", \"yref\": \"paper\"}, {\"font\": {\"color\": \"white\", \"size\": 14}, \"showarrow\": false, \"text\": \"Metrics\", \"x\": 0.775, \"xanchor\": \"center\", \"xref\": \"paper\", \"y\": 1.0, \"yanchor\": \"bottom\", \"yref\": \"paper\"}, {\"font\": {\"color\": \"white\", \"size\": 14}, \"showarrow\": false, \"text\": \"ROC curve (0.917)\", \"x\": 0.225, \"xanchor\": \"center\", \"xref\": \"paper\", \"y\": 0.375, \"yanchor\": \"bottom\", \"yref\": \"paper\"}, {\"font\": {\"color\": \"white\", \"size\": 14}, \"showarrow\": false, \"text\": \"Precision - Recall curve\", \"x\": 0.775, \"xanchor\": \"center\", \"xref\": \"paper\", \"y\": 0.375, \"yanchor\": \"bottom\", \"yref\": \"paper\"}], \"autosize\": false, \"font\": {\"color\": \"white\"}, \"height\": 830, \"margin\": {\"b\": 195}, \"paper_bgcolor\": \"black\", \"plot_bgcolor\": \"black\", \"showlegend\": false, \"template\": {\"data\": {\"bar\": [{\"error_x\": {\"color\": \"#2a3f5f\"}, \"error_y\": {\"color\": \"#2a3f5f\"}, \"marker\": {\"line\": {\"color\": \"#E5ECF6\", \"width\": 0.5}}, \"type\": \"bar\"}], \"barpolar\": [{\"marker\": {\"line\": {\"color\": \"#E5ECF6\", \"width\": 0.5}}, \"type\": \"barpolar\"}], \"carpet\": [{\"aaxis\": {\"endlinecolor\": \"#2a3f5f\", \"gridcolor\": \"white\", \"linecolor\": \"white\", \"minorgridcolor\": \"white\", \"startlinecolor\": \"#2a3f5f\"}, \"baxis\": {\"endlinecolor\": \"#2a3f5f\", \"gridcolor\": \"white\", \"linecolor\": \"white\", \"minorgridcolor\": \"white\", \"startlinecolor\": \"#2a3f5f\"}, \"type\": \"carpet\"}], \"choropleth\": [{\"colorbar\": {\"outlinewidth\": 0, \"ticks\": \"\"}, \"type\": \"choropleth\"}], \"contour\": [{\"colorbar\": {\"outlinewidth\": 0, \"ticks\": \"\"}, \"colorscale\": [[0.0, \"#0d0887\"], [0.1111111111111111, \"#46039f\"], [0.2222222222222222, \"#7201a8\"], [0.3333333333333333, \"#9c179e\"], [0.4444444444444444, \"#bd3786\"], [0.5555555555555556, \"#d8576b\"], [0.6666666666666666, \"#ed7953\"], [0.7777777777777778, \"#fb9f3a\"], [0.8888888888888888, \"#fdca26\"], [1.0, \"#f0f921\"]], \"type\": \"contour\"}], \"contourcarpet\": [{\"colorbar\": {\"outlinewidth\": 0, \"ticks\": \"\"}, \"type\": \"contourcarpet\"}], \"heatmap\": [{\"colorbar\": {\"outlinewidth\": 0, \"ticks\": \"\"}, \"colorscale\": [[0.0, \"#0d0887\"], [0.1111111111111111, \"#46039f\"], [0.2222222222222222, \"#7201a8\"], [0.3333333333333333, \"#9c179e\"], [0.4444444444444444, \"#bd3786\"], [0.5555555555555556, \"#d8576b\"], [0.6666666666666666, \"#ed7953\"], [0.7777777777777778, \"#fb9f3a\"], [0.8888888888888888, \"#fdca26\"], [1.0, \"#f0f921\"]], \"type\": \"heatmap\"}], \"heatmapgl\": [{\"colorbar\": {\"outlinewidth\": 0, \"ticks\": \"\"}, \"colorscale\": [[0.0, \"#0d0887\"], [0.1111111111111111, \"#46039f\"], [0.2222222222222222, \"#7201a8\"], [0.3333333333333333, \"#9c179e\"], [0.4444444444444444, \"#bd3786\"], [0.5555555555555556, \"#d8576b\"], [0.6666666666666666, \"#ed7953\"], [0.7777777777777778, \"#fb9f3a\"], [0.8888888888888888, \"#fdca26\"], [1.0, \"#f0f921\"]], \"type\": \"heatmapgl\"}], \"histogram\": [{\"marker\": {\"colorbar\": {\"outlinewidth\": 0, \"ticks\": \"\"}}, \"type\": \"histogram\"}], \"histogram2d\": [{\"colorbar\": {\"outlinewidth\": 0, \"ticks\": \"\"}, \"colorscale\": [[0.0, \"#0d0887\"], [0.1111111111111111, \"#46039f\"], [0.2222222222222222, \"#7201a8\"], [0.3333333333333333, \"#9c179e\"], [0.4444444444444444, \"#bd3786\"], [0.5555555555555556, \"#d8576b\"], [0.6666666666666666, \"#ed7953\"], [0.7777777777777778, \"#fb9f3a\"], [0.8888888888888888, \"#fdca26\"], [1.0, \"#f0f921\"]], \"type\": \"histogram2d\"}], \"histogram2dcontour\": [{\"colorbar\": {\"outlinewidth\": 0, \"ticks\": \"\"}, \"colorscale\": [[0.0, \"#0d0887\"], [0.1111111111111111, \"#46039f\"], [0.2222222222222222, \"#7201a8\"], [0.3333333333333333, \"#9c179e\"], [0.4444444444444444, \"#bd3786\"], [0.5555555555555556, \"#d8576b\"], [0.6666666666666666, \"#ed7953\"], [0.7777777777777778, \"#fb9f3a\"], [0.8888888888888888, \"#fdca26\"], [1.0, \"#f0f921\"]], \"type\": \"histogram2dcontour\"}], \"mesh3d\": [{\"colorbar\": {\"outlinewidth\": 0, \"ticks\": \"\"}, \"type\": \"mesh3d\"}], \"parcoords\": [{\"line\": {\"colorbar\": {\"outlinewidth\": 0, \"ticks\": \"\"}}, \"type\": \"parcoords\"}], \"pie\": [{\"automargin\": true, \"type\": \"pie\"}], \"scatter\": [{\"marker\": {\"colorbar\": {\"outlinewidth\": 0, \"ticks\": \"\"}}, \"type\": \"scatter\"}], \"scatter3d\": [{\"line\": {\"colorbar\": {\"outlinewidth\": 0, \"ticks\": \"\"}}, \"marker\": {\"colorbar\": {\"outlinewidth\": 0, \"ticks\": \"\"}}, \"type\": \"scatter3d\"}], \"scattercarpet\": [{\"marker\": {\"colorbar\": {\"outlinewidth\": 0, \"ticks\": \"\"}}, \"type\": \"scattercarpet\"}], \"scattergeo\": [{\"marker\": {\"colorbar\": {\"outlinewidth\": 0, \"ticks\": \"\"}}, \"type\": \"scattergeo\"}], \"scattergl\": [{\"marker\": {\"colorbar\": {\"outlinewidth\": 0, \"ticks\": \"\"}}, \"type\": \"scattergl\"}], \"scattermapbox\": [{\"marker\": {\"colorbar\": {\"outlinewidth\": 0, \"ticks\": \"\"}}, \"type\": \"scattermapbox\"}], \"scatterpolar\": [{\"marker\": {\"colorbar\": {\"outlinewidth\": 0, \"ticks\": \"\"}}, \"type\": \"scatterpolar\"}], \"scatterpolargl\": [{\"marker\": {\"colorbar\": {\"outlinewidth\": 0, \"ticks\": \"\"}}, \"type\": \"scatterpolargl\"}], \"scatterternary\": [{\"marker\": {\"colorbar\": {\"outlinewidth\": 0, \"ticks\": \"\"}}, \"type\": \"scatterternary\"}], \"surface\": [{\"colorbar\": {\"outlinewidth\": 0, \"ticks\": \"\"}, \"colorscale\": [[0.0, \"#0d0887\"], [0.1111111111111111, \"#46039f\"], [0.2222222222222222, \"#7201a8\"], [0.3333333333333333, \"#9c179e\"], [0.4444444444444444, \"#bd3786\"], [0.5555555555555556, \"#d8576b\"], [0.6666666666666666, \"#ed7953\"], [0.7777777777777778, \"#fb9f3a\"], [0.8888888888888888, \"#fdca26\"], [1.0, \"#f0f921\"]], \"type\": \"surface\"}], \"table\": [{\"cells\": {\"fill\": {\"color\": \"#EBF0F8\"}, \"line\": {\"color\": \"white\"}}, \"header\": {\"fill\": {\"color\": \"#C8D4E3\"}, \"line\": {\"color\": \"white\"}}, \"type\": \"table\"}]}, \"layout\": {\"annotationdefaults\": {\"arrowcolor\": \"#2a3f5f\", \"arrowhead\": 0, \"arrowwidth\": 1}, \"coloraxis\": {\"colorbar\": {\"outlinewidth\": 0, \"ticks\": \"\"}}, \"colorscale\": {\"diverging\": [[0, \"#8e0152\"], [0.1, \"#c51b7d\"], [0.2, \"#de77ae\"], [0.3, \"#f1b6da\"], [0.4, \"#fde0ef\"], [0.5, \"#f7f7f7\"], [0.6, \"#e6f5d0\"], [0.7, \"#b8e186\"], [0.8, \"#7fbc41\"], [0.9, \"#4d9221\"], [1, \"#276419\"]], \"sequential\": [[0.0, \"#0d0887\"], [0.1111111111111111, \"#46039f\"], [0.2222222222222222, \"#7201a8\"], [0.3333333333333333, \"#9c179e\"], [0.4444444444444444, \"#bd3786\"], [0.5555555555555556, \"#d8576b\"], [0.6666666666666666, \"#ed7953\"], [0.7777777777777778, \"#fb9f3a\"], [0.8888888888888888, \"#fdca26\"], [1.0, \"#f0f921\"]], \"sequentialminus\": [[0.0, \"#0d0887\"], [0.1111111111111111, \"#46039f\"], [0.2222222222222222, \"#7201a8\"], [0.3333333333333333, \"#9c179e\"], [0.4444444444444444, \"#bd3786\"], [0.5555555555555556, \"#d8576b\"], [0.6666666666666666, \"#ed7953\"], [0.7777777777777778, \"#fb9f3a\"], [0.8888888888888888, \"#fdca26\"], [1.0, \"#f0f921\"]]}, \"colorway\": [\"#636efa\", \"#EF553B\", \"#00cc96\", \"#ab63fa\", \"#FFA15A\", \"#19d3f3\", \"#FF6692\", \"#B6E880\", \"#FF97FF\", \"#FECB52\"], \"font\": {\"color\": \"#2a3f5f\"}, \"geo\": {\"bgcolor\": \"white\", \"lakecolor\": \"white\", \"landcolor\": \"#E5ECF6\", \"showlakes\": true, \"showland\": true, \"subunitcolor\": \"white\"}, \"hoverlabel\": {\"align\": \"left\"}, \"hovermode\": \"closest\", \"mapbox\": {\"style\": \"light\"}, \"paper_bgcolor\": \"white\", \"plot_bgcolor\": \"#E5ECF6\", \"polar\": {\"angularaxis\": {\"gridcolor\": \"white\", \"linecolor\": \"white\", \"ticks\": \"\"}, \"bgcolor\": \"#E5ECF6\", \"radialaxis\": {\"gridcolor\": \"white\", \"linecolor\": \"white\", \"ticks\": \"\"}}, \"scene\": {\"xaxis\": {\"backgroundcolor\": \"#E5ECF6\", \"gridcolor\": \"white\", \"gridwidth\": 2, \"linecolor\": \"white\", \"showbackground\": true, \"ticks\": \"\", \"zerolinecolor\": \"white\"}, \"yaxis\": {\"backgroundcolor\": \"#E5ECF6\", \"gridcolor\": \"white\", \"gridwidth\": 2, \"linecolor\": \"white\", \"showbackground\": true, \"ticks\": \"\", \"zerolinecolor\": \"white\"}, \"zaxis\": {\"backgroundcolor\": \"#E5ECF6\", \"gridcolor\": \"white\", \"gridwidth\": 2, \"linecolor\": \"white\", \"showbackground\": true, \"ticks\": \"\", \"zerolinecolor\": \"white\"}}, \"shapedefaults\": {\"line\": {\"color\": \"#2a3f5f\"}}, \"ternary\": {\"aaxis\": {\"gridcolor\": \"white\", \"linecolor\": \"white\", \"ticks\": \"\"}, \"baxis\": {\"gridcolor\": \"white\", \"linecolor\": \"white\", \"ticks\": \"\"}, \"bgcolor\": \"#E5ECF6\", \"caxis\": {\"gridcolor\": \"white\", \"linecolor\": \"white\", \"ticks\": \"\"}}, \"title\": {\"x\": 0.05}, \"xaxis\": {\"automargin\": true, \"gridcolor\": \"white\", \"linecolor\": \"white\", \"ticks\": \"\", \"title\": {\"standoff\": 15}, \"zerolinecolor\": \"white\", \"zerolinewidth\": 2}, \"yaxis\": {\"automargin\": true, \"gridcolor\": \"white\", \"linecolor\": \"white\", \"ticks\": \"\", \"title\": {\"standoff\": 15}, \"zerolinecolor\": \"white\", \"zerolinewidth\": 2}}}, \"title\": {\"text\": \"<b>Model performance report (5 folds)</b><br>LightGBM\"}, \"width\": 830, \"xaxis\": {\"anchor\": \"y\", \"color\": \"white\", \"domain\": [0.0, 0.45]}, \"xaxis2\": {\"anchor\": \"y2\", \"color\": \"white\", \"domain\": [0.55, 1.0], \"range\": [0, 1]}, \"xaxis3\": {\"anchor\": \"y3\", \"color\": \"white\", \"domain\": [0.0, 0.45], \"title\": {\"text\": \"false positive rate\"}}, \"xaxis4\": {\"anchor\": \"y4\", \"color\": \"white\", \"domain\": [0.55, 1.0], \"range\": [0, 1.05], \"title\": {\"text\": \"recall\"}}, \"yaxis\": {\"anchor\": \"x\", \"color\": \"white\", \"domain\": [0.625, 1.0]}, \"yaxis2\": {\"anchor\": \"x2\", \"color\": \"white\", \"domain\": [0.625, 1.0]}, \"yaxis3\": {\"anchor\": \"x3\", \"color\": \"white\", \"domain\": [0.0, 0.375], \"title\": {\"text\": \"true positive rate\"}}, \"yaxis4\": {\"anchor\": \"x4\", \"color\": \"white\", \"domain\": [0.0, 0.375], \"range\": [0, 1.05], \"title\": {\"text\": \"precision\"}}},\n",
       "                        {\"responsive\": true}\n",
       "                    ).then(function(){\n",
       "                            \n",
       "var gd = document.getElementById('b6453091-7349-4228-9f2e-136b26c96bff');\n",
       "var x = new MutationObserver(function (mutations, observer) {{\n",
       "        var display = window.getComputedStyle(gd).display;\n",
       "        if (!display || display === 'none') {{\n",
       "            console.log([gd, 'removed!']);\n",
       "            Plotly.purge(gd);\n",
       "            observer.disconnect();\n",
       "        }}\n",
       "}});\n",
       "\n",
       "// Listen for the removal of the full notebook cells\n",
       "var notebookContainer = gd.closest('#notebook-container');\n",
       "if (notebookContainer) {{\n",
       "    x.observe(notebookContainer, {childList: true});\n",
       "}}\n",
       "\n",
       "// Listen for the clearing of the current output cell\n",
       "var outputEl = gd.closest('.output');\n",
       "if (outputEl) {{\n",
       "    x.observe(outputEl, {childList: true});\n",
       "}}\n",
       "\n",
       "                        })\n",
       "                };\n",
       "                });\n",
       "            </script>\n",
       "        </div>"
      ]
     },
     "metadata": {},
     "output_type": "display_data"
    }
   ],
   "source": [
    "model_performance(LR, 'LightGBM')"
   ]
  },
  {
   "cell_type": "code",
   "execution_count": 67,
   "metadata": {},
   "outputs": [],
   "source": [
    "def scores_table(model, subtitle):\n",
    "    scores = ['accuracy', 'precision', 'recall', 'f1', 'roc_auc']\n",
    "    res = []\n",
    "    for sc in scores:\n",
    "        scores = cross_val_score(model, X, Y, cv = 5, scoring = sc)\n",
    "        res.append(scores)\n",
    "    df = pd.DataFrame(res).T\n",
    "    df.loc['mean'] = df.mean()\n",
    "    df.loc['std'] = df.std()\n",
    "    df= df.rename(columns={0: 'accuracy', 1:'precision', 2:'recall',3:'f1',4:'roc_auc'})\n",
    "\n",
    "    trace = go.Table(\n",
    "        header=dict(values=['<b>Fold', '<b>Accuracy', '<b>Precision', '<b>Recall', '<b>F1 score', '<b>Roc auc'],\n",
    "                    line = dict(color='#7D7F80'),\n",
    "                    fill = dict(color='#a1c3d1'),\n",
    "                    align = ['center'],\n",
    "                    font = dict(size = 15)),\n",
    "        cells=dict(values=[('1','2','3','4','5','mean', 'std'),\n",
    "                           np.round(df['accuracy'],3),\n",
    "                           np.round(df['precision'],3),\n",
    "                           np.round(df['recall'],3),\n",
    "                           np.round(df['f1'],3),\n",
    "                           np.round(df['roc_auc'],3)],\n",
    "                   line = dict(color='#7D7F80'),\n",
    "                   fill = dict(color='#EDFAFF'),\n",
    "                   align = ['center'], font = dict(size = 15)))\n",
    "\n",
    "    layout = dict(width=800, height=400, title = '<b>Cross Validation - 5 folds</b><br>'+subtitle, font = dict(size = 15))\n",
    "    fig = dict(data=[trace], layout=layout)\n",
    "\n",
    "    py.iplot(fig, filename = 'styled_table')"
   ]
  },
  {
   "cell_type": "code",
   "execution_count": 68,
   "metadata": {},
   "outputs": [
    {
     "data": {
      "application/vnd.plotly.v1+json": {
       "config": {
        "linkText": "Export to plot.ly",
        "plotlyServerURL": "https://plot.ly",
        "showLink": false
       },
       "data": [
        {
         "cells": {
          "align": [
           "center"
          ],
          "fill": {
           "color": "#EDFAFF"
          },
          "font": {
           "size": 15
          },
          "line": {
           "color": "#7D7F80"
          },
          "values": [
           [
            "1",
            "2",
            "3",
            "4",
            "5",
            "mean",
            "std"
           ],
           [
            0.89,
            0.883,
            0.89,
            0.895,
            0.869,
            0.885,
            0.009
           ],
           [
            0.911,
            0.86,
            0.863,
            0.894,
            0.78,
            0.861,
            0.045
           ],
           [
            0.759,
            0.796,
            0.815,
            0.792,
            0.868,
            0.806,
            0.036
           ],
           [
            0.828,
            0.827,
            0.838,
            0.84,
            0.821,
            0.831,
            0.007
           ],
           [
            0.923,
            0.912,
            0.95,
            0.959,
            0.928,
            0.934,
            0.018
           ]
          ]
         },
         "header": {
          "align": [
           "center"
          ],
          "fill": {
           "color": "#a1c3d1"
          },
          "font": {
           "size": 15
          },
          "line": {
           "color": "#7D7F80"
          },
          "values": [
           "<b>Fold",
           "<b>Accuracy",
           "<b>Precision",
           "<b>Recall",
           "<b>F1 score",
           "<b>Roc auc"
          ]
         },
         "type": "table"
        }
       ],
       "layout": {
        "font": {
         "size": 15
        },
        "height": 400,
        "template": {
         "data": {
          "bar": [
           {
            "error_x": {
             "color": "#2a3f5f"
            },
            "error_y": {
             "color": "#2a3f5f"
            },
            "marker": {
             "line": {
              "color": "#E5ECF6",
              "width": 0.5
             }
            },
            "type": "bar"
           }
          ],
          "barpolar": [
           {
            "marker": {
             "line": {
              "color": "#E5ECF6",
              "width": 0.5
             }
            },
            "type": "barpolar"
           }
          ],
          "carpet": [
           {
            "aaxis": {
             "endlinecolor": "#2a3f5f",
             "gridcolor": "white",
             "linecolor": "white",
             "minorgridcolor": "white",
             "startlinecolor": "#2a3f5f"
            },
            "baxis": {
             "endlinecolor": "#2a3f5f",
             "gridcolor": "white",
             "linecolor": "white",
             "minorgridcolor": "white",
             "startlinecolor": "#2a3f5f"
            },
            "type": "carpet"
           }
          ],
          "choropleth": [
           {
            "colorbar": {
             "outlinewidth": 0,
             "ticks": ""
            },
            "type": "choropleth"
           }
          ],
          "contour": [
           {
            "colorbar": {
             "outlinewidth": 0,
             "ticks": ""
            },
            "colorscale": [
             [
              0,
              "#0d0887"
             ],
             [
              0.1111111111111111,
              "#46039f"
             ],
             [
              0.2222222222222222,
              "#7201a8"
             ],
             [
              0.3333333333333333,
              "#9c179e"
             ],
             [
              0.4444444444444444,
              "#bd3786"
             ],
             [
              0.5555555555555556,
              "#d8576b"
             ],
             [
              0.6666666666666666,
              "#ed7953"
             ],
             [
              0.7777777777777778,
              "#fb9f3a"
             ],
             [
              0.8888888888888888,
              "#fdca26"
             ],
             [
              1,
              "#f0f921"
             ]
            ],
            "type": "contour"
           }
          ],
          "contourcarpet": [
           {
            "colorbar": {
             "outlinewidth": 0,
             "ticks": ""
            },
            "type": "contourcarpet"
           }
          ],
          "heatmap": [
           {
            "colorbar": {
             "outlinewidth": 0,
             "ticks": ""
            },
            "colorscale": [
             [
              0,
              "#0d0887"
             ],
             [
              0.1111111111111111,
              "#46039f"
             ],
             [
              0.2222222222222222,
              "#7201a8"
             ],
             [
              0.3333333333333333,
              "#9c179e"
             ],
             [
              0.4444444444444444,
              "#bd3786"
             ],
             [
              0.5555555555555556,
              "#d8576b"
             ],
             [
              0.6666666666666666,
              "#ed7953"
             ],
             [
              0.7777777777777778,
              "#fb9f3a"
             ],
             [
              0.8888888888888888,
              "#fdca26"
             ],
             [
              1,
              "#f0f921"
             ]
            ],
            "type": "heatmap"
           }
          ],
          "heatmapgl": [
           {
            "colorbar": {
             "outlinewidth": 0,
             "ticks": ""
            },
            "colorscale": [
             [
              0,
              "#0d0887"
             ],
             [
              0.1111111111111111,
              "#46039f"
             ],
             [
              0.2222222222222222,
              "#7201a8"
             ],
             [
              0.3333333333333333,
              "#9c179e"
             ],
             [
              0.4444444444444444,
              "#bd3786"
             ],
             [
              0.5555555555555556,
              "#d8576b"
             ],
             [
              0.6666666666666666,
              "#ed7953"
             ],
             [
              0.7777777777777778,
              "#fb9f3a"
             ],
             [
              0.8888888888888888,
              "#fdca26"
             ],
             [
              1,
              "#f0f921"
             ]
            ],
            "type": "heatmapgl"
           }
          ],
          "histogram": [
           {
            "marker": {
             "colorbar": {
              "outlinewidth": 0,
              "ticks": ""
             }
            },
            "type": "histogram"
           }
          ],
          "histogram2d": [
           {
            "colorbar": {
             "outlinewidth": 0,
             "ticks": ""
            },
            "colorscale": [
             [
              0,
              "#0d0887"
             ],
             [
              0.1111111111111111,
              "#46039f"
             ],
             [
              0.2222222222222222,
              "#7201a8"
             ],
             [
              0.3333333333333333,
              "#9c179e"
             ],
             [
              0.4444444444444444,
              "#bd3786"
             ],
             [
              0.5555555555555556,
              "#d8576b"
             ],
             [
              0.6666666666666666,
              "#ed7953"
             ],
             [
              0.7777777777777778,
              "#fb9f3a"
             ],
             [
              0.8888888888888888,
              "#fdca26"
             ],
             [
              1,
              "#f0f921"
             ]
            ],
            "type": "histogram2d"
           }
          ],
          "histogram2dcontour": [
           {
            "colorbar": {
             "outlinewidth": 0,
             "ticks": ""
            },
            "colorscale": [
             [
              0,
              "#0d0887"
             ],
             [
              0.1111111111111111,
              "#46039f"
             ],
             [
              0.2222222222222222,
              "#7201a8"
             ],
             [
              0.3333333333333333,
              "#9c179e"
             ],
             [
              0.4444444444444444,
              "#bd3786"
             ],
             [
              0.5555555555555556,
              "#d8576b"
             ],
             [
              0.6666666666666666,
              "#ed7953"
             ],
             [
              0.7777777777777778,
              "#fb9f3a"
             ],
             [
              0.8888888888888888,
              "#fdca26"
             ],
             [
              1,
              "#f0f921"
             ]
            ],
            "type": "histogram2dcontour"
           }
          ],
          "mesh3d": [
           {
            "colorbar": {
             "outlinewidth": 0,
             "ticks": ""
            },
            "type": "mesh3d"
           }
          ],
          "parcoords": [
           {
            "line": {
             "colorbar": {
              "outlinewidth": 0,
              "ticks": ""
             }
            },
            "type": "parcoords"
           }
          ],
          "pie": [
           {
            "automargin": true,
            "type": "pie"
           }
          ],
          "scatter": [
           {
            "marker": {
             "colorbar": {
              "outlinewidth": 0,
              "ticks": ""
             }
            },
            "type": "scatter"
           }
          ],
          "scatter3d": [
           {
            "line": {
             "colorbar": {
              "outlinewidth": 0,
              "ticks": ""
             }
            },
            "marker": {
             "colorbar": {
              "outlinewidth": 0,
              "ticks": ""
             }
            },
            "type": "scatter3d"
           }
          ],
          "scattercarpet": [
           {
            "marker": {
             "colorbar": {
              "outlinewidth": 0,
              "ticks": ""
             }
            },
            "type": "scattercarpet"
           }
          ],
          "scattergeo": [
           {
            "marker": {
             "colorbar": {
              "outlinewidth": 0,
              "ticks": ""
             }
            },
            "type": "scattergeo"
           }
          ],
          "scattergl": [
           {
            "marker": {
             "colorbar": {
              "outlinewidth": 0,
              "ticks": ""
             }
            },
            "type": "scattergl"
           }
          ],
          "scattermapbox": [
           {
            "marker": {
             "colorbar": {
              "outlinewidth": 0,
              "ticks": ""
             }
            },
            "type": "scattermapbox"
           }
          ],
          "scatterpolar": [
           {
            "marker": {
             "colorbar": {
              "outlinewidth": 0,
              "ticks": ""
             }
            },
            "type": "scatterpolar"
           }
          ],
          "scatterpolargl": [
           {
            "marker": {
             "colorbar": {
              "outlinewidth": 0,
              "ticks": ""
             }
            },
            "type": "scatterpolargl"
           }
          ],
          "scatterternary": [
           {
            "marker": {
             "colorbar": {
              "outlinewidth": 0,
              "ticks": ""
             }
            },
            "type": "scatterternary"
           }
          ],
          "surface": [
           {
            "colorbar": {
             "outlinewidth": 0,
             "ticks": ""
            },
            "colorscale": [
             [
              0,
              "#0d0887"
             ],
             [
              0.1111111111111111,
              "#46039f"
             ],
             [
              0.2222222222222222,
              "#7201a8"
             ],
             [
              0.3333333333333333,
              "#9c179e"
             ],
             [
              0.4444444444444444,
              "#bd3786"
             ],
             [
              0.5555555555555556,
              "#d8576b"
             ],
             [
              0.6666666666666666,
              "#ed7953"
             ],
             [
              0.7777777777777778,
              "#fb9f3a"
             ],
             [
              0.8888888888888888,
              "#fdca26"
             ],
             [
              1,
              "#f0f921"
             ]
            ],
            "type": "surface"
           }
          ],
          "table": [
           {
            "cells": {
             "fill": {
              "color": "#EBF0F8"
             },
             "line": {
              "color": "white"
             }
            },
            "header": {
             "fill": {
              "color": "#C8D4E3"
             },
             "line": {
              "color": "white"
             }
            },
            "type": "table"
           }
          ]
         },
         "layout": {
          "annotationdefaults": {
           "arrowcolor": "#2a3f5f",
           "arrowhead": 0,
           "arrowwidth": 1
          },
          "coloraxis": {
           "colorbar": {
            "outlinewidth": 0,
            "ticks": ""
           }
          },
          "colorscale": {
           "diverging": [
            [
             0,
             "#8e0152"
            ],
            [
             0.1,
             "#c51b7d"
            ],
            [
             0.2,
             "#de77ae"
            ],
            [
             0.3,
             "#f1b6da"
            ],
            [
             0.4,
             "#fde0ef"
            ],
            [
             0.5,
             "#f7f7f7"
            ],
            [
             0.6,
             "#e6f5d0"
            ],
            [
             0.7,
             "#b8e186"
            ],
            [
             0.8,
             "#7fbc41"
            ],
            [
             0.9,
             "#4d9221"
            ],
            [
             1,
             "#276419"
            ]
           ],
           "sequential": [
            [
             0,
             "#0d0887"
            ],
            [
             0.1111111111111111,
             "#46039f"
            ],
            [
             0.2222222222222222,
             "#7201a8"
            ],
            [
             0.3333333333333333,
             "#9c179e"
            ],
            [
             0.4444444444444444,
             "#bd3786"
            ],
            [
             0.5555555555555556,
             "#d8576b"
            ],
            [
             0.6666666666666666,
             "#ed7953"
            ],
            [
             0.7777777777777778,
             "#fb9f3a"
            ],
            [
             0.8888888888888888,
             "#fdca26"
            ],
            [
             1,
             "#f0f921"
            ]
           ],
           "sequentialminus": [
            [
             0,
             "#0d0887"
            ],
            [
             0.1111111111111111,
             "#46039f"
            ],
            [
             0.2222222222222222,
             "#7201a8"
            ],
            [
             0.3333333333333333,
             "#9c179e"
            ],
            [
             0.4444444444444444,
             "#bd3786"
            ],
            [
             0.5555555555555556,
             "#d8576b"
            ],
            [
             0.6666666666666666,
             "#ed7953"
            ],
            [
             0.7777777777777778,
             "#fb9f3a"
            ],
            [
             0.8888888888888888,
             "#fdca26"
            ],
            [
             1,
             "#f0f921"
            ]
           ]
          },
          "colorway": [
           "#636efa",
           "#EF553B",
           "#00cc96",
           "#ab63fa",
           "#FFA15A",
           "#19d3f3",
           "#FF6692",
           "#B6E880",
           "#FF97FF",
           "#FECB52"
          ],
          "font": {
           "color": "#2a3f5f"
          },
          "geo": {
           "bgcolor": "white",
           "lakecolor": "white",
           "landcolor": "#E5ECF6",
           "showlakes": true,
           "showland": true,
           "subunitcolor": "white"
          },
          "hoverlabel": {
           "align": "left"
          },
          "hovermode": "closest",
          "mapbox": {
           "style": "light"
          },
          "paper_bgcolor": "white",
          "plot_bgcolor": "#E5ECF6",
          "polar": {
           "angularaxis": {
            "gridcolor": "white",
            "linecolor": "white",
            "ticks": ""
           },
           "bgcolor": "#E5ECF6",
           "radialaxis": {
            "gridcolor": "white",
            "linecolor": "white",
            "ticks": ""
           }
          },
          "scene": {
           "xaxis": {
            "backgroundcolor": "#E5ECF6",
            "gridcolor": "white",
            "gridwidth": 2,
            "linecolor": "white",
            "showbackground": true,
            "ticks": "",
            "zerolinecolor": "white"
           },
           "yaxis": {
            "backgroundcolor": "#E5ECF6",
            "gridcolor": "white",
            "gridwidth": 2,
            "linecolor": "white",
            "showbackground": true,
            "ticks": "",
            "zerolinecolor": "white"
           },
           "zaxis": {
            "backgroundcolor": "#E5ECF6",
            "gridcolor": "white",
            "gridwidth": 2,
            "linecolor": "white",
            "showbackground": true,
            "ticks": "",
            "zerolinecolor": "white"
           }
          },
          "shapedefaults": {
           "line": {
            "color": "#2a3f5f"
           }
          },
          "ternary": {
           "aaxis": {
            "gridcolor": "white",
            "linecolor": "white",
            "ticks": ""
           },
           "baxis": {
            "gridcolor": "white",
            "linecolor": "white",
            "ticks": ""
           },
           "bgcolor": "#E5ECF6",
           "caxis": {
            "gridcolor": "white",
            "linecolor": "white",
            "ticks": ""
           }
          },
          "title": {
           "x": 0.05
          },
          "xaxis": {
           "automargin": true,
           "gridcolor": "white",
           "linecolor": "white",
           "ticks": "",
           "title": {
            "standoff": 15
           },
           "zerolinecolor": "white",
           "zerolinewidth": 2
          },
          "yaxis": {
           "automargin": true,
           "gridcolor": "white",
           "linecolor": "white",
           "ticks": "",
           "title": {
            "standoff": 15
           },
           "zerolinecolor": "white",
           "zerolinewidth": 2
          }
         }
        },
        "title": {
         "text": "<b>Cross Validation - 5 folds</b><br>LightGBM"
        },
        "width": 800
       }
      },
      "text/html": [
       "<div>\n",
       "        \n",
       "        \n",
       "            <div id=\"67ac71cc-bc2f-4a68-9f4f-c03db522cdda\" class=\"plotly-graph-div\" style=\"height:400px; width:800px;\"></div>\n",
       "            <script type=\"text/javascript\">\n",
       "                require([\"plotly\"], function(Plotly) {\n",
       "                    window.PLOTLYENV=window.PLOTLYENV || {};\n",
       "                    \n",
       "                if (document.getElementById(\"67ac71cc-bc2f-4a68-9f4f-c03db522cdda\")) {\n",
       "                    Plotly.newPlot(\n",
       "                        '67ac71cc-bc2f-4a68-9f4f-c03db522cdda',\n",
       "                        [{\"cells\": {\"align\": [\"center\"], \"fill\": {\"color\": \"#EDFAFF\"}, \"font\": {\"size\": 15}, \"line\": {\"color\": \"#7D7F80\"}, \"values\": [[\"1\", \"2\", \"3\", \"4\", \"5\", \"mean\", \"std\"], [0.89, 0.883, 0.89, 0.895, 0.869, 0.885, 0.009], [0.911, 0.86, 0.863, 0.894, 0.78, 0.861, 0.045], [0.759, 0.796, 0.815, 0.792, 0.868, 0.806, 0.036], [0.828, 0.827, 0.838, 0.84, 0.821, 0.831, 0.007], [0.923, 0.912, 0.95, 0.959, 0.928, 0.934, 0.018]]}, \"header\": {\"align\": [\"center\"], \"fill\": {\"color\": \"#a1c3d1\"}, \"font\": {\"size\": 15}, \"line\": {\"color\": \"#7D7F80\"}, \"values\": [\"<b>Fold\", \"<b>Accuracy\", \"<b>Precision\", \"<b>Recall\", \"<b>F1 score\", \"<b>Roc auc\"]}, \"type\": \"table\"}],\n",
       "                        {\"font\": {\"size\": 15}, \"height\": 400, \"template\": {\"data\": {\"bar\": [{\"error_x\": {\"color\": \"#2a3f5f\"}, \"error_y\": {\"color\": \"#2a3f5f\"}, \"marker\": {\"line\": {\"color\": \"#E5ECF6\", \"width\": 0.5}}, \"type\": \"bar\"}], \"barpolar\": [{\"marker\": {\"line\": {\"color\": \"#E5ECF6\", \"width\": 0.5}}, \"type\": \"barpolar\"}], \"carpet\": [{\"aaxis\": {\"endlinecolor\": \"#2a3f5f\", \"gridcolor\": \"white\", \"linecolor\": \"white\", \"minorgridcolor\": \"white\", \"startlinecolor\": \"#2a3f5f\"}, \"baxis\": {\"endlinecolor\": \"#2a3f5f\", \"gridcolor\": \"white\", \"linecolor\": \"white\", \"minorgridcolor\": \"white\", \"startlinecolor\": \"#2a3f5f\"}, \"type\": \"carpet\"}], \"choropleth\": [{\"colorbar\": {\"outlinewidth\": 0, \"ticks\": \"\"}, \"type\": \"choropleth\"}], \"contour\": [{\"colorbar\": {\"outlinewidth\": 0, \"ticks\": \"\"}, \"colorscale\": [[0.0, \"#0d0887\"], [0.1111111111111111, \"#46039f\"], [0.2222222222222222, \"#7201a8\"], [0.3333333333333333, \"#9c179e\"], [0.4444444444444444, \"#bd3786\"], [0.5555555555555556, \"#d8576b\"], [0.6666666666666666, \"#ed7953\"], [0.7777777777777778, \"#fb9f3a\"], [0.8888888888888888, \"#fdca26\"], [1.0, \"#f0f921\"]], \"type\": \"contour\"}], \"contourcarpet\": [{\"colorbar\": {\"outlinewidth\": 0, \"ticks\": \"\"}, \"type\": \"contourcarpet\"}], \"heatmap\": [{\"colorbar\": {\"outlinewidth\": 0, \"ticks\": \"\"}, \"colorscale\": [[0.0, \"#0d0887\"], [0.1111111111111111, \"#46039f\"], [0.2222222222222222, \"#7201a8\"], [0.3333333333333333, \"#9c179e\"], [0.4444444444444444, \"#bd3786\"], [0.5555555555555556, \"#d8576b\"], [0.6666666666666666, \"#ed7953\"], [0.7777777777777778, \"#fb9f3a\"], [0.8888888888888888, \"#fdca26\"], [1.0, \"#f0f921\"]], \"type\": \"heatmap\"}], \"heatmapgl\": [{\"colorbar\": {\"outlinewidth\": 0, \"ticks\": \"\"}, \"colorscale\": [[0.0, \"#0d0887\"], [0.1111111111111111, \"#46039f\"], [0.2222222222222222, \"#7201a8\"], [0.3333333333333333, \"#9c179e\"], [0.4444444444444444, \"#bd3786\"], [0.5555555555555556, \"#d8576b\"], [0.6666666666666666, \"#ed7953\"], [0.7777777777777778, \"#fb9f3a\"], [0.8888888888888888, \"#fdca26\"], [1.0, \"#f0f921\"]], \"type\": \"heatmapgl\"}], \"histogram\": [{\"marker\": {\"colorbar\": {\"outlinewidth\": 0, \"ticks\": \"\"}}, \"type\": \"histogram\"}], \"histogram2d\": [{\"colorbar\": {\"outlinewidth\": 0, \"ticks\": \"\"}, \"colorscale\": [[0.0, \"#0d0887\"], [0.1111111111111111, \"#46039f\"], [0.2222222222222222, \"#7201a8\"], [0.3333333333333333, \"#9c179e\"], [0.4444444444444444, \"#bd3786\"], [0.5555555555555556, \"#d8576b\"], [0.6666666666666666, \"#ed7953\"], [0.7777777777777778, \"#fb9f3a\"], [0.8888888888888888, \"#fdca26\"], [1.0, \"#f0f921\"]], \"type\": \"histogram2d\"}], \"histogram2dcontour\": [{\"colorbar\": {\"outlinewidth\": 0, \"ticks\": \"\"}, \"colorscale\": [[0.0, \"#0d0887\"], [0.1111111111111111, \"#46039f\"], [0.2222222222222222, \"#7201a8\"], [0.3333333333333333, \"#9c179e\"], [0.4444444444444444, \"#bd3786\"], [0.5555555555555556, \"#d8576b\"], [0.6666666666666666, \"#ed7953\"], [0.7777777777777778, \"#fb9f3a\"], [0.8888888888888888, \"#fdca26\"], [1.0, \"#f0f921\"]], \"type\": \"histogram2dcontour\"}], \"mesh3d\": [{\"colorbar\": {\"outlinewidth\": 0, \"ticks\": \"\"}, \"type\": \"mesh3d\"}], \"parcoords\": [{\"line\": {\"colorbar\": {\"outlinewidth\": 0, \"ticks\": \"\"}}, \"type\": \"parcoords\"}], \"pie\": [{\"automargin\": true, \"type\": \"pie\"}], \"scatter\": [{\"marker\": {\"colorbar\": {\"outlinewidth\": 0, \"ticks\": \"\"}}, \"type\": \"scatter\"}], \"scatter3d\": [{\"line\": {\"colorbar\": {\"outlinewidth\": 0, \"ticks\": \"\"}}, \"marker\": {\"colorbar\": {\"outlinewidth\": 0, \"ticks\": \"\"}}, \"type\": \"scatter3d\"}], \"scattercarpet\": [{\"marker\": {\"colorbar\": {\"outlinewidth\": 0, \"ticks\": \"\"}}, \"type\": \"scattercarpet\"}], \"scattergeo\": [{\"marker\": {\"colorbar\": {\"outlinewidth\": 0, \"ticks\": \"\"}}, \"type\": \"scattergeo\"}], \"scattergl\": [{\"marker\": {\"colorbar\": {\"outlinewidth\": 0, \"ticks\": \"\"}}, \"type\": \"scattergl\"}], \"scattermapbox\": [{\"marker\": {\"colorbar\": {\"outlinewidth\": 0, \"ticks\": \"\"}}, \"type\": \"scattermapbox\"}], \"scatterpolar\": [{\"marker\": {\"colorbar\": {\"outlinewidth\": 0, \"ticks\": \"\"}}, \"type\": \"scatterpolar\"}], \"scatterpolargl\": [{\"marker\": {\"colorbar\": {\"outlinewidth\": 0, \"ticks\": \"\"}}, \"type\": \"scatterpolargl\"}], \"scatterternary\": [{\"marker\": {\"colorbar\": {\"outlinewidth\": 0, \"ticks\": \"\"}}, \"type\": \"scatterternary\"}], \"surface\": [{\"colorbar\": {\"outlinewidth\": 0, \"ticks\": \"\"}, \"colorscale\": [[0.0, \"#0d0887\"], [0.1111111111111111, \"#46039f\"], [0.2222222222222222, \"#7201a8\"], [0.3333333333333333, \"#9c179e\"], [0.4444444444444444, \"#bd3786\"], [0.5555555555555556, \"#d8576b\"], [0.6666666666666666, \"#ed7953\"], [0.7777777777777778, \"#fb9f3a\"], [0.8888888888888888, \"#fdca26\"], [1.0, \"#f0f921\"]], \"type\": \"surface\"}], \"table\": [{\"cells\": {\"fill\": {\"color\": \"#EBF0F8\"}, \"line\": {\"color\": \"white\"}}, \"header\": {\"fill\": {\"color\": \"#C8D4E3\"}, \"line\": {\"color\": \"white\"}}, \"type\": \"table\"}]}, \"layout\": {\"annotationdefaults\": {\"arrowcolor\": \"#2a3f5f\", \"arrowhead\": 0, \"arrowwidth\": 1}, \"coloraxis\": {\"colorbar\": {\"outlinewidth\": 0, \"ticks\": \"\"}}, \"colorscale\": {\"diverging\": [[0, \"#8e0152\"], [0.1, \"#c51b7d\"], [0.2, \"#de77ae\"], [0.3, \"#f1b6da\"], [0.4, \"#fde0ef\"], [0.5, \"#f7f7f7\"], [0.6, \"#e6f5d0\"], [0.7, \"#b8e186\"], [0.8, \"#7fbc41\"], [0.9, \"#4d9221\"], [1, \"#276419\"]], \"sequential\": [[0.0, \"#0d0887\"], [0.1111111111111111, \"#46039f\"], [0.2222222222222222, \"#7201a8\"], [0.3333333333333333, \"#9c179e\"], [0.4444444444444444, \"#bd3786\"], [0.5555555555555556, \"#d8576b\"], [0.6666666666666666, \"#ed7953\"], [0.7777777777777778, \"#fb9f3a\"], [0.8888888888888888, \"#fdca26\"], [1.0, \"#f0f921\"]], \"sequentialminus\": [[0.0, \"#0d0887\"], [0.1111111111111111, \"#46039f\"], [0.2222222222222222, \"#7201a8\"], [0.3333333333333333, \"#9c179e\"], [0.4444444444444444, \"#bd3786\"], [0.5555555555555556, \"#d8576b\"], [0.6666666666666666, \"#ed7953\"], [0.7777777777777778, \"#fb9f3a\"], [0.8888888888888888, \"#fdca26\"], [1.0, \"#f0f921\"]]}, \"colorway\": [\"#636efa\", \"#EF553B\", \"#00cc96\", \"#ab63fa\", \"#FFA15A\", \"#19d3f3\", \"#FF6692\", \"#B6E880\", \"#FF97FF\", \"#FECB52\"], \"font\": {\"color\": \"#2a3f5f\"}, \"geo\": {\"bgcolor\": \"white\", \"lakecolor\": \"white\", \"landcolor\": \"#E5ECF6\", \"showlakes\": true, \"showland\": true, \"subunitcolor\": \"white\"}, \"hoverlabel\": {\"align\": \"left\"}, \"hovermode\": \"closest\", \"mapbox\": {\"style\": \"light\"}, \"paper_bgcolor\": \"white\", \"plot_bgcolor\": \"#E5ECF6\", \"polar\": {\"angularaxis\": {\"gridcolor\": \"white\", \"linecolor\": \"white\", \"ticks\": \"\"}, \"bgcolor\": \"#E5ECF6\", \"radialaxis\": {\"gridcolor\": \"white\", \"linecolor\": \"white\", \"ticks\": \"\"}}, \"scene\": {\"xaxis\": {\"backgroundcolor\": \"#E5ECF6\", \"gridcolor\": \"white\", \"gridwidth\": 2, \"linecolor\": \"white\", \"showbackground\": true, \"ticks\": \"\", \"zerolinecolor\": \"white\"}, \"yaxis\": {\"backgroundcolor\": \"#E5ECF6\", \"gridcolor\": \"white\", \"gridwidth\": 2, \"linecolor\": \"white\", \"showbackground\": true, \"ticks\": \"\", \"zerolinecolor\": \"white\"}, \"zaxis\": {\"backgroundcolor\": \"#E5ECF6\", \"gridcolor\": \"white\", \"gridwidth\": 2, \"linecolor\": \"white\", \"showbackground\": true, \"ticks\": \"\", \"zerolinecolor\": \"white\"}}, \"shapedefaults\": {\"line\": {\"color\": \"#2a3f5f\"}}, \"ternary\": {\"aaxis\": {\"gridcolor\": \"white\", \"linecolor\": \"white\", \"ticks\": \"\"}, \"baxis\": {\"gridcolor\": \"white\", \"linecolor\": \"white\", \"ticks\": \"\"}, \"bgcolor\": \"#E5ECF6\", \"caxis\": {\"gridcolor\": \"white\", \"linecolor\": \"white\", \"ticks\": \"\"}}, \"title\": {\"x\": 0.05}, \"xaxis\": {\"automargin\": true, \"gridcolor\": \"white\", \"linecolor\": \"white\", \"ticks\": \"\", \"title\": {\"standoff\": 15}, \"zerolinecolor\": \"white\", \"zerolinewidth\": 2}, \"yaxis\": {\"automargin\": true, \"gridcolor\": \"white\", \"linecolor\": \"white\", \"ticks\": \"\", \"title\": {\"standoff\": 15}, \"zerolinecolor\": \"white\", \"zerolinewidth\": 2}}}, \"title\": {\"text\": \"<b>Cross Validation - 5 folds</b><br>LightGBM\"}, \"width\": 800},\n",
       "                        {\"responsive\": true}\n",
       "                    ).then(function(){\n",
       "                            \n",
       "var gd = document.getElementById('67ac71cc-bc2f-4a68-9f4f-c03db522cdda');\n",
       "var x = new MutationObserver(function (mutations, observer) {{\n",
       "        var display = window.getComputedStyle(gd).display;\n",
       "        if (!display || display === 'none') {{\n",
       "            console.log([gd, 'removed!']);\n",
       "            Plotly.purge(gd);\n",
       "            observer.disconnect();\n",
       "        }}\n",
       "}});\n",
       "\n",
       "// Listen for the removal of the full notebook cells\n",
       "var notebookContainer = gd.closest('#notebook-container');\n",
       "if (notebookContainer) {{\n",
       "    x.observe(notebookContainer, {childList: true});\n",
       "}}\n",
       "\n",
       "// Listen for the clearing of the current output cell\n",
       "var outputEl = gd.closest('.output');\n",
       "if (outputEl) {{\n",
       "    x.observe(outputEl, {childList: true});\n",
       "}}\n",
       "\n",
       "                        })\n",
       "                };\n",
       "                });\n",
       "            </script>\n",
       "        </div>"
      ]
     },
     "metadata": {},
     "output_type": "display_data"
    }
   ],
   "source": [
    "scores_table(knn, 'LightGBM')"
   ]
  },
  {
   "cell_type": "markdown",
   "metadata": {},
   "source": [
    "# ANN"
   ]
  },
  {
   "cell_type": "code",
   "execution_count": 69,
   "metadata": {},
   "outputs": [],
   "source": [
    "model=Sequential()\n",
    "model.add(Dense(32,input_shape=(X_train.shape[1],)))\n",
    "model.add(Activation('relu'))\n",
    "model.add(Dense(64,input_shape=(X_train.shape[1],)))\n",
    "model.add(Activation('relu'))\n",
    "model.add(Dense(64,input_shape=(X_train.shape[1],)))\n",
    "model.add(Activation('relu'))\n",
    "model.add(Dense(128,input_shape=(X_train.shape[1],)))\n",
    "model.add(Activation('relu'))\n",
    "model.add(Dense(128,input_shape=(X_train.shape[1],)))\n",
    "model.add(Activation('relu'))\n",
    "model.add(Dense(256,input_shape=(X_train.shape[1],)))\n",
    "model.add(Activation('relu'))\n",
    "model.add(Dense(256,input_shape=(X_train.shape[1],)))\n",
    "model.add(Activation('relu'))\n",
    "model.add(Dense(2))\n",
    "model.add(Activation('softmax'))"
   ]
  },
  {
   "cell_type": "code",
   "execution_count": 70,
   "metadata": {},
   "outputs": [
    {
     "name": "stdout",
     "output_type": "stream",
     "text": [
      "Model: \"sequential\"\n",
      "_________________________________________________________________\n",
      "Layer (type)                 Output Shape              Param #   \n",
      "=================================================================\n",
      "dense (Dense)                (None, 32)                288       \n",
      "_________________________________________________________________\n",
      "activation (Activation)      (None, 32)                0         \n",
      "_________________________________________________________________\n",
      "dense_1 (Dense)              (None, 64)                2112      \n",
      "_________________________________________________________________\n",
      "activation_1 (Activation)    (None, 64)                0         \n",
      "_________________________________________________________________\n",
      "dense_2 (Dense)              (None, 64)                4160      \n",
      "_________________________________________________________________\n",
      "activation_2 (Activation)    (None, 64)                0         \n",
      "_________________________________________________________________\n",
      "dense_3 (Dense)              (None, 128)               8320      \n",
      "_________________________________________________________________\n",
      "activation_3 (Activation)    (None, 128)               0         \n",
      "_________________________________________________________________\n",
      "dense_4 (Dense)              (None, 128)               16512     \n",
      "_________________________________________________________________\n",
      "activation_4 (Activation)    (None, 128)               0         \n",
      "_________________________________________________________________\n",
      "dense_5 (Dense)              (None, 256)               33024     \n",
      "_________________________________________________________________\n",
      "activation_5 (Activation)    (None, 256)               0         \n",
      "_________________________________________________________________\n",
      "dense_6 (Dense)              (None, 256)               65792     \n",
      "_________________________________________________________________\n",
      "activation_6 (Activation)    (None, 256)               0         \n",
      "_________________________________________________________________\n",
      "dense_7 (Dense)              (None, 2)                 514       \n",
      "_________________________________________________________________\n",
      "activation_7 (Activation)    (None, 2)                 0         \n",
      "=================================================================\n",
      "Total params: 130,722\n",
      "Trainable params: 130,722\n",
      "Non-trainable params: 0\n",
      "_________________________________________________________________\n",
      "None\n"
     ]
    }
   ],
   "source": [
    "print(model.summary())"
   ]
  },
  {
   "cell_type": "code",
   "execution_count": 71,
   "metadata": {},
   "outputs": [
    {
     "name": "stdout",
     "output_type": "stream",
     "text": [
      "Epoch 1/40\n",
      "62/62 [==============================] - 0s 4ms/step - loss: 0.6629 - accuracy: 0.6417 - val_loss: 0.6352 - val_accuracy: 0.6494\n",
      "Epoch 2/40\n",
      "62/62 [==============================] - 0s 2ms/step - loss: 0.6233 - accuracy: 0.6515 - val_loss: 0.5995 - val_accuracy: 0.6494\n",
      "Epoch 3/40\n",
      "62/62 [==============================] - 0s 2ms/step - loss: 0.5893 - accuracy: 0.6515 - val_loss: 0.5528 - val_accuracy: 0.6494\n",
      "Epoch 4/40\n",
      "62/62 [==============================] - 0s 2ms/step - loss: 0.5455 - accuracy: 0.6515 - val_loss: 0.4904 - val_accuracy: 0.6494\n",
      "Epoch 5/40\n",
      "62/62 [==============================] - 0s 2ms/step - loss: 0.4968 - accuracy: 0.7117 - val_loss: 0.4237 - val_accuracy: 0.8312\n",
      "Epoch 6/40\n",
      "62/62 [==============================] - 0s 2ms/step - loss: 0.4529 - accuracy: 0.8290 - val_loss: 0.3758 - val_accuracy: 0.8701\n",
      "Epoch 7/40\n",
      "62/62 [==============================] - 0s 2ms/step - loss: 0.4228 - accuracy: 0.8436 - val_loss: 0.3325 - val_accuracy: 0.8831\n",
      "Epoch 8/40\n",
      "62/62 [==============================] - 0s 2ms/step - loss: 0.3984 - accuracy: 0.8502 - val_loss: 0.3009 - val_accuracy: 0.8831\n",
      "Epoch 9/40\n",
      "62/62 [==============================] - 0s 2ms/step - loss: 0.3792 - accuracy: 0.8534 - val_loss: 0.2828 - val_accuracy: 0.8961\n",
      "Epoch 10/40\n",
      "62/62 [==============================] - 0s 2ms/step - loss: 0.3663 - accuracy: 0.8632 - val_loss: 0.2622 - val_accuracy: 0.9026\n",
      "Epoch 11/40\n",
      "62/62 [==============================] - 0s 2ms/step - loss: 0.3565 - accuracy: 0.8697 - val_loss: 0.2484 - val_accuracy: 0.8896\n",
      "Epoch 12/40\n",
      "62/62 [==============================] - 0s 2ms/step - loss: 0.3471 - accuracy: 0.8713 - val_loss: 0.2434 - val_accuracy: 0.9156\n",
      "Epoch 13/40\n",
      "62/62 [==============================] - 0s 2ms/step - loss: 0.3385 - accuracy: 0.8632 - val_loss: 0.2347 - val_accuracy: 0.9091\n",
      "Epoch 14/40\n",
      "62/62 [==============================] - 0s 2ms/step - loss: 0.3311 - accuracy: 0.8730 - val_loss: 0.2307 - val_accuracy: 0.9156\n",
      "Epoch 15/40\n",
      "62/62 [==============================] - 0s 2ms/step - loss: 0.3225 - accuracy: 0.8844 - val_loss: 0.2182 - val_accuracy: 0.9156\n",
      "Epoch 16/40\n",
      "62/62 [==============================] - 0s 2ms/step - loss: 0.3185 - accuracy: 0.8827 - val_loss: 0.2162 - val_accuracy: 0.9221\n",
      "Epoch 17/40\n",
      "62/62 [==============================] - 0s 2ms/step - loss: 0.3123 - accuracy: 0.8893 - val_loss: 0.2218 - val_accuracy: 0.9286\n",
      "Epoch 18/40\n",
      "62/62 [==============================] - 0s 2ms/step - loss: 0.3045 - accuracy: 0.8876 - val_loss: 0.2073 - val_accuracy: 0.9286\n",
      "Epoch 19/40\n",
      "62/62 [==============================] - 0s 2ms/step - loss: 0.3000 - accuracy: 0.8941 - val_loss: 0.2114 - val_accuracy: 0.9286\n",
      "Epoch 20/40\n",
      "62/62 [==============================] - 0s 2ms/step - loss: 0.2931 - accuracy: 0.8974 - val_loss: 0.2023 - val_accuracy: 0.9091\n",
      "Epoch 21/40\n",
      "62/62 [==============================] - 0s 2ms/step - loss: 0.2872 - accuracy: 0.9039 - val_loss: 0.2228 - val_accuracy: 0.9221\n",
      "Epoch 22/40\n",
      "62/62 [==============================] - 0s 2ms/step - loss: 0.2827 - accuracy: 0.9007 - val_loss: 0.2172 - val_accuracy: 0.9286\n",
      "Epoch 23/40\n",
      "62/62 [==============================] - 0s 2ms/step - loss: 0.2766 - accuracy: 0.9104 - val_loss: 0.2252 - val_accuracy: 0.9221\n",
      "Epoch 24/40\n",
      "62/62 [==============================] - 0s 2ms/step - loss: 0.2682 - accuracy: 0.9153 - val_loss: 0.2000 - val_accuracy: 0.9156\n",
      "Epoch 25/40\n",
      "62/62 [==============================] - 0s 2ms/step - loss: 0.2608 - accuracy: 0.9186 - val_loss: 0.2079 - val_accuracy: 0.9091\n",
      "Epoch 26/40\n",
      "62/62 [==============================] - 0s 2ms/step - loss: 0.2580 - accuracy: 0.9137 - val_loss: 0.2078 - val_accuracy: 0.9091\n",
      "Epoch 27/40\n",
      "62/62 [==============================] - 0s 2ms/step - loss: 0.2497 - accuracy: 0.9153 - val_loss: 0.2088 - val_accuracy: 0.9091\n",
      "Epoch 28/40\n",
      "62/62 [==============================] - 0s 2ms/step - loss: 0.2407 - accuracy: 0.9218 - val_loss: 0.2166 - val_accuracy: 0.9221\n",
      "Epoch 29/40\n",
      "62/62 [==============================] - 0s 2ms/step - loss: 0.2373 - accuracy: 0.9300 - val_loss: 0.2143 - val_accuracy: 0.9221\n",
      "Epoch 30/40\n",
      "62/62 [==============================] - 0s 2ms/step - loss: 0.2341 - accuracy: 0.9251 - val_loss: 0.2137 - val_accuracy: 0.9156\n",
      "Epoch 31/40\n",
      "62/62 [==============================] - 0s 2ms/step - loss: 0.2214 - accuracy: 0.9300 - val_loss: 0.2295 - val_accuracy: 0.9026\n",
      "Epoch 32/40\n",
      "62/62 [==============================] - 0s 2ms/step - loss: 0.2208 - accuracy: 0.9332 - val_loss: 0.3166 - val_accuracy: 0.8636\n",
      "Epoch 33/40\n",
      "62/62 [==============================] - 0s 2ms/step - loss: 0.2183 - accuracy: 0.9251 - val_loss: 0.2322 - val_accuracy: 0.8961\n",
      "Epoch 34/40\n",
      "62/62 [==============================] - 0s 2ms/step - loss: 0.2147 - accuracy: 0.9283 - val_loss: 0.2235 - val_accuracy: 0.9156\n",
      "Epoch 35/40\n",
      "62/62 [==============================] - 0s 2ms/step - loss: 0.2096 - accuracy: 0.9235 - val_loss: 0.2336 - val_accuracy: 0.9026\n",
      "Epoch 36/40\n",
      "62/62 [==============================] - 0s 2ms/step - loss: 0.2040 - accuracy: 0.9300 - val_loss: 0.2451 - val_accuracy: 0.9026\n",
      "Epoch 37/40\n",
      "62/62 [==============================] - 0s 2ms/step - loss: 0.1860 - accuracy: 0.9381 - val_loss: 0.2451 - val_accuracy: 0.8961\n",
      "Epoch 38/40\n",
      "62/62 [==============================] - 0s 2ms/step - loss: 0.1773 - accuracy: 0.9479 - val_loss: 0.2185 - val_accuracy: 0.9091\n",
      "Epoch 39/40\n",
      "62/62 [==============================] - 0s 2ms/step - loss: 0.1769 - accuracy: 0.9446 - val_loss: 0.2171 - val_accuracy: 0.9091\n",
      "Epoch 40/40\n",
      "62/62 [==============================] - 0s 2ms/step - loss: 0.1675 - accuracy: 0.9446 - val_loss: 0.2639 - val_accuracy: 0.9026\n",
      "Loss:0.263928085565567\n",
      "Accuracy:90.2597427368164\n"
     ]
    }
   ],
   "source": [
    "model.compile(loss='sparse_categorical_crossentropy',optimizer='sgd',metrics=['accuracy'])\n",
    "model.fit(X_train,Y_train,batch_size=10,epochs=40,verbose=1,validation_data=(X_test,Y_test))\n",
    "loss,accuracy=model.evaluate(X_test,Y_test,verbose=0)\n",
    "print('Loss:'+str(loss))\n",
    "print('Accuracy:'+str(accuracy*100.0))"
   ]
  },
  {
   "cell_type": "code",
   "execution_count": 72,
   "metadata": {},
   "outputs": [
    {
     "name": "stdout",
     "output_type": "stream",
     "text": [
      "WARNING:tensorflow:From <ipython-input-72-09c3075c7bfd>:1: Sequential.predict_proba (from tensorflow.python.keras.engine.sequential) is deprecated and will be removed after 2021-01-01.\n",
      "Instructions for updating:\n",
      "Please use `model.predict()` instead.\n"
     ]
    }
   ],
   "source": [
    "y_pred_proba9 = model.predict_proba(X_test)[:,1]\n",
    "y_pred9=model.predict(X_test)"
   ]
  },
  {
   "cell_type": "code",
   "execution_count": 73,
   "metadata": {},
   "outputs": [
    {
     "ename": "ValueError",
     "evalue": "Classification metrics can't handle a mix of binary and continuous-multioutput targets",
     "output_type": "error",
     "traceback": [
      "\u001b[1;31m---------------------------------------------------------------------------\u001b[0m",
      "\u001b[1;31mValueError\u001b[0m                                Traceback (most recent call last)",
      "\u001b[1;32m<ipython-input-73-cb8857ce593e>\u001b[0m in \u001b[0;36m<module>\u001b[1;34m\u001b[0m\n\u001b[1;32m----> 1\u001b[1;33m \u001b[0mprint\u001b[0m\u001b[1;33m(\u001b[0m\u001b[0mclassification_report\u001b[0m\u001b[1;33m(\u001b[0m\u001b[0mY_test\u001b[0m\u001b[1;33m,\u001b[0m\u001b[0my_pred9\u001b[0m\u001b[1;33m)\u001b[0m\u001b[1;33m)\u001b[0m\u001b[1;33m\u001b[0m\u001b[1;33m\u001b[0m\u001b[0m\n\u001b[0m",
      "\u001b[1;32mE:\\Users\\86135\\anaconda3\\lib\\site-packages\\sklearn\\utils\\validation.py\u001b[0m in \u001b[0;36minner_f\u001b[1;34m(*args, **kwargs)\u001b[0m\n\u001b[0;32m     71\u001b[0m                           FutureWarning)\n\u001b[0;32m     72\u001b[0m         \u001b[0mkwargs\u001b[0m\u001b[1;33m.\u001b[0m\u001b[0mupdate\u001b[0m\u001b[1;33m(\u001b[0m\u001b[1;33m{\u001b[0m\u001b[0mk\u001b[0m\u001b[1;33m:\u001b[0m \u001b[0marg\u001b[0m \u001b[1;32mfor\u001b[0m \u001b[0mk\u001b[0m\u001b[1;33m,\u001b[0m \u001b[0marg\u001b[0m \u001b[1;32min\u001b[0m \u001b[0mzip\u001b[0m\u001b[1;33m(\u001b[0m\u001b[0msig\u001b[0m\u001b[1;33m.\u001b[0m\u001b[0mparameters\u001b[0m\u001b[1;33m,\u001b[0m \u001b[0margs\u001b[0m\u001b[1;33m)\u001b[0m\u001b[1;33m}\u001b[0m\u001b[1;33m)\u001b[0m\u001b[1;33m\u001b[0m\u001b[1;33m\u001b[0m\u001b[0m\n\u001b[1;32m---> 73\u001b[1;33m         \u001b[1;32mreturn\u001b[0m \u001b[0mf\u001b[0m\u001b[1;33m(\u001b[0m\u001b[1;33m**\u001b[0m\u001b[0mkwargs\u001b[0m\u001b[1;33m)\u001b[0m\u001b[1;33m\u001b[0m\u001b[1;33m\u001b[0m\u001b[0m\n\u001b[0m\u001b[0;32m     74\u001b[0m     \u001b[1;32mreturn\u001b[0m \u001b[0minner_f\u001b[0m\u001b[1;33m\u001b[0m\u001b[1;33m\u001b[0m\u001b[0m\n\u001b[0;32m     75\u001b[0m \u001b[1;33m\u001b[0m\u001b[0m\n",
      "\u001b[1;32mE:\\Users\\86135\\anaconda3\\lib\\site-packages\\sklearn\\metrics\\_classification.py\u001b[0m in \u001b[0;36mclassification_report\u001b[1;34m(y_true, y_pred, labels, target_names, sample_weight, digits, output_dict, zero_division)\u001b[0m\n\u001b[0;32m   1927\u001b[0m     \"\"\"\n\u001b[0;32m   1928\u001b[0m \u001b[1;33m\u001b[0m\u001b[0m\n\u001b[1;32m-> 1929\u001b[1;33m     \u001b[0my_type\u001b[0m\u001b[1;33m,\u001b[0m \u001b[0my_true\u001b[0m\u001b[1;33m,\u001b[0m \u001b[0my_pred\u001b[0m \u001b[1;33m=\u001b[0m \u001b[0m_check_targets\u001b[0m\u001b[1;33m(\u001b[0m\u001b[0my_true\u001b[0m\u001b[1;33m,\u001b[0m \u001b[0my_pred\u001b[0m\u001b[1;33m)\u001b[0m\u001b[1;33m\u001b[0m\u001b[1;33m\u001b[0m\u001b[0m\n\u001b[0m\u001b[0;32m   1930\u001b[0m \u001b[1;33m\u001b[0m\u001b[0m\n\u001b[0;32m   1931\u001b[0m     \u001b[0mlabels_given\u001b[0m \u001b[1;33m=\u001b[0m \u001b[1;32mTrue\u001b[0m\u001b[1;33m\u001b[0m\u001b[1;33m\u001b[0m\u001b[0m\n",
      "\u001b[1;32mE:\\Users\\86135\\anaconda3\\lib\\site-packages\\sklearn\\metrics\\_classification.py\u001b[0m in \u001b[0;36m_check_targets\u001b[1;34m(y_true, y_pred)\u001b[0m\n\u001b[0;32m     89\u001b[0m     \u001b[1;32mif\u001b[0m \u001b[0mlen\u001b[0m\u001b[1;33m(\u001b[0m\u001b[0my_type\u001b[0m\u001b[1;33m)\u001b[0m \u001b[1;33m>\u001b[0m \u001b[1;36m1\u001b[0m\u001b[1;33m:\u001b[0m\u001b[1;33m\u001b[0m\u001b[1;33m\u001b[0m\u001b[0m\n\u001b[0;32m     90\u001b[0m         raise ValueError(\"Classification metrics can't handle a mix of {0} \"\n\u001b[1;32m---> 91\u001b[1;33m                          \"and {1} targets\".format(type_true, type_pred))\n\u001b[0m\u001b[0;32m     92\u001b[0m \u001b[1;33m\u001b[0m\u001b[0m\n\u001b[0;32m     93\u001b[0m     \u001b[1;31m# We can't have more than one value on y_type => The set is no more needed\u001b[0m\u001b[1;33m\u001b[0m\u001b[1;33m\u001b[0m\u001b[1;33m\u001b[0m\u001b[0m\n",
      "\u001b[1;31mValueError\u001b[0m: Classification metrics can't handle a mix of binary and continuous-multioutput targets"
     ]
    }
   ],
   "source": [
    "print(classification_report(Y_test,y_pred9))"
   ]
  },
  {
   "cell_type": "code",
   "execution_count": 74,
   "metadata": {},
   "outputs": [
    {
     "data": {
      "image/png": "[encoded data removed]",
      "text/plain": [
       "<Figure size 576x396 with 1 Axes>"
      ]
     },
     "metadata": {},
     "output_type": "display_data"
    }
   ],
   "source": [
    "fpr, tpr, thresholds = roc_curve(Y_test, y_pred_proba9)\n",
    "roc_auc=auc(fpr,tpr)\n",
    "plt.plot([0,1],[0,1],'k--')\n",
    "plt.plot(fpr,tpr,label='ROC curve(area=%.2f)'%roc_auc)\n",
    "plt.xlabel('False positive rate')\n",
    "plt.ylabel('True positive rate')\n",
    "plt.xlabel('fpr')\n",
    "plt.ylabel('tpr')\n",
    "plt.legend(loc='lower right')\n",
    "plt.title('ANN ROC curve')\n",
    "plt.grid()\n",
    "plt.show()"
   ]
  },
  {
   "cell_type": "code",
   "execution_count": 75,
   "metadata": {},
   "outputs": [
    {
     "ename": "ValueError",
     "evalue": "Classification metrics can't handle a mix of binary and continuous-multioutput targets",
     "output_type": "error",
     "traceback": [
      "\u001b[1;31m---------------------------------------------------------------------------\u001b[0m",
      "\u001b[1;31mValueError\u001b[0m                                Traceback (most recent call last)",
      "\u001b[1;32m<ipython-input-75-c92b1147fda9>\u001b[0m in \u001b[0;36m<module>\u001b[1;34m\u001b[0m\n\u001b[1;32m----> 1\u001b[1;33m \u001b[0maccuracy_score\u001b[0m\u001b[1;33m(\u001b[0m\u001b[0mY_test\u001b[0m\u001b[1;33m,\u001b[0m\u001b[0my_pred9\u001b[0m\u001b[1;33m)\u001b[0m\u001b[1;33m\u001b[0m\u001b[1;33m\u001b[0m\u001b[0m\n\u001b[0m",
      "\u001b[1;32mE:\\Users\\86135\\anaconda3\\lib\\site-packages\\sklearn\\utils\\validation.py\u001b[0m in \u001b[0;36minner_f\u001b[1;34m(*args, **kwargs)\u001b[0m\n\u001b[0;32m     71\u001b[0m                           FutureWarning)\n\u001b[0;32m     72\u001b[0m         \u001b[0mkwargs\u001b[0m\u001b[1;33m.\u001b[0m\u001b[0mupdate\u001b[0m\u001b[1;33m(\u001b[0m\u001b[1;33m{\u001b[0m\u001b[0mk\u001b[0m\u001b[1;33m:\u001b[0m \u001b[0marg\u001b[0m \u001b[1;32mfor\u001b[0m \u001b[0mk\u001b[0m\u001b[1;33m,\u001b[0m \u001b[0marg\u001b[0m \u001b[1;32min\u001b[0m \u001b[0mzip\u001b[0m\u001b[1;33m(\u001b[0m\u001b[0msig\u001b[0m\u001b[1;33m.\u001b[0m\u001b[0mparameters\u001b[0m\u001b[1;33m,\u001b[0m \u001b[0margs\u001b[0m\u001b[1;33m)\u001b[0m\u001b[1;33m}\u001b[0m\u001b[1;33m)\u001b[0m\u001b[1;33m\u001b[0m\u001b[1;33m\u001b[0m\u001b[0m\n\u001b[1;32m---> 73\u001b[1;33m         \u001b[1;32mreturn\u001b[0m \u001b[0mf\u001b[0m\u001b[1;33m(\u001b[0m\u001b[1;33m**\u001b[0m\u001b[0mkwargs\u001b[0m\u001b[1;33m)\u001b[0m\u001b[1;33m\u001b[0m\u001b[1;33m\u001b[0m\u001b[0m\n\u001b[0m\u001b[0;32m     74\u001b[0m     \u001b[1;32mreturn\u001b[0m \u001b[0minner_f\u001b[0m\u001b[1;33m\u001b[0m\u001b[1;33m\u001b[0m\u001b[0m\n\u001b[0;32m     75\u001b[0m \u001b[1;33m\u001b[0m\u001b[0m\n",
      "\u001b[1;32mE:\\Users\\86135\\anaconda3\\lib\\site-packages\\sklearn\\metrics\\_classification.py\u001b[0m in \u001b[0;36maccuracy_score\u001b[1;34m(y_true, y_pred, normalize, sample_weight)\u001b[0m\n\u001b[0;32m    185\u001b[0m \u001b[1;33m\u001b[0m\u001b[0m\n\u001b[0;32m    186\u001b[0m     \u001b[1;31m# Compute accuracy for each possible representation\u001b[0m\u001b[1;33m\u001b[0m\u001b[1;33m\u001b[0m\u001b[1;33m\u001b[0m\u001b[0m\n\u001b[1;32m--> 187\u001b[1;33m     \u001b[0my_type\u001b[0m\u001b[1;33m,\u001b[0m \u001b[0my_true\u001b[0m\u001b[1;33m,\u001b[0m \u001b[0my_pred\u001b[0m \u001b[1;33m=\u001b[0m \u001b[0m_check_targets\u001b[0m\u001b[1;33m(\u001b[0m\u001b[0my_true\u001b[0m\u001b[1;33m,\u001b[0m \u001b[0my_pred\u001b[0m\u001b[1;33m)\u001b[0m\u001b[1;33m\u001b[0m\u001b[1;33m\u001b[0m\u001b[0m\n\u001b[0m\u001b[0;32m    188\u001b[0m     \u001b[0mcheck_consistent_length\u001b[0m\u001b[1;33m(\u001b[0m\u001b[0my_true\u001b[0m\u001b[1;33m,\u001b[0m \u001b[0my_pred\u001b[0m\u001b[1;33m,\u001b[0m \u001b[0msample_weight\u001b[0m\u001b[1;33m)\u001b[0m\u001b[1;33m\u001b[0m\u001b[1;33m\u001b[0m\u001b[0m\n\u001b[0;32m    189\u001b[0m     \u001b[1;32mif\u001b[0m \u001b[0my_type\u001b[0m\u001b[1;33m.\u001b[0m\u001b[0mstartswith\u001b[0m\u001b[1;33m(\u001b[0m\u001b[1;34m'multilabel'\u001b[0m\u001b[1;33m)\u001b[0m\u001b[1;33m:\u001b[0m\u001b[1;33m\u001b[0m\u001b[1;33m\u001b[0m\u001b[0m\n",
      "\u001b[1;32mE:\\Users\\86135\\anaconda3\\lib\\site-packages\\sklearn\\metrics\\_classification.py\u001b[0m in \u001b[0;36m_check_targets\u001b[1;34m(y_true, y_pred)\u001b[0m\n\u001b[0;32m     89\u001b[0m     \u001b[1;32mif\u001b[0m \u001b[0mlen\u001b[0m\u001b[1;33m(\u001b[0m\u001b[0my_type\u001b[0m\u001b[1;33m)\u001b[0m \u001b[1;33m>\u001b[0m \u001b[1;36m1\u001b[0m\u001b[1;33m:\u001b[0m\u001b[1;33m\u001b[0m\u001b[1;33m\u001b[0m\u001b[0m\n\u001b[0;32m     90\u001b[0m         raise ValueError(\"Classification metrics can't handle a mix of {0} \"\n\u001b[1;32m---> 91\u001b[1;33m                          \"and {1} targets\".format(type_true, type_pred))\n\u001b[0m\u001b[0;32m     92\u001b[0m \u001b[1;33m\u001b[0m\u001b[0m\n\u001b[0;32m     93\u001b[0m     \u001b[1;31m# We can't have more than one value on y_type => The set is no more needed\u001b[0m\u001b[1;33m\u001b[0m\u001b[1;33m\u001b[0m\u001b[1;33m\u001b[0m\u001b[0m\n",
      "\u001b[1;31mValueError\u001b[0m: Classification metrics can't handle a mix of binary and continuous-multioutput targets"
     ]
    }
   ],
   "source": [
    "accuracy_score(Y_test,y_pred9)"
   ]
  },
  {
   "cell_type": "code",
   "execution_count": 76,
   "metadata": {},
   "outputs": [],
   "source": [
    "model.save('saved_model/ANN.h5')"
   ]
  },
  {
   "cell_type": "code",
   "execution_count": 77,
   "metadata": {},
   "outputs": [],
   "source": [
    "def get_models():  \n",
    "    models={'svm_rbf':SVM1,  #支持向量机\n",
    "           'knn':knn,   #K近邻估计\n",
    "           'svm_linear':SVM2,  #朴素贝叶斯\n",
    "           'ANN':model,      \n",
    "           'random forest':RF,    #随机森林\n",
    "           'Logistic Regression':LR}         #逻辑回归\n",
    "    return models"
   ]
  },
  {
   "cell_type": "code",
   "execution_count": 78,
   "metadata": {},
   "outputs": [],
   "source": [
    "def train_predict(model_list):\n",
    "    P=np.zeros((Y_test.shape[0],len(model_list))) #数据框形状\n",
    "    P=pd.DataFrame(P)\n",
    "    \n",
    "    print('Fitting models.')\n",
    "    cols=list()\n",
    "    for i,(name,m) in enumerate(models.items()):\n",
    "        print('%s...'% name,end=\"\",flush=False)  #flush=F 请求完毕后输出相应内容\n",
    "        P.iloc[:,i]=m.predict_proba(X_test)[:,1]  #填入预测值\n",
    "        cols.append(name)        #收集名称\n",
    "        print('done')    \n",
    "    print('Done.\\n')\n",
    "    P.colunms=cols              #数据框列名\n",
    "    return P"
   ]
  },
  {
   "cell_type": "code",
   "execution_count": 79,
   "metadata": {},
   "outputs": [],
   "source": [
    "def score_models(P,y_test):\n",
    "    print('scoring models.')\n",
    "    for m in P.columns:\n",
    "        score=roc_auc_score(Y_test,P.iloc[:,m])\n",
    "        print('%-26s:%.3f' %(m,score))\n",
    "    print('Done.\\n')"
   ]
  },
  {
   "cell_type": "code",
   "execution_count": 80,
   "metadata": {},
   "outputs": [
    {
     "data": {
      "text/plain": [
       "[0, 1, 2]"
      ]
     },
     "execution_count": 80,
     "metadata": {},
     "output_type": "execute_result"
    }
   ],
   "source": [
    "cols=list()\n",
    "for name in range(0,3):\n",
    "    cols.append(name)\n",
    "cols"
   ]
  },
  {
   "cell_type": "code",
   "execution_count": 81,
   "metadata": {},
   "outputs": [
    {
     "name": "stdout",
     "output_type": "stream",
     "text": [
      "Fitting models.\n",
      "svm_rbf...done\n",
      "knn...done\n",
      "svm_linear...done\n",
      "ANN...done\n",
      "random forest...done\n",
      "Logistic Regression...done\n",
      "Done.\n",
      "\n",
      "scoring models.\n",
      "0                         :0.941\n",
      "1                         :0.500\n",
      "2                         :0.973\n",
      "3                         :0.960\n",
      "4                         :0.987\n",
      "5                         :0.972\n",
      "Done.\n",
      "\n"
     ]
    }
   ],
   "source": [
    "import warnings\n",
    "warnings.filterwarnings('ignore')\n",
    "models=get_models()\n",
    "P=train_predict(models)\n",
    "score_models(P,Y_test)"
   ]
  },
  {
   "cell_type": "code",
   "execution_count": 82,
   "metadata": {},
   "outputs": [
    {
     "data": {
      "text/html": [
       "<div>\n",
       "<style scoped>\n",
       "    .dataframe tbody tr th:only-of-type {\n",
       "        vertical-align: middle;\n",
       "    }\n",
       "\n",
       "    .dataframe tbody tr th {\n",
       "        vertical-align: top;\n",
       "    }\n",
       "\n",
       "    .dataframe thead th {\n",
       "        text-align: right;\n",
       "    }\n",
       "</style>\n",
       "<table border=\"1\" class=\"dataframe\">\n",
       "  <thead>\n",
       "    <tr style=\"text-align: right;\">\n",
       "      <th></th>\n",
       "      <th>svm_rbf</th>\n",
       "      <th>knn</th>\n",
       "      <th>svm_linear</th>\n",
       "      <th>ANN</th>\n",
       "      <th>random forest</th>\n",
       "      <th>Logistic Regression</th>\n",
       "    </tr>\n",
       "  </thead>\n",
       "  <tbody>\n",
       "    <tr>\n",
       "      <th>0</th>\n",
       "      <td>0.002693</td>\n",
       "      <td>0.0</td>\n",
       "      <td>0.229881</td>\n",
       "      <td>0.024203</td>\n",
       "      <td>0.08</td>\n",
       "      <td>0.318284</td>\n",
       "    </tr>\n",
       "    <tr>\n",
       "      <th>1</th>\n",
       "      <td>0.909154</td>\n",
       "      <td>0.0</td>\n",
       "      <td>0.606510</td>\n",
       "      <td>0.894445</td>\n",
       "      <td>0.93</td>\n",
       "      <td>0.493507</td>\n",
       "    </tr>\n",
       "    <tr>\n",
       "      <th>2</th>\n",
       "      <td>0.005865</td>\n",
       "      <td>0.0</td>\n",
       "      <td>0.051872</td>\n",
       "      <td>0.000743</td>\n",
       "      <td>0.01</td>\n",
       "      <td>0.012141</td>\n",
       "    </tr>\n",
       "    <tr>\n",
       "      <th>3</th>\n",
       "      <td>0.806549</td>\n",
       "      <td>0.0</td>\n",
       "      <td>0.273067</td>\n",
       "      <td>0.024381</td>\n",
       "      <td>0.17</td>\n",
       "      <td>0.529396</td>\n",
       "    </tr>\n",
       "    <tr>\n",
       "      <th>4</th>\n",
       "      <td>0.125046</td>\n",
       "      <td>0.0</td>\n",
       "      <td>0.126526</td>\n",
       "      <td>0.007048</td>\n",
       "      <td>0.03</td>\n",
       "      <td>0.059056</td>\n",
       "    </tr>\n",
       "    <tr>\n",
       "      <th>...</th>\n",
       "      <td>...</td>\n",
       "      <td>...</td>\n",
       "      <td>...</td>\n",
       "      <td>...</td>\n",
       "      <td>...</td>\n",
       "      <td>...</td>\n",
       "    </tr>\n",
       "    <tr>\n",
       "      <th>149</th>\n",
       "      <td>0.040002</td>\n",
       "      <td>0.0</td>\n",
       "      <td>0.017835</td>\n",
       "      <td>0.002160</td>\n",
       "      <td>0.00</td>\n",
       "      <td>0.009070</td>\n",
       "    </tr>\n",
       "    <tr>\n",
       "      <th>150</th>\n",
       "      <td>0.800573</td>\n",
       "      <td>0.0</td>\n",
       "      <td>0.461104</td>\n",
       "      <td>0.451272</td>\n",
       "      <td>0.66</td>\n",
       "      <td>0.808061</td>\n",
       "    </tr>\n",
       "    <tr>\n",
       "      <th>151</th>\n",
       "      <td>0.968578</td>\n",
       "      <td>0.0</td>\n",
       "      <td>0.820366</td>\n",
       "      <td>0.979700</td>\n",
       "      <td>0.87</td>\n",
       "      <td>0.861446</td>\n",
       "    </tr>\n",
       "    <tr>\n",
       "      <th>152</th>\n",
       "      <td>0.736011</td>\n",
       "      <td>0.0</td>\n",
       "      <td>0.782482</td>\n",
       "      <td>0.981998</td>\n",
       "      <td>0.98</td>\n",
       "      <td>0.847846</td>\n",
       "    </tr>\n",
       "    <tr>\n",
       "      <th>153</th>\n",
       "      <td>0.114135</td>\n",
       "      <td>0.0</td>\n",
       "      <td>0.111318</td>\n",
       "      <td>0.027030</td>\n",
       "      <td>0.06</td>\n",
       "      <td>0.102323</td>\n",
       "    </tr>\n",
       "  </tbody>\n",
       "</table>\n",
       "<p>154 rows × 6 columns</p>\n",
       "</div>"
      ],
      "text/plain": [
       "      svm_rbf  knn  svm_linear       ANN  random forest  Logistic Regression\n",
       "0    0.002693  0.0    0.229881  0.024203           0.08             0.318284\n",
       "1    0.909154  0.0    0.606510  0.894445           0.93             0.493507\n",
       "2    0.005865  0.0    0.051872  0.000743           0.01             0.012141\n",
       "3    0.806549  0.0    0.273067  0.024381           0.17             0.529396\n",
       "4    0.125046  0.0    0.126526  0.007048           0.03             0.059056\n",
       "..        ...  ...         ...       ...            ...                  ...\n",
       "149  0.040002  0.0    0.017835  0.002160           0.00             0.009070\n",
       "150  0.800573  0.0    0.461104  0.451272           0.66             0.808061\n",
       "151  0.968578  0.0    0.820366  0.979700           0.87             0.861446\n",
       "152  0.736011  0.0    0.782482  0.981998           0.98             0.847846\n",
       "153  0.114135  0.0    0.111318  0.027030           0.06             0.102323\n",
       "\n",
       "[154 rows x 6 columns]"
      ]
     },
     "execution_count": 82,
     "metadata": {},
     "output_type": "execute_result"
    }
   ],
   "source": [
    "cols=list()\n",
    "for name in models.keys():\n",
    "    cols.append(name)\n",
    "    \n",
    "P.columns=cols\n",
    "P"
   ]
  },
  {
   "cell_type": "code",
   "execution_count": 83,
   "metadata": {},
   "outputs": [
    {
     "name": "stderr",
     "output_type": "stream",
     "text": [
      "[MLENS] backend: threading\n"
     ]
    },
    {
     "data": {
      "image/png": "[encoded data removed]",
      "text/plain": [
       "<Figure size 792x648 with 2 Axes>"
      ]
     },
     "metadata": {},
     "output_type": "display_data"
    }
   ],
   "source": [
    "from mlens.visualization import corrmat\n",
    "corrmat(P.corr(),inflate=False)\n",
    "plt.show()"
   ]
  },
  {
   "cell_type": "code",
   "execution_count": 84,
   "metadata": {},
   "outputs": [
    {
     "name": "stdout",
     "output_type": "stream",
     "text": [
      "Ensemble roc_auc score: 0.987\n"
     ]
    }
   ],
   "source": [
    "print('Ensemble roc_auc score: %.3f' % roc_auc_score(Y_test,P.mean(axis=1)))"
   ]
  },
  {
   "cell_type": "code",
   "execution_count": 85,
   "metadata": {},
   "outputs": [
    {
     "data": {
      "image/png": "[encoded data removed]",
      "text/plain": [
       "<Figure size 720x576 with 1 Axes>"
      ]
     },
     "metadata": {},
     "output_type": "display_data"
    }
   ],
   "source": [
    "from sklearn.metrics import roc_curve\n",
    "def plot_roc_curve(ytest, P_base_learners, P_ensemble, labels, ens_label):\n",
    "    \"\"\"Plot the roc curve for base learners and ensemble.\"\"\"\n",
    "    plt.figure(figsize=(10, 8))\n",
    "    plt.plot([0, 1], [0, 1], 'k--')\n",
    "    \n",
    "    cm = [plt.cm.rainbow(i)\n",
    "      for i in np.linspace(0, 1.0, P_base_learners.shape[1] + 1)]\n",
    "    \n",
    "    for i in range(P_base_learners.shape[1]):\n",
    "        p = P_base_learners[:, i]\n",
    "        fpr, tpr, _ = roc_curve(Y_test, p)\n",
    "        plt.plot(fpr, tpr, label=labels[i], c=cm[i + 1])\n",
    "\n",
    "    fpr, tpr, _ = roc_curve(Y_test, P_ensemble)\n",
    "    plt.plot(fpr, tpr, label=ens_label, c=cm[0])\n",
    "        \n",
    "    plt.xlabel('False positive rate')\n",
    "    plt.ylabel('True positive rate')\n",
    "    plt.title('ROC curve')\n",
    "    plt.legend(frameon=False)\n",
    "    plt.show()\n",
    "\n",
    "\n",
    "plot_roc_curve(Y_test, P.values, P.mean(axis=1), list(P.columns), \"ensemble\")"
   ]
  },
  {
   "cell_type": "code",
   "execution_count": 86,
   "metadata": {},
   "outputs": [
    {
     "name": "stdout",
     "output_type": "stream",
     "text": [
      "Fitting 5 folds for each of 16 candidates, totalling 80 fits\n",
      "[CV] C=0.1, gamma=1 ..................................................\n",
      "[CV] ................................... C=0.1, gamma=1, total=   0.0s\n",
      "[CV] C=0.1, gamma=1 ..................................................\n",
      "[CV] ................................... C=0.1, gamma=1, total=   0.0s\n",
      "[CV] C=0.1, gamma=1 ..................................................\n",
      "[CV] ................................... C=0.1, gamma=1, total=   0.0s\n",
      "[CV] C=0.1, gamma=1 ..................................................\n",
      "[CV] ................................... C=0.1, gamma=1, total=   0.0s\n",
      "[CV] C=0.1, gamma=1 ..................................................\n",
      "[CV] ................................... C=0.1, gamma=1, total=   0.0s\n",
      "[CV] C=0.1, gamma=0.1 ................................................\n"
     ]
    },
    {
     "name": "stderr",
     "output_type": "stream",
     "text": [
      "[Parallel(n_jobs=1)]: Using backend SequentialBackend with 1 concurrent workers.\n",
      "[Parallel(n_jobs=1)]: Done   1 out of   1 | elapsed:    0.0s remaining:    0.0s\n"
     ]
    },
    {
     "name": "stdout",
     "output_type": "stream",
     "text": [
      "[CV] ................................. C=0.1, gamma=0.1, total=   0.0s\n",
      "[CV] C=0.1, gamma=0.1 ................................................\n",
      "[CV] ................................. C=0.1, gamma=0.1, total=   0.0s\n",
      "[CV] C=0.1, gamma=0.1 ................................................\n",
      "[CV] ................................. C=0.1, gamma=0.1, total=   0.0s\n",
      "[CV] C=0.1, gamma=0.1 ................................................\n",
      "[CV] ................................. C=0.1, gamma=0.1, total=   0.0s\n",
      "[CV] C=0.1, gamma=0.1 ................................................\n",
      "[CV] ................................. C=0.1, gamma=0.1, total=   0.0s\n",
      "[CV] C=0.1, gamma=0.01 ...............................................\n",
      "[CV] ................................ C=0.1, gamma=0.01, total=   0.0s\n",
      "[CV] C=0.1, gamma=0.01 ...............................................\n",
      "[CV] ................................ C=0.1, gamma=0.01, total=   0.0s\n",
      "[CV] C=0.1, gamma=0.01 ...............................................\n",
      "[CV] ................................ C=0.1, gamma=0.01, total=   0.0s\n",
      "[CV] C=0.1, gamma=0.01 ...............................................\n",
      "[CV] ................................ C=0.1, gamma=0.01, total=   0.0s\n",
      "[CV] C=0.1, gamma=0.01 ...............................................\n",
      "[CV] ................................ C=0.1, gamma=0.01, total=   0.0s\n",
      "[CV] C=0.1, gamma=0.001 ..............................................\n",
      "[CV] ............................... C=0.1, gamma=0.001, total=   0.0s\n",
      "[CV] C=0.1, gamma=0.001 ..............................................\n",
      "[CV] ............................... C=0.1, gamma=0.001, total=   0.0s\n",
      "[CV] C=0.1, gamma=0.001 ..............................................\n",
      "[CV] ............................... C=0.1, gamma=0.001, total=   0.0s\n",
      "[CV] C=0.1, gamma=0.001 ..............................................\n",
      "[CV] ............................... C=0.1, gamma=0.001, total=   0.0s\n",
      "[CV] C=0.1, gamma=0.001 ..............................................\n",
      "[CV] ............................... C=0.1, gamma=0.001, total=   0.0s\n",
      "[CV] C=1, gamma=1 ....................................................\n",
      "[CV] ..................................... C=1, gamma=1, total=   0.0s\n",
      "[CV] C=1, gamma=1 ....................................................\n",
      "[CV] ..................................... C=1, gamma=1, total=   0.0s\n",
      "[CV] C=1, gamma=1 ....................................................\n",
      "[CV] ..................................... C=1, gamma=1, total=   0.0s\n",
      "[CV] C=1, gamma=1 ....................................................\n",
      "[CV] ..................................... C=1, gamma=1, total=   0.0s\n",
      "[CV] C=1, gamma=1 ....................................................\n",
      "[CV] ..................................... C=1, gamma=1, total=   0.0s\n",
      "[CV] C=1, gamma=0.1 ..................................................\n",
      "[CV] ................................... C=1, gamma=0.1, total=   0.0s\n",
      "[CV] C=1, gamma=0.1 ..................................................\n",
      "[CV] ................................... C=1, gamma=0.1, total=   0.0s\n",
      "[CV] C=1, gamma=0.1 ..................................................\n",
      "[CV] ................................... C=1, gamma=0.1, total=   0.0s\n",
      "[CV] C=1, gamma=0.1 ..................................................\n",
      "[CV] ................................... C=1, gamma=0.1, total=   0.0s\n",
      "[CV] C=1, gamma=0.1 ..................................................\n",
      "[CV] ................................... C=1, gamma=0.1, total=   0.1s\n",
      "[CV] C=1, gamma=0.01 .................................................\n",
      "[CV] .................................. C=1, gamma=0.01, total=   0.0s\n",
      "[CV] C=1, gamma=0.01 .................................................\n",
      "[CV] .................................. C=1, gamma=0.01, total=   0.0s\n",
      "[CV] C=1, gamma=0.01 .................................................\n",
      "[CV] .................................. C=1, gamma=0.01, total=   0.0s\n",
      "[CV] C=1, gamma=0.01 .................................................\n",
      "[CV] .................................. C=1, gamma=0.01, total=   0.0s\n",
      "[CV] C=1, gamma=0.01 .................................................\n",
      "[CV] .................................. C=1, gamma=0.01, total=   0.0s\n",
      "[CV] C=1, gamma=0.001 ................................................\n",
      "[CV] ................................. C=1, gamma=0.001, total=   0.0s\n",
      "[CV] C=1, gamma=0.001 ................................................\n",
      "[CV] ................................. C=1, gamma=0.001, total=   0.0s\n",
      "[CV] C=1, gamma=0.001 ................................................\n",
      "[CV] ................................. C=1, gamma=0.001, total=   0.0s\n",
      "[CV] C=1, gamma=0.001 ................................................\n",
      "[CV] ................................. C=1, gamma=0.001, total=   0.0s\n",
      "[CV] C=1, gamma=0.001 ................................................\n",
      "[CV] ................................. C=1, gamma=0.001, total=   0.0s\n",
      "[CV] C=10, gamma=1 ...................................................\n",
      "[CV] .................................... C=10, gamma=1, total=   0.0s\n",
      "[CV] C=10, gamma=1 ...................................................\n",
      "[CV] .................................... C=10, gamma=1, total=   0.0s\n",
      "[CV] C=10, gamma=1 ...................................................\n",
      "[CV] .................................... C=10, gamma=1, total=   0.0s\n",
      "[CV] C=10, gamma=1 ...................................................\n",
      "[CV] .................................... C=10, gamma=1, total=   0.1s\n",
      "[CV] C=10, gamma=1 ...................................................\n",
      "[CV] .................................... C=10, gamma=1, total=   0.0s\n",
      "[CV] C=10, gamma=0.1 .................................................\n",
      "[CV] .................................. C=10, gamma=0.1, total=   0.0s\n",
      "[CV] C=10, gamma=0.1 .................................................\n",
      "[CV] .................................. C=10, gamma=0.1, total=   0.0s\n",
      "[CV] C=10, gamma=0.1 .................................................\n",
      "[CV] .................................. C=10, gamma=0.1, total=   0.0s\n",
      "[CV] C=10, gamma=0.1 .................................................\n",
      "[CV] .................................. C=10, gamma=0.1, total=   0.0s\n",
      "[CV] C=10, gamma=0.1 .................................................\n",
      "[CV] .................................. C=10, gamma=0.1, total=   0.0s\n",
      "[CV] C=10, gamma=0.01 ................................................\n",
      "[CV] ................................. C=10, gamma=0.01, total=   0.0s\n",
      "[CV] C=10, gamma=0.01 ................................................\n",
      "[CV] ................................. C=10, gamma=0.01, total=   0.0s\n",
      "[CV] C=10, gamma=0.01 ................................................\n",
      "[CV] ................................. C=10, gamma=0.01, total=   0.0s\n",
      "[CV] C=10, gamma=0.01 ................................................\n",
      "[CV] ................................. C=10, gamma=0.01, total=   0.0s\n",
      "[CV] C=10, gamma=0.01 ................................................\n",
      "[CV] ................................. C=10, gamma=0.01, total=   0.0s\n",
      "[CV] C=10, gamma=0.001 ...............................................\n",
      "[CV] ................................ C=10, gamma=0.001, total=   0.0s\n",
      "[CV] C=10, gamma=0.001 ...............................................\n",
      "[CV] ................................ C=10, gamma=0.001, total=   0.0s\n",
      "[CV] C=10, gamma=0.001 ...............................................\n",
      "[CV] ................................ C=10, gamma=0.001, total=   0.0s\n",
      "[CV] C=10, gamma=0.001 ...............................................\n",
      "[CV] ................................ C=10, gamma=0.001, total=   0.0s\n",
      "[CV] C=10, gamma=0.001 ...............................................\n",
      "[CV] ................................ C=10, gamma=0.001, total=   0.0s\n",
      "[CV] C=100, gamma=1 ..................................................\n",
      "[CV] ................................... C=100, gamma=1, total=   0.0s\n",
      "[CV] C=100, gamma=1 ..................................................\n",
      "[CV] ................................... C=100, gamma=1, total=   0.0s\n",
      "[CV] C=100, gamma=1 ..................................................\n",
      "[CV] ................................... C=100, gamma=1, total=   0.0s\n",
      "[CV] C=100, gamma=1 ..................................................\n",
      "[CV] ................................... C=100, gamma=1, total=   0.0s\n",
      "[CV] C=100, gamma=1 ..................................................\n"
     ]
    },
    {
     "name": "stdout",
     "output_type": "stream",
     "text": [
      "[CV] ................................... C=100, gamma=1, total=   0.0s\n",
      "[CV] C=100, gamma=0.1 ................................................\n",
      "[CV] ................................. C=100, gamma=0.1, total=   0.0s\n",
      "[CV] C=100, gamma=0.1 ................................................\n",
      "[CV] ................................. C=100, gamma=0.1, total=   0.0s\n",
      "[CV] C=100, gamma=0.1 ................................................\n",
      "[CV] ................................. C=100, gamma=0.1, total=   0.0s\n",
      "[CV] C=100, gamma=0.1 ................................................\n",
      "[CV] ................................. C=100, gamma=0.1, total=   0.0s\n",
      "[CV] C=100, gamma=0.1 ................................................\n",
      "[CV] ................................. C=100, gamma=0.1, total=   0.0s\n",
      "[CV] C=100, gamma=0.01 ...............................................\n",
      "[CV] ................................ C=100, gamma=0.01, total=   0.0s\n",
      "[CV] C=100, gamma=0.01 ...............................................\n",
      "[CV] ................................ C=100, gamma=0.01, total=   0.0s\n",
      "[CV] C=100, gamma=0.01 ...............................................\n",
      "[CV] ................................ C=100, gamma=0.01, total=   0.0s\n",
      "[CV] C=100, gamma=0.01 ...............................................\n",
      "[CV] ................................ C=100, gamma=0.01, total=   0.0s\n",
      "[CV] C=100, gamma=0.01 ...............................................\n",
      "[CV] ................................ C=100, gamma=0.01, total=   0.0s\n",
      "[CV] C=100, gamma=0.001 ..............................................\n",
      "[CV] ............................... C=100, gamma=0.001, total=   0.0s\n",
      "[CV] C=100, gamma=0.001 ..............................................\n",
      "[CV] ............................... C=100, gamma=0.001, total=   0.0s\n",
      "[CV] C=100, gamma=0.001 ..............................................\n",
      "[CV] ............................... C=100, gamma=0.001, total=   0.0s\n",
      "[CV] C=100, gamma=0.001 ..............................................\n",
      "[CV] ............................... C=100, gamma=0.001, total=   0.0s\n",
      "[CV] C=100, gamma=0.001 ..............................................\n",
      "[CV] ............................... C=100, gamma=0.001, total=   0.0s\n"
     ]
    },
    {
     "name": "stderr",
     "output_type": "stream",
     "text": [
      "[Parallel(n_jobs=1)]: Done  80 out of  80 | elapsed:    2.4s finished\n"
     ]
    },
    {
     "data": {
      "text/plain": [
       "{'C': 100, 'gamma': 0.01}"
      ]
     },
     "execution_count": 86,
     "metadata": {},
     "output_type": "execute_result"
    }
   ],
   "source": [
    "from sklearn.model_selection import GridSearchCV\n",
    "param_grid = {'C':[0.1, 1, 10, 100], 'gamma':[1, 0.1, 0.01, 0.001]};\n",
    "grid = GridSearchCV(SVM1,param_grid,refit=True,verbose = 2);\n",
    "grid.fit(X_train, Y_train);\n",
    "grid.best_params_"
   ]
  },
  {
   "cell_type": "code",
   "execution_count": null,
   "metadata": {},
   "outputs": [],
   "source": [
    "param_grid = {'n_estimators':[1, 10, 50, 100], 'max_features':[1, 2, 3, 4,5,6]};\n",
    "grid = GridSearchCV(RF,param_grid,refit=True,verbose = 2);\n",
    "grid.fit(X_train, Y_train);\n",
    "grid.best_params_"
   ]
  },
  {
   "cell_type": "code",
   "execution_count": null,
   "metadata": {},
   "outputs": [],
   "source": []
  }
 ],
 "metadata": {
  "kernelspec": {
   "display_name": "Python 3",
   "language": "python",
   "name": "python3"
  },
  "language_info": {
   "codemirror_mode": {
    "name": "ipython",
    "version": 3
   },
   "file_extension": ".py",
   "mimetype": "text/x-python",
   "name": "python",
   "nbconvert_exporter": "python",
   "pygments_lexer": "ipython3",
   "version": "3.7.6"
  }
 },
 "nbformat": 4,
 "nbformat_minor": 4
}
